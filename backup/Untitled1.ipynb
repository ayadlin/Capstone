{
 "cells": [
  {
   "cell_type": "code",
   "execution_count": 3,
   "metadata": {},
   "outputs": [],
   "source": [
    "import os, errno\n",
    "from os import path\n",
    "import requests\n",
    "from bs4 import BeautifulSoup as bs\n",
    "#import regex as re\n",
    "import copy\n",
    "import pandas as pd\n",
    "#from urlparse import urlparse\n",
    "#from datetime import datetime"
   ]
  },
  {
   "cell_type": "code",
   "execution_count": 14,
   "metadata": {},
   "outputs": [],
   "source": [
    "file = bs(open(\"test.pdf.html\"),'lxml')"
   ]
  },
  {
   "cell_type": "code",
   "execution_count": 16,
   "metadata": {},
   "outputs": [
    {
     "name": "stdout",
     "output_type": "stream",
     "text": [
      "<?xml version=\"1.0\" encoding=\"UTF-8\"?>\n",
      "<html xmlns=\"http://www.w3.org/1999/xhtml\">\n",
      " <head>\n",
      "  <title>\n",
      "   Abstract\n",
      "  </title>\n",
      "  <style type=\"text/css\">\n",
      "   BODY { \n",
      "\t\t\t\tmargin: 0px; padding: 15px;\n",
      "\t\t\t\tfont-family: Verdana, Geneva, sans-serif;\n",
      "\t\t\t\tfont-size: 12px; color: #000;\n",
      "\t\t\t}\n",
      "\t\t\t.field_name {\n",
      "\t\t\t\tborder: 1px solid #CCC; padding: 5px; width: 80px;\n",
      "\t\t\t\ttext-align: left; font-weight: bold; font-size: 12px;\n",
      "\t\t\t}\n",
      "\t\t\t.field_value {\n",
      "\t\t\t\tborder: 1px solid #CCC; padding: 5px; \n",
      "\t\t\t\ttext-align: right; font-size: 12px;\n",
      "\t\t\t}\n",
      "\t\t\t#expand { padding-right: 2px; cursor: pointer; }\n",
      "  </style>\n",
      "  <meta content=\"1\" name=\"quosa.abstract\"/>\n",
      " </head>\n",
      " <body>\n",
      "  <div style=\"font-weight: bold; font-size: 18px; padding-bottom: 5px;\">\n",
      "   Kinase pathway dependence in primary human leukemias determined by rapid inhibitor screening.\n",
      "  </div>\n",
      "  <div style=\"padding: 2px; font-size: 12px; padding-left: 5px; font-style: italic;\">\n",
      "   <span style=\"font-weight: bold; font-style: normal;\">\n",
      "    Authors:\n",
      "   </span>\n",
      "   Tyner JW,Yang WF,Bankhead A 3rd,Fan G,Fletcher LB,Bryant J,Glover JM,Chang BH,Spurgeon SE,Fleming WH,Kovacsovics T,Gotlib JR,Oh ST,Deininger MW,Zwaan CM,Den Boer ML,van den Heuvel-Eibrink MM,O'Hare T,Druker BJ,Loriaux MM\n",
      "  </div>\n",
      "  <div style=\"padding: 2px; font-size: 12px; padding-left: 5px; font-style: italic;\">\n",
      "   <span style=\"font-weight: bold; font-style: normal;\">\n",
      "    Source:\n",
      "   </span>\n",
      "   Cancer Res. 2013 Jan 1;73(1):285-96.\n",
      "  </div>\n",
      "  <div style=\"height: 1px; overflow: hidden; background-color: #ccc; margin-top: 15px;\">\n",
      "  </div>\n",
      "  <div style=\"padding: 2px; padding-left: 5px; margin-top: 15px;\">\n",
      "   <div style=\"font-weight: bold;\">\n",
      "    Abstract:\n",
      "   </div>\n",
      "   <p style=\"text-align: justify; padding: 0px; margin: 0px; text-indent: 10px;\">\n",
      "    Kinases are dysregulated in most cancers, but the frequency of specific kinase mutations is low, indicating a complex etiology in kinase dysregulation. Here, we report a strategy to rapidly identify functionally important kinase targets, irrespective of the etiology of kinase pathway dysregulation, ultimately enabling a correlation of patient genetic profiles to clinically effective kinase inhibitors. Our methodology assessed the sensitivity of primary leukemia patient samples to a panel of 66 small-molecule kinase inhibitors over 3 days. Screening of 151 leukemia patient samples revealed a wide diversity of drug sensitivities, with 70% of the clinical specimens exhibiting hypersensitivity to one or more drugs. From this data set, we developed an algorithm to predict kinase pathway dependence based on analysis of inhibitor sensitivity patterns. Applying this algorithm correctly identified pathway dependence in proof-of-principle specimens with known oncogenes, including a rare FLT3 mutation outside regions covered by standard molecular diagnostic tests. Interrogation of all 151 patient specimens with this algorithm identified a diversity of kinase targets and signaling pathways that could aid prioritization of deep sequencing data sets, permitting a cumulative analysis to understand kinase pathway dependence within leukemia subsets. In a proof-of-principle case, we showed that in vitro drug sensitivity could predict both a clinical response and the development of drug resistance. Taken together, our results suggested that drug target scores derived from a comprehensive kinase inhibitor panel could predict pathway dependence in cancer cells while simultaneously identifying potential therapeutic options.\n",
      "   </p>\n",
      "  </div>\n",
      "  <div style=\"padding: 2px; font-size: 12px; padding-left: 5px; font-style: italic; padding-top: 20px;\">\n",
      "   <a href=\"https://www.ncbi.nlm.nih.gov/sites/entrez?Db=pubmed&amp;Cmd=ShowDetailView&amp;TermToSearch=23087056\" style=\"font-weight: bold; font-style: normal;\">\n",
      "    Click here to view PubMed abstract\n",
      "   </a>\n",
      "  </div>\n",
      " </body>\n",
      "</html>\n"
     ]
    }
   ],
   "source": [
    "\n",
    "print(file.prettify());"
   ]
  },
  {
   "cell_type": "code",
   "execution_count": 32,
   "metadata": {},
   "outputs": [
    {
     "name": "stdout",
     "output_type": "stream",
     "text": [
      "<body><div style=\"font-weight: bold; font-size: 18px; padding-bottom: 5px;\">Kinase pathway dependence in primary human leukemias determined by rapid inhibitor screening.</div><div style=\"padding: 2px; font-size: 12px; padding-left: 5px; font-style: italic;\"><span style=\"font-weight: bold; font-style: normal;\">Authors: </span>Tyner JW,Yang WF,Bankhead A 3rd,Fan G,Fletcher LB,Bryant J,Glover JM,Chang BH,Spurgeon SE,Fleming WH,Kovacsovics T,Gotlib JR,Oh ST,Deininger MW,Zwaan CM,Den Boer ML,van den Heuvel-Eibrink MM,O'Hare T,Druker BJ,Loriaux MM</div><div style=\"padding: 2px; font-size: 12px; padding-left: 5px; font-style: italic;\"><span style=\"font-weight: bold; font-style: normal;\">Source: </span>Cancer Res. 2013 Jan 1;73(1):285-96. </div><div style=\"height: 1px; overflow: hidden; background-color: #ccc; margin-top: 15px;\"></div><div style=\"padding: 2px; padding-left: 5px; margin-top: 15px;\"><div style=\"font-weight: bold;\">Abstract:</div><p style=\"text-align: justify; padding: 0px; margin: 0px; text-indent: 10px;\">Kinases are dysregulated in most cancers, but the frequency of specific kinase mutations is low, indicating a complex etiology in kinase dysregulation. Here, we report a strategy to rapidly identify functionally important kinase targets, irrespective of the etiology of kinase pathway dysregulation, ultimately enabling a correlation of patient genetic profiles to clinically effective kinase inhibitors. Our methodology assessed the sensitivity of primary leukemia patient samples to a panel of 66 small-molecule kinase inhibitors over 3 days. Screening of 151 leukemia patient samples revealed a wide diversity of drug sensitivities, with 70% of the clinical specimens exhibiting hypersensitivity to one or more drugs. From this data set, we developed an algorithm to predict kinase pathway dependence based on analysis of inhibitor sensitivity patterns. Applying this algorithm correctly identified pathway dependence in proof-of-principle specimens with known oncogenes, including a rare FLT3 mutation outside regions covered by standard molecular diagnostic tests. Interrogation of all 151 patient specimens with this algorithm identified a diversity of kinase targets and signaling pathways that could aid prioritization of deep sequencing data sets, permitting a cumulative analysis to understand kinase pathway dependence within leukemia subsets. In a proof-of-principle case, we showed that in vitro drug sensitivity could predict both a clinical response and the development of drug resistance. Taken together, our results suggested that drug target scores derived from a comprehensive kinase inhibitor panel could predict pathway dependence in cancer cells while simultaneously identifying potential therapeutic options.</p></div><div style=\"padding: 2px; font-size: 12px; padding-left: 5px; font-style: italic; padding-top: 20px;\"><a href=\"https://www.ncbi.nlm.nih.gov/sites/entrez?Db=pubmed&amp;Cmd=ShowDetailView&amp;TermToSearch=23087056\" style=\"font-weight: bold; font-style: normal;\">Click here to view PubMed abstract</a></div></body>\n"
     ]
    }
   ],
   "source": [
    "print(file.body)"
   ]
  },
  {
   "cell_type": "code",
   "execution_count": 43,
   "metadata": {},
   "outputs": [
    {
     "name": "stdout",
     "output_type": "stream",
     "text": [
      "[<div style=\"padding: 2px; font-size: 12px; padding-left: 5px; font-style: italic;\"><span style=\"font-weight: bold; font-style: normal;\">Authors: </span>Tyner JW,Yang WF,Bankhead A 3rd,Fan G,Fletcher LB,Bryant J,Glover JM,Chang BH,Spurgeon SE,Fleming WH,Kovacsovics T,Gotlib JR,Oh ST,Deininger MW,Zwaan CM,Den Boer ML,van den Heuvel-Eibrink MM,O'Hare T,Druker BJ,Loriaux MM</div>, <div style=\"padding: 2px; font-size: 12px; padding-left: 5px; font-style: italic;\"><span style=\"font-weight: bold; font-style: normal;\">Source: </span>Cancer Res. 2013 Jan 1;73(1):285-96. </div>]\n"
     ]
    }
   ],
   "source": [
    "div = soup.find_all(\"div\", {\"style\": \"padding: 2px; font-size: 12px; padding-left: 5px; font-style: italic;\"})\n",
    "#div = soup.find(\"div\", {\"class\": \"node-title fieldlayout node-field-title\"})  \n",
    "print(div)"
   ]
  },
  {
   "cell_type": "code",
   "execution_count": 54,
   "metadata": {},
   "outputs": [],
   "source": [
    "a = str(div[1])"
   ]
  },
  {
   "cell_type": "code",
   "execution_count": 55,
   "metadata": {},
   "outputs": [
    {
     "data": {
      "text/plain": [
       "'<div style=\"padding: 2px; font-size: 12px; padding-left: 5px; font-style: italic;\"><span style=\"font-weight: bold; font-style: normal;\">Source: </span>Cancer Res. 2013 Jan 1;73(1):285-96. </div>'"
      ]
     },
     "execution_count": 55,
     "metadata": {},
     "output_type": "execute_result"
    }
   ],
   "source": [
    "a"
   ]
  },
  {
   "cell_type": "code",
   "execution_count": 62,
   "metadata": {},
   "outputs": [
    {
     "data": {
      "text/plain": [
       "151"
      ]
     },
     "execution_count": 62,
     "metadata": {},
     "output_type": "execute_result"
    }
   ],
   "source": [
    "a.find('Source:')+15"
   ]
  },
  {
   "cell_type": "code",
   "execution_count": 57,
   "metadata": {},
   "outputs": [
    {
     "data": {
      "text/plain": [
       "188"
      ]
     },
     "execution_count": 57,
     "metadata": {},
     "output_type": "execute_result"
    }
   ],
   "source": [
    "a.find('</div>')"
   ]
  },
  {
   "cell_type": "code",
   "execution_count": 66,
   "metadata": {
    "collapsed": true
   },
   "outputs": [],
   "source": [
    "source = a[a.find('Source:')+15:a.find('</div>')-1]"
   ]
  },
  {
   "cell_type": "code",
   "execution_count": 67,
   "metadata": {},
   "outputs": [
    {
     "data": {
      "text/plain": [
       "'Cancer Res. 2013 Jan 1;73(1):285-96.'"
      ]
     },
     "execution_count": 67,
     "metadata": {},
     "output_type": "execute_result"
    }
   ],
   "source": [
    "source"
   ]
  },
  {
   "cell_type": "code",
   "execution_count": 94,
   "metadata": {},
   "outputs": [],
   "source": [
    "def find_source(doc):\n",
    "    doc = doc+'.html'\n",
    "    print(doc)\n",
    "    file = bs(open(doc),'lxml') \n",
    "    div = soup.find_all(\"div\", {\"style\": \"padding: 2px; font-size: 12px; padding-left: 5px; font-style: italic;\"})\n",
    "    text = str(div[1])\n",
    "    start = text.find('Source:') + 15\n",
    "    end = text.find('</div>')-1\n",
    "    source = text[start:end]\n",
    "    return source"
   ]
  },
  {
   "cell_type": "code",
   "execution_count": 95,
   "metadata": {},
   "outputs": [
    {
     "name": "stdout",
     "output_type": "stream",
     "text": [
      "test.pdf.html\n"
     ]
    },
    {
     "data": {
      "text/plain": [
       "'Cancer Res. 2013 Jan 1;73(1):285-96.'"
      ]
     },
     "execution_count": 95,
     "metadata": {},
     "output_type": "execute_result"
    }
   ],
   "source": [
    "find_source('test.pdf')"
   ]
  },
  {
   "cell_type": "code",
   "execution_count": null,
   "metadata": {
    "collapsed": true
   },
   "outputs": [],
   "source": []
  }
 ],
 "metadata": {
  "kernelspec": {
   "display_name": "Python 3",
   "language": "python",
   "name": "python3"
  },
  "language_info": {
   "codemirror_mode": {
    "name": "ipython",
    "version": 3
   },
   "file_extension": ".py",
   "mimetype": "text/x-python",
   "name": "python",
   "nbconvert_exporter": "python",
   "pygments_lexer": "ipython3",
   "version": "3.6.0"
  }
 },
 "nbformat": 4,
 "nbformat_minor": 2
}
