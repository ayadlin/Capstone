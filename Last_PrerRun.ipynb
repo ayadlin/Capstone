{
 "cells": [
  {
   "cell_type": "code",
   "execution_count": 59,
   "metadata": {
    "collapsed": true
   },
   "outputs": [],
   "source": [
    "import tokenizer\n",
    "import pickle\n",
    "import pandas as pd\n",
    "import numpy as np\n",
    "import glob\n",
    "import os\n",
    "import string\n",
    "from nltk.tokenize import sent_tokenize\n",
    "from nltk.tokenize import word_tokenize\n",
    "from nltk.corpus import stopwords\n",
    "from nltk.stem.porter import PorterStemmer\n",
    "from nltk.util import ngrams\n",
    "import json\n",
    "import sparse_matrix_functions\n",
    "import scipy.sparse as scs\n",
    "from IPython.display import display\n",
    "import matplotlib.pyplot as plt\n",
    "%matplotlib inline"
   ]
  },
  {
   "cell_type": "code",
   "execution_count": 2,
   "metadata": {
    "collapsed": true
   },
   "outputs": [],
   "source": [
    "path = '/Users/ale/Dropbox (Yadlin Family)/galvanize/capstone/*.txt'"
   ]
  },
  {
   "cell_type": "code",
   "execution_count": null,
   "metadata": {
    "collapsed": true
   },
   "outputs": [],
   "source": [
    "with open(\"gene_dictionary_final.pickle\", \"rb\") as dict_gene:\n",
    "        gene_dict = pickle.load(dict_gene)"
   ]
  },
  {
   "cell_type": "code",
   "execution_count": null,
   "metadata": {
    "collapsed": true
   },
   "outputs": [],
   "source": [
    "gene_keys = set(gene_dict.keys())\n",
    "gene_values = set(gene_dict.values())"
   ]
  },
  {
   "cell_type": "code",
   "execution_count": null,
   "metadata": {},
   "outputs": [],
   "source": [
    "gene_dict['her2']"
   ]
  },
  {
   "cell_type": "code",
   "execution_count": null,
   "metadata": {
    "collapsed": true
   },
   "outputs": [],
   "source": [
    "with open(\"drug_dictionary_final.pickle\", \"rb\") as dict_drug:\n",
    "        drug_dict = pickle.load(dict_drug)"
   ]
  },
  {
   "cell_type": "code",
   "execution_count": null,
   "metadata": {
    "collapsed": true
   },
   "outputs": [],
   "source": [
    "drug_keys = set(drug_dict.keys())\n",
    "drug_values = set(drug_dict.values())"
   ]
  },
  {
   "cell_type": "code",
   "execution_count": null,
   "metadata": {
    "collapsed": true
   },
   "outputs": [],
   "source": [
    "'#doxorubicin hydrochloride#' in drug_values"
   ]
  },
  {
   "cell_type": "code",
   "execution_count": null,
   "metadata": {
    "collapsed": true
   },
   "outputs": [],
   "source": [
    "drug_dict['acridine carboxamide']"
   ]
  },
  {
   "cell_type": "code",
   "execution_count": null,
   "metadata": {
    "collapsed": true
   },
   "outputs": [],
   "source": [
    "with open(\"greek_alphabet.pickle\", \"rb\") as dict_greek:\n",
    "        greek_dict = pickle.load(dict_greek)"
   ]
  },
  {
   "cell_type": "code",
   "execution_count": 3,
   "metadata": {
    "collapsed": true
   },
   "outputs": [],
   "source": [
    "import data_frame_creator\n",
    "import sparse_matrix_functions"
   ]
  },
  {
   "cell_type": "code",
   "execution_count": 4,
   "metadata": {
    "collapsed": true
   },
   "outputs": [],
   "source": [
    "test=data_frame_creator.sparse_create_data_frame(path, short_list=True, min_df=0)"
   ]
  },
  {
   "cell_type": "code",
   "execution_count": 5,
   "metadata": {
    "collapsed": true
   },
   "outputs": [],
   "source": [
    "vocab_matrix =test[0]\n",
    "vocab_matrix[vocab_matrix>1]=1\n",
    "vocab_columns = test[1]\n",
    "doc_names = test[2] \n",
    "orig_sentences =test[3]"
   ]
  },
  {
   "cell_type": "code",
   "execution_count": 6,
   "metadata": {
    "collapsed": true
   },
   "outputs": [],
   "source": [
    "col_idx=sparse_matrix_functions.column_indexing(vocab_columns)"
   ]
  },
  {
   "cell_type": "code",
   "execution_count": 63,
   "metadata": {},
   "outputs": [],
   "source": [
    "test_matrix_all = sparse_matrix_functions.pick_network_type(vocab_matrix, vocab_columns,kind='a')"
   ]
  },
  {
   "cell_type": "code",
   "execution_count": 64,
   "metadata": {},
   "outputs": [
    {
     "data": {
      "text/plain": [
       "<2892x398 sparse matrix of type '<class 'numpy.float64'>'\n",
       "\twith 5640 stored elements in Compressed Sparse Row format>"
      ]
     },
     "execution_count": 64,
     "metadata": {},
     "output_type": "execute_result"
    }
   ],
   "source": [
    "test_matrix_all"
   ]
  },
  {
   "cell_type": "code",
   "execution_count": 8,
   "metadata": {},
   "outputs": [],
   "source": [
    "test_matrix_r = sparse_matrix_functions.pick_network_type(vocab_matrix,vocab_columns,'r')"
   ]
  },
  {
   "cell_type": "code",
   "execution_count": 9,
   "metadata": {},
   "outputs": [],
   "source": [
    "test_matrix_s = sparse_matrix_functions.pick_network_type(vocab_matrix,vocab_columns,kind='s')"
   ]
  },
  {
   "cell_type": "code",
   "execution_count": 10,
   "metadata": {},
   "outputs": [
    {
     "data": {
      "text/plain": [
       "<2892x399 sparse matrix of type '<class 'numpy.int64'>'\n",
       "\twith 2930 stored elements in Compressed Sparse Row format>"
      ]
     },
     "execution_count": 10,
     "metadata": {},
     "output_type": "execute_result"
    }
   ],
   "source": [
    "vocab_matrix"
   ]
  },
  {
   "cell_type": "code",
   "execution_count": 49,
   "metadata": {},
   "outputs": [
    {
     "data": {
      "text/plain": [
       "scipy.sparse.coo.coo_matrix"
      ]
     },
     "execution_count": 49,
     "metadata": {},
     "output_type": "execute_result"
    }
   ],
   "source": [
    "type(test_matrix_all)"
   ]
  },
  {
   "cell_type": "code",
   "execution_count": 12,
   "metadata": {},
   "outputs": [
    {
     "data": {
      "text/plain": [
       "<135x398 sparse matrix of type '<class 'numpy.int64'>'\n",
       "\twith 428 stored elements in Compressed Sparse Row format>"
      ]
     },
     "execution_count": 12,
     "metadata": {},
     "output_type": "execute_result"
    }
   ],
   "source": [
    "test_matrix_r"
   ]
  },
  {
   "cell_type": "code",
   "execution_count": 50,
   "metadata": {},
   "outputs": [
    {
     "data": {
      "text/plain": [
       "scipy.sparse.csr.csr_matrix"
      ]
     },
     "execution_count": 50,
     "metadata": {},
     "output_type": "execute_result"
    }
   ],
   "source": [
    "type(test_matrix_s)"
   ]
  },
  {
   "cell_type": "code",
   "execution_count": 58,
   "metadata": {},
   "outputs": [
    {
     "data": {
      "text/plain": [
       "<1x2 sparse matrix of type '<class 'numpy.int64'>'\n",
       "\twith 2 stored elements in Compressed Sparse Row format>"
      ]
     },
     "execution_count": 58,
     "metadata": {},
     "output_type": "execute_result"
    }
   ],
   "source": [
    "scs.csr_matrix([1,1])"
   ]
  },
  {
   "cell_type": "code",
   "execution_count": null,
   "metadata": {
    "collapsed": true
   },
   "outputs": [],
   "source": [
    "non_empty_rows = sparse_matrix_functions.non_zero_rows(vocab_matrix)"
   ]
  },
  {
   "cell_type": "code",
   "execution_count": null,
   "metadata": {
    "collapsed": true
   },
   "outputs": [],
   "source": [
    "sentences = [orig_sentences[i] for i in non_empty_rows]"
   ]
  },
  {
   "cell_type": "code",
   "execution_count": null,
   "metadata": {
    "collapsed": true
   },
   "outputs": [],
   "source": [
    "files = [doc_names[i] for i in non_empty_rows]"
   ]
  },
  {
   "cell_type": "code",
   "execution_count": null,
   "metadata": {
    "collapsed": true
   },
   "outputs": [],
   "source": [
    "vocab_mat_clean=sparse_matrix_functions.remove_zero_rows(vocab_matrix)"
   ]
  },
  {
   "cell_type": "code",
   "execution_count": null,
   "metadata": {
    "collapsed": true
   },
   "outputs": [],
   "source": [
    "vocab_mat_clean"
   ]
  },
  {
   "cell_type": "code",
   "execution_count": null,
   "metadata": {},
   "outputs": [],
   "source": [
    "vocab_matrix.shape"
   ]
  },
  {
   "cell_type": "code",
   "execution_count": null,
   "metadata": {},
   "outputs": [],
   "source": [
    "print(list(vocab_matrix[:,vocab_columns.index('sensit')].indices))"
   ]
  },
  {
   "cell_type": "code",
   "execution_count": null,
   "metadata": {},
   "outputs": [],
   "source": [
    "sensit2"
   ]
  },
  {
   "cell_type": "code",
   "execution_count": null,
   "metadata": {
    "collapsed": true
   },
   "outputs": [],
   "source": []
  },
  {
   "cell_type": "code",
   "execution_count": 14,
   "metadata": {},
   "outputs": [],
   "source": [
    "network_genes=sparse_matrix_functions.get_network_rows(vocab_columns)"
   ]
  },
  {
   "cell_type": "code",
   "execution_count": 15,
   "metadata": {
    "collapsed": true
   },
   "outputs": [],
   "source": [
    "network_drugs =sparse_matrix_functions.get_network_columns(vocab_columns)"
   ]
  },
  {
   "cell_type": "code",
   "execution_count": 104,
   "metadata": {},
   "outputs": [
    {
     "data": {
      "text/plain": [
       "{0: '#afuresertib#',\n",
       " 1: '#akt inhibitor gsk2141795#',\n",
       " 2: '#akt inhibitor mk2206#',\n",
       " 3: '#alisertib#',\n",
       " 4: '#alpelisib#',\n",
       " 5: '#anastrozole#',\n",
       " 6: '#apatinib#',\n",
       " 7: '#bevacizumab#',\n",
       " 8: '#binimetinib#',\n",
       " 9: '#broxuridine#',\n",
       " 10: '#buparlisib#',\n",
       " 11: '#capecitabine#',\n",
       " 12: '#carbendazim#',\n",
       " 13: '#carboplatin#',\n",
       " 14: '#cetuximab#',\n",
       " 15: '#cisplatin#',\n",
       " 16: '#cixutumumab#',\n",
       " 17: '#clofarabine#',\n",
       " 18: '#cyclophosphamide#',\n",
       " 19: '#dacarbazine#',\n",
       " 20: '#dalotuzumab#',\n",
       " 21: '#daunorubicin#',\n",
       " 22: '#dexamethasone#',\n",
       " 23: '#docetaxel#',\n",
       " 24: '#doxorubicin#',\n",
       " 25: '#epirubicin#',\n",
       " 26: '#erlotinib#',\n",
       " 27: '#everolimus#',\n",
       " 28: '#exemestane#',\n",
       " 29: '#fluorouracil#',\n",
       " 30: '#folitixorin#',\n",
       " 31: '#fulvestrant#',\n",
       " 32: '#gemcitabine#',\n",
       " 33: '#hydroxyurea#',\n",
       " 34: '#infliximab#',\n",
       " 35: '#iproplatin#',\n",
       " 36: '#lenalidomide#',\n",
       " 37: '#letrozole#',\n",
       " 38: '#leucovorin calcium#',\n",
       " 39: '#mek inhibitor ci-1040#',\n",
       " 40: '#menogaril#',\n",
       " 41: '#methotrexate#',\n",
       " 42: '#mitoxantrone#',\n",
       " 43: '#mtor kinase inhibitor cc-223#',\n",
       " 44: '#neratinib#',\n",
       " 45: '#niacinamide#',\n",
       " 46: '#oxaliplatin#',\n",
       " 47: '#paclitaxel#',\n",
       " 48: '#perifosine#',\n",
       " 49: '#pertuzumab#',\n",
       " 50: '#pi3k family kinase inhibitor xl147#',\n",
       " 51: '#pi3k-beta inhibitor gsk2636771#',\n",
       " 52: '#pi3k/mtor inhibitor bez235#',\n",
       " 53: '#procarbazine#',\n",
       " 54: '#recombinant interferon#',\n",
       " 55: '#recombinant interleukin-6#',\n",
       " 56: '#resistant starch#',\n",
       " 57: '#ribociclib#',\n",
       " 58: '#ridaforolimus#',\n",
       " 59: '#selumetinib#',\n",
       " 60: '#sorafenib tosylate#',\n",
       " 61: '#tamoxifen#',\n",
       " 62: '#temsirolimus#',\n",
       " 63: '#thalidomide#',\n",
       " 64: '#trametinib#',\n",
       " 65: '#trans sodium crocetinate#',\n",
       " 66: '#trastuzumab#',\n",
       " 67: '#triciribine phosphate#',\n",
       " 68: '#vinorelbine#',\n",
       " 69: '#voxtalisib#'}"
      ]
     },
     "execution_count": 104,
     "metadata": {},
     "output_type": "execute_result"
    }
   ],
   "source": [
    "network_drugs"
   ]
  },
  {
   "cell_type": "code",
   "execution_count": 16,
   "metadata": {
    "collapsed": true
   },
   "outputs": [],
   "source": [
    "resist_network_matrix = sparse_matrix_functions.make_network_matrix(test_matrix_r, vocab_columns)"
   ]
  },
  {
   "cell_type": "code",
   "execution_count": 17,
   "metadata": {},
   "outputs": [],
   "source": [
    "pairs_r, counts_r = sparse_matrix_functions.extract_gene_drug_pairs(resist_network_matrix, network_genes, network_drugs)"
   ]
  },
  {
   "cell_type": "code",
   "execution_count": 18,
   "metadata": {
    "collapsed": true
   },
   "outputs": [],
   "source": [
    "original_indeces_r = sparse_matrix_functions.back_to_original_indeces(pairs_r, col_idx)"
   ]
  },
  {
   "cell_type": "code",
   "execution_count": 20,
   "metadata": {},
   "outputs": [],
   "source": [
    "resist_evidence_akt_lapatinib = sparse_matrix_functions.get_evidence_sentences(\n",
    "    'akt','lapatinib','r',7, test, original_indeces_r)"
   ]
  },
  {
   "cell_type": "code",
   "execution_count": 21,
   "metadata": {},
   "outputs": [
    {
     "data": {
      "text/plain": [
       "[('test.txt',\n",
       "  'Treatment of the lapatinib-resistant HER2+ cells with Src inhibitors suppressed the PI3K PTEN Akt mTOR pathway as well as  Figure 5: Sites of Targeting the EGFR PI3K PTEN Akt mTORC Pathway with Small Molecule Membrane-Permeable Inhibitors and Monoclonal Antibodies (MoAbs).')]"
      ]
     },
     "execution_count": 21,
     "metadata": {},
     "output_type": "execute_result"
    }
   ],
   "source": [
    "resist_evidence_akt_lapatinib"
   ]
  },
  {
   "cell_type": "code",
   "execution_count": 37,
   "metadata": {
    "collapsed": true
   },
   "outputs": [],
   "source": [
    "sensit_network_matrix = sparse_matrix_functions.make_network_matrix(test_matrix_s, vocab_columns)"
   ]
  },
  {
   "cell_type": "code",
   "execution_count": 38,
   "metadata": {
    "scrolled": true
   },
   "outputs": [],
   "source": [
    "pairs_s, counts_s = sparse_matrix_functions.extract_gene_drug_pairs(sensit_network_matrix, network_genes, network_drugs)"
   ]
  },
  {
   "cell_type": "code",
   "execution_count": 44,
   "metadata": {
    "collapsed": true
   },
   "outputs": [],
   "source": [
    "original_indeces_s = sparse_matrix_functions.back_to_original_indeces(pairs_s, col_idx)"
   ]
  },
  {
   "cell_type": "code",
   "execution_count": 45,
   "metadata": {},
   "outputs": [],
   "source": [
    "sensit_evidence_akt_lapatinib = sparse_matrix_functions.get_evidence_sentences(\n",
    "    'akt','lapatinib','r',7,test, original_indeces_s)"
   ]
  },
  {
   "cell_type": "code",
   "execution_count": 46,
   "metadata": {},
   "outputs": [
    {
     "data": {
      "text/plain": [
       "'There is no evidence that the prensece of the gene akt confers resistance to the drug lapatinib'"
      ]
     },
     "execution_count": 46,
     "metadata": {},
     "output_type": "execute_result"
    }
   ],
   "source": [
    "sensit_evidence_akt_lapatinib"
   ]
  },
  {
   "cell_type": "code",
   "execution_count": 83,
   "metadata": {},
   "outputs": [],
   "source": [
    "all_network_matrix = sparse_matrix_functions.make_network_matrix(test_matrix_all, vocab_columns)"
   ]
  },
  {
   "cell_type": "code",
   "execution_count": 84,
   "metadata": {
    "collapsed": true
   },
   "outputs": [],
   "source": [
    "pairs_a, counts_a = sparse_matrix_functions.extract_gene_drug_pairs(all_network_matrix, network_genes, network_drugs)"
   ]
  },
  {
   "cell_type": "code",
   "execution_count": 85,
   "metadata": {
    "collapsed": true
   },
   "outputs": [],
   "source": [
    "original_indeces_a = sparse_matrix_functions.back_to_original_indeces(pairs_a, col_idx)"
   ]
  },
  {
   "cell_type": "code",
   "execution_count": 86,
   "metadata": {},
   "outputs": [
    {
     "name": "stdout",
     "output_type": "stream",
     "text": [
      "Returning evidence of both sensitivity and resistant\n"
     ]
    }
   ],
   "source": [
    "all_evidence_akt_lapatinib = sparse_matrix_functions.get_evidence_sentences('akt','lapatinib','a',7, \n",
    "                                                                               test, original_indeces_a)"
   ]
  },
  {
   "cell_type": "code",
   "execution_count": 89,
   "metadata": {},
   "outputs": [
    {
     "data": {
      "text/plain": [
       "[('test.txt',\n",
       "  'In BT474 and MCF10A breast cancer cells transfected with the construct encoding HER2-T798M mutation, elevated HER2 kinase activity was detected and lapatinib did not block phosphorylation of HER2, EGFR3 or downstream Akt and ERK1 2.'),\n",
       " ('test.txt',\n",
       "  'Treatment of the lapatinib-resistant HER2+ cells with Src inhibitors suppressed the PI3K PTEN Akt mTOR pathway as well as  Figure 5: Sites of Targeting the EGFR PI3K PTEN Akt mTORC Pathway with Small Molecule Membrane-Permeable Inhibitors and Monoclonal Antibodies (MoAbs).'),\n",
       " ('test.txt',\n",
       "  'I  Recurrent BC, -Stage IV BC, Active, not MK2206, paclitaxel Not Unspecified Adult recruiting Provided Solid Tumor Triciribine (an Akt inhibitor), Not paclitaxel, provided doxorubicin, cyclophosphamide Cisplatin, 0941, a inhibitor GDCNot PI3K provided  I  II  Metastatic Carcinoma Stage IV  BC, Currently Breast recruiting participants  I II  ER- BC, HER- BC, TNBC, Recurrent Currently BC, Stage IV BC recruiting participants  II  HER2+, Newly Diagnosed, Primary BC Currently Neoadjuvant recruiting Therapy, participants Trastuzumab  BKM120, trastuzumab (trastuzumab = Not herceptin, a antiprovided HER2 MoAb), paclitaxel  II  BC  Not yet open Not for participant Paclitaxel, BKM120 provided study RAD001 (Afinitor everolimus), Not gemcitabine (a provided nucleoside analog), cisplatin  I II  Metastatic BC  Currently recruiting patients  II  Metastatic BC  Everolimus, Bevacizumab (vascular Ongoing, but Not endothelial not recruiting provided growth factor A inhibitor), paclitaxel  II  HER2+ BC  Recruiting  Everolimus, vinorelbine, Not trastuzumab (HER2 provided inhibibitor, MoAb) Capecitabine (a pro-drug, which is converted to 5-flurouracil (5Not FU) which inhibits provided thymidylate synthase, exemestane, Everolimus  II  BC  Recruiting  www.impactjournals.com oncotarget  4632  Oncotarget  \\x0c*A Phase III Trials Program Exploring the Integration of Bevacizumab, Everolimus (RAD001), and Lapatinib Into Current NCT00567554 Neoadjuvant Chemotherapy Regimes for Primary Breast Cancer  III  BC  Phase I, Open Label, Dose Escalation Study of the Safety, Tolerability, and Pharmacokinetics of the Combination NCT00253318 RAD001 Plus Docetaxel in Patients With Metastatic Breast Cancer Phase II, Open Label, Dose Escalation Study of the Safety, Tolerability, and Pharmacokinetics of the Combination RAD001 Plus Docetaxel in Patients With Metastatic Breast Cancer *Phase 1b 2 Single-arm Trial Evaluating the Combination of Lapatinib, Everolimus and Capecitabine for the Treatment of Patients With HER2-positive Metastatic Breast Cancer With CNS Progression After Trastuzumab *A Phase Ib II Trial of LEE011 in Combination With Everolimus (RAD001) and Exemestane in the Treatment of Postmenopausal Women With Estrogen Receptor Positive, Her2- Locally Advanced or Metastatic Breast Cancer Phase I II Study of Weekly Abraxane and RAD001 in Women With Locally Advanced or Metastatic Breast Cancer.')]"
      ]
     },
     "execution_count": 89,
     "metadata": {},
     "output_type": "execute_result"
    }
   ],
   "source": [
    "all_evidence_akt_lapatinib"
   ]
  },
  {
   "cell_type": "code",
   "execution_count": 108,
   "metadata": {},
   "outputs": [
    {
     "data": {
      "text/plain": [
       "<matplotlib.text.Text at 0x11d21c710>"
      ]
     },
     "execution_count": 108,
     "metadata": {},
     "output_type": "execute_result"
    },
    {
     "data": {
      "image/png": "[encoded data removed]",
      "text/plain": [
       "<matplotlib.figure.Figure at 0x11d17a2e8>"
      ]
     },
     "metadata": {},
     "output_type": "display_data"
    }
   ],
   "source": [
    "# Compute NMF\n",
    "from sklearn.decomposition import NMF\n",
    "\n",
    "def fit_nmf(M,r):\n",
    "    nmf = NMF(n_components=r)\n",
    "    nmf.fit(M)\n",
    "    W = nmf.transform(M)\n",
    "    H = nmf.components_\n",
    "    return nmf.reconstruction_err_\n",
    "\n",
    "error = [fit_nmf(resist_network_matrix,i) for i in range(1,10)]\n",
    "plt.plot(range(1,10), error)\n",
    "plt.xticks(range(1, 10))\n",
    "plt.xlabel('number of latent topics')\n",
    "plt.ylabel('Reconstruction Error')"
   ]
  },
  {
   "cell_type": "code",
   "execution_count": 109,
   "metadata": {},
   "outputs": [
    {
     "name": "stdout",
     "output_type": "stream",
     "text": [
      "RSS = 12.14\n"
     ]
    }
   ],
   "source": [
    "# Fit using 2 hidden concepts\n",
    "nmf = NMF(n_components=1)\n",
    "nmf.fit(resist_network_matrix)\n",
    "W = nmf.transform(resist_network_matrix)\n",
    "H = nmf.components_\n",
    "print('RSS = %.2f' % nmf.reconstruction_err_)"
   ]
  },
  {
   "cell_type": "code",
   "execution_count": 110,
   "metadata": {},
   "outputs": [
    {
     "data": {
      "text/html": [
       "<div>\n",
       "<table border=\"1\" class=\"dataframe\">\n",
       "  <thead>\n",
       "    <tr style=\"text-align: right;\">\n",
       "      <th></th>\n",
       "      <th>0</th>\n",
       "    </tr>\n",
       "  </thead>\n",
       "  <tbody>\n",
       "    <tr>\n",
       "      <th>0</th>\n",
       "      <td>0.00</td>\n",
       "    </tr>\n",
       "    <tr>\n",
       "      <th>1</th>\n",
       "      <td>0.00</td>\n",
       "    </tr>\n",
       "    <tr>\n",
       "      <th>2</th>\n",
       "      <td>0.00</td>\n",
       "    </tr>\n",
       "    <tr>\n",
       "      <th>3</th>\n",
       "      <td>0.00</td>\n",
       "    </tr>\n",
       "    <tr>\n",
       "      <th>4</th>\n",
       "      <td>0.00</td>\n",
       "    </tr>\n",
       "    <tr>\n",
       "      <th>5</th>\n",
       "      <td>0.00</td>\n",
       "    </tr>\n",
       "    <tr>\n",
       "      <th>6</th>\n",
       "      <td>0.00</td>\n",
       "    </tr>\n",
       "    <tr>\n",
       "      <th>7</th>\n",
       "      <td>0.00</td>\n",
       "    </tr>\n",
       "    <tr>\n",
       "      <th>8</th>\n",
       "      <td>0.48</td>\n",
       "    </tr>\n",
       "    <tr>\n",
       "      <th>9</th>\n",
       "      <td>0.00</td>\n",
       "    </tr>\n",
       "    <tr>\n",
       "      <th>10</th>\n",
       "      <td>0.00</td>\n",
       "    </tr>\n",
       "    <tr>\n",
       "      <th>11</th>\n",
       "      <td>0.00</td>\n",
       "    </tr>\n",
       "    <tr>\n",
       "      <th>12</th>\n",
       "      <td>0.00</td>\n",
       "    </tr>\n",
       "    <tr>\n",
       "      <th>13</th>\n",
       "      <td>0.07</td>\n",
       "    </tr>\n",
       "    <tr>\n",
       "      <th>14</th>\n",
       "      <td>0.00</td>\n",
       "    </tr>\n",
       "    <tr>\n",
       "      <th>15</th>\n",
       "      <td>0.00</td>\n",
       "    </tr>\n",
       "    <tr>\n",
       "      <th>16</th>\n",
       "      <td>0.00</td>\n",
       "    </tr>\n",
       "    <tr>\n",
       "      <th>17</th>\n",
       "      <td>0.00</td>\n",
       "    </tr>\n",
       "    <tr>\n",
       "      <th>18</th>\n",
       "      <td>0.00</td>\n",
       "    </tr>\n",
       "    <tr>\n",
       "      <th>19</th>\n",
       "      <td>0.00</td>\n",
       "    </tr>\n",
       "    <tr>\n",
       "      <th>20</th>\n",
       "      <td>0.00</td>\n",
       "    </tr>\n",
       "    <tr>\n",
       "      <th>21</th>\n",
       "      <td>0.00</td>\n",
       "    </tr>\n",
       "    <tr>\n",
       "      <th>22</th>\n",
       "      <td>0.00</td>\n",
       "    </tr>\n",
       "    <tr>\n",
       "      <th>23</th>\n",
       "      <td>0.00</td>\n",
       "    </tr>\n",
       "    <tr>\n",
       "      <th>24</th>\n",
       "      <td>0.00</td>\n",
       "    </tr>\n",
       "    <tr>\n",
       "      <th>25</th>\n",
       "      <td>0.00</td>\n",
       "    </tr>\n",
       "    <tr>\n",
       "      <th>26</th>\n",
       "      <td>0.00</td>\n",
       "    </tr>\n",
       "    <tr>\n",
       "      <th>27</th>\n",
       "      <td>0.00</td>\n",
       "    </tr>\n",
       "    <tr>\n",
       "      <th>28</th>\n",
       "      <td>0.37</td>\n",
       "    </tr>\n",
       "    <tr>\n",
       "      <th>29</th>\n",
       "      <td>0.00</td>\n",
       "    </tr>\n",
       "    <tr>\n",
       "      <th>...</th>\n",
       "      <td>...</td>\n",
       "    </tr>\n",
       "    <tr>\n",
       "      <th>297</th>\n",
       "      <td>0.00</td>\n",
       "    </tr>\n",
       "    <tr>\n",
       "      <th>298</th>\n",
       "      <td>0.00</td>\n",
       "    </tr>\n",
       "    <tr>\n",
       "      <th>299</th>\n",
       "      <td>0.00</td>\n",
       "    </tr>\n",
       "    <tr>\n",
       "      <th>300</th>\n",
       "      <td>0.00</td>\n",
       "    </tr>\n",
       "    <tr>\n",
       "      <th>301</th>\n",
       "      <td>0.00</td>\n",
       "    </tr>\n",
       "    <tr>\n",
       "      <th>302</th>\n",
       "      <td>0.02</td>\n",
       "    </tr>\n",
       "    <tr>\n",
       "      <th>303</th>\n",
       "      <td>0.00</td>\n",
       "    </tr>\n",
       "    <tr>\n",
       "      <th>304</th>\n",
       "      <td>0.00</td>\n",
       "    </tr>\n",
       "    <tr>\n",
       "      <th>305</th>\n",
       "      <td>0.00</td>\n",
       "    </tr>\n",
       "    <tr>\n",
       "      <th>306</th>\n",
       "      <td>0.00</td>\n",
       "    </tr>\n",
       "    <tr>\n",
       "      <th>307</th>\n",
       "      <td>0.00</td>\n",
       "    </tr>\n",
       "    <tr>\n",
       "      <th>308</th>\n",
       "      <td>0.19</td>\n",
       "    </tr>\n",
       "    <tr>\n",
       "      <th>309</th>\n",
       "      <td>0.00</td>\n",
       "    </tr>\n",
       "    <tr>\n",
       "      <th>310</th>\n",
       "      <td>0.00</td>\n",
       "    </tr>\n",
       "    <tr>\n",
       "      <th>311</th>\n",
       "      <td>0.00</td>\n",
       "    </tr>\n",
       "    <tr>\n",
       "      <th>312</th>\n",
       "      <td>0.00</td>\n",
       "    </tr>\n",
       "    <tr>\n",
       "      <th>313</th>\n",
       "      <td>0.00</td>\n",
       "    </tr>\n",
       "    <tr>\n",
       "      <th>314</th>\n",
       "      <td>0.00</td>\n",
       "    </tr>\n",
       "    <tr>\n",
       "      <th>315</th>\n",
       "      <td>0.00</td>\n",
       "    </tr>\n",
       "    <tr>\n",
       "      <th>316</th>\n",
       "      <td>0.00</td>\n",
       "    </tr>\n",
       "    <tr>\n",
       "      <th>317</th>\n",
       "      <td>0.00</td>\n",
       "    </tr>\n",
       "    <tr>\n",
       "      <th>318</th>\n",
       "      <td>0.00</td>\n",
       "    </tr>\n",
       "    <tr>\n",
       "      <th>319</th>\n",
       "      <td>0.00</td>\n",
       "    </tr>\n",
       "    <tr>\n",
       "      <th>320</th>\n",
       "      <td>0.00</td>\n",
       "    </tr>\n",
       "    <tr>\n",
       "      <th>321</th>\n",
       "      <td>0.00</td>\n",
       "    </tr>\n",
       "    <tr>\n",
       "      <th>322</th>\n",
       "      <td>0.00</td>\n",
       "    </tr>\n",
       "    <tr>\n",
       "      <th>323</th>\n",
       "      <td>0.00</td>\n",
       "    </tr>\n",
       "    <tr>\n",
       "      <th>324</th>\n",
       "      <td>0.00</td>\n",
       "    </tr>\n",
       "    <tr>\n",
       "      <th>325</th>\n",
       "      <td>0.00</td>\n",
       "    </tr>\n",
       "    <tr>\n",
       "      <th>326</th>\n",
       "      <td>0.00</td>\n",
       "    </tr>\n",
       "  </tbody>\n",
       "</table>\n",
       "<p>327 rows × 1 columns</p>\n",
       "</div>"
      ],
      "text/plain": [
       "        0\n",
       "0    0.00\n",
       "1    0.00\n",
       "2    0.00\n",
       "3    0.00\n",
       "4    0.00\n",
       "5    0.00\n",
       "6    0.00\n",
       "7    0.00\n",
       "8    0.48\n",
       "9    0.00\n",
       "10   0.00\n",
       "11   0.00\n",
       "12   0.00\n",
       "13   0.07\n",
       "14   0.00\n",
       "15   0.00\n",
       "16   0.00\n",
       "17   0.00\n",
       "18   0.00\n",
       "19   0.00\n",
       "20   0.00\n",
       "21   0.00\n",
       "22   0.00\n",
       "23   0.00\n",
       "24   0.00\n",
       "25   0.00\n",
       "26   0.00\n",
       "27   0.00\n",
       "28   0.37\n",
       "29   0.00\n",
       "..    ...\n",
       "297  0.00\n",
       "298  0.00\n",
       "299  0.00\n",
       "300  0.00\n",
       "301  0.00\n",
       "302  0.02\n",
       "303  0.00\n",
       "304  0.00\n",
       "305  0.00\n",
       "306  0.00\n",
       "307  0.00\n",
       "308  0.19\n",
       "309  0.00\n",
       "310  0.00\n",
       "311  0.00\n",
       "312  0.00\n",
       "313  0.00\n",
       "314  0.00\n",
       "315  0.00\n",
       "316  0.00\n",
       "317  0.00\n",
       "318  0.00\n",
       "319  0.00\n",
       "320  0.00\n",
       "321  0.00\n",
       "322  0.00\n",
       "323  0.00\n",
       "324  0.00\n",
       "325  0.00\n",
       "326  0.00\n",
       "\n",
       "[327 rows x 1 columns]"
      ]
     },
     "metadata": {},
     "output_type": "display_data"
    },
    {
     "data": {
      "text/html": [
       "<div>\n",
       "<table border=\"1\" class=\"dataframe\">\n",
       "  <thead>\n",
       "    <tr style=\"text-align: right;\">\n",
       "      <th></th>\n",
       "      <th>0</th>\n",
       "      <th>1</th>\n",
       "      <th>2</th>\n",
       "      <th>3</th>\n",
       "      <th>4</th>\n",
       "      <th>5</th>\n",
       "      <th>6</th>\n",
       "      <th>7</th>\n",
       "      <th>8</th>\n",
       "      <th>9</th>\n",
       "      <th>...</th>\n",
       "      <th>60</th>\n",
       "      <th>61</th>\n",
       "      <th>62</th>\n",
       "      <th>63</th>\n",
       "      <th>64</th>\n",
       "      <th>65</th>\n",
       "      <th>66</th>\n",
       "      <th>67</th>\n",
       "      <th>68</th>\n",
       "      <th>69</th>\n",
       "    </tr>\n",
       "  </thead>\n",
       "  <tbody>\n",
       "    <tr>\n",
       "      <th>0</th>\n",
       "      <td>0.0</td>\n",
       "      <td>0.0</td>\n",
       "      <td>0.0</td>\n",
       "      <td>0.0</td>\n",
       "      <td>0.0</td>\n",
       "      <td>0.0</td>\n",
       "      <td>1.39</td>\n",
       "      <td>0.21</td>\n",
       "      <td>0.0</td>\n",
       "      <td>0.0</td>\n",
       "      <td>...</td>\n",
       "      <td>0.21</td>\n",
       "      <td>0.41</td>\n",
       "      <td>0.21</td>\n",
       "      <td>0.21</td>\n",
       "      <td>0.0</td>\n",
       "      <td>0.0</td>\n",
       "      <td>3.92</td>\n",
       "      <td>0.28</td>\n",
       "      <td>0.17</td>\n",
       "      <td>0.0</td>\n",
       "    </tr>\n",
       "  </tbody>\n",
       "</table>\n",
       "<p>1 rows × 70 columns</p>\n",
       "</div>"
      ],
      "text/plain": [
       "    0    1    2    3    4    5     6     7    8    9  ...     60    61    62  \\\n",
       "0  0.0  0.0  0.0  0.0  0.0  0.0  1.39  0.21  0.0  0.0 ...   0.21  0.41  0.21   \n",
       "\n",
       "     63   64   65    66    67    68   69  \n",
       "0  0.21  0.0  0.0  3.92  0.28  0.17  0.0  \n",
       "\n",
       "[1 rows x 70 columns]"
      ]
     },
     "metadata": {},
     "output_type": "display_data"
    }
   ],
   "source": [
    "# Make interpretable\n",
    "W, H = (np.around(x,2) for x in (W,H))\n",
    "W = pd.DataFrame(W,index=network_genes)\n",
    "H = pd.DataFrame(H,columns=network_drugs)\n",
    "\n",
    "display(W) \n",
    "display(H)"
   ]
  },
  {
   "cell_type": "code",
   "execution_count": null,
   "metadata": {
    "collapsed": true
   },
   "outputs": [],
   "source": []
  }
 ],
 "metadata": {
  "kernelspec": {
   "display_name": "Python 3",
   "language": "python",
   "name": "python3"
  },
  "language_info": {
   "codemirror_mode": {
    "name": "ipython",
    "version": 3
   },
   "file_extension": ".py",
   "mimetype": "text/x-python",
   "name": "python",
   "nbconvert_exporter": "python",
   "pygments_lexer": "ipython3",
   "version": "3.6.0"
  }
 },
 "nbformat": 4,
 "nbformat_minor": 2
}
