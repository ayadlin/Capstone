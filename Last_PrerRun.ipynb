{
 "cells": [
  {
   "cell_type": "code",
   "execution_count": 1,
   "metadata": {
    "collapsed": true
   },
   "outputs": [],
   "source": [
    "import tokenizer\n",
    "import pickle\n",
    "import pandas as pd\n",
    "import numpy as np\n",
    "import glob\n",
    "import os\n",
    "import string\n",
    "from nltk.tokenize import sent_tokenize\n",
    "from nltk.tokenize import word_tokenize\n",
    "from nltk.corpus import stopwords\n",
    "from nltk.stem.porter import PorterStemmer\n",
    "from nltk.util import ngrams\n",
    "import json\n",
    "import sparse_matrix_functions\n",
    "import scipy.sparse as scs\n",
    "from IPython.display import display\n",
    "import matplotlib.pyplot as plt\n",
    "%matplotlib inline\n"
   ]
  },
  {
   "cell_type": "code",
   "execution_count": 2,
   "metadata": {
    "collapsed": true
   },
   "outputs": [],
   "source": [
    "path = '/Users/ale/Dropbox (Yadlin Family)/galvanize/capstone/*.txt'"
   ]
  },
  {
   "cell_type": "code",
   "execution_count": 3,
   "metadata": {
    "collapsed": true
   },
   "outputs": [],
   "source": [
    "with open(\"gene_dictionary_final.pickle\", \"rb\") as dict_gene:\n",
    "        gene_dict = pickle.load(dict_gene)"
   ]
  },
  {
   "cell_type": "code",
   "execution_count": 4,
   "metadata": {
    "collapsed": true
   },
   "outputs": [],
   "source": [
    "gene_keys = set(gene_dict.keys())\n",
    "gene_values = set(gene_dict.values())"
   ]
  },
  {
   "cell_type": "code",
   "execution_count": 5,
   "metadata": {},
   "outputs": [
    {
     "data": {
      "text/plain": [
       "'#erbb2#'"
      ]
     },
     "execution_count": 5,
     "metadata": {},
     "output_type": "execute_result"
    }
   ],
   "source": [
    "gene_dict['her2']"
   ]
  },
  {
   "cell_type": "code",
   "execution_count": 6,
   "metadata": {
    "collapsed": true
   },
   "outputs": [],
   "source": [
    "with open(\"drug_dictionary_final.pickle\", \"rb\") as dict_drug:\n",
    "        drug_dict = pickle.load(dict_drug)"
   ]
  },
  {
   "cell_type": "code",
   "execution_count": 7,
   "metadata": {
    "collapsed": true
   },
   "outputs": [],
   "source": [
    "drug_keys = set(drug_dict.keys())\n",
    "drug_values = set(drug_dict.values())"
   ]
  },
  {
   "cell_type": "code",
   "execution_count": 8,
   "metadata": {},
   "outputs": [
    {
     "data": {
      "text/plain": [
       "'#lapatinib#'"
      ]
     },
     "execution_count": 8,
     "metadata": {},
     "output_type": "execute_result"
    }
   ],
   "source": [
    "drug_dict['lapatinib']"
   ]
  },
  {
   "cell_type": "code",
   "execution_count": 9,
   "metadata": {},
   "outputs": [
    {
     "data": {
      "text/plain": [
       "False"
      ]
     },
     "execution_count": 9,
     "metadata": {},
     "output_type": "execute_result"
    }
   ],
   "source": [
    "'#doxorubicin hydrochloride#' in drug_values"
   ]
  },
  {
   "cell_type": "code",
   "execution_count": 10,
   "metadata": {},
   "outputs": [
    {
     "data": {
      "text/plain": [
       "'#acridine#'"
      ]
     },
     "execution_count": 10,
     "metadata": {},
     "output_type": "execute_result"
    }
   ],
   "source": [
    "drug_dict['acridine carboxamide']"
   ]
  },
  {
   "cell_type": "code",
   "execution_count": 11,
   "metadata": {
    "collapsed": true
   },
   "outputs": [],
   "source": [
    "with open(\"greek_alphabet.pickle\", \"rb\") as dict_greek:\n",
    "        greek_dict = pickle.load(dict_greek)"
   ]
  },
  {
   "cell_type": "code",
   "execution_count": 12,
   "metadata": {
    "collapsed": true
   },
   "outputs": [],
   "source": [
    "import data_frame_creator\n",
    "import sparse_matrix_functions"
   ]
  },
  {
   "cell_type": "code",
   "execution_count": 13,
   "metadata": {
    "collapsed": true
   },
   "outputs": [],
   "source": [
    "test=data_frame_creator.sparse_create_data_frame(path, short_list=True, min_df=0)"
   ]
  },
  {
   "cell_type": "code",
   "execution_count": 14,
   "metadata": {
    "collapsed": true
   },
   "outputs": [],
   "source": [
    "vocab_matrix =test[0]\n",
    "vocab_matrix[vocab_matrix>1]=1\n",
    "vocab_columns = test[1]\n",
    "doc_names = test[2] \n",
    "orig_sentences =test[3]"
   ]
  },
  {
   "cell_type": "code",
   "execution_count": 15,
   "metadata": {
    "collapsed": true
   },
   "outputs": [],
   "source": [
    "col_idx=sparse_matrix_functions.column_indexing(vocab_columns)"
   ]
  },
  {
   "cell_type": "code",
   "execution_count": 19,
   "metadata": {},
   "outputs": [
    {
     "data": {
      "text/plain": [
       "True"
      ]
     },
     "execution_count": 19,
     "metadata": {},
     "output_type": "execute_result"
    }
   ],
   "source": [
    "'#lapatinib#'in vocab_columns"
   ]
  },
  {
   "cell_type": "code",
   "execution_count": 20,
   "metadata": {},
   "outputs": [],
   "source": [
    "test_matrix_all = sparse_matrix_functions.pick_network_type(vocab_matrix, vocab_columns,kind='a')"
   ]
  },
  {
   "cell_type": "code",
   "execution_count": 21,
   "metadata": {},
   "outputs": [
    {
     "data": {
      "text/plain": [
       "<2892x398 sparse matrix of type '<class 'numpy.float64'>'\n",
       "\twith 5640 stored elements in Compressed Sparse Row format>"
      ]
     },
     "execution_count": 21,
     "metadata": {},
     "output_type": "execute_result"
    }
   ],
   "source": [
    "test_matrix_all"
   ]
  },
  {
   "cell_type": "code",
   "execution_count": 22,
   "metadata": {},
   "outputs": [],
   "source": [
    "test_matrix_r = sparse_matrix_functions.pick_network_type(vocab_matrix,vocab_columns,'r')"
   ]
  },
  {
   "cell_type": "code",
   "execution_count": 23,
   "metadata": {},
   "outputs": [],
   "source": [
    "test_matrix_s = sparse_matrix_functions.pick_network_type(vocab_matrix,vocab_columns,kind='s')"
   ]
  },
  {
   "cell_type": "code",
   "execution_count": 24,
   "metadata": {},
   "outputs": [
    {
     "data": {
      "text/plain": [
       "<2892x399 sparse matrix of type '<class 'numpy.int64'>'\n",
       "\twith 2930 stored elements in Compressed Sparse Row format>"
      ]
     },
     "execution_count": 24,
     "metadata": {},
     "output_type": "execute_result"
    }
   ],
   "source": [
    "vocab_matrix"
   ]
  },
  {
   "cell_type": "code",
   "execution_count": 25,
   "metadata": {},
   "outputs": [
    {
     "data": {
      "text/plain": [
       "<135x398 sparse matrix of type '<class 'numpy.int64'>'\n",
       "\twith 428 stored elements in Compressed Sparse Row format>"
      ]
     },
     "execution_count": 25,
     "metadata": {},
     "output_type": "execute_result"
    }
   ],
   "source": [
    "test_matrix_r"
   ]
  },
  {
   "cell_type": "code",
   "execution_count": 26,
   "metadata": {},
   "outputs": [
    {
     "data": {
      "text/plain": [
       "scipy.sparse.csr.csr_matrix"
      ]
     },
     "execution_count": 26,
     "metadata": {},
     "output_type": "execute_result"
    }
   ],
   "source": [
    "type(test_matrix_s)"
   ]
  },
  {
   "cell_type": "code",
   "execution_count": null,
   "metadata": {
    "collapsed": true
   },
   "outputs": [],
   "source": [
    "non_empty_rows = sparse_matrix_functions.non_zero_rows(vocab_matrix)"
   ]
  },
  {
   "cell_type": "code",
   "execution_count": null,
   "metadata": {
    "collapsed": true
   },
   "outputs": [],
   "source": [
    "sentences = [orig_sentences[i] for i in non_empty_rows]"
   ]
  },
  {
   "cell_type": "code",
   "execution_count": null,
   "metadata": {
    "collapsed": true
   },
   "outputs": [],
   "source": [
    "files = [doc_names[i] for i in non_empty_rows]"
   ]
  },
  {
   "cell_type": "code",
   "execution_count": null,
   "metadata": {
    "collapsed": true
   },
   "outputs": [],
   "source": [
    "vocab_mat_clean=sparse_matrix_functions.remove_zero_rows(vocab_matrix)"
   ]
  },
  {
   "cell_type": "code",
   "execution_count": null,
   "metadata": {
    "collapsed": true
   },
   "outputs": [],
   "source": [
    "vocab_mat_clean"
   ]
  },
  {
   "cell_type": "code",
   "execution_count": null,
   "metadata": {},
   "outputs": [],
   "source": [
    "vocab_matrix.shape"
   ]
  },
  {
   "cell_type": "code",
   "execution_count": null,
   "metadata": {},
   "outputs": [],
   "source": [
    "print(list(vocab_matrix[:,vocab_columns.index('sensit')].indices))"
   ]
  },
  {
   "cell_type": "code",
   "execution_count": null,
   "metadata": {},
   "outputs": [],
   "source": [
    "sensit2"
   ]
  },
  {
   "cell_type": "code",
   "execution_count": null,
   "metadata": {
    "collapsed": true
   },
   "outputs": [],
   "source": []
  },
  {
   "cell_type": "code",
   "execution_count": 27,
   "metadata": {},
   "outputs": [],
   "source": [
    "network_genes=sparse_matrix_functions.get_network_rows(vocab_columns)"
   ]
  },
  {
   "cell_type": "code",
   "execution_count": 28,
   "metadata": {
    "collapsed": true
   },
   "outputs": [],
   "source": [
    "network_drugs =sparse_matrix_functions.get_network_columns(vocab_columns)"
   ]
  },
  {
   "cell_type": "code",
   "execution_count": 29,
   "metadata": {},
   "outputs": [
    {
     "data": {
      "text/plain": [
       "{0: '#afuresertib#',\n",
       " 1: '#akt inhibitor gsk2141795#',\n",
       " 2: '#akt inhibitor mk2206#',\n",
       " 3: '#alisertib#',\n",
       " 4: '#alpelisib#',\n",
       " 5: '#anastrozole#',\n",
       " 6: '#bevacizumab#',\n",
       " 7: '#binimetinib#',\n",
       " 8: '#broxuridine#',\n",
       " 9: '#buparlisib#',\n",
       " 10: '#capecitabine#',\n",
       " 11: '#carbendazim#',\n",
       " 12: '#carboplatin#',\n",
       " 13: '#cetuximab#',\n",
       " 14: '#cisplatin#',\n",
       " 15: '#cixutumumab#',\n",
       " 16: '#clofarabine#',\n",
       " 17: '#cyclophosphamide#',\n",
       " 18: '#dacarbazine#',\n",
       " 19: '#dalotuzumab#',\n",
       " 20: '#daunorubicin#',\n",
       " 21: '#dexamethasone#',\n",
       " 22: '#docetaxel#',\n",
       " 23: '#doxorubicin#',\n",
       " 24: '#epirubicin#',\n",
       " 25: '#erlotinib#',\n",
       " 26: '#everolimus#',\n",
       " 27: '#exemestane#',\n",
       " 28: '#fluorouracil#',\n",
       " 29: '#folitixorin#',\n",
       " 30: '#fulvestrant#',\n",
       " 31: '#gemcitabine#',\n",
       " 32: '#hydroxyurea#',\n",
       " 33: '#infliximab#',\n",
       " 34: '#iproplatin#',\n",
       " 35: '#lapatinib#',\n",
       " 36: '#lenalidomide#',\n",
       " 37: '#letrozole#',\n",
       " 38: '#leucovorin calcium#',\n",
       " 39: '#mek inhibitor ci-1040#',\n",
       " 40: '#menogaril#',\n",
       " 41: '#methotrexate#',\n",
       " 42: '#mitoxantrone#',\n",
       " 43: '#mtor kinase inhibitor cc-223#',\n",
       " 44: '#neratinib#',\n",
       " 45: '#niacinamide#',\n",
       " 46: '#oxaliplatin#',\n",
       " 47: '#paclitaxel#',\n",
       " 48: '#perifosine#',\n",
       " 49: '#pertuzumab#',\n",
       " 50: '#pi3k family kinase inhibitor xl147#',\n",
       " 51: '#pi3k-beta inhibitor gsk2636771#',\n",
       " 52: '#pi3k/mtor inhibitor bez235#',\n",
       " 53: '#procarbazine#',\n",
       " 54: '#recombinant interferon#',\n",
       " 55: '#recombinant interleukin-6#',\n",
       " 56: '#resistant starch#',\n",
       " 57: '#ribociclib#',\n",
       " 58: '#ridaforolimus#',\n",
       " 59: '#selumetinib#',\n",
       " 60: '#sorafenib tosylate#',\n",
       " 61: '#tamoxifen#',\n",
       " 62: '#temsirolimus#',\n",
       " 63: '#thalidomide#',\n",
       " 64: '#trametinib#',\n",
       " 65: '#trans sodium crocetinate#',\n",
       " 66: '#trastuzumab#',\n",
       " 67: '#triciribine phosphate#',\n",
       " 68: '#vinorelbine#',\n",
       " 69: '#voxtalisib#'}"
      ]
     },
     "execution_count": 29,
     "metadata": {},
     "output_type": "execute_result"
    }
   ],
   "source": [
    "network_drugs"
   ]
  },
  {
   "cell_type": "code",
   "execution_count": 30,
   "metadata": {
    "collapsed": true
   },
   "outputs": [],
   "source": [
    "resist_network_matrix = sparse_matrix_functions.make_network_matrix(test_matrix_r, vocab_columns)"
   ]
  },
  {
   "cell_type": "code",
   "execution_count": 31,
   "metadata": {},
   "outputs": [],
   "source": [
    "pairs_r, counts_r = sparse_matrix_functions.extract_gene_drug_pairs(resist_network_matrix, network_genes, network_drugs)"
   ]
  },
  {
   "cell_type": "code",
   "execution_count": 32,
   "metadata": {
    "collapsed": true
   },
   "outputs": [],
   "source": [
    "original_indeces_r = sparse_matrix_functions.back_to_original_indeces(pairs_r, col_idx)"
   ]
  },
  {
   "cell_type": "code",
   "execution_count": 33,
   "metadata": {},
   "outputs": [],
   "source": [
    "resist_evidence_akt_lapatinib = sparse_matrix_functions.get_evidence_sentences(\n",
    "    'akt','lapatinib','r',7, test, original_indeces_r)"
   ]
  },
  {
   "cell_type": "code",
   "execution_count": 34,
   "metadata": {},
   "outputs": [
    {
     "data": {
      "text/plain": [
       "[('test.txt',\n",
       "  'Treatment of the lapatinib-resistant HER2+ cells with Src inhibitors suppressed the PI3K PTEN Akt mTOR pathway as well as  Figure 5: Sites of Targeting the EGFR PI3K PTEN Akt mTORC Pathway with Small Molecule Membrane-Permeable Inhibitors and Monoclonal Antibodies (MoAbs).')]"
      ]
     },
     "execution_count": 34,
     "metadata": {},
     "output_type": "execute_result"
    }
   ],
   "source": [
    "resist_evidence_akt_lapatinib"
   ]
  },
  {
   "cell_type": "code",
   "execution_count": 35,
   "metadata": {
    "collapsed": true
   },
   "outputs": [],
   "source": [
    "sensit_network_matrix = sparse_matrix_functions.make_network_matrix(test_matrix_s, vocab_columns)"
   ]
  },
  {
   "cell_type": "code",
   "execution_count": 36,
   "metadata": {
    "scrolled": true
   },
   "outputs": [],
   "source": [
    "pairs_s, counts_s = sparse_matrix_functions.extract_gene_drug_pairs(sensit_network_matrix, network_genes, network_drugs)"
   ]
  },
  {
   "cell_type": "code",
   "execution_count": 37,
   "metadata": {},
   "outputs": [],
   "source": [
    "#(pairs_s,counts_s)"
   ]
  },
  {
   "cell_type": "code",
   "execution_count": 38,
   "metadata": {
    "collapsed": true
   },
   "outputs": [],
   "source": [
    "original_indeces_s = sparse_matrix_functions.back_to_original_indeces(pairs_s, col_idx)"
   ]
  },
  {
   "cell_type": "code",
   "execution_count": 39,
   "metadata": {},
   "outputs": [],
   "source": [
    "sensit_evidence_akt_lapatinib = sparse_matrix_functions.get_evidence_sentences(\n",
    "    'akt','lapatinib','r',7,test, original_indeces_s)"
   ]
  },
  {
   "cell_type": "code",
   "execution_count": 40,
   "metadata": {},
   "outputs": [
    {
     "data": {
      "text/plain": [
       "'There is no evidence that the prensece of the gene akt confers resistance to the drug lapatinib'"
      ]
     },
     "execution_count": 40,
     "metadata": {},
     "output_type": "execute_result"
    }
   ],
   "source": [
    "sensit_evidence_akt_lapatinib"
   ]
  },
  {
   "cell_type": "code",
   "execution_count": 41,
   "metadata": {},
   "outputs": [],
   "source": [
    "all_network_matrix = sparse_matrix_functions.make_network_matrix(test_matrix_all, vocab_columns)"
   ]
  },
  {
   "cell_type": "code",
   "execution_count": 42,
   "metadata": {
    "collapsed": true
   },
   "outputs": [],
   "source": [
    "pairs_a, counts_a = sparse_matrix_functions.extract_gene_drug_pairs(all_network_matrix, network_genes, network_drugs)"
   ]
  },
  {
   "cell_type": "code",
   "execution_count": 43,
   "metadata": {
    "collapsed": true
   },
   "outputs": [],
   "source": [
    "original_indeces_a = sparse_matrix_functions.back_to_original_indeces(pairs_a, col_idx)"
   ]
  },
  {
   "cell_type": "code",
   "execution_count": 44,
   "metadata": {},
   "outputs": [
    {
     "name": "stdout",
     "output_type": "stream",
     "text": [
      "Returning evidence of both sensitivity and resistant\n"
     ]
    },
    {
     "name": "stderr",
     "output_type": "stream",
     "text": [
      "/Users/ale/anaconda3/lib/python3.6/site-packages/scipy/sparse/compressed.py:730: SparseEfficiencyWarning: Changing the sparsity structure of a csr_matrix is expensive. lil_matrix is more efficient.\n",
      "  SparseEfficiencyWarning)\n"
     ]
    }
   ],
   "source": [
    "all_evidence_akt_lapatinib = sparse_matrix_functions.get_evidence_sentences('akt','lapatinib','a',7, \n",
    "                                                                               test, original_indeces_a)"
   ]
  },
  {
   "cell_type": "code",
   "execution_count": 45,
   "metadata": {},
   "outputs": [
    {
     "data": {
      "text/plain": [
       "[('test.txt',\n",
       "  'In BT474 and MCF10A breast cancer cells transfected with the construct encoding HER2-T798M mutation, elevated HER2 kinase activity was detected and lapatinib did not block phosphorylation of HER2, EGFR3 or downstream Akt and ERK1 2.'),\n",
       " ('test.txt',\n",
       "  'Treatment of the lapatinib-resistant HER2+ cells with Src inhibitors suppressed the PI3K PTEN Akt mTOR pathway as well as  Figure 5: Sites of Targeting the EGFR PI3K PTEN Akt mTORC Pathway with Small Molecule Membrane-Permeable Inhibitors and Monoclonal Antibodies (MoAbs).'),\n",
       " ('test.txt',\n",
       "  'I  Recurrent BC, -Stage IV BC, Active, not MK2206, paclitaxel Not Unspecified Adult recruiting Provided Solid Tumor Triciribine (an Akt inhibitor), Not paclitaxel, provided doxorubicin, cyclophosphamide Cisplatin, 0941, a inhibitor GDCNot PI3K provided  I  II  Metastatic Carcinoma Stage IV  BC, Currently Breast recruiting participants  I II  ER- BC, HER- BC, TNBC, Recurrent Currently BC, Stage IV BC recruiting participants  II  HER2+, Newly Diagnosed, Primary BC Currently Neoadjuvant recruiting Therapy, participants Trastuzumab  BKM120, trastuzumab (trastuzumab = Not herceptin, a antiprovided HER2 MoAb), paclitaxel  II  BC  Not yet open Not for participant Paclitaxel, BKM120 provided study RAD001 (Afinitor everolimus), Not gemcitabine (a provided nucleoside analog), cisplatin  I II  Metastatic BC  Currently recruiting patients  II  Metastatic BC  Everolimus, Bevacizumab (vascular Ongoing, but Not endothelial not recruiting provided growth factor A inhibitor), paclitaxel  II  HER2+ BC  Recruiting  Everolimus, vinorelbine, Not trastuzumab (HER2 provided inhibibitor, MoAb) Capecitabine (a pro-drug, which is converted to 5-flurouracil (5Not FU) which inhibits provided thymidylate synthase, exemestane, Everolimus  II  BC  Recruiting  www.impactjournals.com oncotarget  4632  Oncotarget  \\x0c*A Phase III Trials Program Exploring the Integration of Bevacizumab, Everolimus (RAD001), and Lapatinib Into Current NCT00567554 Neoadjuvant Chemotherapy Regimes for Primary Breast Cancer  III  BC  Phase I, Open Label, Dose Escalation Study of the Safety, Tolerability, and Pharmacokinetics of the Combination NCT00253318 RAD001 Plus Docetaxel in Patients With Metastatic Breast Cancer Phase II, Open Label, Dose Escalation Study of the Safety, Tolerability, and Pharmacokinetics of the Combination RAD001 Plus Docetaxel in Patients With Metastatic Breast Cancer *Phase 1b 2 Single-arm Trial Evaluating the Combination of Lapatinib, Everolimus and Capecitabine for the Treatment of Patients With HER2-positive Metastatic Breast Cancer With CNS Progression After Trastuzumab *A Phase Ib II Trial of LEE011 in Combination With Everolimus (RAD001) and Exemestane in the Treatment of Postmenopausal Women With Estrogen Receptor Positive, Her2- Locally Advanced or Metastatic Breast Cancer Phase I II Study of Weekly Abraxane and RAD001 in Women With Locally Advanced or Metastatic Breast Cancer.')]"
      ]
     },
     "execution_count": 45,
     "metadata": {},
     "output_type": "execute_result"
    }
   ],
   "source": [
    "all_evidence_akt_lapatinib"
   ]
  },
  {
   "cell_type": "code",
   "execution_count": null,
   "metadata": {},
   "outputs": [],
   "source": [
    "# Compute NMF\n",
    "from sklearn.decomposition import NMF\n",
    "\n",
    "def fit_nmf(M,r):\n",
    "    nmf = NMF(n_components=r)\n",
    "    nmf.fit(M)\n",
    "    W = nmf.transform(M)\n",
    "    H = nmf.components_\n",
    "    return nmf.reconstruction_err_\n",
    "\n",
    "error = [fit_nmf(resist_network_matrix,i) for i in range(1,10)]\n",
    "plt.plot(range(1,10), error)\n",
    "plt.xticks(range(1, 10))\n",
    "plt.xlabel('number of latent topics')\n",
    "plt.ylabel('Reconstruction Error')"
   ]
  },
  {
   "cell_type": "code",
   "execution_count": null,
   "metadata": {},
   "outputs": [],
   "source": [
    "# Fit using 2 hidden concepts\n",
    "nmf = NMF(n_components=2)\n",
    "nmf.fit(resist_network_matrix)\n",
    "W = nmf.transform(resist_network_matrix)\n",
    "H = nmf.components_\n",
    "print('RSS = %.2f' % nmf.reconstruction_err_)"
   ]
  },
  {
   "cell_type": "code",
   "execution_count": null,
   "metadata": {},
   "outputs": [],
   "source": [
    "# Make interpretable\n",
    "W, H = (np.around(x,2) for x in (W,H))\n",
    "W = pd.DataFrame(W,index=network_genes.values())\n",
    "H = pd.DataFrame(H,columns=network_drugs.values())\n",
    "\n",
    "display(W) \n",
    "display(H)"
   ]
  },
  {
   "cell_type": "code",
   "execution_count": null,
   "metadata": {},
   "outputs": [],
   "source": [
    "resist_network_matrix"
   ]
  },
  {
   "cell_type": "code",
   "execution_count": null,
   "metadata": {},
   "outputs": [],
   "source": [
    "type(resist_network_matrix)"
   ]
  },
  {
   "cell_type": "code",
   "execution_count": null,
   "metadata": {
    "collapsed": true
   },
   "outputs": [],
   "source": [
    "from sklearn.model_selection import train_test_split"
   ]
  },
  {
   "cell_type": "code",
   "execution_count": null,
   "metadata": {
    "collapsed": true
   },
   "outputs": [],
   "source": [
    "x_train, x_test = train_test_split(resist_network_matrix, test_size=0.33, random_state=42)"
   ]
  },
  {
   "cell_type": "code",
   "execution_count": null,
   "metadata": {},
   "outputs": [],
   "source": [
    "nmf = NMF(n_components=6)\n",
    "nmf.fit(x_train)\n",
    "W = nmf.transform(x_test)\n",
    "H = nmf.components_\n",
    "print('RSS = %.2f' % nmf.reconstruction_err_)"
   ]
  },
  {
   "cell_type": "code",
   "execution_count": null,
   "metadata": {},
   "outputs": [],
   "source": [
    "from sklearn.preprocessing import normalize"
   ]
  },
  {
   "cell_type": "code",
   "execution_count": null,
   "metadata": {
    "collapsed": true
   },
   "outputs": [],
   "source": [
    "rom sklearn.preprocessing import FunctionTransformer\n",
    "transformer = FunctionTransformer(np.log1p)\n",
    "X = np.array([[0, 1], [2, 3]])\n",
    "transformer.transform(X)"
   ]
  },
  {
   "cell_type": "code",
   "execution_count": null,
   "metadata": {
    "collapsed": true
   },
   "outputs": [],
   "source": []
  },
  {
   "cell_type": "code",
   "execution_count": null,
   "metadata": {
    "collapsed": true
   },
   "outputs": [],
   "source": []
  },
  {
   "cell_type": "code",
   "execution_count": 46,
   "metadata": {},
   "outputs": [],
   "source": [
    "def process_genes():\n",
    "    genes = input('what genes?')\n",
    "    gene_list=genes.split(', ')\n",
    "    processed_gene_list = []\n",
    "    for id in gene_list:\n",
    "        try: \n",
    "            gene_dict[id]\n",
    "            processed_gene_list.append(gene_dict[id])\n",
    "        except KeyError:\n",
    "            print(\"Gene: {} not in list\".format(id)) \n",
    "    return processed_gene_list"
   ]
  },
  {
   "cell_type": "code",
   "execution_count": 47,
   "metadata": {
    "collapsed": true
   },
   "outputs": [],
   "source": [
    "inverse_network_genes = dict((v, k) for k, v in network_genes.items())"
   ]
  },
  {
   "cell_type": "code",
   "execution_count": 48,
   "metadata": {
    "collapsed": true
   },
   "outputs": [],
   "source": [
    "inverse_network_drugs = dict((v, k) for k, v in network_drugs.items())"
   ]
  },
  {
   "cell_type": "code",
   "execution_count": 49,
   "metadata": {
    "scrolled": true
   },
   "outputs": [
    {
     "data": {
      "text/plain": [
       "8"
      ]
     },
     "execution_count": 49,
     "metadata": {},
     "output_type": "execute_result"
    }
   ],
   "source": [
    "inverse_network_genes['#akt1#']"
   ]
  },
  {
   "cell_type": "code",
   "execution_count": 50,
   "metadata": {},
   "outputs": [
    {
     "data": {
      "text/plain": [
       "66"
      ]
     },
     "execution_count": 50,
     "metadata": {},
     "output_type": "execute_result"
    }
   ],
   "source": [
    "inverse_network_drugs['#trastuzumab#']"
   ]
  },
  {
   "cell_type": "code",
   "execution_count": 51,
   "metadata": {},
   "outputs": [],
   "source": [
    "def extract_gene_drug_interaction(kind='a'):\n",
    "    genes_list = process_genes()\n",
    "    if kind == 'r' or kind =='R':\n",
    "        X = resist_network_matrix\n",
    "    elif kind == 's' or kind =='S':\n",
    "        X = sensit_network_matrix\n",
    "    else:\n",
    "        X = all_network_matrix\n",
    "    interaction_dict={}\n",
    "    genes =[]\n",
    "    for gene in genes_list:\n",
    "        multiplier = np.zeros((X.shape[0],1))\n",
    "        idx = inverse_network_genes[gene]\n",
    "        multiplier[idx]=1\n",
    "        value = X.T.dot(multiplier) \n",
    "        drug_idx = value.nonzero()[0]\n",
    "        if sum(value) == 0:\n",
    "            print('\\n no drug interactions with gene {} were found in our database'.format(gene))\n",
    "        else:\n",
    "            #interaction_dict[gene] = value\n",
    "            drug_idx = value.nonzero()[0]\n",
    "            for idx in drug_idx:\n",
    "                interaction_dict[gene, network_drugs[idx]]=value[idx,0]\n",
    "            genes.append(gene)\n",
    "    print('\\nthese are the genes for whihc interactions with drugs were found:',genes )\n",
    "    return interaction_dict\n",
    "            \n",
    "            \n",
    "        \n",
    "        \n",
    "        "
   ]
  },
  {
   "cell_type": "code",
   "execution_count": 82,
   "metadata": {
    "scrolled": true
   },
   "outputs": [
    {
     "name": "stdout",
     "output_type": "stream",
     "text": [
      "what genes?mtor\n",
      "\n",
      "these are the genes for whihc interactions with drugs were found: ['#mtor#']\n"
     ]
    }
   ],
   "source": [
    "b=extract_gene_drug_interaction(kind='r')"
   ]
  },
  {
   "cell_type": "code",
   "execution_count": 83,
   "metadata": {},
   "outputs": [
    {
     "data": {
      "text/plain": [
       "{('#mtor#', '#bevacizumab#'): 1.0,\n",
       " ('#mtor#', '#capecitabine#'): 1.0,\n",
       " ('#mtor#', '#carbendazim#'): 1.0,\n",
       " ('#mtor#', '#cisplatin#'): 1.0,\n",
       " ('#mtor#', '#dacarbazine#'): 1.0,\n",
       " ('#mtor#', '#docetaxel#'): 1.0,\n",
       " ('#mtor#', '#doxorubicin#'): 1.0,\n",
       " ('#mtor#', '#erlotinib#'): 1.0,\n",
       " ('#mtor#', '#everolimus#'): 1.0,\n",
       " ('#mtor#', '#fluorouracil#'): 1.0,\n",
       " ('#mtor#', '#lapatinib#'): 1.0,\n",
       " ('#mtor#', '#lenalidomide#'): 1.0,\n",
       " ('#mtor#', '#letrozole#'): 1.0,\n",
       " ('#mtor#', '#leucovorin calcium#'): 1.0,\n",
       " ('#mtor#', '#oxaliplatin#'): 1.0,\n",
       " ('#mtor#', '#paclitaxel#'): 1.0,\n",
       " ('#mtor#', '#pi3k/mtor inhibitor bez235#'): 1.0,\n",
       " ('#mtor#', '#selumetinib#'): 1.0,\n",
       " ('#mtor#', '#sorafenib tosylate#'): 1.0,\n",
       " ('#mtor#', '#temsirolimus#'): 1.0,\n",
       " ('#mtor#', '#thalidomide#'): 1.0}"
      ]
     },
     "execution_count": 83,
     "metadata": {},
     "output_type": "execute_result"
    }
   ],
   "source": [
    "b"
   ]
  },
  {
   "cell_type": "code",
   "execution_count": 54,
   "metadata": {},
   "outputs": [],
   "source": [
    "def gene_or_drug(vocabulary):\n",
    "    gene_or_drug={}\n",
    "    for item in vocabulary:\n",
    "        if item in gene_values:\n",
    "            gene_or_drug[item]='gene'\n",
    "        if item in drug_values:\n",
    "            gene_or_drug[item]='drug'\n",
    "    return gene_or_drug"
   ]
  },
  {
   "cell_type": "code",
   "execution_count": 55,
   "metadata": {},
   "outputs": [],
   "source": [
    "dg=gene_or_drug(vocab_columns)"
   ]
  },
  {
   "cell_type": "code",
   "execution_count": 57,
   "metadata": {},
   "outputs": [
    {
     "data": {
      "text/plain": [
       "'drug'"
      ]
     },
     "execution_count": 57,
     "metadata": {},
     "output_type": "execute_result"
    }
   ],
   "source": [
    "dg['#lapatinib#']"
   ]
  },
  {
   "cell_type": "code",
   "execution_count": 76,
   "metadata": {},
   "outputs": [],
   "source": [
    "import networkx as nx"
   ]
  },
  {
   "cell_type": "code",
   "execution_count": 77,
   "metadata": {
    "collapsed": true
   },
   "outputs": [],
   "source": [
    "G=nx.Graph()"
   ]
  },
  {
   "cell_type": "code",
   "execution_count": 84,
   "metadata": {},
   "outputs": [
    {
     "name": "stdout",
     "output_type": "stream",
     "text": [
      "#mtor# #bevacizumab# 1.0\n",
      "#mtor# #capecitabine# 1.0\n",
      "#mtor# #carbendazim# 1.0\n",
      "#mtor# #cisplatin# 1.0\n",
      "#mtor# #dacarbazine# 1.0\n",
      "#mtor# #docetaxel# 1.0\n",
      "#mtor# #doxorubicin# 1.0\n",
      "#mtor# #erlotinib# 1.0\n",
      "#mtor# #everolimus# 1.0\n",
      "#mtor# #fluorouracil# 1.0\n",
      "#mtor# #lapatinib# 1.0\n",
      "#mtor# #lenalidomide# 1.0\n",
      "#mtor# #letrozole# 1.0\n",
      "#mtor# #leucovorin calcium# 1.0\n",
      "#mtor# #oxaliplatin# 1.0\n",
      "#mtor# #paclitaxel# 1.0\n",
      "#mtor# #pi3k/mtor inhibitor bez235# 1.0\n",
      "#mtor# #selumetinib# 1.0\n",
      "#mtor# #sorafenib tosylate# 1.0\n",
      "#mtor# #temsirolimus# 1.0\n",
      "#mtor# #thalidomide# 1.0\n"
     ]
    }
   ],
   "source": [
    "for k,v in b.items():\n",
    "    print(k[0],k[1],v)\n",
    "    G.add_edge(k[0],k[1],weight=v)"
   ]
  },
  {
   "cell_type": "code",
   "execution_count": 85,
   "metadata": {
    "collapsed": true
   },
   "outputs": [],
   "source": [
    "elarge=[(u,v) for (u,v,d) in G.edges(data=True) if d['weight'] >1]\n",
    "esmall=[(u,v) for (u,v,d) in G.edges(data=True) if d['weight'] <=1]"
   ]
  },
  {
   "cell_type": "code",
   "execution_count": 90,
   "metadata": {},
   "outputs": [
    {
     "data": {
      "image/png": "[encoded data removed]",
      "text/plain": [
       "<matplotlib.figure.Figure at 0x11de105c0>"
      ]
     },
     "metadata": {},
     "output_type": "display_data"
    }
   ],
   "source": [
    "pos=nx.spring_layout(G) # positions for all nodes\n",
    "\n",
    "# nodes\n",
    "nx.draw_networkx_nodes(G,pos,node_size=700)\n",
    "\n",
    "# edges\n",
    "nx.draw_networkx_edges(G,pos,edgelist=elarge,\n",
    "                    width=6)\n",
    "nx.draw_networkx_edges(G,pos,edgelist=esmall,\n",
    "                    width=6,alpha=0.5,edge_color='b',style='dashed')\n",
    "\n",
    "# labels\n",
    "nx.draw_networkx_labels(G,pos,font_size=20,font_family='sans-serif')\n",
    "\n",
    "plt.axis('off')\n",
    "plt.savefig(\"weighted_graph.png\") # save as png\n",
    "plt.show() # display"
   ]
  },
  {
   "cell_type": "code",
   "execution_count": null,
   "metadata": {
    "collapsed": true
   },
   "outputs": [],
   "source": []
  }
 ],
 "metadata": {
  "kernelspec": {
   "display_name": "Python 3",
   "language": "python",
   "name": "python3"
  },
  "language_info": {
   "codemirror_mode": {
    "name": "ipython",
    "version": 3
   },
   "file_extension": ".py",
   "mimetype": "text/x-python",
   "name": "python",
   "nbconvert_exporter": "python",
   "pygments_lexer": "ipython3",
   "version": "3.6.0"
  }
 },
 "nbformat": 4,
 "nbformat_minor": 2
}
