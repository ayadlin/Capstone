{
 "cells": [
  {
   "cell_type": "code",
   "execution_count": 348,
   "metadata": {
    "collapsed": true
   },
   "outputs": [],
   "source": [
    "import tokenizer\n",
    "import pickle\n",
    "import pandas as pd\n",
    "import numpy as np\n",
    "import glob\n",
    "import os\n",
    "import string\n",
    "from nltk.tokenize import sent_tokenize\n",
    "from nltk.tokenize import word_tokenize\n",
    "from nltk.corpus import stopwords\n",
    "from nltk.stem.porter import PorterStemmer\n",
    "from nltk.util import ngrams\n",
    "import json\n",
    "import sparse_matrix_functions\n",
    "import scipy.sparse as scs\n",
    "from IPython.display import display\n",
    "import matplotlib.pyplot as plt\n",
    "%matplotlib inline\n"
   ]
  },
  {
   "cell_type": "code",
   "execution_count": 2,
   "metadata": {
    "collapsed": true
   },
   "outputs": [],
   "source": [
    "path = '/Users/ale/Dropbox (Yadlin Family)/galvanize/capstone/*.txt'"
   ]
  },
  {
   "cell_type": "code",
   "execution_count": 3,
   "metadata": {
    "collapsed": true
   },
   "outputs": [],
   "source": [
    "with open(\"gene_dictionary_final.pickle\", \"rb\") as dict_gene:\n",
    "        gene_dict = pickle.load(dict_gene)"
   ]
  },
  {
   "cell_type": "code",
   "execution_count": 4,
   "metadata": {
    "collapsed": true
   },
   "outputs": [],
   "source": [
    "gene_keys = set(gene_dict.keys())\n",
    "gene_values = set(gene_dict.values())"
   ]
  },
  {
   "cell_type": "code",
   "execution_count": 5,
   "metadata": {},
   "outputs": [
    {
     "data": {
      "text/plain": [
       "'#erbb2#'"
      ]
     },
     "execution_count": 5,
     "metadata": {},
     "output_type": "execute_result"
    }
   ],
   "source": [
    "gene_dict['her2']"
   ]
  },
  {
   "cell_type": "code",
   "execution_count": 6,
   "metadata": {
    "collapsed": true
   },
   "outputs": [],
   "source": [
    "with open(\"drug_dictionary_final.pickle\", \"rb\") as dict_drug:\n",
    "        drug_dict = pickle.load(dict_drug)"
   ]
  },
  {
   "cell_type": "code",
   "execution_count": 7,
   "metadata": {
    "collapsed": true
   },
   "outputs": [],
   "source": [
    "drug_keys = set(drug_dict.keys())\n",
    "drug_values = set(drug_dict.values())"
   ]
  },
  {
   "cell_type": "code",
   "execution_count": 8,
   "metadata": {},
   "outputs": [
    {
     "data": {
      "text/plain": [
       "'#lapatinib#'"
      ]
     },
     "execution_count": 8,
     "metadata": {},
     "output_type": "execute_result"
    }
   ],
   "source": [
    "drug_dict['lapatinib']"
   ]
  },
  {
   "cell_type": "code",
   "execution_count": 9,
   "metadata": {},
   "outputs": [
    {
     "data": {
      "text/plain": [
       "False"
      ]
     },
     "execution_count": 9,
     "metadata": {},
     "output_type": "execute_result"
    }
   ],
   "source": [
    "'#doxorubicin hydrochloride#' in drug_values"
   ]
  },
  {
   "cell_type": "code",
   "execution_count": 10,
   "metadata": {},
   "outputs": [
    {
     "data": {
      "text/plain": [
       "'#acridine#'"
      ]
     },
     "execution_count": 10,
     "metadata": {},
     "output_type": "execute_result"
    }
   ],
   "source": [
    "drug_dict['acridine carboxamide']"
   ]
  },
  {
   "cell_type": "code",
   "execution_count": 11,
   "metadata": {
    "collapsed": true
   },
   "outputs": [],
   "source": [
    "with open(\"greek_alphabet.pickle\", \"rb\") as dict_greek:\n",
    "        greek_dict = pickle.load(dict_greek)"
   ]
  },
  {
   "cell_type": "code",
   "execution_count": 12,
   "metadata": {
    "collapsed": true
   },
   "outputs": [],
   "source": [
    "import data_frame_creator\n",
    "import sparse_matrix_functions"
   ]
  },
  {
   "cell_type": "code",
   "execution_count": 13,
   "metadata": {
    "collapsed": true
   },
   "outputs": [],
   "source": [
    "test=data_frame_creator.sparse_create_data_frame(path, short_list=True, min_df=0)"
   ]
  },
  {
   "cell_type": "code",
   "execution_count": 14,
   "metadata": {
    "collapsed": true
   },
   "outputs": [],
   "source": [
    "vocab_matrix =test[0]\n",
    "vocab_matrix[vocab_matrix>1]=1\n",
    "vocab_columns = test[1]\n",
    "doc_names = test[2] \n",
    "orig_sentences =test[3]"
   ]
  },
  {
   "cell_type": "code",
   "execution_count": 15,
   "metadata": {
    "collapsed": true
   },
   "outputs": [],
   "source": [
    "col_idx=sparse_matrix_functions.column_indexing(vocab_columns)"
   ]
  },
  {
   "cell_type": "code",
   "execution_count": 16,
   "metadata": {},
   "outputs": [
    {
     "data": {
      "text/plain": [
       "True"
      ]
     },
     "execution_count": 16,
     "metadata": {},
     "output_type": "execute_result"
    }
   ],
   "source": [
    "'#lapatinib#'in vocab_columns"
   ]
  },
  {
   "cell_type": "code",
   "execution_count": 17,
   "metadata": {
    "collapsed": true
   },
   "outputs": [],
   "source": [
    "test_matrix_all = sparse_matrix_functions.pick_network_type(vocab_matrix, vocab_columns,kind='a')"
   ]
  },
  {
   "cell_type": "code",
   "execution_count": 18,
   "metadata": {},
   "outputs": [
    {
     "data": {
      "text/plain": [
       "<2892x398 sparse matrix of type '<class 'numpy.float64'>'\n",
       "\twith 5640 stored elements in Compressed Sparse Row format>"
      ]
     },
     "execution_count": 18,
     "metadata": {},
     "output_type": "execute_result"
    }
   ],
   "source": [
    "test_matrix_all"
   ]
  },
  {
   "cell_type": "code",
   "execution_count": 19,
   "metadata": {
    "collapsed": true
   },
   "outputs": [],
   "source": [
    "test_matrix_r = sparse_matrix_functions.pick_network_type(vocab_matrix,vocab_columns,'r')"
   ]
  },
  {
   "cell_type": "code",
   "execution_count": 20,
   "metadata": {
    "collapsed": true
   },
   "outputs": [],
   "source": [
    "test_matrix_s = sparse_matrix_functions.pick_network_type(vocab_matrix,vocab_columns,kind='s')"
   ]
  },
  {
   "cell_type": "code",
   "execution_count": 21,
   "metadata": {},
   "outputs": [
    {
     "data": {
      "text/plain": [
       "<2892x399 sparse matrix of type '<class 'numpy.int64'>'\n",
       "\twith 2930 stored elements in Compressed Sparse Row format>"
      ]
     },
     "execution_count": 21,
     "metadata": {},
     "output_type": "execute_result"
    }
   ],
   "source": [
    "vocab_matrix"
   ]
  },
  {
   "cell_type": "code",
   "execution_count": 22,
   "metadata": {},
   "outputs": [
    {
     "data": {
      "text/plain": [
       "<135x398 sparse matrix of type '<class 'numpy.int64'>'\n",
       "\twith 428 stored elements in Compressed Sparse Row format>"
      ]
     },
     "execution_count": 22,
     "metadata": {},
     "output_type": "execute_result"
    }
   ],
   "source": [
    "test_matrix_r"
   ]
  },
  {
   "cell_type": "code",
   "execution_count": 23,
   "metadata": {},
   "outputs": [
    {
     "data": {
      "text/plain": [
       "scipy.sparse.csr.csr_matrix"
      ]
     },
     "execution_count": 23,
     "metadata": {},
     "output_type": "execute_result"
    }
   ],
   "source": [
    "type(test_matrix_s)"
   ]
  },
  {
   "cell_type": "code",
   "execution_count": 24,
   "metadata": {
    "collapsed": true
   },
   "outputs": [],
   "source": [
    "non_empty_rows = sparse_matrix_functions.non_zero_rows(vocab_matrix)"
   ]
  },
  {
   "cell_type": "code",
   "execution_count": null,
   "metadata": {
    "collapsed": true
   },
   "outputs": [],
   "source": [
    "sentences = [orig_sentences[i] for i in non_empty_rows]"
   ]
  },
  {
   "cell_type": "code",
   "execution_count": null,
   "metadata": {
    "collapsed": true
   },
   "outputs": [],
   "source": [
    "files = [doc_names[i] for i in non_empty_rows]"
   ]
  },
  {
   "cell_type": "code",
   "execution_count": null,
   "metadata": {
    "collapsed": true
   },
   "outputs": [],
   "source": [
    "vocab_mat_clean=sparse_matrix_functions.remove_zero_rows(vocab_matrix)"
   ]
  },
  {
   "cell_type": "code",
   "execution_count": null,
   "metadata": {
    "collapsed": true
   },
   "outputs": [],
   "source": [
    "vocab_mat_clean"
   ]
  },
  {
   "cell_type": "code",
   "execution_count": null,
   "metadata": {
    "collapsed": true
   },
   "outputs": [],
   "source": [
    "vocab_matrix.shape"
   ]
  },
  {
   "cell_type": "code",
   "execution_count": null,
   "metadata": {
    "collapsed": true
   },
   "outputs": [],
   "source": [
    "print(list(vocab_matrix[:,vocab_columns.index('sensit')].indices))"
   ]
  },
  {
   "cell_type": "code",
   "execution_count": null,
   "metadata": {
    "collapsed": true
   },
   "outputs": [],
   "source": [
    "sensit2"
   ]
  },
  {
   "cell_type": "code",
   "execution_count": null,
   "metadata": {
    "collapsed": true
   },
   "outputs": [],
   "source": []
  },
  {
   "cell_type": "code",
   "execution_count": 25,
   "metadata": {
    "collapsed": true
   },
   "outputs": [],
   "source": [
    "network_genes=sparse_matrix_functions.get_network_rows(vocab_columns)"
   ]
  },
  {
   "cell_type": "code",
   "execution_count": 26,
   "metadata": {
    "collapsed": true
   },
   "outputs": [],
   "source": [
    "network_drugs =sparse_matrix_functions.get_network_columns(vocab_columns)"
   ]
  },
  {
   "cell_type": "code",
   "execution_count": 290,
   "metadata": {
    "scrolled": true
   },
   "outputs": [],
   "source": [
    "data_frame_creator.write_pickle('network_genes_test.pickle', network_genes)"
   ]
  },
  {
   "cell_type": "code",
   "execution_count": 28,
   "metadata": {
    "collapsed": true
   },
   "outputs": [],
   "source": [
    "resist_network_matrix = sparse_matrix_functions.make_network_matrix(test_matrix_r, vocab_columns)"
   ]
  },
  {
   "cell_type": "code",
   "execution_count": 29,
   "metadata": {
    "collapsed": true
   },
   "outputs": [],
   "source": [
    "pairs_r, counts_r = sparse_matrix_functions.extract_gene_drug_pairs(resist_network_matrix, network_genes, network_drugs)"
   ]
  },
  {
   "cell_type": "code",
   "execution_count": 30,
   "metadata": {
    "collapsed": true
   },
   "outputs": [],
   "source": [
    "original_indeces_r = sparse_matrix_functions.back_to_original_indeces(pairs_r, col_idx)"
   ]
  },
  {
   "cell_type": "code",
   "execution_count": 31,
   "metadata": {
    "collapsed": true
   },
   "outputs": [],
   "source": [
    "resist_evidence_akt_lapatinib = sparse_matrix_functions.get_evidence_sentences(\n",
    "    'akt','lapatinib','r',7, test, original_indeces_r)"
   ]
  },
  {
   "cell_type": "code",
   "execution_count": 32,
   "metadata": {},
   "outputs": [
    {
     "data": {
      "text/plain": [
       "[('test.txt',\n",
       "  'Treatment of the lapatinib-resistant HER2+ cells with Src inhibitors suppressed the PI3K PTEN Akt mTOR pathway as well as  Figure 5: Sites of Targeting the EGFR PI3K PTEN Akt mTORC Pathway with Small Molecule Membrane-Permeable Inhibitors and Monoclonal Antibodies (MoAbs).')]"
      ]
     },
     "execution_count": 32,
     "metadata": {},
     "output_type": "execute_result"
    }
   ],
   "source": [
    "resist_evidence_akt_lapatinib"
   ]
  },
  {
   "cell_type": "code",
   "execution_count": 33,
   "metadata": {
    "collapsed": true
   },
   "outputs": [],
   "source": [
    "sensit_network_matrix = sparse_matrix_functions.make_network_matrix(test_matrix_s, vocab_columns)"
   ]
  },
  {
   "cell_type": "code",
   "execution_count": 34,
   "metadata": {
    "collapsed": true,
    "scrolled": true
   },
   "outputs": [],
   "source": [
    "pairs_s, counts_s = sparse_matrix_functions.extract_gene_drug_pairs(sensit_network_matrix, network_genes, network_drugs)"
   ]
  },
  {
   "cell_type": "code",
   "execution_count": 35,
   "metadata": {
    "collapsed": true
   },
   "outputs": [],
   "source": [
    "#(pairs_s,counts_s)"
   ]
  },
  {
   "cell_type": "code",
   "execution_count": 36,
   "metadata": {
    "collapsed": true
   },
   "outputs": [],
   "source": [
    "original_indeces_s = sparse_matrix_functions.back_to_original_indeces(pairs_s, col_idx)"
   ]
  },
  {
   "cell_type": "code",
   "execution_count": 37,
   "metadata": {
    "collapsed": true
   },
   "outputs": [],
   "source": [
    "sensit_evidence_akt_lapatinib = sparse_matrix_functions.get_evidence_sentences(\n",
    "    'akt','lapatinib','r',7,test, original_indeces_s)"
   ]
  },
  {
   "cell_type": "code",
   "execution_count": 38,
   "metadata": {},
   "outputs": [
    {
     "data": {
      "text/plain": [
       "'There is no evidence that the prensece of the gene akt confers resistance to the drug lapatinib'"
      ]
     },
     "execution_count": 38,
     "metadata": {},
     "output_type": "execute_result"
    }
   ],
   "source": [
    "sensit_evidence_akt_lapatinib"
   ]
  },
  {
   "cell_type": "code",
   "execution_count": 39,
   "metadata": {
    "collapsed": true
   },
   "outputs": [],
   "source": [
    "all_network_matrix = sparse_matrix_functions.make_network_matrix(test_matrix_all, vocab_columns)"
   ]
  },
  {
   "cell_type": "code",
   "execution_count": 40,
   "metadata": {
    "collapsed": true
   },
   "outputs": [],
   "source": [
    "pairs_a, counts_a = sparse_matrix_functions.extract_gene_drug_pairs(all_network_matrix, network_genes, network_drugs)"
   ]
  },
  {
   "cell_type": "code",
   "execution_count": 41,
   "metadata": {
    "collapsed": true
   },
   "outputs": [],
   "source": [
    "original_indeces_a = sparse_matrix_functions.back_to_original_indeces(pairs_a, col_idx)"
   ]
  },
  {
   "cell_type": "code",
   "execution_count": 42,
   "metadata": {},
   "outputs": [
    {
     "name": "stdout",
     "output_type": "stream",
     "text": [
      "Returning evidence of both sensitivity and resistant\n"
     ]
    },
    {
     "name": "stderr",
     "output_type": "stream",
     "text": [
      "/Users/ale/anaconda2/envs/py36/lib/python3.6/site-packages/scipy/sparse/compressed.py:774: SparseEfficiencyWarning: Changing the sparsity structure of a csr_matrix is expensive. lil_matrix is more efficient.\n",
      "  SparseEfficiencyWarning)\n"
     ]
    }
   ],
   "source": [
    "all_evidence_akt_lapatinib = sparse_matrix_functions.get_evidence_sentences('akt','lapatinib','a',7, \n",
    "                                                                               test, original_indeces_a)"
   ]
  },
  {
   "cell_type": "code",
   "execution_count": 43,
   "metadata": {},
   "outputs": [
    {
     "data": {
      "text/plain": [
       "[('test.txt',\n",
       "  'In BT474 and MCF10A breast cancer cells transfected with the construct encoding HER2-T798M mutation, elevated HER2 kinase activity was detected and lapatinib did not block phosphorylation of HER2, EGFR3 or downstream Akt and ERK1 2.'),\n",
       " ('test.txt',\n",
       "  'Treatment of the lapatinib-resistant HER2+ cells with Src inhibitors suppressed the PI3K PTEN Akt mTOR pathway as well as  Figure 5: Sites of Targeting the EGFR PI3K PTEN Akt mTORC Pathway with Small Molecule Membrane-Permeable Inhibitors and Monoclonal Antibodies (MoAbs).'),\n",
       " ('test.txt',\n",
       "  'I  Recurrent BC, -Stage IV BC, Active, not MK2206, paclitaxel Not Unspecified Adult recruiting Provided Solid Tumor Triciribine (an Akt inhibitor), Not paclitaxel, provided doxorubicin, cyclophosphamide Cisplatin, 0941, a inhibitor GDCNot PI3K provided  I  II  Metastatic Carcinoma Stage IV  BC, Currently Breast recruiting participants  I II  ER- BC, HER- BC, TNBC, Recurrent Currently BC, Stage IV BC recruiting participants  II  HER2+, Newly Diagnosed, Primary BC Currently Neoadjuvant recruiting Therapy, participants Trastuzumab  BKM120, trastuzumab (trastuzumab = Not herceptin, a antiprovided HER2 MoAb), paclitaxel  II  BC  Not yet open Not for participant Paclitaxel, BKM120 provided study RAD001 (Afinitor everolimus), Not gemcitabine (a provided nucleoside analog), cisplatin  I II  Metastatic BC  Currently recruiting patients  II  Metastatic BC  Everolimus, Bevacizumab (vascular Ongoing, but Not endothelial not recruiting provided growth factor A inhibitor), paclitaxel  II  HER2+ BC  Recruiting  Everolimus, vinorelbine, Not trastuzumab (HER2 provided inhibibitor, MoAb) Capecitabine (a pro-drug, which is converted to 5-flurouracil (5Not FU) which inhibits provided thymidylate synthase, exemestane, Everolimus  II  BC  Recruiting  www.impactjournals.com oncotarget  4632  Oncotarget  \\x0c*A Phase III Trials Program Exploring the Integration of Bevacizumab, Everolimus (RAD001), and Lapatinib Into Current NCT00567554 Neoadjuvant Chemotherapy Regimes for Primary Breast Cancer  III  BC  Phase I, Open Label, Dose Escalation Study of the Safety, Tolerability, and Pharmacokinetics of the Combination NCT00253318 RAD001 Plus Docetaxel in Patients With Metastatic Breast Cancer Phase II, Open Label, Dose Escalation Study of the Safety, Tolerability, and Pharmacokinetics of the Combination RAD001 Plus Docetaxel in Patients With Metastatic Breast Cancer *Phase 1b 2 Single-arm Trial Evaluating the Combination of Lapatinib, Everolimus and Capecitabine for the Treatment of Patients With HER2-positive Metastatic Breast Cancer With CNS Progression After Trastuzumab *A Phase Ib II Trial of LEE011 in Combination With Everolimus (RAD001) and Exemestane in the Treatment of Postmenopausal Women With Estrogen Receptor Positive, Her2- Locally Advanced or Metastatic Breast Cancer Phase I II Study of Weekly Abraxane and RAD001 in Women With Locally Advanced or Metastatic Breast Cancer.')]"
      ]
     },
     "execution_count": 43,
     "metadata": {},
     "output_type": "execute_result"
    }
   ],
   "source": [
    "all_evidence_akt_lapatinib"
   ]
  },
  {
   "cell_type": "code",
   "execution_count": 44,
   "metadata": {},
   "outputs": [
    {
     "data": {
      "text/plain": [
       "<matplotlib.text.Text at 0x1279a70b8>"
      ]
     },
     "execution_count": 44,
     "metadata": {},
     "output_type": "execute_result"
    },
    {
     "data": {
      "image/png": "[encoded data removed]",
      "text/plain": [
       "<matplotlib.figure.Figure at 0x1279702e8>"
      ]
     },
     "metadata": {},
     "output_type": "display_data"
    }
   ],
   "source": [
    "# Compute NMF\n",
    "from sklearn.decomposition import NMF\n",
    "\n",
    "def fit_nmf(M,r):\n",
    "    nmf = NMF(n_components=r)\n",
    "    nmf.fit(M)\n",
    "    W = nmf.transform(M)\n",
    "    H = nmf.components_\n",
    "    return nmf.reconstruction_err_\n",
    "\n",
    "error = [fit_nmf(resist_network_matrix,i) for i in range(1,10)]\n",
    "plt.plot(range(1,10), error)\n",
    "plt.xticks(range(1, 10))\n",
    "plt.xlabel('number of latent topics')\n",
    "plt.ylabel('Reconstruction Error')"
   ]
  },
  {
   "cell_type": "code",
   "execution_count": 45,
   "metadata": {},
   "outputs": [
    {
     "name": "stdout",
     "output_type": "stream",
     "text": [
      "RSS = 9.13\n"
     ]
    }
   ],
   "source": [
    "# Fit using 2 hidden concepts\n",
    "nmf = NMF(n_components=2)\n",
    "nmf.fit(resist_network_matrix)\n",
    "W = nmf.transform(resist_network_matrix)\n",
    "H = nmf.components_\n",
    "print('RSS = %.2f' % nmf.reconstruction_err_)"
   ]
  },
  {
   "cell_type": "code",
   "execution_count": null,
   "metadata": {
    "collapsed": true
   },
   "outputs": [],
   "source": [
    "# Make interpretable\n",
    "W, H = (np.around(x,2) for x in (W,H))\n",
    "W = pd.DataFrame(W,index=network_genes.values())\n",
    "H = pd.DataFrame(H,columns=network_drugs.values())\n",
    "\n",
    "#display(W) \n",
    "#display(H)"
   ]
  },
  {
   "cell_type": "code",
   "execution_count": null,
   "metadata": {
    "collapsed": true
   },
   "outputs": [],
   "source": [
    "resist_network_matrix"
   ]
  },
  {
   "cell_type": "code",
   "execution_count": null,
   "metadata": {
    "collapsed": true
   },
   "outputs": [],
   "source": [
    "type(resist_network_matrix)"
   ]
  },
  {
   "cell_type": "code",
   "execution_count": null,
   "metadata": {
    "collapsed": true
   },
   "outputs": [],
   "source": [
    "from sklearn.model_selection import train_test_split"
   ]
  },
  {
   "cell_type": "code",
   "execution_count": null,
   "metadata": {
    "collapsed": true
   },
   "outputs": [],
   "source": [
    "indices = np.arange(test2.shape[0])"
   ]
  },
  {
   "cell_type": "code",
   "execution_count": null,
   "metadata": {
    "collapsed": true
   },
   "outputs": [],
   "source": [
    "r_train, r_test, idxr_train, idxr_test = train_test_split(resist_network_matrix, indices, test_size=0.33, random_state=42)"
   ]
  },
  {
   "cell_type": "code",
   "execution_count": null,
   "metadata": {
    "collapsed": true
   },
   "outputs": [],
   "source": [
    "test_rgenes = [network_genes[idx] for idx in idxr_test]"
   ]
  },
  {
   "cell_type": "code",
   "execution_count": null,
   "metadata": {
    "scrolled": true
   },
   "outputs": [],
   "source": [
    "nmf_resist = NMF(n_components=3)\n",
    "nmf_resist.fit(r_train)\n",
    "W_r = nmf_resist.transform(r_test)\n",
    "H_r = nmf_resist.components_\n",
    "print('RSS = %.2f' % nmf.reconstruction_err_)\n"
   ]
  },
  {
   "cell_type": "code",
   "execution_count": null,
   "metadata": {},
   "outputs": [],
   "source": [
    "W_r, H_r = (np.around(x,2) for x in (W_r,H_r))\n",
    "W_r = pd.DataFrame(W_r,index=test_rgenes)\n",
    "H_r = pd.DataFrame(H_r,columns=network_drugs.values())\n",
    "\n",
    "display(W_r) \n",
    "display(H_r)"
   ]
  },
  {
   "cell_type": "code",
   "execution_count": null,
   "metadata": {
    "collapsed": true
   },
   "outputs": [],
   "source": [
    "s_train, s_test, idxs_train, idxs_test = train_test_split(sensit_network_matrix, indices, test_size=0.33, random_state=42)"
   ]
  },
  {
   "cell_type": "code",
   "execution_count": null,
   "metadata": {
    "collapsed": true
   },
   "outputs": [],
   "source": [
    "test_sgenes = [network_genes[idx] for idx in idxs_test]"
   ]
  },
  {
   "cell_type": "code",
   "execution_count": null,
   "metadata": {},
   "outputs": [],
   "source": [
    "nmf_sensit = NMF(n_components=3)\n",
    "nmf_sensit.fit(s_train)\n",
    "W_s = nmf_sensit.transform(s_test)\n",
    "H_s = nmf_sensit.components_\n",
    "print('RSS = %.2f' % nmf.reconstruction_err_)"
   ]
  },
  {
   "cell_type": "code",
   "execution_count": null,
   "metadata": {},
   "outputs": [],
   "source": [
    "W_s, H_s = (np.around(x,2) for x in (W_s,H_s))\n",
    "W_s = pd.DataFrame(W_r,index=test_sgenes)\n",
    "H_s = pd.DataFrame(H_r,columns=network_drugs.values())\n",
    "\n",
    "display(W_s) \n",
    "display(H_s)"
   ]
  },
  {
   "cell_type": "code",
   "execution_count": null,
   "metadata": {},
   "outputs": [],
   "source": [
    "print(sensit_network_matrix)"
   ]
  },
  {
   "cell_type": "code",
   "execution_count": null,
   "metadata": {
    "collapsed": true
   },
   "outputs": [],
   "source": []
  },
  {
   "cell_type": "code",
   "execution_count": null,
   "metadata": {
    "collapsed": true
   },
   "outputs": [],
   "source": []
  },
  {
   "cell_type": "code",
   "execution_count": null,
   "metadata": {
    "collapsed": true
   },
   "outputs": [],
   "source": []
  },
  {
   "cell_type": "code",
   "execution_count": 46,
   "metadata": {
    "collapsed": true
   },
   "outputs": [],
   "source": [
    "test = scs.coo_matrix(resist_network_matrix)"
   ]
  },
  {
   "cell_type": "code",
   "execution_count": 47,
   "metadata": {},
   "outputs": [
    {
     "data": {
      "text/plain": [
       "<327x70 sparse matrix of type '<class 'numpy.int64'>'\n",
       "\twith 140 stored elements in COOrdinate format>"
      ]
     },
     "execution_count": 47,
     "metadata": {},
     "output_type": "execute_result"
    }
   ],
   "source": [
    "test"
   ]
  },
  {
   "cell_type": "code",
   "execution_count": 48,
   "metadata": {
    "collapsed": true
   },
   "outputs": [],
   "source": [
    "mat_df=pd.DataFrame({'gene_id':test.row, 'drug_id':test.col, 'data':test.data})"
   ]
  },
  {
   "cell_type": "code",
   "execution_count": 49,
   "metadata": {},
   "outputs": [
    {
     "data": {
      "text/html": [
       "<div>\n",
       "<style>\n",
       "    .dataframe thead tr:only-child th {\n",
       "        text-align: right;\n",
       "    }\n",
       "\n",
       "    .dataframe thead th {\n",
       "        text-align: left;\n",
       "    }\n",
       "\n",
       "    .dataframe tbody tr th {\n",
       "        vertical-align: top;\n",
       "    }\n",
       "</style>\n",
       "<table border=\"1\" class=\"dataframe\">\n",
       "  <thead>\n",
       "    <tr style=\"text-align: right;\">\n",
       "      <th></th>\n",
       "      <th>data</th>\n",
       "      <th>drug_id</th>\n",
       "      <th>gene_id</th>\n",
       "    </tr>\n",
       "  </thead>\n",
       "  <tbody>\n",
       "    <tr>\n",
       "      <th>0</th>\n",
       "      <td>1</td>\n",
       "      <td>6</td>\n",
       "      <td>89</td>\n",
       "    </tr>\n",
       "    <tr>\n",
       "      <th>1</th>\n",
       "      <td>1</td>\n",
       "      <td>6</td>\n",
       "      <td>93</td>\n",
       "    </tr>\n",
       "    <tr>\n",
       "      <th>2</th>\n",
       "      <td>1</td>\n",
       "      <td>6</td>\n",
       "      <td>118</td>\n",
       "    </tr>\n",
       "    <tr>\n",
       "      <th>3</th>\n",
       "      <td>1</td>\n",
       "      <td>6</td>\n",
       "      <td>184</td>\n",
       "    </tr>\n",
       "    <tr>\n",
       "      <th>4</th>\n",
       "      <td>1</td>\n",
       "      <td>9</td>\n",
       "      <td>93</td>\n",
       "    </tr>\n",
       "  </tbody>\n",
       "</table>\n",
       "</div>"
      ],
      "text/plain": [
       "   data  drug_id  gene_id\n",
       "0     1        6       89\n",
       "1     1        6       93\n",
       "2     1        6      118\n",
       "3     1        6      184\n",
       "4     1        9       93"
      ]
     },
     "execution_count": 49,
     "metadata": {},
     "output_type": "execute_result"
    }
   ],
   "source": [
    "mat_df.head()"
   ]
  },
  {
   "cell_type": "code",
   "execution_count": 50,
   "metadata": {
    "collapsed": true
   },
   "outputs": [],
   "source": [
    "mat_df['log_data'] = np.log(mat_df['data']+1)"
   ]
  },
  {
   "cell_type": "code",
   "execution_count": 51,
   "metadata": {},
   "outputs": [
    {
     "data": {
      "text/html": [
       "<div>\n",
       "<style>\n",
       "    .dataframe thead tr:only-child th {\n",
       "        text-align: right;\n",
       "    }\n",
       "\n",
       "    .dataframe thead th {\n",
       "        text-align: left;\n",
       "    }\n",
       "\n",
       "    .dataframe tbody tr th {\n",
       "        vertical-align: top;\n",
       "    }\n",
       "</style>\n",
       "<table border=\"1\" class=\"dataframe\">\n",
       "  <thead>\n",
       "    <tr style=\"text-align: right;\">\n",
       "      <th></th>\n",
       "      <th>data</th>\n",
       "      <th>drug_id</th>\n",
       "      <th>gene_id</th>\n",
       "      <th>log_data</th>\n",
       "    </tr>\n",
       "  </thead>\n",
       "  <tbody>\n",
       "    <tr>\n",
       "      <th>0</th>\n",
       "      <td>1</td>\n",
       "      <td>6</td>\n",
       "      <td>89</td>\n",
       "      <td>0.693147</td>\n",
       "    </tr>\n",
       "    <tr>\n",
       "      <th>1</th>\n",
       "      <td>1</td>\n",
       "      <td>6</td>\n",
       "      <td>93</td>\n",
       "      <td>0.693147</td>\n",
       "    </tr>\n",
       "    <tr>\n",
       "      <th>2</th>\n",
       "      <td>1</td>\n",
       "      <td>6</td>\n",
       "      <td>118</td>\n",
       "      <td>0.693147</td>\n",
       "    </tr>\n",
       "    <tr>\n",
       "      <th>3</th>\n",
       "      <td>1</td>\n",
       "      <td>6</td>\n",
       "      <td>184</td>\n",
       "      <td>0.693147</td>\n",
       "    </tr>\n",
       "    <tr>\n",
       "      <th>4</th>\n",
       "      <td>1</td>\n",
       "      <td>9</td>\n",
       "      <td>93</td>\n",
       "      <td>0.693147</td>\n",
       "    </tr>\n",
       "  </tbody>\n",
       "</table>\n",
       "</div>"
      ],
      "text/plain": [
       "   data  drug_id  gene_id  log_data\n",
       "0     1        6       89  0.693147\n",
       "1     1        6       93  0.693147\n",
       "2     1        6      118  0.693147\n",
       "3     1        6      184  0.693147\n",
       "4     1        9       93  0.693147"
      ]
     },
     "execution_count": 51,
     "metadata": {},
     "output_type": "execute_result"
    }
   ],
   "source": [
    "mat_df.head()"
   ]
  },
  {
   "cell_type": "code",
   "execution_count": 52,
   "metadata": {},
   "outputs": [],
   "source": [
    "import pyspark"
   ]
  },
  {
   "cell_type": "code",
   "execution_count": null,
   "metadata": {
    "collapsed": true
   },
   "outputs": [],
   "source": []
  },
  {
   "cell_type": "code",
   "execution_count": null,
   "metadata": {
    "collapsed": true
   },
   "outputs": [],
   "source": []
  },
  {
   "cell_type": "code",
   "execution_count": null,
   "metadata": {
    "collapsed": true
   },
   "outputs": [],
   "source": []
  },
  {
   "cell_type": "code",
   "execution_count": 53,
   "metadata": {},
   "outputs": [],
   "source": [
    "from pyspark.sql import SparkSession"
   ]
  },
  {
   "cell_type": "code",
   "execution_count": null,
   "metadata": {},
   "outputs": [],
   "source": [
    "!source activate py36 && pip install py4j"
   ]
  },
  {
   "cell_type": "code",
   "execution_count": null,
   "metadata": {},
   "outputs": [],
   "source": [
    "! conda env list"
   ]
  },
  {
   "cell_type": "code",
   "execution_count": 59,
   "metadata": {},
   "outputs": [],
   "source": [
    "import pyspark.ml.recommendation"
   ]
  },
  {
   "cell_type": "code",
   "execution_count": 56,
   "metadata": {
    "collapsed": true
   },
   "outputs": [],
   "source": [
    "# Convert a Pandas DF to a Spark DF\n",
    "spark_df = spark.createDataFrame(mat_df) "
   ]
  },
  {
   "cell_type": "code",
   "execution_count": 270,
   "metadata": {},
   "outputs": [],
   "source": [
    "# Create an untrained ALS model.\n",
    "als_model = pyspark.ml.recommendation.ALS(\n",
    "    itemCol='drug_id',\n",
    "    userCol='gene_id',\n",
    "    ratingCol='log_data',\n",
    "    nonnegative=True,    \n",
    "    #regParam=0.1,\n",
    "    #rank=10\n",
    "    ) "
   ]
  },
  {
   "cell_type": "code",
   "execution_count": 271,
   "metadata": {
    "collapsed": true
   },
   "outputs": [],
   "source": [
    "ranks = [1,3,5]"
   ]
  },
  {
   "cell_type": "code",
   "execution_count": 272,
   "metadata": {
    "collapsed": true
   },
   "outputs": [],
   "source": [
    "regs = [0, 0.01, 0.1]"
   ]
  },
  {
   "cell_type": "code",
   "execution_count": 273,
   "metadata": {
    "collapsed": true
   },
   "outputs": [],
   "source": [
    "train_df, test_df = spark_df.randomSplit([0.9, 0.1], seed=427471138)"
   ]
  },
  {
   "cell_type": "code",
   "execution_count": 274,
   "metadata": {},
   "outputs": [
    {
     "name": "stdout",
     "output_type": "stream",
     "text": [
      "+----+-------+-------+------------------+\n",
      "|data|drug_id|gene_id|          log_data|\n",
      "+----+-------+-------+------------------+\n",
      "|   1|      6|     89|0.6931471805599453|\n",
      "|   1|      6|     93|0.6931471805599453|\n",
      "|   1|      6|    118|0.6931471805599453|\n",
      "|   1|      6|    184|0.6931471805599453|\n",
      "|   1|      9|    220|0.6931471805599453|\n",
      "|   1|      9|    270|0.6931471805599453|\n",
      "|   1|     10|     93|0.6931471805599453|\n",
      "|   1|     10|    118|0.6931471805599453|\n",
      "|   1|     10|    184|0.6931471805599453|\n",
      "|   1|     11|     89|0.6931471805599453|\n",
      "|   1|     11|     93|0.6931471805599453|\n",
      "|   1|     11|    118|0.6931471805599453|\n",
      "|   1|     11|    184|0.6931471805599453|\n",
      "|   1|     14|     89|0.6931471805599453|\n",
      "|   1|     14|    118|0.6931471805599453|\n",
      "|   1|     14|    184|0.6931471805599453|\n",
      "|   1|     14|    220|0.6931471805599453|\n",
      "|   1|     14|    270|0.6931471805599453|\n",
      "|   1|     17|     93|0.6931471805599453|\n",
      "|   1|     18|     89|0.6931471805599453|\n",
      "+----+-------+-------+------------------+\n",
      "only showing top 20 rows\n",
      "\n"
     ]
    }
   ],
   "source": [
    "train_df.show()"
   ]
  },
  {
   "cell_type": "code",
   "execution_count": 285,
   "metadata": {
    "scrolled": true
   },
   "outputs": [
    {
     "name": "stdout",
     "output_type": "stream",
     "text": [
      "+----+-------+-------+------------------+----------+\n",
      "|data|drug_id|gene_id|          log_data|prediction|\n",
      "+----+-------+-------+------------------+----------+\n",
      "|   1|     28|     93|0.6931471805599453|  0.894587|\n",
      "|   1|     22|     93|0.6931471805599453|  0.894587|\n",
      "|   1|     61|      8|0.6931471805599453| 1.0155497|\n",
      "|   1|      9|     93|0.6931471805599453| 0.9001406|\n",
      "|   1|     17|    220|0.6931471805599453| 0.6573268|\n",
      "|   1|     17|    270|0.6931471805599453|0.34804526|\n",
      "|   1|     23|    220|0.6931471805599453| 0.9399785|\n",
      "|   1|     10|     89|0.6931471805599453| 0.6418624|\n",
      "|   1|     38|    118|0.6931471805599453|0.63482386|\n",
      "|   1|     25|    118|0.6931471805599453|0.63482386|\n",
      "|   1|     60|     93|0.6931471805599453|  0.894587|\n",
      "|   1|     42|    167|0.6931471805599453|       NaN|\n",
      "|   5|     66|     55| 1.791759469228055| 1.7088627|\n",
      "|   1|     66|      8|0.6931471805599453| 3.3708239|\n",
      "|   6|     66|    240|1.9459101490553132| 2.7589166|\n",
      "|   1|     67|     93|0.6931471805599453|0.75373226|\n",
      "|   1|     67|    270|0.6931471805599453| 0.3722536|\n",
      "|   1|     36|    118|0.6931471805599453|0.63482386|\n",
      "+----+-------+-------+------------------+----------+\n",
      "\n",
      "nan\n",
      "+----+-------+-------+------------------+----------+\n",
      "|data|drug_id|gene_id|          log_data|prediction|\n",
      "+----+-------+-------+------------------+----------+\n",
      "|   1|     28|     93|0.6931471805599453|0.88241637|\n",
      "|   1|     22|     93|0.6931471805599453|0.88241637|\n",
      "|   1|     61|      8|0.6931471805599453|0.73437166|\n",
      "|   1|      9|     93|0.6931471805599453|0.85936403|\n",
      "|   1|     17|    220|0.6931471805599453|0.62312025|\n",
      "|   1|     17|    270|0.6931471805599453|0.34417123|\n",
      "|   1|     23|    220|0.6931471805599453| 0.9086446|\n",
      "|   1|     10|     89|0.6931471805599453| 0.6123582|\n",
      "|   1|     38|    118|0.6931471805599453| 0.6060889|\n",
      "|   1|     25|    118|0.6931471805599453| 0.6060889|\n",
      "|   1|     60|     93|0.6931471805599453|0.88241637|\n",
      "|   1|     42|    167|0.6931471805599453|       NaN|\n",
      "|   5|     66|     55| 1.791759469228055| 1.4131907|\n",
      "|   1|     66|      8|0.6931471805599453|   2.14765|\n",
      "|   6|     66|    240|1.9459101490553132|  1.985451|\n",
      "|   1|     67|     93|0.6931471805599453| 0.7237563|\n",
      "|   1|     67|    270|0.6931471805599453|0.37051782|\n",
      "|   1|     36|    118|0.6931471805599453| 0.6060889|\n",
      "+----+-------+-------+------------------+----------+\n",
      "\n",
      "nan\n",
      "+----+-------+-------+------------------+----------+\n",
      "|data|drug_id|gene_id|          log_data|prediction|\n",
      "+----+-------+-------+------------------+----------+\n",
      "|   1|     28|     93|0.6931471805599453|  0.815206|\n",
      "|   1|     22|     93|0.6931471805599453|  0.815206|\n",
      "|   1|     61|      8|0.6931471805599453|0.69935524|\n",
      "|   1|      9|     93|0.6931471805599453| 0.7299281|\n",
      "|   1|     17|    220|0.6931471805599453|0.63071793|\n",
      "|   1|     17|    270|0.6931471805599453|0.36937943|\n",
      "|   1|     23|    220|0.6931471805599453|0.88560265|\n",
      "|   1|     10|     89|0.6931471805599453| 0.5448422|\n",
      "|   1|     38|    118|0.6931471805599453|0.54136825|\n",
      "|   1|     25|    118|0.6931471805599453|0.54136825|\n",
      "|   1|     60|     93|0.6931471805599453|  0.815206|\n",
      "|   1|     42|    167|0.6931471805599453|       NaN|\n",
      "|   5|     66|     55| 1.791759469228055| 1.0975772|\n",
      "|   1|     66|      8|0.6931471805599453| 1.6782042|\n",
      "|   6|     66|    240|1.9459101490553132| 1.5149887|\n",
      "|   1|     67|     93|0.6931471805599453| 0.6428649|\n",
      "|   1|     67|    270|0.6931471805599453|0.37258837|\n",
      "|   1|     36|    118|0.6931471805599453|0.54136825|\n",
      "+----+-------+-------+------------------+----------+\n",
      "\n",
      "nan\n",
      "+----+-------+-------+------------------+----------+\n",
      "|data|drug_id|gene_id|          log_data|prediction|\n",
      "+----+-------+-------+------------------+----------+\n",
      "|   1|     28|     93|0.6931471805599453| 0.7217986|\n",
      "|   1|     22|     93|0.6931471805599453| 0.7217986|\n",
      "|   1|     61|      8|0.6931471805599453|  0.759926|\n",
      "|   1|      9|     93|0.6931471805599453| 0.6833193|\n",
      "|   1|     17|    220|0.6931471805599453|  0.384656|\n",
      "|   1|     17|    270|0.6931471805599453|0.57364494|\n",
      "|   1|     23|    220|0.6931471805599453| 1.3967164|\n",
      "|   1|     10|     89|0.6931471805599453| 0.6903974|\n",
      "|   1|     38|    118|0.6931471805599453|0.68902147|\n",
      "|   1|     25|    118|0.6931471805599453|0.68902147|\n",
      "|   1|     60|     93|0.6931471805599453| 0.7217986|\n",
      "|   1|     42|    167|0.6931471805599453|       NaN|\n",
      "|   5|     66|     55| 1.791759469228055|  2.945328|\n",
      "|   1|     66|      8|0.6931471805599453| 2.5521479|\n",
      "|   6|     66|    240|1.9459101490553132| 1.8353245|\n",
      "|   1|     67|     93|0.6931471805599453| 0.3527903|\n",
      "|   1|     67|    270|0.6931471805599453|0.33042535|\n",
      "|   1|     36|    118|0.6931471805599453|0.68902147|\n",
      "+----+-------+-------+------------------+----------+\n",
      "\n",
      "nan\n",
      "+----+-------+-------+------------------+----------+\n",
      "|data|drug_id|gene_id|          log_data|prediction|\n",
      "+----+-------+-------+------------------+----------+\n",
      "|   1|     28|     93|0.6931471805599453|0.85498613|\n",
      "|   1|     22|     93|0.6931471805599453|0.85498613|\n",
      "|   1|     61|      8|0.6931471805599453|0.62711096|\n",
      "|   1|      9|     93|0.6931471805599453| 0.8401022|\n",
      "|   1|     17|    220|0.6931471805599453|0.45927045|\n",
      "|   1|     17|    270|0.6931471805599453|0.34019685|\n",
      "|   1|     23|    220|0.6931471805599453| 1.0441298|\n",
      "|   1|     10|     89|0.6931471805599453| 0.6756752|\n",
      "|   1|     38|    118|0.6931471805599453|0.67369866|\n",
      "|   1|     25|    118|0.6931471805599453|0.67369866|\n",
      "|   1|     60|     93|0.6931471805599453|0.85498613|\n",
      "|   1|     42|    167|0.6931471805599453|       NaN|\n",
      "|   5|     66|     55| 1.791759469228055|0.95354307|\n",
      "|   1|     66|      8|0.6931471805599453| 1.4459623|\n",
      "|   6|     66|    240|1.9459101490553132| 1.2782552|\n",
      "|   1|     67|     93|0.6931471805599453|0.43724075|\n",
      "|   1|     67|    270|0.6931471805599453|0.18145348|\n",
      "|   1|     36|    118|0.6931471805599453|0.67369866|\n",
      "+----+-------+-------+------------------+----------+\n",
      "\n",
      "nan\n",
      "+----+-------+-------+------------------+----------+\n",
      "|data|drug_id|gene_id|          log_data|prediction|\n",
      "+----+-------+-------+------------------+----------+\n",
      "|   1|     28|     93|0.6931471805599453| 0.7848428|\n",
      "|   1|     22|     93|0.6931471805599453| 0.7848428|\n",
      "|   1|     61|      8|0.6931471805599453|  0.672305|\n",
      "|   1|      9|     93|0.6931471805599453| 0.7924495|\n",
      "|   1|     17|    220|0.6931471805599453| 0.5513942|\n",
      "|   1|     17|    270|0.6931471805599453|0.33437878|\n",
      "|   1|     23|    220|0.6931471805599453| 0.7549075|\n",
      "|   1|     10|     89|0.6931471805599453|0.55268437|\n",
      "|   1|     38|    118|0.6931471805599453| 0.5493827|\n",
      "|   1|     25|    118|0.6931471805599453| 0.5493827|\n",
      "|   1|     60|     93|0.6931471805599453| 0.7848428|\n",
      "|   1|     42|    167|0.6931471805599453|       NaN|\n",
      "|   5|     66|     55| 1.791759469228055|  1.119983|\n",
      "|   1|     66|      8|0.6931471805599453| 1.3709823|\n",
      "|   6|     66|    240|1.9459101490553132| 1.3208951|\n",
      "|   1|     67|     93|0.6931471805599453| 0.5594342|\n",
      "|   1|     67|    270|0.6931471805599453|0.24440636|\n",
      "|   1|     36|    118|0.6931471805599453| 0.5493827|\n",
      "+----+-------+-------+------------------+----------+\n",
      "\n",
      "nan\n",
      "+----+-------+-------+------------------+-----------+\n",
      "|data|drug_id|gene_id|          log_data| prediction|\n",
      "+----+-------+-------+------------------+-----------+\n",
      "|   1|     28|     93|0.6931471805599453| 0.64249974|\n",
      "|   1|     22|     93|0.6931471805599453| 0.64249974|\n",
      "|   1|     61|      8|0.6931471805599453| 0.53772163|\n",
      "|   1|      9|     93|0.6931471805599453|  1.0346942|\n",
      "|   1|     17|    220|0.6931471805599453| 0.26677254|\n",
      "|   1|     17|    270|0.6931471805599453| 0.22552882|\n",
      "|   1|     23|    220|0.6931471805599453|  0.3187316|\n",
      "|   1|     10|     89|0.6931471805599453| 0.69196206|\n",
      "|   1|     38|    118|0.6931471805599453| 0.69334674|\n",
      "|   1|     25|    118|0.6931471805599453| 0.69334674|\n",
      "|   1|     60|     93|0.6931471805599453| 0.64249974|\n",
      "|   1|     42|    167|0.6931471805599453|        NaN|\n",
      "|   5|     66|     55| 1.791759469228055|  3.1095412|\n",
      "|   1|     66|      8|0.6931471805599453|  1.3725489|\n",
      "|   6|     66|    240|1.9459101490553132|  1.6120564|\n",
      "|   1|     67|     93|0.6931471805599453|0.075767756|\n",
      "|   1|     67|    270|0.6931471805599453|0.030970395|\n",
      "|   1|     36|    118|0.6931471805599453| 0.69334674|\n",
      "+----+-------+-------+------------------+-----------+\n",
      "\n"
     ]
    },
    {
     "name": "stdout",
     "output_type": "stream",
     "text": [
      "nan\n",
      "+----+-------+-------+------------------+----------+\n",
      "|data|drug_id|gene_id|          log_data|prediction|\n",
      "+----+-------+-------+------------------+----------+\n",
      "|   1|     28|     93|0.6931471805599453| 0.6629158|\n",
      "|   1|     22|     93|0.6931471805599453| 0.6629158|\n",
      "|   1|     61|      8|0.6931471805599453| 0.5794986|\n",
      "|   1|      9|     93|0.6931471805599453| 0.7225971|\n",
      "|   1|     17|    220|0.6931471805599453| 0.4126319|\n",
      "|   1|     17|    270|0.6931471805599453| 0.2554496|\n",
      "|   1|     23|    220|0.6931471805599453| 0.6893439|\n",
      "|   1|     10|     89|0.6931471805599453| 0.6783618|\n",
      "|   1|     38|    118|0.6931471805599453|0.67732733|\n",
      "|   1|     25|    118|0.6931471805599453|0.67732733|\n",
      "|   1|     60|     93|0.6931471805599453| 0.6629158|\n",
      "|   1|     42|    167|0.6931471805599453|       NaN|\n",
      "|   5|     66|     55| 1.791759469228055| 1.5497143|\n",
      "|   1|     66|      8|0.6931471805599453| 1.6105597|\n",
      "|   6|     66|    240|1.9459101490553132|  1.611935|\n",
      "|   1|     67|     93|0.6931471805599453|0.37640873|\n",
      "|   1|     67|    270|0.6931471805599453|0.10537915|\n",
      "|   1|     36|    118|0.6931471805599453|0.67732733|\n",
      "+----+-------+-------+------------------+----------+\n",
      "\n",
      "nan\n",
      "+----+-------+-------+------------------+----------+\n",
      "|data|drug_id|gene_id|          log_data|prediction|\n",
      "+----+-------+-------+------------------+----------+\n",
      "|   1|     28|     93|0.6931471805599453| 0.7856253|\n",
      "|   1|     22|     93|0.6931471805599453| 0.7856253|\n",
      "|   1|     61|      8|0.6931471805599453| 0.6472269|\n",
      "|   1|      9|     93|0.6931471805599453|0.79457855|\n",
      "|   1|     17|    220|0.6931471805599453| 0.5517129|\n",
      "|   1|     17|    270|0.6931471805599453|0.33528492|\n",
      "|   1|     23|    220|0.6931471805599453| 0.7558126|\n",
      "|   1|     10|     89|0.6931471805599453|0.55317736|\n",
      "|   1|     38|    118|0.6931471805599453|0.54988223|\n",
      "|   1|     25|    118|0.6931471805599453|0.54988223|\n",
      "|   1|     60|     93|0.6931471805599453| 0.7856253|\n",
      "|   1|     42|    167|0.6931471805599453|       NaN|\n",
      "|   5|     66|     55| 1.791759469228055|  1.162117|\n",
      "|   1|     66|      8|0.6931471805599453| 1.3641499|\n",
      "|   6|     66|    240|1.9459101490553132| 1.3320135|\n",
      "|   1|     67|     93|0.6931471805599453|   0.56066|\n",
      "|   1|     67|    270|0.6931471805599453|0.24516216|\n",
      "|   1|     36|    118|0.6931471805599453|0.54988223|\n",
      "+----+-------+-------+------------------+----------+\n",
      "\n",
      "nan\n"
     ]
    }
   ],
   "source": [
    "for rank in ranks:\n",
    "    for reg in regs:\n",
    "        als_model = pyspark.ml.recommendation.ALS(\n",
    "        itemCol='drug_id',\n",
    "        userCol='gene_id',\n",
    "        ratingCol='log_data',\n",
    "        nonnegative=True,    \n",
    "        regParam=reg,\n",
    "        rank=rank)\n",
    "        drug_recommender = als_model.fit(train_df)\n",
    "        drug_predictions = drug_recommender.transform(test_df)\n",
    "        drug_predictions.na.drop(\"any\")\n",
    "        drug_predictions.show()\n",
    "        rmse_eval=RegressionEvaluator(metricName=\"rmse\",  labelCol='log_data', predictionCol='prediction')\n",
    "        print(rmse_eval.evaluate(drug_predictions))"
   ]
  },
  {
   "cell_type": "code",
   "execution_count": null,
   "metadata": {
    "collapsed": true
   },
   "outputs": [],
   "source": []
  },
  {
   "cell_type": "code",
   "execution_count": 64,
   "metadata": {},
   "outputs": [],
   "source": [
    "train_df, test_df = spark_df.randomSplit([0.8, 0.2], seed=427471138)"
   ]
  },
  {
   "cell_type": "code",
   "execution_count": 65,
   "metadata": {},
   "outputs": [],
   "source": [
    "# Train the ALS model. We'll call the trained model `recommender`.\n",
    "drug_recommender = als_model.fit(train_df)"
   ]
  },
  {
   "cell_type": "code",
   "execution_count": 69,
   "metadata": {},
   "outputs": [],
   "source": [
    "drug_predictions = drug_recommender.transform(test_df)"
   ]
  },
  {
   "cell_type": "code",
   "execution_count": 72,
   "metadata": {},
   "outputs": [
    {
     "data": {
      "text/html": [
       "<div>\n",
       "<style>\n",
       "    .dataframe thead tr:only-child th {\n",
       "        text-align: right;\n",
       "    }\n",
       "\n",
       "    .dataframe thead th {\n",
       "        text-align: left;\n",
       "    }\n",
       "\n",
       "    .dataframe tbody tr th {\n",
       "        vertical-align: top;\n",
       "    }\n",
       "</style>\n",
       "<table border=\"1\" class=\"dataframe\">\n",
       "  <thead>\n",
       "    <tr style=\"text-align: right;\">\n",
       "      <th></th>\n",
       "      <th>data</th>\n",
       "      <th>drug_id</th>\n",
       "      <th>gene_id</th>\n",
       "      <th>log_data</th>\n",
       "      <th>prediction</th>\n",
       "    </tr>\n",
       "  </thead>\n",
       "  <tbody>\n",
       "    <tr>\n",
       "      <th>0</th>\n",
       "      <td>1</td>\n",
       "      <td>28</td>\n",
       "      <td>93</td>\n",
       "      <td>0.693147</td>\n",
       "      <td>0.797905</td>\n",
       "    </tr>\n",
       "    <tr>\n",
       "      <th>1</th>\n",
       "      <td>1</td>\n",
       "      <td>22</td>\n",
       "      <td>93</td>\n",
       "      <td>0.693147</td>\n",
       "      <td>0.797811</td>\n",
       "    </tr>\n",
       "    <tr>\n",
       "      <th>2</th>\n",
       "      <td>1</td>\n",
       "      <td>22</td>\n",
       "      <td>118</td>\n",
       "      <td>0.693147</td>\n",
       "      <td>0.595789</td>\n",
       "    </tr>\n",
       "    <tr>\n",
       "      <th>3</th>\n",
       "      <td>1</td>\n",
       "      <td>47</td>\n",
       "      <td>220</td>\n",
       "      <td>0.693147</td>\n",
       "      <td>0.792780</td>\n",
       "    </tr>\n",
       "    <tr>\n",
       "      <th>4</th>\n",
       "      <td>1</td>\n",
       "      <td>47</td>\n",
       "      <td>270</td>\n",
       "      <td>0.693147</td>\n",
       "      <td>0.524112</td>\n",
       "    </tr>\n",
       "    <tr>\n",
       "      <th>5</th>\n",
       "      <td>1</td>\n",
       "      <td>6</td>\n",
       "      <td>89</td>\n",
       "      <td>0.693147</td>\n",
       "      <td>0.544803</td>\n",
       "    </tr>\n",
       "    <tr>\n",
       "      <th>6</th>\n",
       "      <td>1</td>\n",
       "      <td>37</td>\n",
       "      <td>93</td>\n",
       "      <td>0.693147</td>\n",
       "      <td>1.331818</td>\n",
       "    </tr>\n",
       "    <tr>\n",
       "      <th>7</th>\n",
       "      <td>1</td>\n",
       "      <td>61</td>\n",
       "      <td>8</td>\n",
       "      <td>0.693147</td>\n",
       "      <td>0.741295</td>\n",
       "    </tr>\n",
       "    <tr>\n",
       "      <th>8</th>\n",
       "      <td>1</td>\n",
       "      <td>9</td>\n",
       "      <td>93</td>\n",
       "      <td>0.693147</td>\n",
       "      <td>0.767219</td>\n",
       "    </tr>\n",
       "    <tr>\n",
       "      <th>9</th>\n",
       "      <td>1</td>\n",
       "      <td>9</td>\n",
       "      <td>220</td>\n",
       "      <td>0.693147</td>\n",
       "      <td>0.536341</td>\n",
       "    </tr>\n",
       "    <tr>\n",
       "      <th>10</th>\n",
       "      <td>1</td>\n",
       "      <td>17</td>\n",
       "      <td>220</td>\n",
       "      <td>0.693147</td>\n",
       "      <td>0.569245</td>\n",
       "    </tr>\n",
       "    <tr>\n",
       "      <th>11</th>\n",
       "      <td>1</td>\n",
       "      <td>17</td>\n",
       "      <td>270</td>\n",
       "      <td>0.693147</td>\n",
       "      <td>0.306204</td>\n",
       "    </tr>\n",
       "    <tr>\n",
       "      <th>12</th>\n",
       "      <td>1</td>\n",
       "      <td>35</td>\n",
       "      <td>8</td>\n",
       "      <td>0.693147</td>\n",
       "      <td>1.077091</td>\n",
       "    </tr>\n",
       "    <tr>\n",
       "      <th>13</th>\n",
       "      <td>1</td>\n",
       "      <td>35</td>\n",
       "      <td>184</td>\n",
       "      <td>0.693147</td>\n",
       "      <td>0.864611</td>\n",
       "    </tr>\n",
       "    <tr>\n",
       "      <th>14</th>\n",
       "      <td>1</td>\n",
       "      <td>59</td>\n",
       "      <td>93</td>\n",
       "      <td>0.693147</td>\n",
       "      <td>0.797905</td>\n",
       "    </tr>\n",
       "    <tr>\n",
       "      <th>15</th>\n",
       "      <td>1</td>\n",
       "      <td>23</td>\n",
       "      <td>220</td>\n",
       "      <td>0.693147</td>\n",
       "      <td>0.758351</td>\n",
       "    </tr>\n",
       "    <tr>\n",
       "      <th>16</th>\n",
       "      <td>1</td>\n",
       "      <td>63</td>\n",
       "      <td>89</td>\n",
       "      <td>0.693147</td>\n",
       "      <td>0.544803</td>\n",
       "    </tr>\n",
       "    <tr>\n",
       "      <th>17</th>\n",
       "      <td>1</td>\n",
       "      <td>10</td>\n",
       "      <td>89</td>\n",
       "      <td>0.693147</td>\n",
       "      <td>0.544803</td>\n",
       "    </tr>\n",
       "    <tr>\n",
       "      <th>18</th>\n",
       "      <td>1</td>\n",
       "      <td>38</td>\n",
       "      <td>118</td>\n",
       "      <td>0.693147</td>\n",
       "      <td>0.521247</td>\n",
       "    </tr>\n",
       "    <tr>\n",
       "      <th>19</th>\n",
       "      <td>1</td>\n",
       "      <td>38</td>\n",
       "      <td>89</td>\n",
       "      <td>0.693147</td>\n",
       "      <td>0.519821</td>\n",
       "    </tr>\n",
       "    <tr>\n",
       "      <th>20</th>\n",
       "      <td>1</td>\n",
       "      <td>25</td>\n",
       "      <td>118</td>\n",
       "      <td>0.693147</td>\n",
       "      <td>0.520954</td>\n",
       "    </tr>\n",
       "    <tr>\n",
       "      <th>21</th>\n",
       "      <td>1</td>\n",
       "      <td>25</td>\n",
       "      <td>184</td>\n",
       "      <td>0.693147</td>\n",
       "      <td>0.523733</td>\n",
       "    </tr>\n",
       "    <tr>\n",
       "      <th>22</th>\n",
       "      <td>1</td>\n",
       "      <td>60</td>\n",
       "      <td>93</td>\n",
       "      <td>0.693147</td>\n",
       "      <td>0.797905</td>\n",
       "    </tr>\n",
       "    <tr>\n",
       "      <th>23</th>\n",
       "      <td>1</td>\n",
       "      <td>14</td>\n",
       "      <td>184</td>\n",
       "      <td>0.693147</td>\n",
       "      <td>0.625962</td>\n",
       "    </tr>\n",
       "    <tr>\n",
       "      <th>24</th>\n",
       "      <td>1</td>\n",
       "      <td>42</td>\n",
       "      <td>167</td>\n",
       "      <td>0.693147</td>\n",
       "      <td>NaN</td>\n",
       "    </tr>\n",
       "    <tr>\n",
       "      <th>25</th>\n",
       "      <td>1</td>\n",
       "      <td>66</td>\n",
       "      <td>218</td>\n",
       "      <td>0.693147</td>\n",
       "      <td>NaN</td>\n",
       "    </tr>\n",
       "    <tr>\n",
       "      <th>26</th>\n",
       "      <td>5</td>\n",
       "      <td>66</td>\n",
       "      <td>55</td>\n",
       "      <td>1.791759</td>\n",
       "      <td>1.067325</td>\n",
       "    </tr>\n",
       "    <tr>\n",
       "      <th>27</th>\n",
       "      <td>1</td>\n",
       "      <td>66</td>\n",
       "      <td>8</td>\n",
       "      <td>0.693147</td>\n",
       "      <td>1.840142</td>\n",
       "    </tr>\n",
       "    <tr>\n",
       "      <th>28</th>\n",
       "      <td>6</td>\n",
       "      <td>66</td>\n",
       "      <td>240</td>\n",
       "      <td>1.945910</td>\n",
       "      <td>1.444829</td>\n",
       "    </tr>\n",
       "    <tr>\n",
       "      <th>29</th>\n",
       "      <td>1</td>\n",
       "      <td>46</td>\n",
       "      <td>118</td>\n",
       "      <td>0.693147</td>\n",
       "      <td>0.546503</td>\n",
       "    </tr>\n",
       "    <tr>\n",
       "      <th>30</th>\n",
       "      <td>1</td>\n",
       "      <td>67</td>\n",
       "      <td>93</td>\n",
       "      <td>0.693147</td>\n",
       "      <td>0.622483</td>\n",
       "    </tr>\n",
       "    <tr>\n",
       "      <th>31</th>\n",
       "      <td>1</td>\n",
       "      <td>67</td>\n",
       "      <td>270</td>\n",
       "      <td>0.693147</td>\n",
       "      <td>0.233014</td>\n",
       "    </tr>\n",
       "    <tr>\n",
       "      <th>32</th>\n",
       "      <td>1</td>\n",
       "      <td>36</td>\n",
       "      <td>118</td>\n",
       "      <td>0.693147</td>\n",
       "      <td>0.521247</td>\n",
       "    </tr>\n",
       "    <tr>\n",
       "      <th>33</th>\n",
       "      <td>1</td>\n",
       "      <td>36</td>\n",
       "      <td>89</td>\n",
       "      <td>0.693147</td>\n",
       "      <td>0.519821</td>\n",
       "    </tr>\n",
       "  </tbody>\n",
       "</table>\n",
       "</div>"
      ],
      "text/plain": [
       "    data  drug_id  gene_id  log_data  prediction\n",
       "0      1       28       93  0.693147    0.797905\n",
       "1      1       22       93  0.693147    0.797811\n",
       "2      1       22      118  0.693147    0.595789\n",
       "3      1       47      220  0.693147    0.792780\n",
       "4      1       47      270  0.693147    0.524112\n",
       "5      1        6       89  0.693147    0.544803\n",
       "6      1       37       93  0.693147    1.331818\n",
       "7      1       61        8  0.693147    0.741295\n",
       "8      1        9       93  0.693147    0.767219\n",
       "9      1        9      220  0.693147    0.536341\n",
       "10     1       17      220  0.693147    0.569245\n",
       "11     1       17      270  0.693147    0.306204\n",
       "12     1       35        8  0.693147    1.077091\n",
       "13     1       35      184  0.693147    0.864611\n",
       "14     1       59       93  0.693147    0.797905\n",
       "15     1       23      220  0.693147    0.758351\n",
       "16     1       63       89  0.693147    0.544803\n",
       "17     1       10       89  0.693147    0.544803\n",
       "18     1       38      118  0.693147    0.521247\n",
       "19     1       38       89  0.693147    0.519821\n",
       "20     1       25      118  0.693147    0.520954\n",
       "21     1       25      184  0.693147    0.523733\n",
       "22     1       60       93  0.693147    0.797905\n",
       "23     1       14      184  0.693147    0.625962\n",
       "24     1       42      167  0.693147         NaN\n",
       "25     1       66      218  0.693147         NaN\n",
       "26     5       66       55  1.791759    1.067325\n",
       "27     1       66        8  0.693147    1.840142\n",
       "28     6       66      240  1.945910    1.444829\n",
       "29     1       46      118  0.693147    0.546503\n",
       "30     1       67       93  0.693147    0.622483\n",
       "31     1       67      270  0.693147    0.233014\n",
       "32     1       36      118  0.693147    0.521247\n",
       "33     1       36       89  0.693147    0.519821"
      ]
     },
     "execution_count": 72,
     "metadata": {},
     "output_type": "execute_result"
    }
   ],
   "source": [
    "drug_predictions.toPandas()"
   ]
  },
  {
   "cell_type": "code",
   "execution_count": 75,
   "metadata": {},
   "outputs": [
    {
     "name": "stdout",
     "output_type": "stream",
     "text": [
      "+---+--------------------+\n",
      "| id|            features|\n",
      "+---+--------------------+\n",
      "| 10|[0.31725955, 0.03...|\n",
      "| 30|[0.100674726, 0.2...|\n",
      "| 60|[0.33753693, 0.04...|\n",
      "| 11|[0.32478464, 0.03...|\n",
      "| 31|[0.2961194, 0.086...|\n",
      "| 61|[0.027094483, 0.2...|\n",
      "| 22|[0.33747894, 0.04...|\n",
      "| 42|[0.0, 0.0, 0.1109...|\n",
      "| 52|[0.32478464, 0.03...|\n",
      "| 62|[0.32478464, 0.03...|\n",
      "| 23|[0.32851702, 0.05...|\n",
      "| 63|[0.31725955, 0.03...|\n",
      "| 14|[0.31998923, 0.03...|\n",
      "| 25|[0.2950566, 0.034...|\n",
      "| 35|[0.37945074, 0.0,...|\n",
      "| 55|[0.17510338, 0.11...|\n",
      "|  6|[0.31725955, 0.03...|\n",
      "| 26|[0.3186632, 0.024...|\n",
      "| 36|[0.2970438, 0.036...|\n",
      "| 46|[0.3168087, 0.034...|\n",
      "+---+--------------------+\n",
      "only showing top 20 rows\n",
      "\n"
     ]
    }
   ],
   "source": [
    "drug_recommender.itemFactors.show()"
   ]
  },
  {
   "cell_type": "code",
   "execution_count": 82,
   "metadata": {},
   "outputs": [
    {
     "data": {
      "text/plain": [
       "DataFrame[summary: string, data: string, drug_id: string, gene_id: string, log_data: string, prediction: string]"
      ]
     },
     "execution_count": 82,
     "metadata": {},
     "output_type": "execute_result"
    }
   ],
   "source": [
    "drug_predictions.describe()"
   ]
  },
  {
   "cell_type": "code",
   "execution_count": 218,
   "metadata": {
    "collapsed": true
   },
   "outputs": [],
   "source": [
    "# Create an untrained ALS model.\n",
    "als_model = pyspark.ml.recommendation.ALS(\n",
    "    #itemCol='drug_id',\n",
    "    #userCol='gene_id',\n",
    "    #ratingCol='log_data',\n",
    "    #nonnegative=True,    \n",
    "    #regParam=0.1,\n",
    "    #rank=10\n",
    "    ) "
   ]
  },
  {
   "cell_type": "code",
   "execution_count": 150,
   "metadata": {
    "collapsed": true
   },
   "outputs": [],
   "source": [
    "# Train the ALS model. We'll call the trained model `recommender`.\n",
    "drug_recommender = als_model.fit(spark_df)"
   ]
  },
  {
   "cell_type": "code",
   "execution_count": 219,
   "metadata": {
    "collapsed": true
   },
   "outputs": [],
   "source": [
    "from pyspark.ml import Pipeline"
   ]
  },
  {
   "cell_type": "code",
   "execution_count": 220,
   "metadata": {
    "collapsed": true
   },
   "outputs": [],
   "source": [
    "from pyspark.ml.tuning import CrossValidator, ParamGridBuilder"
   ]
  },
  {
   "cell_type": "code",
   "execution_count": 221,
   "metadata": {
    "collapsed": true
   },
   "outputs": [],
   "source": [
    "from pyspark.ml.evaluation import RegressionEvaluator"
   ]
  },
  {
   "cell_type": "code",
   "execution_count": 222,
   "metadata": {},
   "outputs": [],
   "source": [
    "rmse_eval=RegressionEvaluator(metricName=\"rmse\", labelCol='log_data', predictionCol='prediction')"
   ]
  },
  {
   "cell_type": "code",
   "execution_count": 223,
   "metadata": {},
   "outputs": [],
   "source": [
    "pipeline = Pipeline(stages=[als_model])"
   ]
  },
  {
   "cell_type": "code",
   "execution_count": 225,
   "metadata": {},
   "outputs": [],
   "source": [
    "paramGrid = (ParamGridBuilder()\n",
    "             .addGrid(als_model.itemCol,['drug_id'])\n",
    "             .addGrid(als_model.userCol,['gene_id'])\n",
    "             .addGrid(als_model.ratingCol,['log_data'])\n",
    "             .addGrid(als_model.rank, [1,2,3])\n",
    "             .addGrid(als_model.regParam, [1, 0.1])#, 0.01, 0.001, 0.0001, 0])\n",
    "             .build())\n",
    "#.addGrid(drug_recommender.regParam, [1, 0.1, 0.01, 0.001, 0.0001, 0])"
   ]
  },
  {
   "cell_type": "code",
   "execution_count": 226,
   "metadata": {},
   "outputs": [],
   "source": [
    "crossval = CrossValidator(estimator=pipeline,\n",
    "                          estimatorParamMaps=paramGrid,\n",
    "                          evaluator=rmse_eval,\n",
    "                          numFolds=5)"
   ]
  },
  {
   "cell_type": "code",
   "execution_count": 228,
   "metadata": {},
   "outputs": [],
   "source": [
    "cvModel = crossval.fit(spark_df)"
   ]
  },
  {
   "cell_type": "code",
   "execution_count": 229,
   "metadata": {},
   "outputs": [
    {
     "data": {
      "text/plain": [
       "PipelineModel_4c15b0299c5283f5e272"
      ]
     },
     "execution_count": 229,
     "metadata": {},
     "output_type": "execute_result"
    }
   ],
   "source": [
    "cvModel.bestModel"
   ]
  },
  {
   "cell_type": "code",
   "execution_count": 230,
   "metadata": {},
   "outputs": [
    {
     "data": {
      "text/plain": [
       "1"
      ]
     },
     "execution_count": 230,
     "metadata": {},
     "output_type": "execute_result"
    }
   ],
   "source": [
    "bestmodel.rank"
   ]
  },
  {
   "cell_type": "code",
   "execution_count": 232,
   "metadata": {},
   "outputs": [
    {
     "ename": "Py4JError",
     "evalue": "An error occurred while calling o7686.getRegParam. Trace:\npy4j.Py4JException: Method getRegParam([]) does not exist\n\tat py4j.reflection.ReflectionEngine.getMethod(ReflectionEngine.java:318)\n\tat py4j.reflection.ReflectionEngine.getMethod(ReflectionEngine.java:326)\n\tat py4j.Gateway.invoke(Gateway.java:272)\n\tat py4j.commands.AbstractCommand.invokeMethod(AbstractCommand.java:132)\n\tat py4j.commands.CallCommand.execute(CallCommand.java:79)\n\tat py4j.GatewayConnection.run(GatewayConnection.java:214)\n\tat java.lang.Thread.run(Thread.java:748)\n\n",
     "output_type": "error",
     "traceback": [
      "\u001b[0;31m---------------------------------------------------------------------------\u001b[0m",
      "\u001b[0;31mPy4JError\u001b[0m                                 Traceback (most recent call last)",
      "\u001b[0;32m<ipython-input-232-6e9e7e8b6c1e>\u001b[0m in \u001b[0;36m<module>\u001b[0;34m()\u001b[0m\n\u001b[0;32m----> 1\u001b[0;31m \u001b[0mbestmodel\u001b[0m\u001b[0;34m.\u001b[0m\u001b[0m_java_obj\u001b[0m\u001b[0;34m.\u001b[0m\u001b[0mgetRegParam\u001b[0m\u001b[0;34m(\u001b[0m\u001b[0;34m)\u001b[0m\u001b[0;34m\u001b[0m\u001b[0m\n\u001b[0m",
      "\u001b[0;32m/usr/local/Cellar/apache-spark/2.2.0/libexec/python/lib/py4j-0.10.4-src.zip/py4j/java_gateway.py\u001b[0m in \u001b[0;36m__call__\u001b[0;34m(self, *args)\u001b[0m\n\u001b[1;32m   1131\u001b[0m         \u001b[0manswer\u001b[0m \u001b[0;34m=\u001b[0m \u001b[0mself\u001b[0m\u001b[0;34m.\u001b[0m\u001b[0mgateway_client\u001b[0m\u001b[0;34m.\u001b[0m\u001b[0msend_command\u001b[0m\u001b[0;34m(\u001b[0m\u001b[0mcommand\u001b[0m\u001b[0;34m)\u001b[0m\u001b[0;34m\u001b[0m\u001b[0m\n\u001b[1;32m   1132\u001b[0m         return_value = get_return_value(\n\u001b[0;32m-> 1133\u001b[0;31m             answer, self.gateway_client, self.target_id, self.name)\n\u001b[0m\u001b[1;32m   1134\u001b[0m \u001b[0;34m\u001b[0m\u001b[0m\n\u001b[1;32m   1135\u001b[0m         \u001b[0;32mfor\u001b[0m \u001b[0mtemp_arg\u001b[0m \u001b[0;32min\u001b[0m \u001b[0mtemp_args\u001b[0m\u001b[0;34m:\u001b[0m\u001b[0;34m\u001b[0m\u001b[0m\n",
      "\u001b[0;32m/usr/local/Cellar/apache-spark/2.2.0/libexec/python/pyspark/sql/utils.py\u001b[0m in \u001b[0;36mdeco\u001b[0;34m(*a, **kw)\u001b[0m\n\u001b[1;32m     61\u001b[0m     \u001b[0;32mdef\u001b[0m \u001b[0mdeco\u001b[0m\u001b[0;34m(\u001b[0m\u001b[0;34m*\u001b[0m\u001b[0ma\u001b[0m\u001b[0;34m,\u001b[0m \u001b[0;34m**\u001b[0m\u001b[0mkw\u001b[0m\u001b[0;34m)\u001b[0m\u001b[0;34m:\u001b[0m\u001b[0;34m\u001b[0m\u001b[0m\n\u001b[1;32m     62\u001b[0m         \u001b[0;32mtry\u001b[0m\u001b[0;34m:\u001b[0m\u001b[0;34m\u001b[0m\u001b[0m\n\u001b[0;32m---> 63\u001b[0;31m             \u001b[0;32mreturn\u001b[0m \u001b[0mf\u001b[0m\u001b[0;34m(\u001b[0m\u001b[0;34m*\u001b[0m\u001b[0ma\u001b[0m\u001b[0;34m,\u001b[0m \u001b[0;34m**\u001b[0m\u001b[0mkw\u001b[0m\u001b[0;34m)\u001b[0m\u001b[0;34m\u001b[0m\u001b[0m\n\u001b[0m\u001b[1;32m     64\u001b[0m         \u001b[0;32mexcept\u001b[0m \u001b[0mpy4j\u001b[0m\u001b[0;34m.\u001b[0m\u001b[0mprotocol\u001b[0m\u001b[0;34m.\u001b[0m\u001b[0mPy4JJavaError\u001b[0m \u001b[0;32mas\u001b[0m \u001b[0me\u001b[0m\u001b[0;34m:\u001b[0m\u001b[0;34m\u001b[0m\u001b[0m\n\u001b[1;32m     65\u001b[0m             \u001b[0ms\u001b[0m \u001b[0;34m=\u001b[0m \u001b[0me\u001b[0m\u001b[0;34m.\u001b[0m\u001b[0mjava_exception\u001b[0m\u001b[0;34m.\u001b[0m\u001b[0mtoString\u001b[0m\u001b[0;34m(\u001b[0m\u001b[0;34m)\u001b[0m\u001b[0;34m\u001b[0m\u001b[0m\n",
      "\u001b[0;32m/usr/local/Cellar/apache-spark/2.2.0/libexec/python/lib/py4j-0.10.4-src.zip/py4j/protocol.py\u001b[0m in \u001b[0;36mget_return_value\u001b[0;34m(answer, gateway_client, target_id, name)\u001b[0m\n\u001b[1;32m    321\u001b[0m                 raise Py4JError(\n\u001b[1;32m    322\u001b[0m                     \u001b[0;34m\"An error occurred while calling {0}{1}{2}. Trace:\\n{3}\\n\"\u001b[0m\u001b[0;34m.\u001b[0m\u001b[0;34m\u001b[0m\u001b[0m\n\u001b[0;32m--> 323\u001b[0;31m                     format(target_id, \".\", name, value))\n\u001b[0m\u001b[1;32m    324\u001b[0m         \u001b[0;32melse\u001b[0m\u001b[0;34m:\u001b[0m\u001b[0;34m\u001b[0m\u001b[0m\n\u001b[1;32m    325\u001b[0m             raise Py4JError(\n",
      "\u001b[0;31mPy4JError\u001b[0m: An error occurred while calling o7686.getRegParam. Trace:\npy4j.Py4JException: Method getRegParam([]) does not exist\n\tat py4j.reflection.ReflectionEngine.getMethod(ReflectionEngine.java:318)\n\tat py4j.reflection.ReflectionEngine.getMethod(ReflectionEngine.java:326)\n\tat py4j.Gateway.invoke(Gateway.java:272)\n\tat py4j.commands.AbstractCommand.invokeMethod(AbstractCommand.java:132)\n\tat py4j.commands.CallCommand.execute(CallCommand.java:79)\n\tat py4j.GatewayConnection.run(GatewayConnection.java:214)\n\tat java.lang.Thread.run(Thread.java:748)\n\n"
     ]
    }
   ],
   "source": [
    "bestmodel._java_obj.getRegParam()"
   ]
  },
  {
   "cell_type": "code",
   "execution_count": null,
   "metadata": {
    "collapsed": true
   },
   "outputs": [],
   "source": []
  },
  {
   "cell_type": "code",
   "execution_count": null,
   "metadata": {
    "collapsed": true
   },
   "outputs": [],
   "source": []
  },
  {
   "cell_type": "code",
   "execution_count": null,
   "metadata": {
    "collapsed": true
   },
   "outputs": [],
   "source": []
  },
  {
   "cell_type": "code",
   "execution_count": 106,
   "metadata": {
    "collapsed": true
   },
   "outputs": [],
   "source": [
    "def process_genes():\n",
    "    genes = input('For what genes would you like to get drug interaction information? ')\n",
    "    gene_list=genes.split(', ')\n",
    "    processed_gene_list = []\n",
    "    for id in gene_list:\n",
    "        try: \n",
    "            gene_dict[id]\n",
    "            processed_gene_list.append(gene_dict[id])\n",
    "        except KeyError:\n",
    "            print(\"Gene: {} not in list\".format(id)) \n",
    "    return processed_gene_list"
   ]
  },
  {
   "cell_type": "code",
   "execution_count": 107,
   "metadata": {
    "collapsed": true
   },
   "outputs": [],
   "source": [
    "inverse_network_genes = dict((v, k) for k, v in network_genes.items())"
   ]
  },
  {
   "cell_type": "code",
   "execution_count": 108,
   "metadata": {
    "collapsed": true
   },
   "outputs": [],
   "source": [
    "inverse_network_drugs = dict((v, k) for k, v in network_drugs.items())"
   ]
  },
  {
   "cell_type": "code",
   "execution_count": 109,
   "metadata": {
    "scrolled": true
   },
   "outputs": [
    {
     "data": {
      "text/plain": [
       "8"
      ]
     },
     "execution_count": 109,
     "metadata": {},
     "output_type": "execute_result"
    }
   ],
   "source": [
    "inverse_network_genes['#akt1#']"
   ]
  },
  {
   "cell_type": "code",
   "execution_count": 110,
   "metadata": {},
   "outputs": [
    {
     "data": {
      "text/plain": [
       "66"
      ]
     },
     "execution_count": 110,
     "metadata": {},
     "output_type": "execute_result"
    }
   ],
   "source": [
    "inverse_network_drugs['#trastuzumab#']"
   ]
  },
  {
   "cell_type": "code",
   "execution_count": 349,
   "metadata": {},
   "outputs": [],
   "source": [
    "import graph_maker"
   ]
  },
  {
   "cell_type": "code",
   "execution_count": 302,
   "metadata": {},
   "outputs": [
    {
     "name": "stdout",
     "output_type": "stream",
     "text": [
      "For what genes would you like to get drug interaction information?:, enter \"all\" for full network  all\n",
      "if you are interested on drug resistance evidence press \"r\"if you are interested on drug resistance evidence press \"s\"if you are interested on general interactions press \"g\" if you are interested on all of above interactions press \"a\" r\n",
      "\n",
      " no drug interactions with gene #acadl# were found in our database\n",
      "\n",
      " no drug interactions with gene #ackr3# were found in our database\n",
      "\n",
      " no drug interactions with gene #acpp# were found in our database\n",
      "\n",
      " no drug interactions with gene #ado# were found in our database\n",
      "\n",
      " no drug interactions with gene #agfg1# were found in our database\n",
      "\n",
      " no drug interactions with gene #aicda# were found in our database\n",
      "\n",
      " no drug interactions with gene #airn# were found in our database\n",
      "\n",
      " no drug interactions with gene #alb# were found in our database\n",
      "\n",
      " no drug interactions with gene #alpi# were found in our database\n",
      "\n",
      " no drug interactions with gene #alyref# were found in our database\n",
      "\n",
      " no drug interactions with gene #amh# were found in our database\n",
      "\n",
      " no drug interactions with gene #ar# were found in our database\n",
      "\n",
      " no drug interactions with gene #arc# were found in our database\n",
      "\n",
      " no drug interactions with gene #areg# were found in our database\n",
      "\n",
      " no drug interactions with gene #arhgef7# were found in our database\n",
      "\n",
      " no drug interactions with gene #armc9# were found in our database\n",
      "\n",
      " no drug interactions with gene #atg12# were found in our database\n",
      "\n",
      " no drug interactions with gene #atm# were found in our database\n",
      "\n",
      " no drug interactions with gene #atr# were found in our database\n",
      "\n",
      " no drug interactions with gene #bank1# were found in our database\n",
      "\n",
      " no drug interactions with gene #bax# were found in our database\n",
      "\n",
      " no drug interactions with gene #bbc3# were found in our database\n",
      "\n",
      " no drug interactions with gene #bcl2# were found in our database\n",
      "\n",
      " no drug interactions with gene #bcs1l# were found in our database\n",
      "\n",
      " no drug interactions with gene #bid# were found in our database\n",
      "\n",
      " no drug interactions with gene #bivm# were found in our database\n",
      "\n",
      " no drug interactions with gene #bmi1# were found in our database\n",
      "\n",
      " no drug interactions with gene #bmp7# were found in our database\n",
      "\n",
      " no drug interactions with gene #bpifa4p# were found in our database\n",
      "\n",
      " no drug interactions with gene #braf# were found in our database\n",
      "\n",
      " no drug interactions with gene #brca1# were found in our database\n",
      "\n",
      " no drug interactions with gene #brca2# were found in our database\n",
      "\n",
      " no drug interactions with gene #brd2# were found in our database\n",
      "\n",
      " no drug interactions with gene #brip1# were found in our database\n",
      "\n",
      " no drug interactions with gene #c1qbp# were found in our database\n",
      "\n",
      " no drug interactions with gene #ca1# were found in our database\n",
      "\n",
      " no drug interactions with gene #cat# were found in our database\n",
      "\n",
      " no drug interactions with gene #ccnd1# were found in our database\n",
      "\n",
      " no drug interactions with gene #ccng2# were found in our database\n",
      "\n",
      " no drug interactions with gene #cct# were found in our database\n",
      "\n",
      " no drug interactions with gene #cd24# were found in our database\n",
      "\n",
      " no drug interactions with gene #cd44# were found in our database\n",
      "\n",
      " no drug interactions with gene #cdh1# were found in our database\n",
      "\n",
      " no drug interactions with gene #cdh17# were found in our database\n",
      "\n",
      " no drug interactions with gene #cdk2# were found in our database\n",
      "\n",
      " no drug interactions with gene #cdk4# were found in our database\n",
      "\n",
      " no drug interactions with gene #cdkn1a# were found in our database\n",
      "\n",
      " no drug interactions with gene #cdkn1b# were found in our database\n",
      "\n",
      " no drug interactions with gene #cdkn2a# were found in our database\n",
      "\n",
      " no drug interactions with gene #cebpd# were found in our database\n",
      "\n",
      " no drug interactions with gene #chek1# were found in our database\n",
      "\n",
      " no drug interactions with gene #chek2# were found in our database\n",
      "\n",
      " no drug interactions with gene #cish# were found in our database\n",
      "\n",
      " no drug interactions with gene #cnr1# were found in our database\n",
      "\n",
      " no drug interactions with gene #cox8a# were found in our database\n",
      "\n",
      " no drug interactions with gene #cp# were found in our database\n",
      "\n",
      " no drug interactions with gene #cs# were found in our database\n",
      "\n",
      " no drug interactions with gene #csn1s1# were found in our database\n",
      "\n",
      " no drug interactions with gene #ctbp1# were found in our database\n",
      "\n",
      " no drug interactions with gene #ctnnb1# were found in our database\n",
      "\n",
      " no drug interactions with gene #cxcr4# were found in our database\n",
      "\n",
      " no drug interactions with gene #cycs# were found in our database\n",
      "\n",
      " no drug interactions with gene #cyp4z1# were found in our database\n",
      "\n",
      " no drug interactions with gene #cyp4z2p# were found in our database\n",
      "\n",
      " no drug interactions with gene #dalir# were found in our database\n",
      "\n",
      " no drug interactions with gene #dcstamp# were found in our database\n",
      "\n",
      " no drug interactions with gene #des# were found in our database\n",
      "\n",
      " no drug interactions with gene #dlx4# were found in our database\n",
      "\n",
      " no drug interactions with gene #dna2# were found in our database\n",
      "\n",
      " no drug interactions with gene #dpm1# were found in our database\n",
      "\n",
      " no drug interactions with gene #dpm2# were found in our database\n",
      "\n",
      " no drug interactions with gene #duoxa1# were found in our database\n",
      "\n",
      " no drug interactions with gene #dusp4# were found in our database\n",
      "\n",
      " no drug interactions with gene #e2f1# were found in our database\n",
      "\n",
      " no drug interactions with gene #eaf2# were found in our database\n",
      "\n",
      " no drug interactions with gene #eec1# were found in our database\n",
      "\n",
      " no drug interactions with gene #eef2# were found in our database\n",
      "\n",
      " no drug interactions with gene #eef2k# were found in our database\n",
      "\n",
      " no drug interactions with gene #egf# were found in our database\n",
      "\n",
      " no drug interactions with gene #eif4e# were found in our database\n",
      "\n",
      " no drug interactions with gene #eif4g1# were found in our database\n",
      "\n",
      " no drug interactions with gene #ep300# were found in our database\n",
      "\n",
      " no drug interactions with gene #erbb3# were found in our database\n",
      "\n",
      " no drug interactions with gene #erbb4# were found in our database\n",
      "\n",
      " no drug interactions with gene #esr1# were found in our database\n",
      "\n",
      " no drug interactions with gene #esr2# were found in our database\n",
      "\n",
      " no drug interactions with gene #esrra# were found in our database\n",
      "\n",
      " no drug interactions with gene #esrrb# were found in our database\n",
      "\n",
      " no drug interactions with gene #exo1# were found in our database\n",
      "\n",
      " no drug interactions with gene #exog# were found in our database\n",
      "\n",
      " no drug interactions with gene #f11r# were found in our database\n",
      "\n",
      " no drug interactions with gene #f12# were found in our database\n",
      "\n",
      " no drug interactions with gene #fam129b# were found in our database\n",
      "\n",
      " no drug interactions with gene #fanca# were found in our database\n",
      "\n",
      " no drug interactions with gene #fancc# were found in our database\n",
      "\n",
      " no drug interactions with gene #fancd2# were found in our database\n",
      "\n",
      " no drug interactions with gene #fbn1# were found in our database\n",
      "\n",
      " no drug interactions with gene #fbxw7# were found in our database\n",
      "\n",
      " no drug interactions with gene #fh# were found in our database\n",
      "\n",
      " no drug interactions with gene #fhit# were found in our database\n",
      "\n",
      " no drug interactions with gene #foxc1# were found in our database\n",
      "\n",
      " no drug interactions with gene #foxg1# were found in our database\n",
      "\n",
      " no drug interactions with gene #foxm1# were found in our database\n",
      "\n",
      " no drug interactions with gene #foxo3# were found in our database\n",
      "\n",
      " no drug interactions with gene #fry# were found in our database\n",
      "\n",
      " no drug interactions with gene #ftcdnl1# were found in our database\n",
      "\n",
      " no drug interactions with gene #gata3# were found in our database\n",
      "\n",
      " no drug interactions with gene #gk# were found in our database\n",
      "\n",
      " no drug interactions with gene #glys1# were found in our database\n",
      "\n",
      " no drug interactions with gene #gnas-as1# were found in our database\n",
      "\n",
      " no drug interactions with gene #gpbar1# were found in our database\n",
      "\n",
      " no drug interactions with gene #gpr149# were found in our database\n",
      "\n",
      " no drug interactions with gene #gpr180# were found in our database\n",
      "\n",
      " no drug interactions with gene #hdac1# were found in our database\n",
      "\n",
      " no drug interactions with gene #hdac3# were found in our database\n",
      "\n",
      " no drug interactions with gene #hdac9# were found in our database\n",
      "\n",
      " no drug interactions with gene #hic1# were found in our database\n",
      "\n",
      " no drug interactions with gene #hif1a# were found in our database\n",
      "\n",
      " no drug interactions with gene #hpp1# were found in our database\n",
      "\n",
      " no drug interactions with gene #hr# were found in our database\n",
      "\n",
      " no drug interactions with gene #hras# were found in our database\n",
      "\n",
      " no drug interactions with gene #hrg# were found in our database\n",
      "\n",
      " no drug interactions with gene #hsp90aa1# were found in our database\n",
      "\n",
      " no drug interactions with gene #ifi27# were found in our database\n",
      "\n",
      " no drug interactions with gene #igf1r# were found in our database\n",
      "\n",
      " no drug interactions with gene #igll3p# were found in our database\n",
      "\n",
      " no drug interactions with gene #il36g# were found in our database\n",
      "\n",
      " no drug interactions with gene #impact# were found in our database\n",
      "\n",
      " no drug interactions with gene #ins# were found in our database\n",
      "\n",
      " no drug interactions with gene #irf1# were found in our database\n",
      "\n",
      " no drug interactions with gene #irs1# were found in our database\n",
      "\n",
      " no drug interactions with gene #iv# were found in our database\n",
      "\n",
      " no drug interactions with gene #jak2# were found in our database\n",
      "\n",
      " no drug interactions with gene #kalrn# were found in our database\n",
      "\n",
      " no drug interactions with gene #kcnt1# were found in our database\n",
      "\n",
      " no drug interactions with gene #kiaa1551# were found in our database\n",
      "\n",
      " no drug interactions with gene #kit# were found in our database\n",
      "\n",
      " no drug interactions with gene #kl# were found in our database\n",
      "\n",
      " no drug interactions with gene #kras# were found in our database\n",
      "\n",
      " no drug interactions with gene #krit1# were found in our database\n",
      "\n",
      " no drug interactions with gene #krt19# were found in our database\n",
      "\n",
      " no drug interactions with gene #krt7# were found in our database\n",
      "\n",
      " no drug interactions with gene #large1# were found in our database\n",
      "\n",
      " no drug interactions with gene #lcn2# were found in our database\n",
      "\n",
      " no drug interactions with gene #lekr1# were found in our database\n",
      "\n",
      " no drug interactions with gene #limch1# were found in our database\n",
      "\n",
      " no drug interactions with gene #lin28a# were found in our database\n",
      "\n",
      " no drug interactions with gene #lipa# were found in our database\n",
      "\n",
      " no drug interactions with gene #ltf# were found in our database\n",
      "\n",
      " no drug interactions with gene #magee1# were found in our database\n",
      "\n",
      " no drug interactions with gene #mak# were found in our database\n",
      "\n",
      " no drug interactions with gene #map2k1# were found in our database\n",
      "\n",
      " no drug interactions with gene #map2k4# were found in our database\n",
      "\n",
      " no drug interactions with gene #mapk3# were found in our database\n",
      "\n",
      " no drug interactions with gene #mbnl1# were found in our database\n",
      "\n",
      " no drug interactions with gene #mcm8# were found in our database\n",
      "\n",
      " no drug interactions with gene #mdm2# were found in our database\n",
      "\n",
      " no drug interactions with gene #melk# were found in our database\n",
      "\n",
      " no drug interactions with gene #mfap1# were found in our database\n",
      "\n",
      " no drug interactions with gene #mib1# were found in our database\n",
      "\n",
      " no drug interactions with gene #mice# were found in our database\n",
      "\n",
      " no drug interactions with gene #mir145# were found in our database\n",
      "\n",
      " no drug interactions with gene #mlh1# were found in our database\n",
      "\n",
      " no drug interactions with gene #mmp9# were found in our database\n",
      "\n",
      " no drug interactions with gene #mro# were found in our database\n",
      "\n",
      " no drug interactions with gene #ms# were found in our database\n",
      "\n",
      " no drug interactions with gene #msh2# were found in our database\n",
      "\n",
      " no drug interactions with gene #msh6# were found in our database\n",
      "\n",
      " no drug interactions with gene #msmp# were found in our database\n",
      "\n",
      " no drug interactions with gene #msx2# were found in our database\n",
      "\n",
      " no drug interactions with gene #muc7# were found in our database\n",
      "\n",
      " no drug interactions with gene #myb# were found in our database\n",
      "\n",
      " no drug interactions with gene #myc# were found in our database\n",
      "\n",
      " no drug interactions with gene #myod1# were found in our database\n",
      "\n",
      " no drug interactions with gene #nde1# were found in our database\n",
      "\n",
      " no drug interactions with gene #nf1# were found in our database\n",
      "\n",
      " no drug interactions with gene #nfkbiz# were found in our database\n",
      "\n",
      " no drug interactions with gene #nm# were found in our database\n",
      "\n",
      " no drug interactions with gene #nodal# were found in our database\n",
      "\n",
      " no drug interactions with gene #nova2# were found in our database\n",
      "\n",
      " no drug interactions with gene #nqo1# were found in our database\n",
      "\n",
      " no drug interactions with gene #nr4a2# were found in our database\n",
      "\n",
      " no drug interactions with gene #nras# were found in our database\n",
      "\n",
      " no drug interactions with gene #nrg1# were found in our database\n",
      "\n",
      " no drug interactions with gene #nrip3# were found in our database\n",
      "\n",
      " no drug interactions with gene #nsmaf# were found in our database\n",
      "\n",
      " no drug interactions with gene #ovaal# were found in our database\n",
      "\n",
      " no drug interactions with gene #pafah1b1# were found in our database\n",
      "\n",
      " no drug interactions with gene #paics# were found in our database\n",
      "\n",
      " no drug interactions with gene #palb2# were found in our database\n",
      "\n",
      " no drug interactions with gene #palld# were found in our database\n",
      "\n",
      " no drug interactions with gene #parp1# were found in our database\n",
      "\n",
      " no drug interactions with gene #patz1# were found in our database\n",
      "\n",
      " no drug interactions with gene #pdcd4# were found in our database\n",
      "\n",
      " no drug interactions with gene #pdgfra# were found in our database\n",
      "\n",
      " no drug interactions with gene #pdgfrb# were found in our database\n",
      "\n",
      " no drug interactions with gene #pdk1# were found in our database\n",
      "\n",
      " no drug interactions with gene #pdlim5# were found in our database\n",
      "\n",
      " no drug interactions with gene #pdxp# were found in our database\n",
      "\n",
      " no drug interactions with gene #per1# were found in our database\n",
      "\n",
      " no drug interactions with gene #pgp# were found in our database\n",
      "\n",
      " no drug interactions with gene #pgr# were found in our database\n",
      "\n",
      " no drug interactions with gene #phlpp2# were found in our database\n",
      "\n",
      " no drug interactions with gene #pi3# were found in our database\n",
      "\n",
      " no drug interactions with gene #pik3r1# were found in our database\n",
      "\n",
      " no drug interactions with gene #pik3r2# were found in our database\n",
      "\n",
      " no drug interactions with gene #pin1# were found in our database\n",
      "\n",
      " no drug interactions with gene #pinx1# were found in our database\n",
      "\n",
      " no drug interactions with gene #plcg1# were found in our database\n",
      "\n",
      " no drug interactions with gene #plxna2# were found in our database\n",
      "\n",
      " no drug interactions with gene #pmaip1# were found in our database\n",
      "\n",
      " no drug interactions with gene #pms1# were found in our database\n",
      "\n",
      " no drug interactions with gene #pms2# were found in our database\n",
      "\n",
      " no drug interactions with gene #ppara# were found in our database\n",
      "\n",
      " no drug interactions with gene #ppp6c# were found in our database\n",
      "\n",
      " no drug interactions with gene #prdm6# were found in our database\n",
      "\n",
      " no drug interactions with gene #prdx2# were found in our database\n",
      "\n",
      " no drug interactions with gene #prl# were found in our database\n",
      "\n",
      " no drug interactions with gene #proc# were found in our database\n",
      "\n",
      " no drug interactions with gene #prss30p# were found in our database\n",
      "\n",
      " no drug interactions with gene #psmd4# were found in our database\n",
      "\n",
      " no drug interactions with gene #psmd5# were found in our database\n",
      "\n",
      " no drug interactions with gene #ptpn5# were found in our database\n",
      "\n",
      " no drug interactions with gene #rab11fip1# were found in our database\n",
      "\n",
      " no drug interactions with gene #rad51# were found in our database\n",
      "\n",
      " no drug interactions with gene #rad51c# were found in our database\n",
      "\n",
      " no drug interactions with gene #raf1# were found in our database\n",
      "\n",
      " no drug interactions with gene #rapgef5# were found in our database\n",
      "\n",
      " no drug interactions with gene #rasa1# were found in our database\n",
      "\n",
      " no drug interactions with gene #rasal2# were found in our database\n",
      "\n",
      " no drug interactions with gene #rb1# were found in our database\n",
      "\n",
      " no drug interactions with gene #reck# were found in our database\n",
      "\n",
      " no drug interactions with gene #rel# were found in our database\n",
      "\n",
      " no drug interactions with gene #ren# were found in our database\n",
      "\n",
      " no drug interactions with gene #rerg# were found in our database\n",
      "\n",
      " no drug interactions with gene #ripk2# were found in our database\n",
      "\n",
      " no drug interactions with gene #rnase1# were found in our database\n",
      "\n",
      " no drug interactions with gene #rnf2# were found in our database\n",
      "\n",
      " no drug interactions with gene #ros1# were found in our database\n",
      "\n",
      " no drug interactions with gene #rps3a# were found in our database\n",
      "\n",
      " no drug interactions with gene #rps6# were found in our database\n",
      "\n",
      " no drug interactions with gene #rps6kb1# were found in our database\n",
      "\n",
      " no drug interactions with gene #rrad# were found in our database\n",
      "\n",
      " no drug interactions with gene #runx1t1# were found in our database\n",
      "\n",
      " no drug interactions with gene #saa4# were found in our database\n",
      "\n",
      " no drug interactions with gene #sart3# were found in our database\n",
      "\n",
      " no drug interactions with gene #sdhc# were found in our database\n",
      "\n",
      " no drug interactions with gene #sds# were found in our database\n",
      "\n",
      " no drug interactions with gene #sec14l2# were found in our database\n",
      "\n",
      " no drug interactions with gene #setd2# were found in our database\n",
      "\n",
      " no drug interactions with gene #sfrp2# were found in our database\n",
      "\n",
      " no drug interactions with gene #sgk3# were found in our database\n",
      "\n",
      " no drug interactions with gene #si# were found in our database\n",
      "\n",
      " no drug interactions with gene #sirt1# were found in our database\n",
      "\n",
      " no drug interactions with gene #slc40a1# were found in our database\n",
      "\n",
      " no drug interactions with gene #slc7a1# were found in our database\n",
      "\n",
      " no drug interactions with gene #sltm# were found in our database\n",
      "\n",
      " no drug interactions with gene #smad3# were found in our database\n",
      "\n",
      " no drug interactions with gene #smad5# were found in our database\n",
      "\n",
      " no drug interactions with gene #smim10l2a# were found in our database\n",
      "\n",
      " no drug interactions with gene #snai1# were found in our database\n",
      "\n",
      " no drug interactions with gene #son# were found in our database\n",
      "\n",
      " no drug interactions with gene #sox2# were found in our database\n",
      "\n",
      " no drug interactions with gene #sox7# were found in our database\n",
      "\n",
      " no drug interactions with gene #srebf1# were found in our database\n",
      "\n",
      " no drug interactions with gene #stat1# were found in our database\n",
      "\n",
      " no drug interactions with gene #stat3# were found in our database\n",
      "\n",
      " no drug interactions with gene #stk11# were found in our database\n",
      "\n",
      " no drug interactions with gene #supt16h# were found in our database\n",
      "\n",
      " no drug interactions with gene #t# were found in our database\n",
      "\n",
      " no drug interactions with gene #tc2n# were found in our database\n",
      "\n",
      " no drug interactions with gene #tcf7l2# were found in our database\n",
      "\n",
      " no drug interactions with gene #telab1# were found in our database\n",
      "\n",
      " no drug interactions with gene #tenm1# were found in our database\n",
      "\n",
      " no drug interactions with gene #tf# were found in our database\n",
      "\n",
      " no drug interactions with gene #tfap2a# were found in our database\n",
      "\n",
      " no drug interactions with gene #tfap2b# were found in our database\n",
      "\n",
      " no drug interactions with gene #tg# were found in our database\n",
      "\n",
      " no drug interactions with gene #tgfb2# were found in our database\n",
      "\n",
      " no drug interactions with gene #tiparp# were found in our database\n",
      "\n",
      " no drug interactions with gene #tnfrsf11a# were found in our database\n",
      "\n",
      " no drug interactions with gene #tnfrsf11b# were found in our database\n",
      "\n",
      " no drug interactions with gene #tnfsf13b# were found in our database\n",
      "\n",
      " no drug interactions with gene #tnfsf14# were found in our database\n",
      "\n",
      " no drug interactions with gene #tnip3# were found in our database\n",
      "\n",
      " no drug interactions with gene #tox# were found in our database\n",
      "\n",
      " no drug interactions with gene #tox3# were found in our database\n",
      "\n",
      " no drug interactions with gene #tp53# were found in our database\n",
      "\n",
      " no drug interactions with gene #tra-tgc7-1# were found in our database\n",
      "\n",
      " no drug interactions with gene #twist1# were found in our database\n",
      "\n",
      " no drug interactions with gene #uap1l1# were found in our database\n",
      "\n",
      " no drug interactions with gene #ugt3a1# were found in our database\n",
      "\n",
      " no drug interactions with gene #ulk1# were found in our database\n",
      "\n",
      " no drug interactions with gene #vegfa# were found in our database\n",
      "\n",
      " no drug interactions with gene #vgf# were found in our database\n",
      "\n",
      " no drug interactions with gene #wdtc1# were found in our database\n",
      "\n",
      " no drug interactions with gene #wnt5a# were found in our database\n",
      "\n",
      " no drug interactions with gene #xs# were found in our database\n",
      "\n",
      " no drug interactions with gene #zbp1# were found in our database\n",
      "\n",
      " no drug interactions with gene #zbtb8os# were found in our database\n",
      "\n",
      " no drug interactions with gene #zfyve9# were found in our database\n",
      "\n",
      " no drug interactions with gene #znf746# were found in our database\n",
      "\n",
      "these are the genes for which interactions with drugs were found: ['#abcg2#', '#akt1#', '#anpep#', '#birc5#', '#c19orf66#', '#celp#', '#cic#', '#cyp19a1#', '#dgcr2#', '#egfr#', '#egr3#', '#erbb2#', '#gaa#', '#mb#', '#mtor#', '#phospho2#', '#pik3ca#', '#prkaa2#', '#pten#', '#sgcg#', '#snai2#', '#spen#', '#src#', '#th#', '#tnip1#']\n"
     ]
    }
   ],
   "source": [
    "b = graph_maker.get_user_input()"
   ]
  },
  {
   "cell_type": "code",
   "execution_count": 303,
   "metadata": {},
   "outputs": [
    {
     "data": {
      "text/plain": [
       "[{('#abcg2#', '#mitoxantrone#'): 1.0,\n",
       "  ('#akt1#', '#lapatinib#'): 1.0,\n",
       "  ('#akt1#', '#letrozole#'): 4.0,\n",
       "  ('#akt1#', '#tamoxifen#'): 1.0,\n",
       "  ('#akt1#', '#trastuzumab#'): 1.0,\n",
       "  ('#anpep#', '#lapatinib#'): 1.0,\n",
       "  ('#birc5#', '#trastuzumab#'): 2.0,\n",
       "  ('#c19orf66#', '#tamoxifen#'): 1.0,\n",
       "  ('#celp#', '#letrozole#'): 1.0,\n",
       "  ('#celp#', '#recombinant interleukin-6#'): 1.0,\n",
       "  ('#celp#', '#tamoxifen#'): 1.0,\n",
       "  ('#celp#', '#trastuzumab#'): 5.0,\n",
       "  ('#cic#', '#letrozole#'): 1.0,\n",
       "  ('#cic#', '#recombinant interleukin-6#'): 1.0,\n",
       "  ('#cyp19a1#', '#tamoxifen#'): 1.0,\n",
       "  ('#dgcr2#', '#tamoxifen#'): 1.0,\n",
       "  ('#egfr#', '#lapatinib#'): 2.0,\n",
       "  ('#egr3#', '#bevacizumab#'): 1.0,\n",
       "  ('#egr3#', '#capecitabine#'): 1.0,\n",
       "  ('#egr3#', '#carbendazim#'): 1.0,\n",
       "  ('#egr3#', '#cisplatin#'): 1.0,\n",
       "  ('#egr3#', '#dacarbazine#'): 1.0,\n",
       "  ('#egr3#', '#docetaxel#'): 1.0,\n",
       "  ('#egr3#', '#doxorubicin#'): 1.0,\n",
       "  ('#egr3#', '#erlotinib#'): 1.0,\n",
       "  ('#egr3#', '#everolimus#'): 1.0,\n",
       "  ('#egr3#', '#fluorouracil#'): 1.0,\n",
       "  ('#egr3#', '#lenalidomide#'): 1.0,\n",
       "  ('#egr3#', '#leucovorin calcium#'): 1.0,\n",
       "  ('#egr3#', '#oxaliplatin#'): 1.0,\n",
       "  ('#egr3#', '#paclitaxel#'): 1.0,\n",
       "  ('#egr3#', '#pi3k/mtor inhibitor bez235#'): 1.0,\n",
       "  ('#egr3#', '#selumetinib#'): 1.0,\n",
       "  ('#egr3#', '#sorafenib tosylate#'): 1.0,\n",
       "  ('#egr3#', '#temsirolimus#'): 1.0,\n",
       "  ('#egr3#', '#thalidomide#'): 1.0,\n",
       "  ('#erbb2#', '#bevacizumab#'): 1.0,\n",
       "  ('#erbb2#', '#buparlisib#'): 1.0,\n",
       "  ('#erbb2#', '#capecitabine#'): 1.0,\n",
       "  ('#erbb2#', '#carbendazim#'): 1.0,\n",
       "  ('#erbb2#', '#cisplatin#'): 2.0,\n",
       "  ('#erbb2#', '#cyclophosphamide#'): 1.0,\n",
       "  ('#erbb2#', '#dacarbazine#'): 1.0,\n",
       "  ('#erbb2#', '#docetaxel#'): 1.0,\n",
       "  ('#erbb2#', '#doxorubicin#'): 2.0,\n",
       "  ('#erbb2#', '#erlotinib#'): 1.0,\n",
       "  ('#erbb2#', '#everolimus#'): 3.0,\n",
       "  ('#erbb2#', '#fluorouracil#'): 1.0,\n",
       "  ('#erbb2#', '#gemcitabine#'): 1.0,\n",
       "  ('#erbb2#', '#lapatinib#'): 6.0,\n",
       "  ('#erbb2#', '#lenalidomide#'): 1.0,\n",
       "  ('#erbb2#', '#letrozole#'): 1.0,\n",
       "  ('#erbb2#', '#leucovorin calcium#'): 1.0,\n",
       "  ('#erbb2#', '#oxaliplatin#'): 1.0,\n",
       "  ('#erbb2#', '#paclitaxel#'): 2.0,\n",
       "  ('#erbb2#', '#pi3k/mtor inhibitor bez235#'): 1.0,\n",
       "  ('#erbb2#', '#recombinant interleukin-6#'): 2.0,\n",
       "  ('#erbb2#', '#selumetinib#'): 1.0,\n",
       "  ('#erbb2#', '#sorafenib tosylate#'): 1.0,\n",
       "  ('#erbb2#', '#tamoxifen#'): 1.0,\n",
       "  ('#erbb2#', '#temsirolimus#'): 1.0,\n",
       "  ('#erbb2#', '#thalidomide#'): 1.0,\n",
       "  ('#erbb2#', '#trastuzumab#'): 14.0,\n",
       "  ('#erbb2#', '#triciribine phosphate#'): 1.0,\n",
       "  ('#erbb2#', '#vinorelbine#'): 1.0,\n",
       "  ('#gaa#', '#bevacizumab#'): 1.0,\n",
       "  ('#gaa#', '#capecitabine#'): 1.0,\n",
       "  ('#gaa#', '#carbendazim#'): 1.0,\n",
       "  ('#gaa#', '#cisplatin#'): 1.0,\n",
       "  ('#gaa#', '#dacarbazine#'): 1.0,\n",
       "  ('#gaa#', '#docetaxel#'): 1.0,\n",
       "  ('#gaa#', '#doxorubicin#'): 1.0,\n",
       "  ('#gaa#', '#erlotinib#'): 1.0,\n",
       "  ('#gaa#', '#everolimus#'): 1.0,\n",
       "  ('#gaa#', '#fluorouracil#'): 1.0,\n",
       "  ('#gaa#', '#lenalidomide#'): 1.0,\n",
       "  ('#gaa#', '#leucovorin calcium#'): 1.0,\n",
       "  ('#gaa#', '#oxaliplatin#'): 1.0,\n",
       "  ('#gaa#', '#paclitaxel#'): 1.0,\n",
       "  ('#gaa#', '#pi3k/mtor inhibitor bez235#'): 1.0,\n",
       "  ('#gaa#', '#selumetinib#'): 1.0,\n",
       "  ('#gaa#', '#sorafenib tosylate#'): 1.0,\n",
       "  ('#gaa#', '#temsirolimus#'): 1.0,\n",
       "  ('#gaa#', '#thalidomide#'): 1.0,\n",
       "  ('#mb#', '#mitoxantrone#'): 1.0,\n",
       "  ('#mtor#', '#bevacizumab#'): 1.0,\n",
       "  ('#mtor#', '#capecitabine#'): 1.0,\n",
       "  ('#mtor#', '#carbendazim#'): 1.0,\n",
       "  ('#mtor#', '#cisplatin#'): 1.0,\n",
       "  ('#mtor#', '#dacarbazine#'): 1.0,\n",
       "  ('#mtor#', '#docetaxel#'): 1.0,\n",
       "  ('#mtor#', '#doxorubicin#'): 1.0,\n",
       "  ('#mtor#', '#erlotinib#'): 1.0,\n",
       "  ('#mtor#', '#everolimus#'): 1.0,\n",
       "  ('#mtor#', '#fluorouracil#'): 1.0,\n",
       "  ('#mtor#', '#lapatinib#'): 1.0,\n",
       "  ('#mtor#', '#lenalidomide#'): 1.0,\n",
       "  ('#mtor#', '#letrozole#'): 1.0,\n",
       "  ('#mtor#', '#leucovorin calcium#'): 1.0,\n",
       "  ('#mtor#', '#oxaliplatin#'): 1.0,\n",
       "  ('#mtor#', '#paclitaxel#'): 1.0,\n",
       "  ('#mtor#', '#pi3k/mtor inhibitor bez235#'): 1.0,\n",
       "  ('#mtor#', '#selumetinib#'): 1.0,\n",
       "  ('#mtor#', '#sorafenib tosylate#'): 1.0,\n",
       "  ('#mtor#', '#temsirolimus#'): 1.0,\n",
       "  ('#mtor#', '#thalidomide#'): 1.0,\n",
       "  ('#phospho2#', '#trastuzumab#'): 1.0,\n",
       "  ('#pik3ca#', '#buparlisib#'): 1.0,\n",
       "  ('#pik3ca#', '#cisplatin#'): 1.0,\n",
       "  ('#pik3ca#', '#cyclophosphamide#'): 1.0,\n",
       "  ('#pik3ca#', '#doxorubicin#'): 1.0,\n",
       "  ('#pik3ca#', '#everolimus#'): 1.0,\n",
       "  ('#pik3ca#', '#gemcitabine#'): 1.0,\n",
       "  ('#pik3ca#', '#lapatinib#'): 2.0,\n",
       "  ('#pik3ca#', '#letrozole#'): 5.0,\n",
       "  ('#pik3ca#', '#paclitaxel#'): 1.0,\n",
       "  ('#pik3ca#', '#tamoxifen#'): 1.0,\n",
       "  ('#pik3ca#', '#trastuzumab#'): 8.0,\n",
       "  ('#pik3ca#', '#triciribine phosphate#'): 1.0,\n",
       "  ('#prkaa2#', '#trastuzumab#'): 1.0,\n",
       "  ('#pten#', '#fulvestrant#'): 1.0,\n",
       "  ('#pten#', '#lapatinib#'): 1.0,\n",
       "  ('#pten#', '#letrozole#'): 4.0,\n",
       "  ('#pten#', '#recombinant interleukin-6#'): 1.0,\n",
       "  ('#pten#', '#tamoxifen#'): 1.0,\n",
       "  ('#pten#', '#trastuzumab#'): 6.0,\n",
       "  ('#sgcg#', '#buparlisib#'): 1.0,\n",
       "  ('#sgcg#', '#cisplatin#'): 1.0,\n",
       "  ('#sgcg#', '#cyclophosphamide#'): 1.0,\n",
       "  ('#sgcg#', '#doxorubicin#'): 1.0,\n",
       "  ('#sgcg#', '#everolimus#'): 1.0,\n",
       "  ('#sgcg#', '#gemcitabine#'): 1.0,\n",
       "  ('#sgcg#', '#paclitaxel#'): 1.0,\n",
       "  ('#sgcg#', '#trastuzumab#'): 1.0,\n",
       "  ('#sgcg#', '#triciribine phosphate#'): 1.0,\n",
       "  ('#snai2#', '#trastuzumab#'): 1.0,\n",
       "  ('#spen#', '#tamoxifen#'): 1.0,\n",
       "  ('#src#', '#lapatinib#'): 4.0,\n",
       "  ('#th#', '#tamoxifen#'): 1.0,\n",
       "  ('#tnip1#', '#trastuzumab#'): 1.0}]"
      ]
     },
     "execution_count": 303,
     "metadata": {},
     "output_type": "execute_result"
    }
   ],
   "source": [
    "b"
   ]
  },
  {
   "cell_type": "code",
   "execution_count": 114,
   "metadata": {},
   "outputs": [],
   "source": [
    "data_frame_creator.write_pickle('resist_network_matrix_test.pickle',resist_network_matrix)"
   ]
  },
  {
   "cell_type": "code",
   "execution_count": 115,
   "metadata": {
    "collapsed": true
   },
   "outputs": [],
   "source": [
    "data_frame_creator.write_pickle('sensit_network_matrix_test.pickle',sensit_network_matrix)"
   ]
  },
  {
   "cell_type": "code",
   "execution_count": 117,
   "metadata": {},
   "outputs": [],
   "source": [
    "data_frame_creator.write_pickle('any_network_matrix_test.pickle',all_network_matrix)"
   ]
  },
  {
   "cell_type": "code",
   "execution_count": 311,
   "metadata": {},
   "outputs": [
    {
     "data": {
      "text/plain": [
       "['#abcg2#',\n",
       " '#acadl#',\n",
       " '#ackr3#',\n",
       " '#acpp#',\n",
       " '#ado#',\n",
       " '#agfg1#',\n",
       " '#aicda#',\n",
       " '#airn#',\n",
       " '#akt1#',\n",
       " '#alb#',\n",
       " '#alpi#',\n",
       " '#alyref#',\n",
       " '#amh#',\n",
       " '#anpep#',\n",
       " '#ar#',\n",
       " '#arc#',\n",
       " '#areg#',\n",
       " '#arhgef7#',\n",
       " '#armc9#',\n",
       " '#atg12#',\n",
       " '#atm#',\n",
       " '#atr#',\n",
       " '#bank1#',\n",
       " '#bax#',\n",
       " '#bbc3#',\n",
       " '#bcl2#',\n",
       " '#bcs1l#',\n",
       " '#bid#',\n",
       " '#birc5#',\n",
       " '#bivm#',\n",
       " '#bmi1#',\n",
       " '#bmp7#',\n",
       " '#bpifa4p#',\n",
       " '#braf#',\n",
       " '#brca1#',\n",
       " '#brca2#',\n",
       " '#brd2#',\n",
       " '#brip1#',\n",
       " '#c19orf66#',\n",
       " '#c1qbp#',\n",
       " '#ca1#',\n",
       " '#cat#',\n",
       " '#ccnd1#',\n",
       " '#ccng2#',\n",
       " '#cct#',\n",
       " '#cd24#',\n",
       " '#cd44#',\n",
       " '#cdh1#',\n",
       " '#cdh17#',\n",
       " '#cdk2#',\n",
       " '#cdk4#',\n",
       " '#cdkn1a#',\n",
       " '#cdkn1b#',\n",
       " '#cdkn2a#',\n",
       " '#cebpd#',\n",
       " '#celp#',\n",
       " '#chek1#',\n",
       " '#chek2#',\n",
       " '#cic#',\n",
       " '#cish#',\n",
       " '#cnr1#',\n",
       " '#cox8a#',\n",
       " '#cp#',\n",
       " '#cs#',\n",
       " '#csn1s1#',\n",
       " '#ctbp1#',\n",
       " '#ctnnb1#',\n",
       " '#cxcr4#',\n",
       " '#cycs#',\n",
       " '#cyp19a1#',\n",
       " '#cyp4z1#',\n",
       " '#cyp4z2p#',\n",
       " '#dalir#',\n",
       " '#dcstamp#',\n",
       " '#des#',\n",
       " '#dgcr2#',\n",
       " '#dlx4#',\n",
       " '#dna2#',\n",
       " '#dpm1#',\n",
       " '#dpm2#',\n",
       " '#duoxa1#',\n",
       " '#dusp4#',\n",
       " '#e2f1#',\n",
       " '#eaf2#',\n",
       " '#eec1#',\n",
       " '#eef2#',\n",
       " '#eef2k#',\n",
       " '#egf#',\n",
       " '#egfr#',\n",
       " '#egr3#',\n",
       " '#eif4e#',\n",
       " '#eif4g1#',\n",
       " '#ep300#',\n",
       " '#erbb2#',\n",
       " '#erbb3#',\n",
       " '#erbb4#',\n",
       " '#esr1#',\n",
       " '#esr2#',\n",
       " '#esrra#',\n",
       " '#esrrb#',\n",
       " '#exo1#',\n",
       " '#exog#',\n",
       " '#f11r#',\n",
       " '#f12#',\n",
       " '#fam129b#',\n",
       " '#fanca#',\n",
       " '#fancc#',\n",
       " '#fancd2#',\n",
       " '#fbn1#',\n",
       " '#fbxw7#',\n",
       " '#fh#',\n",
       " '#fhit#',\n",
       " '#foxc1#',\n",
       " '#foxg1#',\n",
       " '#foxm1#',\n",
       " '#foxo3#',\n",
       " '#fry#',\n",
       " '#ftcdnl1#',\n",
       " '#gaa#',\n",
       " '#gata3#',\n",
       " '#gk#',\n",
       " '#glys1#',\n",
       " '#gnas-as1#',\n",
       " '#gpbar1#',\n",
       " '#gpr149#',\n",
       " '#gpr180#',\n",
       " '#hdac1#',\n",
       " '#hdac3#',\n",
       " '#hdac9#',\n",
       " '#hic1#',\n",
       " '#hif1a#',\n",
       " '#hpp1#',\n",
       " '#hr#',\n",
       " '#hras#',\n",
       " '#hrg#',\n",
       " '#hsp90aa1#',\n",
       " '#ifi27#',\n",
       " '#igf1r#',\n",
       " '#igll3p#',\n",
       " '#il36g#',\n",
       " '#impact#',\n",
       " '#ins#',\n",
       " '#irf1#',\n",
       " '#irs1#',\n",
       " '#iv#',\n",
       " '#jak2#',\n",
       " '#kalrn#',\n",
       " '#kcnt1#',\n",
       " '#kiaa1551#',\n",
       " '#kit#',\n",
       " '#kl#',\n",
       " '#kras#',\n",
       " '#krit1#',\n",
       " '#krt19#',\n",
       " '#krt7#',\n",
       " '#large1#',\n",
       " '#lcn2#',\n",
       " '#lekr1#',\n",
       " '#limch1#',\n",
       " '#lin28a#',\n",
       " '#lipa#',\n",
       " '#ltf#',\n",
       " '#magee1#',\n",
       " '#mak#',\n",
       " '#map2k1#',\n",
       " '#map2k4#',\n",
       " '#mapk3#',\n",
       " '#mb#',\n",
       " '#mbnl1#',\n",
       " '#mcm8#',\n",
       " '#mdm2#',\n",
       " '#melk#',\n",
       " '#mfap1#',\n",
       " '#mib1#',\n",
       " '#mice#',\n",
       " '#mir145#',\n",
       " '#mlh1#',\n",
       " '#mmp9#',\n",
       " '#mro#',\n",
       " '#ms#',\n",
       " '#msh2#',\n",
       " '#msh6#',\n",
       " '#msmp#',\n",
       " '#msx2#',\n",
       " '#mtor#',\n",
       " '#muc7#',\n",
       " '#myb#',\n",
       " '#myc#',\n",
       " '#myod1#',\n",
       " '#nde1#',\n",
       " '#nf1#',\n",
       " '#nfkbiz#',\n",
       " '#nm#',\n",
       " '#nodal#',\n",
       " '#nova2#',\n",
       " '#nqo1#',\n",
       " '#nr4a2#',\n",
       " '#nras#',\n",
       " '#nrg1#',\n",
       " '#nrip3#',\n",
       " '#nsmaf#',\n",
       " '#ovaal#',\n",
       " '#pafah1b1#',\n",
       " '#paics#',\n",
       " '#palb2#',\n",
       " '#palld#',\n",
       " '#parp1#',\n",
       " '#patz1#',\n",
       " '#pdcd4#',\n",
       " '#pdgfra#',\n",
       " '#pdgfrb#',\n",
       " '#pdk1#',\n",
       " '#pdlim5#',\n",
       " '#pdxp#',\n",
       " '#per1#',\n",
       " '#pgp#',\n",
       " '#pgr#',\n",
       " '#phlpp2#',\n",
       " '#phospho2#',\n",
       " '#pi3#',\n",
       " '#pik3ca#',\n",
       " '#pik3r1#',\n",
       " '#pik3r2#',\n",
       " '#pin1#',\n",
       " '#pinx1#',\n",
       " '#plcg1#',\n",
       " '#plxna2#',\n",
       " '#pmaip1#',\n",
       " '#pms1#',\n",
       " '#pms2#',\n",
       " '#ppara#',\n",
       " '#ppp6c#',\n",
       " '#prdm6#',\n",
       " '#prdx2#',\n",
       " '#prkaa2#',\n",
       " '#prl#',\n",
       " '#proc#',\n",
       " '#prss30p#',\n",
       " '#psmd4#',\n",
       " '#psmd5#',\n",
       " '#pten#',\n",
       " '#ptpn5#',\n",
       " '#rab11fip1#',\n",
       " '#rad51#',\n",
       " '#rad51c#',\n",
       " '#raf1#',\n",
       " '#rapgef5#',\n",
       " '#rasa1#',\n",
       " '#rasal2#',\n",
       " '#rb1#',\n",
       " '#reck#',\n",
       " '#rel#',\n",
       " '#ren#',\n",
       " '#rerg#',\n",
       " '#ripk2#',\n",
       " '#rnase1#',\n",
       " '#rnf2#',\n",
       " '#ros1#',\n",
       " '#rps3a#',\n",
       " '#rps6#',\n",
       " '#rps6kb1#',\n",
       " '#rrad#',\n",
       " '#runx1t1#',\n",
       " '#saa4#',\n",
       " '#sart3#',\n",
       " '#sdhc#',\n",
       " '#sds#',\n",
       " '#sec14l2#',\n",
       " '#setd2#',\n",
       " '#sfrp2#',\n",
       " '#sgcg#',\n",
       " '#sgk3#',\n",
       " '#si#',\n",
       " '#sirt1#',\n",
       " '#slc40a1#',\n",
       " '#slc7a1#',\n",
       " '#sltm#',\n",
       " '#smad3#',\n",
       " '#smad5#',\n",
       " '#smim10l2a#',\n",
       " '#snai1#',\n",
       " '#snai2#',\n",
       " '#son#',\n",
       " '#sox2#',\n",
       " '#sox7#',\n",
       " '#spen#',\n",
       " '#src#',\n",
       " '#srebf1#',\n",
       " '#stat1#',\n",
       " '#stat3#',\n",
       " '#stk11#',\n",
       " '#supt16h#',\n",
       " '#t#',\n",
       " '#tc2n#',\n",
       " '#tcf7l2#',\n",
       " '#telab1#',\n",
       " '#tenm1#',\n",
       " '#tf#',\n",
       " '#tfap2a#',\n",
       " '#tfap2b#',\n",
       " '#tg#',\n",
       " '#tgfb2#',\n",
       " '#th#',\n",
       " '#tiparp#',\n",
       " '#tnfrsf11a#',\n",
       " '#tnfrsf11b#',\n",
       " '#tnfsf13b#',\n",
       " '#tnfsf14#',\n",
       " '#tnip1#',\n",
       " '#tnip3#',\n",
       " '#tox#',\n",
       " '#tox3#',\n",
       " '#tp53#',\n",
       " '#tra-tgc7-1#',\n",
       " '#twist1#',\n",
       " '#uap1l1#',\n",
       " '#ugt3a1#',\n",
       " '#ulk1#',\n",
       " '#vegfa#',\n",
       " '#vgf#',\n",
       " '#wdtc1#',\n",
       " '#wnt5a#',\n",
       " '#xs#',\n",
       " '#zbp1#',\n",
       " '#zbtb8os#',\n",
       " '#zfyve9#',\n",
       " '#znf746#']"
      ]
     },
     "execution_count": 311,
     "metadata": {},
     "output_type": "execute_result"
    }
   ],
   "source": [
    "list(network_genes.values())"
   ]
  },
  {
   "cell_type": "code",
   "execution_count": null,
   "metadata": {
    "collapsed": true
   },
   "outputs": [],
   "source": [
    "def extract_gene_drug_interaction(X,genes_list):\n",
    "\n",
    "    interaction_dict={}\n",
    "    genes =[]\n",
    "    for gene in genes_list:\n",
    "        multiplier = np.zeros((X.shape[0],1))\n",
    "        idx = inverse_network_genes[gene]\n",
    "        multiplier[idx]=1\n",
    "        value = X.T.dot(multiplier) \n",
    "        drug_idx = value.nonzero()[0]\n",
    "        if sum(value) == 0:\n",
    "            print('\\n no drug interactions with gene {} were found in our database'.format(gene))\n",
    "        else:\n",
    "            #interaction_dict[gene] = value\n",
    "            drug_idx = value.nonzero()[0]\n",
    "            for idx in drug_idx:\n",
    "                interaction_dict[gene, network_drugs[idx]]=value[idx,0]\n",
    "            genes.append(gene)\n",
    "    print('\\nthese are the genes for which interactions with drugs were found:',genes )\n",
    "    return interaction_dict\n",
    "            \n",
    "            \n",
    "        \n",
    "        \n",
    "        "
   ]
  },
  {
   "cell_type": "code",
   "execution_count": null,
   "metadata": {
    "collapsed": true
   },
   "outputs": [],
   "source": [
    "def get_user_input():    \n",
    "    genes_list = process_genes()\n",
    "    kind = input('if you are interested on drug resistance evidence press \"r\"' \n",
    "                'if you are interested on drug resistance evidence press \"s\"' \n",
    "                 'if you are interested on general interactions press \"g\" '\n",
    "                'if you are interested on all of above interactions press \"a\" ')\n",
    "    interaction_list =[]\n",
    "    if kind == 'r' or kind =='R':\n",
    "        X = resist_network_matrix\n",
    "        resistant_dict = extract_gene_drug_interaction(X,genes_list)\n",
    "        interaction_list.append(resistant_dict) \n",
    "    elif kind == 's' or kind =='S':\n",
    "        X = sensit_network_matrix\n",
    "        sensitive_dict = extract_gene_drug_interaction(X,genes_list)\n",
    "        interaction_list.append(sensitive_dict)    \n",
    "    elif kind == 'g' or kind =='G':\n",
    "        X = all_network_matrix\n",
    "        sensitive_dict = extract_gene_drug_interaction(X,genes_list)\n",
    "        interaction_list.append(sensitive_dict)\n",
    "    else:\n",
    "        X = all_network_matrix\n",
    "        interaction_dict = extract_gene_drug_interaction(X,genes_list)\n",
    "        interaction_list.append(interaction_dict)\n",
    "        X = resist_network_matrix\n",
    "        resistant_dict = extract_gene_drug_interaction(X,genes_list)\n",
    "        interaction_list.append(resistant_dict)\n",
    "        X = sensit_network_matrix\n",
    "        sensitive_dict = extract_gene_drug_interaction(X,genes_list)\n",
    "        interaction_list.append(sensitive_dict)  \n",
    "    return interaction_list"
   ]
  },
  {
   "cell_type": "code",
   "execution_count": 286,
   "metadata": {},
   "outputs": [
    {
     "ename": "NameError",
     "evalue": "name 'get_user_input' is not defined",
     "output_type": "error",
     "traceback": [
      "\u001b[0;31m---------------------------------------------------------------------------\u001b[0m",
      "\u001b[0;31mNameError\u001b[0m                                 Traceback (most recent call last)",
      "\u001b[0;32m<ipython-input-286-00d5e74cd189>\u001b[0m in \u001b[0;36m<module>\u001b[0;34m()\u001b[0m\n\u001b[0;32m----> 1\u001b[0;31m \u001b[0mb\u001b[0m\u001b[0;34m=\u001b[0m\u001b[0mget_user_input\u001b[0m\u001b[0;34m(\u001b[0m\u001b[0;34m)\u001b[0m\u001b[0;34m\u001b[0m\u001b[0m\n\u001b[0m",
      "\u001b[0;31mNameError\u001b[0m: name 'get_user_input' is not defined"
     ]
    }
   ],
   "source": [
    "b=get_user_input()"
   ]
  },
  {
   "cell_type": "code",
   "execution_count": null,
   "metadata": {},
   "outputs": [],
   "source": [
    "b"
   ]
  },
  {
   "cell_type": "code",
   "execution_count": null,
   "metadata": {
    "collapsed": true
   },
   "outputs": [],
   "source": []
  },
  {
   "cell_type": "code",
   "execution_count": null,
   "metadata": {
    "collapsed": true
   },
   "outputs": [],
   "source": []
  },
  {
   "cell_type": "code",
   "execution_count": 335,
   "metadata": {
    "collapsed": true
   },
   "outputs": [],
   "source": [
    "def gene_or_drug(vocabulary):\n",
    "    gene_or_drug={}\n",
    "    for item in vocabulary:\n",
    "        if item in gene_values:\n",
    "            gene_or_drug[item]='gene'\n",
    "        if item in drug_values:\n",
    "            gene_or_drug[item]='drug'\n",
    "    return gene_or_drug"
   ]
  },
  {
   "cell_type": "code",
   "execution_count": 340,
   "metadata": {},
   "outputs": [],
   "source": [
    "dg=gene_or_drug(vocab_columns)"
   ]
  },
  {
   "cell_type": "code",
   "execution_count": 342,
   "metadata": {},
   "outputs": [],
   "source": [
    "data_frame_creator.write_pickle('gene_or_drug.pickle',dg)"
   ]
  },
  {
   "cell_type": "code",
   "execution_count": null,
   "metadata": {},
   "outputs": [],
   "source": [
    "len(b)"
   ]
  },
  {
   "cell_type": "code",
   "execution_count": 127,
   "metadata": {
    "collapsed": true
   },
   "outputs": [],
   "source": [
    "import networkx as nx"
   ]
  },
  {
   "cell_type": "code",
   "execution_count": 350,
   "metadata": {},
   "outputs": [
    {
     "data": {
      "image/png": "[encoded data removed]",
      "text/plain": [
       "<matplotlib.figure.Figure at 0x12cf13160>"
      ]
     },
     "metadata": {},
     "output_type": "display_data"
    },
    {
     "data": {
      "text/plain": [
       "<networkx.classes.graph.Graph at 0x11adad048>"
      ]
     },
     "execution_count": 350,
     "metadata": {},
     "output_type": "execute_result"
    }
   ],
   "source": [
    "make_display_network(b)"
   ]
  },
  {
   "cell_type": "code",
   "execution_count": 307,
   "metadata": {
    "collapsed": true
   },
   "outputs": [],
   "source": [
    "def make_display_network(lst):\n",
    "     \n",
    "    \n",
    "    if len(lst) ==1:\n",
    "        G=nx.Graph()\n",
    "        for (gene,drug), weight in lst[0].items():\n",
    "            G.add_edge(gene[1:-1],drug[1:-1],weight=weight)\n",
    "        weights = list(np.array(list(lst[0].values())))\n",
    "        gene_nodes = get_node_set(G.edges)[0]\n",
    "        drug_nodes = get_node_set(G.edges)[1]\n",
    "        plt.figure(1,figsize=(12,12))\n",
    "        G = draw_graph(G, gene_nodes, drug_nodes, weights, style='solid')\n",
    "        plt.axis('off')\n",
    "        plt.savefig(\"weighted_graph.png\") # save as png\n",
    "        plt.show() # display\n",
    "        Graphs = G\n",
    "\n",
    "\n",
    "\n",
    "\n",
    "    \n",
    "    \n",
    "        \n",
    "    if len(lst) == 3:\n",
    "        G1=nx.Graph()\n",
    "        G2=nx.Graph()\n",
    "        G3=nx.Graph()\n",
    "        for (gene,drug), weight in lst[0].items():\n",
    "            G1.add_edge(gene[1:-1],drug[1:-1],weight=weight)\n",
    "        weights_1 = list(np.array(list(lst[0].values())))\n",
    "        gene_nodes_1 = get_node_set(G1.edges)[0]\n",
    "        drug_nodes_1 = get_node_set(G1.edges)[1]\n",
    "        for (gene,drug), weight in lst[1].items():\n",
    "            G2.add_edge(gene[1:-1],drug[1:-1],weight=weight)\n",
    "        weights_2 = list(np.array(list(lst[1].values())))\n",
    "        gene_nodes_2 = get_node_set(G2.edges)[0]\n",
    "        drug_nodes_2 = get_node_set(G2.edges)[1] \n",
    "        for (gene,drug), weight in lst[2].items():\n",
    "            G3.add_edge(gene[1:-1],drug[1:-1],weight=weight)\n",
    "        weights_3 = list(np.array(list(lst[2].values())))\n",
    "        gene_nodes_3 = get_node_set(G3.edges)[0]\n",
    "        drug_nodes_3 = get_node_set(G3.edges)[1] \n",
    "        \n",
    "        #for edge in list(G2.edges):\n",
    "        #    if edge in list(G1.edges):\n",
    "        #        G1.remove_edge(edge)\n",
    "        #for edge in G3.edges:\n",
    "        #    if edge in G1.edges:\n",
    "        #        G1.remove_edge(edge)\n",
    "        plt.figure(1,figsize=(12,12)) \n",
    "    \n",
    "        G1 = draw_graph(G1, gene_nodes_1, drug_nodes_1, weights_1, style='dotted')\n",
    "        G2 = draw_graph(G2, gene_nodes_2, drug_nodes_2, weights_2, style='dashed')\n",
    "        G3 = draw_graph(G3, gene_nodes_3, drug_nodes_3, weights_3, style='solid')\n",
    "        Graphs = [G1, G2, G3]\n",
    "    \n",
    "        plt.axis('off')\n",
    "        plt.savefig(\"weighted_graph.png\") # save as png\n",
    "        plt.show() # display\n",
    "        \n",
    "    return Graphs\n",
    "        \n"
   ]
  },
  {
   "cell_type": "code",
   "execution_count": 308,
   "metadata": {
    "collapsed": true
   },
   "outputs": [],
   "source": [
    "def draw_graph(G, gene_nodes, drug_nodes, weights, style='solid'):\n",
    "    pos=nx.spring_layout(G) # positions for all nodes\n",
    "    plt.figure(1,figsize=(12,12)) \n",
    "    nx.draw_networkx_nodes(G,pos,nodelist=gene_nodes,node_shape='s', node_color = 'gold', node_size = 2000)\n",
    "    nx.draw_networkx_nodes(G,pos,nodelist=drug_nodes,node_shape='o', node_color = 'deepskyblue', node_size = 1000)\n",
    "        #nx.draw_networkx_edges(G,pos)\n",
    "    nx.draw_networkx_edges(G, pos, edgelist=G.edges(), edge_color=weights, width=5.0, edge_cmap=plt.cm.coolwarm, style = style)\n",
    "        #plt.savefig('edges.png')\n",
    "        # labels\n",
    "    nx.draw_networkx_labels(G,pos,font_size=10,font_family='arial')\n",
    "    plt.axis('off')\n",
    "    #plt.savefig(\"weighted_graph.png\") # save as png\n",
    "    #plt.show() # display\n",
    "    return G"
   ]
  },
  {
   "cell_type": "code",
   "execution_count": 344,
   "metadata": {},
   "outputs": [
    {
     "data": {
      "image/png": "[encoded data removed]",
      "text/plain": [
       "<matplotlib.figure.Figure at 0x12c63d5c0>"
      ]
     },
     "metadata": {},
     "output_type": "display_data"
    },
    {
     "data": {
      "text/plain": [
       "<networkx.classes.graph.Graph at 0x11b660b70>"
      ]
     },
     "execution_count": 344,
     "metadata": {},
     "output_type": "execute_result"
    }
   ],
   "source": [
    "graph_maker.make_display_network(b)"
   ]
  },
  {
   "cell_type": "code",
   "execution_count": 314,
   "metadata": {},
   "outputs": [],
   "source": [
    "G=nx.Graph()"
   ]
  },
  {
   "cell_type": "code",
   "execution_count": 315,
   "metadata": {},
   "outputs": [
    {
     "ename": "NameError",
     "evalue": "name 'gene' is not defined",
     "output_type": "error",
     "traceback": [
      "\u001b[0;31m---------------------------------------------------------------------------\u001b[0m",
      "\u001b[0;31mNameError\u001b[0m                                 Traceback (most recent call last)",
      "\u001b[0;32m<ipython-input-315-5428a7c24808>\u001b[0m in \u001b[0;36m<module>\u001b[0;34m()\u001b[0m\n\u001b[0;32m----> 1\u001b[0;31m \u001b[0mG\u001b[0m\u001b[0;34m.\u001b[0m\u001b[0madd_edge\u001b[0m\u001b[0;34m(\u001b[0m\u001b[0mgene\u001b[0m\u001b[0;34m[\u001b[0m\u001b[0;36m1\u001b[0m\u001b[0;34m:\u001b[0m\u001b[0;34m-\u001b[0m\u001b[0;36m1\u001b[0m\u001b[0;34m]\u001b[0m\u001b[0;34m,\u001b[0m\u001b[0mdrug\u001b[0m\u001b[0;34m[\u001b[0m\u001b[0;36m1\u001b[0m\u001b[0;34m:\u001b[0m\u001b[0;34m-\u001b[0m\u001b[0;36m1\u001b[0m\u001b[0;34m]\u001b[0m\u001b[0;34m,\u001b[0m\u001b[0mweight\u001b[0m\u001b[0;34m=\u001b[0m\u001b[0mweight\u001b[0m\u001b[0;34m)\u001b[0m\u001b[0;34m\u001b[0m\u001b[0m\n\u001b[0m",
      "\u001b[0;31mNameError\u001b[0m: name 'gene' is not defined"
     ]
    }
   ],
   "source": [
    "G.add_edge(gene[1:-1],drug[1:-1],weight=weight)"
   ]
  },
  {
   "cell_type": "code",
   "execution_count": 317,
   "metadata": {},
   "outputs": [],
   "source": [
    "for (gene,drug), weight in b[0].items():\n",
    "            G.add_edge(gene[1:-1],drug[1:-1],weight=weight)"
   ]
  },
  {
   "cell_type": "code",
   "execution_count": 338,
   "metadata": {},
   "outputs": [
    {
     "data": {
      "text/plain": [
       "[['th',\n",
       "  'celp',\n",
       "  'mb',\n",
       "  'prkaa2',\n",
       "  'c19orf66',\n",
       "  'cic',\n",
       "  'egr3',\n",
       "  'spen',\n",
       "  'egfr',\n",
       "  'akt1',\n",
       "  'src',\n",
       "  'anpep',\n",
       "  'dgcr2',\n",
       "  'abcg2',\n",
       "  'erbb2',\n",
       "  'pten',\n",
       "  'cyp19a1',\n",
       "  'gaa',\n",
       "  'phospho2',\n",
       "  'tnip1',\n",
       "  'pik3ca',\n",
       "  'snai2',\n",
       "  'mtor',\n",
       "  'sgcg',\n",
       "  'birc5'],\n",
       " ['tamoxifen',\n",
       "  'fulvestrant',\n",
       "  'erlotinib',\n",
       "  'trastuzumab',\n",
       "  'fluorouracil',\n",
       "  'triciribine phosphate',\n",
       "  'gemcitabine',\n",
       "  'carbendazim',\n",
       "  'docetaxel',\n",
       "  'temsirolimus',\n",
       "  'paclitaxel',\n",
       "  'everolimus',\n",
       "  'sorafenib tosylate',\n",
       "  'pi3k/mtor inhibitor bez235',\n",
       "  'cyclophosphamide',\n",
       "  'lenalidomide',\n",
       "  'cisplatin',\n",
       "  'bevacizumab',\n",
       "  'vinorelbine',\n",
       "  'recombinant interleukin-6',\n",
       "  'oxaliplatin',\n",
       "  'lapatinib',\n",
       "  'dacarbazine',\n",
       "  'doxorubicin',\n",
       "  'capecitabine',\n",
       "  'buparlisib',\n",
       "  'selumetinib',\n",
       "  'thalidomide',\n",
       "  'mitoxantrone',\n",
       "  'letrozole',\n",
       "  'leucovorin calcium']]"
      ]
     },
     "execution_count": 338,
     "metadata": {},
     "output_type": "execute_result"
    }
   ],
   "source": [
    "get_node_set(G.edges)"
   ]
  },
  {
   "cell_type": "code",
   "execution_count": 337,
   "metadata": {
    "collapsed": true
   },
   "outputs": [],
   "source": [
    "def get_node_set(edges):\n",
    "    node_set=set()\n",
    "    for node in edges():\n",
    "        node_set.update(node)\n",
    "    gene_nodes = []\n",
    "    drug_nodes = []\n",
    "    for item in list(node_set):\n",
    "    #print(item)\n",
    "        if dg['#'+item+'#']=='gene':\n",
    "            gene_nodes.append(item)\n",
    "        if dg['#'+item+'#']=='drug':\n",
    "            drug_nodes.append(item)\n",
    "    return [gene_nodes, drug_nodes]"
   ]
  },
  {
   "cell_type": "code",
   "execution_count": null,
   "metadata": {
    "collapsed": true
   },
   "outputs": [],
   "source": []
  }
 ],
 "metadata": {
  "kernelspec": {
   "display_name": "Python 3",
   "language": "python",
   "name": "python3"
  },
  "language_info": {
   "codemirror_mode": {
    "name": "ipython",
    "version": 3
   },
   "file_extension": ".py",
   "mimetype": "text/x-python",
   "name": "python",
   "nbconvert_exporter": "python",
   "pygments_lexer": "ipython3",
   "version": "3.6.1"
  }
 },
 "nbformat": 4,
 "nbformat_minor": 2
}
