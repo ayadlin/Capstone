{
 "cells": [
  {
   "cell_type": "code",
   "execution_count": 1,
   "metadata": {
    "collapsed": true
   },
   "outputs": [],
   "source": [
    "import tokenizer\n",
    "import pickle\n",
    "import pandas as pd\n",
    "import numpy as np\n",
    "import glob\n",
    "import os\n",
    "import string\n",
    "from nltk.tokenize import sent_tokenize\n",
    "from nltk.tokenize import word_tokenize\n",
    "from nltk.corpus import stopwords\n",
    "from nltk.stem.porter import PorterStemmer\n",
    "from nltk.util import ngrams\n",
    "import json\n",
    "import sparse_matrix_functions\n",
    "import scipy.sparse as scs"
   ]
  },
  {
   "cell_type": "code",
   "execution_count": 2,
   "metadata": {
    "collapsed": true
   },
   "outputs": [],
   "source": [
    "path = '/Users/ale/Dropbox (Yadlin Family)/galvanize/capstone/*.txt'"
   ]
  },
  {
   "cell_type": "code",
   "execution_count": 3,
   "metadata": {
    "collapsed": true
   },
   "outputs": [],
   "source": [
    "with open(\"gene_dictionary_final.pickle\", \"rb\") as dict_gene:\n",
    "        gene_dict = pickle.load(dict_gene)"
   ]
  },
  {
   "cell_type": "code",
   "execution_count": 4,
   "metadata": {
    "collapsed": true
   },
   "outputs": [],
   "source": [
    "gene_keys = set(gene_dict.keys())\n",
    "gene_values = set(gene_dict.values())"
   ]
  },
  {
   "cell_type": "code",
   "execution_count": 5,
   "metadata": {},
   "outputs": [
    {
     "data": {
      "text/plain": [
       "'#erbb2#'"
      ]
     },
     "execution_count": 5,
     "metadata": {},
     "output_type": "execute_result"
    }
   ],
   "source": [
    "gene_dict['her2']"
   ]
  },
  {
   "cell_type": "code",
   "execution_count": 6,
   "metadata": {
    "collapsed": true
   },
   "outputs": [],
   "source": [
    "with open(\"drug_dictionary_final.pickle\", \"rb\") as dict_drug:\n",
    "        drug_dict = pickle.load(dict_drug)"
   ]
  },
  {
   "cell_type": "code",
   "execution_count": 113,
   "metadata": {
    "collapsed": true
   },
   "outputs": [],
   "source": [
    "drug_keys = set(drug_dict.keys())\n",
    "drug_values = set(drug_dict.values())"
   ]
  },
  {
   "cell_type": "code",
   "execution_count": 114,
   "metadata": {},
   "outputs": [
    {
     "data": {
      "text/plain": [
       "False"
      ]
     },
     "execution_count": 114,
     "metadata": {},
     "output_type": "execute_result"
    }
   ],
   "source": [
    "'#doxorubicin hydrochloride#' in drug_values"
   ]
  },
  {
   "cell_type": "code",
   "execution_count": 8,
   "metadata": {},
   "outputs": [
    {
     "data": {
      "text/plain": [
       "'#acridine#'"
      ]
     },
     "execution_count": 8,
     "metadata": {},
     "output_type": "execute_result"
    }
   ],
   "source": [
    "drug_dict['acridine carboxamide']"
   ]
  },
  {
   "cell_type": "code",
   "execution_count": 9,
   "metadata": {
    "collapsed": true
   },
   "outputs": [],
   "source": [
    "with open(\"greek_alphabet.pickle\", \"rb\") as dict_greek:\n",
    "        greek_dict = pickle.load(dict_greek)"
   ]
  },
  {
   "cell_type": "code",
   "execution_count": 10,
   "metadata": {
    "collapsed": true
   },
   "outputs": [],
   "source": [
    "import data_frame_creator"
   ]
  },
  {
   "cell_type": "code",
   "execution_count": 14,
   "metadata": {
    "collapsed": true
   },
   "outputs": [],
   "source": [
    "test=data_frame_creator.sparse_create_data_frame(path, short_list=True, min_df=0)"
   ]
  },
  {
   "cell_type": "code",
   "execution_count": 15,
   "metadata": {},
   "outputs": [],
   "source": [
    "vocab_matrix =test[0]\n",
    "vocab_columns = test[1]\n",
    "doc_names = test[2] \n",
    "orig_sentences =test[3]"
   ]
  },
  {
   "cell_type": "code",
   "execution_count": 16,
   "metadata": {},
   "outputs": [
    {
     "data": {
      "text/plain": [
       "400"
      ]
     },
     "execution_count": 16,
     "metadata": {},
     "output_type": "execute_result"
    }
   ],
   "source": [
    "len(vocab_columns)"
   ]
  },
  {
   "cell_type": "code",
   "execution_count": 17,
   "metadata": {
    "collapsed": true
   },
   "outputs": [],
   "source": [
    "col_idx=sparse_matrix_functions.column_indexing(vocab_columns)"
   ]
  },
  {
   "cell_type": "code",
   "execution_count": 18,
   "metadata": {},
   "outputs": [
    {
     "data": {
      "text/plain": [
       "{'#abcg2#': 0,\n",
       " '#acadl#': 1,\n",
       " '#ackr3#': 2,\n",
       " '#acpp#': 3,\n",
       " '#ado#': 4,\n",
       " '#afuresertib#': 5,\n",
       " '#agfg1#': 6,\n",
       " '#aicda#': 7,\n",
       " '#airn#': 8,\n",
       " '#akt inhibitor gsk2141795#': 9,\n",
       " '#akt inhibitor mk2206#': 10,\n",
       " '#akt1#': 11,\n",
       " '#alb#': 12,\n",
       " '#alisertib#': 13,\n",
       " '#alpelisib#': 14,\n",
       " '#alpi#': 15,\n",
       " '#alyref#': 16,\n",
       " '#amh#': 17,\n",
       " '#anastrozole#': 18,\n",
       " '#anpep#': 19,\n",
       " '#apatinib#': 20,\n",
       " '#ar#': 21,\n",
       " '#arc#': 22,\n",
       " '#areg#': 23,\n",
       " '#arhgef7#': 24,\n",
       " '#armc9#': 25,\n",
       " '#atg12#': 26,\n",
       " '#atm#': 27,\n",
       " '#atr#': 28,\n",
       " '#bank1#': 29,\n",
       " '#bax#': 30,\n",
       " '#bbc3#': 31,\n",
       " '#bcl2#': 32,\n",
       " '#bcs1l#': 33,\n",
       " '#bevacizumab#': 34,\n",
       " '#bid#': 35,\n",
       " '#binimetinib#': 36,\n",
       " '#birc5#': 37,\n",
       " '#bivm#': 38,\n",
       " '#bmi1#': 39,\n",
       " '#bmp7#': 40,\n",
       " '#bpifa4p#': 41,\n",
       " '#braf#': 42,\n",
       " '#brca1#': 43,\n",
       " '#brca2#': 44,\n",
       " '#brd2#': 45,\n",
       " '#brip1#': 46,\n",
       " '#broxuridine#': 47,\n",
       " '#buparlisib#': 48,\n",
       " '#c19orf66#': 49,\n",
       " '#c1qbp#': 50,\n",
       " '#ca1#': 51,\n",
       " '#capecitabine#': 52,\n",
       " '#carbendazim#': 53,\n",
       " '#carboplatin#': 54,\n",
       " '#cat#': 55,\n",
       " '#ccnd1#': 56,\n",
       " '#ccng2#': 57,\n",
       " '#cct#': 58,\n",
       " '#cd24#': 59,\n",
       " '#cd44#': 60,\n",
       " '#cdh1#': 61,\n",
       " '#cdh17#': 62,\n",
       " '#cdk2#': 63,\n",
       " '#cdk4#': 64,\n",
       " '#cdkn1a#': 65,\n",
       " '#cdkn1b#': 66,\n",
       " '#cdkn2a#': 67,\n",
       " '#cebpd#': 68,\n",
       " '#celp#': 69,\n",
       " '#cetuximab#': 70,\n",
       " '#chek1#': 71,\n",
       " '#chek2#': 72,\n",
       " '#cic#': 73,\n",
       " '#cish#': 74,\n",
       " '#cisplatin#': 75,\n",
       " '#cixutumumab#': 76,\n",
       " '#clofarabine#': 77,\n",
       " '#cnr1#': 78,\n",
       " '#cox8a#': 79,\n",
       " '#cp#': 80,\n",
       " '#cs#': 81,\n",
       " '#csn1s1#': 82,\n",
       " '#ctbp1#': 83,\n",
       " '#ctnnb1#': 84,\n",
       " '#cxcr4#': 85,\n",
       " '#cyclophosphamide#': 86,\n",
       " '#cycs#': 87,\n",
       " '#cyp19a1#': 88,\n",
       " '#cyp4z1#': 89,\n",
       " '#cyp4z2p#': 90,\n",
       " '#dacarbazine#': 91,\n",
       " '#dalir#': 92,\n",
       " '#dalotuzumab#': 93,\n",
       " '#daunorubicin#': 94,\n",
       " '#dcstamp#': 95,\n",
       " '#des#': 96,\n",
       " '#dexamethasone#': 97,\n",
       " '#dgcr2#': 98,\n",
       " '#dlx4#': 99,\n",
       " '#dna2#': 100,\n",
       " '#docetaxel#': 101,\n",
       " '#doxorubicin#': 102,\n",
       " '#dpm1#': 103,\n",
       " '#dpm2#': 104,\n",
       " '#duoxa1#': 105,\n",
       " '#dusp4#': 106,\n",
       " '#e2f1#': 107,\n",
       " '#eaf2#': 108,\n",
       " '#eec1#': 109,\n",
       " '#eef2#': 110,\n",
       " '#eef2k#': 111,\n",
       " '#egf#': 112,\n",
       " '#egfr#': 113,\n",
       " '#egr3#': 114,\n",
       " '#eif4e#': 115,\n",
       " '#eif4g1#': 116,\n",
       " '#ep300#': 117,\n",
       " '#epirubicin#': 118,\n",
       " '#erbb2#': 119,\n",
       " '#erbb3#': 120,\n",
       " '#erbb4#': 121,\n",
       " '#erlotinib#': 122,\n",
       " '#esr1#': 123,\n",
       " '#esr2#': 124,\n",
       " '#esrra#': 125,\n",
       " '#esrrb#': 126,\n",
       " '#everolimus#': 127,\n",
       " '#exemestane#': 128,\n",
       " '#exo1#': 129,\n",
       " '#exog#': 130,\n",
       " '#f11r#': 131,\n",
       " '#f12#': 132,\n",
       " '#fam129b#': 133,\n",
       " '#fanca#': 134,\n",
       " '#fancc#': 135,\n",
       " '#fancd2#': 136,\n",
       " '#fbn1#': 137,\n",
       " '#fbxw7#': 138,\n",
       " '#fh#': 139,\n",
       " '#fhit#': 140,\n",
       " '#fluorouracil#': 141,\n",
       " '#folitixorin#': 142,\n",
       " '#foxc1#': 143,\n",
       " '#foxg1#': 144,\n",
       " '#foxm1#': 145,\n",
       " '#foxo3#': 146,\n",
       " '#fry#': 147,\n",
       " '#ftcdnl1#': 148,\n",
       " '#fulvestrant#': 149,\n",
       " '#gaa#': 150,\n",
       " '#gata3#': 151,\n",
       " '#gemcitabine#': 152,\n",
       " '#gk#': 153,\n",
       " '#glys1#': 154,\n",
       " '#gnas-as1#': 155,\n",
       " '#gpbar1#': 156,\n",
       " '#gpr149#': 157,\n",
       " '#gpr180#': 158,\n",
       " '#hdac1#': 159,\n",
       " '#hdac3#': 160,\n",
       " '#hdac9#': 161,\n",
       " '#hic1#': 162,\n",
       " '#hif1a#': 163,\n",
       " '#hpp1#': 164,\n",
       " '#hr#': 165,\n",
       " '#hras#': 166,\n",
       " '#hrg#': 167,\n",
       " '#hsp90aa1#': 168,\n",
       " '#hydroxyurea#': 169,\n",
       " '#ifi27#': 170,\n",
       " '#igf1r#': 171,\n",
       " '#igll3p#': 172,\n",
       " '#il36g#': 173,\n",
       " '#impact#': 174,\n",
       " '#infliximab#': 175,\n",
       " '#ins#': 176,\n",
       " '#iproplatin#': 177,\n",
       " '#irf1#': 178,\n",
       " '#irs1#': 179,\n",
       " '#iv#': 180,\n",
       " '#jak2#': 181,\n",
       " '#kalrn#': 182,\n",
       " '#kcnt1#': 183,\n",
       " '#kiaa1551#': 184,\n",
       " '#kit#': 185,\n",
       " '#kl#': 186,\n",
       " '#kras#': 187,\n",
       " '#krit1#': 188,\n",
       " '#krt19#': 189,\n",
       " '#krt7#': 190,\n",
       " '#large1#': 191,\n",
       " '#lcn2#': 192,\n",
       " '#lekr1#': 193,\n",
       " '#lenalidomide#': 194,\n",
       " '#letrozole#': 195,\n",
       " '#leucovorin calcium#': 196,\n",
       " '#limch1#': 197,\n",
       " '#lin28a#': 198,\n",
       " '#lipa#': 199,\n",
       " '#litaf#': 200,\n",
       " '#ltf#': 201,\n",
       " '#magee1#': 202,\n",
       " '#mak#': 203,\n",
       " '#map2k1#': 204,\n",
       " '#map2k4#': 205,\n",
       " '#mapk3#': 206,\n",
       " '#mb#': 207,\n",
       " '#mbnl1#': 208,\n",
       " '#mcm8#': 209,\n",
       " '#mdm2#': 210,\n",
       " '#mek inhibitor ci-1040#': 211,\n",
       " '#melk#': 212,\n",
       " '#menogaril#': 213,\n",
       " '#methotrexate#': 214,\n",
       " '#mfap1#': 215,\n",
       " '#mib1#': 216,\n",
       " '#mice#': 217,\n",
       " '#mir145#': 218,\n",
       " '#mitoxantrone#': 219,\n",
       " '#mlh1#': 220,\n",
       " '#mmp9#': 221,\n",
       " '#mro#': 222,\n",
       " '#ms#': 223,\n",
       " '#msh2#': 224,\n",
       " '#msh6#': 225,\n",
       " '#msmp#': 226,\n",
       " '#msx2#': 227,\n",
       " '#mtor kinase inhibitor cc-223#': 228,\n",
       " '#mtor#': 229,\n",
       " '#muc7#': 230,\n",
       " '#myb#': 231,\n",
       " '#myc#': 232,\n",
       " '#myod1#': 233,\n",
       " '#nde1#': 234,\n",
       " '#neratinib#': 235,\n",
       " '#nf1#': 236,\n",
       " '#nfkbiz#': 237,\n",
       " '#niacinamide#': 238,\n",
       " '#nm#': 239,\n",
       " '#nodal#': 240,\n",
       " '#nova2#': 241,\n",
       " '#nqo1#': 242,\n",
       " '#nr4a2#': 243,\n",
       " '#nras#': 244,\n",
       " '#nrg1#': 245,\n",
       " '#nrip3#': 246,\n",
       " '#nsmaf#': 247,\n",
       " '#ovaal#': 248,\n",
       " '#oxaliplatin#': 249,\n",
       " '#paclitaxel#': 250,\n",
       " '#pafah1b1#': 251,\n",
       " '#paics#': 252,\n",
       " '#palb2#': 253,\n",
       " '#palld#': 254,\n",
       " '#parp1#': 255,\n",
       " '#patz1#': 256,\n",
       " '#pdcd4#': 257,\n",
       " '#pdgfra#': 258,\n",
       " '#pdgfrb#': 259,\n",
       " '#pdk1#': 260,\n",
       " '#pdlim5#': 261,\n",
       " '#pdxp#': 262,\n",
       " '#per1#': 263,\n",
       " '#perifosine#': 264,\n",
       " '#pertuzumab#': 265,\n",
       " '#pgp#': 266,\n",
       " '#pgr#': 267,\n",
       " '#phlpp2#': 268,\n",
       " '#phospho2#': 269,\n",
       " '#pi3#': 270,\n",
       " '#pi3k family kinase inhibitor xl147#': 271,\n",
       " '#pi3k-beta inhibitor gsk2636771#': 272,\n",
       " '#pi3k/mtor inhibitor bez235#': 273,\n",
       " '#pik3ca#': 274,\n",
       " '#pik3r1#': 275,\n",
       " '#pik3r2#': 276,\n",
       " '#pin1#': 277,\n",
       " '#pinx1#': 278,\n",
       " '#plcg1#': 279,\n",
       " '#plxna2#': 280,\n",
       " '#pmaip1#': 281,\n",
       " '#pms1#': 282,\n",
       " '#pms2#': 283,\n",
       " '#ppara#': 284,\n",
       " '#ppp6c#': 285,\n",
       " '#prdm6#': 286,\n",
       " '#prdx2#': 287,\n",
       " '#prkaa2#': 288,\n",
       " '#prl#': 289,\n",
       " '#proc#': 290,\n",
       " '#procarbazine#': 291,\n",
       " '#prss30p#': 292,\n",
       " '#psmd4#': 293,\n",
       " '#psmd5#': 294,\n",
       " '#pten#': 295,\n",
       " '#ptpn5#': 296,\n",
       " '#rab11fip1#': 297,\n",
       " '#rad51#': 298,\n",
       " '#rad51c#': 299,\n",
       " '#raf1#': 300,\n",
       " '#rapgef5#': 301,\n",
       " '#rasa1#': 302,\n",
       " '#rasal2#': 303,\n",
       " '#rb1#': 304,\n",
       " '#reck#': 305,\n",
       " '#recombinant interferon#': 306,\n",
       " '#recombinant interleukin-6#': 307,\n",
       " '#rel#': 308,\n",
       " '#ren#': 309,\n",
       " '#rerg#': 310,\n",
       " '#resistant starch#': 311,\n",
       " '#ribociclib#': 312,\n",
       " '#ridaforolimus#': 313,\n",
       " '#ripk2#': 314,\n",
       " '#rnase1#': 315,\n",
       " '#rnf2#': 316,\n",
       " '#ros1#': 317,\n",
       " '#rps3a#': 318,\n",
       " '#rps6#': 319,\n",
       " '#rps6kb1#': 320,\n",
       " '#rrad#': 321,\n",
       " '#runx1t1#': 322,\n",
       " '#saa4#': 323,\n",
       " '#sart3#': 324,\n",
       " '#sdhc#': 325,\n",
       " '#sds#': 326,\n",
       " '#sec14l2#': 327,\n",
       " '#selumetinib#': 328,\n",
       " '#setd2#': 329,\n",
       " '#sfrp2#': 330,\n",
       " '#sgcg#': 331,\n",
       " '#sgk3#': 332,\n",
       " '#si#': 333,\n",
       " '#sirt1#': 334,\n",
       " '#slc40a1#': 335,\n",
       " '#slc7a1#': 336,\n",
       " '#sltm#': 337,\n",
       " '#smad3#': 338,\n",
       " '#smad5#': 339,\n",
       " '#smim10l2a#': 340,\n",
       " '#snai1#': 341,\n",
       " '#snai2#': 342,\n",
       " '#son#': 343,\n",
       " '#sorafenib tosylate#': 344,\n",
       " '#sox2#': 345,\n",
       " '#sox7#': 346,\n",
       " '#spen#': 347,\n",
       " '#src#': 348,\n",
       " '#srebf1#': 349,\n",
       " '#stat1#': 350,\n",
       " '#stat3#': 351,\n",
       " '#stk11#': 352,\n",
       " '#supt16h#': 353,\n",
       " '#t#': 354,\n",
       " '#tamoxifen#': 355,\n",
       " '#tc2n#': 356,\n",
       " '#tcf7l2#': 357,\n",
       " '#telab1#': 358,\n",
       " '#temsirolimus#': 359,\n",
       " '#tenm1#': 360,\n",
       " '#tf#': 361,\n",
       " '#tfap2a#': 362,\n",
       " '#tfap2b#': 363,\n",
       " '#tg#': 364,\n",
       " '#tgfb2#': 365,\n",
       " '#th#': 366,\n",
       " '#thalidomide#': 367,\n",
       " '#tiparp#': 368,\n",
       " '#tnfrsf11a#': 369,\n",
       " '#tnfrsf11b#': 370,\n",
       " '#tnfsf13b#': 371,\n",
       " '#tnfsf14#': 372,\n",
       " '#tnip1#': 373,\n",
       " '#tnip3#': 374,\n",
       " '#tox#': 375,\n",
       " '#tox3#': 376,\n",
       " '#tp53#': 377,\n",
       " '#tra-tgc7-1#': 378,\n",
       " '#trametinib#': 379,\n",
       " '#trans sodium crocetinate#': 380,\n",
       " '#trastuzumab#': 381,\n",
       " '#triciribine phosphate#': 382,\n",
       " '#twist1#': 383,\n",
       " '#uap1l1#': 384,\n",
       " '#ugt3a1#': 385,\n",
       " '#ulk1#': 386,\n",
       " '#vegfa#': 387,\n",
       " '#vgf#': 388,\n",
       " '#vinorelbine#': 389,\n",
       " '#voxtalisib#': 390,\n",
       " '#wdtc1#': 391,\n",
       " '#wnt5a#': 392,\n",
       " '#xs#': 393,\n",
       " '#zbp1#': 394,\n",
       " '#zbtb8os#': 395,\n",
       " '#zfyve9#': 396,\n",
       " '#znf746#': 397,\n",
       " 'resist': 398,\n",
       " 'sensit': 399}"
      ]
     },
     "execution_count": 18,
     "metadata": {},
     "output_type": "execute_result"
    }
   ],
   "source": [
    "col_idx"
   ]
  },
  {
   "cell_type": "code",
   "execution_count": 19,
   "metadata": {
    "collapsed": true
   },
   "outputs": [],
   "source": [
    "non_empty_rows = sparse_matrix_functions.non_zero_rows(vocab_matrix)"
   ]
  },
  {
   "cell_type": "code",
   "execution_count": 20,
   "metadata": {
    "collapsed": true
   },
   "outputs": [],
   "source": [
    "sentences = [orig_sentences[i] for i in non_empty_rows]"
   ]
  },
  {
   "cell_type": "code",
   "execution_count": 22,
   "metadata": {
    "collapsed": true
   },
   "outputs": [],
   "source": [
    "files = [doc_names[i] for i in non_empty_rows]"
   ]
  },
  {
   "cell_type": "code",
   "execution_count": 23,
   "metadata": {
    "collapsed": true
   },
   "outputs": [],
   "source": [
    "vocab_mat_clean=sparse_matrix_functions.remove_zero_rows(vocab_matrix)"
   ]
  },
  {
   "cell_type": "code",
   "execution_count": 24,
   "metadata": {},
   "outputs": [
    {
     "data": {
      "text/plain": [
       "<1428x400 sparse matrix of type '<class 'numpy.int64'>'\n",
       "\twith 2932 stored elements in Compressed Sparse Row format>"
      ]
     },
     "execution_count": 24,
     "metadata": {},
     "output_type": "execute_result"
    }
   ],
   "source": [
    "vocab_mat_clean"
   ]
  },
  {
   "cell_type": "code",
   "execution_count": 25,
   "metadata": {},
   "outputs": [
    {
     "name": "stdout",
     "output_type": "stream",
     "text": [
      "  (0, 200)\t2\n",
      "  (0, 184)\t1\n",
      "  (1, 113)\t1\n",
      "  (1, 274)\t2\n",
      "  (1, 295)\t1\n",
      "  (1, 11)\t1\n",
      "  (1, 254)\t1\n",
      "  (1, 69)\t1\n",
      "  (1, 398)\t1\n",
      "  (1, 229)\t1\n",
      "  (2, 113)\t1\n",
      "  (2, 274)\t1\n",
      "  (2, 295)\t1\n",
      "  (2, 11)\t1\n",
      "  (2, 398)\t1\n",
      "  (3, 274)\t1\n",
      "  (3, 295)\t1\n",
      "  (3, 119)\t1\n",
      "  (3, 43)\t1\n",
      "  (3, 44)\t1\n",
      "  (3, 377)\t1\n",
      "  (4, 274)\t1\n",
      "  (5, 398)\t1\n",
      "  (5, 119)\t1\n",
      "  (6, 398)\t1\n",
      "  :\t:\n",
      "  (1411, 150)\t1\n",
      "  (1411, 117)\t1\n",
      "  (1412, 105)\t1\n",
      "  (1413, 334)\t1\n",
      "  (1414, 217)\t1\n",
      "  (1414, 176)\t1\n",
      "  (1414, 153)\t1\n",
      "  (1414, 334)\t1\n",
      "  (1415, 217)\t1\n",
      "  (1415, 334)\t1\n",
      "  (1416, 17)\t1\n",
      "  (1417, 356)\t1\n",
      "  (1418, 223)\t1\n",
      "  (1419, 377)\t1\n",
      "  (1420, 45)\t1\n",
      "  (1421, 105)\t1\n",
      "  (1422, 377)\t1\n",
      "  (1422, 217)\t1\n",
      "  (1422, 334)\t1\n",
      "  (1423, 290)\t1\n",
      "  (1424, 144)\t1\n",
      "  (1424, 334)\t1\n",
      "  (1425, 334)\t1\n",
      "  (1426, 16)\t1\n",
      "  (1427, 237)\t1\n"
     ]
    }
   ],
   "source": [
    "print(vocab_mat_clean)"
   ]
  },
  {
   "cell_type": "code",
   "execution_count": 26,
   "metadata": {},
   "outputs": [
    {
     "data": {
      "text/plain": [
       "(1428, 400)"
      ]
     },
     "execution_count": 26,
     "metadata": {},
     "output_type": "execute_result"
    }
   ],
   "source": [
    "vocab_mat_clean.shape"
   ]
  },
  {
   "cell_type": "code",
   "execution_count": 27,
   "metadata": {
    "collapsed": true
   },
   "outputs": [],
   "source": [
    "b = vocab_mat_clean.nonzero()[0]"
   ]
  },
  {
   "cell_type": "code",
   "execution_count": 28,
   "metadata": {
    "collapsed": true
   },
   "outputs": [],
   "source": [
    "c = vocab_mat_clean.nonzero()[1]"
   ]
  },
  {
   "cell_type": "code",
   "execution_count": 30,
   "metadata": {
    "collapsed": true
   },
   "outputs": [],
   "source": [
    "gene_columns_index =[vocab_columns.index(i) for i in vocab_columns if i in gene_values] "
   ]
  },
  {
   "cell_type": "code",
   "execution_count": 31,
   "metadata": {
    "collapsed": true
   },
   "outputs": [],
   "source": [
    "gene_columns_name =[i for i in vocab_columns if i in gene_values] "
   ]
  },
  {
   "cell_type": "code",
   "execution_count": 32,
   "metadata": {
    "collapsed": true
   },
   "outputs": [],
   "source": [
    "drug_columns_name =[i for i in vocab_columns if i in drug_values] "
   ]
  },
  {
   "cell_type": "code",
   "execution_count": 33,
   "metadata": {
    "collapsed": true
   },
   "outputs": [],
   "source": [
    "drug_columns_index =[vocab_columns.index(i) for i in vocab_columns if i in drug_values] "
   ]
  },
  {
   "cell_type": "code",
   "execution_count": 34,
   "metadata": {},
   "outputs": [
    {
     "data": {
      "text/plain": [
       "(2893, 400)"
      ]
     },
     "execution_count": 34,
     "metadata": {},
     "output_type": "execute_result"
    }
   ],
   "source": [
    "vocab_matrix.shape"
   ]
  },
  {
   "cell_type": "code",
   "execution_count": 35,
   "metadata": {
    "collapsed": true
   },
   "outputs": [],
   "source": [
    "drug_mat=vocab_matrix[:,drug_columns_index]"
   ]
  },
  {
   "cell_type": "code",
   "execution_count": 36,
   "metadata": {
    "collapsed": true
   },
   "outputs": [],
   "source": [
    "gene_mat=vocab_matrix[:,gene_columns_index]"
   ]
  },
  {
   "cell_type": "code",
   "execution_count": 37,
   "metadata": {},
   "outputs": [
    {
     "data": {
      "text/plain": [
       "<328x70 sparse matrix of type '<class 'numpy.int64'>'\n",
       "\twith 520 stored elements in Compressed Sparse Column format>"
      ]
     },
     "execution_count": 37,
     "metadata": {},
     "output_type": "execute_result"
    }
   ],
   "source": [
    "gene_mat.T*drug_mat"
   ]
  },
  {
   "cell_type": "code",
   "execution_count": 38,
   "metadata": {
    "collapsed": true
   },
   "outputs": [],
   "source": [
    "def drop_columns(X,index_to_drop):\n",
    "    to_keep = list(set(range(X.shape[1]-1))-set(index_to_drop))    \n",
    "    new_X = X[:,to_keep]\n",
    "    return new_X"
   ]
  },
  {
   "cell_type": "code",
   "execution_count": 39,
   "metadata": {
    "collapsed": true
   },
   "outputs": [],
   "source": [
    "resist = drop_columns(vocab_matrix, [vocab_columns.index('sensit')])"
   ]
  },
  {
   "cell_type": "code",
   "execution_count": 40,
   "metadata": {},
   "outputs": [
    {
     "data": {
      "text/plain": [
       "(2893, 399)"
      ]
     },
     "execution_count": 40,
     "metadata": {},
     "output_type": "execute_result"
    }
   ],
   "source": [
    "resist.shape"
   ]
  },
  {
   "cell_type": "code",
   "execution_count": 42,
   "metadata": {
    "collapsed": true
   },
   "outputs": [],
   "source": [
    "sensit = drop_columns(vocab_matrix, [vocab_columns.index('resist')])"
   ]
  },
  {
   "cell_type": "code",
   "execution_count": null,
   "metadata": {
    "collapsed": true
   },
   "outputs": [],
   "source": [
    "#sparse_matrix_functions.column_indexing(drug_columns_name)"
   ]
  },
  {
   "cell_type": "code",
   "execution_count": 54,
   "metadata": {
    "collapsed": true
   },
   "outputs": [],
   "source": [
    "def make_network_matrix(X, vocabulary):\n",
    "    #drug_columns_name =[i for i in vocabulary if i in drug_values] \n",
    "    drug_columns_index =[vocabulary.index(i) for i in vocabulary if i in drug_values]    \n",
    "    gene_columns_index =[vocabulary.index(i) for i in vocabulary if i in gene_values] \n",
    "    #gene_columns_name =[i for i in vocabulary if i in gene_values] \n",
    "    gene_mat=X[:,gene_columns_index]\n",
    "    drug_mat=X[:,drug_columns_index]\n",
    "    network_matrix = gene_mat.T*drug_mat\n",
    "    return network_matrix"
   ]
  },
  {
   "cell_type": "code",
   "execution_count": 43,
   "metadata": {
    "collapsed": true
   },
   "outputs": [],
   "source": [
    "def get_network_rows(vocabulary):\n",
    "    genes = {}\n",
    "    genes_columns_names=[i for i in vocabulary if i in gene_values]\n",
    "    for idx,name in enumerate(genes_columns_names):\n",
    "        genes[idx]=name\n",
    "    return genes"
   ]
  },
  {
   "cell_type": "code",
   "execution_count": 44,
   "metadata": {
    "collapsed": true
   },
   "outputs": [],
   "source": [
    "network_genes=get_network_rows(vocab_columns)"
   ]
  },
  {
   "cell_type": "code",
   "execution_count": 45,
   "metadata": {
    "collapsed": true
   },
   "outputs": [],
   "source": [
    "def get_network_columns(vocabulary):\n",
    "    drugs = {}\n",
    "    drugs_columns_names=[i for i in vocabulary if i in drug_values]\n",
    "    for idx,name in enumerate(drugs_columns_names):\n",
    "        drugs[idx]=name\n",
    "    return drugs"
   ]
  },
  {
   "cell_type": "code",
   "execution_count": 46,
   "metadata": {
    "collapsed": true
   },
   "outputs": [],
   "source": [
    "network_drugs =get_network_columns(vocab_columns)"
   ]
  },
  {
   "cell_type": "code",
   "execution_count": 48,
   "metadata": {},
   "outputs": [
    {
     "data": {
      "text/plain": [
       "{0: '#afuresertib#',\n",
       " 1: '#akt inhibitor gsk2141795#',\n",
       " 2: '#akt inhibitor mk2206#',\n",
       " 3: '#alisertib#',\n",
       " 4: '#alpelisib#',\n",
       " 5: '#anastrozole#',\n",
       " 6: '#apatinib#',\n",
       " 7: '#bevacizumab#',\n",
       " 8: '#binimetinib#',\n",
       " 9: '#broxuridine#',\n",
       " 10: '#buparlisib#',\n",
       " 11: '#capecitabine#',\n",
       " 12: '#carbendazim#',\n",
       " 13: '#carboplatin#',\n",
       " 14: '#cetuximab#',\n",
       " 15: '#cisplatin#',\n",
       " 16: '#cixutumumab#',\n",
       " 17: '#clofarabine#',\n",
       " 18: '#cyclophosphamide#',\n",
       " 19: '#dacarbazine#',\n",
       " 20: '#dalotuzumab#',\n",
       " 21: '#daunorubicin#',\n",
       " 22: '#dexamethasone#',\n",
       " 23: '#docetaxel#',\n",
       " 24: '#doxorubicin#',\n",
       " 25: '#epirubicin#',\n",
       " 26: '#erlotinib#',\n",
       " 27: '#everolimus#',\n",
       " 28: '#exemestane#',\n",
       " 29: '#fluorouracil#',\n",
       " 30: '#folitixorin#',\n",
       " 31: '#fulvestrant#',\n",
       " 32: '#gemcitabine#',\n",
       " 33: '#hydroxyurea#',\n",
       " 34: '#infliximab#',\n",
       " 35: '#iproplatin#',\n",
       " 36: '#lenalidomide#',\n",
       " 37: '#letrozole#',\n",
       " 38: '#leucovorin calcium#',\n",
       " 39: '#mek inhibitor ci-1040#',\n",
       " 40: '#menogaril#',\n",
       " 41: '#methotrexate#',\n",
       " 42: '#mitoxantrone#',\n",
       " 43: '#mtor kinase inhibitor cc-223#',\n",
       " 44: '#neratinib#',\n",
       " 45: '#niacinamide#',\n",
       " 46: '#oxaliplatin#',\n",
       " 47: '#paclitaxel#',\n",
       " 48: '#perifosine#',\n",
       " 49: '#pertuzumab#',\n",
       " 50: '#pi3k family kinase inhibitor xl147#',\n",
       " 51: '#pi3k-beta inhibitor gsk2636771#',\n",
       " 52: '#pi3k/mtor inhibitor bez235#',\n",
       " 53: '#procarbazine#',\n",
       " 54: '#recombinant interferon#',\n",
       " 55: '#recombinant interleukin-6#',\n",
       " 56: '#resistant starch#',\n",
       " 57: '#ribociclib#',\n",
       " 58: '#ridaforolimus#',\n",
       " 59: '#selumetinib#',\n",
       " 60: '#sorafenib tosylate#',\n",
       " 61: '#tamoxifen#',\n",
       " 62: '#temsirolimus#',\n",
       " 63: '#thalidomide#',\n",
       " 64: '#trametinib#',\n",
       " 65: '#trans sodium crocetinate#',\n",
       " 66: '#trastuzumab#',\n",
       " 67: '#triciribine phosphate#',\n",
       " 68: '#vinorelbine#',\n",
       " 69: '#voxtalisib#'}"
      ]
     },
     "execution_count": 48,
     "metadata": {},
     "output_type": "execute_result"
    }
   ],
   "source": [
    "network_drugs"
   ]
  },
  {
   "cell_type": "code",
   "execution_count": 49,
   "metadata": {},
   "outputs": [
    {
     "data": {
      "text/plain": [
       "{0: '#abcg2#',\n",
       " 1: '#acadl#',\n",
       " 2: '#ackr3#',\n",
       " 3: '#acpp#',\n",
       " 4: '#ado#',\n",
       " 5: '#agfg1#',\n",
       " 6: '#aicda#',\n",
       " 7: '#airn#',\n",
       " 8: '#akt1#',\n",
       " 9: '#alb#',\n",
       " 10: '#alpi#',\n",
       " 11: '#alyref#',\n",
       " 12: '#amh#',\n",
       " 13: '#anpep#',\n",
       " 14: '#ar#',\n",
       " 15: '#arc#',\n",
       " 16: '#areg#',\n",
       " 17: '#arhgef7#',\n",
       " 18: '#armc9#',\n",
       " 19: '#atg12#',\n",
       " 20: '#atm#',\n",
       " 21: '#atr#',\n",
       " 22: '#bank1#',\n",
       " 23: '#bax#',\n",
       " 24: '#bbc3#',\n",
       " 25: '#bcl2#',\n",
       " 26: '#bcs1l#',\n",
       " 27: '#bid#',\n",
       " 28: '#birc5#',\n",
       " 29: '#bivm#',\n",
       " 30: '#bmi1#',\n",
       " 31: '#bmp7#',\n",
       " 32: '#bpifa4p#',\n",
       " 33: '#braf#',\n",
       " 34: '#brca1#',\n",
       " 35: '#brca2#',\n",
       " 36: '#brd2#',\n",
       " 37: '#brip1#',\n",
       " 38: '#c19orf66#',\n",
       " 39: '#c1qbp#',\n",
       " 40: '#ca1#',\n",
       " 41: '#cat#',\n",
       " 42: '#ccnd1#',\n",
       " 43: '#ccng2#',\n",
       " 44: '#cct#',\n",
       " 45: '#cd24#',\n",
       " 46: '#cd44#',\n",
       " 47: '#cdh1#',\n",
       " 48: '#cdh17#',\n",
       " 49: '#cdk2#',\n",
       " 50: '#cdk4#',\n",
       " 51: '#cdkn1a#',\n",
       " 52: '#cdkn1b#',\n",
       " 53: '#cdkn2a#',\n",
       " 54: '#cebpd#',\n",
       " 55: '#celp#',\n",
       " 56: '#chek1#',\n",
       " 57: '#chek2#',\n",
       " 58: '#cic#',\n",
       " 59: '#cish#',\n",
       " 60: '#cnr1#',\n",
       " 61: '#cox8a#',\n",
       " 62: '#cp#',\n",
       " 63: '#cs#',\n",
       " 64: '#csn1s1#',\n",
       " 65: '#ctbp1#',\n",
       " 66: '#ctnnb1#',\n",
       " 67: '#cxcr4#',\n",
       " 68: '#cycs#',\n",
       " 69: '#cyp19a1#',\n",
       " 70: '#cyp4z1#',\n",
       " 71: '#cyp4z2p#',\n",
       " 72: '#dalir#',\n",
       " 73: '#dcstamp#',\n",
       " 74: '#des#',\n",
       " 75: '#dgcr2#',\n",
       " 76: '#dlx4#',\n",
       " 77: '#dna2#',\n",
       " 78: '#dpm1#',\n",
       " 79: '#dpm2#',\n",
       " 80: '#duoxa1#',\n",
       " 81: '#dusp4#',\n",
       " 82: '#e2f1#',\n",
       " 83: '#eaf2#',\n",
       " 84: '#eec1#',\n",
       " 85: '#eef2#',\n",
       " 86: '#eef2k#',\n",
       " 87: '#egf#',\n",
       " 88: '#egfr#',\n",
       " 89: '#egr3#',\n",
       " 90: '#eif4e#',\n",
       " 91: '#eif4g1#',\n",
       " 92: '#ep300#',\n",
       " 93: '#erbb2#',\n",
       " 94: '#erbb3#',\n",
       " 95: '#erbb4#',\n",
       " 96: '#esr1#',\n",
       " 97: '#esr2#',\n",
       " 98: '#esrra#',\n",
       " 99: '#esrrb#',\n",
       " 100: '#exo1#',\n",
       " 101: '#exog#',\n",
       " 102: '#f11r#',\n",
       " 103: '#f12#',\n",
       " 104: '#fam129b#',\n",
       " 105: '#fanca#',\n",
       " 106: '#fancc#',\n",
       " 107: '#fancd2#',\n",
       " 108: '#fbn1#',\n",
       " 109: '#fbxw7#',\n",
       " 110: '#fh#',\n",
       " 111: '#fhit#',\n",
       " 112: '#foxc1#',\n",
       " 113: '#foxg1#',\n",
       " 114: '#foxm1#',\n",
       " 115: '#foxo3#',\n",
       " 116: '#fry#',\n",
       " 117: '#ftcdnl1#',\n",
       " 118: '#gaa#',\n",
       " 119: '#gata3#',\n",
       " 120: '#gk#',\n",
       " 121: '#glys1#',\n",
       " 122: '#gnas-as1#',\n",
       " 123: '#gpbar1#',\n",
       " 124: '#gpr149#',\n",
       " 125: '#gpr180#',\n",
       " 126: '#hdac1#',\n",
       " 127: '#hdac3#',\n",
       " 128: '#hdac9#',\n",
       " 129: '#hic1#',\n",
       " 130: '#hif1a#',\n",
       " 131: '#hpp1#',\n",
       " 132: '#hr#',\n",
       " 133: '#hras#',\n",
       " 134: '#hrg#',\n",
       " 135: '#hsp90aa1#',\n",
       " 136: '#ifi27#',\n",
       " 137: '#igf1r#',\n",
       " 138: '#igll3p#',\n",
       " 139: '#il36g#',\n",
       " 140: '#impact#',\n",
       " 141: '#ins#',\n",
       " 142: '#irf1#',\n",
       " 143: '#irs1#',\n",
       " 144: '#iv#',\n",
       " 145: '#jak2#',\n",
       " 146: '#kalrn#',\n",
       " 147: '#kcnt1#',\n",
       " 148: '#kiaa1551#',\n",
       " 149: '#kit#',\n",
       " 150: '#kl#',\n",
       " 151: '#kras#',\n",
       " 152: '#krit1#',\n",
       " 153: '#krt19#',\n",
       " 154: '#krt7#',\n",
       " 155: '#large1#',\n",
       " 156: '#lcn2#',\n",
       " 157: '#lekr1#',\n",
       " 158: '#limch1#',\n",
       " 159: '#lin28a#',\n",
       " 160: '#lipa#',\n",
       " 161: '#litaf#',\n",
       " 162: '#ltf#',\n",
       " 163: '#magee1#',\n",
       " 164: '#mak#',\n",
       " 165: '#map2k1#',\n",
       " 166: '#map2k4#',\n",
       " 167: '#mapk3#',\n",
       " 168: '#mb#',\n",
       " 169: '#mbnl1#',\n",
       " 170: '#mcm8#',\n",
       " 171: '#mdm2#',\n",
       " 172: '#melk#',\n",
       " 173: '#mfap1#',\n",
       " 174: '#mib1#',\n",
       " 175: '#mice#',\n",
       " 176: '#mir145#',\n",
       " 177: '#mlh1#',\n",
       " 178: '#mmp9#',\n",
       " 179: '#mro#',\n",
       " 180: '#ms#',\n",
       " 181: '#msh2#',\n",
       " 182: '#msh6#',\n",
       " 183: '#msmp#',\n",
       " 184: '#msx2#',\n",
       " 185: '#mtor#',\n",
       " 186: '#muc7#',\n",
       " 187: '#myb#',\n",
       " 188: '#myc#',\n",
       " 189: '#myod1#',\n",
       " 190: '#nde1#',\n",
       " 191: '#nf1#',\n",
       " 192: '#nfkbiz#',\n",
       " 193: '#nm#',\n",
       " 194: '#nodal#',\n",
       " 195: '#nova2#',\n",
       " 196: '#nqo1#',\n",
       " 197: '#nr4a2#',\n",
       " 198: '#nras#',\n",
       " 199: '#nrg1#',\n",
       " 200: '#nrip3#',\n",
       " 201: '#nsmaf#',\n",
       " 202: '#ovaal#',\n",
       " 203: '#pafah1b1#',\n",
       " 204: '#paics#',\n",
       " 205: '#palb2#',\n",
       " 206: '#palld#',\n",
       " 207: '#parp1#',\n",
       " 208: '#patz1#',\n",
       " 209: '#pdcd4#',\n",
       " 210: '#pdgfra#',\n",
       " 211: '#pdgfrb#',\n",
       " 212: '#pdk1#',\n",
       " 213: '#pdlim5#',\n",
       " 214: '#pdxp#',\n",
       " 215: '#per1#',\n",
       " 216: '#pgp#',\n",
       " 217: '#pgr#',\n",
       " 218: '#phlpp2#',\n",
       " 219: '#phospho2#',\n",
       " 220: '#pi3#',\n",
       " 221: '#pik3ca#',\n",
       " 222: '#pik3r1#',\n",
       " 223: '#pik3r2#',\n",
       " 224: '#pin1#',\n",
       " 225: '#pinx1#',\n",
       " 226: '#plcg1#',\n",
       " 227: '#plxna2#',\n",
       " 228: '#pmaip1#',\n",
       " 229: '#pms1#',\n",
       " 230: '#pms2#',\n",
       " 231: '#ppara#',\n",
       " 232: '#ppp6c#',\n",
       " 233: '#prdm6#',\n",
       " 234: '#prdx2#',\n",
       " 235: '#prkaa2#',\n",
       " 236: '#prl#',\n",
       " 237: '#proc#',\n",
       " 238: '#prss30p#',\n",
       " 239: '#psmd4#',\n",
       " 240: '#psmd5#',\n",
       " 241: '#pten#',\n",
       " 242: '#ptpn5#',\n",
       " 243: '#rab11fip1#',\n",
       " 244: '#rad51#',\n",
       " 245: '#rad51c#',\n",
       " 246: '#raf1#',\n",
       " 247: '#rapgef5#',\n",
       " 248: '#rasa1#',\n",
       " 249: '#rasal2#',\n",
       " 250: '#rb1#',\n",
       " 251: '#reck#',\n",
       " 252: '#rel#',\n",
       " 253: '#ren#',\n",
       " 254: '#rerg#',\n",
       " 255: '#ripk2#',\n",
       " 256: '#rnase1#',\n",
       " 257: '#rnf2#',\n",
       " 258: '#ros1#',\n",
       " 259: '#rps3a#',\n",
       " 260: '#rps6#',\n",
       " 261: '#rps6kb1#',\n",
       " 262: '#rrad#',\n",
       " 263: '#runx1t1#',\n",
       " 264: '#saa4#',\n",
       " 265: '#sart3#',\n",
       " 266: '#sdhc#',\n",
       " 267: '#sds#',\n",
       " 268: '#sec14l2#',\n",
       " 269: '#setd2#',\n",
       " 270: '#sfrp2#',\n",
       " 271: '#sgcg#',\n",
       " 272: '#sgk3#',\n",
       " 273: '#si#',\n",
       " 274: '#sirt1#',\n",
       " 275: '#slc40a1#',\n",
       " 276: '#slc7a1#',\n",
       " 277: '#sltm#',\n",
       " 278: '#smad3#',\n",
       " 279: '#smad5#',\n",
       " 280: '#smim10l2a#',\n",
       " 281: '#snai1#',\n",
       " 282: '#snai2#',\n",
       " 283: '#son#',\n",
       " 284: '#sox2#',\n",
       " 285: '#sox7#',\n",
       " 286: '#spen#',\n",
       " 287: '#src#',\n",
       " 288: '#srebf1#',\n",
       " 289: '#stat1#',\n",
       " 290: '#stat3#',\n",
       " 291: '#stk11#',\n",
       " 292: '#supt16h#',\n",
       " 293: '#t#',\n",
       " 294: '#tc2n#',\n",
       " 295: '#tcf7l2#',\n",
       " 296: '#telab1#',\n",
       " 297: '#tenm1#',\n",
       " 298: '#tf#',\n",
       " 299: '#tfap2a#',\n",
       " 300: '#tfap2b#',\n",
       " 301: '#tg#',\n",
       " 302: '#tgfb2#',\n",
       " 303: '#th#',\n",
       " 304: '#tiparp#',\n",
       " 305: '#tnfrsf11a#',\n",
       " 306: '#tnfrsf11b#',\n",
       " 307: '#tnfsf13b#',\n",
       " 308: '#tnfsf14#',\n",
       " 309: '#tnip1#',\n",
       " 310: '#tnip3#',\n",
       " 311: '#tox#',\n",
       " 312: '#tox3#',\n",
       " 313: '#tp53#',\n",
       " 314: '#tra-tgc7-1#',\n",
       " 315: '#twist1#',\n",
       " 316: '#uap1l1#',\n",
       " 317: '#ugt3a1#',\n",
       " 318: '#ulk1#',\n",
       " 319: '#vegfa#',\n",
       " 320: '#vgf#',\n",
       " 321: '#wdtc1#',\n",
       " 322: '#wnt5a#',\n",
       " 323: '#xs#',\n",
       " 324: '#zbp1#',\n",
       " 325: '#zbtb8os#',\n",
       " 326: '#zfyve9#',\n",
       " 327: '#znf746#'}"
      ]
     },
     "execution_count": 49,
     "metadata": {},
     "output_type": "execute_result"
    }
   ],
   "source": [
    "network_genes"
   ]
  },
  {
   "cell_type": "code",
   "execution_count": 50,
   "metadata": {},
   "outputs": [
    {
     "data": {
      "text/plain": [
       "98"
      ]
     },
     "execution_count": 50,
     "metadata": {},
     "output_type": "execute_result"
    }
   ],
   "source": [
    "col_idx['#dgcr2#']"
   ]
  },
  {
   "cell_type": "code",
   "execution_count": 52,
   "metadata": {},
   "outputs": [
    {
     "data": {
      "text/plain": [
       "390"
      ]
     },
     "execution_count": 52,
     "metadata": {},
     "output_type": "execute_result"
    }
   ],
   "source": [
    "col_idx[network_drugs[69]]"
   ]
  },
  {
   "cell_type": "code",
   "execution_count": 55,
   "metadata": {},
   "outputs": [],
   "source": [
    "sensit_network_matrix = make_network_matrix(sensit, vocab_columns)"
   ]
  },
  {
   "cell_type": "code",
   "execution_count": null,
   "metadata": {
    "collapsed": true
   },
   "outputs": [],
   "source": [
    "#sensit_network_matrix.nonzero()"
   ]
  },
  {
   "cell_type": "code",
   "execution_count": 56,
   "metadata": {},
   "outputs": [
    {
     "data": {
      "text/plain": [
       "<328x70 sparse matrix of type '<class 'numpy.int64'>'\n",
       "\twith 520 stored elements in Compressed Sparse Column format>"
      ]
     },
     "execution_count": 56,
     "metadata": {},
     "output_type": "execute_result"
    }
   ],
   "source": [
    "sensit_network_matrix"
   ]
  },
  {
   "cell_type": "code",
   "execution_count": 57,
   "metadata": {},
   "outputs": [
    {
     "data": {
      "text/plain": [
       "520"
      ]
     },
     "execution_count": 57,
     "metadata": {},
     "output_type": "execute_result"
    }
   ],
   "source": [
    "len(list(sensit_network_matrix.nonzero()[1]))"
   ]
  },
  {
   "cell_type": "code",
   "execution_count": null,
   "metadata": {
    "collapsed": true
   },
   "outputs": [],
   "source": [
    "a =zip(list(sensit_network_matrix.nonzero()[0]),list(sensit_network_matrix.nonzero()[1]))"
   ]
  },
  {
   "cell_type": "code",
   "execution_count": null,
   "metadata": {},
   "outputs": [],
   "source": [
    "\n",
    "for i in a:\n",
    "    pairs = (network_genes[i[0]], network_drugs[i[1]])\n",
    "    r =np.zeros((sensit_network_matrix.shape[0],1))\n",
    "    r[i[0]]=1\n",
    "    c =np.zeros((sensit_network_matrix.shape[1],1))\n",
    "    c[i[1]]=1\n",
    "    counts =(r.T).dot(sensit_network_matrix.dot(c))\n",
    "    print(pairs)\n",
    "    print(counts)"
   ]
  },
  {
   "cell_type": "code",
   "execution_count": 58,
   "metadata": {
    "collapsed": true
   },
   "outputs": [],
   "source": [
    "def extract_gene_drug_pairs(matrix):\n",
    "    a =zip(list(matrix.nonzero()[0]),list(matrix.nonzero()[1])) \n",
    "    pairs = []\n",
    "    counts = []\n",
    "    for pair in a:\n",
    "        gendrug = (network_genes[pair[0]], network_drugs[pair[1]])\n",
    "        r =np.zeros((matrix.shape[0],1))\n",
    "        r[pair[0]]=1\n",
    "        c =np.zeros((matrix.shape[1],1))\n",
    "        c[pair[1]]=1\n",
    "        count =(r.T).dot(matrix.dot(c))\n",
    "        pairs.append(gendrug)\n",
    "        counts.append(count)\n",
    "    return (pairs, counts)\n",
    "    "
   ]
  },
  {
   "cell_type": "code",
   "execution_count": 59,
   "metadata": {
    "collapsed": true
   },
   "outputs": [],
   "source": [
    "pairs, counts = extract_gene_drug_pairs(sensit_network_matrix)"
   ]
  },
  {
   "cell_type": "code",
   "execution_count": 60,
   "metadata": {},
   "outputs": [
    {
     "data": {
      "text/plain": [
       "[('#abcg2#', '#mitoxantrone#'),\n",
       " ('#acpp#', '#binimetinib#'),\n",
       " ('#acpp#', '#buparlisib#'),\n",
       " ('#acpp#', '#dalotuzumab#'),\n",
       " ('#acpp#', '#everolimus#'),\n",
       " ('#acpp#', '#pi3k/mtor inhibitor bez235#'),\n",
       " ('#acpp#', '#ridaforolimus#'),\n",
       " ('#acpp#', '#temsirolimus#'),\n",
       " ('#acpp#', '#vinorelbine#'),\n",
       " ('#acpp#', '#voxtalisib#'),\n",
       " ('#ado#', '#trastuzumab#'),\n",
       " ('#akt1#', '#afuresertib#'),\n",
       " ('#akt1#', '#akt inhibitor gsk2141795#'),\n",
       " ('#akt1#', '#akt inhibitor mk2206#'),\n",
       " ('#akt1#', '#apatinib#'),\n",
       " ('#akt1#', '#bevacizumab#'),\n",
       " ('#akt1#', '#binimetinib#'),\n",
       " ('#akt1#', '#buparlisib#'),\n",
       " ('#akt1#', '#capecitabine#'),\n",
       " ('#akt1#', '#carboplatin#'),\n",
       " ('#akt1#', '#cisplatin#'),\n",
       " ('#akt1#', '#cyclophosphamide#'),\n",
       " ('#akt1#', '#docetaxel#'),\n",
       " ('#akt1#', '#doxorubicin#'),\n",
       " ('#akt1#', '#everolimus#'),\n",
       " ('#akt1#', '#exemestane#'),\n",
       " ('#akt1#', '#gemcitabine#'),\n",
       " ('#akt1#', '#letrozole#'),\n",
       " ('#akt1#', '#mtor kinase inhibitor cc-223#'),\n",
       " ('#akt1#', '#paclitaxel#'),\n",
       " ('#akt1#', '#perifosine#'),\n",
       " ('#akt1#', '#pertuzumab#'),\n",
       " ('#akt1#', '#pi3k/mtor inhibitor bez235#'),\n",
       " ('#akt1#', '#recombinant interleukin-6#'),\n",
       " ('#akt1#', '#ribociclib#'),\n",
       " ('#akt1#', '#tamoxifen#'),\n",
       " ('#akt1#', '#temsirolimus#'),\n",
       " ('#akt1#', '#trametinib#'),\n",
       " ('#akt1#', '#trans sodium crocetinate#'),\n",
       " ('#akt1#', '#trastuzumab#'),\n",
       " ('#akt1#', '#triciribine phosphate#'),\n",
       " ('#akt1#', '#vinorelbine#'),\n",
       " ('#alb#', '#apatinib#'),\n",
       " ('#alb#', '#bevacizumab#'),\n",
       " ('#alb#', '#capecitabine#'),\n",
       " ('#alb#', '#carboplatin#'),\n",
       " ('#alb#', '#cisplatin#'),\n",
       " ('#alb#', '#cyclophosphamide#'),\n",
       " ('#alb#', '#dexamethasone#'),\n",
       " ('#alb#', '#docetaxel#'),\n",
       " ('#alb#', '#epirubicin#'),\n",
       " ('#alb#', '#everolimus#'),\n",
       " ('#alb#', '#exemestane#'),\n",
       " ('#alb#', '#paclitaxel#'),\n",
       " ('#alb#', '#ribociclib#'),\n",
       " ('#alb#', '#trastuzumab#'),\n",
       " ('#anpep#', '#apatinib#'),\n",
       " ('#ar#', '#anastrozole#'),\n",
       " ('#ar#', '#exemestane#'),\n",
       " ('#ar#', '#letrozole#'),\n",
       " ('#armc9#', '#akt inhibitor mk2206#'),\n",
       " ('#armc9#', '#apatinib#'),\n",
       " ('#armc9#', '#bevacizumab#'),\n",
       " ('#armc9#', '#buparlisib#'),\n",
       " ('#armc9#', '#capecitabine#'),\n",
       " ('#armc9#', '#cisplatin#'),\n",
       " ('#armc9#', '#cyclophosphamide#'),\n",
       " ('#armc9#', '#docetaxel#'),\n",
       " ('#armc9#', '#doxorubicin#'),\n",
       " ('#armc9#', '#everolimus#'),\n",
       " ('#armc9#', '#exemestane#'),\n",
       " ('#armc9#', '#gemcitabine#'),\n",
       " ('#armc9#', '#paclitaxel#'),\n",
       " ('#armc9#', '#ribociclib#'),\n",
       " ('#armc9#', '#trastuzumab#'),\n",
       " ('#armc9#', '#triciribine phosphate#'),\n",
       " ('#armc9#', '#vinorelbine#'),\n",
       " ('#birc5#', '#trastuzumab#'),\n",
       " ('#brca1#', '#cisplatin#'),\n",
       " ('#c19orf66#', '#tamoxifen#'),\n",
       " ('#cd24#', '#trastuzumab#'),\n",
       " ('#cdk4#', '#apatinib#'),\n",
       " ('#cdk4#', '#bevacizumab#'),\n",
       " ('#cdk4#', '#capecitabine#'),\n",
       " ('#cdk4#', '#carboplatin#'),\n",
       " ('#cdk4#', '#cisplatin#'),\n",
       " ('#cdk4#', '#cyclophosphamide#'),\n",
       " ('#cdk4#', '#dexamethasone#'),\n",
       " ('#cdk4#', '#docetaxel#'),\n",
       " ('#cdk4#', '#epirubicin#'),\n",
       " ('#cdk4#', '#everolimus#'),\n",
       " ('#cdk4#', '#exemestane#'),\n",
       " ('#cdk4#', '#paclitaxel#'),\n",
       " ('#cdk4#', '#ribociclib#'),\n",
       " ('#cdk4#', '#trastuzumab#'),\n",
       " ('#cebpd#', '#folitixorin#'),\n",
       " ('#celp#', '#afuresertib#'),\n",
       " ('#celp#', '#akt inhibitor mk2206#'),\n",
       " ('#celp#', '#apatinib#'),\n",
       " ('#celp#', '#binimetinib#'),\n",
       " ('#celp#', '#buparlisib#'),\n",
       " ('#celp#', '#cixutumumab#'),\n",
       " ('#celp#', '#dalotuzumab#'),\n",
       " ('#celp#', '#erlotinib#'),\n",
       " ('#celp#', '#everolimus#'),\n",
       " ('#celp#', '#iproplatin#'),\n",
       " ('#celp#', '#letrozole#'),\n",
       " ('#celp#', '#mtor kinase inhibitor cc-223#'),\n",
       " ('#celp#', '#niacinamide#'),\n",
       " ('#celp#', '#pi3k-beta inhibitor gsk2636771#'),\n",
       " ('#celp#', '#pi3k/mtor inhibitor bez235#'),\n",
       " ('#celp#', '#recombinant interleukin-6#'),\n",
       " ('#celp#', '#ridaforolimus#'),\n",
       " ('#celp#', '#tamoxifen#'),\n",
       " ('#celp#', '#temsirolimus#'),\n",
       " ('#celp#', '#trametinib#'),\n",
       " ('#celp#', '#trastuzumab#'),\n",
       " ('#celp#', '#vinorelbine#'),\n",
       " ('#celp#', '#voxtalisib#'),\n",
       " ('#cic#', '#letrozole#'),\n",
       " ('#cic#', '#recombinant interleukin-6#'),\n",
       " ('#cic#', '#trastuzumab#'),\n",
       " ('#cyp19a1#', '#everolimus#'),\n",
       " ('#cyp19a1#', '#fulvestrant#'),\n",
       " ('#cyp19a1#', '#letrozole#'),\n",
       " ('#cyp19a1#', '#pertuzumab#'),\n",
       " ('#cyp19a1#', '#tamoxifen#'),\n",
       " ('#cyp19a1#', '#trastuzumab#'),\n",
       " ('#dcstamp#', '#akt inhibitor mk2206#'),\n",
       " ('#dgcr2#', '#tamoxifen#'),\n",
       " ('#dlx4#', '#trans sodium crocetinate#'),\n",
       " ('#dpm2#', '#recombinant interleukin-6#'),\n",
       " ('#eec1#', '#pi3k-beta inhibitor gsk2636771#'),\n",
       " ('#eec1#', '#temsirolimus#'),\n",
       " ('#egfr#', '#afuresertib#'),\n",
       " ('#egfr#', '#alpelisib#'),\n",
       " ('#egfr#', '#apatinib#'),\n",
       " ('#egfr#', '#binimetinib#'),\n",
       " ('#egfr#', '#buparlisib#'),\n",
       " ('#egfr#', '#cixutumumab#'),\n",
       " ('#egfr#', '#erlotinib#'),\n",
       " ('#egfr#', '#everolimus#'),\n",
       " ('#egfr#', '#pertuzumab#'),\n",
       " ('#egfr#', '#pi3k/mtor inhibitor bez235#'),\n",
       " ('#egfr#', '#temsirolimus#'),\n",
       " ('#egfr#', '#trametinib#'),\n",
       " ('#egfr#', '#vinorelbine#'),\n",
       " ('#egr3#', '#bevacizumab#'),\n",
       " ('#egr3#', '#capecitabine#'),\n",
       " ('#egr3#', '#carbendazim#'),\n",
       " ('#egr3#', '#cisplatin#'),\n",
       " ('#egr3#', '#dacarbazine#'),\n",
       " ('#egr3#', '#docetaxel#'),\n",
       " ('#egr3#', '#doxorubicin#'),\n",
       " ('#egr3#', '#erlotinib#'),\n",
       " ('#egr3#', '#everolimus#'),\n",
       " ('#egr3#', '#fluorouracil#'),\n",
       " ('#egr3#', '#lenalidomide#'),\n",
       " ('#egr3#', '#leucovorin calcium#'),\n",
       " ('#egr3#', '#oxaliplatin#'),\n",
       " ('#egr3#', '#paclitaxel#'),\n",
       " ('#egr3#', '#pi3k/mtor inhibitor bez235#'),\n",
       " ('#egr3#', '#selumetinib#'),\n",
       " ('#egr3#', '#sorafenib tosylate#'),\n",
       " ('#egr3#', '#temsirolimus#'),\n",
       " ('#egr3#', '#thalidomide#'),\n",
       " ('#erbb2#', '#akt inhibitor gsk2141795#'),\n",
       " ('#erbb2#', '#akt inhibitor mk2206#'),\n",
       " ('#erbb2#', '#anastrozole#'),\n",
       " ('#erbb2#', '#apatinib#'),\n",
       " ('#erbb2#', '#bevacizumab#'),\n",
       " ('#erbb2#', '#buparlisib#'),\n",
       " ('#erbb2#', '#capecitabine#'),\n",
       " ('#erbb2#', '#carbendazim#'),\n",
       " ('#erbb2#', '#carboplatin#'),\n",
       " ('#erbb2#', '#cisplatin#'),\n",
       " ('#erbb2#', '#cyclophosphamide#'),\n",
       " ('#erbb2#', '#dacarbazine#'),\n",
       " ('#erbb2#', '#dexamethasone#'),\n",
       " ('#erbb2#', '#docetaxel#'),\n",
       " ('#erbb2#', '#doxorubicin#'),\n",
       " ('#erbb2#', '#epirubicin#'),\n",
       " ('#erbb2#', '#erlotinib#'),\n",
       " ('#erbb2#', '#everolimus#'),\n",
       " ('#erbb2#', '#exemestane#'),\n",
       " ('#erbb2#', '#fluorouracil#'),\n",
       " ('#erbb2#', '#gemcitabine#'),\n",
       " ('#erbb2#', '#lenalidomide#'),\n",
       " ('#erbb2#', '#letrozole#'),\n",
       " ('#erbb2#', '#leucovorin calcium#'),\n",
       " ('#erbb2#', '#mtor kinase inhibitor cc-223#'),\n",
       " ('#erbb2#', '#neratinib#'),\n",
       " ('#erbb2#', '#oxaliplatin#'),\n",
       " ('#erbb2#', '#paclitaxel#'),\n",
       " ('#erbb2#', '#pertuzumab#'),\n",
       " ('#erbb2#', '#pi3k/mtor inhibitor bez235#'),\n",
       " ('#erbb2#', '#recombinant interleukin-6#'),\n",
       " ('#erbb2#', '#ribociclib#'),\n",
       " ('#erbb2#', '#selumetinib#'),\n",
       " ('#erbb2#', '#sorafenib tosylate#'),\n",
       " ('#erbb2#', '#tamoxifen#'),\n",
       " ('#erbb2#', '#temsirolimus#'),\n",
       " ('#erbb2#', '#thalidomide#'),\n",
       " ('#erbb2#', '#trastuzumab#'),\n",
       " ('#erbb2#', '#triciribine phosphate#'),\n",
       " ('#erbb2#', '#vinorelbine#'),\n",
       " ('#esr1#', '#iproplatin#'),\n",
       " ('#esr1#', '#niacinamide#'),\n",
       " ('#esr1#', '#tamoxifen#'),\n",
       " ('#esr2#', '#iproplatin#'),\n",
       " ('#esrra#', '#iproplatin#'),\n",
       " ('#esrrb#', '#iproplatin#'),\n",
       " ('#fancc#', '#cyclophosphamide#'),\n",
       " ('#fancc#', '#docetaxel#'),\n",
       " ('#fancc#', '#doxorubicin#'),\n",
       " ('#fancc#', '#fluorouracil#'),\n",
       " ('#gaa#', '#bevacizumab#'),\n",
       " ('#gaa#', '#capecitabine#'),\n",
       " ('#gaa#', '#carbendazim#'),\n",
       " ('#gaa#', '#cisplatin#'),\n",
       " ('#gaa#', '#dacarbazine#'),\n",
       " ('#gaa#', '#docetaxel#'),\n",
       " ('#gaa#', '#doxorubicin#'),\n",
       " ('#gaa#', '#erlotinib#'),\n",
       " ('#gaa#', '#everolimus#'),\n",
       " ('#gaa#', '#fluorouracil#'),\n",
       " ('#gaa#', '#lenalidomide#'),\n",
       " ('#gaa#', '#leucovorin calcium#'),\n",
       " ('#gaa#', '#oxaliplatin#'),\n",
       " ('#gaa#', '#paclitaxel#'),\n",
       " ('#gaa#', '#pi3k/mtor inhibitor bez235#'),\n",
       " ('#gaa#', '#selumetinib#'),\n",
       " ('#gaa#', '#sorafenib tosylate#'),\n",
       " ('#gaa#', '#temsirolimus#'),\n",
       " ('#gaa#', '#thalidomide#'),\n",
       " ('#glys1#', '#afuresertib#'),\n",
       " ('#glys1#', '#binimetinib#'),\n",
       " ('#glys1#', '#buparlisib#'),\n",
       " ('#glys1#', '#cixutumumab#'),\n",
       " ('#glys1#', '#dalotuzumab#'),\n",
       " ('#glys1#', '#erlotinib#'),\n",
       " ('#glys1#', '#everolimus#'),\n",
       " ('#glys1#', '#pi3k/mtor inhibitor bez235#'),\n",
       " ('#glys1#', '#ridaforolimus#'),\n",
       " ('#glys1#', '#temsirolimus#'),\n",
       " ('#glys1#', '#trametinib#'),\n",
       " ('#glys1#', '#vinorelbine#'),\n",
       " ('#glys1#', '#voxtalisib#'),\n",
       " ('#hdac9#', '#tamoxifen#'),\n",
       " ('#hpp1#', '#anastrozole#'),\n",
       " ('#hpp1#', '#bevacizumab#'),\n",
       " ('#hpp1#', '#capecitabine#'),\n",
       " ('#hpp1#', '#carbendazim#'),\n",
       " ('#hpp1#', '#carboplatin#'),\n",
       " ('#hpp1#', '#cisplatin#'),\n",
       " ('#hpp1#', '#cyclophosphamide#'),\n",
       " ('#hpp1#', '#epirubicin#'),\n",
       " ('#hpp1#', '#everolimus#'),\n",
       " ('#hpp1#', '#exemestane#'),\n",
       " ('#hpp1#', '#letrozole#'),\n",
       " ('#hpp1#', '#paclitaxel#'),\n",
       " ('#hpp1#', '#trastuzumab#'),\n",
       " ('#hpp1#', '#vinorelbine#'),\n",
       " ('#hr#', '#akt inhibitor gsk2141795#'),\n",
       " ('#hr#', '#akt inhibitor mk2206#'),\n",
       " ('#hr#', '#buparlisib#'),\n",
       " ('#hr#', '#carboplatin#'),\n",
       " ('#hr#', '#cisplatin#'),\n",
       " ('#hr#', '#everolimus#'),\n",
       " ('#hr#', '#exemestane#'),\n",
       " ('#hr#', '#mtor kinase inhibitor cc-223#'),\n",
       " ('#hr#', '#paclitaxel#'),\n",
       " ('#hr#', '#pi3k/mtor inhibitor bez235#'),\n",
       " ('#hr#', '#temsirolimus#'),\n",
       " ('#hr#', '#trastuzumab#'),\n",
       " ('#hr#', '#vinorelbine#'),\n",
       " ('#hrg#', '#apatinib#'),\n",
       " ('#hrg#', '#pi3k/mtor inhibitor bez235#'),\n",
       " ('#hrg#', '#trastuzumab#'),\n",
       " ('#il36g#', '#binimetinib#'),\n",
       " ('#il36g#', '#buparlisib#'),\n",
       " ('#il36g#', '#dalotuzumab#'),\n",
       " ('#il36g#', '#everolimus#'),\n",
       " ('#il36g#', '#pi3k/mtor inhibitor bez235#'),\n",
       " ('#il36g#', '#ridaforolimus#'),\n",
       " ('#il36g#', '#temsirolimus#'),\n",
       " ('#il36g#', '#vinorelbine#'),\n",
       " ('#il36g#', '#voxtalisib#'),\n",
       " ('#impact#', '#epirubicin#'),\n",
       " ('#impact#', '#paclitaxel#'),\n",
       " ('#impact#', '#trastuzumab#'),\n",
       " ('#iv#', '#afuresertib#'),\n",
       " ('#iv#', '#akt inhibitor gsk2141795#'),\n",
       " ('#iv#', '#akt inhibitor mk2206#'),\n",
       " ('#iv#', '#apatinib#'),\n",
       " ('#iv#', '#bevacizumab#'),\n",
       " ('#iv#', '#binimetinib#'),\n",
       " ('#iv#', '#buparlisib#'),\n",
       " ('#iv#', '#capecitabine#'),\n",
       " ('#iv#', '#carboplatin#'),\n",
       " ('#iv#', '#cisplatin#'),\n",
       " ('#iv#', '#cixutumumab#'),\n",
       " ('#iv#', '#cyclophosphamide#'),\n",
       " ('#iv#', '#dalotuzumab#'),\n",
       " ('#iv#', '#dexamethasone#'),\n",
       " ('#iv#', '#docetaxel#'),\n",
       " ('#iv#', '#doxorubicin#'),\n",
       " ('#iv#', '#epirubicin#'),\n",
       " ('#iv#', '#erlotinib#'),\n",
       " ('#iv#', '#everolimus#'),\n",
       " ('#iv#', '#exemestane#'),\n",
       " ('#iv#', '#gemcitabine#'),\n",
       " ('#iv#', '#mtor kinase inhibitor cc-223#'),\n",
       " ('#iv#', '#paclitaxel#'),\n",
       " ('#iv#', '#pi3k/mtor inhibitor bez235#'),\n",
       " ('#iv#', '#ribociclib#'),\n",
       " ('#iv#', '#ridaforolimus#'),\n",
       " ('#iv#', '#temsirolimus#'),\n",
       " ('#iv#', '#trametinib#'),\n",
       " ('#iv#', '#trastuzumab#'),\n",
       " ('#iv#', '#triciribine phosphate#'),\n",
       " ('#iv#', '#vinorelbine#'),\n",
       " ('#iv#', '#voxtalisib#'),\n",
       " ('#kit#', '#iproplatin#'),\n",
       " ('#large1#', '#apatinib#'),\n",
       " ('#large1#', '#everolimus#'),\n",
       " ('#large1#', '#mtor kinase inhibitor cc-223#'),\n",
       " ('#lcn2#', '#doxorubicin#'),\n",
       " ('#map2k1#', '#buparlisib#'),\n",
       " ('#map2k1#', '#mek inhibitor ci-1040#'),\n",
       " ('#map2k1#', '#pi3k family kinase inhibitor xl147#'),\n",
       " ('#mapk3#', '#apatinib#'),\n",
       " ('#mb#', '#mitoxantrone#'),\n",
       " ('#mdm2#', '#epirubicin#'),\n",
       " ('#mdm2#', '#paclitaxel#'),\n",
       " ('#mtor#', '#afuresertib#'),\n",
       " ('#mtor#', '#akt inhibitor gsk2141795#'),\n",
       " ('#mtor#', '#akt inhibitor mk2206#'),\n",
       " ('#mtor#', '#apatinib#'),\n",
       " ('#mtor#', '#bevacizumab#'),\n",
       " ('#mtor#', '#binimetinib#'),\n",
       " ('#mtor#', '#buparlisib#'),\n",
       " ('#mtor#', '#capecitabine#'),\n",
       " ('#mtor#', '#carbendazim#'),\n",
       " ('#mtor#', '#carboplatin#'),\n",
       " ('#mtor#', '#cisplatin#'),\n",
       " ('#mtor#', '#cixutumumab#'),\n",
       " ('#mtor#', '#clofarabine#'),\n",
       " ('#mtor#', '#cyclophosphamide#'),\n",
       " ('#mtor#', '#dacarbazine#'),\n",
       " ('#mtor#', '#dalotuzumab#'),\n",
       " ('#mtor#', '#docetaxel#'),\n",
       " ('#mtor#', '#doxorubicin#'),\n",
       " ('#mtor#', '#erlotinib#'),\n",
       " ('#mtor#', '#everolimus#'),\n",
       " ('#mtor#', '#exemestane#'),\n",
       " ('#mtor#', '#fluorouracil#'),\n",
       " ('#mtor#', '#lenalidomide#'),\n",
       " ('#mtor#', '#letrozole#'),\n",
       " ('#mtor#', '#leucovorin calcium#'),\n",
       " ('#mtor#', '#mtor kinase inhibitor cc-223#'),\n",
       " ('#mtor#', '#oxaliplatin#'),\n",
       " ('#mtor#', '#paclitaxel#'),\n",
       " ('#mtor#', '#pertuzumab#'),\n",
       " ('#mtor#', '#pi3k/mtor inhibitor bez235#'),\n",
       " ('#mtor#', '#ridaforolimus#'),\n",
       " ('#mtor#', '#selumetinib#'),\n",
       " ('#mtor#', '#sorafenib tosylate#'),\n",
       " ('#mtor#', '#temsirolimus#'),\n",
       " ('#mtor#', '#thalidomide#'),\n",
       " ('#mtor#', '#trametinib#'),\n",
       " ('#mtor#', '#trastuzumab#'),\n",
       " ('#mtor#', '#vinorelbine#'),\n",
       " ('#mtor#', '#voxtalisib#'),\n",
       " ('#nf1#', '#folitixorin#'),\n",
       " ('#nm#', '#resistant starch#'),\n",
       " ('#pdlim5#', '#tamoxifen#'),\n",
       " ('#phospho2#', '#recombinant interferon#'),\n",
       " ('#phospho2#', '#trastuzumab#'),\n",
       " ('#pik3ca#', '#afuresertib#'),\n",
       " ('#pik3ca#', '#akt inhibitor gsk2141795#'),\n",
       " ('#pik3ca#', '#akt inhibitor mk2206#'),\n",
       " ('#pik3ca#', '#alpelisib#'),\n",
       " ('#pik3ca#', '#apatinib#'),\n",
       " ('#pik3ca#', '#bevacizumab#'),\n",
       " ('#pik3ca#', '#binimetinib#'),\n",
       " ('#pik3ca#', '#buparlisib#'),\n",
       " ('#pik3ca#', '#capecitabine#'),\n",
       " ('#pik3ca#', '#carbendazim#'),\n",
       " ('#pik3ca#', '#carboplatin#'),\n",
       " ('#pik3ca#', '#cisplatin#'),\n",
       " ('#pik3ca#', '#cixutumumab#'),\n",
       " ('#pik3ca#', '#cyclophosphamide#'),\n",
       " ('#pik3ca#', '#dalotuzumab#'),\n",
       " ('#pik3ca#', '#docetaxel#'),\n",
       " ('#pik3ca#', '#doxorubicin#'),\n",
       " ('#pik3ca#', '#erlotinib#'),\n",
       " ('#pik3ca#', '#everolimus#'),\n",
       " ('#pik3ca#', '#exemestane#'),\n",
       " ('#pik3ca#', '#gemcitabine#'),\n",
       " ('#pik3ca#', '#letrozole#'),\n",
       " ('#pik3ca#', '#mek inhibitor ci-1040#'),\n",
       " ('#pik3ca#', '#mtor kinase inhibitor cc-223#'),\n",
       " ('#pik3ca#', '#paclitaxel#'),\n",
       " ('#pik3ca#', '#pertuzumab#'),\n",
       " ('#pik3ca#', '#pi3k family kinase inhibitor xl147#'),\n",
       " ('#pik3ca#', '#pi3k-beta inhibitor gsk2636771#'),\n",
       " ('#pik3ca#', '#pi3k/mtor inhibitor bez235#'),\n",
       " ('#pik3ca#', '#recombinant interleukin-6#'),\n",
       " ('#pik3ca#', '#ribociclib#'),\n",
       " ('#pik3ca#', '#ridaforolimus#'),\n",
       " ('#pik3ca#', '#tamoxifen#'),\n",
       " ('#pik3ca#', '#temsirolimus#'),\n",
       " ('#pik3ca#', '#trametinib#'),\n",
       " ('#pik3ca#', '#trans sodium crocetinate#'),\n",
       " ('#pik3ca#', '#trastuzumab#'),\n",
       " ('#pik3ca#', '#triciribine phosphate#'),\n",
       " ('#pik3ca#', '#vinorelbine#'),\n",
       " ('#pik3ca#', '#voxtalisib#'),\n",
       " ('#prdx2#', '#tamoxifen#'),\n",
       " ('#prkaa2#', '#trastuzumab#'),\n",
       " ('#pten#', '#akt inhibitor gsk2141795#'),\n",
       " ('#pten#', '#akt inhibitor mk2206#'),\n",
       " ('#pten#', '#apatinib#'),\n",
       " ('#pten#', '#buparlisib#'),\n",
       " ('#pten#', '#carboplatin#'),\n",
       " ('#pten#', '#cisplatin#'),\n",
       " ('#pten#', '#everolimus#'),\n",
       " ('#pten#', '#exemestane#'),\n",
       " ('#pten#', '#fulvestrant#'),\n",
       " ('#pten#', '#letrozole#'),\n",
       " ('#pten#', '#mtor kinase inhibitor cc-223#'),\n",
       " ('#pten#', '#paclitaxel#'),\n",
       " ('#pten#', '#pertuzumab#'),\n",
       " ('#pten#', '#pi3k-beta inhibitor gsk2636771#'),\n",
       " ('#pten#', '#pi3k/mtor inhibitor bez235#'),\n",
       " ('#pten#', '#recombinant interleukin-6#'),\n",
       " ('#pten#', '#tamoxifen#'),\n",
       " ('#pten#', '#temsirolimus#'),\n",
       " ('#pten#', '#trans sodium crocetinate#'),\n",
       " ('#pten#', '#trastuzumab#'),\n",
       " ('#pten#', '#vinorelbine#'),\n",
       " ('#raf1#', '#cyclophosphamide#'),\n",
       " ('#raf1#', '#docetaxel#'),\n",
       " ('#raf1#', '#doxorubicin#'),\n",
       " ('#raf1#', '#fluorouracil#'),\n",
       " ('#rnase1#', '#apatinib#'),\n",
       " ('#rnase1#', '#binimetinib#'),\n",
       " ('#rnase1#', '#buparlisib#'),\n",
       " ('#rnase1#', '#dalotuzumab#'),\n",
       " ('#rnase1#', '#everolimus#'),\n",
       " ('#rnase1#', '#mtor kinase inhibitor cc-223#'),\n",
       " ('#rnase1#', '#pi3k/mtor inhibitor bez235#'),\n",
       " ('#rnase1#', '#ridaforolimus#'),\n",
       " ('#rnase1#', '#temsirolimus#'),\n",
       " ('#rnase1#', '#vinorelbine#'),\n",
       " ('#rnase1#', '#voxtalisib#'),\n",
       " ('#rrad#', '#akt inhibitor gsk2141795#'),\n",
       " ('#rrad#', '#akt inhibitor mk2206#'),\n",
       " ('#rrad#', '#buparlisib#'),\n",
       " ('#rrad#', '#carboplatin#'),\n",
       " ('#rrad#', '#cisplatin#'),\n",
       " ('#rrad#', '#everolimus#'),\n",
       " ('#rrad#', '#exemestane#'),\n",
       " ('#rrad#', '#mtor kinase inhibitor cc-223#'),\n",
       " ('#rrad#', '#paclitaxel#'),\n",
       " ('#rrad#', '#pi3k/mtor inhibitor bez235#'),\n",
       " ('#rrad#', '#temsirolimus#'),\n",
       " ('#rrad#', '#trastuzumab#'),\n",
       " ('#rrad#', '#vinorelbine#'),\n",
       " ('#sgcg#', '#afuresertib#'),\n",
       " ('#sgcg#', '#akt inhibitor gsk2141795#'),\n",
       " ('#sgcg#', '#akt inhibitor mk2206#'),\n",
       " ('#sgcg#', '#binimetinib#'),\n",
       " ('#sgcg#', '#buparlisib#'),\n",
       " ('#sgcg#', '#carboplatin#'),\n",
       " ('#sgcg#', '#cisplatin#'),\n",
       " ('#sgcg#', '#cixutumumab#'),\n",
       " ('#sgcg#', '#cyclophosphamide#'),\n",
       " ('#sgcg#', '#doxorubicin#'),\n",
       " ('#sgcg#', '#erlotinib#'),\n",
       " ('#sgcg#', '#everolimus#'),\n",
       " ('#sgcg#', '#exemestane#'),\n",
       " ('#sgcg#', '#gemcitabine#'),\n",
       " ('#sgcg#', '#mtor kinase inhibitor cc-223#'),\n",
       " ('#sgcg#', '#paclitaxel#'),\n",
       " ('#sgcg#', '#pi3k/mtor inhibitor bez235#'),\n",
       " ('#sgcg#', '#tamoxifen#'),\n",
       " ('#sgcg#', '#temsirolimus#'),\n",
       " ('#sgcg#', '#trametinib#'),\n",
       " ('#sgcg#', '#trastuzumab#'),\n",
       " ('#sgcg#', '#triciribine phosphate#'),\n",
       " ('#sgcg#', '#vinorelbine#'),\n",
       " ('#sirt1#', '#iproplatin#'),\n",
       " ('#sirt1#', '#niacinamide#'),\n",
       " ('#sirt1#', '#tamoxifen#'),\n",
       " ('#slc7a1#', '#iproplatin#'),\n",
       " ('#sltm#', '#trastuzumab#'),\n",
       " ('#smim10l2a#', '#trastuzumab#'),\n",
       " ('#snai2#', '#trastuzumab#'),\n",
       " ('#spen#', '#tamoxifen#'),\n",
       " ('#src#', '#apatinib#'),\n",
       " ('#t#', '#akt inhibitor mk2206#'),\n",
       " ('#t#', '#apatinib#'),\n",
       " ('#t#', '#docetaxel#'),\n",
       " ('#t#', '#paclitaxel#'),\n",
       " ('#t#', '#pertuzumab#'),\n",
       " ('#t#', '#trastuzumab#'),\n",
       " ('#th#', '#tamoxifen#'),\n",
       " ('#tnip1#', '#everolimus#'),\n",
       " ('#tnip1#', '#fulvestrant#'),\n",
       " ('#tnip1#', '#trastuzumab#'),\n",
       " ('#tp53#', '#cyclophosphamide#'),\n",
       " ('#tp53#', '#docetaxel#'),\n",
       " ('#tp53#', '#doxorubicin#'),\n",
       " ('#tp53#', '#epirubicin#'),\n",
       " ('#tp53#', '#fluorouracil#'),\n",
       " ('#tp53#', '#hydroxyurea#'),\n",
       " ('#tp53#', '#iproplatin#'),\n",
       " ('#tp53#', '#paclitaxel#')]"
      ]
     },
     "execution_count": 60,
     "metadata": {},
     "output_type": "execute_result"
    }
   ],
   "source": [
    "pairs"
   ]
  },
  {
   "cell_type": "code",
   "execution_count": null,
   "metadata": {
    "collapsed": true
   },
   "outputs": [],
   "source": [
    "import networkx as nx"
   ]
  },
  {
   "cell_type": "code",
   "execution_count": 61,
   "metadata": {
    "collapsed": true
   },
   "outputs": [],
   "source": [
    "def back_to_original_indeces(pairs):\n",
    "    original_index = []\n",
    "    for item in pairs:\n",
    "        original = (col_idx[item[0]], col_idx[item[1]])\n",
    "        original_index.append(original)\n",
    "    return pairs ,original_index\n",
    "    "
   ]
  },
  {
   "cell_type": "code",
   "execution_count": 62,
   "metadata": {
    "collapsed": true
   },
   "outputs": [],
   "source": [
    "def back_to_original_index(pair):\n",
    "    original = (col_idx[pair[0]],col_idx[pair[1]])\n",
    "    return pair,original"
   ]
  },
  {
   "cell_type": "code",
   "execution_count": 63,
   "metadata": {},
   "outputs": [
    {
     "data": {
      "text/plain": [
       "(('#abcg2#', '#mitoxantrone#'), (0, 219))"
      ]
     },
     "execution_count": 63,
     "metadata": {},
     "output_type": "execute_result"
    }
   ],
   "source": [
    "back_to_original_index(('#abcg2#', '#mitoxantrone#'))"
   ]
  },
  {
   "cell_type": "code",
   "execution_count": 64,
   "metadata": {
    "collapsed": true
   },
   "outputs": [],
   "source": [
    "def back_to_original_indeces(pairs):\n",
    "    original_indeces = {}\n",
    "    for item in pairs:\n",
    "        original = back_to_original_index(item)\n",
    "        original_indeces[original[0]]=original[1]\n",
    "    return original_indeces"
   ]
  },
  {
   "cell_type": "code",
   "execution_count": 65,
   "metadata": {
    "collapsed": true
   },
   "outputs": [],
   "source": [
    "original_indeces = back_to_original_indeces(pairs)"
   ]
  },
  {
   "cell_type": "code",
   "execution_count": 66,
   "metadata": {},
   "outputs": [
    {
     "data": {
      "text/plain": [
       "{('#abcg2#', '#mitoxantrone#'): (0, 219),\n",
       " ('#acpp#', '#binimetinib#'): (3, 36),\n",
       " ('#acpp#', '#buparlisib#'): (3, 48),\n",
       " ('#acpp#', '#dalotuzumab#'): (3, 93),\n",
       " ('#acpp#', '#everolimus#'): (3, 127),\n",
       " ('#acpp#', '#pi3k/mtor inhibitor bez235#'): (3, 273),\n",
       " ('#acpp#', '#ridaforolimus#'): (3, 313),\n",
       " ('#acpp#', '#temsirolimus#'): (3, 359),\n",
       " ('#acpp#', '#vinorelbine#'): (3, 389),\n",
       " ('#acpp#', '#voxtalisib#'): (3, 390),\n",
       " ('#ado#', '#trastuzumab#'): (4, 381),\n",
       " ('#akt1#', '#afuresertib#'): (11, 5),\n",
       " ('#akt1#', '#akt inhibitor gsk2141795#'): (11, 9),\n",
       " ('#akt1#', '#akt inhibitor mk2206#'): (11, 10),\n",
       " ('#akt1#', '#apatinib#'): (11, 20),\n",
       " ('#akt1#', '#bevacizumab#'): (11, 34),\n",
       " ('#akt1#', '#binimetinib#'): (11, 36),\n",
       " ('#akt1#', '#buparlisib#'): (11, 48),\n",
       " ('#akt1#', '#capecitabine#'): (11, 52),\n",
       " ('#akt1#', '#carboplatin#'): (11, 54),\n",
       " ('#akt1#', '#cisplatin#'): (11, 75),\n",
       " ('#akt1#', '#cyclophosphamide#'): (11, 86),\n",
       " ('#akt1#', '#docetaxel#'): (11, 101),\n",
       " ('#akt1#', '#doxorubicin#'): (11, 102),\n",
       " ('#akt1#', '#everolimus#'): (11, 127),\n",
       " ('#akt1#', '#exemestane#'): (11, 128),\n",
       " ('#akt1#', '#gemcitabine#'): (11, 152),\n",
       " ('#akt1#', '#letrozole#'): (11, 195),\n",
       " ('#akt1#', '#mtor kinase inhibitor cc-223#'): (11, 228),\n",
       " ('#akt1#', '#paclitaxel#'): (11, 250),\n",
       " ('#akt1#', '#perifosine#'): (11, 264),\n",
       " ('#akt1#', '#pertuzumab#'): (11, 265),\n",
       " ('#akt1#', '#pi3k/mtor inhibitor bez235#'): (11, 273),\n",
       " ('#akt1#', '#recombinant interleukin-6#'): (11, 307),\n",
       " ('#akt1#', '#ribociclib#'): (11, 312),\n",
       " ('#akt1#', '#tamoxifen#'): (11, 355),\n",
       " ('#akt1#', '#temsirolimus#'): (11, 359),\n",
       " ('#akt1#', '#trametinib#'): (11, 379),\n",
       " ('#akt1#', '#trans sodium crocetinate#'): (11, 380),\n",
       " ('#akt1#', '#trastuzumab#'): (11, 381),\n",
       " ('#akt1#', '#triciribine phosphate#'): (11, 382),\n",
       " ('#akt1#', '#vinorelbine#'): (11, 389),\n",
       " ('#alb#', '#apatinib#'): (12, 20),\n",
       " ('#alb#', '#bevacizumab#'): (12, 34),\n",
       " ('#alb#', '#capecitabine#'): (12, 52),\n",
       " ('#alb#', '#carboplatin#'): (12, 54),\n",
       " ('#alb#', '#cisplatin#'): (12, 75),\n",
       " ('#alb#', '#cyclophosphamide#'): (12, 86),\n",
       " ('#alb#', '#dexamethasone#'): (12, 97),\n",
       " ('#alb#', '#docetaxel#'): (12, 101),\n",
       " ('#alb#', '#epirubicin#'): (12, 118),\n",
       " ('#alb#', '#everolimus#'): (12, 127),\n",
       " ('#alb#', '#exemestane#'): (12, 128),\n",
       " ('#alb#', '#paclitaxel#'): (12, 250),\n",
       " ('#alb#', '#ribociclib#'): (12, 312),\n",
       " ('#alb#', '#trastuzumab#'): (12, 381),\n",
       " ('#anpep#', '#apatinib#'): (19, 20),\n",
       " ('#ar#', '#anastrozole#'): (21, 18),\n",
       " ('#ar#', '#exemestane#'): (21, 128),\n",
       " ('#ar#', '#letrozole#'): (21, 195),\n",
       " ('#armc9#', '#akt inhibitor mk2206#'): (25, 10),\n",
       " ('#armc9#', '#apatinib#'): (25, 20),\n",
       " ('#armc9#', '#bevacizumab#'): (25, 34),\n",
       " ('#armc9#', '#buparlisib#'): (25, 48),\n",
       " ('#armc9#', '#capecitabine#'): (25, 52),\n",
       " ('#armc9#', '#cisplatin#'): (25, 75),\n",
       " ('#armc9#', '#cyclophosphamide#'): (25, 86),\n",
       " ('#armc9#', '#docetaxel#'): (25, 101),\n",
       " ('#armc9#', '#doxorubicin#'): (25, 102),\n",
       " ('#armc9#', '#everolimus#'): (25, 127),\n",
       " ('#armc9#', '#exemestane#'): (25, 128),\n",
       " ('#armc9#', '#gemcitabine#'): (25, 152),\n",
       " ('#armc9#', '#paclitaxel#'): (25, 250),\n",
       " ('#armc9#', '#ribociclib#'): (25, 312),\n",
       " ('#armc9#', '#trastuzumab#'): (25, 381),\n",
       " ('#armc9#', '#triciribine phosphate#'): (25, 382),\n",
       " ('#armc9#', '#vinorelbine#'): (25, 389),\n",
       " ('#birc5#', '#trastuzumab#'): (37, 381),\n",
       " ('#brca1#', '#cisplatin#'): (43, 75),\n",
       " ('#c19orf66#', '#tamoxifen#'): (49, 355),\n",
       " ('#cd24#', '#trastuzumab#'): (59, 381),\n",
       " ('#cdk4#', '#apatinib#'): (64, 20),\n",
       " ('#cdk4#', '#bevacizumab#'): (64, 34),\n",
       " ('#cdk4#', '#capecitabine#'): (64, 52),\n",
       " ('#cdk4#', '#carboplatin#'): (64, 54),\n",
       " ('#cdk4#', '#cisplatin#'): (64, 75),\n",
       " ('#cdk4#', '#cyclophosphamide#'): (64, 86),\n",
       " ('#cdk4#', '#dexamethasone#'): (64, 97),\n",
       " ('#cdk4#', '#docetaxel#'): (64, 101),\n",
       " ('#cdk4#', '#epirubicin#'): (64, 118),\n",
       " ('#cdk4#', '#everolimus#'): (64, 127),\n",
       " ('#cdk4#', '#exemestane#'): (64, 128),\n",
       " ('#cdk4#', '#paclitaxel#'): (64, 250),\n",
       " ('#cdk4#', '#ribociclib#'): (64, 312),\n",
       " ('#cdk4#', '#trastuzumab#'): (64, 381),\n",
       " ('#cebpd#', '#folitixorin#'): (68, 142),\n",
       " ('#celp#', '#afuresertib#'): (69, 5),\n",
       " ('#celp#', '#akt inhibitor mk2206#'): (69, 10),\n",
       " ('#celp#', '#apatinib#'): (69, 20),\n",
       " ('#celp#', '#binimetinib#'): (69, 36),\n",
       " ('#celp#', '#buparlisib#'): (69, 48),\n",
       " ('#celp#', '#cixutumumab#'): (69, 76),\n",
       " ('#celp#', '#dalotuzumab#'): (69, 93),\n",
       " ('#celp#', '#erlotinib#'): (69, 122),\n",
       " ('#celp#', '#everolimus#'): (69, 127),\n",
       " ('#celp#', '#iproplatin#'): (69, 177),\n",
       " ('#celp#', '#letrozole#'): (69, 195),\n",
       " ('#celp#', '#mtor kinase inhibitor cc-223#'): (69, 228),\n",
       " ('#celp#', '#niacinamide#'): (69, 238),\n",
       " ('#celp#', '#pi3k-beta inhibitor gsk2636771#'): (69, 272),\n",
       " ('#celp#', '#pi3k/mtor inhibitor bez235#'): (69, 273),\n",
       " ('#celp#', '#recombinant interleukin-6#'): (69, 307),\n",
       " ('#celp#', '#ridaforolimus#'): (69, 313),\n",
       " ('#celp#', '#tamoxifen#'): (69, 355),\n",
       " ('#celp#', '#temsirolimus#'): (69, 359),\n",
       " ('#celp#', '#trametinib#'): (69, 379),\n",
       " ('#celp#', '#trastuzumab#'): (69, 381),\n",
       " ('#celp#', '#vinorelbine#'): (69, 389),\n",
       " ('#celp#', '#voxtalisib#'): (69, 390),\n",
       " ('#cic#', '#letrozole#'): (73, 195),\n",
       " ('#cic#', '#recombinant interleukin-6#'): (73, 307),\n",
       " ('#cic#', '#trastuzumab#'): (73, 381),\n",
       " ('#cyp19a1#', '#everolimus#'): (88, 127),\n",
       " ('#cyp19a1#', '#fulvestrant#'): (88, 149),\n",
       " ('#cyp19a1#', '#letrozole#'): (88, 195),\n",
       " ('#cyp19a1#', '#pertuzumab#'): (88, 265),\n",
       " ('#cyp19a1#', '#tamoxifen#'): (88, 355),\n",
       " ('#cyp19a1#', '#trastuzumab#'): (88, 381),\n",
       " ('#dcstamp#', '#akt inhibitor mk2206#'): (95, 10),\n",
       " ('#dgcr2#', '#tamoxifen#'): (98, 355),\n",
       " ('#dlx4#', '#trans sodium crocetinate#'): (99, 380),\n",
       " ('#dpm2#', '#recombinant interleukin-6#'): (104, 307),\n",
       " ('#eec1#', '#pi3k-beta inhibitor gsk2636771#'): (109, 272),\n",
       " ('#eec1#', '#temsirolimus#'): (109, 359),\n",
       " ('#egfr#', '#afuresertib#'): (113, 5),\n",
       " ('#egfr#', '#alpelisib#'): (113, 14),\n",
       " ('#egfr#', '#apatinib#'): (113, 20),\n",
       " ('#egfr#', '#binimetinib#'): (113, 36),\n",
       " ('#egfr#', '#buparlisib#'): (113, 48),\n",
       " ('#egfr#', '#cixutumumab#'): (113, 76),\n",
       " ('#egfr#', '#erlotinib#'): (113, 122),\n",
       " ('#egfr#', '#everolimus#'): (113, 127),\n",
       " ('#egfr#', '#pertuzumab#'): (113, 265),\n",
       " ('#egfr#', '#pi3k/mtor inhibitor bez235#'): (113, 273),\n",
       " ('#egfr#', '#temsirolimus#'): (113, 359),\n",
       " ('#egfr#', '#trametinib#'): (113, 379),\n",
       " ('#egfr#', '#vinorelbine#'): (113, 389),\n",
       " ('#egr3#', '#bevacizumab#'): (114, 34),\n",
       " ('#egr3#', '#capecitabine#'): (114, 52),\n",
       " ('#egr3#', '#carbendazim#'): (114, 53),\n",
       " ('#egr3#', '#cisplatin#'): (114, 75),\n",
       " ('#egr3#', '#dacarbazine#'): (114, 91),\n",
       " ('#egr3#', '#docetaxel#'): (114, 101),\n",
       " ('#egr3#', '#doxorubicin#'): (114, 102),\n",
       " ('#egr3#', '#erlotinib#'): (114, 122),\n",
       " ('#egr3#', '#everolimus#'): (114, 127),\n",
       " ('#egr3#', '#fluorouracil#'): (114, 141),\n",
       " ('#egr3#', '#lenalidomide#'): (114, 194),\n",
       " ('#egr3#', '#leucovorin calcium#'): (114, 196),\n",
       " ('#egr3#', '#oxaliplatin#'): (114, 249),\n",
       " ('#egr3#', '#paclitaxel#'): (114, 250),\n",
       " ('#egr3#', '#pi3k/mtor inhibitor bez235#'): (114, 273),\n",
       " ('#egr3#', '#selumetinib#'): (114, 328),\n",
       " ('#egr3#', '#sorafenib tosylate#'): (114, 344),\n",
       " ('#egr3#', '#temsirolimus#'): (114, 359),\n",
       " ('#egr3#', '#thalidomide#'): (114, 367),\n",
       " ('#erbb2#', '#akt inhibitor gsk2141795#'): (119, 9),\n",
       " ('#erbb2#', '#akt inhibitor mk2206#'): (119, 10),\n",
       " ('#erbb2#', '#anastrozole#'): (119, 18),\n",
       " ('#erbb2#', '#apatinib#'): (119, 20),\n",
       " ('#erbb2#', '#bevacizumab#'): (119, 34),\n",
       " ('#erbb2#', '#buparlisib#'): (119, 48),\n",
       " ('#erbb2#', '#capecitabine#'): (119, 52),\n",
       " ('#erbb2#', '#carbendazim#'): (119, 53),\n",
       " ('#erbb2#', '#carboplatin#'): (119, 54),\n",
       " ('#erbb2#', '#cisplatin#'): (119, 75),\n",
       " ('#erbb2#', '#cyclophosphamide#'): (119, 86),\n",
       " ('#erbb2#', '#dacarbazine#'): (119, 91),\n",
       " ('#erbb2#', '#dexamethasone#'): (119, 97),\n",
       " ('#erbb2#', '#docetaxel#'): (119, 101),\n",
       " ('#erbb2#', '#doxorubicin#'): (119, 102),\n",
       " ('#erbb2#', '#epirubicin#'): (119, 118),\n",
       " ('#erbb2#', '#erlotinib#'): (119, 122),\n",
       " ('#erbb2#', '#everolimus#'): (119, 127),\n",
       " ('#erbb2#', '#exemestane#'): (119, 128),\n",
       " ('#erbb2#', '#fluorouracil#'): (119, 141),\n",
       " ('#erbb2#', '#gemcitabine#'): (119, 152),\n",
       " ('#erbb2#', '#lenalidomide#'): (119, 194),\n",
       " ('#erbb2#', '#letrozole#'): (119, 195),\n",
       " ('#erbb2#', '#leucovorin calcium#'): (119, 196),\n",
       " ('#erbb2#', '#mtor kinase inhibitor cc-223#'): (119, 228),\n",
       " ('#erbb2#', '#neratinib#'): (119, 235),\n",
       " ('#erbb2#', '#oxaliplatin#'): (119, 249),\n",
       " ('#erbb2#', '#paclitaxel#'): (119, 250),\n",
       " ('#erbb2#', '#pertuzumab#'): (119, 265),\n",
       " ('#erbb2#', '#pi3k/mtor inhibitor bez235#'): (119, 273),\n",
       " ('#erbb2#', '#recombinant interleukin-6#'): (119, 307),\n",
       " ('#erbb2#', '#ribociclib#'): (119, 312),\n",
       " ('#erbb2#', '#selumetinib#'): (119, 328),\n",
       " ('#erbb2#', '#sorafenib tosylate#'): (119, 344),\n",
       " ('#erbb2#', '#tamoxifen#'): (119, 355),\n",
       " ('#erbb2#', '#temsirolimus#'): (119, 359),\n",
       " ('#erbb2#', '#thalidomide#'): (119, 367),\n",
       " ('#erbb2#', '#trastuzumab#'): (119, 381),\n",
       " ('#erbb2#', '#triciribine phosphate#'): (119, 382),\n",
       " ('#erbb2#', '#vinorelbine#'): (119, 389),\n",
       " ('#esr1#', '#iproplatin#'): (123, 177),\n",
       " ('#esr1#', '#niacinamide#'): (123, 238),\n",
       " ('#esr1#', '#tamoxifen#'): (123, 355),\n",
       " ('#esr2#', '#iproplatin#'): (124, 177),\n",
       " ('#esrra#', '#iproplatin#'): (125, 177),\n",
       " ('#esrrb#', '#iproplatin#'): (126, 177),\n",
       " ('#fancc#', '#cyclophosphamide#'): (135, 86),\n",
       " ('#fancc#', '#docetaxel#'): (135, 101),\n",
       " ('#fancc#', '#doxorubicin#'): (135, 102),\n",
       " ('#fancc#', '#fluorouracil#'): (135, 141),\n",
       " ('#gaa#', '#bevacizumab#'): (150, 34),\n",
       " ('#gaa#', '#capecitabine#'): (150, 52),\n",
       " ('#gaa#', '#carbendazim#'): (150, 53),\n",
       " ('#gaa#', '#cisplatin#'): (150, 75),\n",
       " ('#gaa#', '#dacarbazine#'): (150, 91),\n",
       " ('#gaa#', '#docetaxel#'): (150, 101),\n",
       " ('#gaa#', '#doxorubicin#'): (150, 102),\n",
       " ('#gaa#', '#erlotinib#'): (150, 122),\n",
       " ('#gaa#', '#everolimus#'): (150, 127),\n",
       " ('#gaa#', '#fluorouracil#'): (150, 141),\n",
       " ('#gaa#', '#lenalidomide#'): (150, 194),\n",
       " ('#gaa#', '#leucovorin calcium#'): (150, 196),\n",
       " ('#gaa#', '#oxaliplatin#'): (150, 249),\n",
       " ('#gaa#', '#paclitaxel#'): (150, 250),\n",
       " ('#gaa#', '#pi3k/mtor inhibitor bez235#'): (150, 273),\n",
       " ('#gaa#', '#selumetinib#'): (150, 328),\n",
       " ('#gaa#', '#sorafenib tosylate#'): (150, 344),\n",
       " ('#gaa#', '#temsirolimus#'): (150, 359),\n",
       " ('#gaa#', '#thalidomide#'): (150, 367),\n",
       " ('#glys1#', '#afuresertib#'): (154, 5),\n",
       " ('#glys1#', '#binimetinib#'): (154, 36),\n",
       " ('#glys1#', '#buparlisib#'): (154, 48),\n",
       " ('#glys1#', '#cixutumumab#'): (154, 76),\n",
       " ('#glys1#', '#dalotuzumab#'): (154, 93),\n",
       " ('#glys1#', '#erlotinib#'): (154, 122),\n",
       " ('#glys1#', '#everolimus#'): (154, 127),\n",
       " ('#glys1#', '#pi3k/mtor inhibitor bez235#'): (154, 273),\n",
       " ('#glys1#', '#ridaforolimus#'): (154, 313),\n",
       " ('#glys1#', '#temsirolimus#'): (154, 359),\n",
       " ('#glys1#', '#trametinib#'): (154, 379),\n",
       " ('#glys1#', '#vinorelbine#'): (154, 389),\n",
       " ('#glys1#', '#voxtalisib#'): (154, 390),\n",
       " ('#hdac9#', '#tamoxifen#'): (161, 355),\n",
       " ('#hpp1#', '#anastrozole#'): (164, 18),\n",
       " ('#hpp1#', '#bevacizumab#'): (164, 34),\n",
       " ('#hpp1#', '#capecitabine#'): (164, 52),\n",
       " ('#hpp1#', '#carbendazim#'): (164, 53),\n",
       " ('#hpp1#', '#carboplatin#'): (164, 54),\n",
       " ('#hpp1#', '#cisplatin#'): (164, 75),\n",
       " ('#hpp1#', '#cyclophosphamide#'): (164, 86),\n",
       " ('#hpp1#', '#epirubicin#'): (164, 118),\n",
       " ('#hpp1#', '#everolimus#'): (164, 127),\n",
       " ('#hpp1#', '#exemestane#'): (164, 128),\n",
       " ('#hpp1#', '#letrozole#'): (164, 195),\n",
       " ('#hpp1#', '#paclitaxel#'): (164, 250),\n",
       " ('#hpp1#', '#trastuzumab#'): (164, 381),\n",
       " ('#hpp1#', '#vinorelbine#'): (164, 389),\n",
       " ('#hr#', '#akt inhibitor gsk2141795#'): (165, 9),\n",
       " ('#hr#', '#akt inhibitor mk2206#'): (165, 10),\n",
       " ('#hr#', '#buparlisib#'): (165, 48),\n",
       " ('#hr#', '#carboplatin#'): (165, 54),\n",
       " ('#hr#', '#cisplatin#'): (165, 75),\n",
       " ('#hr#', '#everolimus#'): (165, 127),\n",
       " ('#hr#', '#exemestane#'): (165, 128),\n",
       " ('#hr#', '#mtor kinase inhibitor cc-223#'): (165, 228),\n",
       " ('#hr#', '#paclitaxel#'): (165, 250),\n",
       " ('#hr#', '#pi3k/mtor inhibitor bez235#'): (165, 273),\n",
       " ('#hr#', '#temsirolimus#'): (165, 359),\n",
       " ('#hr#', '#trastuzumab#'): (165, 381),\n",
       " ('#hr#', '#vinorelbine#'): (165, 389),\n",
       " ('#hrg#', '#apatinib#'): (167, 20),\n",
       " ('#hrg#', '#pi3k/mtor inhibitor bez235#'): (167, 273),\n",
       " ('#hrg#', '#trastuzumab#'): (167, 381),\n",
       " ('#il36g#', '#binimetinib#'): (173, 36),\n",
       " ('#il36g#', '#buparlisib#'): (173, 48),\n",
       " ('#il36g#', '#dalotuzumab#'): (173, 93),\n",
       " ('#il36g#', '#everolimus#'): (173, 127),\n",
       " ('#il36g#', '#pi3k/mtor inhibitor bez235#'): (173, 273),\n",
       " ('#il36g#', '#ridaforolimus#'): (173, 313),\n",
       " ('#il36g#', '#temsirolimus#'): (173, 359),\n",
       " ('#il36g#', '#vinorelbine#'): (173, 389),\n",
       " ('#il36g#', '#voxtalisib#'): (173, 390),\n",
       " ('#impact#', '#epirubicin#'): (174, 118),\n",
       " ('#impact#', '#paclitaxel#'): (174, 250),\n",
       " ('#impact#', '#trastuzumab#'): (174, 381),\n",
       " ('#iv#', '#afuresertib#'): (180, 5),\n",
       " ('#iv#', '#akt inhibitor gsk2141795#'): (180, 9),\n",
       " ('#iv#', '#akt inhibitor mk2206#'): (180, 10),\n",
       " ('#iv#', '#apatinib#'): (180, 20),\n",
       " ('#iv#', '#bevacizumab#'): (180, 34),\n",
       " ('#iv#', '#binimetinib#'): (180, 36),\n",
       " ('#iv#', '#buparlisib#'): (180, 48),\n",
       " ('#iv#', '#capecitabine#'): (180, 52),\n",
       " ('#iv#', '#carboplatin#'): (180, 54),\n",
       " ('#iv#', '#cisplatin#'): (180, 75),\n",
       " ('#iv#', '#cixutumumab#'): (180, 76),\n",
       " ('#iv#', '#cyclophosphamide#'): (180, 86),\n",
       " ('#iv#', '#dalotuzumab#'): (180, 93),\n",
       " ('#iv#', '#dexamethasone#'): (180, 97),\n",
       " ('#iv#', '#docetaxel#'): (180, 101),\n",
       " ('#iv#', '#doxorubicin#'): (180, 102),\n",
       " ('#iv#', '#epirubicin#'): (180, 118),\n",
       " ('#iv#', '#erlotinib#'): (180, 122),\n",
       " ('#iv#', '#everolimus#'): (180, 127),\n",
       " ('#iv#', '#exemestane#'): (180, 128),\n",
       " ('#iv#', '#gemcitabine#'): (180, 152),\n",
       " ('#iv#', '#mtor kinase inhibitor cc-223#'): (180, 228),\n",
       " ('#iv#', '#paclitaxel#'): (180, 250),\n",
       " ('#iv#', '#pi3k/mtor inhibitor bez235#'): (180, 273),\n",
       " ('#iv#', '#ribociclib#'): (180, 312),\n",
       " ('#iv#', '#ridaforolimus#'): (180, 313),\n",
       " ('#iv#', '#temsirolimus#'): (180, 359),\n",
       " ('#iv#', '#trametinib#'): (180, 379),\n",
       " ('#iv#', '#trastuzumab#'): (180, 381),\n",
       " ('#iv#', '#triciribine phosphate#'): (180, 382),\n",
       " ('#iv#', '#vinorelbine#'): (180, 389),\n",
       " ('#iv#', '#voxtalisib#'): (180, 390),\n",
       " ('#kit#', '#iproplatin#'): (185, 177),\n",
       " ('#large1#', '#apatinib#'): (191, 20),\n",
       " ('#large1#', '#everolimus#'): (191, 127),\n",
       " ('#large1#', '#mtor kinase inhibitor cc-223#'): (191, 228),\n",
       " ('#lcn2#', '#doxorubicin#'): (192, 102),\n",
       " ('#map2k1#', '#buparlisib#'): (204, 48),\n",
       " ('#map2k1#', '#mek inhibitor ci-1040#'): (204, 211),\n",
       " ('#map2k1#', '#pi3k family kinase inhibitor xl147#'): (204, 271),\n",
       " ('#mapk3#', '#apatinib#'): (206, 20),\n",
       " ('#mb#', '#mitoxantrone#'): (207, 219),\n",
       " ('#mdm2#', '#epirubicin#'): (210, 118),\n",
       " ('#mdm2#', '#paclitaxel#'): (210, 250),\n",
       " ('#mtor#', '#afuresertib#'): (229, 5),\n",
       " ('#mtor#', '#akt inhibitor gsk2141795#'): (229, 9),\n",
       " ('#mtor#', '#akt inhibitor mk2206#'): (229, 10),\n",
       " ('#mtor#', '#apatinib#'): (229, 20),\n",
       " ('#mtor#', '#bevacizumab#'): (229, 34),\n",
       " ('#mtor#', '#binimetinib#'): (229, 36),\n",
       " ('#mtor#', '#buparlisib#'): (229, 48),\n",
       " ('#mtor#', '#capecitabine#'): (229, 52),\n",
       " ('#mtor#', '#carbendazim#'): (229, 53),\n",
       " ('#mtor#', '#carboplatin#'): (229, 54),\n",
       " ('#mtor#', '#cisplatin#'): (229, 75),\n",
       " ('#mtor#', '#cixutumumab#'): (229, 76),\n",
       " ('#mtor#', '#clofarabine#'): (229, 77),\n",
       " ('#mtor#', '#cyclophosphamide#'): (229, 86),\n",
       " ('#mtor#', '#dacarbazine#'): (229, 91),\n",
       " ('#mtor#', '#dalotuzumab#'): (229, 93),\n",
       " ('#mtor#', '#docetaxel#'): (229, 101),\n",
       " ('#mtor#', '#doxorubicin#'): (229, 102),\n",
       " ('#mtor#', '#erlotinib#'): (229, 122),\n",
       " ('#mtor#', '#everolimus#'): (229, 127),\n",
       " ('#mtor#', '#exemestane#'): (229, 128),\n",
       " ('#mtor#', '#fluorouracil#'): (229, 141),\n",
       " ('#mtor#', '#lenalidomide#'): (229, 194),\n",
       " ('#mtor#', '#letrozole#'): (229, 195),\n",
       " ('#mtor#', '#leucovorin calcium#'): (229, 196),\n",
       " ('#mtor#', '#mtor kinase inhibitor cc-223#'): (229, 228),\n",
       " ('#mtor#', '#oxaliplatin#'): (229, 249),\n",
       " ('#mtor#', '#paclitaxel#'): (229, 250),\n",
       " ('#mtor#', '#pertuzumab#'): (229, 265),\n",
       " ('#mtor#', '#pi3k/mtor inhibitor bez235#'): (229, 273),\n",
       " ('#mtor#', '#ridaforolimus#'): (229, 313),\n",
       " ('#mtor#', '#selumetinib#'): (229, 328),\n",
       " ('#mtor#', '#sorafenib tosylate#'): (229, 344),\n",
       " ('#mtor#', '#temsirolimus#'): (229, 359),\n",
       " ('#mtor#', '#thalidomide#'): (229, 367),\n",
       " ('#mtor#', '#trametinib#'): (229, 379),\n",
       " ('#mtor#', '#trastuzumab#'): (229, 381),\n",
       " ('#mtor#', '#vinorelbine#'): (229, 389),\n",
       " ('#mtor#', '#voxtalisib#'): (229, 390),\n",
       " ('#nf1#', '#folitixorin#'): (236, 142),\n",
       " ('#nm#', '#resistant starch#'): (239, 311),\n",
       " ('#pdlim5#', '#tamoxifen#'): (261, 355),\n",
       " ('#phospho2#', '#recombinant interferon#'): (269, 306),\n",
       " ('#phospho2#', '#trastuzumab#'): (269, 381),\n",
       " ('#pik3ca#', '#afuresertib#'): (274, 5),\n",
       " ('#pik3ca#', '#akt inhibitor gsk2141795#'): (274, 9),\n",
       " ('#pik3ca#', '#akt inhibitor mk2206#'): (274, 10),\n",
       " ('#pik3ca#', '#alpelisib#'): (274, 14),\n",
       " ('#pik3ca#', '#apatinib#'): (274, 20),\n",
       " ('#pik3ca#', '#bevacizumab#'): (274, 34),\n",
       " ('#pik3ca#', '#binimetinib#'): (274, 36),\n",
       " ('#pik3ca#', '#buparlisib#'): (274, 48),\n",
       " ('#pik3ca#', '#capecitabine#'): (274, 52),\n",
       " ('#pik3ca#', '#carbendazim#'): (274, 53),\n",
       " ('#pik3ca#', '#carboplatin#'): (274, 54),\n",
       " ('#pik3ca#', '#cisplatin#'): (274, 75),\n",
       " ('#pik3ca#', '#cixutumumab#'): (274, 76),\n",
       " ('#pik3ca#', '#cyclophosphamide#'): (274, 86),\n",
       " ('#pik3ca#', '#dalotuzumab#'): (274, 93),\n",
       " ('#pik3ca#', '#docetaxel#'): (274, 101),\n",
       " ('#pik3ca#', '#doxorubicin#'): (274, 102),\n",
       " ('#pik3ca#', '#erlotinib#'): (274, 122),\n",
       " ('#pik3ca#', '#everolimus#'): (274, 127),\n",
       " ('#pik3ca#', '#exemestane#'): (274, 128),\n",
       " ('#pik3ca#', '#gemcitabine#'): (274, 152),\n",
       " ('#pik3ca#', '#letrozole#'): (274, 195),\n",
       " ('#pik3ca#', '#mek inhibitor ci-1040#'): (274, 211),\n",
       " ('#pik3ca#', '#mtor kinase inhibitor cc-223#'): (274, 228),\n",
       " ('#pik3ca#', '#paclitaxel#'): (274, 250),\n",
       " ('#pik3ca#', '#pertuzumab#'): (274, 265),\n",
       " ('#pik3ca#', '#pi3k family kinase inhibitor xl147#'): (274, 271),\n",
       " ('#pik3ca#', '#pi3k-beta inhibitor gsk2636771#'): (274, 272),\n",
       " ('#pik3ca#', '#pi3k/mtor inhibitor bez235#'): (274, 273),\n",
       " ('#pik3ca#', '#recombinant interleukin-6#'): (274, 307),\n",
       " ('#pik3ca#', '#ribociclib#'): (274, 312),\n",
       " ('#pik3ca#', '#ridaforolimus#'): (274, 313),\n",
       " ('#pik3ca#', '#tamoxifen#'): (274, 355),\n",
       " ('#pik3ca#', '#temsirolimus#'): (274, 359),\n",
       " ('#pik3ca#', '#trametinib#'): (274, 379),\n",
       " ('#pik3ca#', '#trans sodium crocetinate#'): (274, 380),\n",
       " ('#pik3ca#', '#trastuzumab#'): (274, 381),\n",
       " ('#pik3ca#', '#triciribine phosphate#'): (274, 382),\n",
       " ('#pik3ca#', '#vinorelbine#'): (274, 389),\n",
       " ('#pik3ca#', '#voxtalisib#'): (274, 390),\n",
       " ('#prdx2#', '#tamoxifen#'): (287, 355),\n",
       " ('#prkaa2#', '#trastuzumab#'): (288, 381),\n",
       " ('#pten#', '#akt inhibitor gsk2141795#'): (295, 9),\n",
       " ('#pten#', '#akt inhibitor mk2206#'): (295, 10),\n",
       " ('#pten#', '#apatinib#'): (295, 20),\n",
       " ('#pten#', '#buparlisib#'): (295, 48),\n",
       " ('#pten#', '#carboplatin#'): (295, 54),\n",
       " ('#pten#', '#cisplatin#'): (295, 75),\n",
       " ('#pten#', '#everolimus#'): (295, 127),\n",
       " ('#pten#', '#exemestane#'): (295, 128),\n",
       " ('#pten#', '#fulvestrant#'): (295, 149),\n",
       " ('#pten#', '#letrozole#'): (295, 195),\n",
       " ('#pten#', '#mtor kinase inhibitor cc-223#'): (295, 228),\n",
       " ('#pten#', '#paclitaxel#'): (295, 250),\n",
       " ('#pten#', '#pertuzumab#'): (295, 265),\n",
       " ('#pten#', '#pi3k-beta inhibitor gsk2636771#'): (295, 272),\n",
       " ('#pten#', '#pi3k/mtor inhibitor bez235#'): (295, 273),\n",
       " ('#pten#', '#recombinant interleukin-6#'): (295, 307),\n",
       " ('#pten#', '#tamoxifen#'): (295, 355),\n",
       " ('#pten#', '#temsirolimus#'): (295, 359),\n",
       " ('#pten#', '#trans sodium crocetinate#'): (295, 380),\n",
       " ('#pten#', '#trastuzumab#'): (295, 381),\n",
       " ('#pten#', '#vinorelbine#'): (295, 389),\n",
       " ('#raf1#', '#cyclophosphamide#'): (300, 86),\n",
       " ('#raf1#', '#docetaxel#'): (300, 101),\n",
       " ('#raf1#', '#doxorubicin#'): (300, 102),\n",
       " ('#raf1#', '#fluorouracil#'): (300, 141),\n",
       " ('#rnase1#', '#apatinib#'): (315, 20),\n",
       " ('#rnase1#', '#binimetinib#'): (315, 36),\n",
       " ('#rnase1#', '#buparlisib#'): (315, 48),\n",
       " ('#rnase1#', '#dalotuzumab#'): (315, 93),\n",
       " ('#rnase1#', '#everolimus#'): (315, 127),\n",
       " ('#rnase1#', '#mtor kinase inhibitor cc-223#'): (315, 228),\n",
       " ('#rnase1#', '#pi3k/mtor inhibitor bez235#'): (315, 273),\n",
       " ('#rnase1#', '#ridaforolimus#'): (315, 313),\n",
       " ('#rnase1#', '#temsirolimus#'): (315, 359),\n",
       " ('#rnase1#', '#vinorelbine#'): (315, 389),\n",
       " ('#rnase1#', '#voxtalisib#'): (315, 390),\n",
       " ('#rrad#', '#akt inhibitor gsk2141795#'): (321, 9),\n",
       " ('#rrad#', '#akt inhibitor mk2206#'): (321, 10),\n",
       " ('#rrad#', '#buparlisib#'): (321, 48),\n",
       " ('#rrad#', '#carboplatin#'): (321, 54),\n",
       " ('#rrad#', '#cisplatin#'): (321, 75),\n",
       " ('#rrad#', '#everolimus#'): (321, 127),\n",
       " ('#rrad#', '#exemestane#'): (321, 128),\n",
       " ('#rrad#', '#mtor kinase inhibitor cc-223#'): (321, 228),\n",
       " ('#rrad#', '#paclitaxel#'): (321, 250),\n",
       " ('#rrad#', '#pi3k/mtor inhibitor bez235#'): (321, 273),\n",
       " ('#rrad#', '#temsirolimus#'): (321, 359),\n",
       " ('#rrad#', '#trastuzumab#'): (321, 381),\n",
       " ('#rrad#', '#vinorelbine#'): (321, 389),\n",
       " ('#sgcg#', '#afuresertib#'): (331, 5),\n",
       " ('#sgcg#', '#akt inhibitor gsk2141795#'): (331, 9),\n",
       " ('#sgcg#', '#akt inhibitor mk2206#'): (331, 10),\n",
       " ('#sgcg#', '#binimetinib#'): (331, 36),\n",
       " ('#sgcg#', '#buparlisib#'): (331, 48),\n",
       " ('#sgcg#', '#carboplatin#'): (331, 54),\n",
       " ('#sgcg#', '#cisplatin#'): (331, 75),\n",
       " ('#sgcg#', '#cixutumumab#'): (331, 76),\n",
       " ('#sgcg#', '#cyclophosphamide#'): (331, 86),\n",
       " ('#sgcg#', '#doxorubicin#'): (331, 102),\n",
       " ('#sgcg#', '#erlotinib#'): (331, 122),\n",
       " ('#sgcg#', '#everolimus#'): (331, 127),\n",
       " ('#sgcg#', '#exemestane#'): (331, 128),\n",
       " ('#sgcg#', '#gemcitabine#'): (331, 152),\n",
       " ('#sgcg#', '#mtor kinase inhibitor cc-223#'): (331, 228),\n",
       " ('#sgcg#', '#paclitaxel#'): (331, 250),\n",
       " ('#sgcg#', '#pi3k/mtor inhibitor bez235#'): (331, 273),\n",
       " ('#sgcg#', '#tamoxifen#'): (331, 355),\n",
       " ('#sgcg#', '#temsirolimus#'): (331, 359),\n",
       " ('#sgcg#', '#trametinib#'): (331, 379),\n",
       " ('#sgcg#', '#trastuzumab#'): (331, 381),\n",
       " ('#sgcg#', '#triciribine phosphate#'): (331, 382),\n",
       " ('#sgcg#', '#vinorelbine#'): (331, 389),\n",
       " ('#sirt1#', '#iproplatin#'): (334, 177),\n",
       " ('#sirt1#', '#niacinamide#'): (334, 238),\n",
       " ('#sirt1#', '#tamoxifen#'): (334, 355),\n",
       " ('#slc7a1#', '#iproplatin#'): (336, 177),\n",
       " ('#sltm#', '#trastuzumab#'): (337, 381),\n",
       " ('#smim10l2a#', '#trastuzumab#'): (340, 381),\n",
       " ('#snai2#', '#trastuzumab#'): (342, 381),\n",
       " ('#spen#', '#tamoxifen#'): (347, 355),\n",
       " ('#src#', '#apatinib#'): (348, 20),\n",
       " ('#t#', '#akt inhibitor mk2206#'): (354, 10),\n",
       " ('#t#', '#apatinib#'): (354, 20),\n",
       " ('#t#', '#docetaxel#'): (354, 101),\n",
       " ('#t#', '#paclitaxel#'): (354, 250),\n",
       " ('#t#', '#pertuzumab#'): (354, 265),\n",
       " ('#t#', '#trastuzumab#'): (354, 381),\n",
       " ('#th#', '#tamoxifen#'): (366, 355),\n",
       " ('#tnip1#', '#everolimus#'): (373, 127),\n",
       " ('#tnip1#', '#fulvestrant#'): (373, 149),\n",
       " ('#tnip1#', '#trastuzumab#'): (373, 381),\n",
       " ('#tp53#', '#cyclophosphamide#'): (377, 86),\n",
       " ('#tp53#', '#docetaxel#'): (377, 101),\n",
       " ('#tp53#', '#doxorubicin#'): (377, 102),\n",
       " ('#tp53#', '#epirubicin#'): (377, 118),\n",
       " ('#tp53#', '#fluorouracil#'): (377, 141),\n",
       " ('#tp53#', '#hydroxyurea#'): (377, 169),\n",
       " ('#tp53#', '#iproplatin#'): (377, 177),\n",
       " ('#tp53#', '#paclitaxel#'): (377, 250)}"
      ]
     },
     "execution_count": 66,
     "metadata": {},
     "output_type": "execute_result"
    }
   ],
   "source": [
    "original_indeces"
   ]
  },
  {
   "cell_type": "code",
   "execution_count": 67,
   "metadata": {
    "collapsed": true
   },
   "outputs": [],
   "source": [
    "a =np.zeros((vocab_matrix.shape[1],1))"
   ]
  },
  {
   "cell_type": "code",
   "execution_count": 68,
   "metadata": {
    "collapsed": true
   },
   "outputs": [],
   "source": [
    "a[0]=1\n",
    "a[221]=1"
   ]
  },
  {
   "cell_type": "code",
   "execution_count": 69,
   "metadata": {},
   "outputs": [
    {
     "data": {
      "text/plain": [
       "(400, 1)"
      ]
     },
     "execution_count": 69,
     "metadata": {},
     "output_type": "execute_result"
    }
   ],
   "source": [
    "a.shape"
   ]
  },
  {
   "cell_type": "code",
   "execution_count": 70,
   "metadata": {
    "collapsed": true
   },
   "outputs": [],
   "source": [
    "b = scs.lil_matrix((vocab_matrix.shape[1],1))"
   ]
  },
  {
   "cell_type": "code",
   "execution_count": 71,
   "metadata": {},
   "outputs": [
    {
     "data": {
      "text/plain": [
       "<400x1 sparse matrix of type '<class 'numpy.float64'>'\n",
       "\twith 0 stored elements in LInked List format>"
      ]
     },
     "execution_count": 71,
     "metadata": {},
     "output_type": "execute_result"
    }
   ],
   "source": [
    "b"
   ]
  },
  {
   "cell_type": "code",
   "execution_count": 72,
   "metadata": {
    "collapsed": true
   },
   "outputs": [],
   "source": [
    "b[list((0,221))]=1"
   ]
  },
  {
   "cell_type": "code",
   "execution_count": 73,
   "metadata": {},
   "outputs": [
    {
     "name": "stdout",
     "output_type": "stream",
     "text": [
      "  (0, 0)\t1.0\n",
      "  (221, 0)\t1.0\n"
     ]
    }
   ],
   "source": [
    "print(b)"
   ]
  },
  {
   "cell_type": "code",
   "execution_count": 74,
   "metadata": {},
   "outputs": [
    {
     "data": {
      "text/plain": [
       "<2893x1 sparse matrix of type '<class 'numpy.float64'>'\n",
       "\twith 5 stored elements in Compressed Sparse Row format>"
      ]
     },
     "execution_count": 74,
     "metadata": {},
     "output_type": "execute_result"
    }
   ],
   "source": [
    "vocab_matrix*b"
   ]
  },
  {
   "cell_type": "code",
   "execution_count": 75,
   "metadata": {},
   "outputs": [
    {
     "data": {
      "text/plain": [
       "array([1, 2, 1, ..., 1, 1, 1], dtype=int64)"
      ]
     },
     "execution_count": 75,
     "metadata": {},
     "output_type": "execute_result"
    }
   ],
   "source": [
    "vocab_matrix.data"
   ]
  },
  {
   "cell_type": "code",
   "execution_count": 76,
   "metadata": {
    "collapsed": true
   },
   "outputs": [],
   "source": [
    "vocab_test =vocab_matrix"
   ]
  },
  {
   "cell_type": "code",
   "execution_count": null,
   "metadata": {
    "collapsed": true
   },
   "outputs": [],
   "source": [
    "vocab_test[vocab_test>1]=1"
   ]
  },
  {
   "cell_type": "code",
   "execution_count": null,
   "metadata": {},
   "outputs": [],
   "source": [
    "vocab_test>1"
   ]
  },
  {
   "cell_type": "code",
   "execution_count": null,
   "metadata": {},
   "outputs": [],
   "source": [
    "(vocab_test*b>1).nonzero()[0]"
   ]
  },
  {
   "cell_type": "code",
   "execution_count": null,
   "metadata": {},
   "outputs": [],
   "source": [
    "orig_sentences[448]"
   ]
  },
  {
   "cell_type": "code",
   "execution_count": 77,
   "metadata": {
    "collapsed": true
   },
   "outputs": [],
   "source": [
    "def get_evidence_sentences(gene, drug, max_number):\n",
    "    gen = '#'+gene+'#'\n",
    "    drg = '#'+drug+'#'\n",
    "    gene = gene.lower()\n",
    "    drug = drug.lower()\n",
    "    if gen not in gene_values:\n",
    "        try:\n",
    "            gen=gene_dict[gene]\n",
    "        except KeyError:\n",
    "            return (\"Gene: {} not in list\".format(gene))\n",
    "    if drg not in drug_values:\n",
    "        try:\n",
    "            drg=drug_dict[drug]\n",
    "        except KeyError:\n",
    "            return (\"Drug: {} not in list\".format(drug))\n",
    "    try:\n",
    "        indices = original_indeces[(gen, drg)]\n",
    "    except KeyError:\n",
    "        return('There is no evidence of interaction'\n",
    "        ' between the gene {} and the drug {}'. format(gen[1:-1],drg[1:-1]))\n",
    "    test_col = scs.lil_matrix((vocab_matrix.shape[1],1))\n",
    "    test_col[list(indices)]=1\n",
    "    index_evidence = (vocab_matrix*test_col>1).nonzero()[0]\n",
    "    evidence_list = []\n",
    "    #gene_key = [k for k, v in gene_dict.items() if v == gen]\n",
    "    #drug_key = [k for k, v in drug_dict.items() if v == drg]\n",
    "    while len(evidence_list) < max_number and len(evidence_list) < len(index_evidence) :\n",
    "        for index in index_evidence:\n",
    "            sent = orig_sentences[index]#.lower()\n",
    "            #gene_evd = [word for word in sent.replace(',','').replace('.','').replace(':','').split(' ') if word in gene_key][0]\n",
    "            #drug_evd = [word for word in sent.replace(',','').replace('.','').replace(':','').split(' ') if word in drug_key][0]\n",
    "            if len(sent)<500:\n",
    "                evidence_list.append('{}: {}'.format(doc_names[index] ,sent))\n",
    "            else:\n",
    "                evidence_list.append('{}: sentence too long to display'.format(doc_names[index]))  \n",
    "    return evidence_list\n",
    "        \n",
    "    "
   ]
  },
  {
   "cell_type": "code",
   "execution_count": 78,
   "metadata": {},
   "outputs": [
    {
     "data": {
      "text/plain": [
       "'test.txt'"
      ]
     },
     "execution_count": 78,
     "metadata": {},
     "output_type": "execute_result"
    }
   ],
   "source": [
    "doc_names[448]"
   ]
  },
  {
   "cell_type": "code",
   "execution_count": 79,
   "metadata": {},
   "outputs": [
    {
     "data": {
      "text/plain": [
       "['test.txt: In the studies with the side populations from MCF-7 and MDA-MB-231 cells, increased ABCG2 was observed in the side populations as well as elevated resistance to the chemotherapeutic drug mitoxantrone.']"
      ]
     },
     "execution_count": 79,
     "metadata": {},
     "output_type": "execute_result"
    }
   ],
   "source": [
    "get_evidence_sentences('abcg2','mitoxantrone',10)"
   ]
  },
  {
   "cell_type": "code",
   "execution_count": 80,
   "metadata": {
    "scrolled": true
   },
   "outputs": [
    {
     "data": {
      "text/plain": [
       "['test.txt: In BT474 and MCF10A breast cancer cells transfected with the construct encoding HER2-T798M mutation, elevated HER2 kinase activity was detected and lapatinib did not block phosphorylation of HER2, EGFR3 or downstream Akt and ERK1 2.',\n",
       " 'test.txt: However, co-inhibition of PI3K with the PI3Kalpha specific inhibitor BYL719 and EGFR-mediated signaling with lapatinib was more effective in suppressing growth than treatment with either the PI3K-alpha inhibitor or lapatinib alone.',\n",
       " 'test.txt: Mutations of Akt are relatively rare in breast cancer, however, aberrant activation of either upstream PIK3CA or polymorphism of the PH domain and leucine rich repeat protein phosphatase 2 (PHLPP2) gene can result in Akt expression.',\n",
       " 'test.txt: Some investigators have suggested that other molecules besides Akt are important in breast cancer and have proposed Akt-independent signaling mechanisms [185].',\n",
       " 'test.txt: This group demonstrated that in some breast tumors cultured in an anchorage-independent fashion displayed minimal Akt activation and decreased reliance on Akt for growth.',\n",
       " 'test.txt: Thus addition of paclitaxel to breast cancer patients which are P-Akt- does not appear to increase the effect of AC therapy, while addition of paclitaxel to those breast cancer patients which are P-Akt+ does appear to improve therapy.',\n",
       " 'test.txt: Simultaneous Akt and GSK-3beta activity has been observed in pancreatic and colon cancer cell lines, indicating that increased Akt expression does not always result with decreased GSK-3beta activity [231].',\n",
       " 'test.txt: This trial consisted of 991 cancer patients with unrectable, locally advanced or metastatic HER+ breast cancer which had been previously treated with herceptin and taxanes with breast cancer patients treated with capecitabine (Xeloda) plus lapatinib (Tykerb).',\n",
       " 'test.txt: Treatment of the lapatinib-resistant HER2+ cells with Src inhibitors suppressed the PI3K PTEN Akt mTOR pathway as well as  Figure 5: Sites of Targeting the EGFR PI3K PTEN Akt mTORC Pathway with Small Molecule Membrane-Permeable Inhibitors and Monoclonal Antibodies (MoAbs).',\n",
       " 'test.txt: sentence too long to display',\n",
       " 'test.txt: Treatment of HER2+ BT-474 cells with lapatinib and Src inhibitors was more effective in suppressing the growth of these cells in xenograft models than treatment with lapatinib alone.',\n",
       " 'test.txt: sentence too long to display',\n",
       " 'test.txt: sentence too long to display',\n",
       " 'test.txt: Correlation between human epidermal growth factor receptor family (EGFR, HER2, HER3, HER4), phosphorylated Akt (P-Akt), and clinical outcomes after radiation therapy in carcinoma of the cervix.']"
      ]
     },
     "execution_count": 80,
     "metadata": {},
     "output_type": "execute_result"
    }
   ],
   "source": [
    "get_evidence_sentences('akt1','lapatinib',2)"
   ]
  },
  {
   "cell_type": "code",
   "execution_count": 83,
   "metadata": {
    "collapsed": true
   },
   "outputs": [],
   "source": [
    "almost_vocab = data_frame_creator.open_pickle('almost_vocab_columns.pickle')"
   ]
  },
  {
   "cell_type": "code",
   "execution_count": null,
   "metadata": {
    "collapsed": true
   },
   "outputs": [],
   "source": [
    "with open('almost_vocab.txt','w') as f:\n",
    "    f.write(\"\\n\".join(almost_vocab))"
   ]
  },
  {
   "cell_type": "code",
   "execution_count": 84,
   "metadata": {
    "collapsed": true
   },
   "outputs": [],
   "source": [
    "almost_vocab_drugs_index =[almost_vocab.index(i) for i in almost_vocab if i in drug_values] "
   ]
  },
  {
   "cell_type": "code",
   "execution_count": 85,
   "metadata": {
    "collapsed": true
   },
   "outputs": [],
   "source": [
    "almost_vocab_drug_name =[i for i in almost_vocab if i in drug_values] "
   ]
  },
  {
   "cell_type": "code",
   "execution_count": 86,
   "metadata": {
    "collapsed": true
   },
   "outputs": [],
   "source": [
    "with open('almost_vocab_drugs.txt','w') as f:\n",
    "    f.write(\"\\n\".join(almost_vocab_drug_name))"
   ]
  },
  {
   "cell_type": "code",
   "execution_count": 108,
   "metadata": {
    "collapsed": true
   },
   "outputs": [],
   "source": [
    "repeat_names =[]\n",
    "for drug in almost_vocab_drug_name:\n",
    "    for drug2 in almost_vocab_drug_name:\n",
    "        if drug2[1:-1] in drug[1:-1] and len(drug2)<len(drug):\n",
    "            repeat_names.append((drug2,drug))\n",
    "            "
   ]
  },
  {
   "cell_type": "code",
   "execution_count": 109,
   "metadata": {},
   "outputs": [
    {
     "data": {
      "text/plain": [
       "2"
      ]
     },
     "execution_count": 109,
     "metadata": {},
     "output_type": "execute_result"
    }
   ],
   "source": [
    "len(repeat_names)"
   ]
  },
  {
   "cell_type": "code",
   "execution_count": 99,
   "metadata": {},
   "outputs": [
    {
     "data": {
      "text/plain": [
       "'#doxorubicin hydrochloride#'"
      ]
     },
     "execution_count": 99,
     "metadata": {},
     "output_type": "execute_result"
    }
   ],
   "source": [
    "repeat_names[0][1]"
   ]
  },
  {
   "cell_type": "code",
   "execution_count": 100,
   "metadata": {
    "collapsed": true
   },
   "outputs": [],
   "source": [
    "drug_key = [k for k, v in drug_dict.items() if v == repeat_names[0][1]]"
   ]
  },
  {
   "cell_type": "code",
   "execution_count": 101,
   "metadata": {},
   "outputs": [
    {
     "data": {
      "text/plain": [
       "['mm-302',\n",
       " '(8s-cis)-8-acetyl-10-[(3-amino-2,3,6-trideoxy-a-l-lyxo-hexopyranosyl)oxy]-7,8,9,10-tetrahydro-6,8,11-tri-hydroxy-1-methoxy-5,12-naphthacenedione hydrochloride',\n",
       " 'ati-0918',\n",
       " 'caelyx',\n",
       " 'dox-sl',\n",
       " 'doxil',\n",
       " 'doxilen',\n",
       " 'doxorubicin hcl liposome',\n",
       " 'doxorubicin hydrochloride liposome',\n",
       " 'duomeisu',\n",
       " 'evacet',\n",
       " 'lipodox',\n",
       " 'liposomal adriamycin',\n",
       " 'liposomal doxorubicin hydrochloride',\n",
       " 'liposomal-encapsulated doxorubicin',\n",
       " 'pegylated doxorubicin hcl liposome',\n",
       " 's-liposomal doxorubicin',\n",
       " 'stealth liposomal doxorubicin',\n",
       " 'tlc d-99']"
      ]
     },
     "execution_count": 101,
     "metadata": {},
     "output_type": "execute_result"
    }
   ],
   "source": [
    "drug_key"
   ]
  },
  {
   "cell_type": "code",
   "execution_count": 105,
   "metadata": {
    "collapsed": true
   },
   "outputs": [],
   "source": [
    "for repeat in repeat_names:\n",
    "    drug_dict[repeat[1][1:-1]] = repeat[0]\n",
    "    drug_key = [k for k, v in drug_dict.items() if v == repeat[1]]\n",
    "    for drug in drug_key:\n",
    "        #print(drug,repeat[0])\n",
    "        drug_dict[drug]=repeat[0]\n",
    "        "
   ]
  },
  {
   "cell_type": "code",
   "execution_count": 103,
   "metadata": {},
   "outputs": [],
   "source": [
    "repeat_names_2 =[]\n",
    "for drug in almost_vocab_drug_name:\n",
    "    for drug2 in almost_vocab_drug_name:\n",
    "        if drug2[1:-1] in drug[1:-1] and len(drug2)<len(drug):\n",
    "            repeat_names_2.append((drug2,drug))"
   ]
  },
  {
   "cell_type": "code",
   "execution_count": 104,
   "metadata": {},
   "outputs": [
    {
     "data": {
      "text/plain": [
       "[('#doxorubicin#', '#doxorubicin hydrochloride#'),\n",
       " ('#irinotecan#', '#liposomal irinotecan#')]"
      ]
     },
     "execution_count": 104,
     "metadata": {},
     "output_type": "execute_result"
    }
   ],
   "source": [
    "repeat_names_2"
   ]
  },
  {
   "cell_type": "code",
   "execution_count": 107,
   "metadata": {},
   "outputs": [
    {
     "data": {
      "text/plain": [
       "'#doxorubicin#'"
      ]
     },
     "execution_count": 107,
     "metadata": {},
     "output_type": "execute_result"
    }
   ],
   "source": [
    "drug_dict['doxorubicin hydrochloride']"
   ]
  },
  {
   "cell_type": "code",
   "execution_count": 115,
   "metadata": {
    "collapsed": true
   },
   "outputs": [],
   "source": [
    "with open('drug_dictionary_final.pickle', 'wb') as handle:\n",
    "    pickle.dump(drug_dict, handle, protocol=pickle.HIGHEST_PROTOCOL)"
   ]
  },
  {
   "cell_type": "code",
   "execution_count": null,
   "metadata": {
    "collapsed": true
   },
   "outputs": [],
   "source": [
    "test_dict = data_frame_creator.open_pickle('drug_dictionary_final.pickle')"
   ]
  },
  {
   "cell_type": "code",
   "execution_count": null,
   "metadata": {},
   "outputs": [],
   "source": [
    "test_dict['acridine carboxamide']"
   ]
  },
  {
   "cell_type": "code",
   "execution_count": 116,
   "metadata": {
    "collapsed": true
   },
   "outputs": [],
   "source": [
    "with open('drug_dictionary_final.json', 'w') as fp:\n",
    "    json.dump(drug_dict, fp, sort_keys=True, indent=4)"
   ]
  },
  {
   "cell_type": "code",
   "execution_count": null,
   "metadata": {
    "collapsed": true
   },
   "outputs": [],
   "source": []
  }
 ],
 "metadata": {
  "kernelspec": {
   "display_name": "Python 3",
   "language": "python",
   "name": "python3"
  },
  "language_info": {
   "codemirror_mode": {
    "name": "ipython",
    "version": 3
   },
   "file_extension": ".py",
   "mimetype": "text/x-python",
   "name": "python",
   "nbconvert_exporter": "python",
   "pygments_lexer": "ipython3",
   "version": "3.6.0"
  }
 },
 "nbformat": 4,
 "nbformat_minor": 2
}
