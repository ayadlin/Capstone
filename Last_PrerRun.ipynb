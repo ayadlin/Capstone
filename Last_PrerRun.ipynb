{
 "cells": [
  {
   "cell_type": "code",
   "execution_count": 3,
   "metadata": {
    "collapsed": true
   },
   "outputs": [],
   "source": [
    "import tokenizer\n",
    "import pickle\n",
    "import pandas as pd\n",
    "import numpy as np\n",
    "import glob\n",
    "import os\n",
    "import string\n",
    "from nltk.tokenize import sent_tokenize\n",
    "from nltk.tokenize import word_tokenize\n",
    "from nltk.corpus import stopwords\n",
    "from nltk.stem.porter import PorterStemmer\n",
    "from nltk.util import ngrams\n",
    "import json\n",
    "import sparse_matrix_functions\n",
    "import scipy.sparse as scs\n",
    "from IPython.display import display\n",
    "import matplotlib.pyplot as plt\n",
    "%matplotlib inline\n"
   ]
  },
  {
   "cell_type": "code",
   "execution_count": 4,
   "metadata": {
    "collapsed": true
   },
   "outputs": [],
   "source": [
    "path = '/Users/ale/Dropbox (Yadlin Family)/galvanize/capstone/*.txt'"
   ]
  },
  {
   "cell_type": "code",
   "execution_count": 5,
   "metadata": {
    "collapsed": true
   },
   "outputs": [],
   "source": [
    "with open(\"gene_dictionary_final.pickle\", \"rb\") as dict_gene:\n",
    "        gene_dict = pickle.load(dict_gene)"
   ]
  },
  {
   "cell_type": "code",
   "execution_count": 6,
   "metadata": {
    "collapsed": true
   },
   "outputs": [],
   "source": [
    "gene_keys = set(gene_dict.keys())\n",
    "gene_values = set(gene_dict.values())"
   ]
  },
  {
   "cell_type": "code",
   "execution_count": 7,
   "metadata": {},
   "outputs": [
    {
     "data": {
      "text/plain": [
       "'#erbb2#'"
      ]
     },
     "execution_count": 7,
     "metadata": {},
     "output_type": "execute_result"
    }
   ],
   "source": [
    "gene_dict['her2']"
   ]
  },
  {
   "cell_type": "code",
   "execution_count": 8,
   "metadata": {
    "collapsed": true
   },
   "outputs": [],
   "source": [
    "with open(\"drug_dictionary_final.pickle\", \"rb\") as dict_drug:\n",
    "        drug_dict = pickle.load(dict_drug)"
   ]
  },
  {
   "cell_type": "code",
   "execution_count": 9,
   "metadata": {
    "collapsed": true
   },
   "outputs": [],
   "source": [
    "drug_keys = set(drug_dict.keys())\n",
    "drug_values = set(drug_dict.values())"
   ]
  },
  {
   "cell_type": "code",
   "execution_count": 10,
   "metadata": {},
   "outputs": [
    {
     "data": {
      "text/plain": [
       "'#lapatinib#'"
      ]
     },
     "execution_count": 10,
     "metadata": {},
     "output_type": "execute_result"
    }
   ],
   "source": [
    "drug_dict['lapatinib']"
   ]
  },
  {
   "cell_type": "code",
   "execution_count": 11,
   "metadata": {},
   "outputs": [
    {
     "data": {
      "text/plain": [
       "False"
      ]
     },
     "execution_count": 11,
     "metadata": {},
     "output_type": "execute_result"
    }
   ],
   "source": [
    "'#doxorubicin hydrochloride#' in drug_values"
   ]
  },
  {
   "cell_type": "code",
   "execution_count": 12,
   "metadata": {},
   "outputs": [
    {
     "data": {
      "text/plain": [
       "'#acridine#'"
      ]
     },
     "execution_count": 12,
     "metadata": {},
     "output_type": "execute_result"
    }
   ],
   "source": [
    "drug_dict['acridine carboxamide']"
   ]
  },
  {
   "cell_type": "code",
   "execution_count": 13,
   "metadata": {
    "collapsed": true
   },
   "outputs": [],
   "source": [
    "with open(\"greek_alphabet.pickle\", \"rb\") as dict_greek:\n",
    "        greek_dict = pickle.load(dict_greek)"
   ]
  },
  {
   "cell_type": "code",
   "execution_count": 14,
   "metadata": {
    "collapsed": true
   },
   "outputs": [],
   "source": [
    "import data_frame_creator\n",
    "import sparse_matrix_functions"
   ]
  },
  {
   "cell_type": "code",
   "execution_count": 15,
   "metadata": {
    "collapsed": true
   },
   "outputs": [],
   "source": [
    "test=data_frame_creator.sparse_create_data_frame(path, short_list=True, min_df=0)"
   ]
  },
  {
   "cell_type": "code",
   "execution_count": 16,
   "metadata": {
    "collapsed": true
   },
   "outputs": [],
   "source": [
    "vocab_matrix =test[0]\n",
    "vocab_matrix[vocab_matrix>1]=1\n",
    "vocab_columns = test[1]\n",
    "doc_names = test[2] \n",
    "orig_sentences =test[3]"
   ]
  },
  {
   "cell_type": "code",
   "execution_count": 17,
   "metadata": {
    "collapsed": true
   },
   "outputs": [],
   "source": [
    "col_idx=sparse_matrix_functions.column_indexing(vocab_columns)"
   ]
  },
  {
   "cell_type": "code",
   "execution_count": 18,
   "metadata": {},
   "outputs": [
    {
     "data": {
      "text/plain": [
       "True"
      ]
     },
     "execution_count": 18,
     "metadata": {},
     "output_type": "execute_result"
    }
   ],
   "source": [
    "'#lapatinib#'in vocab_columns"
   ]
  },
  {
   "cell_type": "code",
   "execution_count": 19,
   "metadata": {
    "collapsed": true
   },
   "outputs": [],
   "source": [
    "test_matrix_all = sparse_matrix_functions.pick_network_type(vocab_matrix, vocab_columns,kind='a')"
   ]
  },
  {
   "cell_type": "code",
   "execution_count": 20,
   "metadata": {},
   "outputs": [
    {
     "data": {
      "text/plain": [
       "<2892x398 sparse matrix of type '<class 'numpy.float64'>'\n",
       "\twith 5640 stored elements in Compressed Sparse Row format>"
      ]
     },
     "execution_count": 20,
     "metadata": {},
     "output_type": "execute_result"
    }
   ],
   "source": [
    "test_matrix_all"
   ]
  },
  {
   "cell_type": "code",
   "execution_count": 21,
   "metadata": {
    "collapsed": true
   },
   "outputs": [],
   "source": [
    "test_matrix_r = sparse_matrix_functions.pick_network_type(vocab_matrix,vocab_columns,'r')"
   ]
  },
  {
   "cell_type": "code",
   "execution_count": 22,
   "metadata": {
    "collapsed": true
   },
   "outputs": [],
   "source": [
    "test_matrix_s = sparse_matrix_functions.pick_network_type(vocab_matrix,vocab_columns,kind='s')"
   ]
  },
  {
   "cell_type": "code",
   "execution_count": 23,
   "metadata": {},
   "outputs": [
    {
     "data": {
      "text/plain": [
       "<2892x399 sparse matrix of type '<class 'numpy.int64'>'\n",
       "\twith 2930 stored elements in Compressed Sparse Row format>"
      ]
     },
     "execution_count": 23,
     "metadata": {},
     "output_type": "execute_result"
    }
   ],
   "source": [
    "vocab_matrix"
   ]
  },
  {
   "cell_type": "code",
   "execution_count": 24,
   "metadata": {},
   "outputs": [
    {
     "data": {
      "text/plain": [
       "<135x398 sparse matrix of type '<class 'numpy.int64'>'\n",
       "\twith 428 stored elements in Compressed Sparse Row format>"
      ]
     },
     "execution_count": 24,
     "metadata": {},
     "output_type": "execute_result"
    }
   ],
   "source": [
    "test_matrix_r"
   ]
  },
  {
   "cell_type": "code",
   "execution_count": 25,
   "metadata": {},
   "outputs": [
    {
     "data": {
      "text/plain": [
       "scipy.sparse.csr.csr_matrix"
      ]
     },
     "execution_count": 25,
     "metadata": {},
     "output_type": "execute_result"
    }
   ],
   "source": [
    "type(test_matrix_s)"
   ]
  },
  {
   "cell_type": "code",
   "execution_count": 26,
   "metadata": {
    "collapsed": true
   },
   "outputs": [],
   "source": [
    "non_empty_rows = sparse_matrix_functions.non_zero_rows(vocab_matrix)"
   ]
  },
  {
   "cell_type": "code",
   "execution_count": 27,
   "metadata": {
    "collapsed": true
   },
   "outputs": [],
   "source": [
    "sentences = [orig_sentences[i] for i in non_empty_rows]"
   ]
  },
  {
   "cell_type": "code",
   "execution_count": 28,
   "metadata": {
    "collapsed": true
   },
   "outputs": [],
   "source": [
    "files = [doc_names[i] for i in non_empty_rows]"
   ]
  },
  {
   "cell_type": "code",
   "execution_count": 29,
   "metadata": {
    "collapsed": true
   },
   "outputs": [],
   "source": [
    "vocab_mat_clean=sparse_matrix_functions.remove_zero_rows(vocab_matrix)"
   ]
  },
  {
   "cell_type": "code",
   "execution_count": 30,
   "metadata": {},
   "outputs": [
    {
     "data": {
      "text/plain": [
       "<1427x399 sparse matrix of type '<class 'numpy.int64'>'\n",
       "\twith 2930 stored elements in Compressed Sparse Row format>"
      ]
     },
     "execution_count": 30,
     "metadata": {},
     "output_type": "execute_result"
    }
   ],
   "source": [
    "vocab_mat_clean"
   ]
  },
  {
   "cell_type": "code",
   "execution_count": 31,
   "metadata": {},
   "outputs": [
    {
     "data": {
      "text/plain": [
       "(2892, 399)"
      ]
     },
     "execution_count": 31,
     "metadata": {},
     "output_type": "execute_result"
    }
   ],
   "source": [
    "vocab_matrix.shape"
   ]
  },
  {
   "cell_type": "code",
   "execution_count": 32,
   "metadata": {},
   "outputs": [
    {
     "name": "stdout",
     "output_type": "stream",
     "text": [
      "[0, 0, 0, 0, 0, 0, 0, 0, 0, 0, 0, 0, 0, 0, 0, 0, 0, 0, 0, 0, 0, 0, 0, 0, 0, 0, 0, 0, 0, 0, 0, 0, 0, 0, 0, 0, 0, 0, 0, 0, 0, 0, 0, 0, 0, 0, 0]\n"
     ]
    }
   ],
   "source": [
    "print(list(vocab_matrix[:,vocab_columns.index('sensit')].indices))"
   ]
  },
  {
   "cell_type": "code",
   "execution_count": 33,
   "metadata": {},
   "outputs": [
    {
     "ename": "NameError",
     "evalue": "name 'sensit2' is not defined",
     "output_type": "error",
     "traceback": [
      "\u001b[0;31m---------------------------------------------------------------------------\u001b[0m",
      "\u001b[0;31mNameError\u001b[0m                                 Traceback (most recent call last)",
      "\u001b[0;32m<ipython-input-33-9cc1ee99543f>\u001b[0m in \u001b[0;36m<module>\u001b[0;34m()\u001b[0m\n\u001b[0;32m----> 1\u001b[0;31m \u001b[0msensit2\u001b[0m\u001b[0;34m\u001b[0m\u001b[0m\n\u001b[0m",
      "\u001b[0;31mNameError\u001b[0m: name 'sensit2' is not defined"
     ]
    }
   ],
   "source": [
    "sensit2"
   ]
  },
  {
   "cell_type": "code",
   "execution_count": null,
   "metadata": {
    "collapsed": true
   },
   "outputs": [],
   "source": []
  },
  {
   "cell_type": "code",
   "execution_count": 34,
   "metadata": {
    "collapsed": true
   },
   "outputs": [],
   "source": [
    "network_genes=sparse_matrix_functions.get_network_rows(vocab_columns)"
   ]
  },
  {
   "cell_type": "code",
   "execution_count": 35,
   "metadata": {
    "collapsed": true
   },
   "outputs": [],
   "source": [
    "network_drugs =sparse_matrix_functions.get_network_columns(vocab_columns)"
   ]
  },
  {
   "cell_type": "code",
   "execution_count": 36,
   "metadata": {
    "collapsed": true,
    "scrolled": true
   },
   "outputs": [],
   "source": [
    "data_frame_creator.write_pickle('network_genes_test.pickle', network_genes)"
   ]
  },
  {
   "cell_type": "code",
   "execution_count": 37,
   "metadata": {
    "collapsed": true
   },
   "outputs": [],
   "source": [
    "resist_network_matrix = sparse_matrix_functions.make_network_matrix(test_matrix_r, vocab_columns)"
   ]
  },
  {
   "cell_type": "code",
   "execution_count": 38,
   "metadata": {
    "collapsed": true
   },
   "outputs": [],
   "source": [
    "pairs_r, counts_r = sparse_matrix_functions.extract_gene_drug_pairs(resist_network_matrix, network_genes, network_drugs)"
   ]
  },
  {
   "cell_type": "code",
   "execution_count": 39,
   "metadata": {
    "collapsed": true
   },
   "outputs": [],
   "source": [
    "original_indeces_r = sparse_matrix_functions.back_to_original_indeces(pairs_r, col_idx)"
   ]
  },
  {
   "cell_type": "code",
   "execution_count": 40,
   "metadata": {
    "collapsed": true
   },
   "outputs": [],
   "source": [
    "resist_evidence_akt_lapatinib = sparse_matrix_functions.get_evidence_sentences(\n",
    "    'akt','lapatinib','r',7, test, original_indeces_r)"
   ]
  },
  {
   "cell_type": "code",
   "execution_count": 41,
   "metadata": {},
   "outputs": [
    {
     "data": {
      "text/plain": [
       "[('test.txt',\n",
       "  'Treatment of the lapatinib-resistant HER2+ cells with Src inhibitors suppressed the PI3K PTEN Akt mTOR pathway as well as  Figure 5: Sites of Targeting the EGFR PI3K PTEN Akt mTORC Pathway with Small Molecule Membrane-Permeable Inhibitors and Monoclonal Antibodies (MoAbs).')]"
      ]
     },
     "execution_count": 41,
     "metadata": {},
     "output_type": "execute_result"
    }
   ],
   "source": [
    "resist_evidence_akt_lapatinib"
   ]
  },
  {
   "cell_type": "code",
   "execution_count": 42,
   "metadata": {
    "collapsed": true
   },
   "outputs": [],
   "source": [
    "sensit_network_matrix = sparse_matrix_functions.make_network_matrix(test_matrix_s, vocab_columns)"
   ]
  },
  {
   "cell_type": "code",
   "execution_count": 43,
   "metadata": {
    "collapsed": true,
    "scrolled": true
   },
   "outputs": [],
   "source": [
    "pairs_s, counts_s = sparse_matrix_functions.extract_gene_drug_pairs(sensit_network_matrix, network_genes, network_drugs)"
   ]
  },
  {
   "cell_type": "code",
   "execution_count": 44,
   "metadata": {
    "collapsed": true
   },
   "outputs": [],
   "source": [
    "#(pairs_s,counts_s)"
   ]
  },
  {
   "cell_type": "code",
   "execution_count": 45,
   "metadata": {
    "collapsed": true
   },
   "outputs": [],
   "source": [
    "original_indeces_s = sparse_matrix_functions.back_to_original_indeces(pairs_s, col_idx)"
   ]
  },
  {
   "cell_type": "code",
   "execution_count": 46,
   "metadata": {
    "collapsed": true
   },
   "outputs": [],
   "source": [
    "sensit_evidence_akt_lapatinib = sparse_matrix_functions.get_evidence_sentences(\n",
    "    'akt','lapatinib','r',7,test, original_indeces_s)"
   ]
  },
  {
   "cell_type": "code",
   "execution_count": 47,
   "metadata": {},
   "outputs": [
    {
     "data": {
      "text/plain": [
       "'There is no evidence that the prensece of the gene akt confers resistance to the drug lapatinib'"
      ]
     },
     "execution_count": 47,
     "metadata": {},
     "output_type": "execute_result"
    }
   ],
   "source": [
    "sensit_evidence_akt_lapatinib"
   ]
  },
  {
   "cell_type": "code",
   "execution_count": 48,
   "metadata": {
    "collapsed": true
   },
   "outputs": [],
   "source": [
    "all_network_matrix = sparse_matrix_functions.make_network_matrix(test_matrix_all, vocab_columns)"
   ]
  },
  {
   "cell_type": "code",
   "execution_count": 49,
   "metadata": {
    "collapsed": true
   },
   "outputs": [],
   "source": [
    "pairs_a, counts_a = sparse_matrix_functions.extract_gene_drug_pairs(all_network_matrix, network_genes, network_drugs)"
   ]
  },
  {
   "cell_type": "code",
   "execution_count": 50,
   "metadata": {
    "collapsed": true
   },
   "outputs": [],
   "source": [
    "original_indeces_a = sparse_matrix_functions.back_to_original_indeces(pairs_a, col_idx)"
   ]
  },
  {
   "cell_type": "code",
   "execution_count": 51,
   "metadata": {},
   "outputs": [
    {
     "name": "stdout",
     "output_type": "stream",
     "text": [
      "Returning evidence of both sensitivity and resistant\n"
     ]
    },
    {
     "name": "stderr",
     "output_type": "stream",
     "text": [
      "/Users/ale/anaconda2/envs/py36/lib/python3.6/site-packages/scipy/sparse/compressed.py:774: SparseEfficiencyWarning: Changing the sparsity structure of a csr_matrix is expensive. lil_matrix is more efficient.\n",
      "  SparseEfficiencyWarning)\n"
     ]
    }
   ],
   "source": [
    "all_evidence_akt_lapatinib = sparse_matrix_functions.get_evidence_sentences('akt','lapatinib','a',7, \n",
    "                                                                               test, original_indeces_a)"
   ]
  },
  {
   "cell_type": "code",
   "execution_count": 52,
   "metadata": {},
   "outputs": [
    {
     "data": {
      "text/plain": [
       "[('test.txt',\n",
       "  'In BT474 and MCF10A breast cancer cells transfected with the construct encoding HER2-T798M mutation, elevated HER2 kinase activity was detected and lapatinib did not block phosphorylation of HER2, EGFR3 or downstream Akt and ERK1 2.'),\n",
       " ('test.txt',\n",
       "  'Treatment of the lapatinib-resistant HER2+ cells with Src inhibitors suppressed the PI3K PTEN Akt mTOR pathway as well as  Figure 5: Sites of Targeting the EGFR PI3K PTEN Akt mTORC Pathway with Small Molecule Membrane-Permeable Inhibitors and Monoclonal Antibodies (MoAbs).'),\n",
       " ('test.txt',\n",
       "  'I  Recurrent BC, -Stage IV BC, Active, not MK2206, paclitaxel Not Unspecified Adult recruiting Provided Solid Tumor Triciribine (an Akt inhibitor), Not paclitaxel, provided doxorubicin, cyclophosphamide Cisplatin, 0941, a inhibitor GDCNot PI3K provided  I  II  Metastatic Carcinoma Stage IV  BC, Currently Breast recruiting participants  I II  ER- BC, HER- BC, TNBC, Recurrent Currently BC, Stage IV BC recruiting participants  II  HER2+, Newly Diagnosed, Primary BC Currently Neoadjuvant recruiting Therapy, participants Trastuzumab  BKM120, trastuzumab (trastuzumab = Not herceptin, a antiprovided HER2 MoAb), paclitaxel  II  BC  Not yet open Not for participant Paclitaxel, BKM120 provided study RAD001 (Afinitor everolimus), Not gemcitabine (a provided nucleoside analog), cisplatin  I II  Metastatic BC  Currently recruiting patients  II  Metastatic BC  Everolimus, Bevacizumab (vascular Ongoing, but Not endothelial not recruiting provided growth factor A inhibitor), paclitaxel  II  HER2+ BC  Recruiting  Everolimus, vinorelbine, Not trastuzumab (HER2 provided inhibibitor, MoAb) Capecitabine (a pro-drug, which is converted to 5-flurouracil (5Not FU) which inhibits provided thymidylate synthase, exemestane, Everolimus  II  BC  Recruiting  www.impactjournals.com oncotarget  4632  Oncotarget  \\x0c*A Phase III Trials Program Exploring the Integration of Bevacizumab, Everolimus (RAD001), and Lapatinib Into Current NCT00567554 Neoadjuvant Chemotherapy Regimes for Primary Breast Cancer  III  BC  Phase I, Open Label, Dose Escalation Study of the Safety, Tolerability, and Pharmacokinetics of the Combination NCT00253318 RAD001 Plus Docetaxel in Patients With Metastatic Breast Cancer Phase II, Open Label, Dose Escalation Study of the Safety, Tolerability, and Pharmacokinetics of the Combination RAD001 Plus Docetaxel in Patients With Metastatic Breast Cancer *Phase 1b 2 Single-arm Trial Evaluating the Combination of Lapatinib, Everolimus and Capecitabine for the Treatment of Patients With HER2-positive Metastatic Breast Cancer With CNS Progression After Trastuzumab *A Phase Ib II Trial of LEE011 in Combination With Everolimus (RAD001) and Exemestane in the Treatment of Postmenopausal Women With Estrogen Receptor Positive, Her2- Locally Advanced or Metastatic Breast Cancer Phase I II Study of Weekly Abraxane and RAD001 in Women With Locally Advanced or Metastatic Breast Cancer.')]"
      ]
     },
     "execution_count": 52,
     "metadata": {},
     "output_type": "execute_result"
    }
   ],
   "source": [
    "all_evidence_akt_lapatinib"
   ]
  },
  {
   "cell_type": "code",
   "execution_count": 53,
   "metadata": {},
   "outputs": [
    {
     "data": {
      "text/plain": [
       "<matplotlib.text.Text at 0x127a77c88>"
      ]
     },
     "execution_count": 53,
     "metadata": {},
     "output_type": "execute_result"
    },
    {
     "data": {
      "image/png": "[encoded data removed]",
      "text/plain": [
       "<matplotlib.figure.Figure at 0x1107c8080>"
      ]
     },
     "metadata": {},
     "output_type": "display_data"
    }
   ],
   "source": [
    "# Compute NMF\n",
    "from sklearn.decomposition import NMF\n",
    "\n",
    "def fit_nmf(M,r):\n",
    "    nmf = NMF(n_components=r)\n",
    "    nmf.fit(M)\n",
    "    W = nmf.transform(M)\n",
    "    H = nmf.components_\n",
    "    return nmf.reconstruction_err_\n",
    "\n",
    "error = [fit_nmf(resist_network_matrix,i) for i in range(1,10)]\n",
    "plt.plot(range(1,10), error)\n",
    "plt.xticks(range(1, 10))\n",
    "plt.xlabel('number of latent topics')\n",
    "plt.ylabel('Reconstruction Error')"
   ]
  },
  {
   "cell_type": "code",
   "execution_count": 54,
   "metadata": {},
   "outputs": [
    {
     "name": "stdout",
     "output_type": "stream",
     "text": [
      "RSS = 9.13\n"
     ]
    }
   ],
   "source": [
    "# Fit using 2 hidden concepts\n",
    "nmf = NMF(n_components=2)\n",
    "nmf.fit(resist_network_matrix)\n",
    "W = nmf.transform(resist_network_matrix)\n",
    "H = nmf.components_\n",
    "print('RSS = %.2f' % nmf.reconstruction_err_)"
   ]
  },
  {
   "cell_type": "code",
   "execution_count": 55,
   "metadata": {
    "collapsed": true
   },
   "outputs": [],
   "source": [
    "# Make interpretable\n",
    "W, H = (np.around(x,2) for x in (W,H))\n",
    "W = pd.DataFrame(W,index=network_genes.values())\n",
    "H = pd.DataFrame(H,columns=network_drugs.values())\n",
    "\n",
    "#display(W) \n",
    "#display(H)"
   ]
  },
  {
   "cell_type": "code",
   "execution_count": 56,
   "metadata": {},
   "outputs": [
    {
     "data": {
      "text/plain": [
       "<327x70 sparse matrix of type '<class 'numpy.int64'>'\n",
       "\twith 140 stored elements in Compressed Sparse Column format>"
      ]
     },
     "execution_count": 56,
     "metadata": {},
     "output_type": "execute_result"
    }
   ],
   "source": [
    "resist_network_matrix"
   ]
  },
  {
   "cell_type": "code",
   "execution_count": 57,
   "metadata": {},
   "outputs": [
    {
     "data": {
      "text/plain": [
       "scipy.sparse.csc.csc_matrix"
      ]
     },
     "execution_count": 57,
     "metadata": {},
     "output_type": "execute_result"
    }
   ],
   "source": [
    "type(resist_network_matrix)"
   ]
  },
  {
   "cell_type": "code",
   "execution_count": 58,
   "metadata": {
    "collapsed": true
   },
   "outputs": [],
   "source": [
    "from sklearn.model_selection import train_test_split"
   ]
  },
  {
   "cell_type": "code",
   "execution_count": 59,
   "metadata": {},
   "outputs": [
    {
     "ename": "NameError",
     "evalue": "name 'test2' is not defined",
     "output_type": "error",
     "traceback": [
      "\u001b[0;31m---------------------------------------------------------------------------\u001b[0m",
      "\u001b[0;31mNameError\u001b[0m                                 Traceback (most recent call last)",
      "\u001b[0;32m<ipython-input-59-6047a5755450>\u001b[0m in \u001b[0;36m<module>\u001b[0;34m()\u001b[0m\n\u001b[0;32m----> 1\u001b[0;31m \u001b[0mindices\u001b[0m \u001b[0;34m=\u001b[0m \u001b[0mnp\u001b[0m\u001b[0;34m.\u001b[0m\u001b[0marange\u001b[0m\u001b[0;34m(\u001b[0m\u001b[0mtest2\u001b[0m\u001b[0;34m.\u001b[0m\u001b[0mshape\u001b[0m\u001b[0;34m[\u001b[0m\u001b[0;36m0\u001b[0m\u001b[0;34m]\u001b[0m\u001b[0;34m)\u001b[0m\u001b[0;34m\u001b[0m\u001b[0m\n\u001b[0m",
      "\u001b[0;31mNameError\u001b[0m: name 'test2' is not defined"
     ]
    }
   ],
   "source": [
    "indices = np.arange(test2.shape[0])"
   ]
  },
  {
   "cell_type": "code",
   "execution_count": 60,
   "metadata": {},
   "outputs": [
    {
     "ename": "NameError",
     "evalue": "name 'indices' is not defined",
     "output_type": "error",
     "traceback": [
      "\u001b[0;31m---------------------------------------------------------------------------\u001b[0m",
      "\u001b[0;31mNameError\u001b[0m                                 Traceback (most recent call last)",
      "\u001b[0;32m<ipython-input-60-6974f4ecc8d5>\u001b[0m in \u001b[0;36m<module>\u001b[0;34m()\u001b[0m\n\u001b[0;32m----> 1\u001b[0;31m \u001b[0mr_train\u001b[0m\u001b[0;34m,\u001b[0m \u001b[0mr_test\u001b[0m\u001b[0;34m,\u001b[0m \u001b[0midxr_train\u001b[0m\u001b[0;34m,\u001b[0m \u001b[0midxr_test\u001b[0m \u001b[0;34m=\u001b[0m \u001b[0mtrain_test_split\u001b[0m\u001b[0;34m(\u001b[0m\u001b[0mresist_network_matrix\u001b[0m\u001b[0;34m,\u001b[0m \u001b[0mindices\u001b[0m\u001b[0;34m,\u001b[0m \u001b[0mtest_size\u001b[0m\u001b[0;34m=\u001b[0m\u001b[0;36m0.33\u001b[0m\u001b[0;34m,\u001b[0m \u001b[0mrandom_state\u001b[0m\u001b[0;34m=\u001b[0m\u001b[0;36m42\u001b[0m\u001b[0;34m)\u001b[0m\u001b[0;34m\u001b[0m\u001b[0m\n\u001b[0m",
      "\u001b[0;31mNameError\u001b[0m: name 'indices' is not defined"
     ]
    }
   ],
   "source": [
    "r_train, r_test, idxr_train, idxr_test = train_test_split(resist_network_matrix, indices, test_size=0.33, random_state=42)"
   ]
  },
  {
   "cell_type": "code",
   "execution_count": 61,
   "metadata": {},
   "outputs": [
    {
     "ename": "NameError",
     "evalue": "name 'idxr_test' is not defined",
     "output_type": "error",
     "traceback": [
      "\u001b[0;31m---------------------------------------------------------------------------\u001b[0m",
      "\u001b[0;31mNameError\u001b[0m                                 Traceback (most recent call last)",
      "\u001b[0;32m<ipython-input-61-04d972edb818>\u001b[0m in \u001b[0;36m<module>\u001b[0;34m()\u001b[0m\n\u001b[0;32m----> 1\u001b[0;31m \u001b[0mtest_rgenes\u001b[0m \u001b[0;34m=\u001b[0m \u001b[0;34m[\u001b[0m\u001b[0mnetwork_genes\u001b[0m\u001b[0;34m[\u001b[0m\u001b[0midx\u001b[0m\u001b[0;34m]\u001b[0m \u001b[0;32mfor\u001b[0m \u001b[0midx\u001b[0m \u001b[0;32min\u001b[0m \u001b[0midxr_test\u001b[0m\u001b[0;34m]\u001b[0m\u001b[0;34m\u001b[0m\u001b[0m\n\u001b[0m",
      "\u001b[0;31mNameError\u001b[0m: name 'idxr_test' is not defined"
     ]
    }
   ],
   "source": [
    "test_rgenes = [network_genes[idx] for idx in idxr_test]"
   ]
  },
  {
   "cell_type": "code",
   "execution_count": 62,
   "metadata": {
    "scrolled": true
   },
   "outputs": [
    {
     "ename": "NameError",
     "evalue": "name 'r_train' is not defined",
     "output_type": "error",
     "traceback": [
      "\u001b[0;31m---------------------------------------------------------------------------\u001b[0m",
      "\u001b[0;31mNameError\u001b[0m                                 Traceback (most recent call last)",
      "\u001b[0;32m<ipython-input-62-e47f3aa9a66a>\u001b[0m in \u001b[0;36m<module>\u001b[0;34m()\u001b[0m\n\u001b[1;32m      1\u001b[0m \u001b[0mnmf_resist\u001b[0m \u001b[0;34m=\u001b[0m \u001b[0mNMF\u001b[0m\u001b[0;34m(\u001b[0m\u001b[0mn_components\u001b[0m\u001b[0;34m=\u001b[0m\u001b[0;36m3\u001b[0m\u001b[0;34m)\u001b[0m\u001b[0;34m\u001b[0m\u001b[0m\n\u001b[0;32m----> 2\u001b[0;31m \u001b[0mnmf_resist\u001b[0m\u001b[0;34m.\u001b[0m\u001b[0mfit\u001b[0m\u001b[0;34m(\u001b[0m\u001b[0mr_train\u001b[0m\u001b[0;34m)\u001b[0m\u001b[0;34m\u001b[0m\u001b[0m\n\u001b[0m\u001b[1;32m      3\u001b[0m \u001b[0mW_r\u001b[0m \u001b[0;34m=\u001b[0m \u001b[0mnmf_resist\u001b[0m\u001b[0;34m.\u001b[0m\u001b[0mtransform\u001b[0m\u001b[0;34m(\u001b[0m\u001b[0mr_test\u001b[0m\u001b[0;34m)\u001b[0m\u001b[0;34m\u001b[0m\u001b[0m\n\u001b[1;32m      4\u001b[0m \u001b[0mH_r\u001b[0m \u001b[0;34m=\u001b[0m \u001b[0mnmf_resist\u001b[0m\u001b[0;34m.\u001b[0m\u001b[0mcomponents_\u001b[0m\u001b[0;34m\u001b[0m\u001b[0m\n\u001b[1;32m      5\u001b[0m \u001b[0mprint\u001b[0m\u001b[0;34m(\u001b[0m\u001b[0;34m'RSS = %.2f'\u001b[0m \u001b[0;34m%\u001b[0m \u001b[0mnmf\u001b[0m\u001b[0;34m.\u001b[0m\u001b[0mreconstruction_err_\u001b[0m\u001b[0;34m)\u001b[0m\u001b[0;34m\u001b[0m\u001b[0m\n",
      "\u001b[0;31mNameError\u001b[0m: name 'r_train' is not defined"
     ]
    }
   ],
   "source": [
    "nmf_resist = NMF(n_components=3)\n",
    "nmf_resist.fit(r_train)\n",
    "W_r = nmf_resist.transform(r_test)\n",
    "H_r = nmf_resist.components_\n",
    "print('RSS = %.2f' % nmf.reconstruction_err_)\n"
   ]
  },
  {
   "cell_type": "code",
   "execution_count": 63,
   "metadata": {},
   "outputs": [
    {
     "ename": "NameError",
     "evalue": "name 'W_r' is not defined",
     "output_type": "error",
     "traceback": [
      "\u001b[0;31m---------------------------------------------------------------------------\u001b[0m",
      "\u001b[0;31mNameError\u001b[0m                                 Traceback (most recent call last)",
      "\u001b[0;32m<ipython-input-63-93257dfaca83>\u001b[0m in \u001b[0;36m<module>\u001b[0;34m()\u001b[0m\n\u001b[0;32m----> 1\u001b[0;31m \u001b[0mW_r\u001b[0m\u001b[0;34m,\u001b[0m \u001b[0mH_r\u001b[0m \u001b[0;34m=\u001b[0m \u001b[0;34m(\u001b[0m\u001b[0mnp\u001b[0m\u001b[0;34m.\u001b[0m\u001b[0maround\u001b[0m\u001b[0;34m(\u001b[0m\u001b[0mx\u001b[0m\u001b[0;34m,\u001b[0m\u001b[0;36m2\u001b[0m\u001b[0;34m)\u001b[0m \u001b[0;32mfor\u001b[0m \u001b[0mx\u001b[0m \u001b[0;32min\u001b[0m \u001b[0;34m(\u001b[0m\u001b[0mW_r\u001b[0m\u001b[0;34m,\u001b[0m\u001b[0mH_r\u001b[0m\u001b[0;34m)\u001b[0m\u001b[0;34m)\u001b[0m\u001b[0;34m\u001b[0m\u001b[0m\n\u001b[0m\u001b[1;32m      2\u001b[0m \u001b[0mW_r\u001b[0m \u001b[0;34m=\u001b[0m \u001b[0mpd\u001b[0m\u001b[0;34m.\u001b[0m\u001b[0mDataFrame\u001b[0m\u001b[0;34m(\u001b[0m\u001b[0mW_r\u001b[0m\u001b[0;34m,\u001b[0m\u001b[0mindex\u001b[0m\u001b[0;34m=\u001b[0m\u001b[0mtest_rgenes\u001b[0m\u001b[0;34m)\u001b[0m\u001b[0;34m\u001b[0m\u001b[0m\n\u001b[1;32m      3\u001b[0m \u001b[0mH_r\u001b[0m \u001b[0;34m=\u001b[0m \u001b[0mpd\u001b[0m\u001b[0;34m.\u001b[0m\u001b[0mDataFrame\u001b[0m\u001b[0;34m(\u001b[0m\u001b[0mH_r\u001b[0m\u001b[0;34m,\u001b[0m\u001b[0mcolumns\u001b[0m\u001b[0;34m=\u001b[0m\u001b[0mnetwork_drugs\u001b[0m\u001b[0;34m.\u001b[0m\u001b[0mvalues\u001b[0m\u001b[0;34m(\u001b[0m\u001b[0;34m)\u001b[0m\u001b[0;34m)\u001b[0m\u001b[0;34m\u001b[0m\u001b[0m\n\u001b[1;32m      4\u001b[0m \u001b[0;34m\u001b[0m\u001b[0m\n\u001b[1;32m      5\u001b[0m \u001b[0mdisplay\u001b[0m\u001b[0;34m(\u001b[0m\u001b[0mW_r\u001b[0m\u001b[0;34m)\u001b[0m\u001b[0;34m\u001b[0m\u001b[0m\n",
      "\u001b[0;31mNameError\u001b[0m: name 'W_r' is not defined"
     ]
    }
   ],
   "source": [
    "W_r, H_r = (np.around(x,2) for x in (W_r,H_r))\n",
    "W_r = pd.DataFrame(W_r,index=test_rgenes)\n",
    "H_r = pd.DataFrame(H_r,columns=network_drugs.values())\n",
    "\n",
    "display(W_r) \n",
    "display(H_r)"
   ]
  },
  {
   "cell_type": "code",
   "execution_count": 64,
   "metadata": {},
   "outputs": [
    {
     "ename": "NameError",
     "evalue": "name 'indices' is not defined",
     "output_type": "error",
     "traceback": [
      "\u001b[0;31m---------------------------------------------------------------------------\u001b[0m",
      "\u001b[0;31mNameError\u001b[0m                                 Traceback (most recent call last)",
      "\u001b[0;32m<ipython-input-64-69e13cc35c38>\u001b[0m in \u001b[0;36m<module>\u001b[0;34m()\u001b[0m\n\u001b[0;32m----> 1\u001b[0;31m \u001b[0ms_train\u001b[0m\u001b[0;34m,\u001b[0m \u001b[0ms_test\u001b[0m\u001b[0;34m,\u001b[0m \u001b[0midxs_train\u001b[0m\u001b[0;34m,\u001b[0m \u001b[0midxs_test\u001b[0m \u001b[0;34m=\u001b[0m \u001b[0mtrain_test_split\u001b[0m\u001b[0;34m(\u001b[0m\u001b[0msensit_network_matrix\u001b[0m\u001b[0;34m,\u001b[0m \u001b[0mindices\u001b[0m\u001b[0;34m,\u001b[0m \u001b[0mtest_size\u001b[0m\u001b[0;34m=\u001b[0m\u001b[0;36m0.33\u001b[0m\u001b[0;34m,\u001b[0m \u001b[0mrandom_state\u001b[0m\u001b[0;34m=\u001b[0m\u001b[0;36m42\u001b[0m\u001b[0;34m)\u001b[0m\u001b[0;34m\u001b[0m\u001b[0m\n\u001b[0m",
      "\u001b[0;31mNameError\u001b[0m: name 'indices' is not defined"
     ]
    }
   ],
   "source": [
    "s_train, s_test, idxs_train, idxs_test = train_test_split(sensit_network_matrix, indices, test_size=0.33, random_state=42)"
   ]
  },
  {
   "cell_type": "code",
   "execution_count": 65,
   "metadata": {},
   "outputs": [
    {
     "ename": "NameError",
     "evalue": "name 'idxs_test' is not defined",
     "output_type": "error",
     "traceback": [
      "\u001b[0;31m---------------------------------------------------------------------------\u001b[0m",
      "\u001b[0;31mNameError\u001b[0m                                 Traceback (most recent call last)",
      "\u001b[0;32m<ipython-input-65-fc4c3e4b3dad>\u001b[0m in \u001b[0;36m<module>\u001b[0;34m()\u001b[0m\n\u001b[0;32m----> 1\u001b[0;31m \u001b[0mtest_sgenes\u001b[0m \u001b[0;34m=\u001b[0m \u001b[0;34m[\u001b[0m\u001b[0mnetwork_genes\u001b[0m\u001b[0;34m[\u001b[0m\u001b[0midx\u001b[0m\u001b[0;34m]\u001b[0m \u001b[0;32mfor\u001b[0m \u001b[0midx\u001b[0m \u001b[0;32min\u001b[0m \u001b[0midxs_test\u001b[0m\u001b[0;34m]\u001b[0m\u001b[0;34m\u001b[0m\u001b[0m\n\u001b[0m",
      "\u001b[0;31mNameError\u001b[0m: name 'idxs_test' is not defined"
     ]
    }
   ],
   "source": [
    "test_sgenes = [network_genes[idx] for idx in idxs_test]"
   ]
  },
  {
   "cell_type": "code",
   "execution_count": 66,
   "metadata": {},
   "outputs": [
    {
     "ename": "NameError",
     "evalue": "name 's_train' is not defined",
     "output_type": "error",
     "traceback": [
      "\u001b[0;31m---------------------------------------------------------------------------\u001b[0m",
      "\u001b[0;31mNameError\u001b[0m                                 Traceback (most recent call last)",
      "\u001b[0;32m<ipython-input-66-d64324b3ab0a>\u001b[0m in \u001b[0;36m<module>\u001b[0;34m()\u001b[0m\n\u001b[1;32m      1\u001b[0m \u001b[0mnmf_sensit\u001b[0m \u001b[0;34m=\u001b[0m \u001b[0mNMF\u001b[0m\u001b[0;34m(\u001b[0m\u001b[0mn_components\u001b[0m\u001b[0;34m=\u001b[0m\u001b[0;36m3\u001b[0m\u001b[0;34m)\u001b[0m\u001b[0;34m\u001b[0m\u001b[0m\n\u001b[0;32m----> 2\u001b[0;31m \u001b[0mnmf_sensit\u001b[0m\u001b[0;34m.\u001b[0m\u001b[0mfit\u001b[0m\u001b[0;34m(\u001b[0m\u001b[0ms_train\u001b[0m\u001b[0;34m)\u001b[0m\u001b[0;34m\u001b[0m\u001b[0m\n\u001b[0m\u001b[1;32m      3\u001b[0m \u001b[0mW_s\u001b[0m \u001b[0;34m=\u001b[0m \u001b[0mnmf_sensit\u001b[0m\u001b[0;34m.\u001b[0m\u001b[0mtransform\u001b[0m\u001b[0;34m(\u001b[0m\u001b[0ms_test\u001b[0m\u001b[0;34m)\u001b[0m\u001b[0;34m\u001b[0m\u001b[0m\n\u001b[1;32m      4\u001b[0m \u001b[0mH_s\u001b[0m \u001b[0;34m=\u001b[0m \u001b[0mnmf_sensit\u001b[0m\u001b[0;34m.\u001b[0m\u001b[0mcomponents_\u001b[0m\u001b[0;34m\u001b[0m\u001b[0m\n\u001b[1;32m      5\u001b[0m \u001b[0mprint\u001b[0m\u001b[0;34m(\u001b[0m\u001b[0;34m'RSS = %.2f'\u001b[0m \u001b[0;34m%\u001b[0m \u001b[0mnmf\u001b[0m\u001b[0;34m.\u001b[0m\u001b[0mreconstruction_err_\u001b[0m\u001b[0;34m)\u001b[0m\u001b[0;34m\u001b[0m\u001b[0m\n",
      "\u001b[0;31mNameError\u001b[0m: name 's_train' is not defined"
     ]
    }
   ],
   "source": [
    "nmf_sensit = NMF(n_components=3)\n",
    "nmf_sensit.fit(s_train)\n",
    "W_s = nmf_sensit.transform(s_test)\n",
    "H_s = nmf_sensit.components_\n",
    "print('RSS = %.2f' % nmf.reconstruction_err_)"
   ]
  },
  {
   "cell_type": "code",
   "execution_count": 67,
   "metadata": {},
   "outputs": [
    {
     "ename": "NameError",
     "evalue": "name 'W_s' is not defined",
     "output_type": "error",
     "traceback": [
      "\u001b[0;31m---------------------------------------------------------------------------\u001b[0m",
      "\u001b[0;31mNameError\u001b[0m                                 Traceback (most recent call last)",
      "\u001b[0;32m<ipython-input-67-ec8553930343>\u001b[0m in \u001b[0;36m<module>\u001b[0;34m()\u001b[0m\n\u001b[0;32m----> 1\u001b[0;31m \u001b[0mW_s\u001b[0m\u001b[0;34m,\u001b[0m \u001b[0mH_s\u001b[0m \u001b[0;34m=\u001b[0m \u001b[0;34m(\u001b[0m\u001b[0mnp\u001b[0m\u001b[0;34m.\u001b[0m\u001b[0maround\u001b[0m\u001b[0;34m(\u001b[0m\u001b[0mx\u001b[0m\u001b[0;34m,\u001b[0m\u001b[0;36m2\u001b[0m\u001b[0;34m)\u001b[0m \u001b[0;32mfor\u001b[0m \u001b[0mx\u001b[0m \u001b[0;32min\u001b[0m \u001b[0;34m(\u001b[0m\u001b[0mW_s\u001b[0m\u001b[0;34m,\u001b[0m\u001b[0mH_s\u001b[0m\u001b[0;34m)\u001b[0m\u001b[0;34m)\u001b[0m\u001b[0;34m\u001b[0m\u001b[0m\n\u001b[0m\u001b[1;32m      2\u001b[0m \u001b[0mW_s\u001b[0m \u001b[0;34m=\u001b[0m \u001b[0mpd\u001b[0m\u001b[0;34m.\u001b[0m\u001b[0mDataFrame\u001b[0m\u001b[0;34m(\u001b[0m\u001b[0mW_r\u001b[0m\u001b[0;34m,\u001b[0m\u001b[0mindex\u001b[0m\u001b[0;34m=\u001b[0m\u001b[0mtest_sgenes\u001b[0m\u001b[0;34m)\u001b[0m\u001b[0;34m\u001b[0m\u001b[0m\n\u001b[1;32m      3\u001b[0m \u001b[0mH_s\u001b[0m \u001b[0;34m=\u001b[0m \u001b[0mpd\u001b[0m\u001b[0;34m.\u001b[0m\u001b[0mDataFrame\u001b[0m\u001b[0;34m(\u001b[0m\u001b[0mH_r\u001b[0m\u001b[0;34m,\u001b[0m\u001b[0mcolumns\u001b[0m\u001b[0;34m=\u001b[0m\u001b[0mnetwork_drugs\u001b[0m\u001b[0;34m.\u001b[0m\u001b[0mvalues\u001b[0m\u001b[0;34m(\u001b[0m\u001b[0;34m)\u001b[0m\u001b[0;34m)\u001b[0m\u001b[0;34m\u001b[0m\u001b[0m\n\u001b[1;32m      4\u001b[0m \u001b[0;34m\u001b[0m\u001b[0m\n\u001b[1;32m      5\u001b[0m \u001b[0mdisplay\u001b[0m\u001b[0;34m(\u001b[0m\u001b[0mW_s\u001b[0m\u001b[0;34m)\u001b[0m\u001b[0;34m\u001b[0m\u001b[0m\n",
      "\u001b[0;31mNameError\u001b[0m: name 'W_s' is not defined"
     ]
    }
   ],
   "source": [
    "W_s, H_s = (np.around(x,2) for x in (W_s,H_s))\n",
    "W_s = pd.DataFrame(W_r,index=test_sgenes)\n",
    "H_s = pd.DataFrame(H_r,columns=network_drugs.values())\n",
    "\n",
    "display(W_s) \n",
    "display(H_s)"
   ]
  },
  {
   "cell_type": "code",
   "execution_count": 68,
   "metadata": {},
   "outputs": [
    {
     "name": "stdout",
     "output_type": "stream",
     "text": [
      "  (164, 9)\t1\n",
      "  (220, 9)\t1\n",
      "  (156, 23)\t1\n",
      "  (55, 26)\t1\n",
      "  (155, 26)\t1\n",
      "  (184, 26)\t1\n",
      "  (255, 26)\t1\n",
      "  (93, 35)\t1\n",
      "  (55, 35)\t1\n",
      "  (155, 35)\t1\n",
      "  (184, 35)\t1\n",
      "  (255, 35)\t1\n",
      "  (220, 37)\t1\n",
      "  (164, 39)\t1\n",
      "  (220, 39)\t1\n",
      "  (55, 43)\t1\n",
      "  (155, 43)\t1\n",
      "  (184, 43)\t1\n",
      "  (255, 43)\t1\n",
      "  (93, 44)\t1\n",
      "  (164, 50)\t1\n",
      "  (220, 50)\t1\n",
      "  (8, 61)\t1\n",
      "  (69, 61)\t1\n",
      "  (93, 61)\t1\n",
      "  (220, 61)\t1\n",
      "  (240, 61)\t1\n",
      "  (28, 66)\t1\n",
      "  (220, 66)\t1\n",
      "  (45, 66)\t1\n",
      "  (58, 66)\t1\n",
      "  (276, 66)\t1\n",
      "  (55, 66)\t1\n",
      "  (93, 66)\t3\n",
      "  (281, 66)\t3\n"
     ]
    }
   ],
   "source": [
    "print(sensit_network_matrix)"
   ]
  },
  {
   "cell_type": "code",
   "execution_count": null,
   "metadata": {
    "collapsed": true
   },
   "outputs": [],
   "source": []
  },
  {
   "cell_type": "code",
   "execution_count": null,
   "metadata": {
    "collapsed": true
   },
   "outputs": [],
   "source": []
  },
  {
   "cell_type": "code",
   "execution_count": null,
   "metadata": {
    "collapsed": true
   },
   "outputs": [],
   "source": []
  },
  {
   "cell_type": "code",
   "execution_count": 69,
   "metadata": {
    "collapsed": true
   },
   "outputs": [],
   "source": [
    "test = scs.coo_matrix(resist_network_matrix)"
   ]
  },
  {
   "cell_type": "code",
   "execution_count": 70,
   "metadata": {},
   "outputs": [
    {
     "data": {
      "text/plain": [
       "<327x70 sparse matrix of type '<class 'numpy.int64'>'\n",
       "\twith 140 stored elements in COOrdinate format>"
      ]
     },
     "execution_count": 70,
     "metadata": {},
     "output_type": "execute_result"
    }
   ],
   "source": [
    "test"
   ]
  },
  {
   "cell_type": "code",
   "execution_count": 71,
   "metadata": {
    "collapsed": true
   },
   "outputs": [],
   "source": [
    "mat_df=pd.DataFrame({'gene_id':test.row, 'drug_id':test.col, 'data':test.data})"
   ]
  },
  {
   "cell_type": "code",
   "execution_count": 72,
   "metadata": {},
   "outputs": [
    {
     "data": {
      "text/html": [
       "<div>\n",
       "<style>\n",
       "    .dataframe thead tr:only-child th {\n",
       "        text-align: right;\n",
       "    }\n",
       "\n",
       "    .dataframe thead th {\n",
       "        text-align: left;\n",
       "    }\n",
       "\n",
       "    .dataframe tbody tr th {\n",
       "        vertical-align: top;\n",
       "    }\n",
       "</style>\n",
       "<table border=\"1\" class=\"dataframe\">\n",
       "  <thead>\n",
       "    <tr style=\"text-align: right;\">\n",
       "      <th></th>\n",
       "      <th>data</th>\n",
       "      <th>drug_id</th>\n",
       "      <th>gene_id</th>\n",
       "    </tr>\n",
       "  </thead>\n",
       "  <tbody>\n",
       "    <tr>\n",
       "      <th>0</th>\n",
       "      <td>1</td>\n",
       "      <td>6</td>\n",
       "      <td>89</td>\n",
       "    </tr>\n",
       "    <tr>\n",
       "      <th>1</th>\n",
       "      <td>1</td>\n",
       "      <td>6</td>\n",
       "      <td>93</td>\n",
       "    </tr>\n",
       "    <tr>\n",
       "      <th>2</th>\n",
       "      <td>1</td>\n",
       "      <td>6</td>\n",
       "      <td>118</td>\n",
       "    </tr>\n",
       "    <tr>\n",
       "      <th>3</th>\n",
       "      <td>1</td>\n",
       "      <td>6</td>\n",
       "      <td>184</td>\n",
       "    </tr>\n",
       "    <tr>\n",
       "      <th>4</th>\n",
       "      <td>1</td>\n",
       "      <td>9</td>\n",
       "      <td>93</td>\n",
       "    </tr>\n",
       "  </tbody>\n",
       "</table>\n",
       "</div>"
      ],
      "text/plain": [
       "   data  drug_id  gene_id\n",
       "0     1        6       89\n",
       "1     1        6       93\n",
       "2     1        6      118\n",
       "3     1        6      184\n",
       "4     1        9       93"
      ]
     },
     "execution_count": 72,
     "metadata": {},
     "output_type": "execute_result"
    }
   ],
   "source": [
    "mat_df.head()"
   ]
  },
  {
   "cell_type": "code",
   "execution_count": 73,
   "metadata": {
    "collapsed": true
   },
   "outputs": [],
   "source": [
    "mat_df['log_data'] = np.log(mat_df['data']+1)"
   ]
  },
  {
   "cell_type": "code",
   "execution_count": 74,
   "metadata": {},
   "outputs": [
    {
     "data": {
      "text/html": [
       "<div>\n",
       "<style>\n",
       "    .dataframe thead tr:only-child th {\n",
       "        text-align: right;\n",
       "    }\n",
       "\n",
       "    .dataframe thead th {\n",
       "        text-align: left;\n",
       "    }\n",
       "\n",
       "    .dataframe tbody tr th {\n",
       "        vertical-align: top;\n",
       "    }\n",
       "</style>\n",
       "<table border=\"1\" class=\"dataframe\">\n",
       "  <thead>\n",
       "    <tr style=\"text-align: right;\">\n",
       "      <th></th>\n",
       "      <th>data</th>\n",
       "      <th>drug_id</th>\n",
       "      <th>gene_id</th>\n",
       "      <th>log_data</th>\n",
       "    </tr>\n",
       "  </thead>\n",
       "  <tbody>\n",
       "    <tr>\n",
       "      <th>0</th>\n",
       "      <td>1</td>\n",
       "      <td>6</td>\n",
       "      <td>89</td>\n",
       "      <td>0.693147</td>\n",
       "    </tr>\n",
       "    <tr>\n",
       "      <th>1</th>\n",
       "      <td>1</td>\n",
       "      <td>6</td>\n",
       "      <td>93</td>\n",
       "      <td>0.693147</td>\n",
       "    </tr>\n",
       "    <tr>\n",
       "      <th>2</th>\n",
       "      <td>1</td>\n",
       "      <td>6</td>\n",
       "      <td>118</td>\n",
       "      <td>0.693147</td>\n",
       "    </tr>\n",
       "    <tr>\n",
       "      <th>3</th>\n",
       "      <td>1</td>\n",
       "      <td>6</td>\n",
       "      <td>184</td>\n",
       "      <td>0.693147</td>\n",
       "    </tr>\n",
       "    <tr>\n",
       "      <th>4</th>\n",
       "      <td>1</td>\n",
       "      <td>9</td>\n",
       "      <td>93</td>\n",
       "      <td>0.693147</td>\n",
       "    </tr>\n",
       "  </tbody>\n",
       "</table>\n",
       "</div>"
      ],
      "text/plain": [
       "   data  drug_id  gene_id  log_data\n",
       "0     1        6       89  0.693147\n",
       "1     1        6       93  0.693147\n",
       "2     1        6      118  0.693147\n",
       "3     1        6      184  0.693147\n",
       "4     1        9       93  0.693147"
      ]
     },
     "execution_count": 74,
     "metadata": {},
     "output_type": "execute_result"
    }
   ],
   "source": [
    "mat_df.head()"
   ]
  },
  {
   "cell_type": "code",
   "execution_count": 75,
   "metadata": {
    "collapsed": true
   },
   "outputs": [],
   "source": [
    "import pyspark"
   ]
  },
  {
   "cell_type": "code",
   "execution_count": null,
   "metadata": {
    "collapsed": true
   },
   "outputs": [],
   "source": []
  },
  {
   "cell_type": "code",
   "execution_count": null,
   "metadata": {
    "collapsed": true
   },
   "outputs": [],
   "source": []
  },
  {
   "cell_type": "code",
   "execution_count": null,
   "metadata": {
    "collapsed": true
   },
   "outputs": [],
   "source": []
  },
  {
   "cell_type": "code",
   "execution_count": 76,
   "metadata": {
    "collapsed": true
   },
   "outputs": [],
   "source": [
    "from pyspark.sql import SparkSession"
   ]
  },
  {
   "cell_type": "code",
   "execution_count": 77,
   "metadata": {},
   "outputs": [
    {
     "name": "stdout",
     "output_type": "stream",
     "text": [
      "Requirement already satisfied: py4j in /Users/ale/anaconda2/envs/py36/lib/python3.6/site-packages\r\n"
     ]
    }
   ],
   "source": [
    "!source activate py36 && pip install py4j"
   ]
  },
  {
   "cell_type": "code",
   "execution_count": 78,
   "metadata": {},
   "outputs": [
    {
     "name": "stdout",
     "output_type": "stream",
     "text": [
      "# conda environments:\r\n",
      "#\r\n",
      "py36                  *  /Users/ale/anaconda2/envs/py36\r\n",
      "root                     /Users/ale/anaconda2\r\n",
      "\r\n"
     ]
    }
   ],
   "source": [
    "! conda env list"
   ]
  },
  {
   "cell_type": "code",
   "execution_count": 79,
   "metadata": {
    "collapsed": true
   },
   "outputs": [],
   "source": [
    "import pyspark.ml.recommendation"
   ]
  },
  {
   "cell_type": "code",
   "execution_count": 105,
   "metadata": {},
   "outputs": [
    {
     "name": "stderr",
     "output_type": "stream",
     "text": [
      "[autoreload of make_NMF_model failed: Traceback (most recent call last):\n",
      "  File \"/Users/ale/anaconda2/envs/py36/lib/python3.6/site-packages/IPython/extensions/autoreload.py\", line 247, in check\n",
      "    superreload(m, reload, self.old_objects)\n",
      "FileNotFoundError: [Errno 2] No such file or directory: 'resist_network_matrix.pickle'\n",
      "]\n"
     ]
    }
   ],
   "source": [
    "# Convert a Pandas DF to a Spark DF\n",
    "spark_df = spark.createDataFrame(mat_df) "
   ]
  },
  {
   "cell_type": "code",
   "execution_count": 81,
   "metadata": {
    "collapsed": true
   },
   "outputs": [],
   "source": [
    "# Create an untrained ALS model.\n",
    "als_model = pyspark.ml.recommendation.ALS(\n",
    "    itemCol='drug_id',\n",
    "    userCol='gene_id',\n",
    "    ratingCol='log_data',\n",
    "    nonnegative=True,    \n",
    "    #regParam=0.1,\n",
    "    #rank=10\n",
    "    ) "
   ]
  },
  {
   "cell_type": "code",
   "execution_count": 82,
   "metadata": {
    "collapsed": true
   },
   "outputs": [],
   "source": [
    "ranks = [1,3,5]"
   ]
  },
  {
   "cell_type": "code",
   "execution_count": 83,
   "metadata": {
    "collapsed": true
   },
   "outputs": [],
   "source": [
    "regs = [0, 0.01, 0.1]"
   ]
  },
  {
   "cell_type": "code",
   "execution_count": 84,
   "metadata": {
    "collapsed": true
   },
   "outputs": [],
   "source": [
    "train_df, test_df = spark_df.randomSplit([0.9, 0.1], seed=427471138)"
   ]
  },
  {
   "cell_type": "code",
   "execution_count": 85,
   "metadata": {},
   "outputs": [
    {
     "name": "stdout",
     "output_type": "stream",
     "text": [
      "+----+-------+-------+------------------+\n",
      "|data|drug_id|gene_id|          log_data|\n",
      "+----+-------+-------+------------------+\n",
      "|   1|      6|     89|0.6931471805599453|\n",
      "|   1|      6|     93|0.6931471805599453|\n",
      "|   1|      6|    118|0.6931471805599453|\n",
      "|   1|      6|    184|0.6931471805599453|\n",
      "|   1|      9|    220|0.6931471805599453|\n",
      "|   1|      9|    270|0.6931471805599453|\n",
      "|   1|     10|     93|0.6931471805599453|\n",
      "|   1|     10|    118|0.6931471805599453|\n",
      "|   1|     10|    184|0.6931471805599453|\n",
      "|   1|     11|     89|0.6931471805599453|\n",
      "|   1|     11|     93|0.6931471805599453|\n",
      "|   1|     11|    118|0.6931471805599453|\n",
      "|   1|     11|    184|0.6931471805599453|\n",
      "|   1|     14|     89|0.6931471805599453|\n",
      "|   1|     14|    118|0.6931471805599453|\n",
      "|   1|     14|    184|0.6931471805599453|\n",
      "|   1|     14|    220|0.6931471805599453|\n",
      "|   1|     14|    270|0.6931471805599453|\n",
      "|   1|     17|     93|0.6931471805599453|\n",
      "|   1|     18|     89|0.6931471805599453|\n",
      "+----+-------+-------+------------------+\n",
      "only showing top 20 rows\n",
      "\n"
     ]
    }
   ],
   "source": [
    "train_df.show()"
   ]
  },
  {
   "cell_type": "code",
   "execution_count": 106,
   "metadata": {},
   "outputs": [],
   "source": [
    "import make_NMF_model"
   ]
  },
  {
   "cell_type": "code",
   "execution_count": 87,
   "metadata": {},
   "outputs": [],
   "source": [
    "result =best_model_values(spark_df, ranks, regs)"
   ]
  },
  {
   "cell_type": "code",
   "execution_count": 397,
   "metadata": {},
   "outputs": [
    {
     "data": {
      "text/plain": [
       "[ALS_478aa3d8ddc5c91fa675,\n",
       " (3, 0.01, 0.2733855175710528),\n",
       " [[1, 0, 0.4635317437535244],\n",
       "  [1, 0.01, 0.44435625961742276],\n",
       "  [1, 0.1, 0.38059467541101827],\n",
       "  [3, 0, 0.8854088406266618],\n",
       "  [3, 0.01, 0.2733855175710528],\n",
       "  [3, 0.1, 0.3306016422392569],\n",
       "  [5, 0, 0.5563742541076536],\n",
       "  [5, 0.01, 0.3516767464055276],\n",
       "  [5, 0.1, 0.33233838556303896]]]"
      ]
     },
     "execution_count": 397,
     "metadata": {},
     "output_type": "execute_result"
    }
   ],
   "source": [
    "result"
   ]
  },
  {
   "cell_type": "code",
   "execution_count": 88,
   "metadata": {},
   "outputs": [
    {
     "name": "stdout",
     "output_type": "stream",
     "text": [
      "+----+-------+-------+------------------+\n",
      "|data|drug_id|gene_id|          log_data|\n",
      "+----+-------+-------+------------------+\n",
      "|   1|      6|     89|0.6931471805599453|\n",
      "|   1|      6|     93|0.6931471805599453|\n",
      "|   1|      6|    118|0.6931471805599453|\n",
      "|   1|      6|    184|0.6931471805599453|\n",
      "|   1|      9|     93|0.6931471805599453|\n",
      "|   1|      9|    220|0.6931471805599453|\n",
      "|   1|      9|    270|0.6931471805599453|\n",
      "|   1|     10|     89|0.6931471805599453|\n",
      "|   1|     10|     93|0.6931471805599453|\n",
      "|   1|     10|    118|0.6931471805599453|\n",
      "|   1|     10|    184|0.6931471805599453|\n",
      "|   1|     11|     89|0.6931471805599453|\n",
      "|   1|     11|     93|0.6931471805599453|\n",
      "|   1|     11|    118|0.6931471805599453|\n",
      "|   1|     11|    184|0.6931471805599453|\n",
      "|   1|     14|     89|0.6931471805599453|\n",
      "|   1|     14|    118|0.6931471805599453|\n",
      "|   1|     14|    184|0.6931471805599453|\n",
      "|   2|     14|     93|1.0986122886681098|\n",
      "|   1|     14|    220|0.6931471805599453|\n",
      "+----+-------+-------+------------------+\n",
      "only showing top 20 rows\n",
      "\n"
     ]
    }
   ],
   "source": [
    "spark_df.show()"
   ]
  },
  {
   "cell_type": "code",
   "execution_count": null,
   "metadata": {
    "collapsed": true
   },
   "outputs": [],
   "source": []
  },
  {
   "cell_type": "code",
   "execution_count": null,
   "metadata": {
    "collapsed": true
   },
   "outputs": [],
   "source": []
  },
  {
   "cell_type": "code",
   "execution_count": 377,
   "metadata": {
    "collapsed": true
   },
   "outputs": [],
   "source": [
    "from pyspark.sql.functions import isnan, col"
   ]
  },
  {
   "cell_type": "code",
   "execution_count": 378,
   "metadata": {
    "scrolled": true
   },
   "outputs": [
    {
     "name": "stdout",
     "output_type": "stream",
     "text": [
      "+----+-------+-------+------------------+----------+\n",
      "|data|drug_id|gene_id|          log_data|prediction|\n",
      "+----+-------+-------+------------------+----------+\n",
      "|   1|     28|     93|0.6931471805599453|  0.894587|\n",
      "|   1|     22|     93|0.6931471805599453|  0.894587|\n",
      "|   1|     61|      8|0.6931471805599453| 1.0155497|\n",
      "|   1|      9|     93|0.6931471805599453| 0.9001406|\n",
      "|   1|     17|    220|0.6931471805599453| 0.6573268|\n",
      "|   1|     17|    270|0.6931471805599453|0.34804526|\n",
      "|   1|     23|    220|0.6931471805599453| 0.9399785|\n",
      "|   1|     10|     89|0.6931471805599453| 0.6418624|\n",
      "|   1|     38|    118|0.6931471805599453|0.63482386|\n",
      "|   1|     25|    118|0.6931471805599453|0.63482386|\n",
      "|   1|     60|     93|0.6931471805599453|  0.894587|\n",
      "|   5|     66|     55| 1.791759469228055| 1.7088627|\n",
      "|   1|     66|      8|0.6931471805599453| 3.3708239|\n",
      "|   6|     66|    240|1.9459101490553132| 2.7589166|\n",
      "|   1|     67|     93|0.6931471805599453|0.75373226|\n",
      "|   1|     67|    270|0.6931471805599453| 0.3722536|\n",
      "|   1|     36|    118|0.6931471805599453|0.63482386|\n",
      "+----+-------+-------+------------------+----------+\n",
      "\n",
      "0.7032324413506386\n",
      "+----+-------+-------+------------------+----------+\n",
      "|data|drug_id|gene_id|          log_data|prediction|\n",
      "+----+-------+-------+------------------+----------+\n",
      "|   1|     28|     93|0.6931471805599453|0.88241637|\n",
      "|   1|     22|     93|0.6931471805599453|0.88241637|\n",
      "|   1|     61|      8|0.6931471805599453|0.73437166|\n",
      "|   1|      9|     93|0.6931471805599453|0.85936403|\n",
      "|   1|     17|    220|0.6931471805599453|0.62312025|\n",
      "|   1|     17|    270|0.6931471805599453|0.34417123|\n",
      "|   1|     23|    220|0.6931471805599453| 0.9086446|\n",
      "|   1|     10|     89|0.6931471805599453| 0.6123582|\n",
      "|   1|     38|    118|0.6931471805599453| 0.6060889|\n",
      "|   1|     25|    118|0.6931471805599453| 0.6060889|\n",
      "|   1|     60|     93|0.6931471805599453|0.88241637|\n",
      "|   5|     66|     55| 1.791759469228055| 1.4131907|\n",
      "|   1|     66|      8|0.6931471805599453|   2.14765|\n",
      "|   6|     66|    240|1.9459101490553132|  1.985451|\n",
      "|   1|     67|     93|0.6931471805599453| 0.7237563|\n",
      "|   1|     67|    270|0.6931471805599453|0.37051782|\n",
      "|   1|     36|    118|0.6931471805599453| 0.6060889|\n",
      "+----+-------+-------+------------------+----------+\n",
      "\n",
      "0.3988712212188568\n",
      "+----+-------+-------+------------------+----------+\n",
      "|data|drug_id|gene_id|          log_data|prediction|\n",
      "+----+-------+-------+------------------+----------+\n",
      "|   1|     28|     93|0.6931471805599453|  0.815206|\n",
      "|   1|     22|     93|0.6931471805599453|  0.815206|\n",
      "|   1|     61|      8|0.6931471805599453|0.69935524|\n",
      "|   1|      9|     93|0.6931471805599453| 0.7299281|\n",
      "|   1|     17|    220|0.6931471805599453|0.63071793|\n",
      "|   1|     17|    270|0.6931471805599453|0.36937943|\n",
      "|   1|     23|    220|0.6931471805599453|0.88560265|\n",
      "|   1|     10|     89|0.6931471805599453| 0.5448422|\n",
      "|   1|     38|    118|0.6931471805599453|0.54136825|\n",
      "|   1|     25|    118|0.6931471805599453|0.54136825|\n",
      "|   1|     60|     93|0.6931471805599453|  0.815206|\n",
      "|   5|     66|     55| 1.791759469228055| 1.0975772|\n",
      "|   1|     66|      8|0.6931471805599453| 1.6782042|\n",
      "|   6|     66|    240|1.9459101490553132| 1.5149887|\n",
      "|   1|     67|     93|0.6931471805599453| 0.6428649|\n",
      "|   1|     67|    270|0.6931471805599453|0.37258837|\n",
      "|   1|     36|    118|0.6931471805599453|0.54136825|\n",
      "+----+-------+-------+------------------+----------+\n",
      "\n",
      "0.34523302458150495\n",
      "+----+-------+-------+------------------+----------+\n",
      "|data|drug_id|gene_id|          log_data|prediction|\n",
      "+----+-------+-------+------------------+----------+\n",
      "|   1|     28|     93|0.6931471805599453| 0.7217986|\n",
      "|   1|     22|     93|0.6931471805599453| 0.7217986|\n",
      "|   1|     61|      8|0.6931471805599453|  0.759926|\n",
      "|   1|      9|     93|0.6931471805599453| 0.6833193|\n",
      "|   1|     17|    220|0.6931471805599453|  0.384656|\n",
      "|   1|     17|    270|0.6931471805599453|0.57364494|\n",
      "|   1|     23|    220|0.6931471805599453| 1.3967164|\n",
      "|   1|     10|     89|0.6931471805599453| 0.6903974|\n",
      "|   1|     38|    118|0.6931471805599453|0.68902147|\n",
      "|   1|     25|    118|0.6931471805599453|0.68902147|\n",
      "|   1|     60|     93|0.6931471805599453| 0.7217986|\n",
      "|   5|     66|     55| 1.791759469228055|  2.945328|\n",
      "|   1|     66|      8|0.6931471805599453| 2.5521479|\n",
      "|   6|     66|    240|1.9459101490553132| 1.8353245|\n",
      "|   1|     67|     93|0.6931471805599453| 0.3527903|\n",
      "|   1|     67|    270|0.6931471805599453|0.33042535|\n",
      "|   1|     36|    118|0.6931471805599453|0.68902147|\n",
      "+----+-------+-------+------------------+----------+\n",
      "\n",
      "0.5768972545660644\n",
      "+----+-------+-------+------------------+----------+\n",
      "|data|drug_id|gene_id|          log_data|prediction|\n",
      "+----+-------+-------+------------------+----------+\n",
      "|   1|     28|     93|0.6931471805599453|0.85498613|\n",
      "|   1|     22|     93|0.6931471805599453|0.85498613|\n",
      "|   1|     61|      8|0.6931471805599453|0.62711096|\n",
      "|   1|      9|     93|0.6931471805599453| 0.8401022|\n",
      "|   1|     17|    220|0.6931471805599453|0.45927045|\n",
      "|   1|     17|    270|0.6931471805599453|0.34019685|\n",
      "|   1|     23|    220|0.6931471805599453| 1.0441298|\n",
      "|   1|     10|     89|0.6931471805599453| 0.6756752|\n",
      "|   1|     38|    118|0.6931471805599453|0.67369866|\n",
      "|   1|     25|    118|0.6931471805599453|0.67369866|\n",
      "|   1|     60|     93|0.6931471805599453|0.85498613|\n",
      "|   5|     66|     55| 1.791759469228055|0.95354307|\n",
      "|   1|     66|      8|0.6931471805599453| 1.4459623|\n",
      "|   6|     66|    240|1.9459101490553132| 1.2782552|\n",
      "|   1|     67|     93|0.6931471805599453|0.43724075|\n",
      "|   1|     67|    270|0.6931471805599453|0.18145348|\n",
      "|   1|     36|    118|0.6931471805599453|0.67369866|\n",
      "+----+-------+-------+------------------+----------+\n",
      "\n",
      "0.37969431943436455\n",
      "+----+-------+-------+------------------+----------+\n",
      "|data|drug_id|gene_id|          log_data|prediction|\n",
      "+----+-------+-------+------------------+----------+\n",
      "|   1|     28|     93|0.6931471805599453| 0.7848428|\n",
      "|   1|     22|     93|0.6931471805599453| 0.7848428|\n",
      "|   1|     61|      8|0.6931471805599453|  0.672305|\n",
      "|   1|      9|     93|0.6931471805599453| 0.7924495|\n",
      "|   1|     17|    220|0.6931471805599453| 0.5513942|\n",
      "|   1|     17|    270|0.6931471805599453|0.33437878|\n",
      "|   1|     23|    220|0.6931471805599453| 0.7549075|\n",
      "|   1|     10|     89|0.6931471805599453|0.55268437|\n",
      "|   1|     38|    118|0.6931471805599453| 0.5493827|\n",
      "|   1|     25|    118|0.6931471805599453| 0.5493827|\n",
      "|   1|     60|     93|0.6931471805599453| 0.7848428|\n",
      "|   5|     66|     55| 1.791759469228055|  1.119983|\n",
      "|   1|     66|      8|0.6931471805599453| 1.3709823|\n",
      "|   6|     66|    240|1.9459101490553132| 1.3208951|\n",
      "|   1|     67|     93|0.6931471805599453| 0.5594342|\n",
      "|   1|     67|    270|0.6931471805599453|0.24440636|\n",
      "|   1|     36|    118|0.6931471805599453| 0.5493827|\n",
      "+----+-------+-------+------------------+----------+\n",
      "\n",
      "0.32453700430921306\n",
      "+----+-------+-------+------------------+-----------+\n",
      "|data|drug_id|gene_id|          log_data| prediction|\n",
      "+----+-------+-------+------------------+-----------+\n",
      "|   1|     28|     93|0.6931471805599453| 0.64249974|\n",
      "|   1|     22|     93|0.6931471805599453| 0.64249974|\n",
      "|   1|     61|      8|0.6931471805599453| 0.53772163|\n",
      "|   1|      9|     93|0.6931471805599453|  1.0346942|\n",
      "|   1|     17|    220|0.6931471805599453| 0.26677254|\n",
      "|   1|     17|    270|0.6931471805599453| 0.22552882|\n",
      "|   1|     23|    220|0.6931471805599453|  0.3187316|\n",
      "|   1|     10|     89|0.6931471805599453| 0.69196206|\n",
      "|   1|     38|    118|0.6931471805599453| 0.69334674|\n",
      "|   1|     25|    118|0.6931471805599453| 0.69334674|\n",
      "|   1|     60|     93|0.6931471805599453| 0.64249974|\n",
      "|   5|     66|     55| 1.791759469228055|  3.1095412|\n",
      "|   1|     66|      8|0.6931471805599453|  1.3725489|\n",
      "|   6|     66|    240|1.9459101490553132|  1.6120564|\n",
      "|   1|     67|     93|0.6931471805599453|0.075767756|\n",
      "|   1|     67|    270|0.6931471805599453|0.030970395|\n",
      "|   1|     36|    118|0.6931471805599453| 0.69334674|\n",
      "+----+-------+-------+------------------+-----------+\n",
      "\n",
      "0.4739314256428044\n",
      "+----+-------+-------+------------------+----------+\n",
      "|data|drug_id|gene_id|          log_data|prediction|\n",
      "+----+-------+-------+------------------+----------+\n",
      "|   1|     28|     93|0.6931471805599453| 0.6629158|\n",
      "|   1|     22|     93|0.6931471805599453| 0.6629158|\n",
      "|   1|     61|      8|0.6931471805599453| 0.5794986|\n",
      "|   1|      9|     93|0.6931471805599453| 0.7225971|\n",
      "|   1|     17|    220|0.6931471805599453| 0.4126319|\n",
      "|   1|     17|    270|0.6931471805599453| 0.2554496|\n",
      "|   1|     23|    220|0.6931471805599453| 0.6893439|\n",
      "|   1|     10|     89|0.6931471805599453| 0.6783618|\n",
      "|   1|     38|    118|0.6931471805599453|0.67732733|\n",
      "|   1|     25|    118|0.6931471805599453|0.67732733|\n",
      "|   1|     60|     93|0.6931471805599453| 0.6629158|\n",
      "|   5|     66|     55| 1.791759469228055| 1.5497143|\n",
      "|   1|     66|      8|0.6931471805599453| 1.6105597|\n",
      "|   6|     66|    240|1.9459101490553132|  1.611935|\n",
      "|   1|     67|     93|0.6931471805599453|0.37640873|\n",
      "|   1|     67|    270|0.6931471805599453|0.10537915|\n",
      "|   1|     36|    118|0.6931471805599453|0.67732733|\n",
      "+----+-------+-------+------------------+----------+\n",
      "\n"
     ]
    },
    {
     "name": "stdout",
     "output_type": "stream",
     "text": [
      "0.32041723371204117\n",
      "+----+-------+-------+------------------+----------+\n",
      "|data|drug_id|gene_id|          log_data|prediction|\n",
      "+----+-------+-------+------------------+----------+\n",
      "|   1|     28|     93|0.6931471805599453| 0.7856253|\n",
      "|   1|     22|     93|0.6931471805599453| 0.7856253|\n",
      "|   1|     61|      8|0.6931471805599453| 0.6472269|\n",
      "|   1|      9|     93|0.6931471805599453|0.79457855|\n",
      "|   1|     17|    220|0.6931471805599453| 0.5517129|\n",
      "|   1|     17|    270|0.6931471805599453|0.33528492|\n",
      "|   1|     23|    220|0.6931471805599453| 0.7558126|\n",
      "|   1|     10|     89|0.6931471805599453|0.55317736|\n",
      "|   1|     38|    118|0.6931471805599453|0.54988223|\n",
      "|   1|     25|    118|0.6931471805599453|0.54988223|\n",
      "|   1|     60|     93|0.6931471805599453| 0.7856253|\n",
      "|   5|     66|     55| 1.791759469228055|  1.162117|\n",
      "|   1|     66|      8|0.6931471805599453| 1.3641499|\n",
      "|   6|     66|    240|1.9459101490553132| 1.3320135|\n",
      "|   1|     67|     93|0.6931471805599453|   0.56066|\n",
      "|   1|     67|    270|0.6931471805599453|0.24516216|\n",
      "|   1|     36|    118|0.6931471805599453|0.54988223|\n",
      "+----+-------+-------+------------------+----------+\n",
      "\n",
      "0.3174366591588188\n"
     ]
    }
   ],
   "source": [
    "for rank in ranks:\n",
    "    for reg in regs:\n",
    "        als_model = pyspark.ml.recommendation.ALS(\n",
    "        itemCol='drug_id',\n",
    "        userCol='gene_id',\n",
    "        ratingCol='log_data',\n",
    "        nonnegative=True,    \n",
    "        regParam=reg,\n",
    "        rank=rank)\n",
    "        drug_recommender = als_model.fit(train_df)\n",
    "        drug_predictions = drug_recommender.transform(test_df)\n",
    "        drug_pred_not_null = drug_predictions.filter(~isnan(drug_predictions[\"prediction\"]))\n",
    "        drug_pred_not_null.show()\n",
    "        rmse_eval=RegressionEvaluator(metricName=\"rmse\",  labelCol='log_data', predictionCol='prediction')\n",
    "        print(rmse_eval.evaluate(drug_pred_not_null))"
   ]
  },
  {
   "cell_type": "code",
   "execution_count": null,
   "metadata": {
    "collapsed": true
   },
   "outputs": [],
   "source": []
  },
  {
   "cell_type": "code",
   "execution_count": 64,
   "metadata": {
    "collapsed": true
   },
   "outputs": [],
   "source": [
    "train_df, test_df = spark_df.randomSplit([0.8, 0.2], seed=427471138)"
   ]
  },
  {
   "cell_type": "code",
   "execution_count": 65,
   "metadata": {
    "collapsed": true
   },
   "outputs": [],
   "source": [
    "# Train the ALS model. We'll call the trained model `recommender`.\n",
    "drug_recommender = als_model.fit(train_df)"
   ]
  },
  {
   "cell_type": "code",
   "execution_count": 69,
   "metadata": {
    "collapsed": true
   },
   "outputs": [],
   "source": [
    "drug_predictions = drug_recommender.transform(test_df)"
   ]
  },
  {
   "cell_type": "code",
   "execution_count": 72,
   "metadata": {},
   "outputs": [
    {
     "data": {
      "text/html": [
       "<div>\n",
       "<style>\n",
       "    .dataframe thead tr:only-child th {\n",
       "        text-align: right;\n",
       "    }\n",
       "\n",
       "    .dataframe thead th {\n",
       "        text-align: left;\n",
       "    }\n",
       "\n",
       "    .dataframe tbody tr th {\n",
       "        vertical-align: top;\n",
       "    }\n",
       "</style>\n",
       "<table border=\"1\" class=\"dataframe\">\n",
       "  <thead>\n",
       "    <tr style=\"text-align: right;\">\n",
       "      <th></th>\n",
       "      <th>data</th>\n",
       "      <th>drug_id</th>\n",
       "      <th>gene_id</th>\n",
       "      <th>log_data</th>\n",
       "      <th>prediction</th>\n",
       "    </tr>\n",
       "  </thead>\n",
       "  <tbody>\n",
       "    <tr>\n",
       "      <th>0</th>\n",
       "      <td>1</td>\n",
       "      <td>28</td>\n",
       "      <td>93</td>\n",
       "      <td>0.693147</td>\n",
       "      <td>0.797905</td>\n",
       "    </tr>\n",
       "    <tr>\n",
       "      <th>1</th>\n",
       "      <td>1</td>\n",
       "      <td>22</td>\n",
       "      <td>93</td>\n",
       "      <td>0.693147</td>\n",
       "      <td>0.797811</td>\n",
       "    </tr>\n",
       "    <tr>\n",
       "      <th>2</th>\n",
       "      <td>1</td>\n",
       "      <td>22</td>\n",
       "      <td>118</td>\n",
       "      <td>0.693147</td>\n",
       "      <td>0.595789</td>\n",
       "    </tr>\n",
       "    <tr>\n",
       "      <th>3</th>\n",
       "      <td>1</td>\n",
       "      <td>47</td>\n",
       "      <td>220</td>\n",
       "      <td>0.693147</td>\n",
       "      <td>0.792780</td>\n",
       "    </tr>\n",
       "    <tr>\n",
       "      <th>4</th>\n",
       "      <td>1</td>\n",
       "      <td>47</td>\n",
       "      <td>270</td>\n",
       "      <td>0.693147</td>\n",
       "      <td>0.524112</td>\n",
       "    </tr>\n",
       "    <tr>\n",
       "      <th>5</th>\n",
       "      <td>1</td>\n",
       "      <td>6</td>\n",
       "      <td>89</td>\n",
       "      <td>0.693147</td>\n",
       "      <td>0.544803</td>\n",
       "    </tr>\n",
       "    <tr>\n",
       "      <th>6</th>\n",
       "      <td>1</td>\n",
       "      <td>37</td>\n",
       "      <td>93</td>\n",
       "      <td>0.693147</td>\n",
       "      <td>1.331818</td>\n",
       "    </tr>\n",
       "    <tr>\n",
       "      <th>7</th>\n",
       "      <td>1</td>\n",
       "      <td>61</td>\n",
       "      <td>8</td>\n",
       "      <td>0.693147</td>\n",
       "      <td>0.741295</td>\n",
       "    </tr>\n",
       "    <tr>\n",
       "      <th>8</th>\n",
       "      <td>1</td>\n",
       "      <td>9</td>\n",
       "      <td>93</td>\n",
       "      <td>0.693147</td>\n",
       "      <td>0.767219</td>\n",
       "    </tr>\n",
       "    <tr>\n",
       "      <th>9</th>\n",
       "      <td>1</td>\n",
       "      <td>9</td>\n",
       "      <td>220</td>\n",
       "      <td>0.693147</td>\n",
       "      <td>0.536341</td>\n",
       "    </tr>\n",
       "    <tr>\n",
       "      <th>10</th>\n",
       "      <td>1</td>\n",
       "      <td>17</td>\n",
       "      <td>220</td>\n",
       "      <td>0.693147</td>\n",
       "      <td>0.569245</td>\n",
       "    </tr>\n",
       "    <tr>\n",
       "      <th>11</th>\n",
       "      <td>1</td>\n",
       "      <td>17</td>\n",
       "      <td>270</td>\n",
       "      <td>0.693147</td>\n",
       "      <td>0.306204</td>\n",
       "    </tr>\n",
       "    <tr>\n",
       "      <th>12</th>\n",
       "      <td>1</td>\n",
       "      <td>35</td>\n",
       "      <td>8</td>\n",
       "      <td>0.693147</td>\n",
       "      <td>1.077091</td>\n",
       "    </tr>\n",
       "    <tr>\n",
       "      <th>13</th>\n",
       "      <td>1</td>\n",
       "      <td>35</td>\n",
       "      <td>184</td>\n",
       "      <td>0.693147</td>\n",
       "      <td>0.864611</td>\n",
       "    </tr>\n",
       "    <tr>\n",
       "      <th>14</th>\n",
       "      <td>1</td>\n",
       "      <td>59</td>\n",
       "      <td>93</td>\n",
       "      <td>0.693147</td>\n",
       "      <td>0.797905</td>\n",
       "    </tr>\n",
       "    <tr>\n",
       "      <th>15</th>\n",
       "      <td>1</td>\n",
       "      <td>23</td>\n",
       "      <td>220</td>\n",
       "      <td>0.693147</td>\n",
       "      <td>0.758351</td>\n",
       "    </tr>\n",
       "    <tr>\n",
       "      <th>16</th>\n",
       "      <td>1</td>\n",
       "      <td>63</td>\n",
       "      <td>89</td>\n",
       "      <td>0.693147</td>\n",
       "      <td>0.544803</td>\n",
       "    </tr>\n",
       "    <tr>\n",
       "      <th>17</th>\n",
       "      <td>1</td>\n",
       "      <td>10</td>\n",
       "      <td>89</td>\n",
       "      <td>0.693147</td>\n",
       "      <td>0.544803</td>\n",
       "    </tr>\n",
       "    <tr>\n",
       "      <th>18</th>\n",
       "      <td>1</td>\n",
       "      <td>38</td>\n",
       "      <td>118</td>\n",
       "      <td>0.693147</td>\n",
       "      <td>0.521247</td>\n",
       "    </tr>\n",
       "    <tr>\n",
       "      <th>19</th>\n",
       "      <td>1</td>\n",
       "      <td>38</td>\n",
       "      <td>89</td>\n",
       "      <td>0.693147</td>\n",
       "      <td>0.519821</td>\n",
       "    </tr>\n",
       "    <tr>\n",
       "      <th>20</th>\n",
       "      <td>1</td>\n",
       "      <td>25</td>\n",
       "      <td>118</td>\n",
       "      <td>0.693147</td>\n",
       "      <td>0.520954</td>\n",
       "    </tr>\n",
       "    <tr>\n",
       "      <th>21</th>\n",
       "      <td>1</td>\n",
       "      <td>25</td>\n",
       "      <td>184</td>\n",
       "      <td>0.693147</td>\n",
       "      <td>0.523733</td>\n",
       "    </tr>\n",
       "    <tr>\n",
       "      <th>22</th>\n",
       "      <td>1</td>\n",
       "      <td>60</td>\n",
       "      <td>93</td>\n",
       "      <td>0.693147</td>\n",
       "      <td>0.797905</td>\n",
       "    </tr>\n",
       "    <tr>\n",
       "      <th>23</th>\n",
       "      <td>1</td>\n",
       "      <td>14</td>\n",
       "      <td>184</td>\n",
       "      <td>0.693147</td>\n",
       "      <td>0.625962</td>\n",
       "    </tr>\n",
       "    <tr>\n",
       "      <th>24</th>\n",
       "      <td>1</td>\n",
       "      <td>42</td>\n",
       "      <td>167</td>\n",
       "      <td>0.693147</td>\n",
       "      <td>NaN</td>\n",
       "    </tr>\n",
       "    <tr>\n",
       "      <th>25</th>\n",
       "      <td>1</td>\n",
       "      <td>66</td>\n",
       "      <td>218</td>\n",
       "      <td>0.693147</td>\n",
       "      <td>NaN</td>\n",
       "    </tr>\n",
       "    <tr>\n",
       "      <th>26</th>\n",
       "      <td>5</td>\n",
       "      <td>66</td>\n",
       "      <td>55</td>\n",
       "      <td>1.791759</td>\n",
       "      <td>1.067325</td>\n",
       "    </tr>\n",
       "    <tr>\n",
       "      <th>27</th>\n",
       "      <td>1</td>\n",
       "      <td>66</td>\n",
       "      <td>8</td>\n",
       "      <td>0.693147</td>\n",
       "      <td>1.840142</td>\n",
       "    </tr>\n",
       "    <tr>\n",
       "      <th>28</th>\n",
       "      <td>6</td>\n",
       "      <td>66</td>\n",
       "      <td>240</td>\n",
       "      <td>1.945910</td>\n",
       "      <td>1.444829</td>\n",
       "    </tr>\n",
       "    <tr>\n",
       "      <th>29</th>\n",
       "      <td>1</td>\n",
       "      <td>46</td>\n",
       "      <td>118</td>\n",
       "      <td>0.693147</td>\n",
       "      <td>0.546503</td>\n",
       "    </tr>\n",
       "    <tr>\n",
       "      <th>30</th>\n",
       "      <td>1</td>\n",
       "      <td>67</td>\n",
       "      <td>93</td>\n",
       "      <td>0.693147</td>\n",
       "      <td>0.622483</td>\n",
       "    </tr>\n",
       "    <tr>\n",
       "      <th>31</th>\n",
       "      <td>1</td>\n",
       "      <td>67</td>\n",
       "      <td>270</td>\n",
       "      <td>0.693147</td>\n",
       "      <td>0.233014</td>\n",
       "    </tr>\n",
       "    <tr>\n",
       "      <th>32</th>\n",
       "      <td>1</td>\n",
       "      <td>36</td>\n",
       "      <td>118</td>\n",
       "      <td>0.693147</td>\n",
       "      <td>0.521247</td>\n",
       "    </tr>\n",
       "    <tr>\n",
       "      <th>33</th>\n",
       "      <td>1</td>\n",
       "      <td>36</td>\n",
       "      <td>89</td>\n",
       "      <td>0.693147</td>\n",
       "      <td>0.519821</td>\n",
       "    </tr>\n",
       "  </tbody>\n",
       "</table>\n",
       "</div>"
      ],
      "text/plain": [
       "    data  drug_id  gene_id  log_data  prediction\n",
       "0      1       28       93  0.693147    0.797905\n",
       "1      1       22       93  0.693147    0.797811\n",
       "2      1       22      118  0.693147    0.595789\n",
       "3      1       47      220  0.693147    0.792780\n",
       "4      1       47      270  0.693147    0.524112\n",
       "5      1        6       89  0.693147    0.544803\n",
       "6      1       37       93  0.693147    1.331818\n",
       "7      1       61        8  0.693147    0.741295\n",
       "8      1        9       93  0.693147    0.767219\n",
       "9      1        9      220  0.693147    0.536341\n",
       "10     1       17      220  0.693147    0.569245\n",
       "11     1       17      270  0.693147    0.306204\n",
       "12     1       35        8  0.693147    1.077091\n",
       "13     1       35      184  0.693147    0.864611\n",
       "14     1       59       93  0.693147    0.797905\n",
       "15     1       23      220  0.693147    0.758351\n",
       "16     1       63       89  0.693147    0.544803\n",
       "17     1       10       89  0.693147    0.544803\n",
       "18     1       38      118  0.693147    0.521247\n",
       "19     1       38       89  0.693147    0.519821\n",
       "20     1       25      118  0.693147    0.520954\n",
       "21     1       25      184  0.693147    0.523733\n",
       "22     1       60       93  0.693147    0.797905\n",
       "23     1       14      184  0.693147    0.625962\n",
       "24     1       42      167  0.693147         NaN\n",
       "25     1       66      218  0.693147         NaN\n",
       "26     5       66       55  1.791759    1.067325\n",
       "27     1       66        8  0.693147    1.840142\n",
       "28     6       66      240  1.945910    1.444829\n",
       "29     1       46      118  0.693147    0.546503\n",
       "30     1       67       93  0.693147    0.622483\n",
       "31     1       67      270  0.693147    0.233014\n",
       "32     1       36      118  0.693147    0.521247\n",
       "33     1       36       89  0.693147    0.519821"
      ]
     },
     "execution_count": 72,
     "metadata": {},
     "output_type": "execute_result"
    }
   ],
   "source": [
    "drug_predictions.toPandas()"
   ]
  },
  {
   "cell_type": "code",
   "execution_count": 75,
   "metadata": {},
   "outputs": [
    {
     "name": "stdout",
     "output_type": "stream",
     "text": [
      "+---+--------------------+\n",
      "| id|            features|\n",
      "+---+--------------------+\n",
      "| 10|[0.31725955, 0.03...|\n",
      "| 30|[0.100674726, 0.2...|\n",
      "| 60|[0.33753693, 0.04...|\n",
      "| 11|[0.32478464, 0.03...|\n",
      "| 31|[0.2961194, 0.086...|\n",
      "| 61|[0.027094483, 0.2...|\n",
      "| 22|[0.33747894, 0.04...|\n",
      "| 42|[0.0, 0.0, 0.1109...|\n",
      "| 52|[0.32478464, 0.03...|\n",
      "| 62|[0.32478464, 0.03...|\n",
      "| 23|[0.32851702, 0.05...|\n",
      "| 63|[0.31725955, 0.03...|\n",
      "| 14|[0.31998923, 0.03...|\n",
      "| 25|[0.2950566, 0.034...|\n",
      "| 35|[0.37945074, 0.0,...|\n",
      "| 55|[0.17510338, 0.11...|\n",
      "|  6|[0.31725955, 0.03...|\n",
      "| 26|[0.3186632, 0.024...|\n",
      "| 36|[0.2970438, 0.036...|\n",
      "| 46|[0.3168087, 0.034...|\n",
      "+---+--------------------+\n",
      "only showing top 20 rows\n",
      "\n"
     ]
    }
   ],
   "source": [
    "drug_recommender.itemFactors.show()"
   ]
  },
  {
   "cell_type": "code",
   "execution_count": 82,
   "metadata": {},
   "outputs": [
    {
     "data": {
      "text/plain": [
       "DataFrame[summary: string, data: string, drug_id: string, gene_id: string, log_data: string, prediction: string]"
      ]
     },
     "execution_count": 82,
     "metadata": {},
     "output_type": "execute_result"
    }
   ],
   "source": [
    "drug_predictions.describe()"
   ]
  },
  {
   "cell_type": "code",
   "execution_count": 218,
   "metadata": {
    "collapsed": true
   },
   "outputs": [],
   "source": [
    "# Create an untrained ALS model.\n",
    "als_model = pyspark.ml.recommendation.ALS(\n",
    "    #itemCol='drug_id',\n",
    "    #userCol='gene_id',\n",
    "    #ratingCol='log_data',\n",
    "    #nonnegative=True,    \n",
    "    #regParam=0.1,\n",
    "    #rank=10\n",
    "    ) "
   ]
  },
  {
   "cell_type": "code",
   "execution_count": 150,
   "metadata": {
    "collapsed": true
   },
   "outputs": [],
   "source": [
    "# Train the ALS model. We'll call the trained model `recommender`.\n",
    "drug_recommender = als_model.fit(spark_df)"
   ]
  },
  {
   "cell_type": "code",
   "execution_count": 219,
   "metadata": {
    "collapsed": true
   },
   "outputs": [],
   "source": [
    "from pyspark.ml import Pipeline"
   ]
  },
  {
   "cell_type": "code",
   "execution_count": 220,
   "metadata": {
    "collapsed": true
   },
   "outputs": [],
   "source": [
    "from pyspark.ml.tuning import CrossValidator, ParamGridBuilder"
   ]
  },
  {
   "cell_type": "code",
   "execution_count": 221,
   "metadata": {
    "collapsed": true
   },
   "outputs": [],
   "source": [
    "from pyspark.ml.evaluation import RegressionEvaluator"
   ]
  },
  {
   "cell_type": "code",
   "execution_count": 222,
   "metadata": {
    "collapsed": true
   },
   "outputs": [],
   "source": [
    "rmse_eval=RegressionEvaluator(metricName=\"rmse\", labelCol='log_data', predictionCol='prediction')"
   ]
  },
  {
   "cell_type": "code",
   "execution_count": 223,
   "metadata": {
    "collapsed": true
   },
   "outputs": [],
   "source": [
    "pipeline = Pipeline(stages=[als_model])"
   ]
  },
  {
   "cell_type": "code",
   "execution_count": 225,
   "metadata": {
    "collapsed": true
   },
   "outputs": [],
   "source": [
    "paramGrid = (ParamGridBuilder()\n",
    "             .addGrid(als_model.itemCol,['drug_id'])\n",
    "             .addGrid(als_model.userCol,['gene_id'])\n",
    "             .addGrid(als_model.ratingCol,['log_data'])\n",
    "             .addGrid(als_model.rank, [1,2,3])\n",
    "             .addGrid(als_model.regParam, [1, 0.1])#, 0.01, 0.001, 0.0001, 0])\n",
    "             .build())\n",
    "#.addGrid(drug_recommender.regParam, [1, 0.1, 0.01, 0.001, 0.0001, 0])"
   ]
  },
  {
   "cell_type": "code",
   "execution_count": 226,
   "metadata": {
    "collapsed": true
   },
   "outputs": [],
   "source": [
    "crossval = CrossValidator(estimator=pipeline,\n",
    "                          estimatorParamMaps=paramGrid,\n",
    "                          evaluator=rmse_eval,\n",
    "                          numFolds=5)"
   ]
  },
  {
   "cell_type": "code",
   "execution_count": 228,
   "metadata": {
    "collapsed": true
   },
   "outputs": [],
   "source": [
    "cvModel = crossval.fit(spark_df)"
   ]
  },
  {
   "cell_type": "code",
   "execution_count": 229,
   "metadata": {},
   "outputs": [
    {
     "data": {
      "text/plain": [
       "PipelineModel_4c15b0299c5283f5e272"
      ]
     },
     "execution_count": 229,
     "metadata": {},
     "output_type": "execute_result"
    }
   ],
   "source": [
    "cvModel.bestModel"
   ]
  },
  {
   "cell_type": "code",
   "execution_count": 230,
   "metadata": {},
   "outputs": [
    {
     "data": {
      "text/plain": [
       "1"
      ]
     },
     "execution_count": 230,
     "metadata": {},
     "output_type": "execute_result"
    }
   ],
   "source": [
    "bestmodel.rank"
   ]
  },
  {
   "cell_type": "code",
   "execution_count": 232,
   "metadata": {},
   "outputs": [
    {
     "ename": "Py4JError",
     "evalue": "An error occurred while calling o7686.getRegParam. Trace:\npy4j.Py4JException: Method getRegParam([]) does not exist\n\tat py4j.reflection.ReflectionEngine.getMethod(ReflectionEngine.java:318)\n\tat py4j.reflection.ReflectionEngine.getMethod(ReflectionEngine.java:326)\n\tat py4j.Gateway.invoke(Gateway.java:272)\n\tat py4j.commands.AbstractCommand.invokeMethod(AbstractCommand.java:132)\n\tat py4j.commands.CallCommand.execute(CallCommand.java:79)\n\tat py4j.GatewayConnection.run(GatewayConnection.java:214)\n\tat java.lang.Thread.run(Thread.java:748)\n\n",
     "output_type": "error",
     "traceback": [
      "\u001b[0;31m---------------------------------------------------------------------------\u001b[0m",
      "\u001b[0;31mPy4JError\u001b[0m                                 Traceback (most recent call last)",
      "\u001b[0;32m<ipython-input-232-6e9e7e8b6c1e>\u001b[0m in \u001b[0;36m<module>\u001b[0;34m()\u001b[0m\n\u001b[0;32m----> 1\u001b[0;31m \u001b[0mbestmodel\u001b[0m\u001b[0;34m.\u001b[0m\u001b[0m_java_obj\u001b[0m\u001b[0;34m.\u001b[0m\u001b[0mgetRegParam\u001b[0m\u001b[0;34m(\u001b[0m\u001b[0;34m)\u001b[0m\u001b[0;34m\u001b[0m\u001b[0m\n\u001b[0m",
      "\u001b[0;32m/usr/local/Cellar/apache-spark/2.2.0/libexec/python/lib/py4j-0.10.4-src.zip/py4j/java_gateway.py\u001b[0m in \u001b[0;36m__call__\u001b[0;34m(self, *args)\u001b[0m\n\u001b[1;32m   1131\u001b[0m         \u001b[0manswer\u001b[0m \u001b[0;34m=\u001b[0m \u001b[0mself\u001b[0m\u001b[0;34m.\u001b[0m\u001b[0mgateway_client\u001b[0m\u001b[0;34m.\u001b[0m\u001b[0msend_command\u001b[0m\u001b[0;34m(\u001b[0m\u001b[0mcommand\u001b[0m\u001b[0;34m)\u001b[0m\u001b[0;34m\u001b[0m\u001b[0m\n\u001b[1;32m   1132\u001b[0m         return_value = get_return_value(\n\u001b[0;32m-> 1133\u001b[0;31m             answer, self.gateway_client, self.target_id, self.name)\n\u001b[0m\u001b[1;32m   1134\u001b[0m \u001b[0;34m\u001b[0m\u001b[0m\n\u001b[1;32m   1135\u001b[0m         \u001b[0;32mfor\u001b[0m \u001b[0mtemp_arg\u001b[0m \u001b[0;32min\u001b[0m \u001b[0mtemp_args\u001b[0m\u001b[0;34m:\u001b[0m\u001b[0;34m\u001b[0m\u001b[0m\n",
      "\u001b[0;32m/usr/local/Cellar/apache-spark/2.2.0/libexec/python/pyspark/sql/utils.py\u001b[0m in \u001b[0;36mdeco\u001b[0;34m(*a, **kw)\u001b[0m\n\u001b[1;32m     61\u001b[0m     \u001b[0;32mdef\u001b[0m \u001b[0mdeco\u001b[0m\u001b[0;34m(\u001b[0m\u001b[0;34m*\u001b[0m\u001b[0ma\u001b[0m\u001b[0;34m,\u001b[0m \u001b[0;34m**\u001b[0m\u001b[0mkw\u001b[0m\u001b[0;34m)\u001b[0m\u001b[0;34m:\u001b[0m\u001b[0;34m\u001b[0m\u001b[0m\n\u001b[1;32m     62\u001b[0m         \u001b[0;32mtry\u001b[0m\u001b[0;34m:\u001b[0m\u001b[0;34m\u001b[0m\u001b[0m\n\u001b[0;32m---> 63\u001b[0;31m             \u001b[0;32mreturn\u001b[0m \u001b[0mf\u001b[0m\u001b[0;34m(\u001b[0m\u001b[0;34m*\u001b[0m\u001b[0ma\u001b[0m\u001b[0;34m,\u001b[0m \u001b[0;34m**\u001b[0m\u001b[0mkw\u001b[0m\u001b[0;34m)\u001b[0m\u001b[0;34m\u001b[0m\u001b[0m\n\u001b[0m\u001b[1;32m     64\u001b[0m         \u001b[0;32mexcept\u001b[0m \u001b[0mpy4j\u001b[0m\u001b[0;34m.\u001b[0m\u001b[0mprotocol\u001b[0m\u001b[0;34m.\u001b[0m\u001b[0mPy4JJavaError\u001b[0m \u001b[0;32mas\u001b[0m \u001b[0me\u001b[0m\u001b[0;34m:\u001b[0m\u001b[0;34m\u001b[0m\u001b[0m\n\u001b[1;32m     65\u001b[0m             \u001b[0ms\u001b[0m \u001b[0;34m=\u001b[0m \u001b[0me\u001b[0m\u001b[0;34m.\u001b[0m\u001b[0mjava_exception\u001b[0m\u001b[0;34m.\u001b[0m\u001b[0mtoString\u001b[0m\u001b[0;34m(\u001b[0m\u001b[0;34m)\u001b[0m\u001b[0;34m\u001b[0m\u001b[0m\n",
      "\u001b[0;32m/usr/local/Cellar/apache-spark/2.2.0/libexec/python/lib/py4j-0.10.4-src.zip/py4j/protocol.py\u001b[0m in \u001b[0;36mget_return_value\u001b[0;34m(answer, gateway_client, target_id, name)\u001b[0m\n\u001b[1;32m    321\u001b[0m                 raise Py4JError(\n\u001b[1;32m    322\u001b[0m                     \u001b[0;34m\"An error occurred while calling {0}{1}{2}. Trace:\\n{3}\\n\"\u001b[0m\u001b[0;34m.\u001b[0m\u001b[0;34m\u001b[0m\u001b[0m\n\u001b[0;32m--> 323\u001b[0;31m                     format(target_id, \".\", name, value))\n\u001b[0m\u001b[1;32m    324\u001b[0m         \u001b[0;32melse\u001b[0m\u001b[0;34m:\u001b[0m\u001b[0;34m\u001b[0m\u001b[0m\n\u001b[1;32m    325\u001b[0m             raise Py4JError(\n",
      "\u001b[0;31mPy4JError\u001b[0m: An error occurred while calling o7686.getRegParam. Trace:\npy4j.Py4JException: Method getRegParam([]) does not exist\n\tat py4j.reflection.ReflectionEngine.getMethod(ReflectionEngine.java:318)\n\tat py4j.reflection.ReflectionEngine.getMethod(ReflectionEngine.java:326)\n\tat py4j.Gateway.invoke(Gateway.java:272)\n\tat py4j.commands.AbstractCommand.invokeMethod(AbstractCommand.java:132)\n\tat py4j.commands.CallCommand.execute(CallCommand.java:79)\n\tat py4j.GatewayConnection.run(GatewayConnection.java:214)\n\tat java.lang.Thread.run(Thread.java:748)\n\n"
     ]
    }
   ],
   "source": [
    "bestmodel._java_obj.getRegParam()"
   ]
  },
  {
   "cell_type": "code",
   "execution_count": null,
   "metadata": {
    "collapsed": true
   },
   "outputs": [],
   "source": []
  },
  {
   "cell_type": "code",
   "execution_count": null,
   "metadata": {
    "collapsed": true
   },
   "outputs": [],
   "source": []
  },
  {
   "cell_type": "code",
   "execution_count": null,
   "metadata": {
    "collapsed": true
   },
   "outputs": [],
   "source": []
  },
  {
   "cell_type": "code",
   "execution_count": 106,
   "metadata": {
    "collapsed": true
   },
   "outputs": [],
   "source": [
    "def process_genes():\n",
    "    genes = input('For what genes would you like to get drug interaction information? ')\n",
    "    gene_list=genes.split(', ')\n",
    "    processed_gene_list = []\n",
    "    for id in gene_list:\n",
    "        try: \n",
    "            gene_dict[id]\n",
    "            processed_gene_list.append(gene_dict[id])\n",
    "        except KeyError:\n",
    "            print(\"Gene: {} not in list\".format(id)) \n",
    "    return processed_gene_list"
   ]
  },
  {
   "cell_type": "code",
   "execution_count": 107,
   "metadata": {
    "collapsed": true
   },
   "outputs": [],
   "source": [
    "inverse_network_genes = dict((v, k) for k, v in network_genes.items())"
   ]
  },
  {
   "cell_type": "code",
   "execution_count": 108,
   "metadata": {
    "collapsed": true
   },
   "outputs": [],
   "source": [
    "inverse_network_drugs = dict((v, k) for k, v in network_drugs.items())"
   ]
  },
  {
   "cell_type": "code",
   "execution_count": 109,
   "metadata": {
    "scrolled": true
   },
   "outputs": [
    {
     "data": {
      "text/plain": [
       "8"
      ]
     },
     "execution_count": 109,
     "metadata": {},
     "output_type": "execute_result"
    }
   ],
   "source": [
    "inverse_network_genes['#akt1#']"
   ]
  },
  {
   "cell_type": "code",
   "execution_count": 110,
   "metadata": {},
   "outputs": [
    {
     "data": {
      "text/plain": [
       "66"
      ]
     },
     "execution_count": 110,
     "metadata": {},
     "output_type": "execute_result"
    }
   ],
   "source": [
    "inverse_network_drugs['#trastuzumab#']"
   ]
  },
  {
   "cell_type": "code",
   "execution_count": 349,
   "metadata": {
    "collapsed": true
   },
   "outputs": [],
   "source": [
    "import graph_maker"
   ]
  },
  {
   "cell_type": "code",
   "execution_count": 302,
   "metadata": {},
   "outputs": [
    {
     "name": "stdout",
     "output_type": "stream",
     "text": [
      "For what genes would you like to get drug interaction information?:, enter \"all\" for full network  all\n",
      "if you are interested on drug resistance evidence press \"r\"if you are interested on drug resistance evidence press \"s\"if you are interested on general interactions press \"g\" if you are interested on all of above interactions press \"a\" r\n",
      "\n",
      " no drug interactions with gene #acadl# were found in our database\n",
      "\n",
      " no drug interactions with gene #ackr3# were found in our database\n",
      "\n",
      " no drug interactions with gene #acpp# were found in our database\n",
      "\n",
      " no drug interactions with gene #ado# were found in our database\n",
      "\n",
      " no drug interactions with gene #agfg1# were found in our database\n",
      "\n",
      " no drug interactions with gene #aicda# were found in our database\n",
      "\n",
      " no drug interactions with gene #airn# were found in our database\n",
      "\n",
      " no drug interactions with gene #alb# were found in our database\n",
      "\n",
      " no drug interactions with gene #alpi# were found in our database\n",
      "\n",
      " no drug interactions with gene #alyref# were found in our database\n",
      "\n",
      " no drug interactions with gene #amh# were found in our database\n",
      "\n",
      " no drug interactions with gene #ar# were found in our database\n",
      "\n",
      " no drug interactions with gene #arc# were found in our database\n",
      "\n",
      " no drug interactions with gene #areg# were found in our database\n",
      "\n",
      " no drug interactions with gene #arhgef7# were found in our database\n",
      "\n",
      " no drug interactions with gene #armc9# were found in our database\n",
      "\n",
      " no drug interactions with gene #atg12# were found in our database\n",
      "\n",
      " no drug interactions with gene #atm# were found in our database\n",
      "\n",
      " no drug interactions with gene #atr# were found in our database\n",
      "\n",
      " no drug interactions with gene #bank1# were found in our database\n",
      "\n",
      " no drug interactions with gene #bax# were found in our database\n",
      "\n",
      " no drug interactions with gene #bbc3# were found in our database\n",
      "\n",
      " no drug interactions with gene #bcl2# were found in our database\n",
      "\n",
      " no drug interactions with gene #bcs1l# were found in our database\n",
      "\n",
      " no drug interactions with gene #bid# were found in our database\n",
      "\n",
      " no drug interactions with gene #bivm# were found in our database\n",
      "\n",
      " no drug interactions with gene #bmi1# were found in our database\n",
      "\n",
      " no drug interactions with gene #bmp7# were found in our database\n",
      "\n",
      " no drug interactions with gene #bpifa4p# were found in our database\n",
      "\n",
      " no drug interactions with gene #braf# were found in our database\n",
      "\n",
      " no drug interactions with gene #brca1# were found in our database\n",
      "\n",
      " no drug interactions with gene #brca2# were found in our database\n",
      "\n",
      " no drug interactions with gene #brd2# were found in our database\n",
      "\n",
      " no drug interactions with gene #brip1# were found in our database\n",
      "\n",
      " no drug interactions with gene #c1qbp# were found in our database\n",
      "\n",
      " no drug interactions with gene #ca1# were found in our database\n",
      "\n",
      " no drug interactions with gene #cat# were found in our database\n",
      "\n",
      " no drug interactions with gene #ccnd1# were found in our database\n",
      "\n",
      " no drug interactions with gene #ccng2# were found in our database\n",
      "\n",
      " no drug interactions with gene #cct# were found in our database\n",
      "\n",
      " no drug interactions with gene #cd24# were found in our database\n",
      "\n",
      " no drug interactions with gene #cd44# were found in our database\n",
      "\n",
      " no drug interactions with gene #cdh1# were found in our database\n",
      "\n",
      " no drug interactions with gene #cdh17# were found in our database\n",
      "\n",
      " no drug interactions with gene #cdk2# were found in our database\n",
      "\n",
      " no drug interactions with gene #cdk4# were found in our database\n",
      "\n",
      " no drug interactions with gene #cdkn1a# were found in our database\n",
      "\n",
      " no drug interactions with gene #cdkn1b# were found in our database\n",
      "\n",
      " no drug interactions with gene #cdkn2a# were found in our database\n",
      "\n",
      " no drug interactions with gene #cebpd# were found in our database\n",
      "\n",
      " no drug interactions with gene #chek1# were found in our database\n",
      "\n",
      " no drug interactions with gene #chek2# were found in our database\n",
      "\n",
      " no drug interactions with gene #cish# were found in our database\n",
      "\n",
      " no drug interactions with gene #cnr1# were found in our database\n",
      "\n",
      " no drug interactions with gene #cox8a# were found in our database\n",
      "\n",
      " no drug interactions with gene #cp# were found in our database\n",
      "\n",
      " no drug interactions with gene #cs# were found in our database\n",
      "\n",
      " no drug interactions with gene #csn1s1# were found in our database\n",
      "\n",
      " no drug interactions with gene #ctbp1# were found in our database\n",
      "\n",
      " no drug interactions with gene #ctnnb1# were found in our database\n",
      "\n",
      " no drug interactions with gene #cxcr4# were found in our database\n",
      "\n",
      " no drug interactions with gene #cycs# were found in our database\n",
      "\n",
      " no drug interactions with gene #cyp4z1# were found in our database\n",
      "\n",
      " no drug interactions with gene #cyp4z2p# were found in our database\n",
      "\n",
      " no drug interactions with gene #dalir# were found in our database\n",
      "\n",
      " no drug interactions with gene #dcstamp# were found in our database\n",
      "\n",
      " no drug interactions with gene #des# were found in our database\n",
      "\n",
      " no drug interactions with gene #dlx4# were found in our database\n",
      "\n",
      " no drug interactions with gene #dna2# were found in our database\n",
      "\n",
      " no drug interactions with gene #dpm1# were found in our database\n",
      "\n",
      " no drug interactions with gene #dpm2# were found in our database\n",
      "\n",
      " no drug interactions with gene #duoxa1# were found in our database\n",
      "\n",
      " no drug interactions with gene #dusp4# were found in our database\n",
      "\n",
      " no drug interactions with gene #e2f1# were found in our database\n",
      "\n",
      " no drug interactions with gene #eaf2# were found in our database\n",
      "\n",
      " no drug interactions with gene #eec1# were found in our database\n",
      "\n",
      " no drug interactions with gene #eef2# were found in our database\n",
      "\n",
      " no drug interactions with gene #eef2k# were found in our database\n",
      "\n",
      " no drug interactions with gene #egf# were found in our database\n",
      "\n",
      " no drug interactions with gene #eif4e# were found in our database\n",
      "\n",
      " no drug interactions with gene #eif4g1# were found in our database\n",
      "\n",
      " no drug interactions with gene #ep300# were found in our database\n",
      "\n",
      " no drug interactions with gene #erbb3# were found in our database\n",
      "\n",
      " no drug interactions with gene #erbb4# were found in our database\n",
      "\n",
      " no drug interactions with gene #esr1# were found in our database\n",
      "\n",
      " no drug interactions with gene #esr2# were found in our database\n",
      "\n",
      " no drug interactions with gene #esrra# were found in our database\n",
      "\n",
      " no drug interactions with gene #esrrb# were found in our database\n",
      "\n",
      " no drug interactions with gene #exo1# were found in our database\n",
      "\n",
      " no drug interactions with gene #exog# were found in our database\n",
      "\n",
      " no drug interactions with gene #f11r# were found in our database\n",
      "\n",
      " no drug interactions with gene #f12# were found in our database\n",
      "\n",
      " no drug interactions with gene #fam129b# were found in our database\n",
      "\n",
      " no drug interactions with gene #fanca# were found in our database\n",
      "\n",
      " no drug interactions with gene #fancc# were found in our database\n",
      "\n",
      " no drug interactions with gene #fancd2# were found in our database\n",
      "\n",
      " no drug interactions with gene #fbn1# were found in our database\n",
      "\n",
      " no drug interactions with gene #fbxw7# were found in our database\n",
      "\n",
      " no drug interactions with gene #fh# were found in our database\n",
      "\n",
      " no drug interactions with gene #fhit# were found in our database\n",
      "\n",
      " no drug interactions with gene #foxc1# were found in our database\n",
      "\n",
      " no drug interactions with gene #foxg1# were found in our database\n",
      "\n",
      " no drug interactions with gene #foxm1# were found in our database\n",
      "\n",
      " no drug interactions with gene #foxo3# were found in our database\n",
      "\n",
      " no drug interactions with gene #fry# were found in our database\n",
      "\n",
      " no drug interactions with gene #ftcdnl1# were found in our database\n",
      "\n",
      " no drug interactions with gene #gata3# were found in our database\n",
      "\n",
      " no drug interactions with gene #gk# were found in our database\n",
      "\n",
      " no drug interactions with gene #glys1# were found in our database\n",
      "\n",
      " no drug interactions with gene #gnas-as1# were found in our database\n",
      "\n",
      " no drug interactions with gene #gpbar1# were found in our database\n",
      "\n",
      " no drug interactions with gene #gpr149# were found in our database\n",
      "\n",
      " no drug interactions with gene #gpr180# were found in our database\n",
      "\n",
      " no drug interactions with gene #hdac1# were found in our database\n",
      "\n",
      " no drug interactions with gene #hdac3# were found in our database\n",
      "\n",
      " no drug interactions with gene #hdac9# were found in our database\n",
      "\n",
      " no drug interactions with gene #hic1# were found in our database\n",
      "\n",
      " no drug interactions with gene #hif1a# were found in our database\n",
      "\n",
      " no drug interactions with gene #hpp1# were found in our database\n",
      "\n",
      " no drug interactions with gene #hr# were found in our database\n",
      "\n",
      " no drug interactions with gene #hras# were found in our database\n",
      "\n",
      " no drug interactions with gene #hrg# were found in our database\n",
      "\n",
      " no drug interactions with gene #hsp90aa1# were found in our database\n",
      "\n",
      " no drug interactions with gene #ifi27# were found in our database\n",
      "\n",
      " no drug interactions with gene #igf1r# were found in our database\n",
      "\n",
      " no drug interactions with gene #igll3p# were found in our database\n",
      "\n",
      " no drug interactions with gene #il36g# were found in our database\n",
      "\n",
      " no drug interactions with gene #impact# were found in our database\n",
      "\n",
      " no drug interactions with gene #ins# were found in our database\n",
      "\n",
      " no drug interactions with gene #irf1# were found in our database\n",
      "\n",
      " no drug interactions with gene #irs1# were found in our database\n",
      "\n",
      " no drug interactions with gene #iv# were found in our database\n",
      "\n",
      " no drug interactions with gene #jak2# were found in our database\n",
      "\n",
      " no drug interactions with gene #kalrn# were found in our database\n",
      "\n",
      " no drug interactions with gene #kcnt1# were found in our database\n",
      "\n",
      " no drug interactions with gene #kiaa1551# were found in our database\n",
      "\n",
      " no drug interactions with gene #kit# were found in our database\n",
      "\n",
      " no drug interactions with gene #kl# were found in our database\n",
      "\n",
      " no drug interactions with gene #kras# were found in our database\n",
      "\n",
      " no drug interactions with gene #krit1# were found in our database\n",
      "\n",
      " no drug interactions with gene #krt19# were found in our database\n",
      "\n",
      " no drug interactions with gene #krt7# were found in our database\n",
      "\n",
      " no drug interactions with gene #large1# were found in our database\n",
      "\n",
      " no drug interactions with gene #lcn2# were found in our database\n",
      "\n",
      " no drug interactions with gene #lekr1# were found in our database\n",
      "\n",
      " no drug interactions with gene #limch1# were found in our database\n",
      "\n",
      " no drug interactions with gene #lin28a# were found in our database\n",
      "\n",
      " no drug interactions with gene #lipa# were found in our database\n",
      "\n",
      " no drug interactions with gene #ltf# were found in our database\n",
      "\n",
      " no drug interactions with gene #magee1# were found in our database\n",
      "\n",
      " no drug interactions with gene #mak# were found in our database\n",
      "\n",
      " no drug interactions with gene #map2k1# were found in our database\n",
      "\n",
      " no drug interactions with gene #map2k4# were found in our database\n",
      "\n",
      " no drug interactions with gene #mapk3# were found in our database\n",
      "\n",
      " no drug interactions with gene #mbnl1# were found in our database\n",
      "\n",
      " no drug interactions with gene #mcm8# were found in our database\n",
      "\n",
      " no drug interactions with gene #mdm2# were found in our database\n",
      "\n",
      " no drug interactions with gene #melk# were found in our database\n",
      "\n",
      " no drug interactions with gene #mfap1# were found in our database\n",
      "\n",
      " no drug interactions with gene #mib1# were found in our database\n",
      "\n",
      " no drug interactions with gene #mice# were found in our database\n",
      "\n",
      " no drug interactions with gene #mir145# were found in our database\n",
      "\n",
      " no drug interactions with gene #mlh1# were found in our database\n",
      "\n",
      " no drug interactions with gene #mmp9# were found in our database\n",
      "\n",
      " no drug interactions with gene #mro# were found in our database\n",
      "\n",
      " no drug interactions with gene #ms# were found in our database\n",
      "\n",
      " no drug interactions with gene #msh2# were found in our database\n",
      "\n",
      " no drug interactions with gene #msh6# were found in our database\n",
      "\n",
      " no drug interactions with gene #msmp# were found in our database\n",
      "\n",
      " no drug interactions with gene #msx2# were found in our database\n",
      "\n",
      " no drug interactions with gene #muc7# were found in our database\n",
      "\n",
      " no drug interactions with gene #myb# were found in our database\n",
      "\n",
      " no drug interactions with gene #myc# were found in our database\n",
      "\n",
      " no drug interactions with gene #myod1# were found in our database\n",
      "\n",
      " no drug interactions with gene #nde1# were found in our database\n",
      "\n",
      " no drug interactions with gene #nf1# were found in our database\n",
      "\n",
      " no drug interactions with gene #nfkbiz# were found in our database\n",
      "\n",
      " no drug interactions with gene #nm# were found in our database\n",
      "\n",
      " no drug interactions with gene #nodal# were found in our database\n",
      "\n",
      " no drug interactions with gene #nova2# were found in our database\n",
      "\n",
      " no drug interactions with gene #nqo1# were found in our database\n",
      "\n",
      " no drug interactions with gene #nr4a2# were found in our database\n",
      "\n",
      " no drug interactions with gene #nras# were found in our database\n",
      "\n",
      " no drug interactions with gene #nrg1# were found in our database\n",
      "\n",
      " no drug interactions with gene #nrip3# were found in our database\n",
      "\n",
      " no drug interactions with gene #nsmaf# were found in our database\n",
      "\n",
      " no drug interactions with gene #ovaal# were found in our database\n",
      "\n",
      " no drug interactions with gene #pafah1b1# were found in our database\n",
      "\n",
      " no drug interactions with gene #paics# were found in our database\n",
      "\n",
      " no drug interactions with gene #palb2# were found in our database\n",
      "\n",
      " no drug interactions with gene #palld# were found in our database\n",
      "\n",
      " no drug interactions with gene #parp1# were found in our database\n",
      "\n",
      " no drug interactions with gene #patz1# were found in our database\n",
      "\n",
      " no drug interactions with gene #pdcd4# were found in our database\n",
      "\n",
      " no drug interactions with gene #pdgfra# were found in our database\n",
      "\n",
      " no drug interactions with gene #pdgfrb# were found in our database\n",
      "\n",
      " no drug interactions with gene #pdk1# were found in our database\n",
      "\n",
      " no drug interactions with gene #pdlim5# were found in our database\n",
      "\n",
      " no drug interactions with gene #pdxp# were found in our database\n",
      "\n",
      " no drug interactions with gene #per1# were found in our database\n",
      "\n",
      " no drug interactions with gene #pgp# were found in our database\n",
      "\n",
      " no drug interactions with gene #pgr# were found in our database\n",
      "\n",
      " no drug interactions with gene #phlpp2# were found in our database\n",
      "\n",
      " no drug interactions with gene #pi3# were found in our database\n",
      "\n",
      " no drug interactions with gene #pik3r1# were found in our database\n",
      "\n",
      " no drug interactions with gene #pik3r2# were found in our database\n",
      "\n",
      " no drug interactions with gene #pin1# were found in our database\n",
      "\n",
      " no drug interactions with gene #pinx1# were found in our database\n",
      "\n",
      " no drug interactions with gene #plcg1# were found in our database\n",
      "\n",
      " no drug interactions with gene #plxna2# were found in our database\n",
      "\n",
      " no drug interactions with gene #pmaip1# were found in our database\n",
      "\n",
      " no drug interactions with gene #pms1# were found in our database\n",
      "\n",
      " no drug interactions with gene #pms2# were found in our database\n",
      "\n",
      " no drug interactions with gene #ppara# were found in our database\n",
      "\n",
      " no drug interactions with gene #ppp6c# were found in our database\n",
      "\n",
      " no drug interactions with gene #prdm6# were found in our database\n",
      "\n",
      " no drug interactions with gene #prdx2# were found in our database\n",
      "\n",
      " no drug interactions with gene #prl# were found in our database\n",
      "\n",
      " no drug interactions with gene #proc# were found in our database\n",
      "\n",
      " no drug interactions with gene #prss30p# were found in our database\n",
      "\n",
      " no drug interactions with gene #psmd4# were found in our database\n",
      "\n",
      " no drug interactions with gene #psmd5# were found in our database\n",
      "\n",
      " no drug interactions with gene #ptpn5# were found in our database\n",
      "\n",
      " no drug interactions with gene #rab11fip1# were found in our database\n",
      "\n",
      " no drug interactions with gene #rad51# were found in our database\n",
      "\n",
      " no drug interactions with gene #rad51c# were found in our database\n",
      "\n",
      " no drug interactions with gene #raf1# were found in our database\n",
      "\n",
      " no drug interactions with gene #rapgef5# were found in our database\n",
      "\n",
      " no drug interactions with gene #rasa1# were found in our database\n",
      "\n",
      " no drug interactions with gene #rasal2# were found in our database\n",
      "\n",
      " no drug interactions with gene #rb1# were found in our database\n",
      "\n",
      " no drug interactions with gene #reck# were found in our database\n",
      "\n",
      " no drug interactions with gene #rel# were found in our database\n",
      "\n",
      " no drug interactions with gene #ren# were found in our database\n",
      "\n",
      " no drug interactions with gene #rerg# were found in our database\n",
      "\n",
      " no drug interactions with gene #ripk2# were found in our database\n",
      "\n",
      " no drug interactions with gene #rnase1# were found in our database\n",
      "\n",
      " no drug interactions with gene #rnf2# were found in our database\n",
      "\n",
      " no drug interactions with gene #ros1# were found in our database\n",
      "\n",
      " no drug interactions with gene #rps3a# were found in our database\n",
      "\n",
      " no drug interactions with gene #rps6# were found in our database\n",
      "\n",
      " no drug interactions with gene #rps6kb1# were found in our database\n",
      "\n",
      " no drug interactions with gene #rrad# were found in our database\n",
      "\n",
      " no drug interactions with gene #runx1t1# were found in our database\n",
      "\n",
      " no drug interactions with gene #saa4# were found in our database\n",
      "\n",
      " no drug interactions with gene #sart3# were found in our database\n",
      "\n",
      " no drug interactions with gene #sdhc# were found in our database\n",
      "\n",
      " no drug interactions with gene #sds# were found in our database\n",
      "\n",
      " no drug interactions with gene #sec14l2# were found in our database\n",
      "\n",
      " no drug interactions with gene #setd2# were found in our database\n",
      "\n",
      " no drug interactions with gene #sfrp2# were found in our database\n",
      "\n",
      " no drug interactions with gene #sgk3# were found in our database\n",
      "\n",
      " no drug interactions with gene #si# were found in our database\n",
      "\n",
      " no drug interactions with gene #sirt1# were found in our database\n",
      "\n",
      " no drug interactions with gene #slc40a1# were found in our database\n",
      "\n",
      " no drug interactions with gene #slc7a1# were found in our database\n",
      "\n",
      " no drug interactions with gene #sltm# were found in our database\n",
      "\n",
      " no drug interactions with gene #smad3# were found in our database\n",
      "\n",
      " no drug interactions with gene #smad5# were found in our database\n",
      "\n",
      " no drug interactions with gene #smim10l2a# were found in our database\n",
      "\n",
      " no drug interactions with gene #snai1# were found in our database\n",
      "\n",
      " no drug interactions with gene #son# were found in our database\n",
      "\n",
      " no drug interactions with gene #sox2# were found in our database\n",
      "\n",
      " no drug interactions with gene #sox7# were found in our database\n",
      "\n",
      " no drug interactions with gene #srebf1# were found in our database\n",
      "\n",
      " no drug interactions with gene #stat1# were found in our database\n",
      "\n",
      " no drug interactions with gene #stat3# were found in our database\n",
      "\n",
      " no drug interactions with gene #stk11# were found in our database\n",
      "\n",
      " no drug interactions with gene #supt16h# were found in our database\n",
      "\n",
      " no drug interactions with gene #t# were found in our database\n",
      "\n",
      " no drug interactions with gene #tc2n# were found in our database\n",
      "\n",
      " no drug interactions with gene #tcf7l2# were found in our database\n",
      "\n",
      " no drug interactions with gene #telab1# were found in our database\n",
      "\n",
      " no drug interactions with gene #tenm1# were found in our database\n",
      "\n",
      " no drug interactions with gene #tf# were found in our database\n",
      "\n",
      " no drug interactions with gene #tfap2a# were found in our database\n",
      "\n",
      " no drug interactions with gene #tfap2b# were found in our database\n",
      "\n",
      " no drug interactions with gene #tg# were found in our database\n",
      "\n",
      " no drug interactions with gene #tgfb2# were found in our database\n",
      "\n",
      " no drug interactions with gene #tiparp# were found in our database\n",
      "\n",
      " no drug interactions with gene #tnfrsf11a# were found in our database\n",
      "\n",
      " no drug interactions with gene #tnfrsf11b# were found in our database\n",
      "\n",
      " no drug interactions with gene #tnfsf13b# were found in our database\n",
      "\n",
      " no drug interactions with gene #tnfsf14# were found in our database\n",
      "\n",
      " no drug interactions with gene #tnip3# were found in our database\n",
      "\n",
      " no drug interactions with gene #tox# were found in our database\n",
      "\n",
      " no drug interactions with gene #tox3# were found in our database\n",
      "\n",
      " no drug interactions with gene #tp53# were found in our database\n",
      "\n",
      " no drug interactions with gene #tra-tgc7-1# were found in our database\n",
      "\n",
      " no drug interactions with gene #twist1# were found in our database\n",
      "\n",
      " no drug interactions with gene #uap1l1# were found in our database\n",
      "\n",
      " no drug interactions with gene #ugt3a1# were found in our database\n",
      "\n",
      " no drug interactions with gene #ulk1# were found in our database\n",
      "\n",
      " no drug interactions with gene #vegfa# were found in our database\n",
      "\n",
      " no drug interactions with gene #vgf# were found in our database\n",
      "\n",
      " no drug interactions with gene #wdtc1# were found in our database\n",
      "\n",
      " no drug interactions with gene #wnt5a# were found in our database\n",
      "\n",
      " no drug interactions with gene #xs# were found in our database\n",
      "\n",
      " no drug interactions with gene #zbp1# were found in our database\n",
      "\n",
      " no drug interactions with gene #zbtb8os# were found in our database\n",
      "\n",
      " no drug interactions with gene #zfyve9# were found in our database\n",
      "\n",
      " no drug interactions with gene #znf746# were found in our database\n",
      "\n",
      "these are the genes for which interactions with drugs were found: ['#abcg2#', '#akt1#', '#anpep#', '#birc5#', '#c19orf66#', '#celp#', '#cic#', '#cyp19a1#', '#dgcr2#', '#egfr#', '#egr3#', '#erbb2#', '#gaa#', '#mb#', '#mtor#', '#phospho2#', '#pik3ca#', '#prkaa2#', '#pten#', '#sgcg#', '#snai2#', '#spen#', '#src#', '#th#', '#tnip1#']\n"
     ]
    }
   ],
   "source": [
    "b = graph_maker.get_user_input()"
   ]
  },
  {
   "cell_type": "code",
   "execution_count": 303,
   "metadata": {},
   "outputs": [
    {
     "data": {
      "text/plain": [
       "[{('#abcg2#', '#mitoxantrone#'): 1.0,\n",
       "  ('#akt1#', '#lapatinib#'): 1.0,\n",
       "  ('#akt1#', '#letrozole#'): 4.0,\n",
       "  ('#akt1#', '#tamoxifen#'): 1.0,\n",
       "  ('#akt1#', '#trastuzumab#'): 1.0,\n",
       "  ('#anpep#', '#lapatinib#'): 1.0,\n",
       "  ('#birc5#', '#trastuzumab#'): 2.0,\n",
       "  ('#c19orf66#', '#tamoxifen#'): 1.0,\n",
       "  ('#celp#', '#letrozole#'): 1.0,\n",
       "  ('#celp#', '#recombinant interleukin-6#'): 1.0,\n",
       "  ('#celp#', '#tamoxifen#'): 1.0,\n",
       "  ('#celp#', '#trastuzumab#'): 5.0,\n",
       "  ('#cic#', '#letrozole#'): 1.0,\n",
       "  ('#cic#', '#recombinant interleukin-6#'): 1.0,\n",
       "  ('#cyp19a1#', '#tamoxifen#'): 1.0,\n",
       "  ('#dgcr2#', '#tamoxifen#'): 1.0,\n",
       "  ('#egfr#', '#lapatinib#'): 2.0,\n",
       "  ('#egr3#', '#bevacizumab#'): 1.0,\n",
       "  ('#egr3#', '#capecitabine#'): 1.0,\n",
       "  ('#egr3#', '#carbendazim#'): 1.0,\n",
       "  ('#egr3#', '#cisplatin#'): 1.0,\n",
       "  ('#egr3#', '#dacarbazine#'): 1.0,\n",
       "  ('#egr3#', '#docetaxel#'): 1.0,\n",
       "  ('#egr3#', '#doxorubicin#'): 1.0,\n",
       "  ('#egr3#', '#erlotinib#'): 1.0,\n",
       "  ('#egr3#', '#everolimus#'): 1.0,\n",
       "  ('#egr3#', '#fluorouracil#'): 1.0,\n",
       "  ('#egr3#', '#lenalidomide#'): 1.0,\n",
       "  ('#egr3#', '#leucovorin calcium#'): 1.0,\n",
       "  ('#egr3#', '#oxaliplatin#'): 1.0,\n",
       "  ('#egr3#', '#paclitaxel#'): 1.0,\n",
       "  ('#egr3#', '#pi3k/mtor inhibitor bez235#'): 1.0,\n",
       "  ('#egr3#', '#selumetinib#'): 1.0,\n",
       "  ('#egr3#', '#sorafenib tosylate#'): 1.0,\n",
       "  ('#egr3#', '#temsirolimus#'): 1.0,\n",
       "  ('#egr3#', '#thalidomide#'): 1.0,\n",
       "  ('#erbb2#', '#bevacizumab#'): 1.0,\n",
       "  ('#erbb2#', '#buparlisib#'): 1.0,\n",
       "  ('#erbb2#', '#capecitabine#'): 1.0,\n",
       "  ('#erbb2#', '#carbendazim#'): 1.0,\n",
       "  ('#erbb2#', '#cisplatin#'): 2.0,\n",
       "  ('#erbb2#', '#cyclophosphamide#'): 1.0,\n",
       "  ('#erbb2#', '#dacarbazine#'): 1.0,\n",
       "  ('#erbb2#', '#docetaxel#'): 1.0,\n",
       "  ('#erbb2#', '#doxorubicin#'): 2.0,\n",
       "  ('#erbb2#', '#erlotinib#'): 1.0,\n",
       "  ('#erbb2#', '#everolimus#'): 3.0,\n",
       "  ('#erbb2#', '#fluorouracil#'): 1.0,\n",
       "  ('#erbb2#', '#gemcitabine#'): 1.0,\n",
       "  ('#erbb2#', '#lapatinib#'): 6.0,\n",
       "  ('#erbb2#', '#lenalidomide#'): 1.0,\n",
       "  ('#erbb2#', '#letrozole#'): 1.0,\n",
       "  ('#erbb2#', '#leucovorin calcium#'): 1.0,\n",
       "  ('#erbb2#', '#oxaliplatin#'): 1.0,\n",
       "  ('#erbb2#', '#paclitaxel#'): 2.0,\n",
       "  ('#erbb2#', '#pi3k/mtor inhibitor bez235#'): 1.0,\n",
       "  ('#erbb2#', '#recombinant interleukin-6#'): 2.0,\n",
       "  ('#erbb2#', '#selumetinib#'): 1.0,\n",
       "  ('#erbb2#', '#sorafenib tosylate#'): 1.0,\n",
       "  ('#erbb2#', '#tamoxifen#'): 1.0,\n",
       "  ('#erbb2#', '#temsirolimus#'): 1.0,\n",
       "  ('#erbb2#', '#thalidomide#'): 1.0,\n",
       "  ('#erbb2#', '#trastuzumab#'): 14.0,\n",
       "  ('#erbb2#', '#triciribine phosphate#'): 1.0,\n",
       "  ('#erbb2#', '#vinorelbine#'): 1.0,\n",
       "  ('#gaa#', '#bevacizumab#'): 1.0,\n",
       "  ('#gaa#', '#capecitabine#'): 1.0,\n",
       "  ('#gaa#', '#carbendazim#'): 1.0,\n",
       "  ('#gaa#', '#cisplatin#'): 1.0,\n",
       "  ('#gaa#', '#dacarbazine#'): 1.0,\n",
       "  ('#gaa#', '#docetaxel#'): 1.0,\n",
       "  ('#gaa#', '#doxorubicin#'): 1.0,\n",
       "  ('#gaa#', '#erlotinib#'): 1.0,\n",
       "  ('#gaa#', '#everolimus#'): 1.0,\n",
       "  ('#gaa#', '#fluorouracil#'): 1.0,\n",
       "  ('#gaa#', '#lenalidomide#'): 1.0,\n",
       "  ('#gaa#', '#leucovorin calcium#'): 1.0,\n",
       "  ('#gaa#', '#oxaliplatin#'): 1.0,\n",
       "  ('#gaa#', '#paclitaxel#'): 1.0,\n",
       "  ('#gaa#', '#pi3k/mtor inhibitor bez235#'): 1.0,\n",
       "  ('#gaa#', '#selumetinib#'): 1.0,\n",
       "  ('#gaa#', '#sorafenib tosylate#'): 1.0,\n",
       "  ('#gaa#', '#temsirolimus#'): 1.0,\n",
       "  ('#gaa#', '#thalidomide#'): 1.0,\n",
       "  ('#mb#', '#mitoxantrone#'): 1.0,\n",
       "  ('#mtor#', '#bevacizumab#'): 1.0,\n",
       "  ('#mtor#', '#capecitabine#'): 1.0,\n",
       "  ('#mtor#', '#carbendazim#'): 1.0,\n",
       "  ('#mtor#', '#cisplatin#'): 1.0,\n",
       "  ('#mtor#', '#dacarbazine#'): 1.0,\n",
       "  ('#mtor#', '#docetaxel#'): 1.0,\n",
       "  ('#mtor#', '#doxorubicin#'): 1.0,\n",
       "  ('#mtor#', '#erlotinib#'): 1.0,\n",
       "  ('#mtor#', '#everolimus#'): 1.0,\n",
       "  ('#mtor#', '#fluorouracil#'): 1.0,\n",
       "  ('#mtor#', '#lapatinib#'): 1.0,\n",
       "  ('#mtor#', '#lenalidomide#'): 1.0,\n",
       "  ('#mtor#', '#letrozole#'): 1.0,\n",
       "  ('#mtor#', '#leucovorin calcium#'): 1.0,\n",
       "  ('#mtor#', '#oxaliplatin#'): 1.0,\n",
       "  ('#mtor#', '#paclitaxel#'): 1.0,\n",
       "  ('#mtor#', '#pi3k/mtor inhibitor bez235#'): 1.0,\n",
       "  ('#mtor#', '#selumetinib#'): 1.0,\n",
       "  ('#mtor#', '#sorafenib tosylate#'): 1.0,\n",
       "  ('#mtor#', '#temsirolimus#'): 1.0,\n",
       "  ('#mtor#', '#thalidomide#'): 1.0,\n",
       "  ('#phospho2#', '#trastuzumab#'): 1.0,\n",
       "  ('#pik3ca#', '#buparlisib#'): 1.0,\n",
       "  ('#pik3ca#', '#cisplatin#'): 1.0,\n",
       "  ('#pik3ca#', '#cyclophosphamide#'): 1.0,\n",
       "  ('#pik3ca#', '#doxorubicin#'): 1.0,\n",
       "  ('#pik3ca#', '#everolimus#'): 1.0,\n",
       "  ('#pik3ca#', '#gemcitabine#'): 1.0,\n",
       "  ('#pik3ca#', '#lapatinib#'): 2.0,\n",
       "  ('#pik3ca#', '#letrozole#'): 5.0,\n",
       "  ('#pik3ca#', '#paclitaxel#'): 1.0,\n",
       "  ('#pik3ca#', '#tamoxifen#'): 1.0,\n",
       "  ('#pik3ca#', '#trastuzumab#'): 8.0,\n",
       "  ('#pik3ca#', '#triciribine phosphate#'): 1.0,\n",
       "  ('#prkaa2#', '#trastuzumab#'): 1.0,\n",
       "  ('#pten#', '#fulvestrant#'): 1.0,\n",
       "  ('#pten#', '#lapatinib#'): 1.0,\n",
       "  ('#pten#', '#letrozole#'): 4.0,\n",
       "  ('#pten#', '#recombinant interleukin-6#'): 1.0,\n",
       "  ('#pten#', '#tamoxifen#'): 1.0,\n",
       "  ('#pten#', '#trastuzumab#'): 6.0,\n",
       "  ('#sgcg#', '#buparlisib#'): 1.0,\n",
       "  ('#sgcg#', '#cisplatin#'): 1.0,\n",
       "  ('#sgcg#', '#cyclophosphamide#'): 1.0,\n",
       "  ('#sgcg#', '#doxorubicin#'): 1.0,\n",
       "  ('#sgcg#', '#everolimus#'): 1.0,\n",
       "  ('#sgcg#', '#gemcitabine#'): 1.0,\n",
       "  ('#sgcg#', '#paclitaxel#'): 1.0,\n",
       "  ('#sgcg#', '#trastuzumab#'): 1.0,\n",
       "  ('#sgcg#', '#triciribine phosphate#'): 1.0,\n",
       "  ('#snai2#', '#trastuzumab#'): 1.0,\n",
       "  ('#spen#', '#tamoxifen#'): 1.0,\n",
       "  ('#src#', '#lapatinib#'): 4.0,\n",
       "  ('#th#', '#tamoxifen#'): 1.0,\n",
       "  ('#tnip1#', '#trastuzumab#'): 1.0}]"
      ]
     },
     "execution_count": 303,
     "metadata": {},
     "output_type": "execute_result"
    }
   ],
   "source": [
    "b"
   ]
  },
  {
   "cell_type": "code",
   "execution_count": 114,
   "metadata": {
    "collapsed": true
   },
   "outputs": [],
   "source": [
    "data_frame_creator.write_pickle('resist_network_matrix_test.pickle',resist_network_matrix)"
   ]
  },
  {
   "cell_type": "code",
   "execution_count": 115,
   "metadata": {
    "collapsed": true
   },
   "outputs": [],
   "source": [
    "data_frame_creator.write_pickle('sensit_network_matrix_test.pickle',sensit_network_matrix)"
   ]
  },
  {
   "cell_type": "code",
   "execution_count": 117,
   "metadata": {
    "collapsed": true
   },
   "outputs": [],
   "source": [
    "data_frame_creator.write_pickle('any_network_matrix_test.pickle',all_network_matrix)"
   ]
  },
  {
   "cell_type": "code",
   "execution_count": 311,
   "metadata": {},
   "outputs": [
    {
     "data": {
      "text/plain": [
       "['#abcg2#',\n",
       " '#acadl#',\n",
       " '#ackr3#',\n",
       " '#acpp#',\n",
       " '#ado#',\n",
       " '#agfg1#',\n",
       " '#aicda#',\n",
       " '#airn#',\n",
       " '#akt1#',\n",
       " '#alb#',\n",
       " '#alpi#',\n",
       " '#alyref#',\n",
       " '#amh#',\n",
       " '#anpep#',\n",
       " '#ar#',\n",
       " '#arc#',\n",
       " '#areg#',\n",
       " '#arhgef7#',\n",
       " '#armc9#',\n",
       " '#atg12#',\n",
       " '#atm#',\n",
       " '#atr#',\n",
       " '#bank1#',\n",
       " '#bax#',\n",
       " '#bbc3#',\n",
       " '#bcl2#',\n",
       " '#bcs1l#',\n",
       " '#bid#',\n",
       " '#birc5#',\n",
       " '#bivm#',\n",
       " '#bmi1#',\n",
       " '#bmp7#',\n",
       " '#bpifa4p#',\n",
       " '#braf#',\n",
       " '#brca1#',\n",
       " '#brca2#',\n",
       " '#brd2#',\n",
       " '#brip1#',\n",
       " '#c19orf66#',\n",
       " '#c1qbp#',\n",
       " '#ca1#',\n",
       " '#cat#',\n",
       " '#ccnd1#',\n",
       " '#ccng2#',\n",
       " '#cct#',\n",
       " '#cd24#',\n",
       " '#cd44#',\n",
       " '#cdh1#',\n",
       " '#cdh17#',\n",
       " '#cdk2#',\n",
       " '#cdk4#',\n",
       " '#cdkn1a#',\n",
       " '#cdkn1b#',\n",
       " '#cdkn2a#',\n",
       " '#cebpd#',\n",
       " '#celp#',\n",
       " '#chek1#',\n",
       " '#chek2#',\n",
       " '#cic#',\n",
       " '#cish#',\n",
       " '#cnr1#',\n",
       " '#cox8a#',\n",
       " '#cp#',\n",
       " '#cs#',\n",
       " '#csn1s1#',\n",
       " '#ctbp1#',\n",
       " '#ctnnb1#',\n",
       " '#cxcr4#',\n",
       " '#cycs#',\n",
       " '#cyp19a1#',\n",
       " '#cyp4z1#',\n",
       " '#cyp4z2p#',\n",
       " '#dalir#',\n",
       " '#dcstamp#',\n",
       " '#des#',\n",
       " '#dgcr2#',\n",
       " '#dlx4#',\n",
       " '#dna2#',\n",
       " '#dpm1#',\n",
       " '#dpm2#',\n",
       " '#duoxa1#',\n",
       " '#dusp4#',\n",
       " '#e2f1#',\n",
       " '#eaf2#',\n",
       " '#eec1#',\n",
       " '#eef2#',\n",
       " '#eef2k#',\n",
       " '#egf#',\n",
       " '#egfr#',\n",
       " '#egr3#',\n",
       " '#eif4e#',\n",
       " '#eif4g1#',\n",
       " '#ep300#',\n",
       " '#erbb2#',\n",
       " '#erbb3#',\n",
       " '#erbb4#',\n",
       " '#esr1#',\n",
       " '#esr2#',\n",
       " '#esrra#',\n",
       " '#esrrb#',\n",
       " '#exo1#',\n",
       " '#exog#',\n",
       " '#f11r#',\n",
       " '#f12#',\n",
       " '#fam129b#',\n",
       " '#fanca#',\n",
       " '#fancc#',\n",
       " '#fancd2#',\n",
       " '#fbn1#',\n",
       " '#fbxw7#',\n",
       " '#fh#',\n",
       " '#fhit#',\n",
       " '#foxc1#',\n",
       " '#foxg1#',\n",
       " '#foxm1#',\n",
       " '#foxo3#',\n",
       " '#fry#',\n",
       " '#ftcdnl1#',\n",
       " '#gaa#',\n",
       " '#gata3#',\n",
       " '#gk#',\n",
       " '#glys1#',\n",
       " '#gnas-as1#',\n",
       " '#gpbar1#',\n",
       " '#gpr149#',\n",
       " '#gpr180#',\n",
       " '#hdac1#',\n",
       " '#hdac3#',\n",
       " '#hdac9#',\n",
       " '#hic1#',\n",
       " '#hif1a#',\n",
       " '#hpp1#',\n",
       " '#hr#',\n",
       " '#hras#',\n",
       " '#hrg#',\n",
       " '#hsp90aa1#',\n",
       " '#ifi27#',\n",
       " '#igf1r#',\n",
       " '#igll3p#',\n",
       " '#il36g#',\n",
       " '#impact#',\n",
       " '#ins#',\n",
       " '#irf1#',\n",
       " '#irs1#',\n",
       " '#iv#',\n",
       " '#jak2#',\n",
       " '#kalrn#',\n",
       " '#kcnt1#',\n",
       " '#kiaa1551#',\n",
       " '#kit#',\n",
       " '#kl#',\n",
       " '#kras#',\n",
       " '#krit1#',\n",
       " '#krt19#',\n",
       " '#krt7#',\n",
       " '#large1#',\n",
       " '#lcn2#',\n",
       " '#lekr1#',\n",
       " '#limch1#',\n",
       " '#lin28a#',\n",
       " '#lipa#',\n",
       " '#ltf#',\n",
       " '#magee1#',\n",
       " '#mak#',\n",
       " '#map2k1#',\n",
       " '#map2k4#',\n",
       " '#mapk3#',\n",
       " '#mb#',\n",
       " '#mbnl1#',\n",
       " '#mcm8#',\n",
       " '#mdm2#',\n",
       " '#melk#',\n",
       " '#mfap1#',\n",
       " '#mib1#',\n",
       " '#mice#',\n",
       " '#mir145#',\n",
       " '#mlh1#',\n",
       " '#mmp9#',\n",
       " '#mro#',\n",
       " '#ms#',\n",
       " '#msh2#',\n",
       " '#msh6#',\n",
       " '#msmp#',\n",
       " '#msx2#',\n",
       " '#mtor#',\n",
       " '#muc7#',\n",
       " '#myb#',\n",
       " '#myc#',\n",
       " '#myod1#',\n",
       " '#nde1#',\n",
       " '#nf1#',\n",
       " '#nfkbiz#',\n",
       " '#nm#',\n",
       " '#nodal#',\n",
       " '#nova2#',\n",
       " '#nqo1#',\n",
       " '#nr4a2#',\n",
       " '#nras#',\n",
       " '#nrg1#',\n",
       " '#nrip3#',\n",
       " '#nsmaf#',\n",
       " '#ovaal#',\n",
       " '#pafah1b1#',\n",
       " '#paics#',\n",
       " '#palb2#',\n",
       " '#palld#',\n",
       " '#parp1#',\n",
       " '#patz1#',\n",
       " '#pdcd4#',\n",
       " '#pdgfra#',\n",
       " '#pdgfrb#',\n",
       " '#pdk1#',\n",
       " '#pdlim5#',\n",
       " '#pdxp#',\n",
       " '#per1#',\n",
       " '#pgp#',\n",
       " '#pgr#',\n",
       " '#phlpp2#',\n",
       " '#phospho2#',\n",
       " '#pi3#',\n",
       " '#pik3ca#',\n",
       " '#pik3r1#',\n",
       " '#pik3r2#',\n",
       " '#pin1#',\n",
       " '#pinx1#',\n",
       " '#plcg1#',\n",
       " '#plxna2#',\n",
       " '#pmaip1#',\n",
       " '#pms1#',\n",
       " '#pms2#',\n",
       " '#ppara#',\n",
       " '#ppp6c#',\n",
       " '#prdm6#',\n",
       " '#prdx2#',\n",
       " '#prkaa2#',\n",
       " '#prl#',\n",
       " '#proc#',\n",
       " '#prss30p#',\n",
       " '#psmd4#',\n",
       " '#psmd5#',\n",
       " '#pten#',\n",
       " '#ptpn5#',\n",
       " '#rab11fip1#',\n",
       " '#rad51#',\n",
       " '#rad51c#',\n",
       " '#raf1#',\n",
       " '#rapgef5#',\n",
       " '#rasa1#',\n",
       " '#rasal2#',\n",
       " '#rb1#',\n",
       " '#reck#',\n",
       " '#rel#',\n",
       " '#ren#',\n",
       " '#rerg#',\n",
       " '#ripk2#',\n",
       " '#rnase1#',\n",
       " '#rnf2#',\n",
       " '#ros1#',\n",
       " '#rps3a#',\n",
       " '#rps6#',\n",
       " '#rps6kb1#',\n",
       " '#rrad#',\n",
       " '#runx1t1#',\n",
       " '#saa4#',\n",
       " '#sart3#',\n",
       " '#sdhc#',\n",
       " '#sds#',\n",
       " '#sec14l2#',\n",
       " '#setd2#',\n",
       " '#sfrp2#',\n",
       " '#sgcg#',\n",
       " '#sgk3#',\n",
       " '#si#',\n",
       " '#sirt1#',\n",
       " '#slc40a1#',\n",
       " '#slc7a1#',\n",
       " '#sltm#',\n",
       " '#smad3#',\n",
       " '#smad5#',\n",
       " '#smim10l2a#',\n",
       " '#snai1#',\n",
       " '#snai2#',\n",
       " '#son#',\n",
       " '#sox2#',\n",
       " '#sox7#',\n",
       " '#spen#',\n",
       " '#src#',\n",
       " '#srebf1#',\n",
       " '#stat1#',\n",
       " '#stat3#',\n",
       " '#stk11#',\n",
       " '#supt16h#',\n",
       " '#t#',\n",
       " '#tc2n#',\n",
       " '#tcf7l2#',\n",
       " '#telab1#',\n",
       " '#tenm1#',\n",
       " '#tf#',\n",
       " '#tfap2a#',\n",
       " '#tfap2b#',\n",
       " '#tg#',\n",
       " '#tgfb2#',\n",
       " '#th#',\n",
       " '#tiparp#',\n",
       " '#tnfrsf11a#',\n",
       " '#tnfrsf11b#',\n",
       " '#tnfsf13b#',\n",
       " '#tnfsf14#',\n",
       " '#tnip1#',\n",
       " '#tnip3#',\n",
       " '#tox#',\n",
       " '#tox3#',\n",
       " '#tp53#',\n",
       " '#tra-tgc7-1#',\n",
       " '#twist1#',\n",
       " '#uap1l1#',\n",
       " '#ugt3a1#',\n",
       " '#ulk1#',\n",
       " '#vegfa#',\n",
       " '#vgf#',\n",
       " '#wdtc1#',\n",
       " '#wnt5a#',\n",
       " '#xs#',\n",
       " '#zbp1#',\n",
       " '#zbtb8os#',\n",
       " '#zfyve9#',\n",
       " '#znf746#']"
      ]
     },
     "execution_count": 311,
     "metadata": {},
     "output_type": "execute_result"
    }
   ],
   "source": [
    "list(network_genes.values())"
   ]
  },
  {
   "cell_type": "code",
   "execution_count": null,
   "metadata": {
    "collapsed": true
   },
   "outputs": [],
   "source": [
    "def extract_gene_drug_interaction(X,genes_list):\n",
    "\n",
    "    interaction_dict={}\n",
    "    genes =[]\n",
    "    for gene in genes_list:\n",
    "        multiplier = np.zeros((X.shape[0],1))\n",
    "        idx = inverse_network_genes[gene]\n",
    "        multiplier[idx]=1\n",
    "        value = X.T.dot(multiplier) \n",
    "        drug_idx = value.nonzero()[0]\n",
    "        if sum(value) == 0:\n",
    "            print('\\n no drug interactions with gene {} were found in our database'.format(gene))\n",
    "        else:\n",
    "            #interaction_dict[gene] = value\n",
    "            drug_idx = value.nonzero()[0]\n",
    "            for idx in drug_idx:\n",
    "                interaction_dict[gene, network_drugs[idx]]=value[idx,0]\n",
    "            genes.append(gene)\n",
    "    print('\\nthese are the genes for which interactions with drugs were found:',genes )\n",
    "    return interaction_dict\n",
    "            \n",
    "            \n",
    "        \n",
    "        \n",
    "        "
   ]
  },
  {
   "cell_type": "code",
   "execution_count": null,
   "metadata": {
    "collapsed": true
   },
   "outputs": [],
   "source": [
    "def get_user_input():    \n",
    "    genes_list = process_genes()\n",
    "    kind = input('if you are interested on drug resistance evidence press \"r\"' \n",
    "                'if you are interested on drug resistance evidence press \"s\"' \n",
    "                 'if you are interested on general interactions press \"g\" '\n",
    "                'if you are interested on all of above interactions press \"a\" ')\n",
    "    interaction_list =[]\n",
    "    if kind == 'r' or kind =='R':\n",
    "        X = resist_network_matrix\n",
    "        resistant_dict = extract_gene_drug_interaction(X,genes_list)\n",
    "        interaction_list.append(resistant_dict) \n",
    "    elif kind == 's' or kind =='S':\n",
    "        X = sensit_network_matrix\n",
    "        sensitive_dict = extract_gene_drug_interaction(X,genes_list)\n",
    "        interaction_list.append(sensitive_dict)    \n",
    "    elif kind == 'g' or kind =='G':\n",
    "        X = all_network_matrix\n",
    "        sensitive_dict = extract_gene_drug_interaction(X,genes_list)\n",
    "        interaction_list.append(sensitive_dict)\n",
    "    else:\n",
    "        X = all_network_matrix\n",
    "        interaction_dict = extract_gene_drug_interaction(X,genes_list)\n",
    "        interaction_list.append(interaction_dict)\n",
    "        X = resist_network_matrix\n",
    "        resistant_dict = extract_gene_drug_interaction(X,genes_list)\n",
    "        interaction_list.append(resistant_dict)\n",
    "        X = sensit_network_matrix\n",
    "        sensitive_dict = extract_gene_drug_interaction(X,genes_list)\n",
    "        interaction_list.append(sensitive_dict)  \n",
    "    return interaction_list"
   ]
  },
  {
   "cell_type": "code",
   "execution_count": 286,
   "metadata": {},
   "outputs": [
    {
     "ename": "NameError",
     "evalue": "name 'get_user_input' is not defined",
     "output_type": "error",
     "traceback": [
      "\u001b[0;31m---------------------------------------------------------------------------\u001b[0m",
      "\u001b[0;31mNameError\u001b[0m                                 Traceback (most recent call last)",
      "\u001b[0;32m<ipython-input-286-00d5e74cd189>\u001b[0m in \u001b[0;36m<module>\u001b[0;34m()\u001b[0m\n\u001b[0;32m----> 1\u001b[0;31m \u001b[0mb\u001b[0m\u001b[0;34m=\u001b[0m\u001b[0mget_user_input\u001b[0m\u001b[0;34m(\u001b[0m\u001b[0;34m)\u001b[0m\u001b[0;34m\u001b[0m\u001b[0m\n\u001b[0m",
      "\u001b[0;31mNameError\u001b[0m: name 'get_user_input' is not defined"
     ]
    }
   ],
   "source": [
    "b=get_user_input()"
   ]
  },
  {
   "cell_type": "code",
   "execution_count": null,
   "metadata": {
    "collapsed": true
   },
   "outputs": [],
   "source": [
    "b"
   ]
  },
  {
   "cell_type": "code",
   "execution_count": null,
   "metadata": {
    "collapsed": true
   },
   "outputs": [],
   "source": []
  },
  {
   "cell_type": "code",
   "execution_count": null,
   "metadata": {
    "collapsed": true
   },
   "outputs": [],
   "source": []
  },
  {
   "cell_type": "code",
   "execution_count": 335,
   "metadata": {
    "collapsed": true
   },
   "outputs": [],
   "source": [
    "def gene_or_drug(vocabulary):\n",
    "    gene_or_drug={}\n",
    "    for item in vocabulary:\n",
    "        if item in gene_values:\n",
    "            gene_or_drug[item]='gene'\n",
    "        if item in drug_values:\n",
    "            gene_or_drug[item]='drug'\n",
    "    return gene_or_drug"
   ]
  },
  {
   "cell_type": "code",
   "execution_count": 340,
   "metadata": {
    "collapsed": true
   },
   "outputs": [],
   "source": [
    "dg=gene_or_drug(vocab_columns)"
   ]
  },
  {
   "cell_type": "code",
   "execution_count": 342,
   "metadata": {
    "collapsed": true
   },
   "outputs": [],
   "source": [
    "data_frame_creator.write_pickle('gene_or_drug.pickle',dg)"
   ]
  },
  {
   "cell_type": "code",
   "execution_count": null,
   "metadata": {
    "collapsed": true
   },
   "outputs": [],
   "source": [
    "len(b)"
   ]
  },
  {
   "cell_type": "code",
   "execution_count": 127,
   "metadata": {
    "collapsed": true
   },
   "outputs": [],
   "source": [
    "import networkx as nx"
   ]
  },
  {
   "cell_type": "code",
   "execution_count": 350,
   "metadata": {},
   "outputs": [
    {
     "data": {
      "image/png": "[encoded data removed]",
      "text/plain": [
       "<matplotlib.figure.Figure at 0x12cf13160>"
      ]
     },
     "metadata": {},
     "output_type": "display_data"
    },
    {
     "data": {
      "text/plain": [
       "<networkx.classes.graph.Graph at 0x11adad048>"
      ]
     },
     "execution_count": 350,
     "metadata": {},
     "output_type": "execute_result"
    }
   ],
   "source": [
    "make_display_network(b)"
   ]
  },
  {
   "cell_type": "code",
   "execution_count": 307,
   "metadata": {
    "collapsed": true
   },
   "outputs": [],
   "source": [
    "def make_display_network(lst):\n",
    "     \n",
    "    \n",
    "    if len(lst) ==1:\n",
    "        G=nx.Graph()\n",
    "        for (gene,drug), weight in lst[0].items():\n",
    "            G.add_edge(gene[1:-1],drug[1:-1],weight=weight)\n",
    "        weights = list(np.array(list(lst[0].values())))\n",
    "        gene_nodes = get_node_set(G.edges)[0]\n",
    "        drug_nodes = get_node_set(G.edges)[1]\n",
    "        plt.figure(1,figsize=(12,12))\n",
    "        G = draw_graph(G, gene_nodes, drug_nodes, weights, style='solid')\n",
    "        plt.axis('off')\n",
    "        plt.savefig(\"weighted_graph.png\") # save as png\n",
    "        plt.show() # display\n",
    "        Graphs = G\n",
    "\n",
    "\n",
    "\n",
    "\n",
    "    \n",
    "    \n",
    "        \n",
    "    if len(lst) == 3:\n",
    "        G1=nx.Graph()\n",
    "        G2=nx.Graph()\n",
    "        G3=nx.Graph()\n",
    "        for (gene,drug), weight in lst[0].items():\n",
    "            G1.add_edge(gene[1:-1],drug[1:-1],weight=weight)\n",
    "        weights_1 = list(np.array(list(lst[0].values())))\n",
    "        gene_nodes_1 = get_node_set(G1.edges)[0]\n",
    "        drug_nodes_1 = get_node_set(G1.edges)[1]\n",
    "        for (gene,drug), weight in lst[1].items():\n",
    "            G2.add_edge(gene[1:-1],drug[1:-1],weight=weight)\n",
    "        weights_2 = list(np.array(list(lst[1].values())))\n",
    "        gene_nodes_2 = get_node_set(G2.edges)[0]\n",
    "        drug_nodes_2 = get_node_set(G2.edges)[1] \n",
    "        for (gene,drug), weight in lst[2].items():\n",
    "            G3.add_edge(gene[1:-1],drug[1:-1],weight=weight)\n",
    "        weights_3 = list(np.array(list(lst[2].values())))\n",
    "        gene_nodes_3 = get_node_set(G3.edges)[0]\n",
    "        drug_nodes_3 = get_node_set(G3.edges)[1] \n",
    "        \n",
    "        #for edge in list(G2.edges):\n",
    "        #    if edge in list(G1.edges):\n",
    "        #        G1.remove_edge(edge)\n",
    "        #for edge in G3.edges:\n",
    "        #    if edge in G1.edges:\n",
    "        #        G1.remove_edge(edge)\n",
    "        plt.figure(1,figsize=(12,12)) \n",
    "    \n",
    "        G1 = draw_graph(G1, gene_nodes_1, drug_nodes_1, weights_1, style='dotted')\n",
    "        G2 = draw_graph(G2, gene_nodes_2, drug_nodes_2, weights_2, style='dashed')\n",
    "        G3 = draw_graph(G3, gene_nodes_3, drug_nodes_3, weights_3, style='solid')\n",
    "        Graphs = [G1, G2, G3]\n",
    "    \n",
    "        plt.axis('off')\n",
    "        plt.savefig(\"weighted_graph.png\") # save as png\n",
    "        plt.show() # display\n",
    "        \n",
    "    return Graphs\n",
    "        \n"
   ]
  },
  {
   "cell_type": "code",
   "execution_count": 308,
   "metadata": {
    "collapsed": true
   },
   "outputs": [],
   "source": [
    "def draw_graph(G, gene_nodes, drug_nodes, weights, style='solid'):\n",
    "    pos=nx.spring_layout(G) # positions for all nodes\n",
    "    plt.figure(1,figsize=(12,12)) \n",
    "    nx.draw_networkx_nodes(G,pos,nodelist=gene_nodes,node_shape='s', node_color = 'gold', node_size = 2000)\n",
    "    nx.draw_networkx_nodes(G,pos,nodelist=drug_nodes,node_shape='o', node_color = 'deepskyblue', node_size = 1000)\n",
    "        #nx.draw_networkx_edges(G,pos)\n",
    "    nx.draw_networkx_edges(G, pos, edgelist=G.edges(), edge_color=weights, width=5.0, edge_cmap=plt.cm.coolwarm, style = style)\n",
    "        #plt.savefig('edges.png')\n",
    "        # labels\n",
    "    nx.draw_networkx_labels(G,pos,font_size=10,font_family='arial')\n",
    "    plt.axis('off')\n",
    "    #plt.savefig(\"weighted_graph.png\") # save as png\n",
    "    #plt.show() # display\n",
    "    return G"
   ]
  },
  {
   "cell_type": "code",
   "execution_count": 360,
   "metadata": {},
   "outputs": [
    {
     "data": {
      "image/png": "[encoded data removed]",
      "text/plain": [
       "<matplotlib.figure.Figure at 0x11b7d6978>"
      ]
     },
     "metadata": {},
     "output_type": "display_data"
    }
   ],
   "source": [
    "grfico =graph_maker.make_display_network(b)"
   ]
  },
  {
   "cell_type": "code",
   "execution_count": 314,
   "metadata": {
    "collapsed": true
   },
   "outputs": [],
   "source": [
    "G=nx.Graph()"
   ]
  },
  {
   "cell_type": "code",
   "execution_count": 315,
   "metadata": {},
   "outputs": [
    {
     "ename": "NameError",
     "evalue": "name 'gene' is not defined",
     "output_type": "error",
     "traceback": [
      "\u001b[0;31m---------------------------------------------------------------------------\u001b[0m",
      "\u001b[0;31mNameError\u001b[0m                                 Traceback (most recent call last)",
      "\u001b[0;32m<ipython-input-315-5428a7c24808>\u001b[0m in \u001b[0;36m<module>\u001b[0;34m()\u001b[0m\n\u001b[0;32m----> 1\u001b[0;31m \u001b[0mG\u001b[0m\u001b[0;34m.\u001b[0m\u001b[0madd_edge\u001b[0m\u001b[0;34m(\u001b[0m\u001b[0mgene\u001b[0m\u001b[0;34m[\u001b[0m\u001b[0;36m1\u001b[0m\u001b[0;34m:\u001b[0m\u001b[0;34m-\u001b[0m\u001b[0;36m1\u001b[0m\u001b[0;34m]\u001b[0m\u001b[0;34m,\u001b[0m\u001b[0mdrug\u001b[0m\u001b[0;34m[\u001b[0m\u001b[0;36m1\u001b[0m\u001b[0;34m:\u001b[0m\u001b[0;34m-\u001b[0m\u001b[0;36m1\u001b[0m\u001b[0;34m]\u001b[0m\u001b[0;34m,\u001b[0m\u001b[0mweight\u001b[0m\u001b[0;34m=\u001b[0m\u001b[0mweight\u001b[0m\u001b[0;34m)\u001b[0m\u001b[0;34m\u001b[0m\u001b[0m\n\u001b[0m",
      "\u001b[0;31mNameError\u001b[0m: name 'gene' is not defined"
     ]
    }
   ],
   "source": [
    "G.add_edge(gene[1:-1],drug[1:-1],weight=weight)"
   ]
  },
  {
   "cell_type": "code",
   "execution_count": 317,
   "metadata": {
    "collapsed": true
   },
   "outputs": [],
   "source": [
    "for (gene,drug), weight in b[0].items():\n",
    "            G.add_edge(gene[1:-1],drug[1:-1],weight=weight)"
   ]
  },
  {
   "cell_type": "code",
   "execution_count": 338,
   "metadata": {},
   "outputs": [
    {
     "data": {
      "text/plain": [
       "[['th',\n",
       "  'celp',\n",
       "  'mb',\n",
       "  'prkaa2',\n",
       "  'c19orf66',\n",
       "  'cic',\n",
       "  'egr3',\n",
       "  'spen',\n",
       "  'egfr',\n",
       "  'akt1',\n",
       "  'src',\n",
       "  'anpep',\n",
       "  'dgcr2',\n",
       "  'abcg2',\n",
       "  'erbb2',\n",
       "  'pten',\n",
       "  'cyp19a1',\n",
       "  'gaa',\n",
       "  'phospho2',\n",
       "  'tnip1',\n",
       "  'pik3ca',\n",
       "  'snai2',\n",
       "  'mtor',\n",
       "  'sgcg',\n",
       "  'birc5'],\n",
       " ['tamoxifen',\n",
       "  'fulvestrant',\n",
       "  'erlotinib',\n",
       "  'trastuzumab',\n",
       "  'fluorouracil',\n",
       "  'triciribine phosphate',\n",
       "  'gemcitabine',\n",
       "  'carbendazim',\n",
       "  'docetaxel',\n",
       "  'temsirolimus',\n",
       "  'paclitaxel',\n",
       "  'everolimus',\n",
       "  'sorafenib tosylate',\n",
       "  'pi3k/mtor inhibitor bez235',\n",
       "  'cyclophosphamide',\n",
       "  'lenalidomide',\n",
       "  'cisplatin',\n",
       "  'bevacizumab',\n",
       "  'vinorelbine',\n",
       "  'recombinant interleukin-6',\n",
       "  'oxaliplatin',\n",
       "  'lapatinib',\n",
       "  'dacarbazine',\n",
       "  'doxorubicin',\n",
       "  'capecitabine',\n",
       "  'buparlisib',\n",
       "  'selumetinib',\n",
       "  'thalidomide',\n",
       "  'mitoxantrone',\n",
       "  'letrozole',\n",
       "  'leucovorin calcium']]"
      ]
     },
     "execution_count": 338,
     "metadata": {},
     "output_type": "execute_result"
    }
   ],
   "source": [
    "get_node_set(G.edges)"
   ]
  },
  {
   "cell_type": "code",
   "execution_count": 337,
   "metadata": {
    "collapsed": true
   },
   "outputs": [],
   "source": [
    "def get_node_set(edges):\n",
    "    node_set=set()\n",
    "    for node in edges():\n",
    "        node_set.update(node)\n",
    "    gene_nodes = []\n",
    "    drug_nodes = []\n",
    "    for item in list(node_set):\n",
    "    #print(item)\n",
    "        if dg['#'+item+'#']=='gene':\n",
    "            gene_nodes.append(item)\n",
    "        if dg['#'+item+'#']=='drug':\n",
    "            drug_nodes.append(item)\n",
    "    return [gene_nodes, drug_nodes]"
   ]
  },
  {
   "cell_type": "code",
   "execution_count": 353,
   "metadata": {},
   "outputs": [
    {
     "ename": "NameError",
     "evalue": "name 'Graph' is not defined",
     "output_type": "error",
     "traceback": [
      "\u001b[0;31m---------------------------------------------------------------------------\u001b[0m",
      "\u001b[0;31mNameError\u001b[0m                                 Traceback (most recent call last)",
      "\u001b[0;32m<ipython-input-353-f7f9cc979558>\u001b[0m in \u001b[0;36m<module>\u001b[0;34m()\u001b[0m\n\u001b[0;32m----> 1\u001b[0;31m \u001b[0mGraph\u001b[0m\u001b[0;34m\u001b[0m\u001b[0m\n\u001b[0m",
      "\u001b[0;31mNameError\u001b[0m: name 'Graph' is not defined"
     ]
    }
   ],
   "source": [
    "Graph"
   ]
  },
  {
   "cell_type": "code",
   "execution_count": 358,
   "metadata": {},
   "outputs": [
    {
     "name": "stdout",
     "output_type": "stream",
     "text": [
      "<bound method Graph.edges of <networkx.classes.graph.Graph object at 0x11bc12278>>\n"
     ]
    }
   ],
   "source": [
    "print(G.edges)"
   ]
  },
  {
   "cell_type": "code",
   "execution_count": 364,
   "metadata": {},
   "outputs": [
    {
     "data": {
      "text/plain": [
       "[('abcg2', 'mitoxantrone'),\n",
       " ('mitoxantrone', 'mb'),\n",
       " ('akt1', 'lapatinib'),\n",
       " ('akt1', 'letrozole'),\n",
       " ('akt1', 'tamoxifen'),\n",
       " ('akt1', 'trastuzumab'),\n",
       " ('lapatinib', 'anpep'),\n",
       " ('lapatinib', 'egfr'),\n",
       " ('lapatinib', 'erbb2'),\n",
       " ('lapatinib', 'mtor'),\n",
       " ('lapatinib', 'pik3ca'),\n",
       " ('lapatinib', 'pten'),\n",
       " ('lapatinib', 'src'),\n",
       " ('letrozole', 'celp'),\n",
       " ('letrozole', 'cic'),\n",
       " ('letrozole', 'erbb2'),\n",
       " ('letrozole', 'mtor'),\n",
       " ('letrozole', 'pik3ca'),\n",
       " ('letrozole', 'pten'),\n",
       " ('tamoxifen', 'c19orf66'),\n",
       " ('tamoxifen', 'celp'),\n",
       " ('tamoxifen', 'cyp19a1'),\n",
       " ('tamoxifen', 'dgcr2'),\n",
       " ('tamoxifen', 'erbb2'),\n",
       " ('tamoxifen', 'pik3ca'),\n",
       " ('tamoxifen', 'pten'),\n",
       " ('tamoxifen', 'spen'),\n",
       " ('tamoxifen', 'th'),\n",
       " ('trastuzumab', 'birc5'),\n",
       " ('trastuzumab', 'celp'),\n",
       " ('trastuzumab', 'erbb2'),\n",
       " ('trastuzumab', 'phospho2'),\n",
       " ('trastuzumab', 'pik3ca'),\n",
       " ('trastuzumab', 'prkaa2'),\n",
       " ('trastuzumab', 'pten'),\n",
       " ('trastuzumab', 'sgcg'),\n",
       " ('trastuzumab', 'snai2'),\n",
       " ('trastuzumab', 'tnip1'),\n",
       " ('celp', 'recombinant interleukin-6'),\n",
       " ('recombinant interleukin-6', 'cic'),\n",
       " ('recombinant interleukin-6', 'erbb2'),\n",
       " ('recombinant interleukin-6', 'pten'),\n",
       " ('egr3', 'bevacizumab'),\n",
       " ('egr3', 'capecitabine'),\n",
       " ('egr3', 'carbendazim'),\n",
       " ('egr3', 'cisplatin'),\n",
       " ('egr3', 'dacarbazine'),\n",
       " ('egr3', 'docetaxel'),\n",
       " ('egr3', 'doxorubicin'),\n",
       " ('egr3', 'erlotinib'),\n",
       " ('egr3', 'everolimus'),\n",
       " ('egr3', 'fluorouracil'),\n",
       " ('egr3', 'lenalidomide'),\n",
       " ('egr3', 'leucovorin calcium'),\n",
       " ('egr3', 'oxaliplatin'),\n",
       " ('egr3', 'paclitaxel'),\n",
       " ('egr3', 'pi3k/mtor inhibitor bez235'),\n",
       " ('egr3', 'selumetinib'),\n",
       " ('egr3', 'sorafenib tosylate'),\n",
       " ('egr3', 'temsirolimus'),\n",
       " ('egr3', 'thalidomide'),\n",
       " ('bevacizumab', 'erbb2'),\n",
       " ('bevacizumab', 'gaa'),\n",
       " ('bevacizumab', 'mtor'),\n",
       " ('capecitabine', 'erbb2'),\n",
       " ('capecitabine', 'gaa'),\n",
       " ('capecitabine', 'mtor'),\n",
       " ('carbendazim', 'erbb2'),\n",
       " ('carbendazim', 'gaa'),\n",
       " ('carbendazim', 'mtor'),\n",
       " ('cisplatin', 'erbb2'),\n",
       " ('cisplatin', 'gaa'),\n",
       " ('cisplatin', 'mtor'),\n",
       " ('cisplatin', 'pik3ca'),\n",
       " ('cisplatin', 'sgcg'),\n",
       " ('dacarbazine', 'erbb2'),\n",
       " ('dacarbazine', 'gaa'),\n",
       " ('dacarbazine', 'mtor'),\n",
       " ('docetaxel', 'erbb2'),\n",
       " ('docetaxel', 'gaa'),\n",
       " ('docetaxel', 'mtor'),\n",
       " ('doxorubicin', 'erbb2'),\n",
       " ('doxorubicin', 'gaa'),\n",
       " ('doxorubicin', 'mtor'),\n",
       " ('doxorubicin', 'pik3ca'),\n",
       " ('doxorubicin', 'sgcg'),\n",
       " ('erlotinib', 'erbb2'),\n",
       " ('erlotinib', 'gaa'),\n",
       " ('erlotinib', 'mtor'),\n",
       " ('everolimus', 'erbb2'),\n",
       " ('everolimus', 'gaa'),\n",
       " ('everolimus', 'mtor'),\n",
       " ('everolimus', 'pik3ca'),\n",
       " ('everolimus', 'sgcg'),\n",
       " ('fluorouracil', 'erbb2'),\n",
       " ('fluorouracil', 'gaa'),\n",
       " ('fluorouracil', 'mtor'),\n",
       " ('lenalidomide', 'erbb2'),\n",
       " ('lenalidomide', 'gaa'),\n",
       " ('lenalidomide', 'mtor'),\n",
       " ('leucovorin calcium', 'erbb2'),\n",
       " ('leucovorin calcium', 'gaa'),\n",
       " ('leucovorin calcium', 'mtor'),\n",
       " ('oxaliplatin', 'erbb2'),\n",
       " ('oxaliplatin', 'gaa'),\n",
       " ('oxaliplatin', 'mtor'),\n",
       " ('paclitaxel', 'erbb2'),\n",
       " ('paclitaxel', 'gaa'),\n",
       " ('paclitaxel', 'mtor'),\n",
       " ('paclitaxel', 'pik3ca'),\n",
       " ('paclitaxel', 'sgcg'),\n",
       " ('pi3k/mtor inhibitor bez235', 'erbb2'),\n",
       " ('pi3k/mtor inhibitor bez235', 'gaa'),\n",
       " ('pi3k/mtor inhibitor bez235', 'mtor'),\n",
       " ('selumetinib', 'erbb2'),\n",
       " ('selumetinib', 'gaa'),\n",
       " ('selumetinib', 'mtor'),\n",
       " ('sorafenib tosylate', 'erbb2'),\n",
       " ('sorafenib tosylate', 'gaa'),\n",
       " ('sorafenib tosylate', 'mtor'),\n",
       " ('temsirolimus', 'erbb2'),\n",
       " ('temsirolimus', 'gaa'),\n",
       " ('temsirolimus', 'mtor'),\n",
       " ('thalidomide', 'erbb2'),\n",
       " ('thalidomide', 'gaa'),\n",
       " ('thalidomide', 'mtor'),\n",
       " ('erbb2', 'buparlisib'),\n",
       " ('erbb2', 'cyclophosphamide'),\n",
       " ('erbb2', 'gemcitabine'),\n",
       " ('erbb2', 'triciribine phosphate'),\n",
       " ('erbb2', 'vinorelbine'),\n",
       " ('buparlisib', 'pik3ca'),\n",
       " ('buparlisib', 'sgcg'),\n",
       " ('cyclophosphamide', 'pik3ca'),\n",
       " ('cyclophosphamide', 'sgcg'),\n",
       " ('gemcitabine', 'pik3ca'),\n",
       " ('gemcitabine', 'sgcg'),\n",
       " ('triciribine phosphate', 'pik3ca'),\n",
       " ('triciribine phosphate', 'sgcg'),\n",
       " ('pten', 'fulvestrant')]"
      ]
     },
     "execution_count": 364,
     "metadata": {},
     "output_type": "execute_result"
    }
   ],
   "source": [
    "grfico.edges()"
   ]
  },
  {
   "cell_type": "code",
   "execution_count": 100,
   "metadata": {},
   "outputs": [],
   "source": [
    "nx.write_gexf(RG, \"RG.gexf\")"
   ]
  },
  {
   "cell_type": "code",
   "execution_count": 99,
   "metadata": {},
   "outputs": [],
   "source": [
    "RG =data_frame_creator.open_pickle('resistance_graph.pickle')"
   ]
  },
  {
   "cell_type": "code",
   "execution_count": 92,
   "metadata": {},
   "outputs": [],
   "source": [
    "import networkx as nx"
   ]
  },
  {
   "cell_type": "code",
   "execution_count": 95,
   "metadata": {
    "scrolled": true
   },
   "outputs": [
    {
     "ename": "NameError",
     "evalue": "name 'inverse_network_genes' is not defined",
     "output_type": "error",
     "traceback": [
      "\u001b[0;31m---------------------------------------------------------------------------\u001b[0m",
      "\u001b[0;31mNameError\u001b[0m                                 Traceback (most recent call last)",
      "\u001b[0;32m<ipython-input-95-865ef6b739da>\u001b[0m in \u001b[0;36m<module>\u001b[0;34m()\u001b[0m\n\u001b[0;32m----> 1\u001b[0;31m \u001b[0minverse_network_genes\u001b[0m\u001b[0;34m\u001b[0m\u001b[0m\n\u001b[0m",
      "\u001b[0;31mNameError\u001b[0m: name 'inverse_network_genes' is not defined"
     ]
    }
   ],
   "source": [
    "inverse_network_genes"
   ]
  },
  {
   "cell_type": "code",
   "execution_count": null,
   "metadata": {
    "collapsed": true
   },
   "outputs": [],
   "source": []
  },
  {
   "cell_type": "code",
   "execution_count": null,
   "metadata": {
    "collapsed": true
   },
   "outputs": [],
   "source": []
  },
  {
   "cell_type": "code",
   "execution_count": null,
   "metadata": {
    "collapsed": true
   },
   "outputs": [],
   "source": []
  },
  {
   "cell_type": "code",
   "execution_count": null,
   "metadata": {
    "collapsed": true
   },
   "outputs": [],
   "source": []
  },
  {
   "cell_type": "code",
   "execution_count": null,
   "metadata": {
    "collapsed": true
   },
   "outputs": [],
   "source": []
  },
  {
   "cell_type": "code",
   "execution_count": 107,
   "metadata": {},
   "outputs": [
    {
     "name": "stdout",
     "output_type": "stream",
     "text": [
      "/Users/ale/Dropbox (Yadlin Family)/galvanize/capstone/spark\n"
     ]
    }
   ],
   "source": [
    "cd spark"
   ]
  },
  {
   "cell_type": "code",
   "execution_count": 169,
   "metadata": {},
   "outputs": [],
   "source": [
    "import make_NMF_model as NMF"
   ]
  },
  {
   "cell_type": "markdown",
   "metadata": {},
   "source": [
    "best= nmf.best_models(R, S, A, ranks, regs)"
   ]
  },
  {
   "cell_type": "code",
   "execution_count": 126,
   "metadata": {},
   "outputs": [
    {
     "ename": "NameError",
     "evalue": "name 'spark_R_df' is not defined",
     "output_type": "error",
     "traceback": [
      "\u001b[0;31m---------------------------------------------------------------------------\u001b[0m",
      "\u001b[0;31mNameError\u001b[0m                                 Traceback (most recent call last)",
      "\u001b[0;32m<ipython-input-126-f9cf04ed5f93>\u001b[0m in \u001b[0;36m<module>\u001b[0;34m()\u001b[0m\n\u001b[0;32m----> 1\u001b[0;31m \u001b[0mbest\u001b[0m\u001b[0;34m=\u001b[0m \u001b[0mNMF\u001b[0m\u001b[0;34m.\u001b[0m\u001b[0mbest_model_values\u001b[0m\u001b[0;34m(\u001b[0m\u001b[0mspark_R_df\u001b[0m\u001b[0;34m,\u001b[0m \u001b[0mspark_S_df\u001b[0m\u001b[0;34m,\u001b[0m \u001b[0mspark_A_df\u001b[0m\u001b[0;34m,\u001b[0m \u001b[0mranks\u001b[0m\u001b[0;34m,\u001b[0m \u001b[0mregs\u001b[0m\u001b[0;34m)\u001b[0m\u001b[0;34m\u001b[0m\u001b[0m\n\u001b[0m",
      "\u001b[0;31mNameError\u001b[0m: name 'spark_R_df' is not defined"
     ]
    }
   ],
   "source": [
    "best= NMF.best_model_values(spark_R_df, spark_S_df, spark_A_df, ranks, regs)"
   ]
  },
  {
   "cell_type": "code",
   "execution_count": 113,
   "metadata": {},
   "outputs": [
    {
     "name": "stdout",
     "output_type": "stream",
     "text": [
      "/Users/ale/Dropbox (Yadlin Family)/galvanize/capstone\n"
     ]
    }
   ],
   "source": [
    "cd .."
   ]
  },
  {
   "cell_type": "code",
   "execution_count": 159,
   "metadata": {},
   "outputs": [],
   "source": [
    "from make_NMF_model import best_models"
   ]
  },
  {
   "cell_type": "code",
   "execution_count": 127,
   "metadata": {
    "collapsed": true
   },
   "outputs": [],
   "source": [
    "resist_network_matrix=data_frame_creator.open_pickle('spark/resist_network_matrix.pickle')\n",
    "sensit_network_matrix=data_frame_creator.open_pickle('spark/sensit_network_matrix.pickle')\n",
    "any_network_matrix=data_frame_creator.open_pickle('spark/any_network_matrix.pickle')"
   ]
  },
  {
   "cell_type": "code",
   "execution_count": 134,
   "metadata": {},
   "outputs": [],
   "source": [
    "R = scs.coo_matrix(resist_network_matrix)\n",
    "S = scs.coo_matrix(sensit_network_matrix)\n",
    "A = scs.coo_matrix(any_network_matrix)\n",
    "\n",
    "R_df=pd.DataFrame({'gene_id':R.row, 'drug_id':R.col, 'data':R.data})\n",
    "R_df['log_data'] = np.log(R_df['data']+1)\n",
    "spark_R_df = spark.createDataFrame(R_df)\n",
    "\n",
    "S_df=pd.DataFrame({'gene_id':S.row, 'drug_id':S.col, 'data':S.data})\n",
    "S_df['log_data'] = np.log(S_df['data']+1)\n",
    "spark_S_df = spark.createDataFrame(S_df)\n",
    "\n",
    "A_df=pd.DataFrame({'gene_id':A.row, 'drug_id':A.col, 'data':A.data})\n",
    "A_df['log_data'] = np.log(A_df['data']+1)\n",
    "spark_A_df = spark.createDataFrame(A_df)"
   ]
  },
  {
   "cell_type": "code",
   "execution_count": 142,
   "metadata": {
    "collapsed": true
   },
   "outputs": [],
   "source": [
    "ranks = [10,11,12,13,14,15,16,17,18,19,20]\n",
    "regs = [0.001, 0.01, 0.1, 1]"
   ]
  },
  {
   "cell_type": "code",
   "execution_count": 143,
   "metadata": {},
   "outputs": [
    {
     "data": {
      "text/plain": [
       "[ALS_4f439351e6dca65a1158,\n",
       " (13, 0.1, 0.5592421722084027),\n",
       " [[10, 0.001, 1.0253026655443334],\n",
       "  [10, 0.01, 0.6424538002165874],\n",
       "  [10, 0.1, 0.5646208417286995],\n",
       "  [10, 1, 1.1768253148154075],\n",
       "  [11, 0.001, 0.8914901510250663],\n",
       "  [11, 0.01, 0.6307243931632919],\n",
       "  [11, 0.1, 0.563871406098586],\n",
       "  [11, 1, 1.1635083278916902],\n",
       "  [12, 0.001, 0.8122608473555014],\n",
       "  [12, 0.01, 0.6246632656126945],\n",
       "  [12, 0.1, 0.5653423450778673],\n",
       "  [12, 1, 1.1622790467030795],\n",
       "  [13, 0.001, 0.8091820575258031],\n",
       "  [13, 0.01, 0.6084544485189808],\n",
       "  [13, 0.1, 0.5592421722084027],\n",
       "  [13, 1, 1.1628243137745056],\n",
       "  [14, 0.001, 0.8080561803920862],\n",
       "  [14, 0.01, 0.6289515875283275],\n",
       "  [14, 0.1, 0.5636363899182955],\n",
       "  [14, 1, 1.1735945642506251],\n",
       "  [15, 0.001, 0.8900645083726858],\n",
       "  [15, 0.01, 0.6066378568872707],\n",
       "  [15, 0.1, 0.561699878063963],\n",
       "  [15, 1, 1.1625881868837669],\n",
       "  [16, 0.001, 0.78208960148961],\n",
       "  [16, 0.01, 0.6158886563548863],\n",
       "  [16, 0.1, 0.5612790742688879],\n",
       "  [16, 1, 1.1640841773442971],\n",
       "  [17, 0.001, 0.8349961404463707],\n",
       "  [17, 0.01, 0.6304060400473647],\n",
       "  [17, 0.1, 0.5615579490949554],\n",
       "  [17, 1, 1.1771052632503818],\n",
       "  [18, 0.001, 0.8382067013781512],\n",
       "  [18, 0.01, 0.6332812566582344],\n",
       "  [18, 0.1, 0.5608988885623445],\n",
       "  [18, 1, 1.173213210115724],\n",
       "  [19, 0.001, 0.8419898000917618],\n",
       "  [19, 0.01, 0.6088177405270844],\n",
       "  [19, 0.1, 0.5613021804352266],\n",
       "  [19, 1, 1.1750992950607033],\n",
       "  [20, 0.001, 0.7846791465815907],\n",
       "  [20, 0.01, 0.6081536382575432],\n",
       "  [20, 0.1, 0.5598473090860681],\n",
       "  [20, 1, 1.1735546347583625]]]"
      ]
     },
     "execution_count": 143,
     "metadata": {},
     "output_type": "execute_result"
    }
   ],
   "source": [
    "best_R= NMF.best_model_values(spark_R_df, ranks, regs)\n",
    "best_R"
   ]
  },
  {
   "cell_type": "code",
   "execution_count": 144,
   "metadata": {},
   "outputs": [
    {
     "data": {
      "text/plain": [
       "[ALS_4087b0d8b8592a40b502,\n",
       " (16, 0.1, 0.5441309329870462),\n",
       " [[10, 0.001, 0.9376039473589843],\n",
       "  [10, 0.01, 0.6503274482155097],\n",
       "  [10, 0.1, 0.5480759897079098],\n",
       "  [10, 1, 1.133331747173175],\n",
       "  [11, 0.001, 0.7944081291580746],\n",
       "  [11, 0.01, 0.6290759206207839],\n",
       "  [11, 0.1, 0.5472851683775904],\n",
       "  [11, 1, 1.1341847779436902],\n",
       "  [12, 0.001, 0.8822066471746544],\n",
       "  [12, 0.01, 0.6371907128383457],\n",
       "  [12, 0.1, 0.5463375067815146],\n",
       "  [12, 1, 1.1464062696687456],\n",
       "  [13, 0.001, 0.9338294559716436],\n",
       "  [13, 0.01, 0.6245684417169984],\n",
       "  [13, 0.1, 0.5447775507288963],\n",
       "  [13, 1, 1.1387939340637772],\n",
       "  [14, 0.001, 0.8348471928537458],\n",
       "  [14, 0.01, 0.6280713612653038],\n",
       "  [14, 0.1, 0.5442436055959866],\n",
       "  [14, 1, 1.1372731354917909],\n",
       "  [15, 0.001, 0.8783265707981168],\n",
       "  [15, 0.01, 0.6253737868858409],\n",
       "  [15, 0.1, 0.5444872333230617],\n",
       "  [15, 1, 1.1548770259868264],\n",
       "  [16, 0.001, 0.7939650186869814],\n",
       "  [16, 0.01, 0.5985167552821025],\n",
       "  [16, 0.1, 0.5441309329870462],\n",
       "  [16, 1, 1.138354046940043],\n",
       "  [17, 0.001, 0.7309737238347143],\n",
       "  [17, 0.01, 0.614542231510107],\n",
       "  [17, 0.1, 0.5446893533758377],\n",
       "  [17, 1, 1.1387594515318706],\n",
       "  [18, 0.001, 0.7921369959763348],\n",
       "  [18, 0.01, 0.6105749102691258],\n",
       "  [18, 0.1, 0.5451003483829547],\n",
       "  [18, 1, 1.1319486639657237],\n",
       "  [19, 0.001, 0.7841728795184824],\n",
       "  [19, 0.01, 0.605934468261065],\n",
       "  [19, 0.1, 0.5441562967669386],\n",
       "  [19, 1, 1.1355107685184245],\n",
       "  [20, 0.001, 0.7710410029078213],\n",
       "  [20, 0.01, 0.6148139446083242],\n",
       "  [20, 0.1, 0.5450593777190246],\n",
       "  [20, 1, 1.1424263250934736]]]"
      ]
     },
     "execution_count": 144,
     "metadata": {},
     "output_type": "execute_result"
    }
   ],
   "source": [
    "best_S= NMF.best_model_values(spark_S_df, ranks, regs)\n",
    "best_S"
   ]
  },
  {
   "cell_type": "code",
   "execution_count": 145,
   "metadata": {},
   "outputs": [
    {
     "data": {
      "text/plain": [
       "[ALS_42e8ae0f4ea3ebf09361,\n",
       " (19, 0.1, 0.6689951859784908),\n",
       " [[10, 0.001, 0.8094378466704691],\n",
       "  [10, 0.01, 0.7126544767162035],\n",
       "  [10, 0.1, 0.6752405086955424],\n",
       "  [10, 1, 1.2530536582114282],\n",
       "  [11, 0.001, 0.8128400246161107],\n",
       "  [11, 0.01, 0.7169701988130027],\n",
       "  [11, 0.1, 0.6753814354553749],\n",
       "  [11, 1, 1.2526844100141585],\n",
       "  [12, 0.001, 0.8668039968548731],\n",
       "  [12, 0.01, 0.7175211835472945],\n",
       "  [12, 0.1, 0.674748554484382],\n",
       "  [12, 1, 1.2524949758951285],\n",
       "  [13, 0.001, 0.9019536435664759],\n",
       "  [13, 0.01, 0.7147909980767239],\n",
       "  [13, 0.1, 0.672317690158682],\n",
       "  [13, 1, 1.253163610659408],\n",
       "  [14, 0.001, 0.8379669559872629],\n",
       "  [14, 0.01, 0.7144130576767602],\n",
       "  [14, 0.1, 0.6712692617390843],\n",
       "  [14, 1, 1.253089918231447],\n",
       "  [15, 0.001, 0.9085248397796044],\n",
       "  [15, 0.01, 0.7158594683399275],\n",
       "  [15, 0.1, 0.6719819875572965],\n",
       "  [15, 1, 1.2525264308499926],\n",
       "  [16, 0.001, 0.8853796706561503],\n",
       "  [16, 0.01, 0.7181207184572521],\n",
       "  [16, 0.1, 0.6716051760679416],\n",
       "  [16, 1, 1.2521144070909356],\n",
       "  [17, 0.001, 0.8651598274015095],\n",
       "  [17, 0.01, 0.7210097711747663],\n",
       "  [17, 0.1, 0.6723340519289803],\n",
       "  [17, 1, 1.252725046480159],\n",
       "  [18, 0.001, 0.865299124174198],\n",
       "  [18, 0.01, 0.7172194883669867],\n",
       "  [18, 0.1, 0.6709509788991727],\n",
       "  [18, 1, 1.2522234443379716],\n",
       "  [19, 0.001, 0.9087111095048217],\n",
       "  [19, 0.01, 0.711429792627899],\n",
       "  [19, 0.1, 0.6689951859784908],\n",
       "  [19, 1, 1.2522787742183477],\n",
       "  [20, 0.001, 0.8647783685393099],\n",
       "  [20, 0.01, 0.7167605400315578],\n",
       "  [20, 0.1, 0.6700285016536045],\n",
       "  [20, 1, 1.2522421335485852]]]"
      ]
     },
     "execution_count": 145,
     "metadata": {},
     "output_type": "execute_result"
    }
   ],
   "source": [
    "best_A= NMF.best_model_values(spark_A_df, ranks, regs)\n",
    "best_A"
   ]
  },
  {
   "cell_type": "code",
   "execution_count": 146,
   "metadata": {
    "collapsed": true
   },
   "outputs": [],
   "source": [
    "ranks = [12,13,14,15,16,17,18, 19, 20, 21, 22]\n",
    "regs = [ 0.05, 0.1, 0.2, 0.3, 0.4, 0.5]"
   ]
  },
  {
   "cell_type": "code",
   "execution_count": 150,
   "metadata": {},
   "outputs": [
    {
     "data": {
      "text/plain": [
       "[ALS_470199f9f0174651b1b2,\n",
       " (16, 0.05, 0.5553392580338418),\n",
       " [[12, 0.05, 0.5675589781277965],\n",
       "  [12, 0.1, 0.5653423450778672],\n",
       "  [12, 0.2, 0.6012077156342429],\n",
       "  [12, 0.3, 0.6444328174497783],\n",
       "  [12, 0.4, 0.6980155934924681],\n",
       "  [12, 0.5, 0.7608974021073028],\n",
       "  [13, 0.05, 0.5557541077457258],\n",
       "  [13, 0.1, 0.5592421722084027],\n",
       "  [13, 0.2, 0.6006923188312377],\n",
       "  [13, 0.3, 0.644462911841592],\n",
       "  [13, 0.4, 0.6980398611251708],\n",
       "  [13, 0.5, 0.7609141393890019],\n",
       "  [14, 0.05, 0.5597950140680298],\n",
       "  [14, 0.1, 0.5636363899182955],\n",
       "  [14, 0.2, 0.6009039685213861],\n",
       "  [14, 0.3, 0.6444477321380199],\n",
       "  [14, 0.4, 0.6980234807775205],\n",
       "  [14, 0.5, 0.7609011534678112],\n",
       "  [15, 0.05, 0.5638650984217697],\n",
       "  [15, 0.1, 0.5616998780639629],\n",
       "  [15, 0.2, 0.6005792739153502],\n",
       "  [15, 0.3, 0.644391952820896],\n",
       "  [15, 0.4, 0.6979794005034318],\n",
       "  [15, 0.5, 0.7608681461154289],\n",
       "  [16, 0.05, 0.5553392580338418],\n",
       "  [16, 0.1, 0.5612790742688879],\n",
       "  [16, 0.2, 0.6007568939569189],\n",
       "  [16, 0.3, 0.6444883339819295],\n",
       "  [16, 0.4, 0.6980600491449488],\n",
       "  [16, 0.5, 0.7609289815312921],\n",
       "  [17, 0.05, 0.5599530003057966],\n",
       "  [17, 0.1, 0.5615579490949553],\n",
       "  [17, 0.2, 0.6007584164351895],\n",
       "  [17, 0.3, 0.6444222376116708],\n",
       "  [17, 0.4, 0.6980007433550783],\n",
       "  [17, 0.5, 0.7608810883126542],\n",
       "  [18, 0.05, 0.5582459264797569],\n",
       "  [18, 0.1, 0.5608988885623446],\n",
       "  [18, 0.2, 0.6007156465525243],\n",
       "  [18, 0.3, 0.6444747977086803],\n",
       "  [18, 0.4, 0.6980458041172979],\n",
       "  [18, 0.5, 0.7609183603077695],\n",
       "  [19, 0.05, 0.5562184077720866],\n",
       "  [19, 0.1, 0.5613021804352267],\n",
       "  [19, 0.2, 0.6010254957759559],\n",
       "  [19, 0.3, 0.6444280050336169],\n",
       "  [19, 0.4, 0.6980081202712862],\n",
       "  [19, 0.5, 0.7608903181436028],\n",
       "  [20, 0.05, 0.5586350432236278],\n",
       "  [20, 0.1, 0.5598473090860681],\n",
       "  [20, 0.2, 0.6007763100283776],\n",
       "  [20, 0.3, 0.6444470727164809],\n",
       "  [20, 0.4, 0.6980279256008418],\n",
       "  [20, 0.5, 0.7609055658177573],\n",
       "  [21, 0.05, 0.5569271102715125],\n",
       "  [21, 0.1, 0.5599122590178793],\n",
       "  [21, 0.2, 0.6009252466387985],\n",
       "  [21, 0.3, 0.6444414046375779],\n",
       "  [21, 0.4, 0.6980183399893531],\n",
       "  [21, 0.5, 0.7608983176447006],\n",
       "  [22, 0.05, 0.558634154726589],\n",
       "  [22, 0.1, 0.5595251125671556],\n",
       "  [22, 0.2, 0.6006872783050957],\n",
       "  [22, 0.3, 0.6444319607112061],\n",
       "  [22, 0.4, 0.6980108684287663],\n",
       "  [22, 0.5, 0.7608893504060467]]]"
      ]
     },
     "execution_count": 150,
     "metadata": {},
     "output_type": "execute_result"
    }
   ],
   "source": [
    "best_R2= NMF.best_model_values(spark_R_df, ranks, regs)\n",
    "best_R2"
   ]
  },
  {
   "cell_type": "code",
   "execution_count": 151,
   "metadata": {},
   "outputs": [
    {
     "data": {
      "text/plain": [
       "[ALS_46ffbacc739fb4ac1560,\n",
       " (16, 0.1, 0.5441309329870462),\n",
       " [[12, 0.05, 0.5496004346293418],\n",
       "  [12, 0.1, 0.5463375067815146],\n",
       "  [12, 0.2, 0.574861071068704],\n",
       "  [12, 0.3, 0.6188743174967655],\n",
       "  [12, 0.4, 0.6739441524289443],\n",
       "  [12, 0.5, 0.7379861786434266],\n",
       "  [13, 0.05, 0.5564377778640441],\n",
       "  [13, 0.1, 0.5447775507288963],\n",
       "  [13, 0.2, 0.5751100116391233],\n",
       "  [13, 0.3, 0.6188764647025727],\n",
       "  [13, 0.4, 0.6739459748100528],\n",
       "  [13, 0.5, 0.7379834575972701],\n",
       "  [14, 0.05, 0.555308396652758],\n",
       "  [14, 0.1, 0.5442436055959866],\n",
       "  [14, 0.2, 0.5756246200695125],\n",
       "  [14, 0.3, 0.6188869645726286],\n",
       "  [14, 0.4, 0.6739542625949618],\n",
       "  [14, 0.5, 0.7379956536733451],\n",
       "  [15, 0.05, 0.5515830576166445],\n",
       "  [15, 0.1, 0.5444872333230618],\n",
       "  [15, 0.2, 0.5755183500045764],\n",
       "  [15, 0.3, 0.6188809121738552],\n",
       "  [15, 0.4, 0.6739576303841159],\n",
       "  [15, 0.5, 0.737999991021309],\n",
       "  [16, 0.05, 0.550246334819913],\n",
       "  [16, 0.1, 0.5441309329870462],\n",
       "  [16, 0.2, 0.5753044786634613],\n",
       "  [16, 0.3, 0.6188982317759996],\n",
       "  [16, 0.4, 0.6739648228075423],\n",
       "  [16, 0.5, 0.7380051394014263],\n",
       "  [17, 0.05, 0.5483653984266839],\n",
       "  [17, 0.1, 0.5446893533758377],\n",
       "  [17, 0.2, 0.575204095944088],\n",
       "  [17, 0.3, 0.618881409795817],\n",
       "  [17, 0.4, 0.6739567838503903],\n",
       "  [17, 0.5, 0.7379993265848528],\n",
       "  [18, 0.05, 0.5480409406526017],\n",
       "  [18, 0.1, 0.5451003483829547],\n",
       "  [18, 0.2, 0.5751353092323936],\n",
       "  [18, 0.3, 0.6188827227470083],\n",
       "  [18, 0.4, 0.6739514598924854],\n",
       "  [18, 0.5, 0.7379897978693079],\n",
       "  [19, 0.05, 0.5502800894225993],\n",
       "  [19, 0.1, 0.5441562967669384],\n",
       "  [19, 0.2, 0.5749904235042396],\n",
       "  [19, 0.3, 0.6188755262608961],\n",
       "  [19, 0.4, 0.673948431411005],\n",
       "  [19, 0.5, 0.7379905524757241],\n",
       "  [20, 0.05, 0.5516681245732187],\n",
       "  [20, 0.1, 0.5450593777190247],\n",
       "  [20, 0.2, 0.5749992186833658],\n",
       "  [20, 0.3, 0.6188721202133044],\n",
       "  [20, 0.4, 0.6739406056100443],\n",
       "  [20, 0.5, 0.7379828026230195],\n",
       "  [21, 0.05, 0.5477591681468801],\n",
       "  [21, 0.1, 0.5444516784744223],\n",
       "  [21, 0.2, 0.574982198534974],\n",
       "  [21, 0.3, 0.6188781465794805],\n",
       "  [21, 0.4, 0.6739494052999622],\n",
       "  [21, 0.5, 0.7379862333752547],\n",
       "  [22, 0.05, 0.544731193843901],\n",
       "  [22, 0.1, 0.5443797218745907],\n",
       "  [22, 0.2, 0.5752794752956358],\n",
       "  [22, 0.3, 0.6188809710385802],\n",
       "  [22, 0.4, 0.6739561303577334],\n",
       "  [22, 0.5, 0.7379981115624674]]]"
      ]
     },
     "execution_count": 151,
     "metadata": {},
     "output_type": "execute_result"
    }
   ],
   "source": [
    "best_S2= NMF.best_model_values(spark_S_df, ranks, regs)\n",
    "best_S2"
   ]
  },
  {
   "cell_type": "code",
   "execution_count": 149,
   "metadata": {},
   "outputs": [
    {
     "data": {
      "text/plain": [
       "[ALS_487191d34debd12453f3,\n",
       " (22, 0.05, 0.6564373726128218),\n",
       " [[12, 0.05, 0.670374286849388],\n",
       "  [12, 0.1, 0.674748554484382],\n",
       "  [12, 0.2, 0.7333041625275541],\n",
       "  [12, 0.3, 0.777553736286366],\n",
       "  [12, 0.4, 0.82782302327971],\n",
       "  [12, 0.5, 0.8862833727496215],\n",
       "  [13, 0.05, 0.6651107458528381],\n",
       "  [13, 0.1, 0.672317690158682],\n",
       "  [13, 0.2, 0.7329810704695212],\n",
       "  [13, 0.3, 0.777517156001789],\n",
       "  [13, 0.4, 0.8278229523955856],\n",
       "  [13, 0.5, 0.8862833723004139],\n",
       "  [14, 0.05, 0.6610006906770063],\n",
       "  [14, 0.1, 0.6712692617390845],\n",
       "  [14, 0.2, 0.7331508957315085],\n",
       "  [14, 0.3, 0.77757078833783],\n",
       "  [14, 0.4, 0.8278230379936987],\n",
       "  [14, 0.5, 0.8862833729038884],\n",
       "  [15, 0.05, 0.6655564911860123],\n",
       "  [15, 0.1, 0.6719819875572965],\n",
       "  [15, 0.2, 0.7334470941659172],\n",
       "  [15, 0.3, 0.7775387445084289],\n",
       "  [15, 0.4, 0.8278230124204807],\n",
       "  [15, 0.5, 0.8862833743015066],\n",
       "  [16, 0.05, 0.6593498059894425],\n",
       "  [16, 0.1, 0.6716051760679416],\n",
       "  [16, 0.2, 0.7334090105048963],\n",
       "  [16, 0.3, 0.7775495515230484],\n",
       "  [16, 0.4, 0.8278230040676777],\n",
       "  [16, 0.5, 0.8862833734343106],\n",
       "  [17, 0.05, 0.6617853497710146],\n",
       "  [17, 0.1, 0.6723340519289805],\n",
       "  [17, 0.2, 0.7330109218275025],\n",
       "  [17, 0.3, 0.7775508817874675],\n",
       "  [17, 0.4, 0.8278230265262283],\n",
       "  [17, 0.5, 0.8862833734449828],\n",
       "  [18, 0.05, 0.659008606766768],\n",
       "  [18, 0.1, 0.6709509788991727],\n",
       "  [18, 0.2, 0.7333469146578374],\n",
       "  [18, 0.3, 0.7775533365633628],\n",
       "  [18, 0.4, 0.8278230138566952],\n",
       "  [18, 0.5, 0.8862833724721942],\n",
       "  [19, 0.05, 0.6586814836080942],\n",
       "  [19, 0.1, 0.6689951859784908],\n",
       "  [19, 0.2, 0.7328820858113586],\n",
       "  [19, 0.3, 0.7775185398326602],\n",
       "  [19, 0.4, 0.8278229533152243],\n",
       "  [19, 0.5, 0.8862833729103177],\n",
       "  [20, 0.05, 0.6582706812324352],\n",
       "  [20, 0.1, 0.6700285016536045],\n",
       "  [20, 0.2, 0.7328103339252925],\n",
       "  [20, 0.3, 0.7775371324146808],\n",
       "  [20, 0.4, 0.8278230032101015],\n",
       "  [20, 0.5, 0.8862833735709656],\n",
       "  [21, 0.05, 0.6581266474111609],\n",
       "  [21, 0.1, 0.6704497650658962],\n",
       "  [21, 0.2, 0.7328347351496963],\n",
       "  [21, 0.3, 0.7775354998414227],\n",
       "  [21, 0.4, 0.8278229974939955],\n",
       "  [21, 0.5, 0.8862833717330544],\n",
       "  [22, 0.05, 0.6564373726128218],\n",
       "  [22, 0.1, 0.6694649935757572],\n",
       "  [22, 0.2, 0.7328606563827326],\n",
       "  [22, 0.3, 0.7775159860047127],\n",
       "  [22, 0.4, 0.8278229631015726],\n",
       "  [22, 0.5, 0.8862833727405194]]]"
      ]
     },
     "execution_count": 149,
     "metadata": {},
     "output_type": "execute_result"
    }
   ],
   "source": [
    "best_A2= NMF.best_model_values(spark_A_df, ranks, regs)\n",
    "best_A2"
   ]
  },
  {
   "cell_type": "code",
   "execution_count": 153,
   "metadata": {
    "collapsed": true
   },
   "outputs": [],
   "source": [
    "ranks3 = [20, 21, 22,23,24,25,26,27,28,29]\n",
    "regs3 = [ 0.03,0.04,0.05, 0.06, 0.07, 0.08]"
   ]
  },
  {
   "cell_type": "code",
   "execution_count": 152,
   "metadata": {
    "collapsed": true
   },
   "outputs": [],
   "source": [
    "ranks4 =ranks = [12,13,14,15,16,17,18, 19, 20, 21, 22]\n",
    "regs4 = [ 0.07,0.08,0.09,0.1, 0.11,0.12,0.13]"
   ]
  },
  {
   "cell_type": "code",
   "execution_count": 154,
   "metadata": {},
   "outputs": [
    {
     "data": {
      "text/plain": [
       "[ALS_45f5942f196c69b816b6,\n",
       " (13, 0.06, 0.5542780436086877),\n",
       " [[12, 0.03, 0.584195949790513],\n",
       "  [12, 0.04, 0.5755922851092472],\n",
       "  [12, 0.05, 0.5675589781277965],\n",
       "  [12, 0.06, 0.5631650636886172],\n",
       "  [12, 0.07, 0.5615996048473082],\n",
       "  [12, 0.08, 0.5624432927290819],\n",
       "  [13, 0.03, 0.569569917254656],\n",
       "  [13, 0.04, 0.5599323604369018],\n",
       "  [13, 0.05, 0.5557541077457258],\n",
       "  [13, 0.06, 0.5542780436086877],\n",
       "  [13, 0.07, 0.554663706111014],\n",
       "  [13, 0.08, 0.5552069420067773],\n",
       "  [14, 0.03, 0.5750627508259724],\n",
       "  [14, 0.04, 0.5638596987010387],\n",
       "  [14, 0.05, 0.5597950140680298],\n",
       "  [14, 0.06, 0.5602811297431796],\n",
       "  [14, 0.07, 0.5601380545048733],\n",
       "  [14, 0.08, 0.5602276697401083],\n",
       "  [15, 0.03, 0.5731982830101187],\n",
       "  [15, 0.04, 0.5682565791600473],\n",
       "  [15, 0.05, 0.5638650984217697],\n",
       "  [15, 0.06, 0.5598721207098675],\n",
       "  [15, 0.07, 0.5582138724889285],\n",
       "  [15, 0.08, 0.5585887770348935],\n",
       "  [16, 0.03, 0.5691147794063515],\n",
       "  [16, 0.04, 0.5579858033157724],\n",
       "  [16, 0.05, 0.5553392580338418],\n",
       "  [16, 0.06, 0.5567219232354774],\n",
       "  [16, 0.07, 0.5573254047953641],\n",
       "  [16, 0.08, 0.5578875065502955],\n",
       "  [17, 0.03, 0.5737601288473219],\n",
       "  [17, 0.04, 0.562949541898956],\n",
       "  [17, 0.05, 0.5599530003057966],\n",
       "  [17, 0.06, 0.5580575175806508],\n",
       "  [17, 0.07, 0.556303553004929],\n",
       "  [17, 0.08, 0.5567133690335706],\n",
       "  [18, 0.03, 0.581417153161135],\n",
       "  [18, 0.04, 0.5659557284820659],\n",
       "  [18, 0.05, 0.5582459264797569],\n",
       "  [18, 0.06, 0.5573956857219647],\n",
       "  [18, 0.07, 0.5564464920395257],\n",
       "  [18, 0.08, 0.55600665877859],\n",
       "  [19, 0.03, 0.5668100451400303],\n",
       "  [19, 0.04, 0.5583413716039903],\n",
       "  [19, 0.05, 0.5562184077720866],\n",
       "  [19, 0.06, 0.5571829747771314],\n",
       "  [19, 0.07, 0.5564552944210636],\n",
       "  [19, 0.08, 0.5567651255457822],\n",
       "  [20, 0.03, 0.572548484118611],\n",
       "  [20, 0.04, 0.5653621354927133],\n",
       "  [20, 0.05, 0.5586350432236278],\n",
       "  [20, 0.06, 0.5558908985707515],\n",
       "  [20, 0.07, 0.5563005118498555],\n",
       "  [20, 0.08, 0.5565446074040536],\n",
       "  [21, 0.03, 0.5659911867831037],\n",
       "  [21, 0.04, 0.5590768665668115],\n",
       "  [21, 0.05, 0.5569271102715125],\n",
       "  [21, 0.06, 0.5564438012225875],\n",
       "  [21, 0.07, 0.5559543597928374],\n",
       "  [21, 0.08, 0.5559468128311421],\n",
       "  [22, 0.03, 0.567298114991641],\n",
       "  [22, 0.04, 0.5608996512806619],\n",
       "  [22, 0.05, 0.558634154726589],\n",
       "  [22, 0.06, 0.5562992064021895],\n",
       "  [22, 0.07, 0.5550013079643435],\n",
       "  [22, 0.08, 0.5552669351111643]]]"
      ]
     },
     "execution_count": 154,
     "metadata": {},
     "output_type": "execute_result"
    }
   ],
   "source": [
    "best_R3= NMF.best_model_values(spark_R_df, ranks4, regs3)\n",
    "best_R3"
   ]
  },
  {
   "cell_type": "code",
   "execution_count": 155,
   "metadata": {},
   "outputs": [
    {
     "data": {
      "text/plain": [
       "[ALS_4750befcf3dee4bbf0d8,\n",
       " (22, 0.08, 0.5419237306829452),\n",
       " [[12, 0.07, 0.5482419925036673],\n",
       "  [12, 0.08, 0.5466002213595879],\n",
       "  [12, 0.09, 0.5459015596942137],\n",
       "  [12, 0.1, 0.5463375067815146],\n",
       "  [12, 0.11, 0.5470671825679384],\n",
       "  [12, 0.12, 0.5482324363645206],\n",
       "  [12, 0.13, 0.5501383742764625],\n",
       "  [13, 0.07, 0.5451559560366294],\n",
       "  [13, 0.08, 0.5441491853068775],\n",
       "  [13, 0.09, 0.5442355301500069],\n",
       "  [13, 0.1, 0.5447775507288963],\n",
       "  [13, 0.11, 0.5458794560540677],\n",
       "  [13, 0.12, 0.5476175550996526],\n",
       "  [13, 0.13, 0.5498484887121582],\n",
       "  [14, 0.07, 0.5449382636794675],\n",
       "  [14, 0.08, 0.5435385532300415],\n",
       "  [14, 0.09, 0.543589767018048],\n",
       "  [14, 0.1, 0.5442436055959866],\n",
       "  [14, 0.11, 0.5457298899495401],\n",
       "  [14, 0.12, 0.5479274512639927],\n",
       "  [14, 0.13, 0.5507933719249294],\n",
       "  [15, 0.07, 0.5449281900328702],\n",
       "  [15, 0.08, 0.5442600446253641],\n",
       "  [15, 0.09, 0.5438998208066278],\n",
       "  [15, 0.1, 0.5444872333230618],\n",
       "  [15, 0.11, 0.5457300953454229],\n",
       "  [15, 0.12, 0.5475796323789526],\n",
       "  [15, 0.13, 0.5499316254688297],\n",
       "  [16, 0.07, 0.5448144205541275],\n",
       "  [16, 0.08, 0.5438555702770475],\n",
       "  [16, 0.09, 0.5432737897525179],\n",
       "  [16, 0.1, 0.5441309329870463],\n",
       "  [16, 0.11, 0.5457824797234868],\n",
       "  [16, 0.12, 0.5478566080340782],\n",
       "  [16, 0.13, 0.5502316152839797],\n",
       "  [17, 0.07, 0.5435263952802362],\n",
       "  [17, 0.08, 0.543405050982984],\n",
       "  [17, 0.09, 0.5434531728523887],\n",
       "  [17, 0.1, 0.5446893533758377],\n",
       "  [17, 0.11, 0.5465187522312083],\n",
       "  [17, 0.12, 0.5487949148221956],\n",
       "  [17, 0.13, 0.551232891759785],\n",
       "  [18, 0.07, 0.5419263064169222],\n",
       "  [18, 0.08, 0.5423189615565348],\n",
       "  [18, 0.09, 0.5435376987027563],\n",
       "  [18, 0.1, 0.5451003483829547],\n",
       "  [18, 0.11, 0.5465200983254744],\n",
       "  [18, 0.12, 0.54829613726583],\n",
       "  [18, 0.13, 0.5505195864611772],\n",
       "  [19, 0.07, 0.5446170551696591],\n",
       "  [19, 0.08, 0.5431999386998122],\n",
       "  [19, 0.09, 0.5430498567325932],\n",
       "  [19, 0.1, 0.5441562967669386],\n",
       "  [19, 0.11, 0.5459840838031185],\n",
       "  [19, 0.12, 0.5482917240420917],\n",
       "  [19, 0.13, 0.5509365483996156],\n",
       "  [20, 0.07, 0.5445652462578697],\n",
       "  [20, 0.08, 0.5437081892604531],\n",
       "  [20, 0.09, 0.544004843892623],\n",
       "  [20, 0.1, 0.5450593777190246],\n",
       "  [20, 0.11, 0.546560242168954],\n",
       "  [20, 0.12, 0.5485026274229374],\n",
       "  [20, 0.13, 0.5507585951337174],\n",
       "  [21, 0.07, 0.5435405197394635],\n",
       "  [21, 0.08, 0.5433657252797662],\n",
       "  [21, 0.09, 0.543877278717095],\n",
       "  [21, 0.1, 0.5444516784744223],\n",
       "  [21, 0.11, 0.5457203013921285],\n",
       "  [21, 0.12, 0.5475377710527698],\n",
       "  [21, 0.13, 0.5497670438754835],\n",
       "  [22, 0.07, 0.5420975109179786],\n",
       "  [22, 0.08, 0.5419237306829452],\n",
       "  [22, 0.09, 0.5426160441956631],\n",
       "  [22, 0.1, 0.5443797218745907],\n",
       "  [22, 0.11, 0.5464066450634227],\n",
       "  [22, 0.12, 0.5484348525269674],\n",
       "  [22, 0.13, 0.5507615118858236]]]"
      ]
     },
     "execution_count": 155,
     "metadata": {},
     "output_type": "execute_result"
    }
   ],
   "source": [
    "best_S3= NMF.best_model_values(spark_S_df, ranks4, regs4)\n",
    "best_S3"
   ]
  },
  {
   "cell_type": "code",
   "execution_count": 156,
   "metadata": {
    "scrolled": true
   },
   "outputs": [
    {
     "data": {
      "text/plain": [
       "[ALS_4c93a9cd8e5de608f782,\n",
       " (28, 0.05, 0.6508401332502315),\n",
       " [[20, 0.03, 0.6705587162773512],\n",
       "  [20, 0.04, 0.6622015942438129],\n",
       "  [20, 0.05, 0.6582706812324352],\n",
       "  [20, 0.06, 0.6572928561339504],\n",
       "  [20, 0.07, 0.6589023896529034],\n",
       "  [20, 0.08, 0.6620462160179407],\n",
       "  [21, 0.03, 0.6681379971031594],\n",
       "  [21, 0.04, 0.6611971488049326],\n",
       "  [21, 0.05, 0.6581266474111609],\n",
       "  [21, 0.06, 0.6579247870478298],\n",
       "  [21, 0.07, 0.6597315358749831],\n",
       "  [21, 0.08, 0.6623406592897888],\n",
       "  [22, 0.03, 0.6668305600527167],\n",
       "  [22, 0.04, 0.6585721981668702],\n",
       "  [22, 0.05, 0.6564373726128218],\n",
       "  [22, 0.06, 0.65568725268048],\n",
       "  [22, 0.07, 0.6568163195102412],\n",
       "  [22, 0.08, 0.6597605296734546],\n",
       "  [23, 0.03, 0.6702627563309044],\n",
       "  [23, 0.04, 0.6620679951397834],\n",
       "  [23, 0.05, 0.6571065136506373],\n",
       "  [23, 0.06, 0.6557004120790934],\n",
       "  [23, 0.07, 0.6574700514038001],\n",
       "  [23, 0.08, 0.6609359517423317],\n",
       "  [24, 0.03, 0.6697525293733216],\n",
       "  [24, 0.04, 0.6619036528482527],\n",
       "  [24, 0.05, 0.6578554924679946],\n",
       "  [24, 0.06, 0.6564519189123341],\n",
       "  [24, 0.07, 0.6568400698520347],\n",
       "  [24, 0.08, 0.6591643708082833],\n",
       "  [25, 0.03, 0.662835218500851],\n",
       "  [25, 0.04, 0.6555366034010147],\n",
       "  [25, 0.05, 0.6532529525267573],\n",
       "  [25, 0.06, 0.6537886001132885],\n",
       "  [25, 0.07, 0.655953218081836],\n",
       "  [25, 0.08, 0.6594742260915318],\n",
       "  [26, 0.03, 0.6637537439641702],\n",
       "  [26, 0.04, 0.6560154536803988],\n",
       "  [26, 0.05, 0.6525214105867262],\n",
       "  [26, 0.06, 0.6525709939632647],\n",
       "  [26, 0.07, 0.6547946628420059],\n",
       "  [26, 0.08, 0.6587057715338565],\n",
       "  [27, 0.03, 0.6689112286979104],\n",
       "  [27, 0.04, 0.660665446760147],\n",
       "  [27, 0.05, 0.6562862563672142],\n",
       "  [27, 0.06, 0.6552475653642252],\n",
       "  [27, 0.07, 0.6566825290636555],\n",
       "  [27, 0.08, 0.6601987736446041],\n",
       "  [28, 0.03, 0.6634469126430209],\n",
       "  [28, 0.04, 0.6542394286866946],\n",
       "  [28, 0.05, 0.6508401332502315],\n",
       "  [28, 0.06, 0.6513113153287855],\n",
       "  [28, 0.07, 0.6541017378428722],\n",
       "  [28, 0.08, 0.65822858276183],\n",
       "  [29, 0.03, 0.6675569018414437],\n",
       "  [29, 0.04, 0.6594576222839595],\n",
       "  [29, 0.05, 0.6562708532088979],\n",
       "  [29, 0.06, 0.6554888333608171],\n",
       "  [29, 0.07, 0.6563368921926804],\n",
       "  [29, 0.08, 0.6595154891869092]]]"
      ]
     },
     "execution_count": 156,
     "metadata": {},
     "output_type": "execute_result"
    }
   ],
   "source": [
    "best_A3= NMF.best_model_values(spark_A_df, ranks3, regs3)\n",
    "best_A3"
   ]
  },
  {
   "cell_type": "code",
   "execution_count": 157,
   "metadata": {
    "collapsed": true
   },
   "outputs": [],
   "source": [
    "ranks = [12,13,14,15,16,17,18,19,20,21,22,23,24,25,26,27,28,29,30]\n",
    "regs = [ 0.03, 0.04, 0.05, 0.06, 0.07, 0.08, 0.09, 0.1, 0.11, 0.12, 0.13, 0.14, 0.15, 0.16, 0.17, 0.18, 0.19, 0.2]\n"
   ]
  },
  {
   "cell_type": "code",
   "execution_count": null,
   "metadata": {
    "collapsed": true
   },
   "outputs": [],
   "source": []
  },
  {
   "cell_type": "code",
   "execution_count": 160,
   "metadata": {},
   "outputs": [
    {
     "data": {
      "text/plain": [
       "[(25, 0.05, 0.5510995963235993),\n",
       " [[12, 0.03, 0.584195949790513],\n",
       "  [12, 0.04, 0.5755922851092472],\n",
       "  [12, 0.05, 0.5675589781277965],\n",
       "  [12, 0.06, 0.5631650636886172],\n",
       "  [12, 0.07, 0.5615996048473082],\n",
       "  [12, 0.08, 0.5624432927290818],\n",
       "  [12, 0.09, 0.5636109998175384],\n",
       "  [12, 0.1, 0.5653423450778672],\n",
       "  [12, 0.11, 0.5671802324694484],\n",
       "  [12, 0.12, 0.5696778826044685],\n",
       "  [12, 0.13, 0.5726076376284216],\n",
       "  [12, 0.14, 0.5759759057605373],\n",
       "  [12, 0.15, 0.5797215145897248],\n",
       "  [12, 0.16, 0.5837946130418378],\n",
       "  [12, 0.17, 0.5880445983087803],\n",
       "  [12, 0.18, 0.5924441834692856],\n",
       "  [12, 0.19, 0.596855394265216],\n",
       "  [12, 0.2, 0.6012077156342429],\n",
       "  [13, 0.03, 0.5695699172546559],\n",
       "  [13, 0.04, 0.5599323604369018],\n",
       "  [13, 0.05, 0.5557541077457258],\n",
       "  [13, 0.06, 0.5542780436086876],\n",
       "  [13, 0.07, 0.554663706111014],\n",
       "  [13, 0.08, 0.5552069420067774],\n",
       "  [13, 0.09, 0.5569183523962152],\n",
       "  [13, 0.1, 0.5592421722084027],\n",
       "  [13, 0.11, 0.5623715708563556],\n",
       "  [13, 0.12, 0.5658226453998494],\n",
       "  [13, 0.13, 0.5695632432085379],\n",
       "  [13, 0.14, 0.573692396552285],\n",
       "  [13, 0.15, 0.578071187442095],\n",
       "  [13, 0.16, 0.5825488114163468],\n",
       "  [13, 0.17, 0.5870870945048967],\n",
       "  [13, 0.18, 0.5916389385987015],\n",
       "  [13, 0.19, 0.5961650924093956],\n",
       "  [13, 0.2, 0.6006923188312379],\n",
       "  [14, 0.03, 0.5750627508259724],\n",
       "  [14, 0.04, 0.5638596987010387],\n",
       "  [14, 0.05, 0.5597950140680298],\n",
       "  [14, 0.06, 0.5602811297431796],\n",
       "  [14, 0.07, 0.5601380545048733],\n",
       "  [14, 0.08, 0.5602276697401084],\n",
       "  [14, 0.09, 0.561491810616334],\n",
       "  [14, 0.1, 0.5636363899182953],\n",
       "  [14, 0.11, 0.5660762520760844],\n",
       "  [14, 0.12, 0.5687598951557342],\n",
       "  [14, 0.13, 0.5718839282844558],\n",
       "  [14, 0.14, 0.5754431551642643],\n",
       "  [14, 0.15, 0.5793385007117952],\n",
       "  [14, 0.16, 0.5834814318284568],\n",
       "  [14, 0.17, 0.5877503698942529],\n",
       "  [14, 0.18, 0.5920973235828826],\n",
       "  [14, 0.19, 0.5965115857486287],\n",
       "  [14, 0.2, 0.6009039685213862],\n",
       "  [15, 0.03, 0.5731982830101188],\n",
       "  [15, 0.04, 0.5682565791600475],\n",
       "  [15, 0.05, 0.5638650984217697],\n",
       "  [15, 0.06, 0.5598721207098675],\n",
       "  [15, 0.07, 0.5582138724889285],\n",
       "  [15, 0.08, 0.5585887770348935],\n",
       "  [15, 0.09, 0.560037974090561],\n",
       "  [15, 0.1, 0.5616998780639629],\n",
       "  [15, 0.11, 0.5638208406374086],\n",
       "  [15, 0.12, 0.5665960169855239],\n",
       "  [15, 0.13, 0.5701169663296369],\n",
       "  [15, 0.14, 0.5740730404511674],\n",
       "  [15, 0.15, 0.578267609830031],\n",
       "  [15, 0.16, 0.5826602891765771],\n",
       "  [15, 0.17, 0.5871686952611762],\n",
       "  [15, 0.18, 0.5916546744383215],\n",
       "  [15, 0.19, 0.5961302263776028],\n",
       "  [15, 0.2, 0.6005792739153502],\n",
       "  [16, 0.03, 0.5691147794063515],\n",
       "  [16, 0.04, 0.5579858033157726],\n",
       "  [16, 0.05, 0.5553392580338418],\n",
       "  [16, 0.06, 0.5567219232354774],\n",
       "  [16, 0.07, 0.557325404795364],\n",
       "  [16, 0.08, 0.5578875065502954],\n",
       "  [16, 0.09, 0.5591136739154449],\n",
       "  [16, 0.1, 0.5612790742688879],\n",
       "  [16, 0.11, 0.5641677962172815],\n",
       "  [16, 0.12, 0.5672187613661106],\n",
       "  [16, 0.13, 0.5705927579324026],\n",
       "  [16, 0.14, 0.5743721925544186],\n",
       "  [16, 0.15, 0.5784839941737039],\n",
       "  [16, 0.16, 0.5828420345120726],\n",
       "  [16, 0.17, 0.5872922429784823],\n",
       "  [16, 0.18, 0.5917751288156033],\n",
       "  [16, 0.19, 0.5962756092111732],\n",
       "  [16, 0.2, 0.600756893956919],\n",
       "  [17, 0.03, 0.5737601288473219],\n",
       "  [17, 0.04, 0.562949541898956],\n",
       "  [17, 0.05, 0.5599530003057966],\n",
       "  [17, 0.06, 0.5580575175806508],\n",
       "  [17, 0.07, 0.556303553004929],\n",
       "  [17, 0.08, 0.5567133690335706],\n",
       "  [17, 0.09, 0.5589544799593292],\n",
       "  [17, 0.1, 0.5615579490949554],\n",
       "  [17, 0.11, 0.5643229495608174],\n",
       "  [17, 0.12, 0.5675336958765804],\n",
       "  [17, 0.13, 0.5711196639966415],\n",
       "  [17, 0.14, 0.575024930040386],\n",
       "  [17, 0.15, 0.5790956743630339],\n",
       "  [17, 0.16, 0.5833085240801315],\n",
       "  [17, 0.17, 0.5875985735421045],\n",
       "  [17, 0.18, 0.5919451888923534],\n",
       "  [17, 0.19, 0.5963373423377032],\n",
       "  [17, 0.2, 0.6007584164351895],\n",
       "  [18, 0.03, 0.581417153161135],\n",
       "  [18, 0.04, 0.5659557284820659],\n",
       "  [18, 0.05, 0.5582459264797569],\n",
       "  [18, 0.06, 0.5573956857219646],\n",
       "  [18, 0.07, 0.5564464920395257],\n",
       "  [18, 0.08, 0.5560066587785901],\n",
       "  [18, 0.09, 0.557931950816115],\n",
       "  [18, 0.1, 0.5608988885623446],\n",
       "  [18, 0.11, 0.5641931527086608],\n",
       "  [18, 0.12, 0.5676977514889625],\n",
       "  [18, 0.13, 0.5712938495672544],\n",
       "  [18, 0.14, 0.5749981417738355],\n",
       "  [18, 0.15, 0.5789729616979232],\n",
       "  [18, 0.16, 0.5831517869652143],\n",
       "  [18, 0.17, 0.5874609989732917],\n",
       "  [18, 0.18, 0.5918608792027561],\n",
       "  [18, 0.19, 0.5962941051294647],\n",
       "  [18, 0.2, 0.6007156465525243],\n",
       "  [19, 0.03, 0.5668100451400303],\n",
       "  [19, 0.04, 0.5583413716039902],\n",
       "  [19, 0.05, 0.5562184077720866],\n",
       "  [19, 0.06, 0.5571829747771315],\n",
       "  [19, 0.07, 0.5564552944210636],\n",
       "  [19, 0.08, 0.5567651255457822],\n",
       "  [19, 0.09, 0.5589163891046954],\n",
       "  [19, 0.1, 0.5613021804352267],\n",
       "  [19, 0.11, 0.5639357159020877],\n",
       "  [19, 0.12, 0.5668936908733758],\n",
       "  [19, 0.13, 0.5703884175440775],\n",
       "  [19, 0.14, 0.5743142353683944],\n",
       "  [19, 0.15, 0.5785551044218868],\n",
       "  [19, 0.16, 0.5830312337066209],\n",
       "  [19, 0.17, 0.58758713492316],\n",
       "  [19, 0.18, 0.5921391166906039],\n",
       "  [19, 0.19, 0.5966225606554055],\n",
       "  [19, 0.2, 0.6010254957759559],\n",
       "  [20, 0.03, 0.572548484118611],\n",
       "  [20, 0.04, 0.5653621354927133],\n",
       "  [20, 0.05, 0.5586350432236278],\n",
       "  [20, 0.06, 0.5558908985707515],\n",
       "  [20, 0.07, 0.5563005118498555],\n",
       "  [20, 0.08, 0.5565446074040536],\n",
       "  [20, 0.09, 0.5573005933037691],\n",
       "  [20, 0.1, 0.5598473090860681],\n",
       "  [20, 0.11, 0.5634800212366136],\n",
       "  [20, 0.12, 0.5671041510479969],\n",
       "  [20, 0.13, 0.5707798815360744],\n",
       "  [20, 0.14, 0.5746793146011435],\n",
       "  [20, 0.15, 0.5788393940759672],\n",
       "  [20, 0.16, 0.5831977218153751],\n",
       "  [20, 0.17, 0.5875856576206419],\n",
       "  [20, 0.18, 0.5919635494267722],\n",
       "  [20, 0.19, 0.5963639522875889],\n",
       "  [20, 0.2, 0.6007763100283776],\n",
       "  [21, 0.03, 0.5659911867831036],\n",
       "  [21, 0.04, 0.5590768665668115],\n",
       "  [21, 0.05, 0.5569271102715125],\n",
       "  [21, 0.06, 0.5564438012225875],\n",
       "  [21, 0.07, 0.5559543597928374],\n",
       "  [21, 0.08, 0.5559468128311421],\n",
       "  [21, 0.09, 0.557439079459042],\n",
       "  [21, 0.1, 0.5599122590178794],\n",
       "  [21, 0.11, 0.5631356029502768],\n",
       "  [21, 0.12, 0.5666640191078797],\n",
       "  [21, 0.13, 0.5704501264136371],\n",
       "  [21, 0.14, 0.5744746020532935],\n",
       "  [21, 0.15, 0.5787178004482341],\n",
       "  [21, 0.16, 0.5831070295142212],\n",
       "  [21, 0.17, 0.5875204951132812],\n",
       "  [21, 0.18, 0.59195189174761],\n",
       "  [21, 0.19, 0.5964480279819673],\n",
       "  [21, 0.2, 0.6009252466387985],\n",
       "  [22, 0.03, 0.567298114991641],\n",
       "  [22, 0.04, 0.5608996512806619],\n",
       "  [22, 0.05, 0.558634154726589],\n",
       "  [22, 0.06, 0.5562992064021895],\n",
       "  [22, 0.07, 0.5550013079643435],\n",
       "  [22, 0.08, 0.5552669351111644],\n",
       "  [22, 0.09, 0.5568294062697651],\n",
       "  [22, 0.1, 0.5595251125671555],\n",
       "  [22, 0.11, 0.5628953583630516],\n",
       "  [22, 0.12, 0.5665126936134516],\n",
       "  [22, 0.13, 0.5703494041835842],\n",
       "  [22, 0.14, 0.5744195300582539],\n",
       "  [22, 0.15, 0.578654003972548],\n",
       "  [22, 0.16, 0.5830027364899696],\n",
       "  [22, 0.17, 0.5874103164681634],\n",
       "  [22, 0.18, 0.5918300876499524],\n",
       "  [22, 0.19, 0.596258087501815],\n",
       "  [22, 0.2, 0.6006872783050957],\n",
       "  [23, 0.03, 0.5619377214975495],\n",
       "  [23, 0.04, 0.554572715569033],\n",
       "  [23, 0.05, 0.5521624708185817],\n",
       "  [23, 0.06, 0.5516289005476742],\n",
       "  [23, 0.07, 0.5517292176011652],\n",
       "  [23, 0.08, 0.5539665516721372],\n",
       "  [23, 0.09, 0.5570067186092018],\n",
       "  [23, 0.1, 0.5600047639368592],\n",
       "  [23, 0.11, 0.5630336100409973],\n",
       "  [23, 0.12, 0.5664341288533956],\n",
       "  [23, 0.13, 0.5701913284262099],\n",
       "  [23, 0.14, 0.5742956671559956],\n",
       "  [23, 0.15, 0.5786304131948248],\n",
       "  [23, 0.16, 0.5830687214712184],\n",
       "  [23, 0.17, 0.5875650254326974],\n",
       "  [23, 0.18, 0.5920296287795347],\n",
       "  [23, 0.19, 0.5964682970238039],\n",
       "  [23, 0.2, 0.600874475478199],\n",
       "  [24, 0.03, 0.5631293598281233],\n",
       "  [24, 0.04, 0.556499205469931],\n",
       "  [24, 0.05, 0.5540353893641716],\n",
       "  [24, 0.06, 0.5539047055015801],\n",
       "  [24, 0.07, 0.5545781862424054],\n",
       "  [24, 0.08, 0.5551827515368228],\n",
       "  [24, 0.09, 0.5570362698883444],\n",
       "  [24, 0.1, 0.5592825713316536],\n",
       "  [24, 0.11, 0.5622286730213474],\n",
       "  [24, 0.12, 0.565710233025203],\n",
       "  [24, 0.13, 0.5696915597185498],\n",
       "  [24, 0.14, 0.5739676669197967],\n",
       "  [24, 0.15, 0.5784015480628845],\n",
       "  [24, 0.16, 0.5829374542630554],\n",
       "  [24, 0.17, 0.5875127628126854],\n",
       "  [24, 0.18, 0.5920381672060965],\n",
       "  [24, 0.19, 0.5965183776180282],\n",
       "  [24, 0.2, 0.6009444252761562],\n",
       "  [25, 0.03, 0.560689504346505],\n",
       "  [25, 0.04, 0.5541642498775889],\n",
       "  [25, 0.05, 0.5510995963235993],\n",
       "  [25, 0.06, 0.5512949853984841],\n",
       "  [25, 0.07, 0.5524546461823757],\n",
       "  [25, 0.08, 0.5548200687386772],\n",
       "  [25, 0.09, 0.5572507470406807],\n",
       "  [25, 0.1, 0.5600449652443955],\n",
       "  [25, 0.11, 0.5631753790533325],\n",
       "  [25, 0.12, 0.5665906628191504],\n",
       "  [25, 0.13, 0.5702688023269158],\n",
       "  [25, 0.14, 0.5742179449920349],\n",
       "  [25, 0.15, 0.5783956464031516],\n",
       "  [25, 0.16, 0.5827521199384881],\n",
       "  [25, 0.17, 0.5872301800610533],\n",
       "  [25, 0.18, 0.5917344820436434],\n",
       "  [25, 0.19, 0.5962438779522671],\n",
       "  [25, 0.2, 0.6007351660050168],\n",
       "  [26, 0.03, 0.5615453045091328],\n",
       "  [26, 0.04, 0.556964842995483],\n",
       "  [26, 0.05, 0.5559901555210695],\n",
       "  [26, 0.06, 0.5548150554641514],\n",
       "  [26, 0.07, 0.5547955091839326],\n",
       "  [26, 0.08, 0.5559364716811256],\n",
       "  [26, 0.09, 0.557790887689198],\n",
       "  [26, 0.1, 0.5605089520108717],\n",
       "  [26, 0.11, 0.5637345977640665],\n",
       "  [26, 0.12, 0.5672824281209519],\n",
       "  [26, 0.13, 0.5710100822686679],\n",
       "  [26, 0.14, 0.5748785480598924],\n",
       "  [26, 0.15, 0.5789419489924694],\n",
       "  [26, 0.16, 0.5832018144589205],\n",
       "  [26, 0.17, 0.5875868624703636],\n",
       "  [26, 0.18, 0.5920102589715135],\n",
       "  [26, 0.19, 0.5964542798018755],\n",
       "  [26, 0.2, 0.6008645660574577],\n",
       "  [27, 0.03, 0.5607702043212199],\n",
       "  [27, 0.04, 0.555278390037014],\n",
       "  [27, 0.05, 0.5533147405264289],\n",
       "  [27, 0.06, 0.5534205989138187],\n",
       "  [27, 0.07, 0.553941167692701],\n",
       "  [27, 0.08, 0.5557388223903874],\n",
       "  [27, 0.09, 0.5574746846179043],\n",
       "  [27, 0.1, 0.5599243902015916],\n",
       "  [27, 0.11, 0.5627619944179904],\n",
       "  [27, 0.12, 0.5660303893791463],\n",
       "  [27, 0.13, 0.5697281818272963],\n",
       "  [27, 0.14, 0.5738603133845526],\n",
       "  [27, 0.15, 0.5782523556436571],\n",
       "  [27, 0.16, 0.5827497835942697],\n",
       "  [27, 0.17, 0.5872931884812355],\n",
       "  [27, 0.18, 0.591788292946726],\n",
       "  [27, 0.19, 0.5962610899484281],\n",
       "  [27, 0.2, 0.6007284039502157],\n",
       "  [28, 0.03, 0.5656253413801724],\n",
       "  [28, 0.04, 0.5613536766726812],\n",
       "  [28, 0.05, 0.5578466325209122],\n",
       "  [28, 0.06, 0.556379199982156],\n",
       "  [28, 0.07, 0.5560594170471403],\n",
       "  [28, 0.08, 0.5563503413017581],\n",
       "  [28, 0.09, 0.5579047964425526],\n",
       "  [28, 0.1, 0.5601450541738462],\n",
       "  [28, 0.11, 0.5630561766885839],\n",
       "  [28, 0.12, 0.5665897207688462],\n",
       "  [28, 0.13, 0.5704598430780066],\n",
       "  [28, 0.14, 0.574537224501337],\n",
       "  [28, 0.15, 0.5787921194749396],\n",
       "  [28, 0.16, 0.5831709817959431],\n",
       "  [28, 0.17, 0.587617046759872],\n",
       "  [28, 0.18, 0.592069477669171],\n",
       "  [28, 0.19, 0.5965109557515548],\n",
       "  [28, 0.2, 0.6009314174020424],\n",
       "  [29, 0.03, 0.5634755950046922],\n",
       "  [29, 0.04, 0.5566966712135716],\n",
       "  [29, 0.05, 0.5537214107797471],\n",
       "  [29, 0.06, 0.5534629532235051],\n",
       "  [29, 0.07, 0.5542490317924587],\n",
       "  [29, 0.08, 0.555476921402447],\n",
       "  [29, 0.09, 0.5579311405239822],\n",
       "  [29, 0.1, 0.5604425611250545],\n",
       "  [29, 0.11, 0.5635334328812582],\n",
       "  [29, 0.12, 0.5669954200804148],\n",
       "  [29, 0.13, 0.5705396633914401],\n",
       "  [29, 0.14, 0.5743352276121003],\n",
       "  [29, 0.15, 0.5784651204528993],\n",
       "  [29, 0.16, 0.5828082209117977],\n",
       "  [29, 0.17, 0.5872580121098072],\n",
       "  [29, 0.18, 0.5917533038337177],\n",
       "  [29, 0.19, 0.5962479424388705],\n",
       "  [29, 0.2, 0.600712515110823],\n",
       "  [30, 0.03, 0.5611947999553528],\n",
       "  [30, 0.04, 0.5569426105408822],\n",
       "  [30, 0.05, 0.553499596980059],\n",
       "  [30, 0.06, 0.5514492925150729],\n",
       "  [30, 0.07, 0.5513294746000262],\n",
       "  [30, 0.08, 0.5533641207832014],\n",
       "  [30, 0.09, 0.5561461185853993],\n",
       "  [30, 0.1, 0.5593885998977554],\n",
       "  [30, 0.11, 0.5629772848394152],\n",
       "  [30, 0.12, 0.5666068763298866],\n",
       "  [30, 0.13, 0.5703584949113045],\n",
       "  [30, 0.14, 0.5743051686791308],\n",
       "  [30, 0.15, 0.5784886224441688],\n",
       "  [30, 0.16, 0.5828829482629048],\n",
       "  [30, 0.17, 0.5873485236221742],\n",
       "  [30, 0.18, 0.5918080029033073],\n",
       "  [30, 0.19, 0.5962649865237261],\n",
       "  [30, 0.2, 0.6007101340865713]]]"
      ]
     },
     "execution_count": 160,
     "metadata": {},
     "output_type": "execute_result"
    }
   ],
   "source": [
    "best_R= NMF.best_model_values(spark_R_df, ranks, regs)\n",
    "best_R"
   ]
  },
  {
   "cell_type": "code",
   "execution_count": 161,
   "metadata": {
    "scrolled": false
   },
   "outputs": [
    {
     "data": {
      "text/plain": [
       "[(22, 0.08, 0.5419237306829452),\n",
       " [[12, 0.03, 0.5732097797458089],\n",
       "  [12, 0.04, 0.5602997712365928],\n",
       "  [12, 0.05, 0.5496004346293418],\n",
       "  [12, 0.06, 0.5486621446620168],\n",
       "  [12, 0.07, 0.5482419925036673],\n",
       "  [12, 0.08, 0.5466002213595877],\n",
       "  [12, 0.09, 0.5459015596942137],\n",
       "  [12, 0.1, 0.5463375067815145],\n",
       "  [12, 0.11, 0.5470671825679384],\n",
       "  [12, 0.12, 0.5482324363645206],\n",
       "  [12, 0.13, 0.5501383742764625],\n",
       "  [12, 0.14, 0.5527004619906011],\n",
       "  [12, 0.15, 0.5557633290628592],\n",
       "  [12, 0.16, 0.5591678076608989],\n",
       "  [12, 0.17, 0.562856509379493],\n",
       "  [12, 0.18, 0.5667308611546591],\n",
       "  [12, 0.19, 0.5707583514771971],\n",
       "  [12, 0.2, 0.574861071068704],\n",
       "  [13, 0.03, 0.5691274040906843],\n",
       "  [13, 0.04, 0.560468083114381],\n",
       "  [13, 0.05, 0.5564377778640441],\n",
       "  [13, 0.06, 0.5494716977970012],\n",
       "  [13, 0.07, 0.5451559560366294],\n",
       "  [13, 0.08, 0.5441491853068775],\n",
       "  [13, 0.09, 0.5442355301500068],\n",
       "  [13, 0.1, 0.5447775507288963],\n",
       "  [13, 0.11, 0.5458794560540677],\n",
       "  [13, 0.12, 0.5476175550996526],\n",
       "  [13, 0.13, 0.5498484887121582],\n",
       "  [13, 0.14, 0.5525251993616446],\n",
       "  [13, 0.15, 0.5556351846961227],\n",
       "  [13, 0.16, 0.5591553293046156],\n",
       "  [13, 0.17, 0.5629766011222167],\n",
       "  [13, 0.18, 0.5669489783717453],\n",
       "  [13, 0.19, 0.5710185713147283],\n",
       "  [13, 0.2, 0.5751100116391233],\n",
       "  [14, 0.03, 0.5776721010760443],\n",
       "  [14, 0.04, 0.5651636874319637],\n",
       "  [14, 0.05, 0.555308396652758],\n",
       "  [14, 0.06, 0.5484392700718633],\n",
       "  [14, 0.07, 0.5449382636794676],\n",
       "  [14, 0.08, 0.5435385532300415],\n",
       "  [14, 0.09, 0.543589767018048],\n",
       "  [14, 0.1, 0.5442436055959866],\n",
       "  [14, 0.11, 0.5457298899495401],\n",
       "  [14, 0.12, 0.5479274512639927],\n",
       "  [14, 0.13, 0.5507933719249294],\n",
       "  [14, 0.14, 0.5538092400994004],\n",
       "  [14, 0.15, 0.5570425059829726],\n",
       "  [14, 0.16, 0.5604536539555169],\n",
       "  [14, 0.17, 0.5640620704638019],\n",
       "  [14, 0.18, 0.5678441057804429],\n",
       "  [14, 0.19, 0.5717223619389573],\n",
       "  [14, 0.2, 0.5756246200695125],\n",
       "  [15, 0.03, 0.5741218425932227],\n",
       "  [15, 0.04, 0.5567173889837785],\n",
       "  [15, 0.05, 0.5515830576166445],\n",
       "  [15, 0.06, 0.5471836799056538],\n",
       "  [15, 0.07, 0.5449281900328702],\n",
       "  [15, 0.08, 0.5442600446253641],\n",
       "  [15, 0.09, 0.5438998208066279],\n",
       "  [15, 0.1, 0.5444872333230618],\n",
       "  [15, 0.11, 0.5457300953454229],\n",
       "  [15, 0.12, 0.5475796323789526],\n",
       "  [15, 0.13, 0.5499316254688297],\n",
       "  [15, 0.14, 0.5528487760306368],\n",
       "  [15, 0.15, 0.5561873252094197],\n",
       "  [15, 0.16, 0.5598270052896859],\n",
       "  [15, 0.17, 0.563654523687852],\n",
       "  [15, 0.18, 0.5675945372039813],\n",
       "  [15, 0.19, 0.5715627658708939],\n",
       "  [15, 0.2, 0.5755183500045764],\n",
       "  [16, 0.03, 0.5573452390167365],\n",
       "  [16, 0.04, 0.5555765489128363],\n",
       "  [16, 0.05, 0.550246334819913],\n",
       "  [16, 0.06, 0.5468865024452514],\n",
       "  [16, 0.07, 0.5448144205541275],\n",
       "  [16, 0.08, 0.5438555702770475],\n",
       "  [16, 0.09, 0.5432737897525179],\n",
       "  [16, 0.1, 0.5441309329870462],\n",
       "  [16, 0.11, 0.5457824797234868],\n",
       "  [16, 0.12, 0.5478566080340784],\n",
       "  [16, 0.13, 0.5502316152839798],\n",
       "  [16, 0.14, 0.5530077842740969],\n",
       "  [16, 0.15, 0.5561036418014411],\n",
       "  [16, 0.16, 0.5595864853073274],\n",
       "  [16, 0.17, 0.5633552146838545],\n",
       "  [16, 0.18, 0.5672880994207726],\n",
       "  [16, 0.19, 0.5712783000621144],\n",
       "  [16, 0.2, 0.5753044786634613],\n",
       "  [17, 0.03, 0.5697461943148273],\n",
       "  [17, 0.04, 0.5593988228999766],\n",
       "  [17, 0.05, 0.5483653984266839],\n",
       "  [17, 0.06, 0.5448862943193842],\n",
       "  [17, 0.07, 0.5435263952802362],\n",
       "  [17, 0.08, 0.543405050982984],\n",
       "  [17, 0.09, 0.5434531728523887],\n",
       "  [17, 0.1, 0.5446893533758377],\n",
       "  [17, 0.11, 0.5465187522312083],\n",
       "  [17, 0.12, 0.5487949148221956],\n",
       "  [17, 0.13, 0.551232891759785],\n",
       "  [17, 0.14, 0.5539659352344414],\n",
       "  [17, 0.15, 0.5569431451643816],\n",
       "  [17, 0.16, 0.5602300062083835],\n",
       "  [17, 0.17, 0.5637497582886675],\n",
       "  [17, 0.18, 0.5674487178891054],\n",
       "  [17, 0.19, 0.5712676153769417],\n",
       "  [17, 0.2, 0.575204095944088],\n",
       "  [18, 0.03, 0.5613784310047348],\n",
       "  [18, 0.04, 0.5517916213872365],\n",
       "  [18, 0.05, 0.5480409406526018],\n",
       "  [18, 0.06, 0.5440817018967459],\n",
       "  [18, 0.07, 0.5419263064169222],\n",
       "  [18, 0.08, 0.5423189615565348],\n",
       "  [18, 0.09, 0.5435376987027563],\n",
       "  [18, 0.1, 0.5451003483829547],\n",
       "  [18, 0.11, 0.5465200983254744],\n",
       "  [18, 0.12, 0.5482961372658299],\n",
       "  [18, 0.13, 0.5505195864611772],\n",
       "  [18, 0.14, 0.5531271027195734],\n",
       "  [18, 0.15, 0.5561294239553695],\n",
       "  [18, 0.16, 0.5595225337679912],\n",
       "  [18, 0.17, 0.5632280840144386],\n",
       "  [18, 0.18, 0.5671129485195285],\n",
       "  [18, 0.19, 0.5711013778237118],\n",
       "  [18, 0.2, 0.5751353092323936],\n",
       "  [19, 0.03, 0.5623581311473473],\n",
       "  [19, 0.04, 0.5544812729463489],\n",
       "  [19, 0.05, 0.5502800894225992],\n",
       "  [19, 0.06, 0.5467269919753329],\n",
       "  [19, 0.07, 0.5446170551696591],\n",
       "  [19, 0.08, 0.5431999386998121],\n",
       "  [19, 0.09, 0.5430498567325932],\n",
       "  [19, 0.1, 0.5441562967669384],\n",
       "  [19, 0.11, 0.5459840838031185],\n",
       "  [19, 0.12, 0.5482917240420917],\n",
       "  [19, 0.13, 0.5509365483996156],\n",
       "  [19, 0.14, 0.5537843309229283],\n",
       "  [19, 0.15, 0.5568179993179223],\n",
       "  [19, 0.16, 0.5600730553448663],\n",
       "  [19, 0.17, 0.563535755291051],\n",
       "  [19, 0.18, 0.5671833503611258],\n",
       "  [19, 0.19, 0.5710129850260501],\n",
       "  [19, 0.2, 0.5749904235042396],\n",
       "  [20, 0.03, 0.5631289127204545],\n",
       "  [20, 0.04, 0.5556245406319745],\n",
       "  [20, 0.05, 0.5516681245732186],\n",
       "  [20, 0.06, 0.5469865496430527],\n",
       "  [20, 0.07, 0.5445652462578697],\n",
       "  [20, 0.08, 0.5437081892604531],\n",
       "  [20, 0.09, 0.544004843892623],\n",
       "  [20, 0.1, 0.5450593777190246],\n",
       "  [20, 0.11, 0.546560242168954],\n",
       "  [20, 0.12, 0.5485026274229374],\n",
       "  [20, 0.13, 0.5507585951337173],\n",
       "  [20, 0.14, 0.5532762053661775],\n",
       "  [20, 0.15, 0.5561461929062177],\n",
       "  [20, 0.16, 0.5594311294645039],\n",
       "  [20, 0.17, 0.5630538022199875],\n",
       "  [20, 0.18, 0.566919030307104],\n",
       "  [20, 0.19, 0.5709287094347916],\n",
       "  [20, 0.2, 0.5749992186833658],\n",
       "  [21, 0.03, 0.5582980777084531],\n",
       "  [21, 0.04, 0.5521258996142707],\n",
       "  [21, 0.05, 0.5477591681468801],\n",
       "  [21, 0.06, 0.5449864050342753],\n",
       "  [21, 0.07, 0.5435405197394635],\n",
       "  [21, 0.08, 0.5433657252797662],\n",
       "  [21, 0.09, 0.543877278717095],\n",
       "  [21, 0.1, 0.5444516784744223],\n",
       "  [21, 0.11, 0.5457203013921285],\n",
       "  [21, 0.12, 0.5475377710527698],\n",
       "  [21, 0.13, 0.5497670438754835],\n",
       "  [21, 0.14, 0.5524490601608816],\n",
       "  [21, 0.15, 0.5555788368579494],\n",
       "  [21, 0.16, 0.5590882269739269],\n",
       "  [21, 0.17, 0.5628483223982694],\n",
       "  [21, 0.18, 0.5668110345244273],\n",
       "  [21, 0.19, 0.5708682026114856],\n",
       "  [21, 0.2, 0.574982198534974],\n",
       "  [22, 0.03, 0.5609608182641744],\n",
       "  [22, 0.04, 0.5521375898666392],\n",
       "  [22, 0.05, 0.5447311938439009],\n",
       "  [22, 0.06, 0.5428266467268557],\n",
       "  [22, 0.07, 0.5420975109179786],\n",
       "  [22, 0.08, 0.5419237306829452],\n",
       "  [22, 0.09, 0.5426160441956631],\n",
       "  [22, 0.1, 0.5443797218745907],\n",
       "  [22, 0.11, 0.5464066450634227],\n",
       "  [22, 0.12, 0.5484348525269676],\n",
       "  [22, 0.13, 0.5507615118858236],\n",
       "  [22, 0.14, 0.5535277542431774],\n",
       "  [22, 0.15, 0.5566547744777145],\n",
       "  [22, 0.16, 0.5599832152017304],\n",
       "  [22, 0.17, 0.5635575947782321],\n",
       "  [22, 0.18, 0.5673373839152213],\n",
       "  [22, 0.19, 0.5712670522535218],\n",
       "  [22, 0.2, 0.5752794752956358],\n",
       "  [23, 0.03, 0.5626987650324818],\n",
       "  [23, 0.04, 0.5569357302275151],\n",
       "  [23, 0.05, 0.550543171469368],\n",
       "  [23, 0.06, 0.5464854804984484],\n",
       "  [23, 0.07, 0.544830531888418],\n",
       "  [23, 0.08, 0.5438094300480407],\n",
       "  [23, 0.09, 0.5435154836781],\n",
       "  [23, 0.1, 0.544239060928976],\n",
       "  [23, 0.11, 0.5457052536103798],\n",
       "  [23, 0.12, 0.5479638254217987],\n",
       "  [23, 0.13, 0.5506151538644012],\n",
       "  [23, 0.14, 0.5534525901662615],\n",
       "  [23, 0.15, 0.5565516069843855],\n",
       "  [23, 0.16, 0.5599321789639938],\n",
       "  [23, 0.17, 0.5634995218108141],\n",
       "  [23, 0.18, 0.5672430059973013],\n",
       "  [23, 0.19, 0.5711238052873291],\n",
       "  [23, 0.2, 0.575097475861327],\n",
       "  [24, 0.03, 0.5567806380474618],\n",
       "  [24, 0.04, 0.5515343326812214],\n",
       "  [24, 0.05, 0.5476980553637744],\n",
       "  [24, 0.06, 0.5448745853965135],\n",
       "  [24, 0.07, 0.5435135746573391],\n",
       "  [24, 0.08, 0.542604368223872],\n",
       "  [24, 0.09, 0.5429638983593496],\n",
       "  [24, 0.1, 0.5440210403473424],\n",
       "  [24, 0.11, 0.5456681626599583],\n",
       "  [24, 0.12, 0.547842643720615],\n",
       "  [24, 0.13, 0.5504205987881402],\n",
       "  [24, 0.14, 0.5532910118158262],\n",
       "  [24, 0.15, 0.5563850398137579],\n",
       "  [24, 0.16, 0.559698373182751],\n",
       "  [24, 0.17, 0.5632134680457023],\n",
       "  [24, 0.18, 0.5669268357193695],\n",
       "  [24, 0.19, 0.5707986437881886],\n",
       "  [24, 0.2, 0.5748072141367336],\n",
       "  [25, 0.03, 0.5565329717942565],\n",
       "  [25, 0.04, 0.5502428106212612],\n",
       "  [25, 0.05, 0.5472774653119332],\n",
       "  [25, 0.06, 0.5455126433644664],\n",
       "  [25, 0.07, 0.5448877217235574],\n",
       "  [25, 0.08, 0.544528702467148],\n",
       "  [25, 0.09, 0.544546240619485],\n",
       "  [25, 0.1, 0.5450621169801048],\n",
       "  [25, 0.11, 0.5462619750726422],\n",
       "  [25, 0.12, 0.548174199417292],\n",
       "  [25, 0.13, 0.5505927610229565],\n",
       "  [25, 0.14, 0.5533366535335503],\n",
       "  [25, 0.15, 0.5564055530413836],\n",
       "  [25, 0.16, 0.559771184329793],\n",
       "  [25, 0.17, 0.5634042409873989],\n",
       "  [25, 0.18, 0.5672255240599102],\n",
       "  [25, 0.19, 0.571194143236587],\n",
       "  [25, 0.2, 0.5752274525927337],\n",
       "  [26, 0.03, 0.5564922456402583],\n",
       "  [26, 0.04, 0.5493029992326443],\n",
       "  [26, 0.05, 0.5458866336538549],\n",
       "  [26, 0.06, 0.5448671525858512],\n",
       "  [26, 0.07, 0.5433961462593869],\n",
       "  [26, 0.08, 0.5427836272312145],\n",
       "  [26, 0.09, 0.5432318221580862],\n",
       "  [26, 0.1, 0.5442767492612526],\n",
       "  [26, 0.11, 0.546012615726035],\n",
       "  [26, 0.12, 0.5481177395351213],\n",
       "  [26, 0.13, 0.5506017354671736],\n",
       "  [26, 0.14, 0.5533881846690154],\n",
       "  [26, 0.15, 0.5565256352158731],\n",
       "  [26, 0.16, 0.5599943983138904],\n",
       "  [26, 0.17, 0.5636918270790725],\n",
       "  [26, 0.18, 0.5675157808374488],\n",
       "  [26, 0.19, 0.571424011940152],\n",
       "  [26, 0.2, 0.5753765401623014],\n",
       "  [27, 0.03, 0.5619157288146368],\n",
       "  [27, 0.04, 0.5539991012361327],\n",
       "  [27, 0.05, 0.5479429056933344],\n",
       "  [27, 0.06, 0.5460421409186339],\n",
       "  [27, 0.07, 0.544412418785691],\n",
       "  [27, 0.08, 0.5434160216194711],\n",
       "  [27, 0.09, 0.5437178919993018],\n",
       "  [27, 0.1, 0.5447300356936974],\n",
       "  [27, 0.11, 0.5462832130201319],\n",
       "  [27, 0.12, 0.5482686875427746],\n",
       "  [27, 0.13, 0.550592745059268],\n",
       "  [27, 0.14, 0.553337112760929],\n",
       "  [27, 0.15, 0.5564354651509338],\n",
       "  [27, 0.16, 0.5598248381849673],\n",
       "  [27, 0.17, 0.5634636795883664],\n",
       "  [27, 0.18, 0.5672591497147412],\n",
       "  [27, 0.19, 0.5711778290910824],\n",
       "  [27, 0.2, 0.5751612708344481],\n",
       "  [28, 0.03, 0.5567582961465604],\n",
       "  [28, 0.04, 0.5490016617185971],\n",
       "  [28, 0.05, 0.5451283587943425],\n",
       "  [28, 0.06, 0.543585493832565],\n",
       "  [28, 0.07, 0.5429506236917683],\n",
       "  [28, 0.08, 0.5428913059625031],\n",
       "  [28, 0.09, 0.5433891003305074],\n",
       "  [28, 0.1, 0.5445833670024152],\n",
       "  [28, 0.11, 0.5463606339219552],\n",
       "  [28, 0.12, 0.5484382199631029],\n",
       "  [28, 0.13, 0.5507350424082873],\n",
       "  [28, 0.14, 0.5534691501117351],\n",
       "  [28, 0.15, 0.5565665075913082],\n",
       "  [28, 0.16, 0.5599233225198185],\n",
       "  [28, 0.17, 0.5635138465142027],\n",
       "  [28, 0.18, 0.5672746236432715],\n",
       "  [28, 0.19, 0.5711729479954125],\n",
       "  [28, 0.2, 0.5751586515602806],\n",
       "  [29, 0.03, 0.5617827875885847],\n",
       "  [29, 0.04, 0.5528196271154312],\n",
       "  [29, 0.05, 0.5480939855465728],\n",
       "  [29, 0.06, 0.5457374430389303],\n",
       "  [29, 0.07, 0.5447152962602942],\n",
       "  [29, 0.08, 0.5443658376195114],\n",
       "  [29, 0.09, 0.5441733998850053],\n",
       "  [29, 0.1, 0.544828261377141],\n",
       "  [29, 0.11, 0.5461005357065716],\n",
       "  [29, 0.12, 0.5479367726118239],\n",
       "  [29, 0.13, 0.5502599680881338],\n",
       "  [29, 0.14, 0.5530480974634437],\n",
       "  [29, 0.15, 0.5562001788721237],\n",
       "  [29, 0.16, 0.5596253811775803],\n",
       "  [29, 0.17, 0.563267297065664],\n",
       "  [29, 0.18, 0.5670700730765824],\n",
       "  [29, 0.19, 0.5709902272676259],\n",
       "  [29, 0.2, 0.5750023441392905],\n",
       "  [30, 0.03, 0.552114132374307],\n",
       "  [30, 0.04, 0.5474453068355423],\n",
       "  [30, 0.05, 0.5449222345767394],\n",
       "  [30, 0.06, 0.5439249715052512],\n",
       "  [30, 0.07, 0.5442221387904375],\n",
       "  [30, 0.08, 0.5444980817603622],\n",
       "  [30, 0.09, 0.5447852262911186],\n",
       "  [30, 0.1, 0.5454145383836185],\n",
       "  [30, 0.11, 0.5466642636934984],\n",
       "  [30, 0.12, 0.5484134994370826],\n",
       "  [30, 0.13, 0.5506323680658146],\n",
       "  [30, 0.14, 0.553325896598189],\n",
       "  [30, 0.15, 0.5563644576522188],\n",
       "  [30, 0.16, 0.5597190161046821],\n",
       "  [30, 0.17, 0.5633623403984066],\n",
       "  [30, 0.18, 0.5671927741050912],\n",
       "  [30, 0.19, 0.5711394683556679],\n",
       "  [30, 0.2, 0.5751449783679059]]]"
      ]
     },
     "execution_count": 161,
     "metadata": {},
     "output_type": "execute_result"
    }
   ],
   "source": [
    "best_S= NMF.best_model_values(spark_S_df, ranks, regs)\n",
    "best_S"
   ]
  },
  {
   "cell_type": "code",
   "execution_count": 162,
   "metadata": {},
   "outputs": [
    {
     "data": {
      "text/plain": [
       "[(28, 0.05, 0.6508401332502315),\n",
       " [[12, 0.03, 0.6821200852917977],\n",
       "  [12, 0.04, 0.6755935836810019],\n",
       "  [12, 0.05, 0.670374286849388],\n",
       "  [12, 0.06, 0.6670520121126589],\n",
       "  [12, 0.07, 0.6668989296057357],\n",
       "  [12, 0.08, 0.6682972000810606],\n",
       "  [12, 0.09, 0.6710478434432778],\n",
       "  [12, 0.1, 0.674748554484382],\n",
       "  [12, 0.11, 0.6793089666461866],\n",
       "  [12, 0.12, 0.6844905017666159],\n",
       "  [12, 0.13, 0.6900417722186754],\n",
       "  [12, 0.14, 0.6959354785266275],\n",
       "  [12, 0.15, 0.7020849939641746],\n",
       "  [12, 0.16, 0.7084151510592368],\n",
       "  [12, 0.17, 0.7148655043774284],\n",
       "  [12, 0.18, 0.7213797556757799],\n",
       "  [12, 0.19, 0.7276690748611218],\n",
       "  [12, 0.2, 0.7333041625275541],\n",
       "  [13, 0.03, 0.6800700018444409],\n",
       "  [13, 0.04, 0.6709149021718408],\n",
       "  [13, 0.05, 0.6651107458528381],\n",
       "  [13, 0.06, 0.6623244759381514],\n",
       "  [13, 0.07, 0.661810349455603],\n",
       "  [13, 0.08, 0.6640946276521289],\n",
       "  [13, 0.09, 0.667759117050802],\n",
       "  [13, 0.1, 0.672317690158682],\n",
       "  [13, 0.11, 0.6774474379402523],\n",
       "  [13, 0.12, 0.6829698478069245],\n",
       "  [13, 0.13, 0.688814224941534],\n",
       "  [13, 0.14, 0.6949739188825806],\n",
       "  [13, 0.15, 0.7013695925493284],\n",
       "  [13, 0.16, 0.7079022733242591],\n",
       "  [13, 0.17, 0.71444183841678],\n",
       "  [13, 0.18, 0.7209363879312918],\n",
       "  [13, 0.19, 0.7272264366302398],\n",
       "  [13, 0.2, 0.7329810704695212],\n",
       "  [14, 0.03, 0.6733610261606594],\n",
       "  [14, 0.04, 0.6646046736634308],\n",
       "  [14, 0.05, 0.6610006906770063],\n",
       "  [14, 0.06, 0.6605944010469814],\n",
       "  [14, 0.07, 0.6614458720241536],\n",
       "  [14, 0.08, 0.6635866564989953],\n",
       "  [14, 0.09, 0.6669953520497388],\n",
       "  [14, 0.1, 0.6712692617390843],\n",
       "  [14, 0.11, 0.6764694329747167],\n",
       "  [14, 0.12, 0.682235605119848],\n",
       "  [14, 0.13, 0.6884359886134213],\n",
       "  [14, 0.14, 0.6948728434496694],\n",
       "  [14, 0.15, 0.7014230031112851],\n",
       "  [14, 0.16, 0.7080393688539948],\n",
       "  [14, 0.17, 0.7146671371945924],\n",
       "  [14, 0.18, 0.7212155316348577],\n",
       "  [14, 0.19, 0.7274768410811846],\n",
       "  [14, 0.2, 0.7331508957315086],\n",
       "  [15, 0.03, 0.6783266216722535],\n",
       "  [15, 0.04, 0.670448953685614],\n",
       "  [15, 0.05, 0.6655564911860123],\n",
       "  [15, 0.06, 0.6619447547058089],\n",
       "  [15, 0.07, 0.6616741423637927],\n",
       "  [15, 0.08, 0.663651168443814],\n",
       "  [15, 0.09, 0.6673625424002275],\n",
       "  [15, 0.1, 0.6719819875572965],\n",
       "  [15, 0.11, 0.6771793482124787],\n",
       "  [15, 0.12, 0.6830494781602117],\n",
       "  [15, 0.13, 0.6892418694058355],\n",
       "  [15, 0.14, 0.695640250535873],\n",
       "  [15, 0.15, 0.7021536839080217],\n",
       "  [15, 0.16, 0.7087562657398376],\n",
       "  [15, 0.17, 0.7153529801111563],\n",
       "  [15, 0.18, 0.7217936288267989],\n",
       "  [15, 0.19, 0.727908031399553],\n",
       "  [15, 0.2, 0.7334470941659172],\n",
       "  [16, 0.03, 0.6736284621978184],\n",
       "  [16, 0.04, 0.6641780969991626],\n",
       "  [16, 0.05, 0.6593498059894426],\n",
       "  [16, 0.06, 0.6578046774151161],\n",
       "  [16, 0.07, 0.6590086141367267],\n",
       "  [16, 0.08, 0.6623610048488193],\n",
       "  [16, 0.09, 0.6667248394209316],\n",
       "  [16, 0.1, 0.6716051760679416],\n",
       "  [16, 0.11, 0.677126245967439],\n",
       "  [16, 0.12, 0.683103504059876],\n",
       "  [16, 0.13, 0.6893127447038394],\n",
       "  [16, 0.14, 0.6957157899677757],\n",
       "  [16, 0.15, 0.7022560650877833],\n",
       "  [16, 0.16, 0.7088347226877657],\n",
       "  [16, 0.17, 0.7153170910500806],\n",
       "  [16, 0.18, 0.7216478399615481],\n",
       "  [16, 0.19, 0.7277766237542879],\n",
       "  [16, 0.2, 0.7334090105048963],\n",
       "  [17, 0.03, 0.6774757028979137],\n",
       "  [17, 0.04, 0.6670097095448875],\n",
       "  [17, 0.05, 0.6617853497710146],\n",
       "  [17, 0.06, 0.6596952150004761],\n",
       "  [17, 0.07, 0.660517829905106],\n",
       "  [17, 0.08, 0.6635649482763304],\n",
       "  [17, 0.09, 0.667516427738372],\n",
       "  [17, 0.1, 0.6723340519289805],\n",
       "  [17, 0.11, 0.6777200529609797],\n",
       "  [17, 0.12, 0.6833309123293035],\n",
       "  [17, 0.13, 0.6891948015674119],\n",
       "  [17, 0.14, 0.6952895461809624],\n",
       "  [17, 0.15, 0.7016077668665266],\n",
       "  [17, 0.16, 0.7080444166869251],\n",
       "  [17, 0.17, 0.7144896438177373],\n",
       "  [17, 0.18, 0.7209526937825941],\n",
       "  [17, 0.19, 0.7272596438165317],\n",
       "  [17, 0.2, 0.7330109218275025],\n",
       "  [18, 0.03, 0.6742791013659346],\n",
       "  [18, 0.04, 0.6655819501503046],\n",
       "  [18, 0.05, 0.659008606766768],\n",
       "  [18, 0.06, 0.65722168905362],\n",
       "  [18, 0.07, 0.6580708803105242],\n",
       "  [18, 0.08, 0.6608219188802174],\n",
       "  [18, 0.09, 0.6653432894107101],\n",
       "  [18, 0.1, 0.6709509788991724],\n",
       "  [18, 0.11, 0.6770884355138872],\n",
       "  [18, 0.12, 0.6831819881769062],\n",
       "  [18, 0.13, 0.6892084471685301],\n",
       "  [18, 0.14, 0.695386016974989],\n",
       "  [18, 0.15, 0.7017249772962958],\n",
       "  [18, 0.16, 0.7081937188314108],\n",
       "  [18, 0.17, 0.714788062224394],\n",
       "  [18, 0.18, 0.7213693846674085],\n",
       "  [18, 0.19, 0.7276705981904403],\n",
       "  [18, 0.2, 0.7333469146578374],\n",
       "  [19, 0.03, 0.671201185693904],\n",
       "  [19, 0.04, 0.6634084776392457],\n",
       "  [19, 0.05, 0.6586814836080942],\n",
       "  [19, 0.06, 0.6572324138571768],\n",
       "  [19, 0.07, 0.657555485896481],\n",
       "  [19, 0.08, 0.6600913403989005],\n",
       "  [19, 0.09, 0.6640945170850202],\n",
       "  [19, 0.1, 0.6689951859784908],\n",
       "  [19, 0.11, 0.6747209632590447],\n",
       "  [19, 0.12, 0.6810445328330724],\n",
       "  [19, 0.13, 0.687569180003109],\n",
       "  [19, 0.14, 0.6941888157377791],\n",
       "  [19, 0.15, 0.7009116677833303],\n",
       "  [19, 0.16, 0.7076232718046388],\n",
       "  [19, 0.17, 0.7142637309523793],\n",
       "  [19, 0.18, 0.7207794050209047],\n",
       "  [19, 0.19, 0.72706840436638],\n",
       "  [19, 0.2, 0.7328820858113586],\n",
       "  [20, 0.03, 0.6705587162773511],\n",
       "  [20, 0.04, 0.6622015942438129],\n",
       "  [20, 0.05, 0.6582706812324352],\n",
       "  [20, 0.06, 0.6572928561339503],\n",
       "  [20, 0.07, 0.6589023896529033],\n",
       "  [20, 0.08, 0.6620462160179407],\n",
       "  [20, 0.09, 0.6656596053105163],\n",
       "  [20, 0.1, 0.6700285016536045],\n",
       "  [20, 0.11, 0.6753575347929195],\n",
       "  [20, 0.12, 0.6812993893881201],\n",
       "  [20, 0.13, 0.6875673614244161],\n",
       "  [20, 0.14, 0.6940397430964627],\n",
       "  [20, 0.15, 0.7006589583359552],\n",
       "  [20, 0.16, 0.7074008429076997],\n",
       "  [20, 0.17, 0.714109383577093],\n",
       "  [20, 0.18, 0.7207049879135164],\n",
       "  [20, 0.19, 0.7270263583318889],\n",
       "  [20, 0.2, 0.7328103339252925],\n",
       "  [21, 0.03, 0.6681379971031594],\n",
       "  [21, 0.04, 0.6611971488049327],\n",
       "  [21, 0.05, 0.6581266474111609],\n",
       "  [21, 0.06, 0.6579247870478298],\n",
       "  [21, 0.07, 0.6597315358749831],\n",
       "  [21, 0.08, 0.6623406592897888],\n",
       "  [21, 0.09, 0.6659544192117715],\n",
       "  [21, 0.1, 0.6704497650658962],\n",
       "  [21, 0.11, 0.6758289702101438],\n",
       "  [21, 0.12, 0.6817891967499445],\n",
       "  [21, 0.13, 0.688146119120118],\n",
       "  [21, 0.14, 0.6946461087987099],\n",
       "  [21, 0.15, 0.701240124326223],\n",
       "  [21, 0.16, 0.7078361751033213],\n",
       "  [21, 0.17, 0.7143924579690426],\n",
       "  [21, 0.18, 0.7208652781887602],\n",
       "  [21, 0.19, 0.7270971409650382],\n",
       "  [21, 0.2, 0.7328347351496963],\n",
       "  [22, 0.03, 0.6668305600527167],\n",
       "  [22, 0.04, 0.6585721981668702],\n",
       "  [22, 0.05, 0.6564373726128218],\n",
       "  [22, 0.06, 0.6556872526804801],\n",
       "  [22, 0.07, 0.6568163195102412],\n",
       "  [22, 0.08, 0.6597605296734546],\n",
       "  [22, 0.09, 0.664227850819165],\n",
       "  [22, 0.1, 0.669464993575757],\n",
       "  [22, 0.11, 0.6752965703953796],\n",
       "  [22, 0.12, 0.6815775620582641],\n",
       "  [22, 0.13, 0.6880511973759058],\n",
       "  [22, 0.14, 0.6945388059925557],\n",
       "  [22, 0.15, 0.7010779401929325],\n",
       "  [22, 0.16, 0.7076506370266584],\n",
       "  [22, 0.17, 0.7142349448409309],\n",
       "  [22, 0.18, 0.7207687572416678],\n",
       "  [22, 0.19, 0.7270764848410449],\n",
       "  [22, 0.2, 0.7328606563827326],\n",
       "  [23, 0.03, 0.6702627563309044],\n",
       "  [23, 0.04, 0.6620679951397834],\n",
       "  [23, 0.05, 0.6571065136506373],\n",
       "  [23, 0.06, 0.6557004120790934],\n",
       "  [23, 0.07, 0.6574700514038001],\n",
       "  [23, 0.08, 0.6609359517423317],\n",
       "  [23, 0.09, 0.6653219619484373],\n",
       "  [23, 0.1, 0.6705196511674151],\n",
       "  [23, 0.11, 0.6762410221181928],\n",
       "  [23, 0.12, 0.6822050325636742],\n",
       "  [23, 0.13, 0.6883951498368681],\n",
       "  [23, 0.14, 0.6947912331424239],\n",
       "  [23, 0.15, 0.701259335204946],\n",
       "  [23, 0.16, 0.7077744378522338],\n",
       "  [23, 0.17, 0.714275603411057],\n",
       "  [23, 0.18, 0.7207091136712581],\n",
       "  [23, 0.19, 0.7269404607996733],\n",
       "  [23, 0.2, 0.732740859563542],\n",
       "  [24, 0.03, 0.6697525293733216],\n",
       "  [24, 0.04, 0.6619036528482525],\n",
       "  [24, 0.05, 0.6578554924679947],\n",
       "  [24, 0.06, 0.656451918912334],\n",
       "  [24, 0.07, 0.6568400698520347],\n",
       "  [24, 0.08, 0.6591643708082835],\n",
       "  [24, 0.09, 0.6632329285084635],\n",
       "  [24, 0.1, 0.6685218461526157],\n",
       "  [24, 0.11, 0.6745631256275106],\n",
       "  [24, 0.12, 0.6809496262387319],\n",
       "  [24, 0.13, 0.6875645921437272],\n",
       "  [24, 0.14, 0.6942939567442367],\n",
       "  [24, 0.15, 0.7010722158315297],\n",
       "  [24, 0.16, 0.7078358391198502],\n",
       "  [24, 0.17, 0.7145090151083128],\n",
       "  [24, 0.18, 0.7210560033588443],\n",
       "  [24, 0.19, 0.7273573566430519],\n",
       "  [24, 0.2, 0.7331468387213824],\n",
       "  [25, 0.03, 0.6628352185008508],\n",
       "  [25, 0.04, 0.6555366034010147],\n",
       "  [25, 0.05, 0.6532529525267573],\n",
       "  [25, 0.06, 0.6537886001132885],\n",
       "  [25, 0.07, 0.655953218081836],\n",
       "  [25, 0.08, 0.6594742260915318],\n",
       "  [25, 0.09, 0.6640912237138851],\n",
       "  [25, 0.1, 0.6693691184705004],\n",
       "  [25, 0.11, 0.6753059474093853],\n",
       "  [25, 0.12, 0.6816631445239193],\n",
       "  [25, 0.13, 0.6882404053377129],\n",
       "  [25, 0.14, 0.6948681061923835],\n",
       "  [25, 0.15, 0.701457896915939],\n",
       "  [25, 0.16, 0.7080089537350698],\n",
       "  [25, 0.17, 0.7145613236257937],\n",
       "  [25, 0.18, 0.7210441128421686],\n",
       "  [25, 0.19, 0.7272733517059133],\n",
       "  [25, 0.2, 0.7329766094010673],\n",
       "  [26, 0.03, 0.6637537439641701],\n",
       "  [26, 0.04, 0.6560154536803988],\n",
       "  [26, 0.05, 0.6525214105867264],\n",
       "  [26, 0.06, 0.6525709939632647],\n",
       "  [26, 0.07, 0.6547946628420059],\n",
       "  [26, 0.08, 0.6587057715338565],\n",
       "  [26, 0.09, 0.6636743888680168],\n",
       "  [26, 0.1, 0.6690917931397544],\n",
       "  [26, 0.11, 0.6749262175065475],\n",
       "  [26, 0.12, 0.681106147676055],\n",
       "  [26, 0.13, 0.6875747438690915],\n",
       "  [26, 0.14, 0.6942472515729181],\n",
       "  [26, 0.15, 0.7010195027841216],\n",
       "  [26, 0.16, 0.7077776465746504],\n",
       "  [26, 0.17, 0.7144438266386149],\n",
       "  [26, 0.18, 0.7209386239506367],\n",
       "  [26, 0.19, 0.7271662679657599],\n",
       "  [26, 0.2, 0.7329101242587934],\n",
       "  [27, 0.03, 0.6689112286979104],\n",
       "  [27, 0.04, 0.660665446760147],\n",
       "  [27, 0.05, 0.6562862563672142],\n",
       "  [27, 0.06, 0.6552475653642252],\n",
       "  [27, 0.07, 0.6566825290636555],\n",
       "  [27, 0.08, 0.6601987736446041],\n",
       "  [27, 0.09, 0.6647404540681887],\n",
       "  [27, 0.1, 0.6698868197846242],\n",
       "  [27, 0.11, 0.6755986098649521],\n",
       "  [27, 0.12, 0.6817142346795594],\n",
       "  [27, 0.13, 0.6880887585382401],\n",
       "  [27, 0.14, 0.6946454273021438],\n",
       "  [27, 0.15, 0.7012747304968933],\n",
       "  [27, 0.16, 0.7079116336324044],\n",
       "  [27, 0.17, 0.7145085641535228],\n",
       "  [27, 0.18, 0.7210658050830384],\n",
       "  [27, 0.19, 0.7273894281953311],\n",
       "  [27, 0.2, 0.7331287588274777],\n",
       "  [28, 0.03, 0.6634469126430209],\n",
       "  [28, 0.04, 0.6542394286866946],\n",
       "  [28, 0.05, 0.6508401332502315],\n",
       "  [28, 0.06, 0.6513113153287855],\n",
       "  [28, 0.07, 0.6541017378428722],\n",
       "  [28, 0.08, 0.6582285827618299],\n",
       "  [28, 0.09, 0.6632589641471502],\n",
       "  [28, 0.1, 0.6687403216609121],\n",
       "  [28, 0.11, 0.6746172980847758],\n",
       "  [28, 0.12, 0.6809615981552574],\n",
       "  [28, 0.13, 0.6876557167028637],\n",
       "  [28, 0.14, 0.6945209926141941],\n",
       "  [28, 0.15, 0.7013500109899886],\n",
       "  [28, 0.16, 0.7080952200465803],\n",
       "  [28, 0.17, 0.7147407035221868],\n",
       "  [28, 0.18, 0.7212221658276293],\n",
       "  [28, 0.19, 0.7274420054762113],\n",
       "  [28, 0.2, 0.7331470510775523],\n",
       "  [29, 0.03, 0.6675569018414437],\n",
       "  [29, 0.04, 0.6594576222839595],\n",
       "  [29, 0.05, 0.6562708532088979],\n",
       "  [29, 0.06, 0.6554888333608171],\n",
       "  [29, 0.07, 0.6563368921926804],\n",
       "  [29, 0.08, 0.6595154891869092],\n",
       "  [29, 0.09, 0.6640473338599692],\n",
       "  [29, 0.1, 0.6693048974601556],\n",
       "  [29, 0.11, 0.6751583791707692],\n",
       "  [29, 0.12, 0.6813112194518481],\n",
       "  [29, 0.13, 0.6877366873830876],\n",
       "  [29, 0.14, 0.694316878306088],\n",
       "  [29, 0.15, 0.7009333525138166],\n",
       "  [29, 0.16, 0.7075672286817987],\n",
       "  [29, 0.17, 0.71420371245287],\n",
       "  [29, 0.18, 0.7207225147749853],\n",
       "  [29, 0.19, 0.7269839717138592],\n",
       "  [29, 0.2, 0.7327909165402895],\n",
       "  [30, 0.03, 0.6609701934363056],\n",
       "  [30, 0.04, 0.6543787309223347],\n",
       "  [30, 0.05, 0.6519602434267925],\n",
       "  [30, 0.06, 0.652557618708714],\n",
       "  [30, 0.07, 0.6552000550144341],\n",
       "  [30, 0.08, 0.6590437574651877],\n",
       "  [30, 0.09, 0.663959305990375],\n",
       "  [30, 0.1, 0.6693662964197244],\n",
       "  [30, 0.11, 0.6751356481789587],\n",
       "  [30, 0.12, 0.6812671416921726],\n",
       "  [30, 0.13, 0.6876606579178162],\n",
       "  [30, 0.14, 0.6942211263513459],\n",
       "  [30, 0.15, 0.7008836490146094],\n",
       "  [30, 0.16, 0.7075889265572783],\n",
       "  [30, 0.17, 0.7142290573356977],\n",
       "  [30, 0.18, 0.7207642108228415],\n",
       "  [30, 0.19, 0.7270747803984101],\n",
       "  [30, 0.2, 0.7328947785606867]]]"
      ]
     },
     "execution_count": 162,
     "metadata": {},
     "output_type": "execute_result"
    }
   ],
   "source": [
    "best_A= NMF.best_model_values(spark_A_df, ranks, regs)\n",
    "best_A"
   ]
  },
  {
   "cell_type": "code",
   "execution_count": 170,
   "metadata": {
    "collapsed": true
   },
   "outputs": [],
   "source": [
    "import make_NMF_model as NMF"
   ]
  },
  {
   "cell_type": "code",
   "execution_count": 171,
   "metadata": {},
   "outputs": [],
   "source": [
    "resist_NMF_model = NMF.make_model(spark_R_df,25, 0.05, 'resist_NMF')"
   ]
  },
  {
   "cell_type": "code",
   "execution_count": 172,
   "metadata": {},
   "outputs": [],
   "source": [
    "sensit_NMF_model = NMF.make_model(spark_S_df,22, 0.08, 'resist_NMF')"
   ]
  },
  {
   "cell_type": "code",
   "execution_count": 173,
   "metadata": {
    "collapsed": true
   },
   "outputs": [],
   "source": [
    "any_NMF_model = NMF.make_model(spark_A_df,28, 0.05, 'resist_NMF')"
   ]
  },
  {
   "cell_type": "code",
   "execution_count": 180,
   "metadata": {
    "collapsed": true
   },
   "outputs": [],
   "source": [
    "resist_network_matrix=data_frame_creator.open_pickle('spark/resist_network_matrix.pickle')\n",
    "sensit_network_matrix=data_frame_creator.open_pickle('spark/sensit_network_matrix.pickle')\n",
    "any_network_matrix=data_frame_creator.open_pickle('spark/any_network_matrix.pickle')\n"
   ]
  },
  {
   "cell_type": "code",
   "execution_count": 182,
   "metadata": {},
   "outputs": [
    {
     "data": {
      "text/plain": [
       "(12211, 1343)"
      ]
     },
     "execution_count": 182,
     "metadata": {},
     "output_type": "execute_result"
    }
   ],
   "source": [
    "resist_network_matrix.shape"
   ]
  },
  {
   "cell_type": "code",
   "execution_count": 242,
   "metadata": {},
   "outputs": [
    {
     "data": {
      "text/plain": [
       "1343"
      ]
     },
     "execution_count": 242,
     "metadata": {},
     "output_type": "execute_result"
    }
   ],
   "source": [
    "r=[8 for n in range(0,1343)]\n",
    "#print(d)#d[100]=1\n",
    "#d=scs.coo_matrix(d)\n",
    "c = [n for n in range(0,1343)]\n",
    "len(c)\n",
    "len(r)"
   ]
  },
  {
   "cell_type": "code",
   "execution_count": 243,
   "metadata": {},
   "outputs": [
    {
     "name": "stdout",
     "output_type": "stream",
     "text": [
      "+-------+-------+\n",
      "|drug_id|gene_id|\n",
      "+-------+-------+\n",
      "|      0|      8|\n",
      "|      1|      8|\n",
      "|      2|      8|\n",
      "|      3|      8|\n",
      "|      4|      8|\n",
      "|      5|      8|\n",
      "|      6|      8|\n",
      "|      7|      8|\n",
      "|      8|      8|\n",
      "|      9|      8|\n",
      "|     10|      8|\n",
      "|     11|      8|\n",
      "|     12|      8|\n",
      "|     13|      8|\n",
      "|     14|      8|\n",
      "|     15|      8|\n",
      "|     16|      8|\n",
      "|     17|      8|\n",
      "|     18|      8|\n",
      "|     19|      8|\n",
      "+-------+-------+\n",
      "only showing top 20 rows\n",
      "\n"
     ]
    }
   ],
   "source": [
    "#test = scs.coo_matrix(d)\n",
    "\n",
    "test_df=pd.DataFrame({'gene_id':r,'drug_id': c})\n",
    "#test_df['log_data'] = np.log(R_df['data']+1)\n",
    "spark_test_df = spark.createDataFrame(test_df)\n",
    "\n",
    "spark_test_df.show()"
   ]
  },
  {
   "cell_type": "code",
   "execution_count": 244,
   "metadata": {},
   "outputs": [
    {
     "data": {
      "text/plain": [
       "DataFrame[drug_id: bigint, gene_id: bigint, prediction: float]"
      ]
     },
     "execution_count": 244,
     "metadata": {},
     "output_type": "execute_result"
    }
   ],
   "source": [
    "resist_NMF_model.transform(spark_test_df)"
   ]
  },
  {
   "cell_type": "code",
   "execution_count": 245,
   "metadata": {},
   "outputs": [
    {
     "name": "stdout",
     "output_type": "stream",
     "text": [
      "Row(gene_id=8, drug_id=148, prediction=nan)\n",
      "Row(gene_id=8, drug_id=463, prediction=nan)\n",
      "Row(gene_id=8, drug_id=471, prediction=nan)\n",
      "Row(gene_id=8, drug_id=496, prediction=0.2085583209991455)\n",
      "Row(gene_id=8, drug_id=833, prediction=0.2873329222202301)\n",
      "Row(gene_id=8, drug_id=1088, prediction=nan)\n",
      "Row(gene_id=8, drug_id=1238, prediction=nan)\n",
      "Row(gene_id=8, drug_id=1342, prediction=nan)\n",
      "Row(gene_id=8, drug_id=243, prediction=nan)\n",
      "Row(gene_id=8, drug_id=392, prediction=nan)\n",
      "Row(gene_id=8, drug_id=540, prediction=nan)\n",
      "Row(gene_id=8, drug_id=623, prediction=0.2330484688282013)\n",
      "Row(gene_id=8, drug_id=737, prediction=0.6624745726585388)\n",
      "Row(gene_id=8, drug_id=858, prediction=nan)\n",
      "Row(gene_id=8, drug_id=897, prediction=nan)\n",
      "Row(gene_id=8, drug_id=1025, prediction=0.15136955678462982)\n",
      "Row(gene_id=8, drug_id=1084, prediction=nan)\n",
      "Row(gene_id=8, drug_id=1127, prediction=nan)\n",
      "Row(gene_id=8, drug_id=31, prediction=nan)\n",
      "Row(gene_id=8, drug_id=516, prediction=nan)\n",
      "Row(gene_id=8, drug_id=1139, prediction=nan)\n",
      "Row(gene_id=8, drug_id=1143, prediction=0.42732733488082886)\n",
      "Row(gene_id=8, drug_id=1270, prediction=nan)\n",
      "Row(gene_id=8, drug_id=1303, prediction=nan)\n",
      "Row(gene_id=8, drug_id=1322, prediction=0.4057304561138153)\n",
      "Row(gene_id=8, drug_id=1339, prediction=0.4848913550376892)\n",
      "Row(gene_id=8, drug_id=85, prediction=nan)\n",
      "Row(gene_id=8, drug_id=137, prediction=0.35522809624671936)\n",
      "Row(gene_id=8, drug_id=251, prediction=nan)\n",
      "Row(gene_id=8, drug_id=451, prediction=0.2444600909948349)\n",
      "Row(gene_id=8, drug_id=580, prediction=nan)\n",
      "Row(gene_id=8, drug_id=808, prediction=nan)\n",
      "Row(gene_id=8, drug_id=1265, prediction=0.5697733163833618)\n",
      "Row(gene_id=8, drug_id=65, prediction=0.3662642538547516)\n",
      "Row(gene_id=8, drug_id=458, prediction=0.3688119649887085)\n",
      "Row(gene_id=8, drug_id=879, prediction=0.509371817111969)\n",
      "Row(gene_id=8, drug_id=883, prediction=0.6308731436729431)\n",
      "Row(gene_id=8, drug_id=1223, prediction=nan)\n",
      "Row(gene_id=8, drug_id=53, prediction=nan)\n",
      "Row(gene_id=8, drug_id=255, prediction=nan)\n",
      "Row(gene_id=8, drug_id=481, prediction=nan)\n",
      "Row(gene_id=8, drug_id=588, prediction=0.3890620768070221)\n",
      "Row(gene_id=8, drug_id=799, prediction=0.6573427319526672)\n",
      "Row(gene_id=8, drug_id=804, prediction=nan)\n",
      "Row(gene_id=8, drug_id=898, prediction=0.35842400789260864)\n",
      "Row(gene_id=8, drug_id=970, prediction=0.41649261116981506)\n",
      "Row(gene_id=8, drug_id=1157, prediction=nan)\n",
      "Row(gene_id=8, drug_id=133, prediction=nan)\n",
      "Row(gene_id=8, drug_id=296, prediction=nan)\n",
      "Row(gene_id=8, drug_id=472, prediction=0.3544370234012604)\n",
      "Row(gene_id=8, drug_id=853, prediction=nan)\n",
      "Row(gene_id=8, drug_id=78, prediction=0.32883721590042114)\n",
      "Row(gene_id=8, drug_id=322, prediction=0.9837977886199951)\n",
      "Row(gene_id=8, drug_id=513, prediction=nan)\n",
      "Row(gene_id=8, drug_id=918, prediction=0.40413522720336914)\n",
      "Row(gene_id=8, drug_id=1005, prediction=0.7236433029174805)\n",
      "Row(gene_id=8, drug_id=1016, prediction=nan)\n",
      "Row(gene_id=8, drug_id=1133, prediction=0.23991505801677704)\n",
      "Row(gene_id=8, drug_id=321, prediction=nan)\n",
      "Row(gene_id=8, drug_id=362, prediction=0.46369966864585876)\n",
      "Row(gene_id=8, drug_id=613, prediction=0.5673452019691467)\n",
      "Row(gene_id=8, drug_id=633, prediction=0.4736836552619934)\n",
      "Row(gene_id=8, drug_id=673, prediction=0.4076910614967346)\n",
      "Row(gene_id=8, drug_id=857, prediction=0.20209406316280365)\n",
      "Row(gene_id=8, drug_id=961, prediction=0.37189558148384094)\n",
      "Row(gene_id=8, drug_id=974, prediction=0.2192208468914032)\n",
      "Row(gene_id=8, drug_id=1160, prediction=nan)\n",
      "Row(gene_id=8, drug_id=375, prediction=nan)\n",
      "Row(gene_id=8, drug_id=593, prediction=nan)\n",
      "Row(gene_id=8, drug_id=597, prediction=nan)\n",
      "Row(gene_id=8, drug_id=876, prediction=0.6079302430152893)\n",
      "Row(gene_id=8, drug_id=976, prediction=nan)\n",
      "Row(gene_id=8, drug_id=1199, prediction=0.4873145818710327)\n",
      "Row(gene_id=8, drug_id=1212, prediction=0.2748846709728241)\n",
      "Row(gene_id=8, drug_id=108, prediction=0.187333345413208)\n",
      "Row(gene_id=8, drug_id=155, prediction=0.663188636302948)\n",
      "Row(gene_id=8, drug_id=683, prediction=0.41805368661880493)\n",
      "Row(gene_id=8, drug_id=744, prediction=0.3072849214076996)\n",
      "Row(gene_id=8, drug_id=950, prediction=0.4951707422733307)\n",
      "Row(gene_id=8, drug_id=1331, prediction=nan)\n",
      "Row(gene_id=8, drug_id=34, prediction=nan)\n",
      "Row(gene_id=8, drug_id=193, prediction=0.3114200234413147)\n",
      "Row(gene_id=8, drug_id=211, prediction=0.613232433795929)\n",
      "Row(gene_id=8, drug_id=368, prediction=nan)\n",
      "Row(gene_id=8, drug_id=530, prediction=0.5602478981018066)\n",
      "Row(gene_id=8, drug_id=642, prediction=nan)\n",
      "Row(gene_id=8, drug_id=796, prediction=0.5270397067070007)\n",
      "Row(gene_id=8, drug_id=1068, prediction=nan)\n",
      "Row(gene_id=8, drug_id=1198, prediction=nan)\n",
      "Row(gene_id=8, drug_id=101, prediction=nan)\n",
      "Row(gene_id=8, drug_id=115, prediction=nan)\n",
      "Row(gene_id=8, drug_id=126, prediction=0.36963537335395813)\n",
      "Row(gene_id=8, drug_id=756, prediction=0.38247984647750854)\n",
      "Row(gene_id=8, drug_id=772, prediction=0.38087016344070435)\n",
      "Row(gene_id=8, drug_id=1165, prediction=nan)\n",
      "Row(gene_id=8, drug_id=1183, prediction=0.4873145818710327)\n",
      "Row(gene_id=8, drug_id=81, prediction=nan)\n",
      "Row(gene_id=8, drug_id=385, prediction=0.801533579826355)\n",
      "Row(gene_id=8, drug_id=830, prediction=nan)\n",
      "Row(gene_id=8, drug_id=847, prediction=nan)\n",
      "Row(gene_id=8, drug_id=874, prediction=0.4737316071987152)\n",
      "Row(gene_id=8, drug_id=939, prediction=0.3206009864807129)\n",
      "Row(gene_id=8, drug_id=1226, prediction=nan)\n",
      "Row(gene_id=8, drug_id=1259, prediction=nan)\n",
      "Row(gene_id=8, drug_id=28, prediction=0.4538492262363434)\n",
      "Row(gene_id=8, drug_id=183, prediction=0.13885442912578583)\n",
      "Row(gene_id=8, drug_id=210, prediction=nan)\n",
      "Row(gene_id=8, drug_id=436, prediction=nan)\n",
      "Row(gene_id=8, drug_id=1031, prediction=0.384948194026947)\n",
      "Row(gene_id=8, drug_id=1175, prediction=nan)\n",
      "Row(gene_id=8, drug_id=1201, prediction=0.4817734360694885)\n",
      "Row(gene_id=8, drug_id=497, prediction=0.33802032470703125)\n",
      "Row(gene_id=8, drug_id=596, prediction=nan)\n",
      "Row(gene_id=8, drug_id=762, prediction=nan)\n",
      "Row(gene_id=8, drug_id=1051, prediction=0.6488481163978577)\n",
      "Row(gene_id=8, drug_id=1243, prediction=nan)\n",
      "Row(gene_id=8, drug_id=1274, prediction=nan)\n",
      "Row(gene_id=8, drug_id=1296, prediction=nan)\n",
      "Row(gene_id=8, drug_id=300, prediction=nan)\n",
      "Row(gene_id=8, drug_id=406, prediction=nan)\n",
      "Row(gene_id=8, drug_id=412, prediction=0.98466557264328)\n",
      "Row(gene_id=8, drug_id=784, prediction=0.32170453667640686)\n",
      "Row(gene_id=8, drug_id=787, prediction=nan)\n",
      "Row(gene_id=8, drug_id=842, prediction=nan)\n",
      "Row(gene_id=8, drug_id=1030, prediction=0.35545292496681213)\n",
      "Row(gene_id=8, drug_id=1034, prediction=0.4632216989994049)\n",
      "Row(gene_id=8, drug_id=1064, prediction=nan)\n",
      "Row(gene_id=8, drug_id=1156, prediction=0.18821008503437042)\n",
      "Row(gene_id=8, drug_id=1163, prediction=0.5477072596549988)\n",
      "Row(gene_id=8, drug_id=587, prediction=nan)\n",
      "Row(gene_id=8, drug_id=731, prediction=nan)\n",
      "Row(gene_id=8, drug_id=988, prediction=0.29396340250968933)\n",
      "Row(gene_id=8, drug_id=1276, prediction=0.37287116050720215)\n",
      "Row(gene_id=8, drug_id=1307, prediction=0.8453749418258667)\n",
      "Row(gene_id=8, drug_id=76, prediction=nan)\n",
      "Row(gene_id=8, drug_id=667, prediction=0.43337833881378174)\n",
      "Row(gene_id=8, drug_id=688, prediction=nan)\n",
      "Row(gene_id=8, drug_id=723, prediction=0.0908859372138977)\n",
      "Row(gene_id=8, drug_id=914, prediction=nan)\n",
      "Row(gene_id=8, drug_id=26, prediction=nan)\n",
      "Row(gene_id=8, drug_id=27, prediction=0.3457493782043457)\n",
      "Row(gene_id=8, drug_id=332, prediction=0.37185385823249817)\n",
      "Row(gene_id=8, drug_id=501, prediction=0.6741062998771667)\n",
      "Row(gene_id=8, drug_id=577, prediction=nan)\n",
      "Row(gene_id=8, drug_id=626, prediction=nan)\n",
      "Row(gene_id=8, drug_id=1235, prediction=0.4256817698478699)\n",
      "Row(gene_id=8, drug_id=384, prediction=nan)\n",
      "Row(gene_id=8, drug_id=831, prediction=0.27194076776504517)\n",
      "Row(gene_id=8, drug_id=1019, prediction=0.30404990911483765)\n",
      "Row(gene_id=8, drug_id=1269, prediction=0.25626832246780396)\n",
      "Row(gene_id=8, drug_id=1294, prediction=0.3486294448375702)\n",
      "Row(gene_id=8, drug_id=44, prediction=0.6176100969314575)\n",
      "Row(gene_id=8, drug_id=159, prediction=0.1515979915857315)\n",
      "Row(gene_id=8, drug_id=192, prediction=0.35181573033332825)\n",
      "Row(gene_id=8, drug_id=271, prediction=0.2274429202079773)\n",
      "Row(gene_id=8, drug_id=606, prediction=0.4084208607673645)\n",
      "Row(gene_id=8, drug_id=743, prediction=0.5029988288879395)\n",
      "Row(gene_id=8, drug_id=811, prediction=0.36333319544792175)\n",
      "Row(gene_id=8, drug_id=844, prediction=0.5722890496253967)\n",
      "Row(gene_id=8, drug_id=908, prediction=0.46746277809143066)\n",
      "Row(gene_id=8, drug_id=916, prediction=nan)\n",
      "Row(gene_id=8, drug_id=1135, prediction=0.3612484335899353)\n",
      "Row(gene_id=8, drug_id=253, prediction=nan)\n",
      "Row(gene_id=8, drug_id=806, prediction=nan)\n",
      "Row(gene_id=8, drug_id=1148, prediction=0.8217593431472778)\n",
      "Row(gene_id=8, drug_id=1210, prediction=0.5354451537132263)\n",
      "Row(gene_id=8, drug_id=1280, prediction=0.1585400402545929)\n",
      "Row(gene_id=8, drug_id=103, prediction=nan)\n",
      "Row(gene_id=8, drug_id=236, prediction=nan)\n",
      "Row(gene_id=8, drug_id=329, prediction=0.5792025327682495)\n",
      "Row(gene_id=8, drug_id=460, prediction=nan)\n",
      "Row(gene_id=8, drug_id=1056, prediction=nan)\n",
      "Row(gene_id=8, drug_id=1085, prediction=0.5200214982032776)\n",
      "Row(gene_id=8, drug_id=12, prediction=0.7858562469482422)\n",
      "Row(gene_id=8, drug_id=336, prediction=0.18787243962287903)\n",
      "Row(gene_id=8, drug_id=350, prediction=0.33282575011253357)\n",
      "Row(gene_id=8, drug_id=973, prediction=nan)\n",
      "Row(gene_id=8, drug_id=984, prediction=0.22155623137950897)\n",
      "Row(gene_id=8, drug_id=1046, prediction=0.3918789327144623)\n",
      "Row(gene_id=8, drug_id=1093, prediction=nan)\n",
      "Row(gene_id=8, drug_id=1260, prediction=nan)\n",
      "Row(gene_id=8, drug_id=223, prediction=0.5344362854957581)\n",
      "Row(gene_id=8, drug_id=738, prediction=0.11105707287788391)\n",
      "Row(gene_id=8, drug_id=860, prediction=0.5927582383155823)\n",
      "Row(gene_id=8, drug_id=388, prediction=nan)\n",
      "Row(gene_id=8, drug_id=417, prediction=nan)\n",
      "Row(gene_id=8, drug_id=548, prediction=nan)\n",
      "Row(gene_id=8, drug_id=602, prediction=0.5181081891059875)\n",
      "Row(gene_id=8, drug_id=1208, prediction=0.7126108407974243)\n",
      "Row(gene_id=8, drug_id=91, prediction=nan)\n",
      "Row(gene_id=8, drug_id=409, prediction=0.450632780790329)\n",
      "Row(gene_id=8, drug_id=578, prediction=nan)\n",
      "Row(gene_id=8, drug_id=663, prediction=0.43980538845062256)\n",
      "Row(gene_id=8, drug_id=926, prediction=0.5777068138122559)\n",
      "Row(gene_id=8, drug_id=1077, prediction=0.37376120686531067)\n",
      "Row(gene_id=8, drug_id=333, prediction=0.42453572154045105)\n",
      "Row(gene_id=8, drug_id=707, prediction=0.5715715885162354)\n",
      "Row(gene_id=8, drug_id=822, prediction=0.4938221275806427)\n",
      "Row(gene_id=8, drug_id=1215, prediction=nan)\n",
      "Row(gene_id=8, drug_id=1290, prediction=0.3363279402256012)\n",
      "Row(gene_id=8, drug_id=222, prediction=nan)\n",
      "Row(gene_id=8, drug_id=285, prediction=nan)\n",
      "Row(gene_id=8, drug_id=601, prediction=nan)\n",
      "Row(gene_id=8, drug_id=875, prediction=0.30909958481788635)\n",
      "Row(gene_id=8, drug_id=1249, prediction=0.5109267830848694)\n",
      "Row(gene_id=8, drug_id=1324, prediction=0.726830780506134)\n",
      "Row(gene_id=8, drug_id=22, prediction=nan)\n",
      "Row(gene_id=8, drug_id=128, prediction=0.32762983441352844)\n",
      "Row(gene_id=8, drug_id=209, prediction=0.4217332899570465)\n",
      "Row(gene_id=8, drug_id=330, prediction=0.46746277809143066)\n",
      "Row(gene_id=8, drug_id=372, prediction=0.6353843212127686)\n",
      "Row(gene_id=8, drug_id=604, prediction=nan)\n",
      "Row(gene_id=8, drug_id=685, prediction=0.5822818279266357)\n",
      "Row(gene_id=8, drug_id=727, prediction=nan)\n",
      "Row(gene_id=8, drug_id=995, prediction=0.48597344756126404)\n",
      "Row(gene_id=8, drug_id=1065, prediction=nan)\n",
      "Row(gene_id=8, drug_id=1125, prediction=nan)\n",
      "Row(gene_id=8, drug_id=1295, prediction=nan)\n",
      "Row(gene_id=8, drug_id=1332, prediction=nan)\n",
      "Row(gene_id=8, drug_id=122, prediction=nan)\n",
      "Row(gene_id=8, drug_id=230, prediction=0.34340208768844604)\n",
      "Row(gene_id=8, drug_id=319, prediction=0.3268592059612274)\n",
      "Row(gene_id=8, drug_id=493, prediction=0.2791825532913208)\n",
      "Row(gene_id=8, drug_id=625, prediction=0.29898568987846375)\n",
      "Row(gene_id=8, drug_id=686, prediction=nan)\n",
      "Row(gene_id=8, drug_id=1176, prediction=nan)\n",
      "Row(gene_id=8, drug_id=1291, prediction=nan)\n",
      "Row(gene_id=8, drug_id=93, prediction=nan)\n",
      "Row(gene_id=8, drug_id=157, prediction=nan)\n",
      "Row(gene_id=8, drug_id=190, prediction=0.41160866618156433)\n",
      "Row(gene_id=8, drug_id=225, prediction=0.578816294670105)\n",
      "Row(gene_id=8, drug_id=232, prediction=0.29853108525276184)\n",
      "Row(gene_id=8, drug_id=233, prediction=nan)\n",
      "Row(gene_id=8, drug_id=758, prediction=nan)\n",
      "Row(gene_id=8, drug_id=924, prediction=0.7239556312561035)\n",
      "Row(gene_id=8, drug_id=246, prediction=0.09718125313520432)\n",
      "Row(gene_id=8, drug_id=346, prediction=0.44651204347610474)\n",
      "Row(gene_id=8, drug_id=360, prediction=0.5008602142333984)\n",
      "Row(gene_id=8, drug_id=367, prediction=0.45197799801826477)\n",
      "Row(gene_id=8, drug_id=476, prediction=0.15464408695697784)\n",
      "Row(gene_id=8, drug_id=539, prediction=nan)\n",
      "Row(gene_id=8, drug_id=599, prediction=nan)\n",
      "Row(gene_id=8, drug_id=725, prediction=0.336392343044281)\n",
      "Row(gene_id=8, drug_id=855, prediction=nan)\n",
      "Row(gene_id=8, drug_id=861, prediction=0.2209675908088684)\n",
      "Row(gene_id=8, drug_id=1061, prediction=nan)\n",
      "Row(gene_id=8, drug_id=111, prediction=nan)\n",
      "Row(gene_id=8, drug_id=224, prediction=0.64341139793396)\n",
      "Row(gene_id=8, drug_id=519, prediction=0.34027984738349915)\n",
      "Row(gene_id=8, drug_id=654, prediction=nan)\n",
      "Row(gene_id=8, drug_id=1197, prediction=0.6246718764305115)\n",
      "Row(gene_id=8, drug_id=47, prediction=0.6228344440460205)\n",
      "Row(gene_id=8, drug_id=1207, prediction=nan)\n",
      "Row(gene_id=8, drug_id=140, prediction=nan)\n",
      "Row(gene_id=8, drug_id=177, prediction=nan)\n",
      "Row(gene_id=8, drug_id=416, prediction=0.27598854899406433)\n",
      "Row(gene_id=8, drug_id=556, prediction=nan)\n",
      "Row(gene_id=8, drug_id=711, prediction=0.35340479016304016)\n",
      "Row(gene_id=8, drug_id=827, prediction=0.7438265085220337)\n",
      "Row(gene_id=8, drug_id=1055, prediction=0.15136955678462982)\n",
      "Row(gene_id=8, drug_id=1244, prediction=nan)\n",
      "Row(gene_id=8, drug_id=1300, prediction=nan)\n",
      "Row(gene_id=8, drug_id=132, prediction=0.6819004416465759)\n",
      "Row(gene_id=8, drug_id=152, prediction=0.4380103051662445)\n",
      "Row(gene_id=8, drug_id=444, prediction=nan)\n",
      "Row(gene_id=8, drug_id=665, prediction=nan)\n",
      "Row(gene_id=8, drug_id=671, prediction=nan)\n",
      "Row(gene_id=8, drug_id=1114, prediction=0.6637583374977112)\n",
      "Row(gene_id=8, drug_id=1206, prediction=nan)\n",
      "Row(gene_id=8, drug_id=185, prediction=0.4586137533187866)\n",
      "Row(gene_id=8, drug_id=305, prediction=0.6547008156776428)\n",
      "Row(gene_id=8, drug_id=353, prediction=nan)\n",
      "Row(gene_id=8, drug_id=355, prediction=nan)\n",
      "Row(gene_id=8, drug_id=618, prediction=nan)\n",
      "Row(gene_id=8, drug_id=694, prediction=nan)\n",
      "Row(gene_id=8, drug_id=696, prediction=0.13941502571105957)\n",
      "Row(gene_id=8, drug_id=747, prediction=nan)\n",
      "Row(gene_id=8, drug_id=882, prediction=nan)\n",
      "Row(gene_id=8, drug_id=291, prediction=0.2748846709728241)\n",
      "Row(gene_id=8, drug_id=325, prediction=0.5621738433837891)\n",
      "Row(gene_id=8, drug_id=386, prediction=nan)\n",
      "Row(gene_id=8, drug_id=906, prediction=0.29680949449539185)\n",
      "Row(gene_id=8, drug_id=955, prediction=0.6689423322677612)\n",
      "Row(gene_id=8, drug_id=1288, prediction=nan)\n",
      "Row(gene_id=8, drug_id=1306, prediction=0.43955764174461365)\n",
      "Row(gene_id=8, drug_id=1311, prediction=0.5882123112678528)\n",
      "Row(gene_id=8, drug_id=435, prediction=nan)\n",
      "Row(gene_id=8, drug_id=473, prediction=0.8150845170021057)\n",
      "Row(gene_id=8, drug_id=581, prediction=nan)\n",
      "Row(gene_id=8, drug_id=603, prediction=nan)\n",
      "Row(gene_id=8, drug_id=660, prediction=nan)\n",
      "Row(gene_id=8, drug_id=748, prediction=0.3319389820098877)\n",
      "Row(gene_id=8, drug_id=774, prediction=nan)\n",
      "Row(gene_id=8, drug_id=912, prediction=0.21019276976585388)\n",
      "Row(gene_id=8, drug_id=935, prediction=nan)\n",
      "Row(gene_id=8, drug_id=1170, prediction=0.4339515268802643)\n",
      "Row(gene_id=8, drug_id=1266, prediction=0.45025843381881714)\n",
      "Row(gene_id=8, drug_id=146, prediction=nan)\n",
      "Row(gene_id=8, drug_id=704, prediction=nan)\n",
      "Row(gene_id=8, drug_id=1122, prediction=0.3006898760795593)\n",
      "Row(gene_id=8, drug_id=1145, prediction=0.7270198464393616)\n",
      "Row(gene_id=8, drug_id=1247, prediction=nan)\n",
      "Row(gene_id=8, drug_id=1304, prediction=0.20067009329795837)\n",
      "Row(gene_id=8, drug_id=259, prediction=nan)\n",
      "Row(gene_id=8, drug_id=512, prediction=0.190419539809227)\n",
      "Row(gene_id=8, drug_id=797, prediction=0.3301478624343872)\n",
      "Row(gene_id=8, drug_id=1, prediction=nan)\n",
      "Row(gene_id=8, drug_id=206, prediction=0.5128675103187561)\n",
      "Row(gene_id=8, drug_id=896, prediction=nan)\n",
      "Row(gene_id=8, drug_id=1008, prediction=nan)\n",
      "Row(gene_id=8, drug_id=1172, prediction=0.15489089488983154)\n",
      "Row(gene_id=8, drug_id=52, prediction=0.5065773725509644)\n",
      "Row(gene_id=8, drug_id=297, prediction=nan)\n",
      "Row(gene_id=8, drug_id=363, prediction=0.3190109133720398)\n",
      "Row(gene_id=8, drug_id=768, prediction=nan)\n",
      "Row(gene_id=8, drug_id=770, prediction=nan)\n",
      "Row(gene_id=8, drug_id=777, prediction=nan)\n",
      "Row(gene_id=8, drug_id=1302, prediction=nan)\n",
      "Row(gene_id=8, drug_id=212, prediction=0.4059322774410248)\n",
      "Row(gene_id=8, drug_id=674, prediction=0.45146840810775757)\n",
      "Row(gene_id=8, drug_id=715, prediction=0.3716137409210205)\n",
      "Row(gene_id=8, drug_id=992, prediction=nan)\n",
      "Row(gene_id=8, drug_id=1047, prediction=0.6811732649803162)\n",
      "Row(gene_id=8, drug_id=1190, prediction=nan)\n",
      "Row(gene_id=8, drug_id=274, prediction=0.5133665204048157)\n",
      "Row(gene_id=8, drug_id=631, prediction=0.27883005142211914)\n",
      "Row(gene_id=8, drug_id=182, prediction=nan)\n",
      "Row(gene_id=8, drug_id=442, prediction=0.4739465117454529)\n",
      "Row(gene_id=8, drug_id=689, prediction=nan)\n",
      "Row(gene_id=8, drug_id=699, prediction=nan)\n",
      "Row(gene_id=8, drug_id=792, prediction=nan)\n",
      "Row(gene_id=8, drug_id=1137, prediction=0.20236320793628693)\n",
      "Row(gene_id=8, drug_id=1323, prediction=nan)\n",
      "Row(gene_id=8, drug_id=13, prediction=nan)\n",
      "Row(gene_id=8, drug_id=218, prediction=0.5335702300071716)\n",
      "Row(gene_id=8, drug_id=280, prediction=0.15136955678462982)\n",
      "Row(gene_id=8, drug_id=348, prediction=nan)\n",
      "Row(gene_id=8, drug_id=440, prediction=0.3529475927352905)\n",
      "Row(gene_id=8, drug_id=734, prediction=nan)\n",
      "Row(gene_id=8, drug_id=6, prediction=nan)\n",
      "Row(gene_id=8, drug_id=16, prediction=0.49311375617980957)\n",
      "Row(gene_id=8, drug_id=86, prediction=nan)\n",
      "Row(gene_id=8, drug_id=474, prediction=nan)\n",
      "Row(gene_id=8, drug_id=636, prediction=0.3439670503139496)\n",
      "Row(gene_id=8, drug_id=760, prediction=nan)\n",
      "Row(gene_id=8, drug_id=1089, prediction=nan)\n",
      "Row(gene_id=8, drug_id=1100, prediction=nan)\n",
      "Row(gene_id=8, drug_id=1155, prediction=nan)\n",
      "Row(gene_id=8, drug_id=1267, prediction=nan)\n",
      "Row(gene_id=8, drug_id=168, prediction=nan)\n",
      "Row(gene_id=8, drug_id=205, prediction=0.565434992313385)\n",
      "Row(gene_id=8, drug_id=572, prediction=nan)\n",
      "Row(gene_id=8, drug_id=852, prediction=0.4881227910518646)\n",
      "Row(gene_id=8, drug_id=887, prediction=0.34950709342956543)\n",
      "Row(gene_id=8, drug_id=3, prediction=nan)\n",
      "Row(gene_id=8, drug_id=142, prediction=nan)\n",
      "Row(gene_id=8, drug_id=178, prediction=nan)\n",
      "Row(gene_id=8, drug_id=925, prediction=0.47234851121902466)\n",
      "Row(gene_id=8, drug_id=972, prediction=0.46746277809143066)\n",
      "Row(gene_id=8, drug_id=998, prediction=nan)\n",
      "Row(gene_id=8, drug_id=1062, prediction=0.5245651602745056)\n",
      "Row(gene_id=8, drug_id=1082, prediction=nan)\n",
      "Row(gene_id=8, drug_id=1218, prediction=0.4278911352157593)\n",
      "Row(gene_id=8, drug_id=1242, prediction=nan)\n",
      "Row(gene_id=8, drug_id=308, prediction=nan)\n",
      "Row(gene_id=8, drug_id=328, prediction=nan)\n",
      "Row(gene_id=8, drug_id=867, prediction=nan)\n",
      "Row(gene_id=8, drug_id=1130, prediction=nan)\n",
      "Row(gene_id=8, drug_id=20, prediction=0.5137412548065186)\n",
      "Row(gene_id=8, drug_id=40, prediction=0.5235371589660645)\n",
      "Row(gene_id=8, drug_id=164, prediction=0.629996657371521)\n",
      "Row(gene_id=8, drug_id=429, prediction=nan)\n",
      "Row(gene_id=8, drug_id=470, prediction=nan)\n",
      "Row(gene_id=8, drug_id=839, prediction=nan)\n",
      "Row(gene_id=8, drug_id=1275, prediction=0.35879212617874146)\n",
      "Row(gene_id=8, drug_id=169, prediction=nan)\n",
      "Row(gene_id=8, drug_id=500, prediction=0.3967202603816986)\n",
      "Row(gene_id=8, drug_id=1171, prediction=0.29226154088974)\n",
      "Row(gene_id=8, drug_id=139, prediction=nan)\n",
      "Row(gene_id=8, drug_id=283, prediction=nan)\n",
      "Row(gene_id=8, drug_id=359, prediction=0.5579285621643066)\n",
      "Row(gene_id=8, drug_id=479, prediction=0.37031257152557373)\n",
      "Row(gene_id=8, drug_id=1144, prediction=0.3352918028831482)\n",
      "Row(gene_id=8, drug_id=295, prediction=0.2748846709728241)\n",
      "Row(gene_id=8, drug_id=340, prediction=nan)\n",
      "Row(gene_id=8, drug_id=431, prediction=nan)\n",
      "Row(gene_id=8, drug_id=692, prediction=0.43983882665634155)\n",
      "Row(gene_id=8, drug_id=881, prediction=nan)\n",
      "Row(gene_id=8, drug_id=980, prediction=nan)\n",
      "Row(gene_id=8, drug_id=1021, prediction=0.5709975957870483)\n",
      "Row(gene_id=8, drug_id=1245, prediction=0.7107282876968384)\n",
      "Row(gene_id=8, drug_id=1335, prediction=0.3863525986671448)\n",
      "Row(gene_id=8, drug_id=94, prediction=0.3066886365413666)\n",
      "Row(gene_id=8, drug_id=250, prediction=0.4002431035041809)\n",
      "Row(gene_id=8, drug_id=377, prediction=0.16788136959075928)\n",
      "Row(gene_id=8, drug_id=402, prediction=0.3613034784793854)\n",
      "Row(gene_id=8, drug_id=432, prediction=0.2686622440814972)\n",
      "Row(gene_id=8, drug_id=582, prediction=nan)\n",
      "Row(gene_id=8, drug_id=1273, prediction=nan)\n",
      "Row(gene_id=8, drug_id=1301, prediction=0.44613856077194214)\n",
      "Row(gene_id=8, drug_id=57, prediction=0.43583929538726807)\n",
      "Row(gene_id=8, drug_id=570, prediction=nan)\n",
      "Row(gene_id=8, drug_id=868, prediction=0.16788136959075928)\n",
      "Row(gene_id=8, drug_id=920, prediction=0.4276899993419647)\n",
      "Row(gene_id=8, drug_id=1026, prediction=nan)\n",
      "Row(gene_id=8, drug_id=647, prediction=nan)\n",
      "Row(gene_id=8, drug_id=966, prediction=0.43357136845588684)\n",
      "Row(gene_id=8, drug_id=1074, prediction=nan)\n",
      "Row(gene_id=8, drug_id=1113, prediction=0.45563894510269165)\n",
      "Row(gene_id=8, drug_id=292, prediction=0.6377068758010864)\n",
      "Row(gene_id=8, drug_id=306, prediction=0.5812489986419678)\n",
      "Row(gene_id=8, drug_id=339, prediction=nan)\n",
      "Row(gene_id=8, drug_id=676, prediction=0.39133408665657043)\n",
      "Row(gene_id=8, drug_id=919, prediction=0.5392035841941833)\n",
      "Row(gene_id=8, drug_id=923, prediction=0.4761676490306854)\n",
      "Row(gene_id=8, drug_id=944, prediction=nan)\n",
      "Row(gene_id=8, drug_id=983, prediction=0.4049052596092224)\n",
      "Row(gene_id=8, drug_id=1069, prediction=0.4821474254131317)\n",
      "Row(gene_id=8, drug_id=1146, prediction=0.5583104491233826)\n",
      "Row(gene_id=8, drug_id=1251, prediction=0.41934508085250854)\n",
      "Row(gene_id=8, drug_id=54, prediction=0.2935585081577301)\n",
      "Row(gene_id=8, drug_id=120, prediction=nan)\n",
      "Row(gene_id=8, drug_id=559, prediction=nan)\n",
      "Row(gene_id=8, drug_id=969, prediction=nan)\n",
      "Row(gene_id=8, drug_id=1028, prediction=nan)\n",
      "Row(gene_id=8, drug_id=491, prediction=0.3230738937854767)\n",
      "Row(gene_id=8, drug_id=634, prediction=0.6496233940124512)\n",
      "Row(gene_id=8, drug_id=646, prediction=nan)\n",
      "Row(gene_id=8, drug_id=1191, prediction=nan)\n",
      "Row(gene_id=8, drug_id=96, prediction=nan)\n",
      "Row(gene_id=8, drug_id=235, prediction=nan)\n",
      "Row(gene_id=8, drug_id=545, prediction=nan)\n",
      "Row(gene_id=8, drug_id=620, prediction=nan)\n",
      "Row(gene_id=8, drug_id=776, prediction=nan)\n",
      "Row(gene_id=8, drug_id=846, prediction=nan)\n",
      "Row(gene_id=8, drug_id=871, prediction=0.13941502571105957)\n",
      "Row(gene_id=8, drug_id=452, prediction=0.8087807297706604)\n",
      "Row(gene_id=8, drug_id=732, prediction=nan)\n",
      "Row(gene_id=8, drug_id=840, prediction=nan)\n",
      "Row(gene_id=8, drug_id=1029, prediction=0.403559148311615)\n",
      "Row(gene_id=8, drug_id=1032, prediction=nan)\n",
      "Row(gene_id=8, drug_id=1167, prediction=0.5276648998260498)\n",
      "Row(gene_id=8, drug_id=48, prediction=0.19242744147777557)\n",
      "Row(gene_id=8, drug_id=266, prediction=0.2441917061805725)\n",
      "Row(gene_id=8, drug_id=507, prediction=0.47671544551849365)\n",
      "Row(gene_id=8, drug_id=544, prediction=0.33282575011253357)\n",
      "Row(gene_id=8, drug_id=650, prediction=0.5223625898361206)\n",
      "Row(gene_id=8, drug_id=5, prediction=nan)\n",
      "Row(gene_id=8, drug_id=163, prediction=0.46746277809143066)\n",
      "Row(gene_id=8, drug_id=191, prediction=nan)\n",
      "Row(gene_id=8, drug_id=268, prediction=0.4588490426540375)\n",
      "Row(gene_id=8, drug_id=1087, prediction=nan)\n",
      "Row(gene_id=8, drug_id=1341, prediction=0.6682349443435669)\n",
      "Row(gene_id=8, drug_id=258, prediction=0.4207274913787842)\n",
      "Row(gene_id=8, drug_id=279, prediction=0.7543702125549316)\n",
      "Row(gene_id=8, drug_id=709, prediction=0.5749126076698303)\n",
      "Row(gene_id=8, drug_id=959, prediction=nan)\n",
      "Row(gene_id=8, drug_id=1010, prediction=nan)\n",
      "Row(gene_id=8, drug_id=1232, prediction=nan)\n",
      "Row(gene_id=8, drug_id=729, prediction=0.5213553309440613)\n",
      "Row(gene_id=8, drug_id=19, prediction=0.32736489176750183)\n",
      "Row(gene_id=8, drug_id=397, prediction=0.3729334771633148)\n",
      "Row(gene_id=8, drug_id=430, prediction=0.6519807577133179)\n",
      "Row(gene_id=8, drug_id=754, prediction=0.5447901487350464)\n",
      "Row(gene_id=8, drug_id=989, prediction=nan)\n",
      "Row(gene_id=8, drug_id=92, prediction=nan)\n",
      "Row(gene_id=8, drug_id=419, prediction=0.5432130098342896)\n",
      "Row(gene_id=8, drug_id=542, prediction=0.13941502571105957)\n",
      "Row(gene_id=8, drug_id=553, prediction=nan)\n",
      "Row(gene_id=8, drug_id=560, prediction=nan)\n",
      "Row(gene_id=8, drug_id=836, prediction=0.5854973793029785)\n",
      "Row(gene_id=8, drug_id=1192, prediction=0.43043026328086853)\n",
      "Row(gene_id=8, drug_id=415, prediction=0.5947772264480591)\n",
      "Row(gene_id=8, drug_id=780, prediction=nan)\n",
      "Row(gene_id=8, drug_id=1128, prediction=0.27813345193862915)\n",
      "Row(gene_id=8, drug_id=1227, prediction=nan)\n",
      "Row(gene_id=8, drug_id=257, prediction=0.5314344167709351)\n",
      "Row(gene_id=8, drug_id=299, prediction=0.620597243309021)\n",
      "Row(gene_id=8, drug_id=641, prediction=0.15136955678462982)\n",
      "Row(gene_id=8, drug_id=644, prediction=nan)\n",
      "Row(gene_id=8, drug_id=826, prediction=0.6575336456298828)\n",
      "Row(gene_id=8, drug_id=1186, prediction=0.3300969898700714)\n",
      "Row(gene_id=8, drug_id=1250, prediction=0.44674235582351685)\n",
      "Row(gene_id=8, drug_id=1314, prediction=nan)\n",
      "Row(gene_id=8, drug_id=64, prediction=0.29785415530204773)\n",
      "Row(gene_id=8, drug_id=117, prediction=0.39568856358528137)\n",
      "Row(gene_id=8, drug_id=227, prediction=nan)\n",
      "Row(gene_id=8, drug_id=579, prediction=nan)\n",
      "Row(gene_id=8, drug_id=1220, prediction=0.5858441591262817)\n",
      "Row(gene_id=8, drug_id=1222, prediction=0.5024939179420471)\n",
      "Row(gene_id=8, drug_id=1225, prediction=0.31874141097068787)\n",
      "Row(gene_id=8, drug_id=1299, prediction=nan)\n",
      "Row(gene_id=8, drug_id=504, prediction=0.5001803636550903)\n",
      "Row(gene_id=8, drug_id=554, prediction=nan)\n",
      "Row(gene_id=8, drug_id=598, prediction=nan)\n",
      "Row(gene_id=8, drug_id=764, prediction=0.2791885733604431)\n",
      "Row(gene_id=8, drug_id=886, prediction=0.5587939620018005)\n",
      "Row(gene_id=8, drug_id=936, prediction=nan)\n",
      "Row(gene_id=8, drug_id=1002, prediction=0.4917418956756592)\n",
      "Row(gene_id=8, drug_id=1048, prediction=0.5074478983879089)\n",
      "Row(gene_id=8, drug_id=1050, prediction=0.48380154371261597)\n",
      "Row(gene_id=8, drug_id=1166, prediction=nan)\n",
      "Row(gene_id=8, drug_id=1252, prediction=nan)\n",
      "Row(gene_id=8, drug_id=1255, prediction=nan)\n",
      "Row(gene_id=8, drug_id=1298, prediction=nan)\n",
      "Row(gene_id=8, drug_id=41, prediction=0.21871930360794067)\n",
      "Row(gene_id=8, drug_id=154, prediction=nan)\n",
      "Row(gene_id=8, drug_id=309, prediction=0.18744826316833496)\n",
      "Row(gene_id=8, drug_id=425, prediction=nan)\n",
      "Row(gene_id=8, drug_id=904, prediction=nan)\n",
      "Row(gene_id=8, drug_id=931, prediction=0.546735405921936)\n",
      "Row(gene_id=8, drug_id=1181, prediction=nan)\n",
      "Row(gene_id=8, drug_id=1189, prediction=nan)\n",
      "Row(gene_id=8, drug_id=1321, prediction=0.7886064052581787)\n",
      "Row(gene_id=8, drug_id=1326, prediction=nan)\n",
      "Row(gene_id=8, drug_id=347, prediction=0.4852971136569977)\n",
      "Row(gene_id=8, drug_id=447, prediction=nan)\n",
      "Row(gene_id=8, drug_id=455, prediction=nan)\n",
      "Row(gene_id=8, drug_id=484, prediction=nan)\n",
      "Row(gene_id=8, drug_id=607, prediction=nan)\n",
      "Row(gene_id=8, drug_id=1035, prediction=0.4480818212032318)\n",
      "Row(gene_id=8, drug_id=15, prediction=0.3891800045967102)\n",
      "Row(gene_id=8, drug_id=43, prediction=0.6158744096755981)\n",
      "Row(gene_id=8, drug_id=845, prediction=0.32010969519615173)\n",
      "Row(gene_id=8, drug_id=1136, prediction=0.486362487077713)\n",
      "Row(gene_id=8, drug_id=1151, prediction=0.09718125313520432)\n",
      "Row(gene_id=8, drug_id=1253, prediction=0.6214755773544312)\n",
      "Row(gene_id=8, drug_id=262, prediction=0.3515550196170807)\n",
      "Row(gene_id=8, drug_id=511, prediction=nan)\n",
      "Row(gene_id=8, drug_id=929, prediction=0.5938794612884521)\n",
      "Row(gene_id=8, drug_id=1052, prediction=nan)\n",
      "Row(gene_id=8, drug_id=112, prediction=nan)\n",
      "Row(gene_id=8, drug_id=269, prediction=nan)\n",
      "Row(gene_id=8, drug_id=1045, prediction=nan)\n",
      "Row(gene_id=8, drug_id=1194, prediction=0.41611170768737793)\n",
      "Row(gene_id=8, drug_id=327, prediction=0.4176616072654724)\n",
      "Row(gene_id=8, drug_id=563, prediction=nan)\n",
      "Row(gene_id=8, drug_id=615, prediction=nan)\n",
      "Row(gene_id=8, drug_id=849, prediction=0.28835031390190125)\n",
      "Row(gene_id=8, drug_id=1263, prediction=0.47271376848220825)\n",
      "Row(gene_id=8, drug_id=165, prediction=nan)\n",
      "Row(gene_id=8, drug_id=666, prediction=nan)\n",
      "Row(gene_id=8, drug_id=775, prediction=nan)\n",
      "Row(gene_id=8, drug_id=1091, prediction=0.4249061644077301)\n",
      "Row(gene_id=8, drug_id=1132, prediction=nan)\n",
      "Row(gene_id=8, drug_id=1182, prediction=nan)\n",
      "Row(gene_id=8, drug_id=1240, prediction=0.5154332518577576)\n",
      "Row(gene_id=8, drug_id=1330, prediction=nan)\n",
      "Row(gene_id=8, drug_id=358, prediction=0.25526875257492065)\n",
      "Row(gene_id=8, drug_id=366, prediction=0.459637314081192)\n",
      "Row(gene_id=8, drug_id=843, prediction=0.26746901869773865)\n",
      "Row(gene_id=8, drug_id=854, prediction=0.6426440477371216)\n",
      "Row(gene_id=8, drug_id=1286, prediction=0.4197764992713928)\n",
      "Row(gene_id=8, drug_id=179, prediction=0.22138477861881256)\n",
      "Row(gene_id=8, drug_id=189, prediction=nan)\n",
      "Row(gene_id=8, drug_id=207, prediction=0.4227807819843292)\n",
      "Row(gene_id=8, drug_id=489, prediction=0.3921734690666199)\n",
      "Row(gene_id=8, drug_id=590, prediction=0.20290976762771606)\n",
      "Row(gene_id=8, drug_id=675, prediction=nan)\n",
      "Row(gene_id=8, drug_id=862, prediction=0.45197463035583496)\n",
      "Row(gene_id=8, drug_id=1073, prediction=0.4935980439186096)\n",
      "Row(gene_id=8, drug_id=1119, prediction=nan)\n",
      "Row(gene_id=8, drug_id=1180, prediction=nan)\n",
      "Row(gene_id=8, drug_id=37, prediction=0.3808273375034332)\n",
      "Row(gene_id=8, drug_id=383, prediction=0.28317713737487793)\n",
      "Row(gene_id=8, drug_id=659, prediction=0.5302863717079163)\n",
      "Row(gene_id=8, drug_id=1310, prediction=0.5219675302505493)\n",
      "Row(gene_id=8, drug_id=61, prediction=nan)\n",
      "Row(gene_id=8, drug_id=127, prediction=0.3106020987033844)\n",
      "Row(gene_id=8, drug_id=316, prediction=0.5035110712051392)\n",
      "Row(gene_id=8, drug_id=461, prediction=0.7176730632781982)\n",
      "Row(gene_id=8, drug_id=502, prediction=nan)\n",
      "Row(gene_id=8, drug_id=523, prediction=0.6223660111427307)\n",
      "Row(gene_id=8, drug_id=819, prediction=nan)\n",
      "Row(gene_id=8, drug_id=937, prediction=0.6723510026931763)\n",
      "Row(gene_id=8, drug_id=1231, prediction=nan)\n",
      "Row(gene_id=8, drug_id=1334, prediction=0.5169112086296082)\n",
      "Row(gene_id=8, drug_id=88, prediction=0.561486542224884)\n",
      "Row(gene_id=8, drug_id=197, prediction=nan)\n",
      "Row(gene_id=8, drug_id=486, prediction=0.3921734690666199)\n",
      "Row(gene_id=8, drug_id=531, prediction=0.7227843403816223)\n",
      "Row(gene_id=8, drug_id=903, prediction=nan)\n",
      "Row(gene_id=8, drug_id=979, prediction=nan)\n",
      "Row(gene_id=8, drug_id=993, prediction=0.5666862726211548)\n",
      "Row(gene_id=8, drug_id=318, prediction=0.46746277809143066)\n",
      "Row(gene_id=8, drug_id=462, prediction=nan)\n",
      "Row(gene_id=8, drug_id=547, prediction=nan)\n",
      "Row(gene_id=8, drug_id=1124, prediction=nan)\n",
      "Row(gene_id=8, drug_id=1216, prediction=0.5724677443504333)\n",
      "Row(gene_id=8, drug_id=1248, prediction=0.25129416584968567)\n",
      "Row(gene_id=8, drug_id=1271, prediction=nan)\n",
      "Row(gene_id=8, drug_id=107, prediction=0.11544403433799744)\n",
      "Row(gene_id=8, drug_id=202, prediction=0.24352946877479553)\n",
      "Row(gene_id=8, drug_id=263, prediction=nan)\n",
      "Row(gene_id=8, drug_id=374, prediction=0.29788437485694885)\n",
      "Row(gene_id=8, drug_id=564, prediction=0.2331274002790451)\n",
      "Row(gene_id=8, drug_id=619, prediction=nan)\n",
      "Row(gene_id=8, drug_id=891, prediction=nan)\n",
      "Row(gene_id=8, drug_id=1108, prediction=nan)\n",
      "Row(gene_id=8, drug_id=1158, prediction=0.461001992225647)\n",
      "Row(gene_id=8, drug_id=9, prediction=nan)\n",
      "Row(gene_id=8, drug_id=17, prediction=nan)\n",
      "Row(gene_id=8, drug_id=231, prediction=0.8898331522941589)\n",
      "Row(gene_id=8, drug_id=552, prediction=0.33318522572517395)\n",
      "Row(gene_id=8, drug_id=1123, prediction=nan)\n",
      "Row(gene_id=8, drug_id=1219, prediction=nan)\n",
      "Row(gene_id=8, drug_id=324, prediction=nan)\n",
      "Row(gene_id=8, drug_id=586, prediction=0.4098837971687317)\n",
      "Row(gene_id=8, drug_id=609, prediction=0.456983357667923)\n",
      "Row(gene_id=8, drug_id=1164, prediction=0.343960702419281)\n",
      "Row(gene_id=8, drug_id=1329, prediction=nan)\n",
      "Row(gene_id=8, drug_id=72, prediction=0.4577595889568329)\n",
      "Row(gene_id=8, drug_id=286, prediction=0.2209675908088684)\n",
      "Row(gene_id=8, drug_id=398, prediction=0.49505892395973206)\n",
      "Row(gene_id=8, drug_id=505, prediction=nan)\n",
      "Row(gene_id=8, drug_id=538, prediction=0.5109919309616089)\n",
      "Row(gene_id=8, drug_id=1293, prediction=0.32101964950561523)\n",
      "Row(gene_id=8, drug_id=1017, prediction=nan)\n",
      "Row(gene_id=8, drug_id=1211, prediction=0.3238023519515991)\n",
      "Row(gene_id=8, drug_id=175, prediction=nan)\n",
      "Row(gene_id=8, drug_id=387, prediction=0.4067292809486389)\n",
      "Row(gene_id=8, drug_id=423, prediction=nan)\n",
      "Row(gene_id=8, drug_id=695, prediction=nan)\n",
      "Row(gene_id=8, drug_id=746, prediction=0.25803422927856445)\n",
      "Row(gene_id=8, drug_id=1057, prediction=nan)\n",
      "Row(gene_id=8, drug_id=1159, prediction=0.3085864186286926)\n",
      "Row(gene_id=8, drug_id=381, prediction=nan)\n",
      "Row(gene_id=8, drug_id=498, prediction=0.7496921420097351)\n",
      "Row(gene_id=8, drug_id=721, prediction=nan)\n",
      "Row(gene_id=8, drug_id=850, prediction=nan)\n",
      "Row(gene_id=8, drug_id=1118, prediction=0.46746277809143066)\n",
      "Row(gene_id=8, drug_id=1121, prediction=0.31013625860214233)\n",
      "Row(gene_id=8, drug_id=1161, prediction=nan)\n",
      "Row(gene_id=8, drug_id=35, prediction=nan)\n",
      "Row(gene_id=8, drug_id=503, prediction=0.40141066908836365)\n",
      "Row(gene_id=8, drug_id=583, prediction=nan)\n",
      "Row(gene_id=8, drug_id=594, prediction=0.13326393067836761)\n",
      "Row(gene_id=8, drug_id=610, prediction=nan)\n",
      "Row(gene_id=8, drug_id=614, prediction=nan)\n",
      "Row(gene_id=8, drug_id=761, prediction=nan)\n",
      "Row(gene_id=8, drug_id=880, prediction=0.8311631083488464)\n",
      "Row(gene_id=8, drug_id=1072, prediction=nan)\n",
      "Row(gene_id=8, drug_id=677, prediction=nan)\n",
      "Row(gene_id=8, drug_id=739, prediction=0.624535322189331)\n",
      "Row(gene_id=8, drug_id=1059, prediction=0.7084230184555054)\n",
      "Row(gene_id=8, drug_id=1142, prediction=0.5461171865463257)\n",
      "Row(gene_id=8, drug_id=310, prediction=nan)\n",
      "Row(gene_id=8, drug_id=485, prediction=0.30375605821609497)\n",
      "Row(gene_id=8, drug_id=568, prediction=0.13941502571105957)\n",
      "Row(gene_id=8, drug_id=698, prediction=nan)\n",
      "Row(gene_id=8, drug_id=742, prediction=0.2886676490306854)\n",
      "Row(gene_id=8, drug_id=838, prediction=0.3586457669734955)\n",
      "Row(gene_id=8, drug_id=870, prediction=nan)\n",
      "Row(gene_id=8, drug_id=900, prediction=nan)\n",
      "Row(gene_id=8, drug_id=196, prediction=0.3359777629375458)\n",
      "Row(gene_id=8, drug_id=437, prediction=0.41605475544929504)\n",
      "Row(gene_id=8, drug_id=456, prediction=0.5905037522315979)\n",
      "Row(gene_id=8, drug_id=829, prediction=nan)\n",
      "Row(gene_id=8, drug_id=834, prediction=nan)\n",
      "Row(gene_id=8, drug_id=1154, prediction=0.46746277809143066)\n",
      "Row(gene_id=8, drug_id=1272, prediction=nan)\n",
      "Row(gene_id=8, drug_id=217, prediction=0.26637542247772217)\n",
      "Row(gene_id=8, drug_id=290, prediction=nan)\n",
      "Row(gene_id=8, drug_id=441, prediction=nan)\n",
      "Row(gene_id=8, drug_id=733, prediction=0.5137291550636292)\n",
      "Row(gene_id=8, drug_id=800, prediction=0.13941502571105957)\n",
      "Row(gene_id=8, drug_id=884, prediction=nan)\n",
      "Row(gene_id=8, drug_id=948, prediction=nan)\n",
      "Row(gene_id=8, drug_id=986, prediction=nan)\n",
      "Row(gene_id=8, drug_id=229, prediction=nan)\n",
      "Row(gene_id=8, drug_id=307, prediction=0.13941502571105957)\n",
      "Row(gene_id=8, drug_id=326, prediction=0.5834659934043884)\n",
      "Row(gene_id=8, drug_id=537, prediction=0.535025417804718)\n",
      "Row(gene_id=8, drug_id=766, prediction=nan)\n",
      "Row(gene_id=8, drug_id=823, prediction=nan)\n",
      "Row(gene_id=8, drug_id=960, prediction=nan)\n",
      "Row(gene_id=8, drug_id=1037, prediction=0.13941502571105957)\n",
      "Row(gene_id=8, drug_id=1096, prediction=0.35171887278556824)\n",
      "Row(gene_id=8, drug_id=114, prediction=0.18006391823291779)\n",
      "Row(gene_id=8, drug_id=173, prediction=0.239722341299057)\n",
      "Row(gene_id=8, drug_id=220, prediction=0.1585400402545929)\n",
      "Row(gene_id=8, drug_id=278, prediction=nan)\n",
      "Row(gene_id=8, drug_id=301, prediction=0.8258570432662964)\n",
      "Row(gene_id=8, drug_id=494, prediction=nan)\n",
      "Row(gene_id=8, drug_id=669, prediction=0.8057141900062561)\n",
      "Row(gene_id=8, drug_id=713, prediction=0.3921734690666199)\n",
      "Row(gene_id=8, drug_id=810, prediction=nan)\n",
      "Row(gene_id=8, drug_id=813, prediction=nan)\n",
      "Row(gene_id=8, drug_id=890, prediction=0.3921734690666199)\n",
      "Row(gene_id=8, drug_id=1036, prediction=0.5631363987922668)\n",
      "Row(gene_id=8, drug_id=1205, prediction=nan)\n",
      "Row(gene_id=8, drug_id=4, prediction=0.39841920137405396)\n",
      "Row(gene_id=8, drug_id=55, prediction=nan)\n",
      "Row(gene_id=8, drug_id=59, prediction=nan)\n",
      "Row(gene_id=8, drug_id=445, prediction=0.2421436607837677)\n",
      "Row(gene_id=8, drug_id=684, prediction=0.47597184777259827)\n",
      "Row(gene_id=8, drug_id=1318, prediction=0.7096275687217712)\n",
      "Row(gene_id=8, drug_id=1340, prediction=0.48816752433776855)\n",
      "Row(gene_id=8, drug_id=8, prediction=nan)\n",
      "Row(gene_id=8, drug_id=100, prediction=nan)\n",
      "Row(gene_id=8, drug_id=241, prediction=0.3422544300556183)\n",
      "Row(gene_id=8, drug_id=449, prediction=0.2062978446483612)\n",
      "Row(gene_id=8, drug_id=450, prediction=nan)\n",
      "Row(gene_id=8, drug_id=495, prediction=0.461001992225647)\n",
      "Row(gene_id=8, drug_id=717, prediction=nan)\n",
      "Row(gene_id=8, drug_id=757, prediction=0.23970022797584534)\n",
      "Row(gene_id=8, drug_id=930, prediction=0.44515618681907654)\n",
      "Row(gene_id=8, drug_id=161, prediction=nan)\n",
      "Row(gene_id=8, drug_id=555, prediction=nan)\n",
      "Row(gene_id=8, drug_id=687, prediction=nan)\n",
      "Row(gene_id=8, drug_id=987, prediction=0.29820483922958374)\n",
      "Row(gene_id=8, drug_id=1066, prediction=0.5340685844421387)\n",
      "Row(gene_id=8, drug_id=1256, prediction=nan)\n",
      "Row(gene_id=8, drug_id=1279, prediction=nan)\n",
      "Row(gene_id=8, drug_id=23, prediction=nan)\n",
      "Row(gene_id=8, drug_id=39, prediction=0.6115447282791138)\n",
      "Row(gene_id=8, drug_id=679, prediction=nan)\n",
      "Row(gene_id=8, drug_id=719, prediction=0.5670623779296875)\n",
      "Row(gene_id=8, drug_id=922, prediction=0.9264643788337708)\n",
      "Row(gene_id=8, drug_id=981, prediction=0.41896089911460876)\n",
      "Row(gene_id=8, drug_id=1015, prediction=nan)\n",
      "Row(gene_id=8, drug_id=1022, prediction=nan)\n",
      "Row(gene_id=8, drug_id=1060, prediction=nan)\n",
      "Row(gene_id=8, drug_id=1169, prediction=0.3264821767807007)\n",
      "Row(gene_id=8, drug_id=1254, prediction=0.848731279373169)\n",
      "Row(gene_id=8, drug_id=1315, prediction=nan)\n",
      "Row(gene_id=8, drug_id=49, prediction=0.19220459461212158)\n",
      "Row(gene_id=8, drug_id=176, prediction=0.2943617105484009)\n",
      "Row(gene_id=8, drug_id=380, prediction=0.40109193325042725)\n",
      "Row(gene_id=8, drug_id=520, prediction=0.33282575011253357)\n",
      "Row(gene_id=8, drug_id=629, prediction=nan)\n",
      "Row(gene_id=8, drug_id=672, prediction=nan)\n",
      "Row(gene_id=8, drug_id=736, prediction=0.4563995599746704)\n",
      "Row(gene_id=8, drug_id=791, prediction=0.499131977558136)\n",
      "Row(gene_id=8, drug_id=1041, prediction=0.45301541686058044)\n",
      "Row(gene_id=8, drug_id=1075, prediction=0.341630756855011)\n",
      "Row(gene_id=8, drug_id=1076, prediction=0.3824639320373535)\n",
      "Row(gene_id=8, drug_id=1111, prediction=0.3164798319339752)\n",
      "Row(gene_id=8, drug_id=1116, prediction=0.30093085765838623)\n",
      "Row(gene_id=8, drug_id=1287, prediction=0.3698044419288635)\n",
      "Row(gene_id=8, drug_id=7, prediction=nan)\n",
      "Row(gene_id=8, drug_id=162, prediction=nan)\n",
      "Row(gene_id=8, drug_id=514, prediction=0.6220055818557739)\n",
      "Row(gene_id=8, drug_id=549, prediction=0.9961593747138977)\n",
      "Row(gene_id=8, drug_id=637, prediction=nan)\n",
      "Row(gene_id=8, drug_id=877, prediction=nan)\n",
      "Row(gene_id=8, drug_id=130, prediction=nan)\n",
      "Row(gene_id=8, drug_id=238, prediction=nan)\n",
      "Row(gene_id=8, drug_id=244, prediction=0.494567334651947)\n",
      "Row(gene_id=8, drug_id=446, prediction=nan)\n",
      "Row(gene_id=8, drug_id=624, prediction=0.48470473289489746)\n",
      "Row(gene_id=8, drug_id=648, prediction=0.35307639837265015)\n",
      "Row(gene_id=8, drug_id=958, prediction=nan)\n",
      "Row(gene_id=8, drug_id=84, prediction=nan)\n",
      "Row(gene_id=8, drug_id=136, prediction=nan)\n",
      "Row(gene_id=8, drug_id=453, prediction=0.27065950632095337)\n",
      "Row(gene_id=8, drug_id=720, prediction=0.522818922996521)\n",
      "Row(gene_id=8, drug_id=856, prediction=nan)\n",
      "Row(gene_id=8, drug_id=1000, prediction=0.46746277809143066)\n",
      "Row(gene_id=8, drug_id=247, prediction=0.5597388744354248)\n",
      "Row(gene_id=8, drug_id=314, prediction=0.7530690431594849)\n",
      "Row(gene_id=8, drug_id=627, prediction=0.4749997854232788)\n",
      "Row(gene_id=8, drug_id=664, prediction=0.5006520748138428)\n",
      "Row(gene_id=8, drug_id=691, prediction=nan)\n",
      "Row(gene_id=8, drug_id=728, prediction=0.4995128810405731)\n",
      "Row(gene_id=8, drug_id=824, prediction=nan)\n",
      "Row(gene_id=8, drug_id=1236, prediction=0.38315320014953613)\n",
      "Row(gene_id=8, drug_id=87, prediction=0.2910487651824951)\n",
      "Row(gene_id=8, drug_id=565, prediction=nan)\n",
      "Row(gene_id=8, drug_id=649, prediction=0.5352103114128113)\n",
      "Row(gene_id=8, drug_id=1233, prediction=0.5685133934020996)\n",
      "Row(gene_id=8, drug_id=171, prediction=nan)\n",
      "Row(gene_id=8, drug_id=273, prediction=nan)\n",
      "Row(gene_id=8, drug_id=343, prediction=0.7575034499168396)\n",
      "Row(gene_id=8, drug_id=434, prediction=0.21840763092041016)\n",
      "Row(gene_id=8, drug_id=439, prediction=0.5150048732757568)\n",
      "Row(gene_id=8, drug_id=443, prediction=nan)\n",
      "Row(gene_id=8, drug_id=585, prediction=0.45774146914482117)\n",
      "Row(gene_id=8, drug_id=956, prediction=0.504695475101471)\n",
      "Row(gene_id=8, drug_id=1195, prediction=nan)\n",
      "Row(gene_id=8, drug_id=1229, prediction=nan)\n",
      "Row(gene_id=8, drug_id=1305, prediction=0.45229020714759827)\n",
      "Row(gene_id=8, drug_id=51, prediction=0.1565285474061966)\n",
      "Row(gene_id=8, drug_id=194, prediction=nan)\n",
      "Row(gene_id=8, drug_id=277, prediction=0.6038461327552795)\n",
      "Row(gene_id=8, drug_id=331, prediction=nan)\n",
      "Row(gene_id=8, drug_id=428, prediction=nan)\n",
      "Row(gene_id=8, drug_id=465, prediction=nan)\n",
      "Row(gene_id=8, drug_id=794, prediction=0.21720775961875916)\n",
      "Row(gene_id=8, drug_id=957, prediction=0.38351747393608093)\n",
      "Row(gene_id=8, drug_id=994, prediction=0.3948609530925751)\n",
      "Row(gene_id=8, drug_id=391, prediction=0.2209675908088684)\n",
      "Row(gene_id=8, drug_id=438, prediction=nan)\n",
      "Row(gene_id=8, drug_id=532, prediction=0.5181976556777954)\n",
      "Row(gene_id=8, drug_id=706, prediction=0.515716552734375)\n",
      "Row(gene_id=8, drug_id=821, prediction=0.31185612082481384)\n",
      "Row(gene_id=8, drug_id=1297, prediction=nan)\n",
      "Row(gene_id=8, drug_id=1313, prediction=0.6269512176513672)\n",
      "Row(gene_id=8, drug_id=69, prediction=0.4809458255767822)\n",
      "Row(gene_id=8, drug_id=129, prediction=nan)\n",
      "Row(gene_id=8, drug_id=166, prediction=0.42771124839782715)\n",
      "Row(gene_id=8, drug_id=448, prediction=0.5890236496925354)\n",
      "Row(gene_id=8, drug_id=467, prediction=nan)\n",
      "Row(gene_id=8, drug_id=928, prediction=nan)\n",
      "Row(gene_id=8, drug_id=1200, prediction=nan)\n",
      "Row(gene_id=8, drug_id=1234, prediction=0.2865743637084961)\n",
      "Row(gene_id=8, drug_id=97, prediction=nan)\n",
      "Row(gene_id=8, drug_id=400, prediction=0.41808435320854187)\n",
      "Row(gene_id=8, drug_id=543, prediction=nan)\n",
      "Row(gene_id=8, drug_id=1001, prediction=0.08622448146343231)\n",
      "Row(gene_id=8, drug_id=1020, prediction=nan)\n",
      "Row(gene_id=8, drug_id=1230, prediction=0.47922003269195557)\n",
      "Row(gene_id=8, drug_id=1261, prediction=0.6672395467758179)\n",
      "Row(gene_id=8, drug_id=1317, prediction=0.2943617105484009)\n",
      "Row(gene_id=8, drug_id=524, prediction=0.6014717221260071)\n",
      "Row(gene_id=8, drug_id=533, prediction=0.2728765308856964)\n",
      "Row(gene_id=8, drug_id=661, prediction=0.368208110332489)\n",
      "Row(gene_id=8, drug_id=693, prediction=0.48657408356666565)\n",
      "Row(gene_id=8, drug_id=1006, prediction=0.33561936020851135)\n",
      "Row(gene_id=8, drug_id=1134, prediction=nan)\n",
      "Row(gene_id=8, drug_id=234, prediction=nan)\n",
      "Row(gene_id=8, drug_id=239, prediction=0.5432476997375488)\n",
      "Row(gene_id=8, drug_id=264, prediction=0.6171604990959167)\n",
      "Row(gene_id=8, drug_id=312, prediction=nan)\n",
      "Row(gene_id=8, drug_id=389, prediction=nan)\n",
      "Row(gene_id=8, drug_id=869, prediction=nan)\n",
      "Row(gene_id=8, drug_id=1058, prediction=0.7312537431716919)\n",
      "Row(gene_id=8, drug_id=1081, prediction=0.31553030014038086)\n",
      "Row(gene_id=8, drug_id=1209, prediction=0.729673445224762)\n",
      "Row(gene_id=8, drug_id=63, prediction=nan)\n",
      "Row(gene_id=8, drug_id=635, prediction=0.7654174566268921)\n",
      "Row(gene_id=8, drug_id=885, prediction=nan)\n",
      "Row(gene_id=8, drug_id=395, prediction=0.169824481010437)\n",
      "Row(gene_id=8, drug_id=403, prediction=nan)\n",
      "Row(gene_id=8, drug_id=779, prediction=nan)\n",
      "Row(gene_id=8, drug_id=982, prediction=nan)\n",
      "Row(gene_id=8, drug_id=1104, prediction=nan)\n",
      "Row(gene_id=8, drug_id=459, prediction=0.7364913821220398)\n",
      "Row(gene_id=8, drug_id=509, prediction=nan)\n",
      "Row(gene_id=8, drug_id=907, prediction=0.556165337562561)\n",
      "Row(gene_id=8, drug_id=1094, prediction=0.3653500974178314)\n",
      "Row(gene_id=8, drug_id=10, prediction=0.44093459844589233)\n",
      "Row(gene_id=8, drug_id=77, prediction=nan)\n",
      "Row(gene_id=8, drug_id=102, prediction=0.2788161635398865)\n",
      "Row(gene_id=8, drug_id=361, prediction=nan)\n",
      "Row(gene_id=8, drug_id=589, prediction=nan)\n",
      "Row(gene_id=8, drug_id=814, prediction=nan)\n",
      "Row(gene_id=8, drug_id=848, prediction=0.2679906189441681)\n",
      "Row(gene_id=8, drug_id=1007, prediction=0.2591835856437683)\n",
      "Row(gene_id=8, drug_id=1098, prediction=0.24995334446430206)\n",
      "Row(gene_id=8, drug_id=658, prediction=0.6527770161628723)\n",
      "Row(gene_id=8, drug_id=50, prediction=0.3563165068626404)\n",
      "Row(gene_id=8, drug_id=518, prediction=0.5317464470863342)\n",
      "Row(gene_id=8, drug_id=750, prediction=0.6943289041519165)\n",
      "Row(gene_id=8, drug_id=771, prediction=0.3233928978443146)\n",
      "Row(gene_id=8, drug_id=951, prediction=0.2264883667230606)\n",
      "Row(gene_id=8, drug_id=1214, prediction=0.49259769916534424)\n",
      "Row(gene_id=8, drug_id=267, prediction=nan)\n",
      "Row(gene_id=8, drug_id=293, prediction=0.2748846709728241)\n",
      "Row(gene_id=8, drug_id=404, prediction=nan)\n",
      "Row(gene_id=8, drug_id=527, prediction=0.429778516292572)\n",
      "Row(gene_id=8, drug_id=817, prediction=0.3819900155067444)\n",
      "Row(gene_id=8, drug_id=1102, prediction=0.11227216571569443)\n",
      "Row(gene_id=8, drug_id=45, prediction=nan)\n",
      "Row(gene_id=8, drug_id=569, prediction=0.34998995065689087)\n",
      "Row(gene_id=8, drug_id=769, prediction=0.48037949204444885)\n",
      "Row(gene_id=8, drug_id=793, prediction=0.45944133400917053)\n",
      "Row(gene_id=8, drug_id=938, prediction=nan)\n",
      "Row(gene_id=8, drug_id=977, prediction=0.618168830871582)\n",
      "Row(gene_id=8, drug_id=1333, prediction=0.30976957082748413)\n",
      "Row(gene_id=8, drug_id=216, prediction=0.7002573609352112)\n",
      "Row(gene_id=8, drug_id=759, prediction=0.4313291311264038)\n",
      "Row(gene_id=8, drug_id=812, prediction=nan)\n",
      "Row(gene_id=8, drug_id=952, prediction=nan)\n",
      "Row(gene_id=8, drug_id=1039, prediction=0.5577523708343506)\n",
      "Row(gene_id=8, drug_id=1110, prediction=nan)\n",
      "Row(gene_id=8, drug_id=1320, prediction=nan)\n",
      "Row(gene_id=8, drug_id=38, prediction=nan)\n",
      "Row(gene_id=8, drug_id=261, prediction=0.5445936918258667)\n",
      "Row(gene_id=8, drug_id=320, prediction=nan)\n",
      "Row(gene_id=8, drug_id=418, prediction=0.7224952578544617)\n",
      "Row(gene_id=8, drug_id=946, prediction=0.26831066608428955)\n",
      "Row(gene_id=8, drug_id=1325, prediction=0.13941502571105957)\n",
      "Row(gene_id=8, drug_id=82, prediction=nan)\n",
      "Row(gene_id=8, drug_id=181, prediction=nan)\n",
      "Row(gene_id=8, drug_id=249, prediction=0.4238325357437134)\n",
      "Row(gene_id=8, drug_id=364, prediction=nan)\n",
      "Row(gene_id=8, drug_id=510, prediction=0.5071930289268494)\n",
      "Row(gene_id=8, drug_id=167, prediction=0.349832147359848)\n",
      "Row(gene_id=8, drug_id=288, prediction=nan)\n",
      "Row(gene_id=8, drug_id=394, prediction=nan)\n",
      "Row(gene_id=8, drug_id=576, prediction=nan)\n",
      "Row(gene_id=8, drug_id=703, prediction=0.13941502571105957)\n",
      "Row(gene_id=8, drug_id=945, prediction=0.5365861654281616)\n",
      "Row(gene_id=8, drug_id=1049, prediction=0.4459081292152405)\n",
      "Row(gene_id=8, drug_id=80, prediction=nan)\n",
      "Row(gene_id=8, drug_id=240, prediction=0.40194404125213623)\n",
      "Row(gene_id=8, drug_id=289, prediction=nan)\n",
      "Row(gene_id=8, drug_id=356, prediction=0.5354998707771301)\n",
      "Row(gene_id=8, drug_id=889, prediction=nan)\n",
      "Row(gene_id=8, drug_id=25, prediction=nan)\n",
      "Row(gene_id=8, drug_id=73, prediction=nan)\n",
      "Row(gene_id=8, drug_id=245, prediction=nan)\n",
      "Row(gene_id=8, drug_id=427, prediction=0.2556706368923187)\n",
      "Row(gene_id=8, drug_id=591, prediction=nan)\n",
      "Row(gene_id=8, drug_id=763, prediction=nan)\n",
      "Row(gene_id=8, drug_id=816, prediction=nan)\n",
      "Row(gene_id=8, drug_id=1147, prediction=0.36344993114471436)\n",
      "Row(gene_id=8, drug_id=113, prediction=nan)\n",
      "Row(gene_id=8, drug_id=237, prediction=0.5302792191505432)\n",
      "Row(gene_id=8, drug_id=895, prediction=nan)\n",
      "Row(gene_id=8, drug_id=1126, prediction=nan)\n",
      "Row(gene_id=8, drug_id=645, prediction=nan)\n",
      "Row(gene_id=8, drug_id=795, prediction=nan)\n",
      "Row(gene_id=8, drug_id=1213, prediction=nan)\n",
      "Row(gene_id=8, drug_id=24, prediction=nan)\n",
      "Row(gene_id=8, drug_id=160, prediction=0.32471978664398193)\n",
      "Row(gene_id=8, drug_id=818, prediction=0.7820080518722534)\n",
      "Row(gene_id=8, drug_id=893, prediction=0.4262654483318329)\n",
      "Row(gene_id=8, drug_id=1071, prediction=0.32980483770370483)\n",
      "Row(gene_id=8, drug_id=1078, prediction=0.4134673476219177)\n",
      "Row(gene_id=8, drug_id=1103, prediction=0.32785022258758545)\n",
      "Row(gene_id=8, drug_id=70, prediction=nan)\n",
      "Row(gene_id=8, drug_id=408, prediction=nan)\n",
      "Row(gene_id=8, drug_id=921, prediction=0.17231924831867218)\n",
      "Row(gene_id=8, drug_id=1003, prediction=0.5542332530021667)\n",
      "Row(gene_id=8, drug_id=62, prediction=nan)\n",
      "Row(gene_id=8, drug_id=121, prediction=0.15712618827819824)\n",
      "Row(gene_id=8, drug_id=125, prediction=0.4197764992713928)\n",
      "Row(gene_id=8, drug_id=396, prediction=nan)\n",
      "Row(gene_id=8, drug_id=730, prediction=0.3681322932243347)\n",
      "Row(gene_id=8, drug_id=156, prediction=nan)\n",
      "Row(gene_id=8, drug_id=351, prediction=nan)\n",
      "Row(gene_id=8, drug_id=480, prediction=nan)\n",
      "Row(gene_id=8, drug_id=143, prediction=nan)\n",
      "Row(gene_id=8, drug_id=219, prediction=nan)\n",
      "Row(gene_id=8, drug_id=697, prediction=nan)\n",
      "Row(gene_id=8, drug_id=967, prediction=0.2241331934928894)\n",
      "Row(gene_id=8, drug_id=1083, prediction=0.2209675908088684)\n",
      "Row(gene_id=8, drug_id=1099, prediction=nan)\n",
      "Row(gene_id=8, drug_id=1336, prediction=nan)\n",
      "Row(gene_id=8, drug_id=95, prediction=nan)\n",
      "Row(gene_id=8, drug_id=411, prediction=nan)\n",
      "Row(gene_id=8, drug_id=477, prediction=0.5641244649887085)\n",
      "Row(gene_id=8, drug_id=482, prediction=nan)\n",
      "Row(gene_id=8, drug_id=740, prediction=nan)\n",
      "Row(gene_id=8, drug_id=968, prediction=0.3634122312068939)\n",
      "Row(gene_id=8, drug_id=29, prediction=nan)\n",
      "Row(gene_id=8, drug_id=226, prediction=nan)\n",
      "Row(gene_id=8, drug_id=390, prediction=nan)\n",
      "Row(gene_id=8, drug_id=651, prediction=nan)\n",
      "Row(gene_id=8, drug_id=741, prediction=0.7915662527084351)\n",
      "Row(gene_id=8, drug_id=789, prediction=nan)\n",
      "Row(gene_id=8, drug_id=1038, prediction=nan)\n",
      "Row(gene_id=8, drug_id=464, prediction=0.5537335276603699)\n",
      "Row(gene_id=8, drug_id=526, prediction=nan)\n",
      "Row(gene_id=8, drug_id=528, prediction=0.4128958284854889)\n",
      "Row(gene_id=8, drug_id=558, prediction=0.22319555282592773)\n",
      "Row(gene_id=8, drug_id=1221, prediction=nan)\n",
      "Row(gene_id=8, drug_id=1289, prediction=0.33350804448127747)\n",
      "Row(gene_id=8, drug_id=21, prediction=nan)\n",
      "Row(gene_id=8, drug_id=214, prediction=nan)\n",
      "Row(gene_id=8, drug_id=653, prediction=nan)\n",
      "Row(gene_id=8, drug_id=710, prediction=0.39974746108055115)\n",
      "Row(gene_id=8, drug_id=1177, prediction=nan)\n",
      "Row(gene_id=8, drug_id=323, prediction=0.3660261034965515)\n",
      "Row(gene_id=8, drug_id=550, prediction=nan)\n",
      "Row(gene_id=8, drug_id=1079, prediction=nan)\n",
      "Row(gene_id=8, drug_id=1153, prediction=nan)\n",
      "Row(gene_id=8, drug_id=1283, prediction=nan)\n",
      "Row(gene_id=8, drug_id=1327, prediction=0.4813375771045685)\n",
      "Row(gene_id=8, drug_id=335, prediction=nan)\n",
      "Row(gene_id=8, drug_id=338, prediction=0.3843204081058502)\n",
      "Row(gene_id=8, drug_id=352, prediction=0.46746277809143066)\n",
      "Row(gene_id=8, drug_id=492, prediction=0.3728477358818054)\n",
      "Row(gene_id=8, drug_id=798, prediction=0.3862563669681549)\n",
      "Row(gene_id=8, drug_id=866, prediction=nan)\n",
      "Row(gene_id=8, drug_id=941, prediction=nan)\n",
      "Row(gene_id=8, drug_id=1179, prediction=0.4793134033679962)\n",
      "Row(gene_id=8, drug_id=1239, prediction=nan)\n",
      "Row(gene_id=8, drug_id=1337, prediction=0.33616408705711365)\n",
      "Row(gene_id=8, drug_id=98, prediction=nan)\n",
      "Row(gene_id=8, drug_id=195, prediction=0.5877442955970764)\n",
      "Row(gene_id=8, drug_id=256, prediction=0.6010664105415344)\n",
      "Row(gene_id=8, drug_id=678, prediction=0.7781918048858643)\n",
      "Row(gene_id=8, drug_id=714, prediction=0.42483559250831604)\n",
      "Row(gene_id=8, drug_id=911, prediction=nan)\n",
      "Row(gene_id=8, drug_id=933, prediction=0.19039690494537354)\n",
      "Row(gene_id=8, drug_id=1042, prediction=nan)\n",
      "Row(gene_id=8, drug_id=1131, prediction=nan)\n",
      "Row(gene_id=8, drug_id=1140, prediction=0.33282575011253357)\n",
      "Row(gene_id=8, drug_id=1185, prediction=0.7839577198028564)\n",
      "Row(gene_id=8, drug_id=1257, prediction=0.8674606680870056)\n",
      "Row(gene_id=8, drug_id=1308, prediction=0.6914821267127991)\n",
      "Row(gene_id=8, drug_id=287, prediction=nan)\n",
      "Row(gene_id=8, drug_id=345, prediction=nan)\n",
      "Row(gene_id=8, drug_id=490, prediction=nan)\n",
      "Row(gene_id=8, drug_id=595, prediction=0.43337833881378174)\n",
      "Row(gene_id=8, drug_id=1168, prediction=0.7117268443107605)\n",
      "Row(gene_id=8, drug_id=1188, prediction=nan)\n",
      "Row(gene_id=8, drug_id=752, prediction=nan)\n",
      "Row(gene_id=8, drug_id=767, prediction=0.6991947889328003)\n",
      "Row(gene_id=8, drug_id=790, prediction=nan)\n",
      "Row(gene_id=8, drug_id=828, prediction=0.34864792227745056)\n",
      "Row(gene_id=8, drug_id=1173, prediction=nan)\n",
      "Row(gene_id=8, drug_id=809, prediction=0.34184733033180237)\n",
      "Row(gene_id=8, drug_id=863, prediction=0.2689416706562042)\n",
      "Row(gene_id=8, drug_id=990, prediction=nan)\n",
      "Row(gene_id=8, drug_id=1053, prediction=nan)\n",
      "Row(gene_id=8, drug_id=1150, prediction=0.30821388959884644)\n",
      "Row(gene_id=8, drug_id=1203, prediction=nan)\n",
      "Row(gene_id=8, drug_id=1284, prediction=nan)\n",
      "Row(gene_id=8, drug_id=1319, prediction=0.41036802530288696)\n",
      "Row(gene_id=8, drug_id=32, prediction=nan)\n",
      "Row(gene_id=8, drug_id=60, prediction=nan)\n",
      "Row(gene_id=8, drug_id=90, prediction=0.25796326994895935)\n",
      "Row(gene_id=8, drug_id=371, prediction=0.7744780778884888)\n",
      "Row(gene_id=8, drug_id=622, prediction=1.050873041152954)\n",
      "Row(gene_id=8, drug_id=1014, prediction=nan)\n",
      "Row(gene_id=8, drug_id=1115, prediction=0.6842772364616394)\n",
      "Row(gene_id=8, drug_id=75, prediction=nan)\n",
      "Row(gene_id=8, drug_id=382, prediction=0.37608447670936584)\n",
      "Row(gene_id=8, drug_id=469, prediction=nan)\n",
      "Row(gene_id=8, drug_id=621, prediction=nan)\n",
      "Row(gene_id=8, drug_id=630, prediction=nan)\n",
      "Row(gene_id=8, drug_id=786, prediction=nan)\n",
      "Row(gene_id=8, drug_id=1027, prediction=nan)\n",
      "Row(gene_id=8, drug_id=1282, prediction=0.20162096619606018)\n",
      "Row(gene_id=8, drug_id=203, prediction=nan)\n",
      "Row(gene_id=8, drug_id=221, prediction=nan)\n",
      "Row(gene_id=8, drug_id=265, prediction=nan)\n",
      "Row(gene_id=8, drug_id=457, prediction=0.5796197652816772)\n",
      "Row(gene_id=8, drug_id=640, prediction=nan)\n",
      "Row(gene_id=8, drug_id=662, prediction=0.4144979417324066)\n",
      "Row(gene_id=8, drug_id=782, prediction=nan)\n",
      "Row(gene_id=8, drug_id=835, prediction=nan)\n",
      "Row(gene_id=8, drug_id=1237, prediction=nan)\n",
      "Row(gene_id=8, drug_id=141, prediction=nan)\n",
      "Row(gene_id=8, drug_id=151, prediction=0.4005405604839325)\n",
      "Row(gene_id=8, drug_id=341, prediction=nan)\n",
      "Row(gene_id=8, drug_id=414, prediction=nan)\n",
      "Row(gene_id=8, drug_id=433, prediction=0.2651601731777191)\n",
      "Row(gene_id=8, drug_id=608, prediction=0.6920675039291382)\n",
      "Row(gene_id=8, drug_id=712, prediction=nan)\n",
      "Row(gene_id=8, drug_id=724, prediction=nan)\n",
      "Row(gene_id=8, drug_id=859, prediction=nan)\n",
      "Row(gene_id=8, drug_id=899, prediction=0.5106214880943298)\n",
      "Row(gene_id=8, drug_id=334, prediction=0.13142168521881104)\n",
      "Row(gene_id=8, drug_id=592, prediction=0.6370235681533813)\n",
      "Row(gene_id=8, drug_id=751, prediction=nan)\n",
      "Row(gene_id=8, drug_id=801, prediction=nan)\n",
      "Row(gene_id=8, drug_id=943, prediction=nan)\n",
      "Row(gene_id=8, drug_id=953, prediction=0.13941502571105957)\n",
      "Row(gene_id=8, drug_id=978, prediction=nan)\n",
      "Row(gene_id=8, drug_id=1023, prediction=0.5069966316223145)\n",
      "Row(gene_id=8, drug_id=1043, prediction=nan)\n",
      "Row(gene_id=8, drug_id=145, prediction=nan)\n",
      "Row(gene_id=8, drug_id=200, prediction=nan)\n",
      "Row(gene_id=8, drug_id=272, prediction=0.13941502571105957)\n",
      "Row(gene_id=8, drug_id=376, prediction=nan)\n",
      "Row(gene_id=8, drug_id=488, prediction=0.3112213611602783)\n",
      "Row(gene_id=8, drug_id=515, prediction=nan)\n",
      "Row(gene_id=8, drug_id=680, prediction=0.3921734690666199)\n",
      "Row(gene_id=8, drug_id=735, prediction=0.48167526721954346)\n",
      "Row(gene_id=8, drug_id=56, prediction=nan)\n",
      "Row(gene_id=8, drug_id=109, prediction=nan)\n",
      "Row(gene_id=8, drug_id=254, prediction=nan)\n",
      "Row(gene_id=8, drug_id=378, prediction=nan)\n",
      "Row(gene_id=8, drug_id=487, prediction=0.42587512731552124)\n",
      "Row(gene_id=8, drug_id=639, prediction=0.45351681113243103)\n",
      "Row(gene_id=8, drug_id=940, prediction=nan)\n",
      "Row(gene_id=8, drug_id=1040, prediction=nan)\n",
      "Row(gene_id=8, drug_id=213, prediction=0.945000171661377)\n",
      "Row(gene_id=8, drug_id=228, prediction=0.23536592721939087)\n",
      "Row(gene_id=8, drug_id=478, prediction=nan)\n",
      "Row(gene_id=8, drug_id=534, prediction=0.202701598405838)\n",
      "Row(gene_id=8, drug_id=655, prediction=nan)\n",
      "Row(gene_id=8, drug_id=997, prediction=nan)\n",
      "Row(gene_id=8, drug_id=1149, prediction=0.45679163932800293)\n",
      "Row(gene_id=8, drug_id=303, prediction=nan)\n",
      "Row(gene_id=8, drug_id=426, prediction=nan)\n",
      "Row(gene_id=8, drug_id=574, prediction=0.4592788815498352)\n",
      "Row(gene_id=8, drug_id=718, prediction=0.15136955678462982)\n",
      "Row(gene_id=8, drug_id=749, prediction=nan)\n",
      "Row(gene_id=8, drug_id=1105, prediction=0.4017142355442047)\n",
      "Row(gene_id=8, drug_id=1120, prediction=0.43362167477607727)\n",
      "Row(gene_id=8, drug_id=1281, prediction=nan)\n",
      "Row(gene_id=8, drug_id=170, prediction=0.26865407824516296)\n",
      "Row(gene_id=8, drug_id=354, prediction=0.7538834810256958)\n",
      "Row(gene_id=8, drug_id=702, prediction=nan)\n",
      "Row(gene_id=8, drug_id=708, prediction=nan)\n",
      "Row(gene_id=8, drug_id=807, prediction=nan)\n",
      "Row(gene_id=8, drug_id=1162, prediction=nan)\n",
      "Row(gene_id=8, drug_id=1196, prediction=nan)\n",
      "Row(gene_id=8, drug_id=1268, prediction=nan)\n",
      "Row(gene_id=8, drug_id=304, prediction=nan)\n",
      "Row(gene_id=8, drug_id=536, prediction=0.2790765166282654)\n",
      "Row(gene_id=8, drug_id=611, prediction=0.5400028228759766)\n",
      "Row(gene_id=8, drug_id=612, prediction=0.4469623267650604)\n",
      "Row(gene_id=8, drug_id=668, prediction=0.508421003818512)\n",
      "Row(gene_id=8, drug_id=783, prediction=nan)\n",
      "Row(gene_id=8, drug_id=105, prediction=0.20067009329795837)\n",
      "Row(gene_id=8, drug_id=298, prediction=0.4428149163722992)\n",
      "Row(gene_id=8, drug_id=370, prediction=nan)\n",
      "Row(gene_id=8, drug_id=753, prediction=nan)\n",
      "Row(gene_id=8, drug_id=865, prediction=nan)\n",
      "Row(gene_id=8, drug_id=913, prediction=nan)\n",
      "Row(gene_id=8, drug_id=58, prediction=0.2382616102695465)\n",
      "Row(gene_id=8, drug_id=188, prediction=0.6656387448310852)\n",
      "Row(gene_id=8, drug_id=726, prediction=nan)\n",
      "Row(gene_id=8, drug_id=837, prediction=nan)\n",
      "Row(gene_id=8, drug_id=11, prediction=0.4721193313598633)\n",
      "Row(gene_id=8, drug_id=33, prediction=nan)\n",
      "Row(gene_id=8, drug_id=204, prediction=0.5059745907783508)\n",
      "Row(gene_id=8, drug_id=421, prediction=nan)\n",
      "Row(gene_id=8, drug_id=575, prediction=nan)\n",
      "Row(gene_id=8, drug_id=781, prediction=nan)\n",
      "Row(gene_id=8, drug_id=872, prediction=nan)\n",
      "Row(gene_id=8, drug_id=888, prediction=0.5408685207366943)\n",
      "Row(gene_id=8, drug_id=1024, prediction=nan)\n",
      "Row(gene_id=8, drug_id=1152, prediction=0.34818121790885925)\n",
      "Row(gene_id=8, drug_id=83, prediction=nan)\n",
      "Row(gene_id=8, drug_id=110, prediction=0.5318810939788818)\n",
      "Row(gene_id=8, drug_id=150, prediction=0.2308482974767685)\n",
      "Row(gene_id=8, drug_id=369, prediction=0.5109335780143738)\n",
      "Row(gene_id=8, drug_id=413, prediction=nan)\n",
      "Row(gene_id=8, drug_id=508, prediction=nan)\n",
      "Row(gene_id=8, drug_id=541, prediction=nan)\n",
      "Row(gene_id=8, drug_id=825, prediction=0.4022904634475708)\n",
      "Row(gene_id=8, drug_id=1033, prediction=0.2209675908088684)\n",
      "Row(gene_id=8, drug_id=1129, prediction=0.4338516294956207)\n",
      "Row(gene_id=8, drug_id=68, prediction=nan)\n",
      "Row(gene_id=8, drug_id=71, prediction=nan)\n",
      "Row(gene_id=8, drug_id=106, prediction=0.4902907609939575)\n",
      "Row(gene_id=8, drug_id=260, prediction=nan)\n",
      "Row(gene_id=8, drug_id=567, prediction=nan)\n",
      "Row(gene_id=8, drug_id=525, prediction=nan)\n",
      "Row(gene_id=8, drug_id=561, prediction=0.2659669518470764)\n",
      "Row(gene_id=8, drug_id=1241, prediction=0.19949498772621155)\n",
      "Row(gene_id=8, drug_id=116, prediction=nan)\n",
      "Row(gene_id=8, drug_id=147, prediction=nan)\n",
      "Row(gene_id=8, drug_id=910, prediction=nan)\n",
      "Row(gene_id=8, drug_id=1080, prediction=0.8567675352096558)\n",
      "Row(gene_id=8, drug_id=1224, prediction=0.27888473868370056)\n",
      "Row(gene_id=8, drug_id=14, prediction=0.15136955678462982)\n",
      "Row(gene_id=8, drug_id=198, prediction=nan)\n",
      "Row(gene_id=8, drug_id=317, prediction=nan)\n",
      "Row(gene_id=8, drug_id=546, prediction=0.2731068730354309)\n",
      "Row(gene_id=8, drug_id=600, prediction=nan)\n",
      "Row(gene_id=8, drug_id=638, prediction=0.4595726728439331)\n",
      "Row(gene_id=8, drug_id=805, prediction=0.32293859124183655)\n",
      "Row(gene_id=8, drug_id=1228, prediction=nan)\n",
      "Row(gene_id=8, drug_id=344, prediction=nan)\n",
      "Row(gene_id=8, drug_id=349, prediction=nan)\n",
      "Row(gene_id=8, drug_id=424, prediction=0.3190813958644867)\n",
      "Row(gene_id=8, drug_id=657, prediction=0.45438361167907715)\n",
      "Row(gene_id=8, drug_id=975, prediction=0.22261661291122437)\n",
      "Row(gene_id=8, drug_id=1184, prediction=nan)\n",
      "Row(gene_id=8, drug_id=1285, prediction=nan)\n",
      "Row(gene_id=8, drug_id=123, prediction=nan)\n",
      "Row(gene_id=8, drug_id=342, prediction=0.4041678309440613)\n",
      "Row(gene_id=8, drug_id=373, prediction=0.6628913283348083)\n",
      "Row(gene_id=8, drug_id=379, prediction=nan)\n",
      "Row(gene_id=8, drug_id=454, prediction=nan)\n",
      "Row(gene_id=8, drug_id=832, prediction=0.43119099736213684)\n",
      "Row(gene_id=8, drug_id=965, prediction=0.3337998688220978)\n",
      "Row(gene_id=8, drug_id=971, prediction=nan)\n",
      "Row(gene_id=8, drug_id=1018, prediction=0.1802651286125183)\n",
      "Row(gene_id=8, drug_id=1264, prediction=0.2002752423286438)\n",
      "Row(gene_id=8, drug_id=158, prediction=0.11293046176433563)\n",
      "Row(gene_id=8, drug_id=199, prediction=nan)\n",
      "Row(gene_id=8, drug_id=242, prediction=nan)\n",
      "Row(gene_id=8, drug_id=270, prediction=0.5365233421325684)\n",
      "Row(gene_id=8, drug_id=284, prediction=0.300636351108551)\n",
      "Row(gene_id=8, drug_id=690, prediction=nan)\n",
      "Row(gene_id=8, drug_id=1086, prediction=0.2748846709728241)\n",
      "Row(gene_id=8, drug_id=135, prediction=nan)\n",
      "Row(gene_id=8, drug_id=248, prediction=0.4441177546977997)\n",
      "Row(gene_id=8, drug_id=499, prediction=nan)\n",
      "Row(gene_id=8, drug_id=522, prediction=nan)\n",
      "Row(gene_id=8, drug_id=902, prediction=0.5027296543121338)\n",
      "Row(gene_id=8, drug_id=1095, prediction=nan)\n",
      "Row(gene_id=8, drug_id=1106, prediction=0.47554320096969604)\n",
      "Row(gene_id=8, drug_id=42, prediction=nan)\n",
      "Row(gene_id=8, drug_id=119, prediction=nan)\n",
      "Row(gene_id=8, drug_id=337, prediction=nan)\n",
      "Row(gene_id=8, drug_id=466, prediction=nan)\n",
      "Row(gene_id=8, drug_id=506, prediction=0.48793846368789673)\n",
      "Row(gene_id=8, drug_id=566, prediction=0.5121292471885681)\n",
      "Row(gene_id=8, drug_id=909, prediction=0.6091180443763733)\n",
      "Row(gene_id=8, drug_id=1141, prediction=nan)\n",
      "Row(gene_id=8, drug_id=1312, prediction=0.7102001905441284)\n",
      "Row(gene_id=8, drug_id=2, prediction=0.3468378782272339)\n",
      "Row(gene_id=8, drug_id=79, prediction=nan)\n",
      "Row(gene_id=8, drug_id=201, prediction=0.3850475549697876)\n",
      "Row(gene_id=8, drug_id=765, prediction=0.48196500539779663)\n",
      "Row(gene_id=8, drug_id=778, prediction=0.6923794746398926)\n",
      "Row(gene_id=8, drug_id=803, prediction=nan)\n",
      "Row(gene_id=8, drug_id=892, prediction=nan)\n",
      "Row(gene_id=8, drug_id=1262, prediction=0.6749504804611206)\n",
      "Row(gene_id=8, drug_id=1328, prediction=0.6138752698898315)\n",
      "Row(gene_id=8, drug_id=131, prediction=0.1812143623828888)\n",
      "Row(gene_id=8, drug_id=149, prediction=nan)\n",
      "Row(gene_id=8, drug_id=276, prediction=0.6406610012054443)\n",
      "Row(gene_id=8, drug_id=962, prediction=nan)\n",
      "Row(gene_id=8, drug_id=1070, prediction=nan)\n",
      "Row(gene_id=8, drug_id=365, prediction=0.3591228425502777)\n",
      "Row(gene_id=8, drug_id=773, prediction=nan)\n",
      "Row(gene_id=8, drug_id=820, prediction=0.4589816629886627)\n",
      "Row(gene_id=8, drug_id=999, prediction=0.32088056206703186)\n",
      "Row(gene_id=8, drug_id=1092, prediction=0.6130403280258179)\n",
      "Row(gene_id=8, drug_id=1316, prediction=0.6153326034545898)\n",
      "Row(gene_id=8, drug_id=294, prediction=nan)\n",
      "Row(gene_id=8, drug_id=357, prediction=0.6739115118980408)\n",
      "Row(gene_id=8, drug_id=529, prediction=0.7998567819595337)\n",
      "Row(gene_id=8, drug_id=905, prediction=nan)\n",
      "Row(gene_id=8, drug_id=1004, prediction=0.49622079730033875)\n",
      "Row(gene_id=8, drug_id=1187, prediction=0.507448136806488)\n",
      "Row(gene_id=8, drug_id=118, prediction=nan)\n",
      "Row(gene_id=8, drug_id=573, prediction=nan)\n",
      "Row(gene_id=8, drug_id=722, prediction=0.30284425616264343)\n",
      "Row(gene_id=8, drug_id=1112, prediction=nan)\n",
      "Row(gene_id=8, drug_id=124, prediction=nan)\n",
      "Row(gene_id=8, drug_id=281, prediction=0.21857953071594238)\n",
      "Row(gene_id=8, drug_id=571, prediction=nan)\n",
      "Row(gene_id=8, drug_id=1011, prediction=nan)\n",
      "Row(gene_id=8, drug_id=1193, prediction=0.1745924949645996)\n",
      "Row(gene_id=8, drug_id=30, prediction=0.5764554142951965)\n",
      "Row(gene_id=8, drug_id=99, prediction=nan)\n",
      "Row(gene_id=8, drug_id=942, prediction=nan)\n",
      "Row(gene_id=8, drug_id=985, prediction=0.26627296209335327)\n",
      "Row(gene_id=8, drug_id=184, prediction=0.2626829743385315)\n",
      "Row(gene_id=8, drug_id=302, prediction=0.2593550980091095)\n",
      "Row(gene_id=8, drug_id=313, prediction=0.6613695025444031)\n",
      "Row(gene_id=8, drug_id=652, prediction=0.6744113564491272)\n",
      "Row(gene_id=8, drug_id=815, prediction=nan)\n",
      "Row(gene_id=8, drug_id=901, prediction=0.43337535858154297)\n",
      "Row(gene_id=8, drug_id=1090, prediction=nan)\n",
      "Row(gene_id=8, drug_id=1202, prediction=0.5541648864746094)\n",
      "Row(gene_id=8, drug_id=66, prediction=nan)\n",
      "Row(gene_id=8, drug_id=405, prediction=0.9255328178405762)\n",
      "Row(gene_id=8, drug_id=557, prediction=nan)\n",
      "Row(gene_id=8, drug_id=682, prediction=0.6709820032119751)\n",
      "Row(gene_id=8, drug_id=700, prediction=nan)\n",
      "Row(gene_id=8, drug_id=915, prediction=0.2174445390701294)\n",
      "Row(gene_id=8, drug_id=1012, prediction=0.630324125289917)\n",
      "Row(gene_id=8, drug_id=46, prediction=0.5888300538063049)\n",
      "Row(gene_id=8, drug_id=67, prediction=0.42236435413360596)\n",
      "Row(gene_id=8, drug_id=186, prediction=0.437608927488327)\n",
      "Row(gene_id=8, drug_id=275, prediction=nan)\n",
      "Row(gene_id=8, drug_id=282, prediction=0.5084320902824402)\n",
      "Row(gene_id=8, drug_id=605, prediction=nan)\n",
      "Row(gene_id=8, drug_id=802, prediction=nan)\n",
      "Row(gene_id=8, drug_id=1101, prediction=0.6022265553474426)\n",
      "Row(gene_id=8, drug_id=311, prediction=nan)\n",
      "Row(gene_id=8, drug_id=535, prediction=0.3676512837409973)\n",
      "Row(gene_id=8, drug_id=873, prediction=0.6076179146766663)\n",
      "Row(gene_id=8, drug_id=894, prediction=nan)\n",
      "Row(gene_id=8, drug_id=616, prediction=0.4488268494606018)\n",
      "Row(gene_id=8, drug_id=628, prediction=nan)\n",
      "Row(gene_id=8, drug_id=632, prediction=nan)\n",
      "Row(gene_id=8, drug_id=681, prediction=0.5330074429512024)\n",
      "Row(gene_id=8, drug_id=964, prediction=0.39987677335739136)\n",
      "Row(gene_id=8, drug_id=174, prediction=0.45684781670570374)\n",
      "Row(gene_id=8, drug_id=215, prediction=0.6518368721008301)\n",
      "Row(gene_id=8, drug_id=410, prediction=nan)\n",
      "Row(gene_id=8, drug_id=996, prediction=0.6586227416992188)\n",
      "Row(gene_id=8, drug_id=1178, prediction=nan)\n",
      "Row(gene_id=8, drug_id=1309, prediction=0.6053708791732788)\n",
      "Row(gene_id=8, drug_id=1338, prediction=nan)\n",
      "Row(gene_id=8, drug_id=172, prediction=nan)\n",
      "Row(gene_id=8, drug_id=562, prediction=nan)\n",
      "Row(gene_id=8, drug_id=716, prediction=0.5029643177986145)\n",
      "Row(gene_id=8, drug_id=864, prediction=nan)\n",
      "Row(gene_id=8, drug_id=1054, prediction=nan)\n",
      "Row(gene_id=8, drug_id=252, prediction=0.34212708473205566)\n",
      "Row(gene_id=8, drug_id=399, prediction=0.5595804452896118)\n",
      "Row(gene_id=8, drug_id=551, prediction=0.5708574056625366)\n",
      "Row(gene_id=8, drug_id=1063, prediction=nan)\n",
      "Row(gene_id=8, drug_id=1067, prediction=nan)\n",
      "Row(gene_id=8, drug_id=144, prediction=nan)\n",
      "Row(gene_id=8, drug_id=153, prediction=nan)\n",
      "Row(gene_id=8, drug_id=420, prediction=0.4463791251182556)\n",
      "Row(gene_id=8, drug_id=705, prediction=0.34547674655914307)\n",
      "Row(gene_id=8, drug_id=785, prediction=0.3500305414199829)\n",
      "Row(gene_id=8, drug_id=851, prediction=0.5597802996635437)\n",
      "Row(gene_id=8, drug_id=1013, prediction=0.190419539809227)\n",
      "Row(gene_id=8, drug_id=1109, prediction=nan)\n",
      "Row(gene_id=8, drug_id=1278, prediction=nan)\n",
      "Row(gene_id=8, drug_id=0, prediction=nan)\n",
      "Row(gene_id=8, drug_id=670, prediction=nan)\n",
      "Row(gene_id=8, drug_id=745, prediction=0.21955730020999908)\n",
      "Row(gene_id=8, drug_id=927, prediction=nan)\n",
      "Row(gene_id=8, drug_id=949, prediction=0.27671322226524353)\n",
      "Row(gene_id=8, drug_id=1174, prediction=nan)\n",
      "Row(gene_id=8, drug_id=18, prediction=nan)\n",
      "Row(gene_id=8, drug_id=475, prediction=0.7385262250900269)\n",
      "Row(gene_id=8, drug_id=947, prediction=nan)\n",
      "Row(gene_id=8, drug_id=1044, prediction=nan)\n",
      "Row(gene_id=8, drug_id=1246, prediction=nan)\n",
      "Row(gene_id=8, drug_id=1292, prediction=0.25776371359825134)\n",
      "Row(gene_id=8, drug_id=74, prediction=0.15136955678462982)\n",
      "Row(gene_id=8, drug_id=138, prediction=nan)\n",
      "Row(gene_id=8, drug_id=755, prediction=nan)\n",
      "Row(gene_id=8, drug_id=934, prediction=0.26922541856765747)\n",
      "Row(gene_id=8, drug_id=1097, prediction=nan)\n",
      "Row(gene_id=8, drug_id=1117, prediction=nan)\n",
      "Row(gene_id=8, drug_id=1204, prediction=0.11015559732913971)\n",
      "Row(gene_id=8, drug_id=1258, prediction=nan)\n",
      "Row(gene_id=8, drug_id=104, prediction=nan)\n",
      "Row(gene_id=8, drug_id=180, prediction=nan)\n",
      "Row(gene_id=8, drug_id=468, prediction=0.28835031390190125)\n",
      "Row(gene_id=8, drug_id=483, prediction=nan)\n",
      "Row(gene_id=8, drug_id=643, prediction=nan)\n",
      "Row(gene_id=8, drug_id=656, prediction=nan)\n",
      "Row(gene_id=8, drug_id=917, prediction=0.2254185527563095)\n",
      "Row(gene_id=8, drug_id=932, prediction=0.5117601752281189)\n",
      "Row(gene_id=8, drug_id=134, prediction=nan)\n",
      "Row(gene_id=8, drug_id=584, prediction=nan)\n",
      "Row(gene_id=8, drug_id=841, prediction=0.46293431520462036)\n",
      "Row(gene_id=8, drug_id=878, prediction=0.47691094875335693)\n",
      "Row(gene_id=8, drug_id=991, prediction=nan)\n",
      "Row(gene_id=8, drug_id=407, prediction=nan)\n",
      "Row(gene_id=8, drug_id=521, prediction=0.41768187284469604)\n",
      "Row(gene_id=8, drug_id=788, prediction=nan)\n",
      "Row(gene_id=8, drug_id=617, prediction=0.618391215801239)\n",
      "Row(gene_id=8, drug_id=701, prediction=nan)\n",
      "Row(gene_id=8, drug_id=963, prediction=nan)\n",
      "Row(gene_id=8, drug_id=1009, prediction=0.4787622094154358)\n",
      "Row(gene_id=8, drug_id=1107, prediction=0.36781641840934753)\n",
      "Row(gene_id=8, drug_id=36, prediction=0.4174451231956482)\n",
      "Row(gene_id=8, drug_id=187, prediction=nan)\n",
      "Row(gene_id=8, drug_id=208, prediction=0.4217332899570465)\n",
      "Row(gene_id=8, drug_id=315, prediction=0.42984485626220703)\n",
      "Row(gene_id=8, drug_id=393, prediction=nan)\n",
      "Row(gene_id=8, drug_id=954, prediction=nan)\n",
      "Row(gene_id=8, drug_id=1217, prediction=0.556025505065918)\n",
      "Row(gene_id=8, drug_id=1277, prediction=nan)\n",
      "Row(gene_id=8, drug_id=89, prediction=nan)\n",
      "Row(gene_id=8, drug_id=401, prediction=0.3649407625198364)\n",
      "Row(gene_id=8, drug_id=422, prediction=nan)\n",
      "Row(gene_id=8, drug_id=517, prediction=nan)\n",
      "Row(gene_id=8, drug_id=1138, prediction=0.2971598207950592)\n"
     ]
    }
   ],
   "source": [
    "prediction = resist_NMF_model.transform(spark_test_df)\n",
    "selected = prediction.select(\"gene_id\", \"drug_id\", \"prediction\")\n",
    "for row in selected.collect():\n",
    "    print(row)"
   ]
  },
  {
   "cell_type": "code",
   "execution_count": 251,
   "metadata": {},
   "outputs": [],
   "source": [
    "inverse_network_genes_2 = data_frame_creator.open_pickle('inverse_network_genes_2.pickle')"
   ]
  },
  {
   "cell_type": "code",
   "execution_count": 254,
   "metadata": {
    "collapsed": true
   },
   "outputs": [],
   "source": [
    "inverse_network_drugs_2 = data_frame_creator.open_pickle('inverse_network_drugs_2.pickle')"
   ]
  },
  {
   "cell_type": "code",
   "execution_count": 255,
   "metadata": {},
   "outputs": [
    {
     "data": {
      "text/plain": [
       "'#akt1#'"
      ]
     },
     "execution_count": 255,
     "metadata": {},
     "output_type": "execute_result"
    }
   ],
   "source": [
    "network_genes[8]"
   ]
  },
  {
   "cell_type": "code",
   "execution_count": 256,
   "metadata": {},
   "outputs": [
    {
     "data": {
      "text/plain": [
       "8"
      ]
     },
     "execution_count": 256,
     "metadata": {},
     "output_type": "execute_result"
    }
   ],
   "source": [
    "inverse_network_genes_2['#akt1#']"
   ]
  },
  {
   "cell_type": "code",
   "execution_count": 282,
   "metadata": {},
   "outputs": [
    {
     "ename": "FileNotFoundError",
     "evalue": "[Errno 2] No such file or directory: 'network_drugs.pickle'",
     "output_type": "error",
     "traceback": [
      "\u001b[0;31m---------------------------------------------------------------------------\u001b[0m",
      "\u001b[0;31mFileNotFoundError\u001b[0m                         Traceback (most recent call last)",
      "\u001b[0;32m<ipython-input-282-206dc00c362d>\u001b[0m in \u001b[0;36m<module>\u001b[0;34m()\u001b[0m\n\u001b[1;32m      1\u001b[0m \u001b[0;31m#network_genes_2=data_frame_creator.open_pickle('network_genes.pickle')\u001b[0m\u001b[0;34m\u001b[0m\u001b[0;34m\u001b[0m\u001b[0m\n\u001b[0;32m----> 2\u001b[0;31m \u001b[0mnetwork_drugs_2\u001b[0m \u001b[0;34m=\u001b[0m\u001b[0mdata_frame_creator\u001b[0m\u001b[0;34m.\u001b[0m\u001b[0mopen_pickle\u001b[0m\u001b[0;34m(\u001b[0m\u001b[0;34m'network_drugs.pickle'\u001b[0m\u001b[0;34m)\u001b[0m\u001b[0;34m\u001b[0m\u001b[0m\n\u001b[0m",
      "\u001b[0;32m/Users/ale/Dropbox (Yadlin Family)/galvanize/capstone/data_frame_creator.py\u001b[0m in \u001b[0;36mopen_pickle\u001b[0;34m(filepath)\u001b[0m\n\u001b[1;32m     72\u001b[0m \u001b[0;34m\u001b[0m\u001b[0m\n\u001b[1;32m     73\u001b[0m \u001b[0;32mdef\u001b[0m \u001b[0mopen_pickle\u001b[0m\u001b[0;34m(\u001b[0m\u001b[0mfilepath\u001b[0m\u001b[0;34m)\u001b[0m\u001b[0;34m:\u001b[0m\u001b[0;34m\u001b[0m\u001b[0m\n\u001b[0;32m---> 74\u001b[0;31m     \u001b[0;32mwith\u001b[0m \u001b[0mopen\u001b[0m\u001b[0;34m(\u001b[0m\u001b[0mfilepath\u001b[0m\u001b[0;34m,\u001b[0m \u001b[0;34m'rb'\u001b[0m\u001b[0;34m)\u001b[0m \u001b[0;32mas\u001b[0m \u001b[0mhandle\u001b[0m\u001b[0;34m:\u001b[0m\u001b[0;34m\u001b[0m\u001b[0m\n\u001b[0m\u001b[1;32m     75\u001b[0m         \u001b[0;32mreturn\u001b[0m \u001b[0mpickle\u001b[0m\u001b[0;34m.\u001b[0m\u001b[0mload\u001b[0m\u001b[0;34m(\u001b[0m\u001b[0mhandle\u001b[0m\u001b[0;34m)\u001b[0m\u001b[0;34m\u001b[0m\u001b[0m\n\u001b[1;32m     76\u001b[0m \u001b[0;34m\u001b[0m\u001b[0m\n",
      "\u001b[0;31mFileNotFoundError\u001b[0m: [Errno 2] No such file or directory: 'network_drugs.pickle'"
     ]
    }
   ],
   "source": [
    "#network_genes_2=data_frame_creator.open_pickle('network_genes.pickle')\n",
    "#network_drugs_2 =data_frame_creator.open_pickle('network_drugs.pickle')"
   ]
  },
  {
   "cell_type": "code",
   "execution_count": 273,
   "metadata": {
    "collapsed": true
   },
   "outputs": [],
   "source": [
    "from pyspark.sql.functions import desc"
   ]
  },
  {
   "cell_type": "code",
   "execution_count": 288,
   "metadata": {},
   "outputs": [],
   "source": [
    "top_ten = selected.sort(desc('prediction')).collect()[0:9]"
   ]
  },
  {
   "cell_type": "code",
   "execution_count": 292,
   "metadata": {},
   "outputs": [],
   "source": [
    "drug_lst = []\n",
    "for drug in top_ten:\n",
    "\n",
    "    drug_lst.append(drug[1])"
   ]
  },
  {
   "cell_type": "code",
   "execution_count": 293,
   "metadata": {},
   "outputs": [
    {
     "data": {
      "text/plain": [
       "[148, 463, 471, 1088, 1238, 1342, 243, 392, 540]"
      ]
     },
     "execution_count": 293,
     "metadata": {},
     "output_type": "execute_result"
    }
   ],
   "source": [
    "drug_lst"
   ]
  },
  {
   "cell_type": "code",
   "execution_count": null,
   "metadata": {
    "collapsed": true
   },
   "outputs": [],
   "source": []
  }
 ],
 "metadata": {
  "kernelspec": {
   "display_name": "Python 3",
   "language": "python",
   "name": "python3"
  },
  "language_info": {
   "codemirror_mode": {
    "name": "ipython",
    "version": 3
   },
   "file_extension": ".py",
   "mimetype": "text/x-python",
   "name": "python",
   "nbconvert_exporter": "python",
   "pygments_lexer": "ipython3",
   "version": "3.6.1"
  }
 },
 "nbformat": 4,
 "nbformat_minor": 2
}
