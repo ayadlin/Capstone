{
 "cells": [
  {
   "cell_type": "code",
   "execution_count": 1,
   "metadata": {
    "collapsed": true
   },
   "outputs": [],
   "source": [
    "import tokenizer\n",
    "import pickle\n",
    "import pandas as pd\n",
    "import numpy as np\n",
    "import glob\n",
    "import os\n",
    "import string\n",
    "from nltk.tokenize import sent_tokenize\n",
    "from nltk.tokenize import word_tokenize\n",
    "from nltk.corpus import stopwords\n",
    "from nltk.stem.porter import PorterStemmer\n",
    "from nltk.util import ngrams\n",
    "import json\n",
    "import sparse_matrix_functions\n",
    "import scipy.sparse as scs\n",
    "from IPython.display import display\n",
    "import matplotlib.pyplot as plt\n",
    "%matplotlib inline\n"
   ]
  },
  {
   "cell_type": "code",
   "execution_count": 2,
   "metadata": {
    "collapsed": true
   },
   "outputs": [],
   "source": [
    "path = '/Users/ale/Dropbox (Yadlin Family)/galvanize/capstone/*.txt'"
   ]
  },
  {
   "cell_type": "code",
   "execution_count": 105,
   "metadata": {
    "collapsed": true
   },
   "outputs": [],
   "source": [
    "with open(\"gene_dictionary_final.pickle\", \"rb\") as dict_gene:\n",
    "        gene_dict = pickle.load(dict_gene)"
   ]
  },
  {
   "cell_type": "code",
   "execution_count": 106,
   "metadata": {
    "collapsed": true
   },
   "outputs": [],
   "source": [
    "gene_keys = set(gene_dict.keys())\n",
    "gene_values = set(gene_dict.values())"
   ]
  },
  {
   "cell_type": "code",
   "execution_count": 107,
   "metadata": {},
   "outputs": [
    {
     "data": {
      "text/plain": [
       "'#erbb2#'"
      ]
     },
     "execution_count": 107,
     "metadata": {},
     "output_type": "execute_result"
    }
   ],
   "source": [
    "gene_dict['her2']"
   ]
  },
  {
   "cell_type": "code",
   "execution_count": 108,
   "metadata": {
    "collapsed": true
   },
   "outputs": [],
   "source": [
    "with open(\"drug_dictionary_final.pickle\", \"rb\") as dict_drug:\n",
    "        drug_dict = pickle.load(dict_drug)"
   ]
  },
  {
   "cell_type": "code",
   "execution_count": 109,
   "metadata": {
    "collapsed": true
   },
   "outputs": [],
   "source": [
    "drug_keys = set(drug_dict.keys())\n",
    "drug_values = set(drug_dict.values())"
   ]
  },
  {
   "cell_type": "code",
   "execution_count": 110,
   "metadata": {},
   "outputs": [
    {
     "data": {
      "text/plain": [
       "'#lapatinib#'"
      ]
     },
     "execution_count": 110,
     "metadata": {},
     "output_type": "execute_result"
    }
   ],
   "source": [
    "drug_dict['lapatinib']"
   ]
  },
  {
   "cell_type": "code",
   "execution_count": 111,
   "metadata": {},
   "outputs": [
    {
     "data": {
      "text/plain": [
       "False"
      ]
     },
     "execution_count": 111,
     "metadata": {},
     "output_type": "execute_result"
    }
   ],
   "source": [
    "'#doxorubicin hydrochloride#' in drug_values"
   ]
  },
  {
   "cell_type": "code",
   "execution_count": 112,
   "metadata": {},
   "outputs": [
    {
     "data": {
      "text/plain": [
       "'#acridine#'"
      ]
     },
     "execution_count": 112,
     "metadata": {},
     "output_type": "execute_result"
    }
   ],
   "source": [
    "drug_dict['acridine carboxamide']"
   ]
  },
  {
   "cell_type": "code",
   "execution_count": 113,
   "metadata": {
    "collapsed": true
   },
   "outputs": [],
   "source": [
    "with open(\"greek_alphabet.pickle\", \"rb\") as dict_greek:\n",
    "        greek_dict = pickle.load(dict_greek)"
   ]
  },
  {
   "cell_type": "code",
   "execution_count": 3,
   "metadata": {
    "collapsed": true
   },
   "outputs": [],
   "source": [
    "import data_frame_creator\n",
    "import sparse_matrix_functions"
   ]
  },
  {
   "cell_type": "code",
   "execution_count": 4,
   "metadata": {
    "collapsed": true
   },
   "outputs": [],
   "source": [
    "test=data_frame_creator.sparse_create_data_frame(path, short_list=True, min_df=0)"
   ]
  },
  {
   "cell_type": "code",
   "execution_count": 5,
   "metadata": {
    "collapsed": true
   },
   "outputs": [],
   "source": [
    "vocab_matrix =test[0]\n",
    "vocab_matrix[vocab_matrix>1]=1\n",
    "vocab_columns = test[1]\n",
    "doc_names = test[2] \n",
    "orig_sentences =test[3]"
   ]
  },
  {
   "cell_type": "code",
   "execution_count": 6,
   "metadata": {
    "collapsed": true
   },
   "outputs": [],
   "source": [
    "col_idx=sparse_matrix_functions.column_indexing(vocab_columns)"
   ]
  },
  {
   "cell_type": "code",
   "execution_count": 7,
   "metadata": {},
   "outputs": [
    {
     "data": {
      "text/plain": [
       "True"
      ]
     },
     "execution_count": 7,
     "metadata": {},
     "output_type": "execute_result"
    }
   ],
   "source": [
    "'#lapatinib#'in vocab_columns"
   ]
  },
  {
   "cell_type": "code",
   "execution_count": 7,
   "metadata": {
    "collapsed": true
   },
   "outputs": [],
   "source": [
    "test_matrix_all = sparse_matrix_functions.pick_network_type(vocab_matrix, vocab_columns,kind='a')"
   ]
  },
  {
   "cell_type": "code",
   "execution_count": 8,
   "metadata": {},
   "outputs": [
    {
     "data": {
      "text/plain": [
       "<2892x398 sparse matrix of type '<class 'numpy.float64'>'\n",
       "\twith 5640 stored elements in Compressed Sparse Row format>"
      ]
     },
     "execution_count": 8,
     "metadata": {},
     "output_type": "execute_result"
    }
   ],
   "source": [
    "test_matrix_all"
   ]
  },
  {
   "cell_type": "code",
   "execution_count": 9,
   "metadata": {
    "collapsed": true
   },
   "outputs": [],
   "source": [
    "test_matrix_r = sparse_matrix_functions.pick_network_type(vocab_matrix,vocab_columns,'r')"
   ]
  },
  {
   "cell_type": "code",
   "execution_count": 10,
   "metadata": {
    "collapsed": true
   },
   "outputs": [],
   "source": [
    "test_matrix_s = sparse_matrix_functions.pick_network_type(vocab_matrix,vocab_columns,kind='s')"
   ]
  },
  {
   "cell_type": "code",
   "execution_count": 11,
   "metadata": {},
   "outputs": [
    {
     "data": {
      "text/plain": [
       "<2892x399 sparse matrix of type '<class 'numpy.int64'>'\n",
       "\twith 2930 stored elements in Compressed Sparse Row format>"
      ]
     },
     "execution_count": 11,
     "metadata": {},
     "output_type": "execute_result"
    }
   ],
   "source": [
    "vocab_matrix"
   ]
  },
  {
   "cell_type": "code",
   "execution_count": 12,
   "metadata": {},
   "outputs": [
    {
     "data": {
      "text/plain": [
       "<135x398 sparse matrix of type '<class 'numpy.int64'>'\n",
       "\twith 428 stored elements in Compressed Sparse Row format>"
      ]
     },
     "execution_count": 12,
     "metadata": {},
     "output_type": "execute_result"
    }
   ],
   "source": [
    "test_matrix_r"
   ]
  },
  {
   "cell_type": "code",
   "execution_count": 13,
   "metadata": {},
   "outputs": [
    {
     "data": {
      "text/plain": [
       "scipy.sparse.csr.csr_matrix"
      ]
     },
     "execution_count": 13,
     "metadata": {},
     "output_type": "execute_result"
    }
   ],
   "source": [
    "type(test_matrix_s)"
   ]
  },
  {
   "cell_type": "code",
   "execution_count": 14,
   "metadata": {
    "collapsed": true
   },
   "outputs": [],
   "source": [
    "non_empty_rows = sparse_matrix_functions.non_zero_rows(vocab_matrix)"
   ]
  },
  {
   "cell_type": "code",
   "execution_count": null,
   "metadata": {
    "collapsed": true
   },
   "outputs": [],
   "source": [
    "sentences = [orig_sentences[i] for i in non_empty_rows]"
   ]
  },
  {
   "cell_type": "code",
   "execution_count": null,
   "metadata": {
    "collapsed": true
   },
   "outputs": [],
   "source": [
    "files = [doc_names[i] for i in non_empty_rows]"
   ]
  },
  {
   "cell_type": "code",
   "execution_count": null,
   "metadata": {
    "collapsed": true
   },
   "outputs": [],
   "source": [
    "vocab_mat_clean=sparse_matrix_functions.remove_zero_rows(vocab_matrix)"
   ]
  },
  {
   "cell_type": "code",
   "execution_count": null,
   "metadata": {
    "collapsed": true
   },
   "outputs": [],
   "source": [
    "vocab_mat_clean"
   ]
  },
  {
   "cell_type": "code",
   "execution_count": null,
   "metadata": {
    "collapsed": true
   },
   "outputs": [],
   "source": [
    "vocab_matrix.shape"
   ]
  },
  {
   "cell_type": "code",
   "execution_count": null,
   "metadata": {
    "collapsed": true
   },
   "outputs": [],
   "source": [
    "print(list(vocab_matrix[:,vocab_columns.index('sensit')].indices))"
   ]
  },
  {
   "cell_type": "code",
   "execution_count": null,
   "metadata": {
    "collapsed": true
   },
   "outputs": [],
   "source": [
    "sensit2"
   ]
  },
  {
   "cell_type": "code",
   "execution_count": null,
   "metadata": {
    "collapsed": true
   },
   "outputs": [],
   "source": []
  },
  {
   "cell_type": "code",
   "execution_count": 15,
   "metadata": {
    "collapsed": true
   },
   "outputs": [],
   "source": [
    "network_genes=sparse_matrix_functions.get_network_rows(vocab_columns)"
   ]
  },
  {
   "cell_type": "code",
   "execution_count": 16,
   "metadata": {
    "collapsed": true
   },
   "outputs": [],
   "source": [
    "network_drugs =sparse_matrix_functions.get_network_columns(vocab_columns)"
   ]
  },
  {
   "cell_type": "code",
   "execution_count": 17,
   "metadata": {
    "scrolled": true
   },
   "outputs": [
    {
     "data": {
      "text/plain": [
       "{0: '#afuresertib#',\n",
       " 1: '#akt inhibitor gsk2141795#',\n",
       " 2: '#akt inhibitor mk2206#',\n",
       " 3: '#alisertib#',\n",
       " 4: '#alpelisib#',\n",
       " 5: '#anastrozole#',\n",
       " 6: '#bevacizumab#',\n",
       " 7: '#binimetinib#',\n",
       " 8: '#broxuridine#',\n",
       " 9: '#buparlisib#',\n",
       " 10: '#capecitabine#',\n",
       " 11: '#carbendazim#',\n",
       " 12: '#carboplatin#',\n",
       " 13: '#cetuximab#',\n",
       " 14: '#cisplatin#',\n",
       " 15: '#cixutumumab#',\n",
       " 16: '#clofarabine#',\n",
       " 17: '#cyclophosphamide#',\n",
       " 18: '#dacarbazine#',\n",
       " 19: '#dalotuzumab#',\n",
       " 20: '#daunorubicin#',\n",
       " 21: '#dexamethasone#',\n",
       " 22: '#docetaxel#',\n",
       " 23: '#doxorubicin#',\n",
       " 24: '#epirubicin#',\n",
       " 25: '#erlotinib#',\n",
       " 26: '#everolimus#',\n",
       " 27: '#exemestane#',\n",
       " 28: '#fluorouracil#',\n",
       " 29: '#folitixorin#',\n",
       " 30: '#fulvestrant#',\n",
       " 31: '#gemcitabine#',\n",
       " 32: '#hydroxyurea#',\n",
       " 33: '#infliximab#',\n",
       " 34: '#iproplatin#',\n",
       " 35: '#lapatinib#',\n",
       " 36: '#lenalidomide#',\n",
       " 37: '#letrozole#',\n",
       " 38: '#leucovorin calcium#',\n",
       " 39: '#mek inhibitor ci-1040#',\n",
       " 40: '#menogaril#',\n",
       " 41: '#methotrexate#',\n",
       " 42: '#mitoxantrone#',\n",
       " 43: '#mtor kinase inhibitor cc-223#',\n",
       " 44: '#neratinib#',\n",
       " 45: '#niacinamide#',\n",
       " 46: '#oxaliplatin#',\n",
       " 47: '#paclitaxel#',\n",
       " 48: '#perifosine#',\n",
       " 49: '#pertuzumab#',\n",
       " 50: '#pi3k family kinase inhibitor xl147#',\n",
       " 51: '#pi3k-beta inhibitor gsk2636771#',\n",
       " 52: '#pi3k/mtor inhibitor bez235#',\n",
       " 53: '#procarbazine#',\n",
       " 54: '#recombinant interferon#',\n",
       " 55: '#recombinant interleukin-6#',\n",
       " 56: '#resistant starch#',\n",
       " 57: '#ribociclib#',\n",
       " 58: '#ridaforolimus#',\n",
       " 59: '#selumetinib#',\n",
       " 60: '#sorafenib tosylate#',\n",
       " 61: '#tamoxifen#',\n",
       " 62: '#temsirolimus#',\n",
       " 63: '#thalidomide#',\n",
       " 64: '#trametinib#',\n",
       " 65: '#trans sodium crocetinate#',\n",
       " 66: '#trastuzumab#',\n",
       " 67: '#triciribine phosphate#',\n",
       " 68: '#vinorelbine#',\n",
       " 69: '#voxtalisib#'}"
      ]
     },
     "execution_count": 17,
     "metadata": {},
     "output_type": "execute_result"
    }
   ],
   "source": [
    "network_drugs"
   ]
  },
  {
   "cell_type": "code",
   "execution_count": 18,
   "metadata": {
    "collapsed": true
   },
   "outputs": [],
   "source": [
    "resist_network_matrix = sparse_matrix_functions.make_network_matrix(test_matrix_r, vocab_columns)"
   ]
  },
  {
   "cell_type": "code",
   "execution_count": 19,
   "metadata": {
    "collapsed": true
   },
   "outputs": [],
   "source": [
    "pairs_r, counts_r = sparse_matrix_functions.extract_gene_drug_pairs(resist_network_matrix, network_genes, network_drugs)"
   ]
  },
  {
   "cell_type": "code",
   "execution_count": 20,
   "metadata": {
    "collapsed": true
   },
   "outputs": [],
   "source": [
    "original_indeces_r = sparse_matrix_functions.back_to_original_indeces(pairs_r, col_idx)"
   ]
  },
  {
   "cell_type": "code",
   "execution_count": 21,
   "metadata": {
    "collapsed": true
   },
   "outputs": [],
   "source": [
    "resist_evidence_akt_lapatinib = sparse_matrix_functions.get_evidence_sentences(\n",
    "    'akt','lapatinib','r',7, test, original_indeces_r)"
   ]
  },
  {
   "cell_type": "code",
   "execution_count": 22,
   "metadata": {},
   "outputs": [
    {
     "data": {
      "text/plain": [
       "[('test.txt',\n",
       "  'Treatment of the lapatinib-resistant HER2+ cells with Src inhibitors suppressed the PI3K PTEN Akt mTOR pathway as well as  Figure 5: Sites of Targeting the EGFR PI3K PTEN Akt mTORC Pathway with Small Molecule Membrane-Permeable Inhibitors and Monoclonal Antibodies (MoAbs).')]"
      ]
     },
     "execution_count": 22,
     "metadata": {},
     "output_type": "execute_result"
    }
   ],
   "source": [
    "resist_evidence_akt_lapatinib"
   ]
  },
  {
   "cell_type": "code",
   "execution_count": 23,
   "metadata": {
    "collapsed": true
   },
   "outputs": [],
   "source": [
    "sensit_network_matrix = sparse_matrix_functions.make_network_matrix(test_matrix_s, vocab_columns)"
   ]
  },
  {
   "cell_type": "code",
   "execution_count": 24,
   "metadata": {
    "collapsed": true,
    "scrolled": true
   },
   "outputs": [],
   "source": [
    "pairs_s, counts_s = sparse_matrix_functions.extract_gene_drug_pairs(sensit_network_matrix, network_genes, network_drugs)"
   ]
  },
  {
   "cell_type": "code",
   "execution_count": 25,
   "metadata": {
    "collapsed": true
   },
   "outputs": [],
   "source": [
    "#(pairs_s,counts_s)"
   ]
  },
  {
   "cell_type": "code",
   "execution_count": 26,
   "metadata": {
    "collapsed": true
   },
   "outputs": [],
   "source": [
    "original_indeces_s = sparse_matrix_functions.back_to_original_indeces(pairs_s, col_idx)"
   ]
  },
  {
   "cell_type": "code",
   "execution_count": 27,
   "metadata": {
    "collapsed": true
   },
   "outputs": [],
   "source": [
    "sensit_evidence_akt_lapatinib = sparse_matrix_functions.get_evidence_sentences(\n",
    "    'akt','lapatinib','r',7,test, original_indeces_s)"
   ]
  },
  {
   "cell_type": "code",
   "execution_count": 28,
   "metadata": {},
   "outputs": [
    {
     "data": {
      "text/plain": [
       "'There is no evidence that the prensece of the gene akt confers resistance to the drug lapatinib'"
      ]
     },
     "execution_count": 28,
     "metadata": {},
     "output_type": "execute_result"
    }
   ],
   "source": [
    "sensit_evidence_akt_lapatinib"
   ]
  },
  {
   "cell_type": "code",
   "execution_count": 29,
   "metadata": {
    "collapsed": true
   },
   "outputs": [],
   "source": [
    "all_network_matrix = sparse_matrix_functions.make_network_matrix(test_matrix_all, vocab_columns)"
   ]
  },
  {
   "cell_type": "code",
   "execution_count": 30,
   "metadata": {
    "collapsed": true
   },
   "outputs": [],
   "source": [
    "pairs_a, counts_a = sparse_matrix_functions.extract_gene_drug_pairs(all_network_matrix, network_genes, network_drugs)"
   ]
  },
  {
   "cell_type": "code",
   "execution_count": 31,
   "metadata": {
    "collapsed": true
   },
   "outputs": [],
   "source": [
    "original_indeces_a = sparse_matrix_functions.back_to_original_indeces(pairs_a, col_idx)"
   ]
  },
  {
   "cell_type": "code",
   "execution_count": 32,
   "metadata": {},
   "outputs": [
    {
     "name": "stdout",
     "output_type": "stream",
     "text": [
      "Returning evidence of both sensitivity and resistant\n"
     ]
    },
    {
     "name": "stderr",
     "output_type": "stream",
     "text": [
      "/Users/ale/anaconda3/lib/python3.6/site-packages/scipy/sparse/compressed.py:730: SparseEfficiencyWarning: Changing the sparsity structure of a csr_matrix is expensive. lil_matrix is more efficient.\n",
      "  SparseEfficiencyWarning)\n"
     ]
    }
   ],
   "source": [
    "all_evidence_akt_lapatinib = sparse_matrix_functions.get_evidence_sentences('akt','lapatinib','a',7, \n",
    "                                                                               test, original_indeces_a)"
   ]
  },
  {
   "cell_type": "code",
   "execution_count": 34,
   "metadata": {},
   "outputs": [
    {
     "data": {
      "text/plain": [
       "[('test.txt',\n",
       "  'In BT474 and MCF10A breast cancer cells transfected with the construct encoding HER2-T798M mutation, elevated HER2 kinase activity was detected and lapatinib did not block phosphorylation of HER2, EGFR3 or downstream Akt and ERK1 2.'),\n",
       " ('test.txt',\n",
       "  'Treatment of the lapatinib-resistant HER2+ cells with Src inhibitors suppressed the PI3K PTEN Akt mTOR pathway as well as  Figure 5: Sites of Targeting the EGFR PI3K PTEN Akt mTORC Pathway with Small Molecule Membrane-Permeable Inhibitors and Monoclonal Antibodies (MoAbs).'),\n",
       " ('test.txt',\n",
       "  'I  Recurrent BC, -Stage IV BC, Active, not MK2206, paclitaxel Not Unspecified Adult recruiting Provided Solid Tumor Triciribine (an Akt inhibitor), Not paclitaxel, provided doxorubicin, cyclophosphamide Cisplatin, 0941, a inhibitor GDCNot PI3K provided  I  II  Metastatic Carcinoma Stage IV  BC, Currently Breast recruiting participants  I II  ER- BC, HER- BC, TNBC, Recurrent Currently BC, Stage IV BC recruiting participants  II  HER2+, Newly Diagnosed, Primary BC Currently Neoadjuvant recruiting Therapy, participants Trastuzumab  BKM120, trastuzumab (trastuzumab = Not herceptin, a antiprovided HER2 MoAb), paclitaxel  II  BC  Not yet open Not for participant Paclitaxel, BKM120 provided study RAD001 (Afinitor everolimus), Not gemcitabine (a provided nucleoside analog), cisplatin  I II  Metastatic BC  Currently recruiting patients  II  Metastatic BC  Everolimus, Bevacizumab (vascular Ongoing, but Not endothelial not recruiting provided growth factor A inhibitor), paclitaxel  II  HER2+ BC  Recruiting  Everolimus, vinorelbine, Not trastuzumab (HER2 provided inhibibitor, MoAb) Capecitabine (a pro-drug, which is converted to 5-flurouracil (5Not FU) which inhibits provided thymidylate synthase, exemestane, Everolimus  II  BC  Recruiting  www.impactjournals.com oncotarget  4632  Oncotarget  \\x0c*A Phase III Trials Program Exploring the Integration of Bevacizumab, Everolimus (RAD001), and Lapatinib Into Current NCT00567554 Neoadjuvant Chemotherapy Regimes for Primary Breast Cancer  III  BC  Phase I, Open Label, Dose Escalation Study of the Safety, Tolerability, and Pharmacokinetics of the Combination NCT00253318 RAD001 Plus Docetaxel in Patients With Metastatic Breast Cancer Phase II, Open Label, Dose Escalation Study of the Safety, Tolerability, and Pharmacokinetics of the Combination RAD001 Plus Docetaxel in Patients With Metastatic Breast Cancer *Phase 1b 2 Single-arm Trial Evaluating the Combination of Lapatinib, Everolimus and Capecitabine for the Treatment of Patients With HER2-positive Metastatic Breast Cancer With CNS Progression After Trastuzumab *A Phase Ib II Trial of LEE011 in Combination With Everolimus (RAD001) and Exemestane in the Treatment of Postmenopausal Women With Estrogen Receptor Positive, Her2- Locally Advanced or Metastatic Breast Cancer Phase I II Study of Weekly Abraxane and RAD001 in Women With Locally Advanced or Metastatic Breast Cancer.')]"
      ]
     },
     "execution_count": 34,
     "metadata": {},
     "output_type": "execute_result"
    }
   ],
   "source": [
    "all_evidence_akt_lapatinib"
   ]
  },
  {
   "cell_type": "code",
   "execution_count": 48,
   "metadata": {},
   "outputs": [
    {
     "data": {
      "text/plain": [
       "<matplotlib.text.Text at 0x121d96a58>"
      ]
     },
     "execution_count": 48,
     "metadata": {},
     "output_type": "execute_result"
    },
    {
     "data": {
      "image/png": "[encoded data removed]",
      "text/plain": [
       "<matplotlib.figure.Figure at 0x120a29630>"
      ]
     },
     "metadata": {},
     "output_type": "display_data"
    }
   ],
   "source": [
    "# Compute NMF\n",
    "from sklearn.decomposition import NMF\n",
    "\n",
    "def fit_nmf(M,r):\n",
    "    nmf = NMF(n_components=r)\n",
    "    nmf.fit(M)\n",
    "    W = nmf.transform(M)\n",
    "    H = nmf.components_\n",
    "    return nmf.reconstruction_err_\n",
    "\n",
    "error = [fit_nmf(resist_network_matrix,i) for i in range(1,10)]\n",
    "plt.plot(range(1,10), error)\n",
    "plt.xticks(range(1, 10))\n",
    "plt.xlabel('number of latent topics')\n",
    "plt.ylabel('Reconstruction Error')"
   ]
  },
  {
   "cell_type": "code",
   "execution_count": 49,
   "metadata": {},
   "outputs": [
    {
     "name": "stdout",
     "output_type": "stream",
     "text": [
      "RSS = 9.13\n"
     ]
    }
   ],
   "source": [
    "# Fit using 2 hidden concepts\n",
    "nmf = NMF(n_components=2)\n",
    "nmf.fit(resist_network_matrix)\n",
    "W = nmf.transform(resist_network_matrix)\n",
    "H = nmf.components_\n",
    "print('RSS = %.2f' % nmf.reconstruction_err_)"
   ]
  },
  {
   "cell_type": "code",
   "execution_count": 50,
   "metadata": {},
   "outputs": [
    {
     "data": {
      "text/html": [
       "<div>\n",
       "<table border=\"1\" class=\"dataframe\">\n",
       "  <thead>\n",
       "    <tr style=\"text-align: right;\">\n",
       "      <th></th>\n",
       "      <th>0</th>\n",
       "      <th>1</th>\n",
       "    </tr>\n",
       "  </thead>\n",
       "  <tbody>\n",
       "    <tr>\n",
       "      <th>#abcg2#</th>\n",
       "      <td>0.00</td>\n",
       "      <td>0.00</td>\n",
       "    </tr>\n",
       "    <tr>\n",
       "      <th>#acadl#</th>\n",
       "      <td>0.00</td>\n",
       "      <td>0.00</td>\n",
       "    </tr>\n",
       "    <tr>\n",
       "      <th>#ackr3#</th>\n",
       "      <td>0.00</td>\n",
       "      <td>0.00</td>\n",
       "    </tr>\n",
       "    <tr>\n",
       "      <th>#acpp#</th>\n",
       "      <td>0.00</td>\n",
       "      <td>0.00</td>\n",
       "    </tr>\n",
       "    <tr>\n",
       "      <th>#ado#</th>\n",
       "      <td>0.00</td>\n",
       "      <td>0.00</td>\n",
       "    </tr>\n",
       "    <tr>\n",
       "      <th>#agfg1#</th>\n",
       "      <td>0.00</td>\n",
       "      <td>0.00</td>\n",
       "    </tr>\n",
       "    <tr>\n",
       "      <th>#aicda#</th>\n",
       "      <td>0.00</td>\n",
       "      <td>0.00</td>\n",
       "    </tr>\n",
       "    <tr>\n",
       "      <th>#airn#</th>\n",
       "      <td>0.00</td>\n",
       "      <td>0.00</td>\n",
       "    </tr>\n",
       "    <tr>\n",
       "      <th>#akt1#</th>\n",
       "      <td>0.51</td>\n",
       "      <td>0.00</td>\n",
       "    </tr>\n",
       "    <tr>\n",
       "      <th>#alb#</th>\n",
       "      <td>0.00</td>\n",
       "      <td>0.00</td>\n",
       "    </tr>\n",
       "    <tr>\n",
       "      <th>#alpi#</th>\n",
       "      <td>0.00</td>\n",
       "      <td>0.00</td>\n",
       "    </tr>\n",
       "    <tr>\n",
       "      <th>#alyref#</th>\n",
       "      <td>0.00</td>\n",
       "      <td>0.00</td>\n",
       "    </tr>\n",
       "    <tr>\n",
       "      <th>#amh#</th>\n",
       "      <td>0.00</td>\n",
       "      <td>0.00</td>\n",
       "    </tr>\n",
       "    <tr>\n",
       "      <th>#anpep#</th>\n",
       "      <td>0.05</td>\n",
       "      <td>0.06</td>\n",
       "    </tr>\n",
       "    <tr>\n",
       "      <th>#ar#</th>\n",
       "      <td>0.00</td>\n",
       "      <td>0.00</td>\n",
       "    </tr>\n",
       "    <tr>\n",
       "      <th>#arc#</th>\n",
       "      <td>0.00</td>\n",
       "      <td>0.00</td>\n",
       "    </tr>\n",
       "    <tr>\n",
       "      <th>#areg#</th>\n",
       "      <td>0.00</td>\n",
       "      <td>0.00</td>\n",
       "    </tr>\n",
       "    <tr>\n",
       "      <th>#arhgef7#</th>\n",
       "      <td>0.00</td>\n",
       "      <td>0.00</td>\n",
       "    </tr>\n",
       "    <tr>\n",
       "      <th>#armc9#</th>\n",
       "      <td>0.00</td>\n",
       "      <td>0.00</td>\n",
       "    </tr>\n",
       "    <tr>\n",
       "      <th>#atg12#</th>\n",
       "      <td>0.00</td>\n",
       "      <td>0.00</td>\n",
       "    </tr>\n",
       "    <tr>\n",
       "      <th>#atm#</th>\n",
       "      <td>0.00</td>\n",
       "      <td>0.00</td>\n",
       "    </tr>\n",
       "    <tr>\n",
       "      <th>#atr#</th>\n",
       "      <td>0.00</td>\n",
       "      <td>0.00</td>\n",
       "    </tr>\n",
       "    <tr>\n",
       "      <th>#bank1#</th>\n",
       "      <td>0.00</td>\n",
       "      <td>0.00</td>\n",
       "    </tr>\n",
       "    <tr>\n",
       "      <th>#bax#</th>\n",
       "      <td>0.00</td>\n",
       "      <td>0.00</td>\n",
       "    </tr>\n",
       "    <tr>\n",
       "      <th>#bbc3#</th>\n",
       "      <td>0.00</td>\n",
       "      <td>0.00</td>\n",
       "    </tr>\n",
       "    <tr>\n",
       "      <th>#bcl2#</th>\n",
       "      <td>0.00</td>\n",
       "      <td>0.00</td>\n",
       "    </tr>\n",
       "    <tr>\n",
       "      <th>#bcs1l#</th>\n",
       "      <td>0.00</td>\n",
       "      <td>0.00</td>\n",
       "    </tr>\n",
       "    <tr>\n",
       "      <th>#bid#</th>\n",
       "      <td>0.00</td>\n",
       "      <td>0.00</td>\n",
       "    </tr>\n",
       "    <tr>\n",
       "      <th>#birc5#</th>\n",
       "      <td>0.40</td>\n",
       "      <td>0.00</td>\n",
       "    </tr>\n",
       "    <tr>\n",
       "      <th>#bivm#</th>\n",
       "      <td>0.00</td>\n",
       "      <td>0.00</td>\n",
       "    </tr>\n",
       "    <tr>\n",
       "      <th>...</th>\n",
       "      <td>...</td>\n",
       "      <td>...</td>\n",
       "    </tr>\n",
       "    <tr>\n",
       "      <th>#tf#</th>\n",
       "      <td>0.00</td>\n",
       "      <td>0.00</td>\n",
       "    </tr>\n",
       "    <tr>\n",
       "      <th>#tfap2a#</th>\n",
       "      <td>0.00</td>\n",
       "      <td>0.00</td>\n",
       "    </tr>\n",
       "    <tr>\n",
       "      <th>#tfap2b#</th>\n",
       "      <td>0.00</td>\n",
       "      <td>0.00</td>\n",
       "    </tr>\n",
       "    <tr>\n",
       "      <th>#tg#</th>\n",
       "      <td>0.00</td>\n",
       "      <td>0.00</td>\n",
       "    </tr>\n",
       "    <tr>\n",
       "      <th>#tgfb2#</th>\n",
       "      <td>0.00</td>\n",
       "      <td>0.00</td>\n",
       "    </tr>\n",
       "    <tr>\n",
       "      <th>#th#</th>\n",
       "      <td>0.02</td>\n",
       "      <td>0.00</td>\n",
       "    </tr>\n",
       "    <tr>\n",
       "      <th>#tiparp#</th>\n",
       "      <td>0.00</td>\n",
       "      <td>0.00</td>\n",
       "    </tr>\n",
       "    <tr>\n",
       "      <th>#tnfrsf11a#</th>\n",
       "      <td>0.00</td>\n",
       "      <td>0.00</td>\n",
       "    </tr>\n",
       "    <tr>\n",
       "      <th>#tnfrsf11b#</th>\n",
       "      <td>0.00</td>\n",
       "      <td>0.00</td>\n",
       "    </tr>\n",
       "    <tr>\n",
       "      <th>#tnfsf13b#</th>\n",
       "      <td>0.00</td>\n",
       "      <td>0.00</td>\n",
       "    </tr>\n",
       "    <tr>\n",
       "      <th>#tnfsf14#</th>\n",
       "      <td>0.00</td>\n",
       "      <td>0.00</td>\n",
       "    </tr>\n",
       "    <tr>\n",
       "      <th>#tnip1#</th>\n",
       "      <td>0.20</td>\n",
       "      <td>0.00</td>\n",
       "    </tr>\n",
       "    <tr>\n",
       "      <th>#tnip3#</th>\n",
       "      <td>0.00</td>\n",
       "      <td>0.00</td>\n",
       "    </tr>\n",
       "    <tr>\n",
       "      <th>#tox#</th>\n",
       "      <td>0.00</td>\n",
       "      <td>0.00</td>\n",
       "    </tr>\n",
       "    <tr>\n",
       "      <th>#tox3#</th>\n",
       "      <td>0.00</td>\n",
       "      <td>0.00</td>\n",
       "    </tr>\n",
       "    <tr>\n",
       "      <th>#tp53#</th>\n",
       "      <td>0.00</td>\n",
       "      <td>0.00</td>\n",
       "    </tr>\n",
       "    <tr>\n",
       "      <th>#tra-tgc7-1#</th>\n",
       "      <td>0.00</td>\n",
       "      <td>0.00</td>\n",
       "    </tr>\n",
       "    <tr>\n",
       "      <th>#twist1#</th>\n",
       "      <td>0.00</td>\n",
       "      <td>0.00</td>\n",
       "    </tr>\n",
       "    <tr>\n",
       "      <th>#uap1l1#</th>\n",
       "      <td>0.00</td>\n",
       "      <td>0.00</td>\n",
       "    </tr>\n",
       "    <tr>\n",
       "      <th>#ugt3a1#</th>\n",
       "      <td>0.00</td>\n",
       "      <td>0.00</td>\n",
       "    </tr>\n",
       "    <tr>\n",
       "      <th>#ulk1#</th>\n",
       "      <td>0.00</td>\n",
       "      <td>0.00</td>\n",
       "    </tr>\n",
       "    <tr>\n",
       "      <th>#vegfa#</th>\n",
       "      <td>0.00</td>\n",
       "      <td>0.00</td>\n",
       "    </tr>\n",
       "    <tr>\n",
       "      <th>#vgf#</th>\n",
       "      <td>0.00</td>\n",
       "      <td>0.00</td>\n",
       "    </tr>\n",
       "    <tr>\n",
       "      <th>#wdtc1#</th>\n",
       "      <td>0.00</td>\n",
       "      <td>0.00</td>\n",
       "    </tr>\n",
       "    <tr>\n",
       "      <th>#wnt5a#</th>\n",
       "      <td>0.00</td>\n",
       "      <td>0.00</td>\n",
       "    </tr>\n",
       "    <tr>\n",
       "      <th>#xs#</th>\n",
       "      <td>0.00</td>\n",
       "      <td>0.00</td>\n",
       "    </tr>\n",
       "    <tr>\n",
       "      <th>#zbp1#</th>\n",
       "      <td>0.00</td>\n",
       "      <td>0.00</td>\n",
       "    </tr>\n",
       "    <tr>\n",
       "      <th>#zbtb8os#</th>\n",
       "      <td>0.00</td>\n",
       "      <td>0.00</td>\n",
       "    </tr>\n",
       "    <tr>\n",
       "      <th>#zfyve9#</th>\n",
       "      <td>0.00</td>\n",
       "      <td>0.00</td>\n",
       "    </tr>\n",
       "    <tr>\n",
       "      <th>#znf746#</th>\n",
       "      <td>0.00</td>\n",
       "      <td>0.00</td>\n",
       "    </tr>\n",
       "  </tbody>\n",
       "</table>\n",
       "<p>327 rows × 2 columns</p>\n",
       "</div>"
      ],
      "text/plain": [
       "                 0     1\n",
       "#abcg2#       0.00  0.00\n",
       "#acadl#       0.00  0.00\n",
       "#ackr3#       0.00  0.00\n",
       "#acpp#        0.00  0.00\n",
       "#ado#         0.00  0.00\n",
       "#agfg1#       0.00  0.00\n",
       "#aicda#       0.00  0.00\n",
       "#airn#        0.00  0.00\n",
       "#akt1#        0.51  0.00\n",
       "#alb#         0.00  0.00\n",
       "#alpi#        0.00  0.00\n",
       "#alyref#      0.00  0.00\n",
       "#amh#         0.00  0.00\n",
       "#anpep#       0.05  0.06\n",
       "#ar#          0.00  0.00\n",
       "#arc#         0.00  0.00\n",
       "#areg#        0.00  0.00\n",
       "#arhgef7#     0.00  0.00\n",
       "#armc9#       0.00  0.00\n",
       "#atg12#       0.00  0.00\n",
       "#atm#         0.00  0.00\n",
       "#atr#         0.00  0.00\n",
       "#bank1#       0.00  0.00\n",
       "#bax#         0.00  0.00\n",
       "#bbc3#        0.00  0.00\n",
       "#bcl2#        0.00  0.00\n",
       "#bcs1l#       0.00  0.00\n",
       "#bid#         0.00  0.00\n",
       "#birc5#       0.40  0.00\n",
       "#bivm#        0.00  0.00\n",
       "...            ...   ...\n",
       "#tf#          0.00  0.00\n",
       "#tfap2a#      0.00  0.00\n",
       "#tfap2b#      0.00  0.00\n",
       "#tg#          0.00  0.00\n",
       "#tgfb2#       0.00  0.00\n",
       "#th#          0.02  0.00\n",
       "#tiparp#      0.00  0.00\n",
       "#tnfrsf11a#   0.00  0.00\n",
       "#tnfrsf11b#   0.00  0.00\n",
       "#tnfsf13b#    0.00  0.00\n",
       "#tnfsf14#     0.00  0.00\n",
       "#tnip1#       0.20  0.00\n",
       "#tnip3#       0.00  0.00\n",
       "#tox#         0.00  0.00\n",
       "#tox3#        0.00  0.00\n",
       "#tp53#        0.00  0.00\n",
       "#tra-tgc7-1#  0.00  0.00\n",
       "#twist1#      0.00  0.00\n",
       "#uap1l1#      0.00  0.00\n",
       "#ugt3a1#      0.00  0.00\n",
       "#ulk1#        0.00  0.00\n",
       "#vegfa#       0.00  0.00\n",
       "#vgf#         0.00  0.00\n",
       "#wdtc1#       0.00  0.00\n",
       "#wnt5a#       0.00  0.00\n",
       "#xs#          0.00  0.00\n",
       "#zbp1#        0.00  0.00\n",
       "#zbtb8os#     0.00  0.00\n",
       "#zfyve9#      0.00  0.00\n",
       "#znf746#      0.00  0.00\n",
       "\n",
       "[327 rows x 2 columns]"
      ]
     },
     "metadata": {},
     "output_type": "display_data"
    },
    {
     "data": {
      "text/html": [
       "<div>\n",
       "<table border=\"1\" class=\"dataframe\">\n",
       "  <thead>\n",
       "    <tr style=\"text-align: right;\">\n",
       "      <th></th>\n",
       "      <th>#afuresertib#</th>\n",
       "      <th>#akt inhibitor gsk2141795#</th>\n",
       "      <th>#akt inhibitor mk2206#</th>\n",
       "      <th>#alisertib#</th>\n",
       "      <th>#alpelisib#</th>\n",
       "      <th>#anastrozole#</th>\n",
       "      <th>#bevacizumab#</th>\n",
       "      <th>#binimetinib#</th>\n",
       "      <th>#broxuridine#</th>\n",
       "      <th>#buparlisib#</th>\n",
       "      <th>...</th>\n",
       "      <th>#sorafenib tosylate#</th>\n",
       "      <th>#tamoxifen#</th>\n",
       "      <th>#temsirolimus#</th>\n",
       "      <th>#thalidomide#</th>\n",
       "      <th>#trametinib#</th>\n",
       "      <th>#trans sodium crocetinate#</th>\n",
       "      <th>#trastuzumab#</th>\n",
       "      <th>#triciribine phosphate#</th>\n",
       "      <th>#vinorelbine#</th>\n",
       "      <th>#voxtalisib#</th>\n",
       "    </tr>\n",
       "  </thead>\n",
       "  <tbody>\n",
       "    <tr>\n",
       "      <th>0</th>\n",
       "      <td>0.0</td>\n",
       "      <td>0.0</td>\n",
       "      <td>0.0</td>\n",
       "      <td>0.0</td>\n",
       "      <td>0.0</td>\n",
       "      <td>0.0</td>\n",
       "      <td>0.00</td>\n",
       "      <td>0.0</td>\n",
       "      <td>0.0</td>\n",
       "      <td>0.28</td>\n",
       "      <td>...</td>\n",
       "      <td>0.00</td>\n",
       "      <td>0.45</td>\n",
       "      <td>0.00</td>\n",
       "      <td>0.00</td>\n",
       "      <td>0.0</td>\n",
       "      <td>0.0</td>\n",
       "      <td>4.10</td>\n",
       "      <td>0.28</td>\n",
       "      <td>0.14</td>\n",
       "      <td>0.0</td>\n",
       "    </tr>\n",
       "    <tr>\n",
       "      <th>1</th>\n",
       "      <td>0.0</td>\n",
       "      <td>0.0</td>\n",
       "      <td>0.0</td>\n",
       "      <td>0.0</td>\n",
       "      <td>0.0</td>\n",
       "      <td>0.0</td>\n",
       "      <td>0.62</td>\n",
       "      <td>0.0</td>\n",
       "      <td>0.0</td>\n",
       "      <td>0.05</td>\n",
       "      <td>...</td>\n",
       "      <td>0.62</td>\n",
       "      <td>0.00</td>\n",
       "      <td>0.62</td>\n",
       "      <td>0.62</td>\n",
       "      <td>0.0</td>\n",
       "      <td>0.0</td>\n",
       "      <td>0.05</td>\n",
       "      <td>0.05</td>\n",
       "      <td>0.09</td>\n",
       "      <td>0.0</td>\n",
       "    </tr>\n",
       "  </tbody>\n",
       "</table>\n",
       "<p>2 rows × 70 columns</p>\n",
       "</div>"
      ],
      "text/plain": [
       "   #afuresertib#  #akt inhibitor gsk2141795#  #akt inhibitor mk2206#  \\\n",
       "0            0.0                         0.0                     0.0   \n",
       "1            0.0                         0.0                     0.0   \n",
       "\n",
       "   #alisertib#  #alpelisib#  #anastrozole#  #bevacizumab#  #binimetinib#  \\\n",
       "0          0.0          0.0            0.0           0.00            0.0   \n",
       "1          0.0          0.0            0.0           0.62            0.0   \n",
       "\n",
       "   #broxuridine#  #buparlisib#      ...       #sorafenib tosylate#  \\\n",
       "0            0.0          0.28      ...                       0.00   \n",
       "1            0.0          0.05      ...                       0.62   \n",
       "\n",
       "   #tamoxifen#  #temsirolimus#  #thalidomide#  #trametinib#  \\\n",
       "0         0.45            0.00           0.00           0.0   \n",
       "1         0.00            0.62           0.62           0.0   \n",
       "\n",
       "   #trans sodium crocetinate#  #trastuzumab#  #triciribine phosphate#  \\\n",
       "0                         0.0           4.10                     0.28   \n",
       "1                         0.0           0.05                     0.05   \n",
       "\n",
       "   #vinorelbine#  #voxtalisib#  \n",
       "0           0.14           0.0  \n",
       "1           0.09           0.0  \n",
       "\n",
       "[2 rows x 70 columns]"
      ]
     },
     "metadata": {},
     "output_type": "display_data"
    }
   ],
   "source": [
    "# Make interpretable\n",
    "W, H = (np.around(x,2) for x in (W,H))\n",
    "W = pd.DataFrame(W,index=network_genes.values())\n",
    "H = pd.DataFrame(H,columns=network_drugs.values())\n",
    "\n",
    "display(W) \n",
    "display(H)"
   ]
  },
  {
   "cell_type": "code",
   "execution_count": null,
   "metadata": {
    "collapsed": true
   },
   "outputs": [],
   "source": [
    "resist_network_matrix"
   ]
  },
  {
   "cell_type": "code",
   "execution_count": null,
   "metadata": {
    "collapsed": true
   },
   "outputs": [],
   "source": [
    "type(resist_network_matrix)"
   ]
  },
  {
   "cell_type": "code",
   "execution_count": 45,
   "metadata": {
    "collapsed": true
   },
   "outputs": [],
   "source": [
    "from sklearn.model_selection import train_test_split"
   ]
  },
  {
   "cell_type": "code",
   "execution_count": 77,
   "metadata": {
    "collapsed": true
   },
   "outputs": [],
   "source": [
    "indices = np.arange(test2.shape[0])"
   ]
  },
  {
   "cell_type": "code",
   "execution_count": 85,
   "metadata": {},
   "outputs": [],
   "source": [
    "x_train, x_test, idx_train, idx_test = train_test_split(test2, indices, test_size=0.33, random_state=42)"
   ]
  },
  {
   "cell_type": "code",
   "execution_count": 87,
   "metadata": {},
   "outputs": [
    {
     "data": {
      "text/plain": [
       "108"
      ]
     },
     "execution_count": 87,
     "metadata": {},
     "output_type": "execute_result"
    }
   ],
   "source": [
    "len(np.sort(idx_test))"
   ]
  },
  {
   "cell_type": "code",
   "execution_count": 88,
   "metadata": {},
   "outputs": [
    {
     "data": {
      "text/plain": [
       "'#abcg2#'"
      ]
     },
     "execution_count": 88,
     "metadata": {},
     "output_type": "execute_result"
    }
   ],
   "source": [
    "network_genes[0]"
   ]
  },
  {
   "cell_type": "code",
   "execution_count": 92,
   "metadata": {},
   "outputs": [],
   "source": [
    "test_genes = [network_genes[idx] for idx in idx_test]"
   ]
  },
  {
   "cell_type": "code",
   "execution_count": 90,
   "metadata": {
    "scrolled": true
   },
   "outputs": [
    {
     "name": "stdout",
     "output_type": "stream",
     "text": [
      "RSS = 4.87\n"
     ]
    }
   ],
   "source": [
    "nmf = NMF(n_components=1)\n",
    "nmf.fit(x_train)\n",
    "W = nmf.transform(x_test)\n",
    "H = nmf.components_\n",
    "print('RSS = %.2f' % nmf.reconstruction_err_)\n"
   ]
  },
  {
   "cell_type": "code",
   "execution_count": 93,
   "metadata": {},
   "outputs": [
    {
     "data": {
      "text/html": [
       "<div>\n",
       "<table border=\"1\" class=\"dataframe\">\n",
       "  <thead>\n",
       "    <tr style=\"text-align: right;\">\n",
       "      <th></th>\n",
       "      <th>0</th>\n",
       "    </tr>\n",
       "  </thead>\n",
       "  <tbody>\n",
       "    <tr>\n",
       "      <th>#ppp6c#</th>\n",
       "      <td>0.00</td>\n",
       "    </tr>\n",
       "    <tr>\n",
       "      <th>#fh#</th>\n",
       "      <td>0.00</td>\n",
       "    </tr>\n",
       "    <tr>\n",
       "      <th>#reck#</th>\n",
       "      <td>0.00</td>\n",
       "    </tr>\n",
       "    <tr>\n",
       "      <th>#alb#</th>\n",
       "      <td>0.00</td>\n",
       "    </tr>\n",
       "    <tr>\n",
       "      <th>#erbb2#</th>\n",
       "      <td>2.09</td>\n",
       "    </tr>\n",
       "    <tr>\n",
       "      <th>#pik3ca#</th>\n",
       "      <td>0.86</td>\n",
       "    </tr>\n",
       "    <tr>\n",
       "      <th>#slc7a1#</th>\n",
       "      <td>0.00</td>\n",
       "    </tr>\n",
       "    <tr>\n",
       "      <th>#nrip3#</th>\n",
       "      <td>0.00</td>\n",
       "    </tr>\n",
       "    <tr>\n",
       "      <th>#palb2#</th>\n",
       "      <td>0.00</td>\n",
       "    </tr>\n",
       "    <tr>\n",
       "      <th>#exog#</th>\n",
       "      <td>0.00</td>\n",
       "    </tr>\n",
       "    <tr>\n",
       "      <th>#msh6#</th>\n",
       "      <td>0.00</td>\n",
       "    </tr>\n",
       "    <tr>\n",
       "      <th>#tox3#</th>\n",
       "      <td>0.00</td>\n",
       "    </tr>\n",
       "    <tr>\n",
       "      <th>#vgf#</th>\n",
       "      <td>0.00</td>\n",
       "    </tr>\n",
       "    <tr>\n",
       "      <th>#il36g#</th>\n",
       "      <td>0.00</td>\n",
       "    </tr>\n",
       "    <tr>\n",
       "      <th>#sds#</th>\n",
       "      <td>0.00</td>\n",
       "    </tr>\n",
       "    <tr>\n",
       "      <th>#krt19#</th>\n",
       "      <td>0.00</td>\n",
       "    </tr>\n",
       "    <tr>\n",
       "      <th>#kalrn#</th>\n",
       "      <td>0.00</td>\n",
       "    </tr>\n",
       "    <tr>\n",
       "      <th>#iv#</th>\n",
       "      <td>0.00</td>\n",
       "    </tr>\n",
       "    <tr>\n",
       "      <th>#bcl2#</th>\n",
       "      <td>0.00</td>\n",
       "    </tr>\n",
       "    <tr>\n",
       "      <th>#agfg1#</th>\n",
       "      <td>0.00</td>\n",
       "    </tr>\n",
       "    <tr>\n",
       "      <th>#e2f1#</th>\n",
       "      <td>0.00</td>\n",
       "    </tr>\n",
       "    <tr>\n",
       "      <th>#ms#</th>\n",
       "      <td>0.00</td>\n",
       "    </tr>\n",
       "    <tr>\n",
       "      <th>#cd44#</th>\n",
       "      <td>0.00</td>\n",
       "    </tr>\n",
       "    <tr>\n",
       "      <th>#si#</th>\n",
       "      <td>0.00</td>\n",
       "    </tr>\n",
       "    <tr>\n",
       "      <th>#erbb3#</th>\n",
       "      <td>0.00</td>\n",
       "    </tr>\n",
       "    <tr>\n",
       "      <th>#xs#</th>\n",
       "      <td>0.00</td>\n",
       "    </tr>\n",
       "    <tr>\n",
       "      <th>#foxm1#</th>\n",
       "      <td>0.00</td>\n",
       "    </tr>\n",
       "    <tr>\n",
       "      <th>#gaa#</th>\n",
       "      <td>1.33</td>\n",
       "    </tr>\n",
       "    <tr>\n",
       "      <th>#cs#</th>\n",
       "      <td>0.00</td>\n",
       "    </tr>\n",
       "    <tr>\n",
       "      <th>#tnip3#</th>\n",
       "      <td>0.00</td>\n",
       "    </tr>\n",
       "    <tr>\n",
       "      <th>...</th>\n",
       "      <td>...</td>\n",
       "    </tr>\n",
       "    <tr>\n",
       "      <th>#hdac1#</th>\n",
       "      <td>0.00</td>\n",
       "    </tr>\n",
       "    <tr>\n",
       "      <th>#fbxw7#</th>\n",
       "      <td>0.00</td>\n",
       "    </tr>\n",
       "    <tr>\n",
       "      <th>#rps6kb1#</th>\n",
       "      <td>0.00</td>\n",
       "    </tr>\n",
       "    <tr>\n",
       "      <th>#bmp7#</th>\n",
       "      <td>0.00</td>\n",
       "    </tr>\n",
       "    <tr>\n",
       "      <th>#pik3r1#</th>\n",
       "      <td>0.00</td>\n",
       "    </tr>\n",
       "    <tr>\n",
       "      <th>#kiaa1551#</th>\n",
       "      <td>0.00</td>\n",
       "    </tr>\n",
       "    <tr>\n",
       "      <th>#limch1#</th>\n",
       "      <td>0.00</td>\n",
       "    </tr>\n",
       "    <tr>\n",
       "      <th>#plcg1#</th>\n",
       "      <td>0.00</td>\n",
       "    </tr>\n",
       "    <tr>\n",
       "      <th>#ugt3a1#</th>\n",
       "      <td>0.00</td>\n",
       "    </tr>\n",
       "    <tr>\n",
       "      <th>#nodal#</th>\n",
       "      <td>0.00</td>\n",
       "    </tr>\n",
       "    <tr>\n",
       "      <th>#cish#</th>\n",
       "      <td>0.00</td>\n",
       "    </tr>\n",
       "    <tr>\n",
       "      <th>#sfrp2#</th>\n",
       "      <td>0.00</td>\n",
       "    </tr>\n",
       "    <tr>\n",
       "      <th>#aicda#</th>\n",
       "      <td>0.00</td>\n",
       "    </tr>\n",
       "    <tr>\n",
       "      <th>#pafah1b1#</th>\n",
       "      <td>0.00</td>\n",
       "    </tr>\n",
       "    <tr>\n",
       "      <th>#bmi1#</th>\n",
       "      <td>0.00</td>\n",
       "    </tr>\n",
       "    <tr>\n",
       "      <th>#bank1#</th>\n",
       "      <td>0.00</td>\n",
       "    </tr>\n",
       "    <tr>\n",
       "      <th>#smad5#</th>\n",
       "      <td>0.00</td>\n",
       "    </tr>\n",
       "    <tr>\n",
       "      <th>#rerg#</th>\n",
       "      <td>0.00</td>\n",
       "    </tr>\n",
       "    <tr>\n",
       "      <th>#chek1#</th>\n",
       "      <td>0.00</td>\n",
       "    </tr>\n",
       "    <tr>\n",
       "      <th>#pik3r2#</th>\n",
       "      <td>0.00</td>\n",
       "    </tr>\n",
       "    <tr>\n",
       "      <th>#igf1r#</th>\n",
       "      <td>0.00</td>\n",
       "    </tr>\n",
       "    <tr>\n",
       "      <th>#pdgfrb#</th>\n",
       "      <td>0.00</td>\n",
       "    </tr>\n",
       "    <tr>\n",
       "      <th>#dusp4#</th>\n",
       "      <td>0.00</td>\n",
       "    </tr>\n",
       "    <tr>\n",
       "      <th>#nova2#</th>\n",
       "      <td>0.00</td>\n",
       "    </tr>\n",
       "    <tr>\n",
       "      <th>#c1qbp#</th>\n",
       "      <td>0.00</td>\n",
       "    </tr>\n",
       "    <tr>\n",
       "      <th>#plxna2#</th>\n",
       "      <td>0.00</td>\n",
       "    </tr>\n",
       "    <tr>\n",
       "      <th>#fam129b#</th>\n",
       "      <td>0.00</td>\n",
       "    </tr>\n",
       "    <tr>\n",
       "      <th>#krit1#</th>\n",
       "      <td>0.00</td>\n",
       "    </tr>\n",
       "    <tr>\n",
       "      <th>#slc40a1#</th>\n",
       "      <td>0.00</td>\n",
       "    </tr>\n",
       "    <tr>\n",
       "      <th>#large1#</th>\n",
       "      <td>0.00</td>\n",
       "    </tr>\n",
       "  </tbody>\n",
       "</table>\n",
       "<p>108 rows × 1 columns</p>\n",
       "</div>"
      ],
      "text/plain": [
       "               0\n",
       "#ppp6c#     0.00\n",
       "#fh#        0.00\n",
       "#reck#      0.00\n",
       "#alb#       0.00\n",
       "#erbb2#     2.09\n",
       "#pik3ca#    0.86\n",
       "#slc7a1#    0.00\n",
       "#nrip3#     0.00\n",
       "#palb2#     0.00\n",
       "#exog#      0.00\n",
       "#msh6#      0.00\n",
       "#tox3#      0.00\n",
       "#vgf#       0.00\n",
       "#il36g#     0.00\n",
       "#sds#       0.00\n",
       "#krt19#     0.00\n",
       "#kalrn#     0.00\n",
       "#iv#        0.00\n",
       "#bcl2#      0.00\n",
       "#agfg1#     0.00\n",
       "#e2f1#      0.00\n",
       "#ms#        0.00\n",
       "#cd44#      0.00\n",
       "#si#        0.00\n",
       "#erbb3#     0.00\n",
       "#xs#        0.00\n",
       "#foxm1#     0.00\n",
       "#gaa#       1.33\n",
       "#cs#        0.00\n",
       "#tnip3#     0.00\n",
       "...          ...\n",
       "#hdac1#     0.00\n",
       "#fbxw7#     0.00\n",
       "#rps6kb1#   0.00\n",
       "#bmp7#      0.00\n",
       "#pik3r1#    0.00\n",
       "#kiaa1551#  0.00\n",
       "#limch1#    0.00\n",
       "#plcg1#     0.00\n",
       "#ugt3a1#    0.00\n",
       "#nodal#     0.00\n",
       "#cish#      0.00\n",
       "#sfrp2#     0.00\n",
       "#aicda#     0.00\n",
       "#pafah1b1#  0.00\n",
       "#bmi1#      0.00\n",
       "#bank1#     0.00\n",
       "#smad5#     0.00\n",
       "#rerg#      0.00\n",
       "#chek1#     0.00\n",
       "#pik3r2#    0.00\n",
       "#igf1r#     0.00\n",
       "#pdgfrb#    0.00\n",
       "#dusp4#     0.00\n",
       "#nova2#     0.00\n",
       "#c1qbp#     0.00\n",
       "#plxna2#    0.00\n",
       "#fam129b#   0.00\n",
       "#krit1#     0.00\n",
       "#slc40a1#   0.00\n",
       "#large1#    0.00\n",
       "\n",
       "[108 rows x 1 columns]"
      ]
     },
     "metadata": {},
     "output_type": "display_data"
    },
    {
     "data": {
      "text/html": [
       "<div>\n",
       "<table border=\"1\" class=\"dataframe\">\n",
       "  <thead>\n",
       "    <tr style=\"text-align: right;\">\n",
       "      <th></th>\n",
       "      <th>#afuresertib#</th>\n",
       "      <th>#akt inhibitor gsk2141795#</th>\n",
       "      <th>#akt inhibitor mk2206#</th>\n",
       "      <th>#alisertib#</th>\n",
       "      <th>#alpelisib#</th>\n",
       "      <th>#anastrozole#</th>\n",
       "      <th>#bevacizumab#</th>\n",
       "      <th>#binimetinib#</th>\n",
       "      <th>#broxuridine#</th>\n",
       "      <th>#buparlisib#</th>\n",
       "      <th>...</th>\n",
       "      <th>#sorafenib tosylate#</th>\n",
       "      <th>#tamoxifen#</th>\n",
       "      <th>#temsirolimus#</th>\n",
       "      <th>#thalidomide#</th>\n",
       "      <th>#trametinib#</th>\n",
       "      <th>#trans sodium crocetinate#</th>\n",
       "      <th>#trastuzumab#</th>\n",
       "      <th>#triciribine phosphate#</th>\n",
       "      <th>#vinorelbine#</th>\n",
       "      <th>#voxtalisib#</th>\n",
       "    </tr>\n",
       "  </thead>\n",
       "  <tbody>\n",
       "    <tr>\n",
       "      <th>0</th>\n",
       "      <td>0.0</td>\n",
       "      <td>0.0</td>\n",
       "      <td>0.0</td>\n",
       "      <td>0.0</td>\n",
       "      <td>0.0</td>\n",
       "      <td>0.0</td>\n",
       "      <td>0.44</td>\n",
       "      <td>0.0</td>\n",
       "      <td>0.0</td>\n",
       "      <td>0.06</td>\n",
       "      <td>...</td>\n",
       "      <td>0.44</td>\n",
       "      <td>0.13</td>\n",
       "      <td>0.44</td>\n",
       "      <td>0.44</td>\n",
       "      <td>0.0</td>\n",
       "      <td>0.0</td>\n",
       "      <td>0.36</td>\n",
       "      <td>0.06</td>\n",
       "      <td>0.0</td>\n",
       "      <td>0.0</td>\n",
       "    </tr>\n",
       "  </tbody>\n",
       "</table>\n",
       "<p>1 rows × 70 columns</p>\n",
       "</div>"
      ],
      "text/plain": [
       "   #afuresertib#  #akt inhibitor gsk2141795#  #akt inhibitor mk2206#  \\\n",
       "0            0.0                         0.0                     0.0   \n",
       "\n",
       "   #alisertib#  #alpelisib#  #anastrozole#  #bevacizumab#  #binimetinib#  \\\n",
       "0          0.0          0.0            0.0           0.44            0.0   \n",
       "\n",
       "   #broxuridine#  #buparlisib#      ...       #sorafenib tosylate#  \\\n",
       "0            0.0          0.06      ...                       0.44   \n",
       "\n",
       "   #tamoxifen#  #temsirolimus#  #thalidomide#  #trametinib#  \\\n",
       "0         0.13            0.44           0.44           0.0   \n",
       "\n",
       "   #trans sodium crocetinate#  #trastuzumab#  #triciribine phosphate#  \\\n",
       "0                         0.0           0.36                     0.06   \n",
       "\n",
       "   #vinorelbine#  #voxtalisib#  \n",
       "0            0.0           0.0  \n",
       "\n",
       "[1 rows x 70 columns]"
      ]
     },
     "metadata": {},
     "output_type": "display_data"
    }
   ],
   "source": [
    "W, H = (np.around(x,2) for x in (W,H))\n",
    "W = pd.DataFrame(W,index=test_genes)\n",
    "H = pd.DataFrame(H,columns=network_drugs.values())\n",
    "\n",
    "display(W) \n",
    "display(H)"
   ]
  },
  {
   "cell_type": "code",
   "execution_count": 33,
   "metadata": {
    "collapsed": true
   },
   "outputs": [],
   "source": [
    "test = resist_network_matrix.copy()"
   ]
  },
  {
   "cell_type": "code",
   "execution_count": 41,
   "metadata": {
    "collapsed": true
   },
   "outputs": [],
   "source": [
    "test2 = test.copy()"
   ]
  },
  {
   "cell_type": "code",
   "execution_count": 42,
   "metadata": {
    "collapsed": true
   },
   "outputs": [],
   "source": [
    "test2.data = np.log(test.data+1)"
   ]
  },
  {
   "cell_type": "code",
   "execution_count": 43,
   "metadata": {},
   "outputs": [
    {
     "name": "stdout",
     "output_type": "stream",
     "text": [
      "  (89, 6)\t0.69314718056\n",
      "  (93, 6)\t0.69314718056\n",
      "  (118, 6)\t0.69314718056\n",
      "  (184, 6)\t0.69314718056\n",
      "  (93, 9)\t0.69314718056\n",
      "  (220, 9)\t0.69314718056\n",
      "  (270, 9)\t0.69314718056\n",
      "  (89, 10)\t0.69314718056\n",
      "  (93, 10)\t0.69314718056\n",
      "  (118, 10)\t0.69314718056\n",
      "  (184, 10)\t0.69314718056\n",
      "  (89, 11)\t0.69314718056\n",
      "  (93, 11)\t0.69314718056\n",
      "  (118, 11)\t0.69314718056\n",
      "  (184, 11)\t0.69314718056\n",
      "  (89, 14)\t0.69314718056\n",
      "  (118, 14)\t0.69314718056\n",
      "  (184, 14)\t0.69314718056\n",
      "  (93, 14)\t1.09861228867\n",
      "  (220, 14)\t0.69314718056\n",
      "  (270, 14)\t0.69314718056\n",
      "  (93, 17)\t0.69314718056\n",
      "  (220, 17)\t0.69314718056\n",
      "  (270, 17)\t0.69314718056\n",
      "  (89, 18)\t0.69314718056\n",
      "  :\t:\n",
      "  (220, 61)\t0.69314718056\n",
      "  (240, 61)\t0.69314718056\n",
      "  (89, 62)\t0.69314718056\n",
      "  (93, 62)\t0.69314718056\n",
      "  (118, 62)\t0.69314718056\n",
      "  (184, 62)\t0.69314718056\n",
      "  (89, 63)\t0.69314718056\n",
      "  (93, 63)\t0.69314718056\n",
      "  (118, 63)\t0.69314718056\n",
      "  (184, 63)\t0.69314718056\n",
      "  (218, 66)\t0.69314718056\n",
      "  (308, 66)\t0.69314718056\n",
      "  (281, 66)\t0.69314718056\n",
      "  (270, 66)\t0.69314718056\n",
      "  (8, 66)\t0.69314718056\n",
      "  (234, 66)\t0.69314718056\n",
      "  (28, 66)\t1.09861228867\n",
      "  (220, 66)\t2.19722457734\n",
      "  (55, 66)\t1.79175946923\n",
      "  (240, 66)\t1.94591014906\n",
      "  (93, 66)\t2.7080502011\n",
      "  (93, 67)\t0.69314718056\n",
      "  (220, 67)\t0.69314718056\n",
      "  (270, 67)\t0.69314718056\n",
      "  (93, 68)\t0.69314718056\n"
     ]
    }
   ],
   "source": [
    "print(test2)"
   ]
  },
  {
   "cell_type": "code",
   "execution_count": 35,
   "metadata": {},
   "outputs": [
    {
     "data": {
      "text/plain": [
       "(array([ 89,  93, 118, 184,  93, 220, 270,  89,  93, 118, 184,  89,  93,\n",
       "        118, 184,  89, 118, 184,  93, 220, 270,  93, 220, 270,  89,  93,\n",
       "        118, 184,  89,  93, 118, 184,  89, 118, 184,  93, 220, 270,  89,\n",
       "         93, 118, 184,  89, 118, 184,  93, 220, 270,  89,  93, 118, 184,\n",
       "        240,  93, 220, 270,   8,  13, 184, 240, 220, 286,  88,  93,  89,\n",
       "         93, 118, 184,  55, 184,   8, 220,  58,  93, 240,  89,  93, 118,\n",
       "        184,   0, 167,  89,  93, 118, 184,  89, 118, 184,  93, 220, 270,\n",
       "         89,  93, 118, 184,  55, 240,  58,  93,  89,  93, 118, 184,  89,\n",
       "         93, 118, 184,  55,  38,  75, 285, 302,   8,  69,  93, 220, 240,\n",
       "         89,  93, 118, 184,  89,  93, 118, 184, 218, 308, 281, 270,   8,\n",
       "        234,  28, 220,  55, 240,  93,  93, 220, 270,  93], dtype=int32),\n",
       " array([ 6,  6,  6,  6,  9,  9,  9, 10, 10, 10, 10, 11, 11, 11, 11, 14, 14,\n",
       "        14, 14, 14, 14, 17, 17, 17, 18, 18, 18, 18, 22, 22, 22, 22, 23, 23,\n",
       "        23, 23, 23, 23, 25, 25, 25, 25, 26, 26, 26, 26, 26, 26, 28, 28, 28,\n",
       "        28, 30, 31, 31, 31, 35, 35, 35, 35, 35, 35, 35, 35, 36, 36, 36, 36,\n",
       "        37, 37, 37, 37, 37, 37, 37, 38, 38, 38, 38, 42, 42, 46, 46, 46, 46,\n",
       "        47, 47, 47, 47, 47, 47, 52, 52, 52, 52, 55, 55, 55, 55, 59, 59, 59,\n",
       "        59, 60, 60, 60, 60, 61, 61, 61, 61, 61, 61, 61, 61, 61, 61, 62, 62,\n",
       "        62, 62, 63, 63, 63, 63, 66, 66, 66, 66, 66, 66, 66, 66, 66, 66, 66,\n",
       "        67, 67, 67, 68], dtype=int32),\n",
       " array([ 1,  1,  1,  1,  1,  1,  1,  1,  1,  1,  1,  1,  1,  1,  1,  1,  1,\n",
       "         1,  2,  1,  1,  1,  1,  1,  1,  1,  1,  1,  1,  1,  1,  1,  1,  1,\n",
       "         1,  2,  1,  1,  1,  1,  1,  1,  1,  1,  1,  3,  1,  1,  1,  1,  1,\n",
       "         1,  1,  1,  1,  1,  1,  1,  1,  1,  2,  4,  2,  6,  1,  1,  1,  1,\n",
       "         1,  1,  4,  5,  1,  1,  4,  1,  1,  1,  1,  1,  1,  1,  1,  1,  1,\n",
       "         1,  1,  1,  2,  1,  1,  1,  1,  1,  1,  1,  1,  1,  2,  1,  1,  1,\n",
       "         1,  1,  1,  1,  1,  1,  1,  1,  1,  1,  1,  1,  1,  1,  1,  1,  1,\n",
       "         1,  1,  1,  1,  1,  1,  1,  1,  1,  1,  1,  1,  2,  8,  5,  6, 14,\n",
       "         1,  1,  1,  1], dtype=int64))"
      ]
     },
     "execution_count": 35,
     "metadata": {},
     "output_type": "execute_result"
    }
   ],
   "source": [
    "m.row, m.col, m.data"
   ]
  },
  {
   "cell_type": "code",
   "execution_count": 36,
   "metadata": {
    "collapsed": true
   },
   "outputs": [],
   "source": [
    "mat_df=pd.DataFrame({'gene_id':m.row, 'drug_id':m.col, 'data':m.data})"
   ]
  },
  {
   "cell_type": "code",
   "execution_count": 37,
   "metadata": {},
   "outputs": [
    {
     "data": {
      "text/html": [
       "<div>\n",
       "<table border=\"1\" class=\"dataframe\">\n",
       "  <thead>\n",
       "    <tr style=\"text-align: right;\">\n",
       "      <th></th>\n",
       "      <th>data</th>\n",
       "      <th>drug_id</th>\n",
       "      <th>gene_id</th>\n",
       "    </tr>\n",
       "  </thead>\n",
       "  <tbody>\n",
       "    <tr>\n",
       "      <th>0</th>\n",
       "      <td>1</td>\n",
       "      <td>6</td>\n",
       "      <td>89</td>\n",
       "    </tr>\n",
       "    <tr>\n",
       "      <th>1</th>\n",
       "      <td>1</td>\n",
       "      <td>6</td>\n",
       "      <td>93</td>\n",
       "    </tr>\n",
       "    <tr>\n",
       "      <th>2</th>\n",
       "      <td>1</td>\n",
       "      <td>6</td>\n",
       "      <td>118</td>\n",
       "    </tr>\n",
       "    <tr>\n",
       "      <th>3</th>\n",
       "      <td>1</td>\n",
       "      <td>6</td>\n",
       "      <td>184</td>\n",
       "    </tr>\n",
       "    <tr>\n",
       "      <th>4</th>\n",
       "      <td>1</td>\n",
       "      <td>9</td>\n",
       "      <td>93</td>\n",
       "    </tr>\n",
       "  </tbody>\n",
       "</table>\n",
       "</div>"
      ],
      "text/plain": [
       "   data  drug_id  gene_id\n",
       "0     1        6       89\n",
       "1     1        6       93\n",
       "2     1        6      118\n",
       "3     1        6      184\n",
       "4     1        9       93"
      ]
     },
     "execution_count": 37,
     "metadata": {},
     "output_type": "execute_result"
    }
   ],
   "source": [
    "mat_df.head()"
   ]
  },
  {
   "cell_type": "code",
   "execution_count": 38,
   "metadata": {
    "collapsed": true
   },
   "outputs": [],
   "source": [
    "mat_df['log_data'] = np.log(mat_df['data']+1)"
   ]
  },
  {
   "cell_type": "code",
   "execution_count": 39,
   "metadata": {},
   "outputs": [
    {
     "data": {
      "text/html": [
       "<div>\n",
       "<table border=\"1\" class=\"dataframe\">\n",
       "  <thead>\n",
       "    <tr style=\"text-align: right;\">\n",
       "      <th></th>\n",
       "      <th>data</th>\n",
       "      <th>drug_id</th>\n",
       "      <th>gene_id</th>\n",
       "      <th>log_data</th>\n",
       "    </tr>\n",
       "  </thead>\n",
       "  <tbody>\n",
       "    <tr>\n",
       "      <th>0</th>\n",
       "      <td>1</td>\n",
       "      <td>6</td>\n",
       "      <td>89</td>\n",
       "      <td>0.693147</td>\n",
       "    </tr>\n",
       "    <tr>\n",
       "      <th>1</th>\n",
       "      <td>1</td>\n",
       "      <td>6</td>\n",
       "      <td>93</td>\n",
       "      <td>0.693147</td>\n",
       "    </tr>\n",
       "    <tr>\n",
       "      <th>2</th>\n",
       "      <td>1</td>\n",
       "      <td>6</td>\n",
       "      <td>118</td>\n",
       "      <td>0.693147</td>\n",
       "    </tr>\n",
       "    <tr>\n",
       "      <th>3</th>\n",
       "      <td>1</td>\n",
       "      <td>6</td>\n",
       "      <td>184</td>\n",
       "      <td>0.693147</td>\n",
       "    </tr>\n",
       "    <tr>\n",
       "      <th>4</th>\n",
       "      <td>1</td>\n",
       "      <td>9</td>\n",
       "      <td>93</td>\n",
       "      <td>0.693147</td>\n",
       "    </tr>\n",
       "  </tbody>\n",
       "</table>\n",
       "</div>"
      ],
      "text/plain": [
       "   data  drug_id  gene_id  log_data\n",
       "0     1        6       89  0.693147\n",
       "1     1        6       93  0.693147\n",
       "2     1        6      118  0.693147\n",
       "3     1        6      184  0.693147\n",
       "4     1        9       93  0.693147"
      ]
     },
     "execution_count": 39,
     "metadata": {},
     "output_type": "execute_result"
    }
   ],
   "source": [
    "mat_df.head()"
   ]
  },
  {
   "cell_type": "code",
   "execution_count": 40,
   "metadata": {},
   "outputs": [
    {
     "ename": "ModuleNotFoundError",
     "evalue": "No module named 'py4j'",
     "output_type": "error",
     "traceback": [
      "\u001b[0;31m---------------------------------------------------------------------------\u001b[0m",
      "\u001b[0;31mModuleNotFoundError\u001b[0m                       Traceback (most recent call last)",
      "\u001b[0;32m<ipython-input-40-30426c51e95d>\u001b[0m in \u001b[0;36m<module>\u001b[0;34m()\u001b[0m\n\u001b[0;32m----> 1\u001b[0;31m \u001b[0;32mfrom\u001b[0m \u001b[0mpyspark\u001b[0m\u001b[0;34m.\u001b[0m\u001b[0msql\u001b[0m \u001b[0;32mimport\u001b[0m \u001b[0mSparkSession\u001b[0m\u001b[0;34m\u001b[0m\u001b[0m\n\u001b[0m",
      "\u001b[0;32m/usr/local/Cellar/apache-spark/2.2.0/libexec/python/pyspark/__init__.py\u001b[0m in \u001b[0;36m<module>\u001b[0;34m()\u001b[0m\n\u001b[1;32m     44\u001b[0m \u001b[0;34m\u001b[0m\u001b[0m\n\u001b[1;32m     45\u001b[0m \u001b[0;32mfrom\u001b[0m \u001b[0mpyspark\u001b[0m\u001b[0;34m.\u001b[0m\u001b[0mconf\u001b[0m \u001b[0;32mimport\u001b[0m \u001b[0mSparkConf\u001b[0m\u001b[0;34m\u001b[0m\u001b[0m\n\u001b[0;32m---> 46\u001b[0;31m \u001b[0;32mfrom\u001b[0m \u001b[0mpyspark\u001b[0m\u001b[0;34m.\u001b[0m\u001b[0mcontext\u001b[0m \u001b[0;32mimport\u001b[0m \u001b[0mSparkContext\u001b[0m\u001b[0;34m\u001b[0m\u001b[0m\n\u001b[0m\u001b[1;32m     47\u001b[0m \u001b[0;32mfrom\u001b[0m \u001b[0mpyspark\u001b[0m\u001b[0;34m.\u001b[0m\u001b[0mrdd\u001b[0m \u001b[0;32mimport\u001b[0m \u001b[0mRDD\u001b[0m\u001b[0;34m\u001b[0m\u001b[0m\n\u001b[1;32m     48\u001b[0m \u001b[0;32mfrom\u001b[0m \u001b[0mpyspark\u001b[0m\u001b[0;34m.\u001b[0m\u001b[0mfiles\u001b[0m \u001b[0;32mimport\u001b[0m \u001b[0mSparkFiles\u001b[0m\u001b[0;34m\u001b[0m\u001b[0m\n",
      "\u001b[0;32m/usr/local/Cellar/apache-spark/2.2.0/libexec/python/pyspark/context.py\u001b[0m in \u001b[0;36m<module>\u001b[0;34m()\u001b[0m\n\u001b[1;32m     27\u001b[0m \u001b[0;32mfrom\u001b[0m \u001b[0mtempfile\u001b[0m \u001b[0;32mimport\u001b[0m \u001b[0mNamedTemporaryFile\u001b[0m\u001b[0;34m\u001b[0m\u001b[0m\n\u001b[1;32m     28\u001b[0m \u001b[0;34m\u001b[0m\u001b[0m\n\u001b[0;32m---> 29\u001b[0;31m \u001b[0;32mfrom\u001b[0m \u001b[0mpy4j\u001b[0m\u001b[0;34m.\u001b[0m\u001b[0mprotocol\u001b[0m \u001b[0;32mimport\u001b[0m \u001b[0mPy4JError\u001b[0m\u001b[0;34m\u001b[0m\u001b[0m\n\u001b[0m\u001b[1;32m     30\u001b[0m \u001b[0;34m\u001b[0m\u001b[0m\n\u001b[1;32m     31\u001b[0m \u001b[0;32mfrom\u001b[0m \u001b[0mpyspark\u001b[0m \u001b[0;32mimport\u001b[0m \u001b[0maccumulators\u001b[0m\u001b[0;34m\u001b[0m\u001b[0m\n",
      "\u001b[0;31mModuleNotFoundError\u001b[0m: No module named 'py4j'"
     ]
    }
   ],
   "source": [
    "from pyspark.sql import SparkSession"
   ]
  },
  {
   "cell_type": "code",
   "execution_count": 43,
   "metadata": {},
   "outputs": [
    {
     "name": "stdout",
     "output_type": "stream",
     "text": [
      "Requirement already satisfied: py4j in /Users/ale/anaconda2/envs/py36/lib/python3.6/site-packages\r\n"
     ]
    }
   ],
   "source": [
    "!source activate py36 && pip install py4j"
   ]
  },
  {
   "cell_type": "code",
   "execution_count": 44,
   "metadata": {},
   "outputs": [
    {
     "name": "stdout",
     "output_type": "stream",
     "text": [
      "# conda environments:\r\n",
      "#\r\n",
      "py36                     /Users/ale/anaconda2/envs/py36\r\n",
      "root                  *  /Users/ale/anaconda2\r\n",
      "\r\n"
     ]
    }
   ],
   "source": [
    "! conda env list"
   ]
  },
  {
   "cell_type": "code",
   "execution_count": null,
   "metadata": {
    "collapsed": true
   },
   "outputs": [],
   "source": []
  },
  {
   "cell_type": "code",
   "execution_count": null,
   "metadata": {
    "collapsed": true
   },
   "outputs": [],
   "source": []
  },
  {
   "cell_type": "code",
   "execution_count": null,
   "metadata": {
    "collapsed": true
   },
   "outputs": [],
   "source": []
  },
  {
   "cell_type": "code",
   "execution_count": null,
   "metadata": {
    "collapsed": true
   },
   "outputs": [],
   "source": []
  },
  {
   "cell_type": "code",
   "execution_count": null,
   "metadata": {
    "collapsed": true
   },
   "outputs": [],
   "source": []
  },
  {
   "cell_type": "code",
   "execution_count": null,
   "metadata": {
    "collapsed": true
   },
   "outputs": [],
   "source": []
  },
  {
   "cell_type": "code",
   "execution_count": null,
   "metadata": {
    "collapsed": true
   },
   "outputs": [],
   "source": []
  },
  {
   "cell_type": "code",
   "execution_count": 329,
   "metadata": {
    "collapsed": true
   },
   "outputs": [],
   "source": [
    "data_frame_creator.write_pickle('inverse_network_drugs.pickle', inverse_network_drugs)"
   ]
  },
  {
   "cell_type": "code",
   "execution_count": 98,
   "metadata": {
    "collapsed": true
   },
   "outputs": [],
   "source": [
    "def process_genes():\n",
    "    genes = input('For what genes would you like to get drug interaction information? ')\n",
    "    gene_list=genes.split(', ')\n",
    "    processed_gene_list = []\n",
    "    for id in gene_list:\n",
    "        try: \n",
    "            gene_dict[id]\n",
    "            processed_gene_list.append(gene_dict[id])\n",
    "        except KeyError:\n",
    "            print(\"Gene: {} not in list\".format(id)) \n",
    "    return processed_gene_list"
   ]
  },
  {
   "cell_type": "code",
   "execution_count": 99,
   "metadata": {
    "collapsed": true
   },
   "outputs": [],
   "source": [
    "inverse_network_genes = dict((v, k) for k, v in network_genes.items())"
   ]
  },
  {
   "cell_type": "code",
   "execution_count": 100,
   "metadata": {
    "collapsed": true
   },
   "outputs": [],
   "source": [
    "inverse_network_drugs = dict((v, k) for k, v in network_drugs.items())"
   ]
  },
  {
   "cell_type": "code",
   "execution_count": 101,
   "metadata": {
    "scrolled": true
   },
   "outputs": [
    {
     "data": {
      "text/plain": [
       "8"
      ]
     },
     "execution_count": 101,
     "metadata": {},
     "output_type": "execute_result"
    }
   ],
   "source": [
    "inverse_network_genes['#akt1#']"
   ]
  },
  {
   "cell_type": "code",
   "execution_count": 102,
   "metadata": {},
   "outputs": [
    {
     "data": {
      "text/plain": [
       "66"
      ]
     },
     "execution_count": 102,
     "metadata": {},
     "output_type": "execute_result"
    }
   ],
   "source": [
    "inverse_network_drugs['#trastuzumab#']"
   ]
  },
  {
   "cell_type": "code",
   "execution_count": 331,
   "metadata": {},
   "outputs": [],
   "source": [
    "import graph_maker"
   ]
  },
  {
   "cell_type": "code",
   "execution_count": 336,
   "metadata": {},
   "outputs": [
    {
     "name": "stderr",
     "output_type": "stream",
     "text": [
      "[autoreload of graph_maker failed: Traceback (most recent call last):\n",
      "  File \"/Users/ale/anaconda3/lib/python3.6/site-packages/IPython/extensions/autoreload.py\", line 247, in check\n",
      "    superreload(m, reload, self.old_objects)\n",
      "NameError: name 'test_matrix_r' is not defined\n",
      "]\n"
     ]
    },
    {
     "name": "stdout",
     "output_type": "stream",
     "text": [
      "For what genes would you like to get drug interaction information? akt1, mtor\n",
      "if you are interested on drug resistance evidence press \"r\"if you are interested on drug resistance evidence press \"s\"if you are interested on general interactions press \"g\" if you are interested on all of above interactions press \"a\" r\n"
     ]
    },
    {
     "ename": "NameError",
     "evalue": "name 'resist_network_matrix' is not defined",
     "output_type": "error",
     "traceback": [
      "\u001b[0;31m---------------------------------------------------------------------------\u001b[0m",
      "\u001b[0;31mNameError\u001b[0m                                 Traceback (most recent call last)",
      "\u001b[0;32m<ipython-input-336-52eb6120a688>\u001b[0m in \u001b[0;36m<module>\u001b[0;34m()\u001b[0m\n\u001b[0;32m----> 1\u001b[0;31m \u001b[0mgraph_maker\u001b[0m\u001b[0;34m.\u001b[0m\u001b[0mget_user_input\u001b[0m\u001b[0;34m(\u001b[0m\u001b[0;34m)\u001b[0m\u001b[0;34m\u001b[0m\u001b[0m\n\u001b[0m",
      "\u001b[0;32m/Users/ale/Dropbox (Yadlin Family)/galvanize/capstone/graph_maker.py\u001b[0m in \u001b[0;36mget_user_input\u001b[0;34m()\u001b[0m\n\u001b[1;32m     82\u001b[0m     \u001b[0minteraction_list\u001b[0m \u001b[0;34m=\u001b[0m\u001b[0;34m[\u001b[0m\u001b[0;34m]\u001b[0m\u001b[0;34m\u001b[0m\u001b[0m\n\u001b[1;32m     83\u001b[0m     \u001b[0;32mif\u001b[0m \u001b[0mkind\u001b[0m \u001b[0;34m==\u001b[0m \u001b[0;34m'r'\u001b[0m \u001b[0;32mor\u001b[0m \u001b[0mkind\u001b[0m \u001b[0;34m==\u001b[0m\u001b[0;34m'R'\u001b[0m\u001b[0;34m:\u001b[0m\u001b[0;34m\u001b[0m\u001b[0m\n\u001b[0;32m---> 84\u001b[0;31m         \u001b[0mX\u001b[0m \u001b[0;34m=\u001b[0m \u001b[0mresist_network_matrix\u001b[0m\u001b[0;34m\u001b[0m\u001b[0m\n\u001b[0m\u001b[1;32m     85\u001b[0m         \u001b[0mresistant_dict\u001b[0m \u001b[0;34m=\u001b[0m \u001b[0mextract_gene_drug_interaction\u001b[0m\u001b[0;34m(\u001b[0m\u001b[0mX\u001b[0m\u001b[0;34m,\u001b[0m\u001b[0mgenes_list\u001b[0m\u001b[0;34m)\u001b[0m\u001b[0;34m\u001b[0m\u001b[0m\n\u001b[1;32m     86\u001b[0m         \u001b[0minteraction_list\u001b[0m\u001b[0;34m.\u001b[0m\u001b[0mappend\u001b[0m\u001b[0;34m(\u001b[0m\u001b[0mresistant_dict\u001b[0m\u001b[0;34m)\u001b[0m\u001b[0;34m\u001b[0m\u001b[0m\n",
      "\u001b[0;31mNameError\u001b[0m: name 'resist_network_matrix' is not defined"
     ]
    }
   ],
   "source": [
    "graph_maker.get_user_input()"
   ]
  },
  {
   "cell_type": "code",
   "execution_count": null,
   "metadata": {
    "collapsed": true
   },
   "outputs": [],
   "source": []
  },
  {
   "cell_type": "code",
   "execution_count": null,
   "metadata": {
    "collapsed": true
   },
   "outputs": [],
   "source": []
  },
  {
   "cell_type": "code",
   "execution_count": null,
   "metadata": {
    "collapsed": true
   },
   "outputs": [],
   "source": []
  },
  {
   "cell_type": "code",
   "execution_count": null,
   "metadata": {
    "collapsed": true
   },
   "outputs": [],
   "source": []
  },
  {
   "cell_type": "code",
   "execution_count": null,
   "metadata": {
    "collapsed": true
   },
   "outputs": [],
   "source": []
  },
  {
   "cell_type": "code",
   "execution_count": 239,
   "metadata": {},
   "outputs": [],
   "source": [
    "def extract_gene_drug_interaction(X,genes_list):\n",
    "\n",
    "    interaction_dict={}\n",
    "    genes =[]\n",
    "    for gene in genes_list:\n",
    "        multiplier = np.zeros((X.shape[0],1))\n",
    "        idx = inverse_network_genes[gene]\n",
    "        multiplier[idx]=1\n",
    "        value = X.T.dot(multiplier) \n",
    "        drug_idx = value.nonzero()[0]\n",
    "        if sum(value) == 0:\n",
    "            print('\\n no drug interactions with gene {} were found in our database'.format(gene))\n",
    "        else:\n",
    "            #interaction_dict[gene] = value\n",
    "            drug_idx = value.nonzero()[0]\n",
    "            for idx in drug_idx:\n",
    "                interaction_dict[gene, network_drugs[idx]]=value[idx,0]\n",
    "            genes.append(gene)\n",
    "    print('\\nthese are the genes for which interactions with drugs were found:',genes )\n",
    "    return interaction_dict\n",
    "            \n",
    "            \n",
    "        \n",
    "        \n",
    "        "
   ]
  },
  {
   "cell_type": "code",
   "execution_count": 261,
   "metadata": {},
   "outputs": [],
   "source": [
    "def get_user_input():    \n",
    "    genes_list = process_genes()\n",
    "    kind = input('if you are interested on drug resistance evidence press \"r\"' \n",
    "                'if you are interested on drug resistance evidence press \"s\"' \n",
    "                 'if you are interested on general interactions press \"g\" '\n",
    "                'if you are interested on all of above interactions press \"a\" ')\n",
    "    interaction_list =[]\n",
    "    if kind == 'r' or kind =='R':\n",
    "        X = resist_network_matrix\n",
    "        resistant_dict = extract_gene_drug_interaction(X,genes_list)\n",
    "        interaction_list.append(resistant_dict) \n",
    "    elif kind == 's' or kind =='S':\n",
    "        X = sensit_network_matrix\n",
    "        sensitive_dict = extract_gene_drug_interaction(X,genes_list)\n",
    "        interaction_list.append(sensitive_dict)    \n",
    "    elif kind == 'g' or kind =='G':\n",
    "        X = all_network_matrix\n",
    "        sensitive_dict = extract_gene_drug_interaction(X,genes_list)\n",
    "        interaction_list.append(sensitive_dict)\n",
    "    else:\n",
    "        X = all_network_matrix\n",
    "        interaction_dict = extract_gene_drug_interaction(X,genes_list)\n",
    "        interaction_list.append(interaction_dict)\n",
    "        X = resist_network_matrix\n",
    "        resistant_dict = extract_gene_drug_interaction(X,genes_list)\n",
    "        interaction_list.append(resistant_dict)\n",
    "        X = sensit_network_matrix\n",
    "        sensitive_dict = extract_gene_drug_interaction(X,genes_list)\n",
    "        interaction_list.append(sensitive_dict)  \n",
    "    return interaction_list"
   ]
  },
  {
   "cell_type": "code",
   "execution_count": 262,
   "metadata": {},
   "outputs": [
    {
     "name": "stdout",
     "output_type": "stream",
     "text": [
      "For what genes would you like to get drug interaction information? akt, mtor\n",
      "if you are interested on drug resistance evidence press \"r\"if you are interested on drug resistance evidence press \"s\"if you are interested on general interactions press \"g\" if you are interested on all of above interactions press \"a\" a\n",
      "\n",
      "these are the genes for which interactions with drugs were found: ['#akt1#', '#mtor#']\n",
      "\n",
      "these are the genes for which interactions with drugs were found: ['#akt1#', '#mtor#']\n",
      "\n",
      "these are the genes for which interactions with drugs were found: ['#akt1#', '#mtor#']\n"
     ]
    }
   ],
   "source": [
    "b=get_user_input()"
   ]
  },
  {
   "cell_type": "code",
   "execution_count": 263,
   "metadata": {},
   "outputs": [
    {
     "data": {
      "text/plain": [
       "[{('#akt1#', '#afuresertib#'): 1.0,\n",
       "  ('#akt1#', '#akt inhibitor gsk2141795#'): 1.0,\n",
       "  ('#akt1#', '#akt inhibitor mk2206#'): 3.0,\n",
       "  ('#akt1#', '#bevacizumab#'): 1.0,\n",
       "  ('#akt1#', '#binimetinib#'): 1.0,\n",
       "  ('#akt1#', '#buparlisib#'): 3.0,\n",
       "  ('#akt1#', '#capecitabine#'): 1.0,\n",
       "  ('#akt1#', '#carboplatin#'): 1.0,\n",
       "  ('#akt1#', '#cisplatin#'): 2.0,\n",
       "  ('#akt1#', '#cyclophosphamide#'): 2.0,\n",
       "  ('#akt1#', '#docetaxel#'): 1.0,\n",
       "  ('#akt1#', '#doxorubicin#'): 1.0,\n",
       "  ('#akt1#', '#everolimus#'): 3.0,\n",
       "  ('#akt1#', '#exemestane#'): 2.0,\n",
       "  ('#akt1#', '#gemcitabine#'): 1.0,\n",
       "  ('#akt1#', '#lapatinib#'): 3.0,\n",
       "  ('#akt1#', '#letrozole#'): 8.0,\n",
       "  ('#akt1#', '#mtor kinase inhibitor cc-223#'): 1.0,\n",
       "  ('#akt1#', '#paclitaxel#'): 7.0,\n",
       "  ('#akt1#', '#perifosine#'): 1.0,\n",
       "  ('#akt1#', '#pertuzumab#'): 1.0,\n",
       "  ('#akt1#', '#pi3k/mtor inhibitor bez235#'): 2.0,\n",
       "  ('#akt1#', '#recombinant interleukin-6#'): 1.0,\n",
       "  ('#akt1#', '#ribociclib#'): 1.0,\n",
       "  ('#akt1#', '#tamoxifen#'): 1.0,\n",
       "  ('#akt1#', '#temsirolimus#'): 2.0,\n",
       "  ('#akt1#', '#trametinib#'): 1.0,\n",
       "  ('#akt1#', '#trans sodium crocetinate#'): 2.0,\n",
       "  ('#akt1#', '#trastuzumab#'): 4.0,\n",
       "  ('#akt1#', '#triciribine phosphate#'): 1.0,\n",
       "  ('#akt1#', '#vinorelbine#'): 2.0,\n",
       "  ('#mtor#', '#afuresertib#'): 1.0,\n",
       "  ('#mtor#', '#akt inhibitor gsk2141795#'): 1.0,\n",
       "  ('#mtor#', '#akt inhibitor mk2206#'): 1.0,\n",
       "  ('#mtor#', '#bevacizumab#'): 1.0,\n",
       "  ('#mtor#', '#binimetinib#'): 2.0,\n",
       "  ('#mtor#', '#buparlisib#'): 3.0,\n",
       "  ('#mtor#', '#capecitabine#'): 1.0,\n",
       "  ('#mtor#', '#carbendazim#'): 1.0,\n",
       "  ('#mtor#', '#carboplatin#'): 1.0,\n",
       "  ('#mtor#', '#cisplatin#'): 2.0,\n",
       "  ('#mtor#', '#cixutumumab#'): 1.0,\n",
       "  ('#mtor#', '#clofarabine#'): 1.0,\n",
       "  ('#mtor#', '#cyclophosphamide#'): 1.0,\n",
       "  ('#mtor#', '#dacarbazine#'): 1.0,\n",
       "  ('#mtor#', '#dalotuzumab#'): 1.0,\n",
       "  ('#mtor#', '#docetaxel#'): 1.0,\n",
       "  ('#mtor#', '#doxorubicin#'): 1.0,\n",
       "  ('#mtor#', '#erlotinib#'): 2.0,\n",
       "  ('#mtor#', '#everolimus#'): 8.0,\n",
       "  ('#mtor#', '#exemestane#'): 1.0,\n",
       "  ('#mtor#', '#fluorouracil#'): 1.0,\n",
       "  ('#mtor#', '#lapatinib#'): 2.0,\n",
       "  ('#mtor#', '#lenalidomide#'): 1.0,\n",
       "  ('#mtor#', '#letrozole#'): 3.0,\n",
       "  ('#mtor#', '#leucovorin calcium#'): 1.0,\n",
       "  ('#mtor#', '#mtor kinase inhibitor cc-223#'): 2.0,\n",
       "  ('#mtor#', '#oxaliplatin#'): 1.0,\n",
       "  ('#mtor#', '#paclitaxel#'): 2.0,\n",
       "  ('#mtor#', '#pertuzumab#'): 2.0,\n",
       "  ('#mtor#', '#pi3k/mtor inhibitor bez235#'): 4.0,\n",
       "  ('#mtor#', '#ridaforolimus#'): 1.0,\n",
       "  ('#mtor#', '#selumetinib#'): 1.0,\n",
       "  ('#mtor#', '#sorafenib tosylate#'): 1.0,\n",
       "  ('#mtor#', '#temsirolimus#'): 6.0,\n",
       "  ('#mtor#', '#thalidomide#'): 1.0,\n",
       "  ('#mtor#', '#trametinib#'): 1.0,\n",
       "  ('#mtor#', '#trastuzumab#'): 3.0,\n",
       "  ('#mtor#', '#vinorelbine#'): 4.0,\n",
       "  ('#mtor#', '#voxtalisib#'): 1.0},\n",
       " {('#akt1#', '#lapatinib#'): 1.0,\n",
       "  ('#akt1#', '#letrozole#'): 4.0,\n",
       "  ('#akt1#', '#tamoxifen#'): 1.0,\n",
       "  ('#akt1#', '#trastuzumab#'): 1.0,\n",
       "  ('#mtor#', '#bevacizumab#'): 1.0,\n",
       "  ('#mtor#', '#capecitabine#'): 1.0,\n",
       "  ('#mtor#', '#carbendazim#'): 1.0,\n",
       "  ('#mtor#', '#cisplatin#'): 1.0,\n",
       "  ('#mtor#', '#dacarbazine#'): 1.0,\n",
       "  ('#mtor#', '#docetaxel#'): 1.0,\n",
       "  ('#mtor#', '#doxorubicin#'): 1.0,\n",
       "  ('#mtor#', '#erlotinib#'): 1.0,\n",
       "  ('#mtor#', '#everolimus#'): 1.0,\n",
       "  ('#mtor#', '#fluorouracil#'): 1.0,\n",
       "  ('#mtor#', '#lapatinib#'): 1.0,\n",
       "  ('#mtor#', '#lenalidomide#'): 1.0,\n",
       "  ('#mtor#', '#letrozole#'): 1.0,\n",
       "  ('#mtor#', '#leucovorin calcium#'): 1.0,\n",
       "  ('#mtor#', '#oxaliplatin#'): 1.0,\n",
       "  ('#mtor#', '#paclitaxel#'): 1.0,\n",
       "  ('#mtor#', '#pi3k/mtor inhibitor bez235#'): 1.0,\n",
       "  ('#mtor#', '#selumetinib#'): 1.0,\n",
       "  ('#mtor#', '#sorafenib tosylate#'): 1.0,\n",
       "  ('#mtor#', '#temsirolimus#'): 1.0,\n",
       "  ('#mtor#', '#thalidomide#'): 1.0},\n",
       " {('#akt1#', '#tamoxifen#'): 1.0,\n",
       "  ('#mtor#', '#everolimus#'): 1.0,\n",
       "  ('#mtor#', '#lapatinib#'): 1.0,\n",
       "  ('#mtor#', '#mtor kinase inhibitor cc-223#'): 1.0}]"
      ]
     },
     "execution_count": 263,
     "metadata": {},
     "output_type": "execute_result"
    }
   ],
   "source": [
    "b"
   ]
  },
  {
   "cell_type": "code",
   "execution_count": null,
   "metadata": {
    "collapsed": true
   },
   "outputs": [],
   "source": []
  },
  {
   "cell_type": "code",
   "execution_count": null,
   "metadata": {
    "collapsed": true
   },
   "outputs": [],
   "source": []
  },
  {
   "cell_type": "code",
   "execution_count": 243,
   "metadata": {
    "collapsed": true
   },
   "outputs": [],
   "source": [
    "def gene_or_drug(vocabulary):\n",
    "    gene_or_drug={}\n",
    "    for item in vocabulary:\n",
    "        if item in gene_values:\n",
    "            gene_or_drug[item]='gene'\n",
    "        if item in drug_values:\n",
    "            gene_or_drug[item]='drug'\n",
    "    return gene_or_drug"
   ]
  },
  {
   "cell_type": "code",
   "execution_count": 244,
   "metadata": {
    "collapsed": true
   },
   "outputs": [],
   "source": [
    "dg=gene_or_drug(vocab_columns)"
   ]
  },
  {
   "cell_type": "code",
   "execution_count": 245,
   "metadata": {},
   "outputs": [
    {
     "data": {
      "text/plain": [
       "'drug'"
      ]
     },
     "execution_count": 245,
     "metadata": {},
     "output_type": "execute_result"
    }
   ],
   "source": [
    "dg['#lapatinib#']"
   ]
  },
  {
   "cell_type": "code",
   "execution_count": 246,
   "metadata": {},
   "outputs": [
    {
     "data": {
      "text/plain": [
       "1"
      ]
     },
     "execution_count": 246,
     "metadata": {},
     "output_type": "execute_result"
    }
   ],
   "source": [
    "len(b)"
   ]
  },
  {
   "cell_type": "code",
   "execution_count": 247,
   "metadata": {
    "collapsed": true
   },
   "outputs": [],
   "source": [
    "import networkx as nx"
   ]
  },
  {
   "cell_type": "code",
   "execution_count": 322,
   "metadata": {},
   "outputs": [],
   "source": [
    "def make_display_network(lst):\n",
    "     \n",
    "    \n",
    "    if len(lst) ==1:\n",
    "        G=nx.Graph()\n",
    "        for (gene,drug), weight in lst[0].items():\n",
    "            G.add_edge(gene[1:-1],drug[1:-1],weight=weight)\n",
    "        weights = list(np.array(list(lst[0].values())))\n",
    "        gene_nodes = get_node_set(G.edges)[0]\n",
    "        drug_nodes = get_node_set(G.edges)[1]\n",
    "        plt.figure(1,figsize=(12,12))\n",
    "        G = draw_graph(G, gene_nodes, drug_nodes, weights, style='solid')\n",
    "        plt.axis('off')\n",
    "        plt.savefig(\"weighted_graph.png\") # save as png\n",
    "        plt.show() # display\n",
    "        Graphs = G\n",
    "\n",
    "\n",
    "\n",
    "\n",
    "    \n",
    "    \n",
    "        \n",
    "    if len(lst) == 3:\n",
    "        G1=nx.Graph()\n",
    "        G2=nx.Graph()\n",
    "        G3=nx.Graph()\n",
    "        for (gene,drug), weight in lst[0].items():\n",
    "            G1.add_edge(gene[1:-1],drug[1:-1],weight=weight)\n",
    "        weights_1 = list(np.array(list(lst[0].values())))\n",
    "        gene_nodes_1 = get_node_set(G1.edges)[0]\n",
    "        drug_nodes_1 = get_node_set(G1.edges)[1]\n",
    "        for (gene,drug), weight in lst[1].items():\n",
    "            G2.add_edge(gene[1:-1],drug[1:-1],weight=weight)\n",
    "        weights_2 = list(np.array(list(lst[1].values())))\n",
    "        gene_nodes_2 = get_node_set(G2.edges)[0]\n",
    "        drug_nodes_2 = get_node_set(G2.edges)[1] \n",
    "        for (gene,drug), weight in lst[2].items():\n",
    "            G3.add_edge(gene[1:-1],drug[1:-1],weight=weight)\n",
    "        weights_3 = list(np.array(list(lst[2].values())))\n",
    "        gene_nodes_3 = get_node_set(G3.edges)[0]\n",
    "        drug_nodes_3 = get_node_set(G3.edges)[1] \n",
    "        \n",
    "        #for edge in list(G2.edges):\n",
    "        #    if edge in list(G1.edges):\n",
    "        #        G1.remove_edge(edge)\n",
    "        #for edge in G3.edges:\n",
    "        #    if edge in G1.edges:\n",
    "        #        G1.remove_edge(edge)\n",
    "        plt.figure(1,figsize=(12,12)) \n",
    "    \n",
    "        G1 = draw_graph(G1, gene_nodes_1, drug_nodes_1, weights_1, style='dotted')\n",
    "        G2 = draw_graph(G2, gene_nodes_2, drug_nodes_2, weights_2, style='dashed')\n",
    "        G3 = draw_graph(G3, gene_nodes_3, drug_nodes_3, weights_3, style='solid')\n",
    "        Graphs = [G1, G2, G3]\n",
    "    \n",
    "        plt.axis('off')\n",
    "        plt.savefig(\"weighted_graph.png\") # save as png\n",
    "        plt.show() # display\n",
    "        \n",
    "    return Graphs\n",
    "        \n"
   ]
  },
  {
   "cell_type": "code",
   "execution_count": 325,
   "metadata": {},
   "outputs": [],
   "source": [
    "def draw_graph(G, gene_nodes, drug_nodes, weights, style='solid'):\n",
    "    pos=nx.spring_layout(G) # positions for all nodes\n",
    "    plt.figure(1,figsize=(12,12)) \n",
    "    nx.draw_networkx_nodes(G,pos,nodelist=gene_nodes,node_shape='s', node_color = 'gold', node_size = 2000)\n",
    "    nx.draw_networkx_nodes(G,pos,nodelist=drug_nodes,node_shape='o', node_color = 'deepskyblue', node_size = 1000)\n",
    "        #nx.draw_networkx_edges(G,pos)\n",
    "    nx.draw_networkx_edges(G, pos, edgelist=G.edges(), edge_color=weights, width=5.0, edge_cmap=plt.cm.coolwarm, style = style)\n",
    "        #plt.savefig('edges.png')\n",
    "        # labels\n",
    "    nx.draw_networkx_labels(G,pos,font_size=10,font_family='arial')\n",
    "    plt.axis('off')\n",
    "    #plt.savefig(\"weighted_graph.png\") # save as png\n",
    "    #plt.show() # display\n",
    "    return G"
   ]
  },
  {
   "cell_type": "code",
   "execution_count": 326,
   "metadata": {},
   "outputs": [
    {
     "data": {
      "text/plain": [
       "[<networkx.classes.graph.Graph at 0x124c58470>,\n",
       " <networkx.classes.graph.Graph at 0x124c58eb8>,\n",
       " <networkx.classes.graph.Graph at 0x124e92c18>]"
      ]
     },
     "execution_count": 326,
     "metadata": {},
     "output_type": "execute_result"
    },
    {
     "data": {
      "image/png": "[encoded data removed]",
      "text/plain": [
       "<matplotlib.figure.Figure at 0x125e80d30>"
      ]
     },
     "metadata": {},
     "output_type": "display_data"
    }
   ],
   "source": [
    "make_network(b)"
   ]
  },
  {
   "cell_type": "code",
   "execution_count": 157,
   "metadata": {
    "collapsed": true
   },
   "outputs": [],
   "source": [
    "G=nx.Graph()"
   ]
  },
  {
   "cell_type": "code",
   "execution_count": 158,
   "metadata": {},
   "outputs": [],
   "source": [
    "for (gene,drug), weight in b[0].items():\n",
    "    #print(gene[1:-1],drug[1:-1],weight)\n",
    "    G.add_edge(gene[1:-1],drug[1:-1],weight=weight)\n",
    "    "
   ]
  },
  {
   "cell_type": "code",
   "execution_count": 204,
   "metadata": {},
   "outputs": [],
   "source": [
    "def get_node_set(edges):\n",
    "    node_set=set()\n",
    "    for node in edges():\n",
    "        node_set.update(node)\n",
    "    gene_nodes = []\n",
    "    drug_nodes = []\n",
    "    for item in list(node_set):\n",
    "    #print(item)\n",
    "        if dg['#'+item+'#']=='gene':\n",
    "            gene_nodes.append(item)\n",
    "        if dg['#'+item+'#']=='drug': \n",
    "            drug_nodes.append(item)\n",
    "    return [gene_nodes, drug_nodes]"
   ]
  },
  {
   "cell_type": "code",
   "execution_count": 160,
   "metadata": {
    "collapsed": true
   },
   "outputs": [],
   "source": [
    "elarge=[(u,v) for (u,v,d) in G.edges(data=True) if d['weight'] >1]\n",
    "esmall=[(u,v) for (u,v,d) in G.edges(data=True) if d['weight'] <=1]"
   ]
  },
  {
   "cell_type": "code",
   "execution_count": 161,
   "metadata": {},
   "outputs": [],
   "source": [
    "weights = list(np.array(list(b[0].values()))*1)"
   ]
  },
  {
   "cell_type": "code",
   "execution_count": 162,
   "metadata": {},
   "outputs": [
    {
     "name": "stdout",
     "output_type": "stream",
     "text": [
      "lapatinib\n",
      "tamoxifen\n",
      "letrozole\n",
      "akt1\n",
      "trastuzumab\n"
     ]
    },
    {
     "data": {
      "text/plain": [
       "['lapatinib', 'tamoxifen', 'letrozole', 'trastuzumab']"
      ]
     },
     "execution_count": 162,
     "metadata": {},
     "output_type": "execute_result"
    }
   ],
   "source": [
    "gene_nodes = []\n",
    "drug_nodes = []\n",
    "for item in node_set:\n",
    "    print(item)\n",
    "    if dg['#'+item+'#']=='gene':\n",
    "        gene_nodes.append(item)\n",
    "    if dg['#'+item+'#']=='drug': \n",
    "        drug_nodes.append(item)\n",
    "\n",
    "drug_nodes"
   ]
  },
  {
   "cell_type": "code",
   "execution_count": 163,
   "metadata": {
    "scrolled": true
   },
   "outputs": [
    {
     "data": {
      "image/png": "[encoded data removed]",
      "text/plain": [
       "<matplotlib.figure.Figure at 0x1245df518>"
      ]
     },
     "metadata": {},
     "output_type": "display_data"
    }
   ],
   "source": [
    "pos=nx.shell_layout(G) # positions for all nodes\n",
    "plt.figure(1,figsize=(12,12)) \n",
    "# nodes\n",
    "#nx.draw_networkx_nodes(G,pos,node_size=700)\n",
    "\n",
    "# edges\n",
    "#nx.draw_networkx_edges(G,pos,edgelist=elarge,\n",
    "#                    width=6)\n",
    "#nx.draw_networkx_edges(G,pos,edgelist=esmall,\n",
    "#                    width=6,alpha=0.5,edge_color='b',style='dashed')\n",
    "\n",
    "\n",
    "nx.draw_networkx_nodes(G,pos,nodelist=gene_nodes,node_shape='s', node_color = 'gold', node_size = 2000)\n",
    "nx.draw_networkx_nodes(G,pos,nodelist=drug_nodes,node_shape='o', node_color = 'deepskyblue', node_size = 1000)\n",
    "#nx.draw_networkx_edges(G,pos)\n",
    "\n",
    "nx.draw_networkx_edges(G, pos, edgelist=G.edges(), edge_color=weights, width=5.0, edge_cmap=plt.cm.coolwarm)\n",
    "#plt.savefig('edges.png')\n",
    "\n",
    "\n",
    "\n",
    "\n",
    "\n",
    "# labels\n",
    "nx.draw_networkx_labels(G,pos,font_size=10,font_family='arial')\n",
    "\n",
    "plt.axis('off')\n",
    "plt.savefig(\"weighted_graph.png\") # save as png\n",
    "plt.show() # display"
   ]
  },
  {
   "cell_type": "code",
   "execution_count": 211,
   "metadata": {},
   "outputs": [
    {
     "data": {
      "text/plain": [
       "{}"
      ]
     },
     "execution_count": 211,
     "metadata": {},
     "output_type": "execute_result"
    }
   ],
   "source": [
    "nx.get_edge_attributes(G,'color')"
   ]
  },
  {
   "cell_type": "code",
   "execution_count": null,
   "metadata": {
    "collapsed": true
   },
   "outputs": [],
   "source": []
  }
 ],
 "metadata": {
  "kernelspec": {
   "display_name": "Python 3",
   "language": "python",
   "name": "python3"
  },
  "language_info": {
   "codemirror_mode": {
    "name": "ipython",
    "version": 3
   },
   "file_extension": ".py",
   "mimetype": "text/x-python",
   "name": "python",
   "nbconvert_exporter": "python",
   "pygments_lexer": "ipython3",
   "version": "3.6.0"
  }
 },
 "nbformat": 4,
 "nbformat_minor": 2
}
